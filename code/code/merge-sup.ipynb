{
 "cells": [
  {
   "cell_type": "code",
   "execution_count": 1,
   "id": "f645973d",
   "metadata": {},
   "outputs": [],
   "source": [
    "import pandas as pd"
   ]
  },
  {
   "cell_type": "code",
   "execution_count": 2,
   "id": "7332ab39",
   "metadata": {},
   "outputs": [],
   "source": [
    "df = pd.read_csv(\"../data/superficie.csv\")\n",
    "iq=pd.read_csv(\"../data/IQ_pays.csv\")"
   ]
  },
  {
   "cell_type": "code",
   "execution_count": 3,
   "id": "e1e8dfff",
   "metadata": {},
   "outputs": [
    {
     "data": {
      "text/html": [
       "<div>\n",
       "<style scoped>\n",
       "    .dataframe tbody tr th:only-of-type {\n",
       "        vertical-align: middle;\n",
       "    }\n",
       "\n",
       "    .dataframe tbody tr th {\n",
       "        vertical-align: top;\n",
       "    }\n",
       "\n",
       "    .dataframe thead th {\n",
       "        text-align: right;\n",
       "    }\n",
       "</style>\n",
       "<table border=\"1\" class=\"dataframe\">\n",
       "  <thead>\n",
       "    <tr style=\"text-align: right;\">\n",
       "      <th></th>\n",
       "      <th>Pays</th>\n",
       "      <th>Superficie</th>\n",
       "      <th>Superficie_edited</th>\n",
       "    </tr>\n",
       "  </thead>\n",
       "  <tbody>\n",
       "    <tr>\n",
       "      <th>0</th>\n",
       "      <td>Russia</td>\n",
       "      <td>17,098,246 (6,601,667)</td>\n",
       "      <td>17098246</td>\n",
       "    </tr>\n",
       "    <tr>\n",
       "      <th>1</th>\n",
       "      <td>Antarctica</td>\n",
       "      <td>14,200,000 (5,480,000)</td>\n",
       "      <td>14200000</td>\n",
       "    </tr>\n",
       "    <tr>\n",
       "      <th>2</th>\n",
       "      <td>Canada</td>\n",
       "      <td>9,984,670 (3,855,100)</td>\n",
       "      <td>9984670</td>\n",
       "    </tr>\n",
       "    <tr>\n",
       "      <th>3</th>\n",
       "      <td>China</td>\n",
       "      <td>9,596,960 (3,705,410)</td>\n",
       "      <td>9596960</td>\n",
       "    </tr>\n",
       "    <tr>\n",
       "      <th>4</th>\n",
       "      <td>United States</td>\n",
       "      <td>9,369,417 (3,617,551)</td>\n",
       "      <td>9369417</td>\n",
       "    </tr>\n",
       "    <tr>\n",
       "      <th>...</th>\n",
       "      <td>...</td>\n",
       "      <td>...</td>\n",
       "      <td>...</td>\n",
       "    </tr>\n",
       "    <tr>\n",
       "      <th>258</th>\n",
       "      <td>Ashmore and Cartier Islands</td>\n",
       "      <td>5.0 (1.9)</td>\n",
       "      <td>5,0</td>\n",
       "    </tr>\n",
       "    <tr>\n",
       "      <th>259</th>\n",
       "      <td>Coral Sea Islands</td>\n",
       "      <td>3.0 (1.2)</td>\n",
       "      <td>3,0</td>\n",
       "    </tr>\n",
       "    <tr>\n",
       "      <th>260</th>\n",
       "      <td>Spratly Islands</td>\n",
       "      <td>2.0 (0.77)</td>\n",
       "      <td>2,0</td>\n",
       "    </tr>\n",
       "    <tr>\n",
       "      <th>261</th>\n",
       "      <td>Monaco</td>\n",
       "      <td>2.0 (0.77)</td>\n",
       "      <td>2,0</td>\n",
       "    </tr>\n",
       "    <tr>\n",
       "      <th>262</th>\n",
       "      <td>Vatican City</td>\n",
       "      <td>0.49 (0.19)</td>\n",
       "      <td>0,49</td>\n",
       "    </tr>\n",
       "  </tbody>\n",
       "</table>\n",
       "<p>263 rows × 3 columns</p>\n",
       "</div>"
      ],
      "text/plain": [
       "                            Pays              Superficie Superficie_edited\n",
       "0                         Russia  17,098,246 (6,601,667)          17098246\n",
       "1                     Antarctica  14,200,000 (5,480,000)          14200000\n",
       "2                         Canada   9,984,670 (3,855,100)           9984670\n",
       "3                          China   9,596,960 (3,705,410)           9596960\n",
       "4                  United States   9,369,417 (3,617,551)           9369417\n",
       "..                           ...                     ...               ...\n",
       "258  Ashmore and Cartier Islands               5.0 (1.9)               5,0\n",
       "259            Coral Sea Islands               3.0 (1.2)               3,0\n",
       "260              Spratly Islands              2.0 (0.77)               2,0\n",
       "261                       Monaco              2.0 (0.77)               2,0\n",
       "262                 Vatican City             0.49 (0.19)              0,49\n",
       "\n",
       "[263 rows x 3 columns]"
      ]
     },
     "execution_count": 3,
     "metadata": {},
     "output_type": "execute_result"
    }
   ],
   "source": [
    "df"
   ]
  },
  {
   "cell_type": "code",
   "execution_count": 4,
   "id": "7375bcb1",
   "metadata": {},
   "outputs": [
    {
     "data": {
      "text/html": [
       "<div>\n",
       "<style scoped>\n",
       "    .dataframe tbody tr th:only-of-type {\n",
       "        vertical-align: middle;\n",
       "    }\n",
       "\n",
       "    .dataframe tbody tr th {\n",
       "        vertical-align: top;\n",
       "    }\n",
       "\n",
       "    .dataframe thead th {\n",
       "        text-align: right;\n",
       "    }\n",
       "</style>\n",
       "<table border=\"1\" class=\"dataframe\">\n",
       "  <thead>\n",
       "    <tr style=\"text-align: right;\">\n",
       "      <th></th>\n",
       "      <th>country</th>\n",
       "      <th>averageIqByCountry_iqLynnBecker2019</th>\n",
       "      <th>averageIqByCountry_sourceLynnBecker2019</th>\n",
       "      <th>AverageIQ_ICI2017Grade</th>\n",
       "      <th>AverageIQ_ICI2017Score</th>\n",
       "      <th>AverageIQPISA2022MeanScoreMathematics</th>\n",
       "      <th>AverageIQPISA2022MeanScoreReading</th>\n",
       "      <th>AverageIQPISA2022MeanScoreScience</th>\n",
       "    </tr>\n",
       "  </thead>\n",
       "  <tbody>\n",
       "    <tr>\n",
       "      <th>0</th>\n",
       "      <td>India</td>\n",
       "      <td>76.24</td>\n",
       "      <td>T</td>\n",
       "      <td>C-</td>\n",
       "      <td>29.4</td>\n",
       "      <td>406.0</td>\n",
       "      <td>405.0</td>\n",
       "      <td>403.0</td>\n",
       "    </tr>\n",
       "    <tr>\n",
       "      <th>1</th>\n",
       "      <td>China</td>\n",
       "      <td>104.10</td>\n",
       "      <td>T</td>\n",
       "      <td>B</td>\n",
       "      <td>47.3</td>\n",
       "      <td>390.0</td>\n",
       "      <td>374.0</td>\n",
       "      <td>384.0</td>\n",
       "    </tr>\n",
       "    <tr>\n",
       "      <th>2</th>\n",
       "      <td>United States</td>\n",
       "      <td>97.43</td>\n",
       "      <td>T</td>\n",
       "      <td>A+</td>\n",
       "      <td>74.9</td>\n",
       "      <td>NaN</td>\n",
       "      <td>NaN</td>\n",
       "      <td>NaN</td>\n",
       "    </tr>\n",
       "    <tr>\n",
       "      <th>3</th>\n",
       "      <td>Indonesia</td>\n",
       "      <td>78.49</td>\n",
       "      <td>T</td>\n",
       "      <td>D+</td>\n",
       "      <td>23.7</td>\n",
       "      <td>365.0</td>\n",
       "      <td>339.0</td>\n",
       "      <td>365.0</td>\n",
       "    </tr>\n",
       "    <tr>\n",
       "      <th>4</th>\n",
       "      <td>Pakistan</td>\n",
       "      <td>80.00</td>\n",
       "      <td>T</td>\n",
       "      <td>D</td>\n",
       "      <td>19.6</td>\n",
       "      <td>NaN</td>\n",
       "      <td>NaN</td>\n",
       "      <td>NaN</td>\n",
       "    </tr>\n",
       "    <tr>\n",
       "      <th>...</th>\n",
       "      <td>...</td>\n",
       "      <td>...</td>\n",
       "      <td>...</td>\n",
       "      <td>...</td>\n",
       "      <td>...</td>\n",
       "      <td>...</td>\n",
       "      <td>...</td>\n",
       "      <td>...</td>\n",
       "    </tr>\n",
       "    <tr>\n",
       "      <th>192</th>\n",
       "      <td>Turks and Caicos Islands</td>\n",
       "      <td>84.29</td>\n",
       "      <td>E</td>\n",
       "      <td>NaN</td>\n",
       "      <td>NaN</td>\n",
       "      <td>NaN</td>\n",
       "      <td>NaN</td>\n",
       "      <td>NaN</td>\n",
       "    </tr>\n",
       "    <tr>\n",
       "      <th>193</th>\n",
       "      <td>Marshall Islands</td>\n",
       "      <td>83.96</td>\n",
       "      <td>T</td>\n",
       "      <td>NaN</td>\n",
       "      <td>NaN</td>\n",
       "      <td>NaN</td>\n",
       "      <td>NaN</td>\n",
       "      <td>NaN</td>\n",
       "    </tr>\n",
       "    <tr>\n",
       "      <th>194</th>\n",
       "      <td>Liechtenstein</td>\n",
       "      <td>101.07</td>\n",
       "      <td>E</td>\n",
       "      <td>NaN</td>\n",
       "      <td>NaN</td>\n",
       "      <td>NaN</td>\n",
       "      <td>NaN</td>\n",
       "      <td>NaN</td>\n",
       "    </tr>\n",
       "    <tr>\n",
       "      <th>195</th>\n",
       "      <td>British Virgin Islands</td>\n",
       "      <td>76.69</td>\n",
       "      <td>E</td>\n",
       "      <td>NaN</td>\n",
       "      <td>NaN</td>\n",
       "      <td>385.0</td>\n",
       "      <td>415.0</td>\n",
       "      <td>411.0</td>\n",
       "    </tr>\n",
       "    <tr>\n",
       "      <th>196</th>\n",
       "      <td>Cook Islands</td>\n",
       "      <td>83.96</td>\n",
       "      <td>E</td>\n",
       "      <td>NaN</td>\n",
       "      <td>NaN</td>\n",
       "      <td>430.0</td>\n",
       "      <td>438.0</td>\n",
       "      <td>441.0</td>\n",
       "    </tr>\n",
       "  </tbody>\n",
       "</table>\n",
       "<p>197 rows × 8 columns</p>\n",
       "</div>"
      ],
      "text/plain": [
       "                      country  averageIqByCountry_iqLynnBecker2019  \\\n",
       "0                       India                                76.24   \n",
       "1                       China                               104.10   \n",
       "2               United States                                97.43   \n",
       "3                   Indonesia                                78.49   \n",
       "4                    Pakistan                                80.00   \n",
       "..                        ...                                  ...   \n",
       "192  Turks and Caicos Islands                                84.29   \n",
       "193          Marshall Islands                                83.96   \n",
       "194             Liechtenstein                               101.07   \n",
       "195    British Virgin Islands                                76.69   \n",
       "196              Cook Islands                                83.96   \n",
       "\n",
       "    averageIqByCountry_sourceLynnBecker2019 AverageIQ_ICI2017Grade  \\\n",
       "0                                         T                     C-   \n",
       "1                                         T                      B   \n",
       "2                                         T                     A+   \n",
       "3                                         T                     D+   \n",
       "4                                         T                      D   \n",
       "..                                      ...                    ...   \n",
       "192                                       E                    NaN   \n",
       "193                                       T                    NaN   \n",
       "194                                       E                    NaN   \n",
       "195                                       E                    NaN   \n",
       "196                                       E                    NaN   \n",
       "\n",
       "     AverageIQ_ICI2017Score  AverageIQPISA2022MeanScoreMathematics  \\\n",
       "0                      29.4                                  406.0   \n",
       "1                      47.3                                  390.0   \n",
       "2                      74.9                                    NaN   \n",
       "3                      23.7                                  365.0   \n",
       "4                      19.6                                    NaN   \n",
       "..                      ...                                    ...   \n",
       "192                     NaN                                    NaN   \n",
       "193                     NaN                                    NaN   \n",
       "194                     NaN                                    NaN   \n",
       "195                     NaN                                  385.0   \n",
       "196                     NaN                                  430.0   \n",
       "\n",
       "     AverageIQPISA2022MeanScoreReading  AverageIQPISA2022MeanScoreScience  \n",
       "0                                405.0                              403.0  \n",
       "1                                374.0                              384.0  \n",
       "2                                  NaN                                NaN  \n",
       "3                                339.0                              365.0  \n",
       "4                                  NaN                                NaN  \n",
       "..                                 ...                                ...  \n",
       "192                                NaN                                NaN  \n",
       "193                                NaN                                NaN  \n",
       "194                                NaN                                NaN  \n",
       "195                              415.0                              411.0  \n",
       "196                              438.0                              441.0  \n",
       "\n",
       "[197 rows x 8 columns]"
      ]
     },
     "execution_count": 4,
     "metadata": {},
     "output_type": "execute_result"
    }
   ],
   "source": [
    "iq"
   ]
  },
  {
   "cell_type": "code",
   "execution_count": 18,
   "id": "ed0614a1",
   "metadata": {},
   "outputs": [],
   "source": [
    "res=iq[['country']]"
   ]
  },
  {
   "cell_type": "code",
   "execution_count": 19,
   "id": "295672b8",
   "metadata": {},
   "outputs": [
    {
     "data": {
      "text/html": [
       "<div>\n",
       "<style scoped>\n",
       "    .dataframe tbody tr th:only-of-type {\n",
       "        vertical-align: middle;\n",
       "    }\n",
       "\n",
       "    .dataframe tbody tr th {\n",
       "        vertical-align: top;\n",
       "    }\n",
       "\n",
       "    .dataframe thead th {\n",
       "        text-align: right;\n",
       "    }\n",
       "</style>\n",
       "<table border=\"1\" class=\"dataframe\">\n",
       "  <thead>\n",
       "    <tr style=\"text-align: right;\">\n",
       "      <th></th>\n",
       "      <th>country</th>\n",
       "    </tr>\n",
       "  </thead>\n",
       "  <tbody>\n",
       "    <tr>\n",
       "      <th>0</th>\n",
       "      <td>India</td>\n",
       "    </tr>\n",
       "    <tr>\n",
       "      <th>1</th>\n",
       "      <td>China</td>\n",
       "    </tr>\n",
       "    <tr>\n",
       "      <th>2</th>\n",
       "      <td>United States</td>\n",
       "    </tr>\n",
       "    <tr>\n",
       "      <th>3</th>\n",
       "      <td>Indonesia</td>\n",
       "    </tr>\n",
       "    <tr>\n",
       "      <th>4</th>\n",
       "      <td>Pakistan</td>\n",
       "    </tr>\n",
       "    <tr>\n",
       "      <th>...</th>\n",
       "      <td>...</td>\n",
       "    </tr>\n",
       "    <tr>\n",
       "      <th>192</th>\n",
       "      <td>Turks and Caicos Islands</td>\n",
       "    </tr>\n",
       "    <tr>\n",
       "      <th>193</th>\n",
       "      <td>Marshall Islands</td>\n",
       "    </tr>\n",
       "    <tr>\n",
       "      <th>194</th>\n",
       "      <td>Liechtenstein</td>\n",
       "    </tr>\n",
       "    <tr>\n",
       "      <th>195</th>\n",
       "      <td>British Virgin Islands</td>\n",
       "    </tr>\n",
       "    <tr>\n",
       "      <th>196</th>\n",
       "      <td>Cook Islands</td>\n",
       "    </tr>\n",
       "  </tbody>\n",
       "</table>\n",
       "<p>197 rows × 1 columns</p>\n",
       "</div>"
      ],
      "text/plain": [
       "                      country\n",
       "0                       India\n",
       "1                       China\n",
       "2               United States\n",
       "3                   Indonesia\n",
       "4                    Pakistan\n",
       "..                        ...\n",
       "192  Turks and Caicos Islands\n",
       "193          Marshall Islands\n",
       "194             Liechtenstein\n",
       "195    British Virgin Islands\n",
       "196              Cook Islands\n",
       "\n",
       "[197 rows x 1 columns]"
      ]
     },
     "execution_count": 19,
     "metadata": {},
     "output_type": "execute_result"
    }
   ],
   "source": [
    "res"
   ]
  },
  {
   "cell_type": "code",
   "execution_count": 7,
   "id": "b4538fd8",
   "metadata": {},
   "outputs": [],
   "source": [
    "liste={\n",
    "    'pays':set(),\n",
    "    'country':set()\n",
    "}\n",
    "out={}\n",
    "nb=0"
   ]
  },
  {
   "cell_type": "code",
   "execution_count": 8,
   "id": "a24887c5",
   "metadata": {},
   "outputs": [
    {
     "data": {
      "text/plain": [
       "{}"
      ]
     },
     "execution_count": 8,
     "metadata": {},
     "output_type": "execute_result"
    }
   ],
   "source": [
    "out"
   ]
  },
  {
   "cell_type": "code",
   "execution_count": 9,
   "id": "97de62b0",
   "metadata": {},
   "outputs": [],
   "source": [
    "df[df['Pays']=='US']['Pays']='United States'"
   ]
  },
  {
   "cell_type": "code",
   "execution_count": 10,
   "id": "368733f0",
   "metadata": {},
   "outputs": [],
   "source": [
    "df[df['Pays']=='Burkina']['Pays']='Burkina Faso'"
   ]
  },
  {
   "cell_type": "code",
   "execution_count": 11,
   "id": "2afd5a32",
   "metadata": {},
   "outputs": [],
   "source": [
    "df.loc[df['Pays'] == \"(North) Sudan\", 'Pays'] = \"Sudan\""
   ]
  },
  {
   "cell_type": "code",
   "execution_count": 12,
   "id": "e97b748d",
   "metadata": {},
   "outputs": [],
   "source": [
    "df.loc[df['Pays'] == \"(South) Sudan\", 'Pays'] = \"South Sudan\""
   ]
  },
  {
   "cell_type": "code",
   "execution_count": 13,
   "id": "58ec5202",
   "metadata": {},
   "outputs": [],
   "source": [
    "df.loc[df['Pays'] == \"Equatorial Guinea\", 'Pays'] = \"Guinea\""
   ]
  },
  {
   "cell_type": "code",
   "execution_count": 14,
   "id": "51c17cca",
   "metadata": {},
   "outputs": [],
   "source": [
    "df[df['Pays']=='Turkey*']['Pays']='Turkey'"
   ]
  },
  {
   "cell_type": "code",
   "execution_count": 15,
   "id": "5ed7499d",
   "metadata": {},
   "outputs": [],
   "source": [
    "df[df['Pays']=='Georgia*']['Pays']='Georgia'"
   ]
  },
  {
   "cell_type": "code",
   "execution_count": 16,
   "id": "7242e523",
   "metadata": {},
   "outputs": [],
   "source": [
    "df.loc[df['Pays'] == \"Democratic Republic of the Congo\", 'Pays'] = \"DR Congo\""
   ]
  },
  {
   "cell_type": "code",
   "execution_count": 17,
   "id": "241d043e",
   "metadata": {},
   "outputs": [
    {
     "data": {
      "text/html": [
       "<div>\n",
       "<style scoped>\n",
       "    .dataframe tbody tr th:only-of-type {\n",
       "        vertical-align: middle;\n",
       "    }\n",
       "\n",
       "    .dataframe tbody tr th {\n",
       "        vertical-align: top;\n",
       "    }\n",
       "\n",
       "    .dataframe thead th {\n",
       "        text-align: right;\n",
       "    }\n",
       "</style>\n",
       "<table border=\"1\" class=\"dataframe\">\n",
       "  <thead>\n",
       "    <tr style=\"text-align: right;\">\n",
       "      <th></th>\n",
       "      <th>Pays</th>\n",
       "      <th>Superficie</th>\n",
       "      <th>Superficie_edited</th>\n",
       "    </tr>\n",
       "  </thead>\n",
       "  <tbody>\n",
       "    <tr>\n",
       "      <th>198</th>\n",
       "      <td>Dominica</td>\n",
       "      <td>750 (290)</td>\n",
       "      <td>750</td>\n",
       "    </tr>\n",
       "  </tbody>\n",
       "</table>\n",
       "</div>"
      ],
      "text/plain": [
       "         Pays Superficie Superficie_edited\n",
       "198  Dominica  750 (290)               750"
      ]
     },
     "execution_count": 17,
     "metadata": {},
     "output_type": "execute_result"
    }
   ],
   "source": [
    "df[df[\"Pays\"]==\"Dominica\"]"
   ]
  },
  {
   "cell_type": "code",
   "execution_count": 29,
   "id": "299fa94d",
   "metadata": {},
   "outputs": [
    {
     "name": "stdout",
     "output_type": "stream",
     "text": [
      "190\n"
     ]
    }
   ],
   "source": [
    "liste=[]\n",
    "nb=0\n",
    "for val in res['country']:\n",
    "    if val in df['Pays'].values:\n",
    "        liste.append(max(df[df['Pays']==val]['Superficie_edited'].values))\n",
    "        nb+=1\n",
    "    else:\n",
    "        liste.append(\"None\")\n",
    "print(nb)"
   ]
  },
  {
   "cell_type": "code",
   "execution_count": 30,
   "id": "45aa0e4f",
   "metadata": {},
   "outputs": [
    {
     "name": "stderr",
     "output_type": "stream",
     "text": [
      "/tmp/ipykernel_62622/983212162.py:1: SettingWithCopyWarning: \n",
      "A value is trying to be set on a copy of a slice from a DataFrame.\n",
      "Try using .loc[row_indexer,col_indexer] = value instead\n",
      "\n",
      "See the caveats in the documentation: https://pandas.pydata.org/pandas-docs/stable/user_guide/indexing.html#returning-a-view-versus-a-copy\n",
      "  res['Superficie']=liste\n"
     ]
    }
   ],
   "source": [
    "res['Superficie']=liste"
   ]
  },
  {
   "cell_type": "code",
   "execution_count": 41,
   "id": "2c4784dc",
   "metadata": {},
   "outputs": [
    {
     "data": {
      "text/html": [
       "<div>\n",
       "<style scoped>\n",
       "    .dataframe tbody tr th:only-of-type {\n",
       "        vertical-align: middle;\n",
       "    }\n",
       "\n",
       "    .dataframe tbody tr th {\n",
       "        vertical-align: top;\n",
       "    }\n",
       "\n",
       "    .dataframe thead th {\n",
       "        text-align: right;\n",
       "    }\n",
       "</style>\n",
       "<table border=\"1\" class=\"dataframe\">\n",
       "  <thead>\n",
       "    <tr style=\"text-align: right;\">\n",
       "      <th></th>\n",
       "      <th>country</th>\n",
       "      <th>Superficie</th>\n",
       "    </tr>\n",
       "  </thead>\n",
       "  <tbody>\n",
       "  </tbody>\n",
       "</table>\n",
       "</div>"
      ],
      "text/plain": [
       "Empty DataFrame\n",
       "Columns: [country, Superficie]\n",
       "Index: []"
      ]
     },
     "execution_count": 41,
     "metadata": {},
     "output_type": "execute_result"
    }
   ],
   "source": [
    "res[res['Superficie']=='None']"
   ]
  },
  {
   "cell_type": "code",
   "execution_count": 40,
   "id": "e5f93290",
   "metadata": {},
   "outputs": [],
   "source": [
    "res.loc[res['country']=='Palestine']=6025\n",
    "res.loc[res['country']=='Georgia']=69700\n",
    "res.loc[res['country']=='Gambia']=11300\n",
    "res.loc[res['country']=='Bahamas']=13877\n",
    "res.loc[res['country']=='Sao Tome and Principe']=1001\n",
    "res.loc[res['country']=='Micronesia']=701.9\n",
    "res.loc[res['country']=='Ireland']=70273"
   ]
  },
  {
   "cell_type": "code",
   "execution_count": 43,
   "id": "e9fedc56",
   "metadata": {},
   "outputs": [],
   "source": [
    "res.to_csv('../data/superficie_merged.csv', index=False)"
   ]
  }
 ],
 "metadata": {
  "kernelspec": {
   "display_name": "Python 3 (ipykernel)",
   "language": "python",
   "name": "python3"
  },
  "language_info": {
   "codemirror_mode": {
    "name": "ipython",
    "version": 3
   },
   "file_extension": ".py",
   "mimetype": "text/x-python",
   "name": "python",
   "nbconvert_exporter": "python",
   "pygments_lexer": "ipython3",
   "version": "3.9.13"
  }
 },
 "nbformat": 4,
 "nbformat_minor": 5
}
