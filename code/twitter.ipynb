{
 "cells": [
  {
   "cell_type": "code",
   "execution_count": 1,
   "metadata": {
    "colab": {
     "base_uri": "https://localhost:8080/"
    },
    "id": "jqzFQ7x6Ed6w",
    "outputId": "78228f06-2f85-4b21-943e-b935aef3a715"
   },
   "outputs": [
    {
     "name": "stdout",
     "output_type": "stream",
     "text": [
      "Requirement already satisfied: ntscraper in /home/ahmed/anaconda3/lib/python3.9/site-packages (0.3.12)\r\n",
      "Requirement already satisfied: requests in /home/ahmed/anaconda3/lib/python3.9/site-packages (from ntscraper) (2.28.1)\r\n",
      "Requirement already satisfied: beautifulsoup4 in /home/ahmed/anaconda3/lib/python3.9/site-packages (from ntscraper) (4.11.1)\r\n",
      "Requirement already satisfied: lxml in /home/ahmed/anaconda3/lib/python3.9/site-packages (from ntscraper) (4.9.1)\r\n",
      "Requirement already satisfied: soupsieve>1.2 in /home/ahmed/anaconda3/lib/python3.9/site-packages (from beautifulsoup4->ntscraper) (2.3.1)\r\n",
      "Requirement already satisfied: idna<4,>=2.5 in /home/ahmed/anaconda3/lib/python3.9/site-packages (from requests->ntscraper) (2.10)\r\n",
      "Requirement already satisfied: certifi>=2017.4.17 in /home/ahmed/anaconda3/lib/python3.9/site-packages (from requests->ntscraper) (2023.5.7)\r\n",
      "Requirement already satisfied: urllib3<1.27,>=1.21.1 in /home/ahmed/anaconda3/lib/python3.9/site-packages (from requests->ntscraper) (1.26.11)\r\n",
      "Requirement already satisfied: charset-normalizer<3,>=2 in /home/ahmed/anaconda3/lib/python3.9/site-packages (from requests->ntscraper) (2.0.4)\r\n"
     ]
    }
   ],
   "source": [
    "!pip install ntscraper"
   ]
  },
  {
   "cell_type": "code",
   "execution_count": 2,
   "metadata": {},
   "outputs": [
    {
     "name": "stderr",
     "output_type": "stream",
     "text": [
      "/home/ahmed/anaconda3/lib/python3.9/site-packages/pandas/core/computation/expressions.py:21: UserWarning: Pandas requires version '2.8.4' or newer of 'numexpr' (version '2.8.3' currently installed).\n",
      "  from pandas.core.computation.check import NUMEXPR_INSTALLED\n",
      "/home/ahmed/anaconda3/lib/python3.9/site-packages/pandas/core/arrays/masked.py:60: UserWarning: Pandas requires version '1.3.6' or newer of 'bottleneck' (version '1.3.5' currently installed).\n",
      "  from pandas.core import (\n"
     ]
    },
    {
     "data": {
      "text/html": [
       "<div>\n",
       "<style scoped>\n",
       "    .dataframe tbody tr th:only-of-type {\n",
       "        vertical-align: middle;\n",
       "    }\n",
       "\n",
       "    .dataframe tbody tr th {\n",
       "        vertical-align: top;\n",
       "    }\n",
       "\n",
       "    .dataframe thead th {\n",
       "        text-align: right;\n",
       "    }\n",
       "</style>\n",
       "<table border=\"1\" class=\"dataframe\">\n",
       "  <thead>\n",
       "    <tr style=\"text-align: right;\">\n",
       "      <th></th>\n",
       "      <th>Unnamed: 0</th>\n",
       "      <th>Pays</th>\n",
       "      <th>code country</th>\n",
       "      <th>langue</th>\n",
       "      <th>trad</th>\n",
       "    </tr>\n",
       "  </thead>\n",
       "  <tbody>\n",
       "    <tr>\n",
       "      <th>0</th>\n",
       "      <td>0</td>\n",
       "      <td>Russia</td>\n",
       "      <td>RU</td>\n",
       "      <td>ru</td>\n",
       "      <td>образование OR школа OR обучение OR студенты O...</td>\n",
       "    </tr>\n",
       "    <tr>\n",
       "      <th>1</th>\n",
       "      <td>1</td>\n",
       "      <td>Antarctica</td>\n",
       "      <td>AQ</td>\n",
       "      <td>NaN</td>\n",
       "      <td>NaN</td>\n",
       "    </tr>\n",
       "    <tr>\n",
       "      <th>2</th>\n",
       "      <td>2</td>\n",
       "      <td>Canada</td>\n",
       "      <td>CA</td>\n",
       "      <td>en</td>\n",
       "      <td>education OR school OR learning OR students OR...</td>\n",
       "    </tr>\n",
       "    <tr>\n",
       "      <th>3</th>\n",
       "      <td>3</td>\n",
       "      <td>China</td>\n",
       "      <td>CN</td>\n",
       "      <td>zh</td>\n",
       "      <td>NaN</td>\n",
       "    </tr>\n",
       "    <tr>\n",
       "      <th>4</th>\n",
       "      <td>4</td>\n",
       "      <td>United States</td>\n",
       "      <td>US</td>\n",
       "      <td>en</td>\n",
       "      <td>education OR school OR learning OR students OR...</td>\n",
       "    </tr>\n",
       "    <tr>\n",
       "      <th>...</th>\n",
       "      <td>...</td>\n",
       "      <td>...</td>\n",
       "      <td>...</td>\n",
       "      <td>...</td>\n",
       "      <td>...</td>\n",
       "    </tr>\n",
       "    <tr>\n",
       "      <th>255</th>\n",
       "      <td>258</td>\n",
       "      <td>Ashmore and Cartier Islands</td>\n",
       "      <td>CK</td>\n",
       "      <td>en</td>\n",
       "      <td>education OR school OR learning OR students OR...</td>\n",
       "    </tr>\n",
       "    <tr>\n",
       "      <th>256</th>\n",
       "      <td>259</td>\n",
       "      <td>Coral Sea Islands</td>\n",
       "      <td>CK</td>\n",
       "      <td>en</td>\n",
       "      <td>education OR school OR learning OR students OR...</td>\n",
       "    </tr>\n",
       "    <tr>\n",
       "      <th>257</th>\n",
       "      <td>260</td>\n",
       "      <td>Spratly Islands</td>\n",
       "      <td>CK</td>\n",
       "      <td>en</td>\n",
       "      <td>education OR school OR learning OR students OR...</td>\n",
       "    </tr>\n",
       "    <tr>\n",
       "      <th>258</th>\n",
       "      <td>261</td>\n",
       "      <td>Monaco</td>\n",
       "      <td>MC</td>\n",
       "      <td>fr</td>\n",
       "      <td>éducation OR école OR apprentissage OR étudian...</td>\n",
       "    </tr>\n",
       "    <tr>\n",
       "      <th>259</th>\n",
       "      <td>262</td>\n",
       "      <td>Vatican City</td>\n",
       "      <td>VA</td>\n",
       "      <td>it</td>\n",
       "      <td>formazione scolastica OR scuola OR apprendimen...</td>\n",
       "    </tr>\n",
       "  </tbody>\n",
       "</table>\n",
       "<p>260 rows × 5 columns</p>\n",
       "</div>"
      ],
      "text/plain": [
       "     Unnamed: 0                         Pays code country langue  \\\n",
       "0             0                       Russia           RU     ru   \n",
       "1             1                   Antarctica           AQ    NaN   \n",
       "2             2                       Canada           CA     en   \n",
       "3             3                        China           CN     zh   \n",
       "4             4                United States           US     en   \n",
       "..          ...                          ...          ...    ...   \n",
       "255         258  Ashmore and Cartier Islands           CK     en   \n",
       "256         259            Coral Sea Islands           CK     en   \n",
       "257         260              Spratly Islands           CK     en   \n",
       "258         261                       Monaco           MC     fr   \n",
       "259         262                 Vatican City           VA     it   \n",
       "\n",
       "                                                  trad  \n",
       "0    образование OR школа OR обучение OR студенты O...  \n",
       "1                                                  NaN  \n",
       "2    education OR school OR learning OR students OR...  \n",
       "3                                                  NaN  \n",
       "4    education OR school OR learning OR students OR...  \n",
       "..                                                 ...  \n",
       "255  education OR school OR learning OR students OR...  \n",
       "256  education OR school OR learning OR students OR...  \n",
       "257  education OR school OR learning OR students OR...  \n",
       "258  éducation OR école OR apprentissage OR étudian...  \n",
       "259  formazione scolastica OR scuola OR apprendimen...  \n",
       "\n",
       "[260 rows x 5 columns]"
      ]
     },
     "execution_count": 2,
     "metadata": {},
     "output_type": "execute_result"
    }
   ],
   "source": [
    "import pandas as pd\n",
    "df = pd.read_csv(\"data/lang_pays.csv\")\n",
    "df"
   ]
  },
  {
   "cell_type": "code",
   "execution_count": 3,
   "metadata": {},
   "outputs": [
    {
     "name": "stderr",
     "output_type": "stream",
     "text": [
      "Testing instances:  16%|█▌        | 12/77 [00:13<00:59,  1.09it/s]"
     ]
    },
    {
     "name": "stdout",
     "output_type": "stream",
     "text": [
      "14-Mar-24 10:26:24 - Certificate did not match expected hostname: nitter.esmailelbob.xyz. Certificate: {'subject': ((('commonName', 'esmailelbob.xyz'),),), 'issuer': ((('countryName', 'US'),), (('organizationName', \"Let's Encrypt\"),), (('commonName', 'R3'),)), 'version': 3, 'serialNumber': '04E889793B31CEE2E06889627999A9171783', 'notBefore': 'Mar  8 14:44:59 2024 GMT', 'notAfter': 'Jun  6 14:44:58 2024 GMT', 'subjectAltName': (('DNS', 'esmailelbob.xyz'),), 'OCSP': ('http://r3.o.lencr.org',), 'caIssuers': ('http://r3.i.lencr.org/',)}\n"
     ]
    },
    {
     "name": "stderr",
     "output_type": "stream",
     "text": [
      "Testing instances: 100%|██████████| 77/77 [01:22<00:00,  1.07s/it]\n"
     ]
    }
   ],
   "source": [
    "from ntscraper import Nitter\n",
    "scraper = Nitter()"
   ]
  },
  {
   "cell_type": "code",
   "execution_count": null,
   "metadata": {},
   "outputs": [],
   "source": [
    "res={}\n",
    "for val in df['trad']:\n",
    "    if str(val)!=\"nan\":\n",
    "        term=val.split('OR')[0]\n",
    "        tweets = scraper.get_tweets(term, mode = 'term', number=30)\n",
    "        res[term]=tweets"
   ]
  },
  {
   "cell_type": "code",
   "execution_count": 6,
   "metadata": {
    "id": "FjofjveJM3uE"
   },
   "outputs": [],
   "source": [
    "\"\"\"final_tweets = []\n",
    "for x in tweets['tweets']:\n",
    "    data = [x['link'], x['text'],x['date'],x['stats']['likes'],x['stats']['comments']]\n",
    "    final_tweets.append(data)\"\"\""
   ]
  },
  {
   "cell_type": "code",
   "execution_count": 7,
   "metadata": {
    "colab": {
     "base_uri": "https://localhost:8080/"
    },
    "id": "bKZ-An30O2cU",
    "outputId": "92b03488-f972-48f6-a01e-2d745fa8e666"
   },
   "outputs": [],
   "source": [
    "\"dat = pd.DataFrame(final_tweets, columns =['twitter_link','text','date','likes','comments'])\""
   ]
  },
  {
   "cell_type": "code",
   "execution_count": 12,
   "metadata": {},
   "outputs": [
    {
     "data": {
      "text/plain": [
       "10"
      ]
     },
     "execution_count": 12,
     "metadata": {},
     "output_type": "execute_result"
    }
   ],
   "source": [
    "len(res['education ']['tweets'])"
   ]
  },
  {
   "cell_type": "code",
   "execution_count": 13,
   "metadata": {},
   "outputs": [
    {
     "data": {
      "text/plain": [
       "['🗽 Tomorrow at 10 am ET is GitHub Field Day NYC! A free \"unconference\" for tech learners at Microsoft Reactor, with keynote by @jonmarkgo\\n of @MLHacks\\n. Join us there and dive into discussions on inclusivity, internships, community building & more:\\n🔗 http://githubfieldday.com/nyc2024/',\n",
       " 'We are glad to welcome our Eminent Speakers at the LinkedIn presents ArdorComm \"Education Leadership Symposium\" to be held at The Crown, Bhubaneswar - IHCL SeleQtions, in Bhubaneswar, Odisha on 21st March 2024.\\n\\n#BhubaneswarEvent  #ELS2024 #ELSBhubaneswar #ArdorComm #LinkedIn',\n",
       " '“Show me a child who doesn’t want to hear a story and tell it back. We put them through a utility education and say that the arts are a luxury. The arts develop our natural creativity. If creativity is a luxury, then being human is a luxury.”\\n\\nJeanette Winterson, being brilliant.',\n",
       " 'My budget would take on Big Pharma to lower drug costs.\\n \\nIt would lower rents by building or preserving two million more homes.\\n \\nIt would lower costs for health care, child care, and education.\\n\\nAnd it would cut taxes for families while making billionaires pay their fair share.',\n",
       " 'y’all need to start bringing the “if he wanted to he would” sentiment to uncle sam. bc, y’all, if the gvmt can move this fast to ban tiktok, then they just don’t want us to have access to healthcare, education, child care, etc.',\n",
       " 'Flint’s school buildings will be closed today after 119 teachers and employees called in sick\\n\\nThe union said the Board of Education rejected a settlement agreement that would have improved pay for Flint teachers, who are among the lowest paid in the state',\n",
       " 'Banning TikTok in Nigeria, similar to the US ban, may have potential benefits for teenagers in terms of redirecting their focus towards education and other productive activities. TikTok can be a source of distraction and consume a significant amount of time and attention. By removing TikTok, teenagers may have more time for studying, engaging in hobbies, and personal development\\nTrue or False ⁉️\\n\\ntiktoban | Aigboke Aig-imoukhuede | Lionel Messi | Okowa | BOOKIES FOR A REASON',\n",
       " 'The capacity to learn is a gift; the ability to learn is a skill; the willingness to learn is a choice.\\n\\nWe believe tech education from an early age can help prepare and make the future innovators of technology! 🚀\\n\\nSend us a Dm today to get your child ready for the future! ✨',\n",
       " \"Name:   Mawidi \\nTribe:     Luhya(nyore)\\n Age.:   20\\nProfession:  Education\\nR/Status:  wavy relationship \\nReligion :     Christianity \\nChurch: PAG\\nBirth month:  3 march\\nLocation : Kitui\\nHome ground:Sirende,kitale\\n\\nLet's connect 😌🥰If we have anything in common\",\n",
       " 'Never forget: our government demanded that you choose a medical product over your employment, your education, your mobility rights, your ability to engage in commerce, and even your family and friends.']"
      ]
     },
     "execution_count": 13,
     "metadata": {},
     "output_type": "execute_result"
    }
   ],
   "source": [
    "res['education ']['tweets']"
   ]
  },
  {
   "cell_type": "code",
   "execution_count": 17,
   "metadata": {},
   "outputs": [
    {
     "data": {
      "text/plain": [
       "10"
      ]
     },
     "execution_count": 17,
     "metadata": {},
     "output_type": "execute_result"
    }
   ],
   "source": [
    "len(res['शिक्षा ']['tweets'])"
   ]
  },
  {
   "cell_type": "code",
   "execution_count": 18,
   "metadata": {},
   "outputs": [
    {
     "data": {
      "text/plain": [
       "{'образование ': {'tweets': [], 'threads': []},\n",
       " 'education ': {'tweets': ['🗽 Tomorrow at 10 am ET is GitHub Field Day NYC! A free \"unconference\" for tech learners at Microsoft Reactor, with keynote by @jonmarkgo\\n of @MLHacks\\n. Join us there and dive into discussions on inclusivity, internships, community building & more:\\n🔗 http://githubfieldday.com/nyc2024/',\n",
       "   'We are glad to welcome our Eminent Speakers at the LinkedIn presents ArdorComm \"Education Leadership Symposium\" to be held at The Crown, Bhubaneswar - IHCL SeleQtions, in Bhubaneswar, Odisha on 21st March 2024.\\n\\n#BhubaneswarEvent  #ELS2024 #ELSBhubaneswar #ArdorComm #LinkedIn',\n",
       "   '“Show me a child who doesn’t want to hear a story and tell it back. We put them through a utility education and say that the arts are a luxury. The arts develop our natural creativity. If creativity is a luxury, then being human is a luxury.”\\n\\nJeanette Winterson, being brilliant.',\n",
       "   'My budget would take on Big Pharma to lower drug costs.\\n \\nIt would lower rents by building or preserving two million more homes.\\n \\nIt would lower costs for health care, child care, and education.\\n\\nAnd it would cut taxes for families while making billionaires pay their fair share.',\n",
       "   'y’all need to start bringing the “if he wanted to he would” sentiment to uncle sam. bc, y’all, if the gvmt can move this fast to ban tiktok, then they just don’t want us to have access to healthcare, education, child care, etc.',\n",
       "   'Flint’s school buildings will be closed today after 119 teachers and employees called in sick\\n\\nThe union said the Board of Education rejected a settlement agreement that would have improved pay for Flint teachers, who are among the lowest paid in the state',\n",
       "   'Banning TikTok in Nigeria, similar to the US ban, may have potential benefits for teenagers in terms of redirecting their focus towards education and other productive activities. TikTok can be a source of distraction and consume a significant amount of time and attention. By removing TikTok, teenagers may have more time for studying, engaging in hobbies, and personal development\\nTrue or False ⁉️\\n\\ntiktoban | Aigboke Aig-imoukhuede | Lionel Messi | Okowa | BOOKIES FOR A REASON',\n",
       "   'The capacity to learn is a gift; the ability to learn is a skill; the willingness to learn is a choice.\\n\\nWe believe tech education from an early age can help prepare and make the future innovators of technology! 🚀\\n\\nSend us a Dm today to get your child ready for the future! ✨',\n",
       "   \"Name:   Mawidi \\nTribe:     Luhya(nyore)\\n Age.:   20\\nProfession:  Education\\nR/Status:  wavy relationship \\nReligion :     Christianity \\nChurch: PAG\\nBirth month:  3 march\\nLocation : Kitui\\nHome ground:Sirende,kitale\\n\\nLet's connect 😌🥰If we have anything in common\",\n",
       "   'Never forget: our government demanded that you choose a medical product over your employment, your education, your mobility rights, your ability to engage in commerce, and even your family and friends.'],\n",
       "  'threads': []},\n",
       " 'Educação ': {'tweets': [], 'threads': []},\n",
       " 'शिक्षा ': {'tweets': ['चलो बच्चों मिल कर जुड़े गट्टू और चिंकी के साथ उनकी मज़ेदार दुनिया से! हमारा #KidsSpecial शो #PiggyBank आपको बहुत पसंद आएगा। ज़रूर देखें #DDNational पर सोमवार से शुक्रवार, शाम 4:00 बजे।\\n\\n#Entertainment |  #Cartoon | #Kids | #Masti | #Education',\n",
       "   'आये दिन युवा #रोजगार न मिल पाने के कारण जहर खा रहें हैं !\\n\\n#BJP #Haryana #India #Unemployment #Youth #Jobs #Poverty #Exam #Government #Education #PaperLeak #Corruption',\n",
       "   'जानिए देश की पहली AI Teacher आइरिस के बारे में, इसके साथ ही ये भी ध्यान रखिए कि IMF ने एक रिपोर्ट में बताया है कि आने वाले समय में AI Technology का प्रभाव 40% तक मानव संपदा आधारित नौकरियों पर पड़ने की आशंका है।',\n",
       "   'Bharat Express Uttarakhand Conclave: उत्तराखंड में भारत एक्सप्रेस न्यूज नेटवर्क की ओर से ‘उन्नति की ओर’ कॉनक्लेव का आयोजन किया जा रहा है. कार्यक्रम में भारत एक्सप्रेस के चेयरमैन उपेन्द्र राय ने कहा- प्रधानमंत्री नरेंद्र मोदी जो बोलते हैं, वो सही साबित हो रहा है.\\n\\n#Education #Infrastructure #Health #UttarakhandConclave #UttarakhandUnnatiKiAur #PushkarSinghDhami #BJPUttarakhand #NarendraModi #BharatExpress | @UpendrraRai\\n @narendramodi\\n @pushkardhami\\n @MygovU',\n",
       "   'पेपर लीक का \"भाजपाई नेक्सस\"! \\n\\n#Education #Exam #PaperLeak #UttarPradesh #Rajasthan #MadhyaPradesh #Jobs #Youth',\n",
       "   'शिक्षा विभाग के अन्तर्गत आने वाले \\nBlock education officer (beo) \\nके पद को पहले की तरह शिक्षको के लिए \\nआरक्षित करते हुएं , बिहार लोकसेवा आयोग के द्वारा बहाली की जाय... हमेशा से शिक्षको को ही पदोन्नति के माध्यम से beo बनाया जाता रहा है। \\n@NitishKumar\\n \\n@VijayKChy\\n \\n@VijayKrSinhaBih',\n",
       "   'यूजीसी बना \"मोदी चापलूसी कमिशन\"! \\n\\n#UGC #Education #Schools #Colleges #Universities #NarendraModi #Commission #India #Election #LokSabhaElection2024 #GodiMedia',\n",
       "   '#Paper टल सकता है पर चौथी पास राजा का दौरा नहीं !\\n\\n#Students #Exam #Education #Papers #JammuAndKashmir #NarendraModi #GodiMedia',\n",
       "   'लखनऊ के सुभाष चन्द्र बोस पीजी  डिग्री कॉलेज की 1600 छात्राओं और अवध गर्ल्स डिग्री कॉलेज की 343 छात्राओं को बुधवार को स्मार्ट फोन मिले..\\n\\n.\\n.\\n.\\n.\\n#student \\n#education \\n#Smartphones \\n#Lucknow',\n",
       "   'गया के वजीरगंज में विद्यालय निरीक्षण करने गये ‘फर्जी’ निरीक्षणकर्ता गिरफ्तार'],\n",
       "  'threads': []},\n",
       " 'educación ': {'tweets': [], 'threads': []},\n",
       " 'تعليم ': {'tweets': [], 'threads': []},\n",
       " 'éducation ': {'tweets': [], 'threads': []},\n",
       " 'uddannelse ': {'tweets': [], 'threads': []},\n",
       " 'pendidikan ': {'tweets': [], 'threads': []},\n",
       " 'تحصیلات ': {'tweets': [], 'threads': []},\n",
       " 'боловсрол ': {'tweets': [], 'threads': []},\n",
       " 'ትምህርት ': {'tweets': [], 'threads': []},\n",
       " 'elimu ': {'tweets': [], 'threads': []},\n",
       " 'تعلیم ': {'tweets': [], 'threads': []},\n",
       " 'eğitim ': {'tweets': [], 'threads': []},\n",
       " 'ပညာရေး ': {'tweets': [], 'threads': []},\n",
       " 'waxbarasho ': {'tweets': [], 'threads': []},\n",
       " 'освіти ': {'tweets': [], 'threads': []},\n",
       " 'FAMPIANARANA ': {'tweets': [], 'threads': []},\n",
       " 'การศึกษา ': {'tweets': [], 'threads': []},\n",
       " 'bilim ': {'tweets': [], 'threads': []},\n",
       " \"ta'lim \": {'tweets': [], 'threads': []},\n",
       " 'utbildning ': {'tweets': [], 'threads': []},\n",
       " \"tekombo'e \": {'tweets': [], 'threads': []},\n",
       " 'dzidzo ': {'tweets': [], 'threads': []},\n",
       " '教育 ': {'tweets': [], 'threads': []},\n",
       " 'Ausbildung ': {'tweets': [], 'threads': []},\n",
       " 'koulutus ': {'tweets': [], 'threads': []},\n",
       " 'giáo dục ': {'tweets': [], 'threads': []},\n",
       " 'Edukacja ': {'tweets': [], 'threads': []},\n",
       " 'formazione scolastica ': {'tweets': [], 'threads': []},\n",
       " 'educaţie ': {'tweets': [], 'threads': []},\n",
       " 'ການສຶກສາ ': {'tweets': [], 'threads': []},\n",
       " 'адукацыі ': {'tweets': [], 'threads': []},\n",
       " 'билим берүү ': {'tweets': [], 'threads': []},\n",
       " 'ការអប់រំ ': {'tweets': [], 'threads': []},\n",
       " 'onderwijs ': {'tweets': [], 'threads': []},\n",
       " 'শিক্ষা ': {'tweets': [], 'threads': []},\n",
       " 'маориф ': {'tweets': [], 'threads': []},\n",
       " 'εκπαίδευση ': {'tweets': [], 'threads': []},\n",
       " '교육 ': {'tweets': [], 'threads': []},\n",
       " 'maphunziro ': {'tweets': [], 'threads': []},\n",
       " 'ትምህርቲ ': {'tweets': [], 'threads': []},\n",
       " 'menntun ': {'tweets': [], 'threads': []},\n",
       " 'oktatás ': {'tweets': [], 'threads': []},\n",
       " 'təhsil ': {'tweets': [], 'threads': []},\n",
       " 'vzdělání ': {'tweets': [], 'threads': []},\n",
       " 'განათლება ': {'tweets': [], 'threads': []},\n",
       " 'අධ්යාපන ': {'tweets': [], 'threads': []},\n",
       " 'išsilavinimas ': {'tweets': [], 'threads': []},\n",
       " 'izglītība ': {'tweets': [], 'threads': []},\n",
       " 'obrazovanje ': {'tweets': [], 'threads': []},\n",
       " 'vzdelanie ': {'tweets': [], 'threads': []},\n",
       " 'haridust ': {'tweets': [], 'threads': []},\n",
       " 'thuto ': {'tweets': [], 'threads': []},\n",
       " 'կրթություն ': {'tweets': [], 'threads': []},\n",
       " 'arsimimi ': {'tweets': [], 'threads': []},\n",
       " 'edikasyon ': {'tweets': [], 'threads': []},\n",
       " 'uburezi ': {'tweets': [], 'threads': []},\n",
       " 'образованието ': {'tweets': [], 'threads': []},\n",
       " 'izobraževanje ': {'tweets': [], 'threads': []},\n",
       " 'aoaoga ': {'tweets': [], 'threads': []},\n",
       " 'edukazzjoni ': {'tweets': [], 'threads': []},\n",
       " 'educació ': {'tweets': [], 'threads': []},\n",
       " 'ތަޢުލީމް ': {'tweets': [], 'threads': []}}"
      ]
     },
     "execution_count": 18,
     "metadata": {},
     "output_type": "execute_result"
    }
   ],
   "source": [
    "res"
   ]
  },
  {
   "cell_type": "code",
   "execution_count": 21,
   "metadata": {},
   "outputs": [
    {
     "data": {
      "text/html": [
       "<div>\n",
       "<style scoped>\n",
       "    .dataframe tbody tr th:only-of-type {\n",
       "        vertical-align: middle;\n",
       "    }\n",
       "\n",
       "    .dataframe tbody tr th {\n",
       "        vertical-align: top;\n",
       "    }\n",
       "\n",
       "    .dataframe thead th {\n",
       "        text-align: right;\n",
       "    }\n",
       "</style>\n",
       "<table border=\"1\" class=\"dataframe\">\n",
       "  <thead>\n",
       "    <tr style=\"text-align: right;\">\n",
       "      <th></th>\n",
       "      <th>language</th>\n",
       "      <th>tweet</th>\n",
       "    </tr>\n",
       "  </thead>\n",
       "  <tbody>\n",
       "    <tr>\n",
       "      <th>0</th>\n",
       "      <td>education</td>\n",
       "      <td>🗽 Tomorrow at 10 am ET is GitHub Field Day NYC...</td>\n",
       "    </tr>\n",
       "    <tr>\n",
       "      <th>1</th>\n",
       "      <td>education</td>\n",
       "      <td>We are glad to welcome our Eminent Speakers at...</td>\n",
       "    </tr>\n",
       "    <tr>\n",
       "      <th>2</th>\n",
       "      <td>education</td>\n",
       "      <td>“Show me a child who doesn’t want to hear a st...</td>\n",
       "    </tr>\n",
       "    <tr>\n",
       "      <th>3</th>\n",
       "      <td>education</td>\n",
       "      <td>My budget would take on Big Pharma to lower dr...</td>\n",
       "    </tr>\n",
       "    <tr>\n",
       "      <th>4</th>\n",
       "      <td>education</td>\n",
       "      <td>y’all need to start bringing the “if he wanted...</td>\n",
       "    </tr>\n",
       "    <tr>\n",
       "      <th>5</th>\n",
       "      <td>education</td>\n",
       "      <td>Flint’s school buildings will be closed today ...</td>\n",
       "    </tr>\n",
       "    <tr>\n",
       "      <th>6</th>\n",
       "      <td>education</td>\n",
       "      <td>Banning TikTok in Nigeria, similar to the US b...</td>\n",
       "    </tr>\n",
       "    <tr>\n",
       "      <th>7</th>\n",
       "      <td>education</td>\n",
       "      <td>The capacity to learn is a gift; the ability t...</td>\n",
       "    </tr>\n",
       "    <tr>\n",
       "      <th>8</th>\n",
       "      <td>education</td>\n",
       "      <td>Name:   Mawidi \\nTribe:     Luhya(nyore)\\n Age...</td>\n",
       "    </tr>\n",
       "    <tr>\n",
       "      <th>9</th>\n",
       "      <td>education</td>\n",
       "      <td>Never forget: our government demanded that you...</td>\n",
       "    </tr>\n",
       "    <tr>\n",
       "      <th>10</th>\n",
       "      <td>शिक्षा</td>\n",
       "      <td>चलो बच्चों मिल कर जुड़े गट्टू और चिंकी के साथ ...</td>\n",
       "    </tr>\n",
       "    <tr>\n",
       "      <th>11</th>\n",
       "      <td>शिक्षा</td>\n",
       "      <td>आये दिन युवा #रोजगार न मिल पाने के कारण जहर खा...</td>\n",
       "    </tr>\n",
       "    <tr>\n",
       "      <th>12</th>\n",
       "      <td>शिक्षा</td>\n",
       "      <td>जानिए देश की पहली AI Teacher आइरिस के बारे में...</td>\n",
       "    </tr>\n",
       "    <tr>\n",
       "      <th>13</th>\n",
       "      <td>शिक्षा</td>\n",
       "      <td>Bharat Express Uttarakhand Conclave: उत्तराखंड...</td>\n",
       "    </tr>\n",
       "    <tr>\n",
       "      <th>14</th>\n",
       "      <td>शिक्षा</td>\n",
       "      <td>पेपर लीक का \"भाजपाई नेक्सस\"! \\n\\n#Education #E...</td>\n",
       "    </tr>\n",
       "    <tr>\n",
       "      <th>15</th>\n",
       "      <td>शिक्षा</td>\n",
       "      <td>शिक्षा विभाग के अन्तर्गत आने वाले \\nBlock educ...</td>\n",
       "    </tr>\n",
       "    <tr>\n",
       "      <th>16</th>\n",
       "      <td>शिक्षा</td>\n",
       "      <td>यूजीसी बना \"मोदी चापलूसी कमिशन\"! \\n\\n#UGC #Edu...</td>\n",
       "    </tr>\n",
       "    <tr>\n",
       "      <th>17</th>\n",
       "      <td>शिक्षा</td>\n",
       "      <td>#Paper टल सकता है पर चौथी पास राजा का दौरा नही...</td>\n",
       "    </tr>\n",
       "    <tr>\n",
       "      <th>18</th>\n",
       "      <td>शिक्षा</td>\n",
       "      <td>लखनऊ के सुभाष चन्द्र बोस पीजी  डिग्री कॉलेज की...</td>\n",
       "    </tr>\n",
       "    <tr>\n",
       "      <th>19</th>\n",
       "      <td>शिक्षा</td>\n",
       "      <td>गया के वजीरगंज में विद्यालय निरीक्षण करने गये ...</td>\n",
       "    </tr>\n",
       "  </tbody>\n",
       "</table>\n",
       "</div>"
      ],
      "text/plain": [
       "     language                                              tweet\n",
       "0   education  🗽 Tomorrow at 10 am ET is GitHub Field Day NYC...\n",
       "1   education  We are glad to welcome our Eminent Speakers at...\n",
       "2   education  “Show me a child who doesn’t want to hear a st...\n",
       "3   education  My budget would take on Big Pharma to lower dr...\n",
       "4   education  y’all need to start bringing the “if he wanted...\n",
       "5   education  Flint’s school buildings will be closed today ...\n",
       "6   education  Banning TikTok in Nigeria, similar to the US b...\n",
       "7   education  The capacity to learn is a gift; the ability t...\n",
       "8   education  Name:   Mawidi \\nTribe:     Luhya(nyore)\\n Age...\n",
       "9   education  Never forget: our government demanded that you...\n",
       "10     शिक्षा  चलो बच्चों मिल कर जुड़े गट्टू और चिंकी के साथ ...\n",
       "11     शिक्षा  आये दिन युवा #रोजगार न मिल पाने के कारण जहर खा...\n",
       "12     शिक्षा  जानिए देश की पहली AI Teacher आइरिस के बारे में...\n",
       "13     शिक्षा  Bharat Express Uttarakhand Conclave: उत्तराखंड...\n",
       "14     शिक्षा  पेपर लीक का \"भाजपाई नेक्सस\"! \\n\\n#Education #E...\n",
       "15     शिक्षा  शिक्षा विभाग के अन्तर्गत आने वाले \\nBlock educ...\n",
       "16     शिक्षा  यूजीसी बना \"मोदी चापलूसी कमिशन\"! \\n\\n#UGC #Edu...\n",
       "17     शिक्षा  #Paper टल सकता है पर चौथी पास राजा का दौरा नही...\n",
       "18     शिक्षा  लखनऊ के सुभाष चन्द्र बोस पीजी  डिग्री कॉलेज की...\n",
       "19     शिक्षा  गया के वजीरगंज में विद्यालय निरीक्षण करने गये ..."
      ]
     },
     "execution_count": 21,
     "metadata": {},
     "output_type": "execute_result"
    }
   ],
   "source": [
    "rows=[]\n",
    "for key, value in res.items():\n",
    "    for tweet in value['tweets']:\n",
    "        row_data = {\n",
    "            'language': key.strip(),  \n",
    "            'tweet': tweet\n",
    "        }\n",
    "        rows.append(row_data)\n",
    "\n",
    "tweets = pd.DataFrame(rows)\n",
    "\n",
    "tweets"
   ]
  },
  {
   "cell_type": "code",
   "execution_count": 23,
   "metadata": {},
   "outputs": [],
   "source": [
    "tweets.to_csv('data/tweets.csv', index=False)"
   ]
  }
 ],
 "metadata": {
  "colab": {
   "provenance": []
  },
  "kernelspec": {
   "display_name": "Python 3 (ipykernel)",
   "language": "python",
   "name": "python3"
  },
  "language_info": {
   "codemirror_mode": {
    "name": "ipython",
    "version": 3
   },
   "file_extension": ".py",
   "mimetype": "text/x-python",
   "name": "python",
   "nbconvert_exporter": "python",
   "pygments_lexer": "ipython3",
   "version": "3.9.13"
  }
 },
 "nbformat": 4,
 "nbformat_minor": 1
}
