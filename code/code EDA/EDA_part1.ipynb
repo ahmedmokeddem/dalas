{
 "cells": [
  {
   "cell_type": "code",
   "execution_count": 1,
   "metadata": {},
   "outputs": [],
   "source": [
    "import pandas as pd\n",
    "import numpy as np\n",
    "import plotly.express as px\n",
    "import plotly.graph_objects as go\n",
    "from sklearn.preprocessing import MinMaxScaler\n"
   ]
  },
  {
   "cell_type": "code",
   "execution_count": 2,
   "metadata": {},
   "outputs": [
    {
     "data": {
      "text/html": [
       "<div>\n",
       "<style scoped>\n",
       "    .dataframe tbody tr th:only-of-type {\n",
       "        vertical-align: middle;\n",
       "    }\n",
       "\n",
       "    .dataframe tbody tr th {\n",
       "        vertical-align: top;\n",
       "    }\n",
       "\n",
       "    .dataframe thead th {\n",
       "        text-align: right;\n",
       "    }\n",
       "</style>\n",
       "<table border=\"1\" class=\"dataframe\">\n",
       "  <thead>\n",
       "    <tr style=\"text-align: right;\">\n",
       "      <th></th>\n",
       "      <th>Country</th>\n",
       "      <th>Notes_Musees</th>\n",
       "      <th>Nbvotes_Musees_Clean</th>\n",
       "      <th>Nb_Prixnobel</th>\n",
       "      <th>Annee_Souverainete</th>\n",
       "      <th>Nb_Univtop500</th>\n",
       "      <th>Mean_Rank_Univ</th>\n",
       "      <th>Political_Regime</th>\n",
       "      <th>Immigrationbycountry_Immigrants</th>\n",
       "      <th>Immigrationbycountry_Emigrants</th>\n",
       "      <th>...</th>\n",
       "      <th>Averageiqbycountry_Iqlynnbecker2019</th>\n",
       "      <th>Averageiqbycountry_Sourcelynnbecker2019</th>\n",
       "      <th>Averageiq_Ici2017Grade</th>\n",
       "      <th>Averageiq_Ici2017Score</th>\n",
       "      <th>Averageiqpisa2022Meanscoremathematics</th>\n",
       "      <th>Averageiqpisa2022Meanscorereading</th>\n",
       "      <th>Averageiqpisa2022Meanscorescience</th>\n",
       "      <th>Gdp_Percapita</th>\n",
       "      <th>Indice_Evolution</th>\n",
       "      <th>Nb_Foreign_Students</th>\n",
       "    </tr>\n",
       "  </thead>\n",
       "  <tbody>\n",
       "    <tr>\n",
       "      <th>0</th>\n",
       "      <td>Afghanistan</td>\n",
       "      <td>[4.5]</td>\n",
       "      <td>[574.0]</td>\n",
       "      <td>0.0</td>\n",
       "      <td>1919.0</td>\n",
       "      <td>0.0</td>\n",
       "      <td>NaN</td>\n",
       "      <td>1.0</td>\n",
       "      <td>144098.0</td>\n",
       "      <td>5853838.0</td>\n",
       "      <td>...</td>\n",
       "      <td>82.12</td>\n",
       "      <td>E</td>\n",
       "      <td>NaN</td>\n",
       "      <td>NaN</td>\n",
       "      <td>368.0</td>\n",
       "      <td>358.0</td>\n",
       "      <td>376.0</td>\n",
       "      <td>346.873954</td>\n",
       "      <td>3.303561</td>\n",
       "      <td>NaN</td>\n",
       "    </tr>\n",
       "    <tr>\n",
       "      <th>1</th>\n",
       "      <td>Albania</td>\n",
       "      <td>['4,1', '4,4', '4,6', '4,6', '4,4', '4,7', '4,...</td>\n",
       "      <td>[1000.0, 1000.0, 471.0, 1000.0, 3000.0, 259.0,...</td>\n",
       "      <td>0.0</td>\n",
       "      <td>1912.0</td>\n",
       "      <td>0.0</td>\n",
       "      <td>NaN</td>\n",
       "      <td>1.0</td>\n",
       "      <td>48810.0</td>\n",
       "      <td>1250451.0</td>\n",
       "      <td>...</td>\n",
       "      <td>81.75</td>\n",
       "      <td>E</td>\n",
       "      <td>D+</td>\n",
       "      <td>23.4</td>\n",
       "      <td>NaN</td>\n",
       "      <td>NaN</td>\n",
       "      <td>NaN</td>\n",
       "      <td>6455.209751</td>\n",
       "      <td>57.635801</td>\n",
       "      <td>NaN</td>\n",
       "    </tr>\n",
       "    <tr>\n",
       "      <th>2</th>\n",
       "      <td>Algeria</td>\n",
       "      <td>['4,4', '4,6', '4,4', '4,3', '4,7', '4,6', '4,...</td>\n",
       "      <td>[250.0, 545.0, 790.0, 199.0, 170.0, 348.0, 240...</td>\n",
       "      <td>2.0</td>\n",
       "      <td>1962.0</td>\n",
       "      <td>0.0</td>\n",
       "      <td>NaN</td>\n",
       "      <td>1.0</td>\n",
       "      <td>250378.0</td>\n",
       "      <td>2022337.0</td>\n",
       "      <td>...</td>\n",
       "      <td>76.00</td>\n",
       "      <td>E</td>\n",
       "      <td>D</td>\n",
       "      <td>19.1</td>\n",
       "      <td>378.0</td>\n",
       "      <td>401.0</td>\n",
       "      <td>406.0</td>\n",
       "      <td>3640.548936</td>\n",
       "      <td>58.718531</td>\n",
       "      <td>NaN</td>\n",
       "    </tr>\n",
       "    <tr>\n",
       "      <th>3</th>\n",
       "      <td>Andorra</td>\n",
       "      <td>['4,5', '4,5', '4,6', '4,4', '4,5', '4,7', '4,...</td>\n",
       "      <td>[383.0, 563.0, 153.0, 421.0, 193.0, 56.0, 128....</td>\n",
       "      <td>0.0</td>\n",
       "      <td>NaN</td>\n",
       "      <td>0.0</td>\n",
       "      <td>NaN</td>\n",
       "      <td>NaN</td>\n",
       "      <td>45574.0</td>\n",
       "      <td>11132.0</td>\n",
       "      <td>...</td>\n",
       "      <td>95.20</td>\n",
       "      <td>E</td>\n",
       "      <td>NaN</td>\n",
       "      <td>NaN</td>\n",
       "      <td>NaN</td>\n",
       "      <td>NaN</td>\n",
       "      <td>NaN</td>\n",
       "      <td>41655.939232</td>\n",
       "      <td>NaN</td>\n",
       "      <td>NaN</td>\n",
       "    </tr>\n",
       "    <tr>\n",
       "      <th>4</th>\n",
       "      <td>Angola</td>\n",
       "      <td>['4,8', '4,2', '4,1', '3,9', '4,3', '4,5', '4,...</td>\n",
       "      <td>[4.0, 421.0, 191.0, 116.0, 423.0, 11.0, 261.0,...</td>\n",
       "      <td>0.0</td>\n",
       "      <td>1975.0</td>\n",
       "      <td>0.0</td>\n",
       "      <td>NaN</td>\n",
       "      <td>1.0</td>\n",
       "      <td>656434.0</td>\n",
       "      <td>668066.0</td>\n",
       "      <td>...</td>\n",
       "      <td>75.10</td>\n",
       "      <td>T</td>\n",
       "      <td>NaN</td>\n",
       "      <td>NaN</td>\n",
       "      <td>487.0</td>\n",
       "      <td>498.0</td>\n",
       "      <td>507.0</td>\n",
       "      <td>1868.699719</td>\n",
       "      <td>38.136729</td>\n",
       "      <td>NaN</td>\n",
       "    </tr>\n",
       "    <tr>\n",
       "      <th>...</th>\n",
       "      <td>...</td>\n",
       "      <td>...</td>\n",
       "      <td>...</td>\n",
       "      <td>...</td>\n",
       "      <td>...</td>\n",
       "      <td>...</td>\n",
       "      <td>...</td>\n",
       "      <td>...</td>\n",
       "      <td>...</td>\n",
       "      <td>...</td>\n",
       "      <td>...</td>\n",
       "      <td>...</td>\n",
       "      <td>...</td>\n",
       "      <td>...</td>\n",
       "      <td>...</td>\n",
       "      <td>...</td>\n",
       "      <td>...</td>\n",
       "      <td>...</td>\n",
       "      <td>...</td>\n",
       "      <td>...</td>\n",
       "      <td>...</td>\n",
       "    </tr>\n",
       "    <tr>\n",
       "      <th>192</th>\n",
       "      <td>Venezuela</td>\n",
       "      <td>['4,2', '4,5', '4,4', '4,3', '4,7', '4,2', '4,...</td>\n",
       "      <td>[620.0, 266.0, 243.0, 805.0, 13.0, 314.0, 699....</td>\n",
       "      <td>1.0</td>\n",
       "      <td>1811.0</td>\n",
       "      <td>0.0</td>\n",
       "      <td>NaN</td>\n",
       "      <td>1.0</td>\n",
       "      <td>1324193.0</td>\n",
       "      <td>5415337.0</td>\n",
       "      <td>...</td>\n",
       "      <td>82.99</td>\n",
       "      <td>T</td>\n",
       "      <td>C-</td>\n",
       "      <td>26.8</td>\n",
       "      <td>NaN</td>\n",
       "      <td>NaN</td>\n",
       "      <td>NaN</td>\n",
       "      <td>17043.477492</td>\n",
       "      <td>80.016326</td>\n",
       "      <td>NaN</td>\n",
       "    </tr>\n",
       "    <tr>\n",
       "      <th>193</th>\n",
       "      <td>Vietnam</td>\n",
       "      <td>[]</td>\n",
       "      <td>[]</td>\n",
       "      <td>1.0</td>\n",
       "      <td>1945.0</td>\n",
       "      <td>0.0</td>\n",
       "      <td>NaN</td>\n",
       "      <td>0.0</td>\n",
       "      <td>76767.0</td>\n",
       "      <td>3392025.0</td>\n",
       "      <td>...</td>\n",
       "      <td>89.53</td>\n",
       "      <td>T</td>\n",
       "      <td>C-</td>\n",
       "      <td>25.1</td>\n",
       "      <td>NaN</td>\n",
       "      <td>NaN</td>\n",
       "      <td>NaN</td>\n",
       "      <td>3728.987606</td>\n",
       "      <td>47.202375</td>\n",
       "      <td>NaN</td>\n",
       "    </tr>\n",
       "    <tr>\n",
       "      <th>194</th>\n",
       "      <td>Yemen</td>\n",
       "      <td>['4.4', '4.4', '4.2', '5.0', '5.0', '4.8', '4....</td>\n",
       "      <td>[244.0, 222.0, 147.0, 2.0, 6.0, 5.0, 7.0, 4.0,...</td>\n",
       "      <td>1.0</td>\n",
       "      <td>1990.0</td>\n",
       "      <td>0.0</td>\n",
       "      <td>NaN</td>\n",
       "      <td>0.0</td>\n",
       "      <td>387113.0</td>\n",
       "      <td>1301166.0</td>\n",
       "      <td>...</td>\n",
       "      <td>62.86</td>\n",
       "      <td>T</td>\n",
       "      <td>NaN</td>\n",
       "      <td>NaN</td>\n",
       "      <td>NaN</td>\n",
       "      <td>NaN</td>\n",
       "      <td>NaN</td>\n",
       "      <td>641.196791</td>\n",
       "      <td>18.858729</td>\n",
       "      <td>NaN</td>\n",
       "    </tr>\n",
       "    <tr>\n",
       "      <th>195</th>\n",
       "      <td>Zambia</td>\n",
       "      <td>['4.3', '4.2', '3.7', '4.3', '3.8', '3.9', '3....</td>\n",
       "      <td>[371.0, 1000.0, 230.0, 94.0, 155.0, 442.0, 12....</td>\n",
       "      <td>0.0</td>\n",
       "      <td>1964.0</td>\n",
       "      <td>0.0</td>\n",
       "      <td>NaN</td>\n",
       "      <td>1.0</td>\n",
       "      <td>187955.0</td>\n",
       "      <td>200700.0</td>\n",
       "      <td>...</td>\n",
       "      <td>68.43</td>\n",
       "      <td>E</td>\n",
       "      <td>D</td>\n",
       "      <td>18.9</td>\n",
       "      <td>NaN</td>\n",
       "      <td>NaN</td>\n",
       "      <td>NaN</td>\n",
       "      <td>1103.845323</td>\n",
       "      <td>18.397422</td>\n",
       "      <td>NaN</td>\n",
       "    </tr>\n",
       "    <tr>\n",
       "      <th>196</th>\n",
       "      <td>Zimbabwe</td>\n",
       "      <td>['3.8', '4.1', '4.3', '3.8', '4.1', '4.0', '4....</td>\n",
       "      <td>[483.0, 38.0, 391.0, 319.0, 311.0, 786.0, 56.0...</td>\n",
       "      <td>0.0</td>\n",
       "      <td>1965.0</td>\n",
       "      <td>0.0</td>\n",
       "      <td>NaN</td>\n",
       "      <td>1.0</td>\n",
       "      <td>416141.0</td>\n",
       "      <td>1243314.0</td>\n",
       "      <td>...</td>\n",
       "      <td>74.01</td>\n",
       "      <td>T</td>\n",
       "      <td>D-</td>\n",
       "      <td>11.7</td>\n",
       "      <td>NaN</td>\n",
       "      <td>NaN</td>\n",
       "      <td>NaN</td>\n",
       "      <td>1738.376542</td>\n",
       "      <td>29.464009</td>\n",
       "      <td>NaN</td>\n",
       "    </tr>\n",
       "  </tbody>\n",
       "</table>\n",
       "<p>197 rows × 36 columns</p>\n",
       "</div>"
      ],
      "text/plain": [
       "         Country                                       Notes_Musees  \\\n",
       "0    Afghanistan                                              [4.5]   \n",
       "1        Albania  ['4,1', '4,4', '4,6', '4,6', '4,4', '4,7', '4,...   \n",
       "2        Algeria  ['4,4', '4,6', '4,4', '4,3', '4,7', '4,6', '4,...   \n",
       "3        Andorra  ['4,5', '4,5', '4,6', '4,4', '4,5', '4,7', '4,...   \n",
       "4         Angola  ['4,8', '4,2', '4,1', '3,9', '4,3', '4,5', '4,...   \n",
       "..           ...                                                ...   \n",
       "192    Venezuela  ['4,2', '4,5', '4,4', '4,3', '4,7', '4,2', '4,...   \n",
       "193      Vietnam                                                 []   \n",
       "194        Yemen  ['4.4', '4.4', '4.2', '5.0', '5.0', '4.8', '4....   \n",
       "195       Zambia  ['4.3', '4.2', '3.7', '4.3', '3.8', '3.9', '3....   \n",
       "196     Zimbabwe  ['3.8', '4.1', '4.3', '3.8', '4.1', '4.0', '4....   \n",
       "\n",
       "                                  Nbvotes_Musees_Clean  Nb_Prixnobel  \\\n",
       "0                                              [574.0]           0.0   \n",
       "1    [1000.0, 1000.0, 471.0, 1000.0, 3000.0, 259.0,...           0.0   \n",
       "2    [250.0, 545.0, 790.0, 199.0, 170.0, 348.0, 240...           2.0   \n",
       "3    [383.0, 563.0, 153.0, 421.0, 193.0, 56.0, 128....           0.0   \n",
       "4    [4.0, 421.0, 191.0, 116.0, 423.0, 11.0, 261.0,...           0.0   \n",
       "..                                                 ...           ...   \n",
       "192  [620.0, 266.0, 243.0, 805.0, 13.0, 314.0, 699....           1.0   \n",
       "193                                                 []           1.0   \n",
       "194  [244.0, 222.0, 147.0, 2.0, 6.0, 5.0, 7.0, 4.0,...           1.0   \n",
       "195  [371.0, 1000.0, 230.0, 94.0, 155.0, 442.0, 12....           0.0   \n",
       "196  [483.0, 38.0, 391.0, 319.0, 311.0, 786.0, 56.0...           0.0   \n",
       "\n",
       "     Annee_Souverainete  Nb_Univtop500  Mean_Rank_Univ  Political_Regime  \\\n",
       "0                1919.0            0.0             NaN               1.0   \n",
       "1                1912.0            0.0             NaN               1.0   \n",
       "2                1962.0            0.0             NaN               1.0   \n",
       "3                   NaN            0.0             NaN               NaN   \n",
       "4                1975.0            0.0             NaN               1.0   \n",
       "..                  ...            ...             ...               ...   \n",
       "192              1811.0            0.0             NaN               1.0   \n",
       "193              1945.0            0.0             NaN               0.0   \n",
       "194              1990.0            0.0             NaN               0.0   \n",
       "195              1964.0            0.0             NaN               1.0   \n",
       "196              1965.0            0.0             NaN               1.0   \n",
       "\n",
       "     Immigrationbycountry_Immigrants  Immigrationbycountry_Emigrants  ...  \\\n",
       "0                           144098.0                       5853838.0  ...   \n",
       "1                            48810.0                       1250451.0  ...   \n",
       "2                           250378.0                       2022337.0  ...   \n",
       "3                            45574.0                         11132.0  ...   \n",
       "4                           656434.0                        668066.0  ...   \n",
       "..                               ...                             ...  ...   \n",
       "192                        1324193.0                       5415337.0  ...   \n",
       "193                          76767.0                       3392025.0  ...   \n",
       "194                         387113.0                       1301166.0  ...   \n",
       "195                         187955.0                        200700.0  ...   \n",
       "196                         416141.0                       1243314.0  ...   \n",
       "\n",
       "     Averageiqbycountry_Iqlynnbecker2019  \\\n",
       "0                                  82.12   \n",
       "1                                  81.75   \n",
       "2                                  76.00   \n",
       "3                                  95.20   \n",
       "4                                  75.10   \n",
       "..                                   ...   \n",
       "192                                82.99   \n",
       "193                                89.53   \n",
       "194                                62.86   \n",
       "195                                68.43   \n",
       "196                                74.01   \n",
       "\n",
       "     Averageiqbycountry_Sourcelynnbecker2019  Averageiq_Ici2017Grade  \\\n",
       "0                                          E                     NaN   \n",
       "1                                          E                      D+   \n",
       "2                                          E                       D   \n",
       "3                                          E                     NaN   \n",
       "4                                          T                     NaN   \n",
       "..                                       ...                     ...   \n",
       "192                                        T                      C-   \n",
       "193                                        T                      C-   \n",
       "194                                        T                     NaN   \n",
       "195                                        E                       D   \n",
       "196                                        T                      D-   \n",
       "\n",
       "     Averageiq_Ici2017Score  Averageiqpisa2022Meanscoremathematics  \\\n",
       "0                       NaN                                  368.0   \n",
       "1                      23.4                                    NaN   \n",
       "2                      19.1                                  378.0   \n",
       "3                       NaN                                    NaN   \n",
       "4                       NaN                                  487.0   \n",
       "..                      ...                                    ...   \n",
       "192                    26.8                                    NaN   \n",
       "193                    25.1                                    NaN   \n",
       "194                     NaN                                    NaN   \n",
       "195                    18.9                                    NaN   \n",
       "196                    11.7                                    NaN   \n",
       "\n",
       "     Averageiqpisa2022Meanscorereading  Averageiqpisa2022Meanscorescience  \\\n",
       "0                                358.0                              376.0   \n",
       "1                                  NaN                                NaN   \n",
       "2                                401.0                              406.0   \n",
       "3                                  NaN                                NaN   \n",
       "4                                498.0                              507.0   \n",
       "..                                 ...                                ...   \n",
       "192                                NaN                                NaN   \n",
       "193                                NaN                                NaN   \n",
       "194                                NaN                                NaN   \n",
       "195                                NaN                                NaN   \n",
       "196                                NaN                                NaN   \n",
       "\n",
       "     Gdp_Percapita  Indice_Evolution  Nb_Foreign_Students  \n",
       "0       346.873954          3.303561                  NaN  \n",
       "1      6455.209751         57.635801                  NaN  \n",
       "2      3640.548936         58.718531                  NaN  \n",
       "3     41655.939232               NaN                  NaN  \n",
       "4      1868.699719         38.136729                  NaN  \n",
       "..             ...               ...                  ...  \n",
       "192   17043.477492         80.016326                  NaN  \n",
       "193    3728.987606         47.202375                  NaN  \n",
       "194     641.196791         18.858729                  NaN  \n",
       "195    1103.845323         18.397422                  NaN  \n",
       "196    1738.376542         29.464009                  NaN  \n",
       "\n",
       "[197 rows x 36 columns]"
      ]
     },
     "execution_count": 2,
     "metadata": {},
     "output_type": "execute_result"
    }
   ],
   "source": [
    "df=pd.read_csv(\"../../datasets_merged/df_mergedFinal.csv\")\n",
    "df"
   ]
  },
  {
   "cell_type": "markdown",
   "metadata": {},
   "source": [
    "### Exploration indice_evolution et continent"
   ]
  },
  {
   "cell_type": "code",
   "execution_count": 3,
   "metadata": {},
   "outputs": [
    {
     "name": "stdout",
     "output_type": "stream",
     "text": [
      "La liste des continents :  ['asia' 'europe' 'africa' nan 'south-america' 'oceania' 'north-america']\n",
      "Le nombre de pays sans continent  14\n",
      "Le nombre de pays sans l'information sur l'indice de leurs évolution 35\n"
     ]
    }
   ],
   "source": [
    "print(\"La liste des continents : \",df[\"Continent\"].unique())\n",
    "print(\"Le nombre de pays sans continent \", np.sum(df[\"Continent\"].isna()))\n",
    "print(\"Le nombre de pays sans l'information sur l'indice de leurs évolution\", np.sum(df[\"Indice_Evolution\"].isna()))"
   ]
  },
  {
   "cell_type": "code",
   "execution_count": 4,
   "metadata": {},
   "outputs": [
    {
     "data": {
      "text/html": [
       "<div>\n",
       "<style scoped>\n",
       "    .dataframe tbody tr th:only-of-type {\n",
       "        vertical-align: middle;\n",
       "    }\n",
       "\n",
       "    .dataframe tbody tr th {\n",
       "        vertical-align: top;\n",
       "    }\n",
       "\n",
       "    .dataframe thead th {\n",
       "        text-align: right;\n",
       "    }\n",
       "</style>\n",
       "<table border=\"1\" class=\"dataframe\">\n",
       "  <thead>\n",
       "    <tr style=\"text-align: right;\">\n",
       "      <th></th>\n",
       "      <th>Country</th>\n",
       "    </tr>\n",
       "  </thead>\n",
       "  <tbody>\n",
       "    <tr>\n",
       "      <th>5</th>\n",
       "      <td>Antigua and Barbuda</td>\n",
       "    </tr>\n",
       "    <tr>\n",
       "      <th>25</th>\n",
       "      <td>British Virgin Islands</td>\n",
       "    </tr>\n",
       "    <tr>\n",
       "      <th>34</th>\n",
       "      <td>Cayman Islands</td>\n",
       "    </tr>\n",
       "    <tr>\n",
       "      <th>42</th>\n",
       "      <td>Cook Islands</td>\n",
       "    </tr>\n",
       "    <tr>\n",
       "      <th>57</th>\n",
       "      <td>Eswatini</td>\n",
       "    </tr>\n",
       "    <tr>\n",
       "      <th>68</th>\n",
       "      <td>Greenland</td>\n",
       "    </tr>\n",
       "    <tr>\n",
       "      <th>103</th>\n",
       "      <td>Macau</td>\n",
       "    </tr>\n",
       "    <tr>\n",
       "      <th>124</th>\n",
       "      <td>New Caledonia</td>\n",
       "    </tr>\n",
       "    <tr>\n",
       "      <th>131</th>\n",
       "      <td>Northern Mariana Islands</td>\n",
       "    </tr>\n",
       "    <tr>\n",
       "      <th>149</th>\n",
       "      <td>Saint Kitts and Nevis</td>\n",
       "    </tr>\n",
       "    <tr>\n",
       "      <th>150</th>\n",
       "      <td>Saint Lucia</td>\n",
       "    </tr>\n",
       "    <tr>\n",
       "      <th>151</th>\n",
       "      <td>Saint Vincent and the Grenadines</td>\n",
       "    </tr>\n",
       "    <tr>\n",
       "      <th>153</th>\n",
       "      <td>Sao Tome and Principe</td>\n",
       "    </tr>\n",
       "    <tr>\n",
       "      <th>183</th>\n",
       "      <td>Turks and Caicos Islands</td>\n",
       "    </tr>\n",
       "  </tbody>\n",
       "</table>\n",
       "</div>"
      ],
      "text/plain": [
       "                              Country\n",
       "5                 Antigua and Barbuda\n",
       "25             British Virgin Islands\n",
       "34                     Cayman Islands\n",
       "42                       Cook Islands\n",
       "57                           Eswatini\n",
       "68                          Greenland\n",
       "103                             Macau\n",
       "124                     New Caledonia\n",
       "131          Northern Mariana Islands\n",
       "149             Saint Kitts and Nevis\n",
       "150                       Saint Lucia\n",
       "151  Saint Vincent and the Grenadines\n",
       "153             Sao Tome and Principe\n",
       "183          Turks and Caicos Islands"
      ]
     },
     "execution_count": 4,
     "metadata": {},
     "output_type": "execute_result"
    }
   ],
   "source": [
    "df.loc[df[\"Continent\"].isna(), ['Country']]"
   ]
  },
  {
   "cell_type": "code",
   "execution_count": 5,
   "metadata": {},
   "outputs": [],
   "source": [
    "# Affecter manuellement les continents aux pays ***"
   ]
  },
  {
   "cell_type": "code",
   "execution_count": 6,
   "metadata": {},
   "outputs": [
    {
     "data": {
      "text/html": [
       "<div>\n",
       "<style scoped>\n",
       "    .dataframe tbody tr th:only-of-type {\n",
       "        vertical-align: middle;\n",
       "    }\n",
       "\n",
       "    .dataframe tbody tr th {\n",
       "        vertical-align: top;\n",
       "    }\n",
       "\n",
       "    .dataframe thead th {\n",
       "        text-align: right;\n",
       "    }\n",
       "</style>\n",
       "<table border=\"1\" class=\"dataframe\">\n",
       "  <thead>\n",
       "    <tr style=\"text-align: right;\">\n",
       "      <th></th>\n",
       "      <th>Country</th>\n",
       "      <th>Annee_Souverainete</th>\n",
       "      <th>Gdp</th>\n",
       "    </tr>\n",
       "  </thead>\n",
       "  <tbody>\n",
       "    <tr>\n",
       "      <th>3</th>\n",
       "      <td>Andorra</td>\n",
       "      <td>NaN</td>\n",
       "      <td>3.325144e+09</td>\n",
       "    </tr>\n",
       "    <tr>\n",
       "      <th>5</th>\n",
       "      <td>Antigua and Barbuda</td>\n",
       "      <td>NaN</td>\n",
       "      <td>1.601367e+09</td>\n",
       "    </tr>\n",
       "    <tr>\n",
       "      <th>14</th>\n",
       "      <td>Barbados</td>\n",
       "      <td>NaN</td>\n",
       "      <td>4.923100e+09</td>\n",
       "    </tr>\n",
       "    <tr>\n",
       "      <th>18</th>\n",
       "      <td>Benin</td>\n",
       "      <td>NaN</td>\n",
       "      <td>1.768762e+10</td>\n",
       "    </tr>\n",
       "    <tr>\n",
       "      <th>19</th>\n",
       "      <td>Bermuda</td>\n",
       "      <td>NaN</td>\n",
       "      <td>7.127200e+09</td>\n",
       "    </tr>\n",
       "    <tr>\n",
       "      <th>20</th>\n",
       "      <td>Bhutan</td>\n",
       "      <td>NaN</td>\n",
       "      <td>2.768004e+09</td>\n",
       "    </tr>\n",
       "    <tr>\n",
       "      <th>25</th>\n",
       "      <td>British Virgin Islands</td>\n",
       "      <td>NaN</td>\n",
       "      <td>NaN</td>\n",
       "    </tr>\n",
       "    <tr>\n",
       "      <th>33</th>\n",
       "      <td>Cape Verde</td>\n",
       "      <td>NaN</td>\n",
       "      <td>1.997866e+09</td>\n",
       "    </tr>\n",
       "    <tr>\n",
       "      <th>34</th>\n",
       "      <td>Cayman Islands</td>\n",
       "      <td>NaN</td>\n",
       "      <td>6.028374e+09</td>\n",
       "    </tr>\n",
       "    <tr>\n",
       "      <th>42</th>\n",
       "      <td>Cook Islands</td>\n",
       "      <td>NaN</td>\n",
       "      <td>NaN</td>\n",
       "    </tr>\n",
       "    <tr>\n",
       "      <th>50</th>\n",
       "      <td>Dominica</td>\n",
       "      <td>NaN</td>\n",
       "      <td>5.552667e+08</td>\n",
       "    </tr>\n",
       "    <tr>\n",
       "      <th>52</th>\n",
       "      <td>Ecuador</td>\n",
       "      <td>NaN</td>\n",
       "      <td>1.061659e+11</td>\n",
       "    </tr>\n",
       "    <tr>\n",
       "      <th>68</th>\n",
       "      <td>Greenland</td>\n",
       "      <td>NaN</td>\n",
       "      <td>3.235810e+09</td>\n",
       "    </tr>\n",
       "    <tr>\n",
       "      <th>69</th>\n",
       "      <td>Grenada</td>\n",
       "      <td>NaN</td>\n",
       "      <td>1.122800e+09</td>\n",
       "    </tr>\n",
       "    <tr>\n",
       "      <th>75</th>\n",
       "      <td>Hong Kong</td>\n",
       "      <td>NaN</td>\n",
       "      <td>3.689114e+11</td>\n",
       "    </tr>\n",
       "    <tr>\n",
       "      <th>93</th>\n",
       "      <td>Kyrgyzstan</td>\n",
       "      <td>NaN</td>\n",
       "      <td>NaN</td>\n",
       "    </tr>\n",
       "    <tr>\n",
       "      <th>103</th>\n",
       "      <td>Macau</td>\n",
       "      <td>NaN</td>\n",
       "      <td>3.096933e+10</td>\n",
       "    </tr>\n",
       "    <tr>\n",
       "      <th>114</th>\n",
       "      <td>Micronesia</td>\n",
       "      <td>NaN</td>\n",
       "      <td>4.060000e+08</td>\n",
       "    </tr>\n",
       "    <tr>\n",
       "      <th>120</th>\n",
       "      <td>Myanmar</td>\n",
       "      <td>NaN</td>\n",
       "      <td>6.626281e+10</td>\n",
       "    </tr>\n",
       "    <tr>\n",
       "      <th>124</th>\n",
       "      <td>New Caledonia</td>\n",
       "      <td>NaN</td>\n",
       "      <td>1.007135e+10</td>\n",
       "    </tr>\n",
       "    <tr>\n",
       "      <th>129</th>\n",
       "      <td>North Korea</td>\n",
       "      <td>1948.0</td>\n",
       "      <td>NaN</td>\n",
       "    </tr>\n",
       "    <tr>\n",
       "      <th>130</th>\n",
       "      <td>North Macedonia</td>\n",
       "      <td>NaN</td>\n",
       "      <td>1.399836e+10</td>\n",
       "    </tr>\n",
       "    <tr>\n",
       "      <th>131</th>\n",
       "      <td>Northern Mariana Islands</td>\n",
       "      <td>NaN</td>\n",
       "      <td>8.580000e+08</td>\n",
       "    </tr>\n",
       "    <tr>\n",
       "      <th>135</th>\n",
       "      <td>Palestine</td>\n",
       "      <td>NaN</td>\n",
       "      <td>NaN</td>\n",
       "    </tr>\n",
       "    <tr>\n",
       "      <th>143</th>\n",
       "      <td>Puerto Rico</td>\n",
       "      <td>NaN</td>\n",
       "      <td>1.063689e+11</td>\n",
       "    </tr>\n",
       "    <tr>\n",
       "      <th>149</th>\n",
       "      <td>Saint Kitts and Nevis</td>\n",
       "      <td>NaN</td>\n",
       "      <td>8.585926e+08</td>\n",
       "    </tr>\n",
       "    <tr>\n",
       "      <th>150</th>\n",
       "      <td>Saint Lucia</td>\n",
       "      <td>NaN</td>\n",
       "      <td>1.961111e+09</td>\n",
       "    </tr>\n",
       "    <tr>\n",
       "      <th>151</th>\n",
       "      <td>Saint Vincent and the Grenadines</td>\n",
       "      <td>NaN</td>\n",
       "      <td>8.722222e+08</td>\n",
       "    </tr>\n",
       "    <tr>\n",
       "      <th>170</th>\n",
       "      <td>Suriname</td>\n",
       "      <td>NaN</td>\n",
       "      <td>3.081402e+09</td>\n",
       "    </tr>\n",
       "    <tr>\n",
       "      <th>172</th>\n",
       "      <td>Switzerland</td>\n",
       "      <td>NaN</td>\n",
       "      <td>8.134088e+11</td>\n",
       "    </tr>\n",
       "    <tr>\n",
       "      <th>174</th>\n",
       "      <td>Taiwan</td>\n",
       "      <td>1949.0</td>\n",
       "      <td>NaN</td>\n",
       "    </tr>\n",
       "    <tr>\n",
       "      <th>175</th>\n",
       "      <td>Tajikistan</td>\n",
       "      <td>NaN</td>\n",
       "      <td>8.937805e+09</td>\n",
       "    </tr>\n",
       "    <tr>\n",
       "      <th>181</th>\n",
       "      <td>Turkey</td>\n",
       "      <td>NaN</td>\n",
       "      <td>8.198653e+11</td>\n",
       "    </tr>\n",
       "    <tr>\n",
       "      <th>183</th>\n",
       "      <td>Turks and Caicos Islands</td>\n",
       "      <td>NaN</td>\n",
       "      <td>1.044779e+09</td>\n",
       "    </tr>\n",
       "    <tr>\n",
       "      <th>188</th>\n",
       "      <td>United States</td>\n",
       "      <td>NaN</td>\n",
       "      <td>2.331508e+13</td>\n",
       "    </tr>\n",
       "  </tbody>\n",
       "</table>\n",
       "</div>"
      ],
      "text/plain": [
       "                              Country  Annee_Souverainete           Gdp\n",
       "3                             Andorra                 NaN  3.325144e+09\n",
       "5                 Antigua and Barbuda                 NaN  1.601367e+09\n",
       "14                           Barbados                 NaN  4.923100e+09\n",
       "18                              Benin                 NaN  1.768762e+10\n",
       "19                            Bermuda                 NaN  7.127200e+09\n",
       "20                             Bhutan                 NaN  2.768004e+09\n",
       "25             British Virgin Islands                 NaN           NaN\n",
       "33                         Cape Verde                 NaN  1.997866e+09\n",
       "34                     Cayman Islands                 NaN  6.028374e+09\n",
       "42                       Cook Islands                 NaN           NaN\n",
       "50                           Dominica                 NaN  5.552667e+08\n",
       "52                            Ecuador                 NaN  1.061659e+11\n",
       "68                          Greenland                 NaN  3.235810e+09\n",
       "69                            Grenada                 NaN  1.122800e+09\n",
       "75                          Hong Kong                 NaN  3.689114e+11\n",
       "93                         Kyrgyzstan                 NaN           NaN\n",
       "103                             Macau                 NaN  3.096933e+10\n",
       "114                        Micronesia                 NaN  4.060000e+08\n",
       "120                           Myanmar                 NaN  6.626281e+10\n",
       "124                     New Caledonia                 NaN  1.007135e+10\n",
       "129                       North Korea              1948.0           NaN\n",
       "130                   North Macedonia                 NaN  1.399836e+10\n",
       "131          Northern Mariana Islands                 NaN  8.580000e+08\n",
       "135                         Palestine                 NaN           NaN\n",
       "143                       Puerto Rico                 NaN  1.063689e+11\n",
       "149             Saint Kitts and Nevis                 NaN  8.585926e+08\n",
       "150                       Saint Lucia                 NaN  1.961111e+09\n",
       "151  Saint Vincent and the Grenadines                 NaN  8.722222e+08\n",
       "170                          Suriname                 NaN  3.081402e+09\n",
       "172                       Switzerland                 NaN  8.134088e+11\n",
       "174                            Taiwan              1949.0           NaN\n",
       "175                        Tajikistan                 NaN  8.937805e+09\n",
       "181                            Turkey                 NaN  8.198653e+11\n",
       "183          Turks and Caicos Islands                 NaN  1.044779e+09\n",
       "188                     United States                 NaN  2.331508e+13"
      ]
     },
     "execution_count": 6,
     "metadata": {},
     "output_type": "execute_result"
    }
   ],
   "source": [
    "df.loc[df[\"Indice_Evolution\"].isna(), ['Country', 'Annee_Souverainete', \"Gdp\"]]"
   ]
  },
  {
   "cell_type": "code",
   "execution_count": 7,
   "metadata": {},
   "outputs": [
    {
     "data": {
      "text/html": [
       "<div>\n",
       "<style scoped>\n",
       "    .dataframe tbody tr th:only-of-type {\n",
       "        vertical-align: middle;\n",
       "    }\n",
       "\n",
       "    .dataframe tbody tr th {\n",
       "        vertical-align: top;\n",
       "    }\n",
       "\n",
       "    .dataframe thead th {\n",
       "        text-align: right;\n",
       "    }\n",
       "</style>\n",
       "<table border=\"1\" class=\"dataframe\">\n",
       "  <thead>\n",
       "    <tr style=\"text-align: right;\">\n",
       "      <th></th>\n",
       "      <th>Continent</th>\n",
       "      <th>Indice_Evolution</th>\n",
       "    </tr>\n",
       "  </thead>\n",
       "  <tbody>\n",
       "    <tr>\n",
       "      <th>0</th>\n",
       "      <td>africa</td>\n",
       "      <td>38.314013</td>\n",
       "    </tr>\n",
       "    <tr>\n",
       "      <th>5</th>\n",
       "      <td>south-america</td>\n",
       "      <td>61.257608</td>\n",
       "    </tr>\n",
       "    <tr>\n",
       "      <th>3</th>\n",
       "      <td>north-america</td>\n",
       "      <td>101.098201</td>\n",
       "    </tr>\n",
       "    <tr>\n",
       "      <th>4</th>\n",
       "      <td>oceania</td>\n",
       "      <td>150.719097</td>\n",
       "    </tr>\n",
       "    <tr>\n",
       "      <th>1</th>\n",
       "      <td>asia</td>\n",
       "      <td>247.020764</td>\n",
       "    </tr>\n",
       "    <tr>\n",
       "      <th>2</th>\n",
       "      <td>europe</td>\n",
       "      <td>379.513783</td>\n",
       "    </tr>\n",
       "  </tbody>\n",
       "</table>\n",
       "</div>"
      ],
      "text/plain": [
       "       Continent  Indice_Evolution\n",
       "0         africa         38.314013\n",
       "5  south-america         61.257608\n",
       "3  north-america        101.098201\n",
       "4        oceania        150.719097\n",
       "1           asia        247.020764\n",
       "2         europe        379.513783"
      ]
     },
     "execution_count": 7,
     "metadata": {},
     "output_type": "execute_result"
    }
   ],
   "source": [
    "df_continent_indiceEvol=df.loc[:, [\"Continent\", \"Indice_Evolution\"]].groupby(\"Continent\").mean().reset_index().sort_values(by=\"Indice_Evolution\")\n",
    "df_continent_indiceEvol"
   ]
  },
  {
   "cell_type": "code",
   "execution_count": 8,
   "metadata": {},
   "outputs": [
    {
     "data": {
      "application/vnd.plotly.v1+json": {
       "config": {
        "plotlyServerURL": "https://plot.ly"
       },
       "data": [
        {
         "alignmentgroup": "True",
         "hovertemplate": "Continent=%{x}<br>Indice_Evolution=%{y}<extra></extra>",
         "legendgroup": "",
         "marker": {
          "color": "#636efa",
          "pattern": {
           "shape": ""
          }
         },
         "name": "",
         "offsetgroup": "",
         "orientation": "v",
         "showlegend": false,
         "textposition": "auto",
         "type": "bar",
         "x": [
          "africa",
          "south-america",
          "north-america",
          "oceania",
          "asia",
          "europe"
         ],
         "xaxis": "x",
         "y": [
          38.31401285409636,
          61.25760810958998,
          101.09820096535307,
          150.71909742730887,
          247.02076426897116,
          379.51378252114296
         ],
         "yaxis": "y"
        }
       ],
       "layout": {
        "barmode": "relative",
        "legend": {
         "tracegroupgap": 0
        },
        "template": {
         "data": {
          "bar": [
           {
            "error_x": {
             "color": "#2a3f5f"
            },
            "error_y": {
             "color": "#2a3f5f"
            },
            "marker": {
             "line": {
              "color": "#E5ECF6",
              "width": 0.5
             },
             "pattern": {
              "fillmode": "overlay",
              "size": 10,
              "solidity": 0.2
             }
            },
            "type": "bar"
           }
          ],
          "barpolar": [
           {
            "marker": {
             "line": {
              "color": "#E5ECF6",
              "width": 0.5
             },
             "pattern": {
              "fillmode": "overlay",
              "size": 10,
              "solidity": 0.2
             }
            },
            "type": "barpolar"
           }
          ],
          "carpet": [
           {
            "aaxis": {
             "endlinecolor": "#2a3f5f",
             "gridcolor": "white",
             "linecolor": "white",
             "minorgridcolor": "white",
             "startlinecolor": "#2a3f5f"
            },
            "baxis": {
             "endlinecolor": "#2a3f5f",
             "gridcolor": "white",
             "linecolor": "white",
             "minorgridcolor": "white",
             "startlinecolor": "#2a3f5f"
            },
            "type": "carpet"
           }
          ],
          "choropleth": [
           {
            "colorbar": {
             "outlinewidth": 0,
             "ticks": ""
            },
            "type": "choropleth"
           }
          ],
          "contour": [
           {
            "colorbar": {
             "outlinewidth": 0,
             "ticks": ""
            },
            "colorscale": [
             [
              0,
              "#0d0887"
             ],
             [
              0.1111111111111111,
              "#46039f"
             ],
             [
              0.2222222222222222,
              "#7201a8"
             ],
             [
              0.3333333333333333,
              "#9c179e"
             ],
             [
              0.4444444444444444,
              "#bd3786"
             ],
             [
              0.5555555555555556,
              "#d8576b"
             ],
             [
              0.6666666666666666,
              "#ed7953"
             ],
             [
              0.7777777777777778,
              "#fb9f3a"
             ],
             [
              0.8888888888888888,
              "#fdca26"
             ],
             [
              1,
              "#f0f921"
             ]
            ],
            "type": "contour"
           }
          ],
          "contourcarpet": [
           {
            "colorbar": {
             "outlinewidth": 0,
             "ticks": ""
            },
            "type": "contourcarpet"
           }
          ],
          "heatmap": [
           {
            "colorbar": {
             "outlinewidth": 0,
             "ticks": ""
            },
            "colorscale": [
             [
              0,
              "#0d0887"
             ],
             [
              0.1111111111111111,
              "#46039f"
             ],
             [
              0.2222222222222222,
              "#7201a8"
             ],
             [
              0.3333333333333333,
              "#9c179e"
             ],
             [
              0.4444444444444444,
              "#bd3786"
             ],
             [
              0.5555555555555556,
              "#d8576b"
             ],
             [
              0.6666666666666666,
              "#ed7953"
             ],
             [
              0.7777777777777778,
              "#fb9f3a"
             ],
             [
              0.8888888888888888,
              "#fdca26"
             ],
             [
              1,
              "#f0f921"
             ]
            ],
            "type": "heatmap"
           }
          ],
          "heatmapgl": [
           {
            "colorbar": {
             "outlinewidth": 0,
             "ticks": ""
            },
            "colorscale": [
             [
              0,
              "#0d0887"
             ],
             [
              0.1111111111111111,
              "#46039f"
             ],
             [
              0.2222222222222222,
              "#7201a8"
             ],
             [
              0.3333333333333333,
              "#9c179e"
             ],
             [
              0.4444444444444444,
              "#bd3786"
             ],
             [
              0.5555555555555556,
              "#d8576b"
             ],
             [
              0.6666666666666666,
              "#ed7953"
             ],
             [
              0.7777777777777778,
              "#fb9f3a"
             ],
             [
              0.8888888888888888,
              "#fdca26"
             ],
             [
              1,
              "#f0f921"
             ]
            ],
            "type": "heatmapgl"
           }
          ],
          "histogram": [
           {
            "marker": {
             "pattern": {
              "fillmode": "overlay",
              "size": 10,
              "solidity": 0.2
             }
            },
            "type": "histogram"
           }
          ],
          "histogram2d": [
           {
            "colorbar": {
             "outlinewidth": 0,
             "ticks": ""
            },
            "colorscale": [
             [
              0,
              "#0d0887"
             ],
             [
              0.1111111111111111,
              "#46039f"
             ],
             [
              0.2222222222222222,
              "#7201a8"
             ],
             [
              0.3333333333333333,
              "#9c179e"
             ],
             [
              0.4444444444444444,
              "#bd3786"
             ],
             [
              0.5555555555555556,
              "#d8576b"
             ],
             [
              0.6666666666666666,
              "#ed7953"
             ],
             [
              0.7777777777777778,
              "#fb9f3a"
             ],
             [
              0.8888888888888888,
              "#fdca26"
             ],
             [
              1,
              "#f0f921"
             ]
            ],
            "type": "histogram2d"
           }
          ],
          "histogram2dcontour": [
           {
            "colorbar": {
             "outlinewidth": 0,
             "ticks": ""
            },
            "colorscale": [
             [
              0,
              "#0d0887"
             ],
             [
              0.1111111111111111,
              "#46039f"
             ],
             [
              0.2222222222222222,
              "#7201a8"
             ],
             [
              0.3333333333333333,
              "#9c179e"
             ],
             [
              0.4444444444444444,
              "#bd3786"
             ],
             [
              0.5555555555555556,
              "#d8576b"
             ],
             [
              0.6666666666666666,
              "#ed7953"
             ],
             [
              0.7777777777777778,
              "#fb9f3a"
             ],
             [
              0.8888888888888888,
              "#fdca26"
             ],
             [
              1,
              "#f0f921"
             ]
            ],
            "type": "histogram2dcontour"
           }
          ],
          "mesh3d": [
           {
            "colorbar": {
             "outlinewidth": 0,
             "ticks": ""
            },
            "type": "mesh3d"
           }
          ],
          "parcoords": [
           {
            "line": {
             "colorbar": {
              "outlinewidth": 0,
              "ticks": ""
             }
            },
            "type": "parcoords"
           }
          ],
          "pie": [
           {
            "automargin": true,
            "type": "pie"
           }
          ],
          "scatter": [
           {
            "fillpattern": {
             "fillmode": "overlay",
             "size": 10,
             "solidity": 0.2
            },
            "type": "scatter"
           }
          ],
          "scatter3d": [
           {
            "line": {
             "colorbar": {
              "outlinewidth": 0,
              "ticks": ""
             }
            },
            "marker": {
             "colorbar": {
              "outlinewidth": 0,
              "ticks": ""
             }
            },
            "type": "scatter3d"
           }
          ],
          "scattercarpet": [
           {
            "marker": {
             "colorbar": {
              "outlinewidth": 0,
              "ticks": ""
             }
            },
            "type": "scattercarpet"
           }
          ],
          "scattergeo": [
           {
            "marker": {
             "colorbar": {
              "outlinewidth": 0,
              "ticks": ""
             }
            },
            "type": "scattergeo"
           }
          ],
          "scattergl": [
           {
            "marker": {
             "colorbar": {
              "outlinewidth": 0,
              "ticks": ""
             }
            },
            "type": "scattergl"
           }
          ],
          "scattermapbox": [
           {
            "marker": {
             "colorbar": {
              "outlinewidth": 0,
              "ticks": ""
             }
            },
            "type": "scattermapbox"
           }
          ],
          "scatterpolar": [
           {
            "marker": {
             "colorbar": {
              "outlinewidth": 0,
              "ticks": ""
             }
            },
            "type": "scatterpolar"
           }
          ],
          "scatterpolargl": [
           {
            "marker": {
             "colorbar": {
              "outlinewidth": 0,
              "ticks": ""
             }
            },
            "type": "scatterpolargl"
           }
          ],
          "scatterternary": [
           {
            "marker": {
             "colorbar": {
              "outlinewidth": 0,
              "ticks": ""
             }
            },
            "type": "scatterternary"
           }
          ],
          "surface": [
           {
            "colorbar": {
             "outlinewidth": 0,
             "ticks": ""
            },
            "colorscale": [
             [
              0,
              "#0d0887"
             ],
             [
              0.1111111111111111,
              "#46039f"
             ],
             [
              0.2222222222222222,
              "#7201a8"
             ],
             [
              0.3333333333333333,
              "#9c179e"
             ],
             [
              0.4444444444444444,
              "#bd3786"
             ],
             [
              0.5555555555555556,
              "#d8576b"
             ],
             [
              0.6666666666666666,
              "#ed7953"
             ],
             [
              0.7777777777777778,
              "#fb9f3a"
             ],
             [
              0.8888888888888888,
              "#fdca26"
             ],
             [
              1,
              "#f0f921"
             ]
            ],
            "type": "surface"
           }
          ],
          "table": [
           {
            "cells": {
             "fill": {
              "color": "#EBF0F8"
             },
             "line": {
              "color": "white"
             }
            },
            "header": {
             "fill": {
              "color": "#C8D4E3"
             },
             "line": {
              "color": "white"
             }
            },
            "type": "table"
           }
          ]
         },
         "layout": {
          "annotationdefaults": {
           "arrowcolor": "#2a3f5f",
           "arrowhead": 0,
           "arrowwidth": 1
          },
          "autotypenumbers": "strict",
          "coloraxis": {
           "colorbar": {
            "outlinewidth": 0,
            "ticks": ""
           }
          },
          "colorscale": {
           "diverging": [
            [
             0,
             "#8e0152"
            ],
            [
             0.1,
             "#c51b7d"
            ],
            [
             0.2,
             "#de77ae"
            ],
            [
             0.3,
             "#f1b6da"
            ],
            [
             0.4,
             "#fde0ef"
            ],
            [
             0.5,
             "#f7f7f7"
            ],
            [
             0.6,
             "#e6f5d0"
            ],
            [
             0.7,
             "#b8e186"
            ],
            [
             0.8,
             "#7fbc41"
            ],
            [
             0.9,
             "#4d9221"
            ],
            [
             1,
             "#276419"
            ]
           ],
           "sequential": [
            [
             0,
             "#0d0887"
            ],
            [
             0.1111111111111111,
             "#46039f"
            ],
            [
             0.2222222222222222,
             "#7201a8"
            ],
            [
             0.3333333333333333,
             "#9c179e"
            ],
            [
             0.4444444444444444,
             "#bd3786"
            ],
            [
             0.5555555555555556,
             "#d8576b"
            ],
            [
             0.6666666666666666,
             "#ed7953"
            ],
            [
             0.7777777777777778,
             "#fb9f3a"
            ],
            [
             0.8888888888888888,
             "#fdca26"
            ],
            [
             1,
             "#f0f921"
            ]
           ],
           "sequentialminus": [
            [
             0,
             "#0d0887"
            ],
            [
             0.1111111111111111,
             "#46039f"
            ],
            [
             0.2222222222222222,
             "#7201a8"
            ],
            [
             0.3333333333333333,
             "#9c179e"
            ],
            [
             0.4444444444444444,
             "#bd3786"
            ],
            [
             0.5555555555555556,
             "#d8576b"
            ],
            [
             0.6666666666666666,
             "#ed7953"
            ],
            [
             0.7777777777777778,
             "#fb9f3a"
            ],
            [
             0.8888888888888888,
             "#fdca26"
            ],
            [
             1,
             "#f0f921"
            ]
           ]
          },
          "colorway": [
           "#636efa",
           "#EF553B",
           "#00cc96",
           "#ab63fa",
           "#FFA15A",
           "#19d3f3",
           "#FF6692",
           "#B6E880",
           "#FF97FF",
           "#FECB52"
          ],
          "font": {
           "color": "#2a3f5f"
          },
          "geo": {
           "bgcolor": "white",
           "lakecolor": "white",
           "landcolor": "#E5ECF6",
           "showlakes": true,
           "showland": true,
           "subunitcolor": "white"
          },
          "hoverlabel": {
           "align": "left"
          },
          "hovermode": "closest",
          "mapbox": {
           "style": "light"
          },
          "paper_bgcolor": "white",
          "plot_bgcolor": "#E5ECF6",
          "polar": {
           "angularaxis": {
            "gridcolor": "white",
            "linecolor": "white",
            "ticks": ""
           },
           "bgcolor": "#E5ECF6",
           "radialaxis": {
            "gridcolor": "white",
            "linecolor": "white",
            "ticks": ""
           }
          },
          "scene": {
           "xaxis": {
            "backgroundcolor": "#E5ECF6",
            "gridcolor": "white",
            "gridwidth": 2,
            "linecolor": "white",
            "showbackground": true,
            "ticks": "",
            "zerolinecolor": "white"
           },
           "yaxis": {
            "backgroundcolor": "#E5ECF6",
            "gridcolor": "white",
            "gridwidth": 2,
            "linecolor": "white",
            "showbackground": true,
            "ticks": "",
            "zerolinecolor": "white"
           },
           "zaxis": {
            "backgroundcolor": "#E5ECF6",
            "gridcolor": "white",
            "gridwidth": 2,
            "linecolor": "white",
            "showbackground": true,
            "ticks": "",
            "zerolinecolor": "white"
           }
          },
          "shapedefaults": {
           "line": {
            "color": "#2a3f5f"
           }
          },
          "ternary": {
           "aaxis": {
            "gridcolor": "white",
            "linecolor": "white",
            "ticks": ""
           },
           "baxis": {
            "gridcolor": "white",
            "linecolor": "white",
            "ticks": ""
           },
           "bgcolor": "#E5ECF6",
           "caxis": {
            "gridcolor": "white",
            "linecolor": "white",
            "ticks": ""
           }
          },
          "title": {
           "x": 0.05
          },
          "xaxis": {
           "automargin": true,
           "gridcolor": "white",
           "linecolor": "white",
           "ticks": "",
           "title": {
            "standoff": 15
           },
           "zerolinecolor": "white",
           "zerolinewidth": 2
          },
          "yaxis": {
           "automargin": true,
           "gridcolor": "white",
           "linecolor": "white",
           "ticks": "",
           "title": {
            "standoff": 15
           },
           "zerolinecolor": "white",
           "zerolinewidth": 2
          }
         }
        },
        "title": {
         "text": "Indice Evolution moyen par continent"
        },
        "xaxis": {
         "anchor": "y",
         "domain": [
          0,
          1
         ],
         "title": {
          "text": "Continent"
         }
        },
        "yaxis": {
         "anchor": "x",
         "domain": [
          0,
          1
         ],
         "title": {
          "text": "Indice_Evolution"
         }
        }
       }
      }
     },
     "metadata": {},
     "output_type": "display_data"
    }
   ],
   "source": [
    "fig_continent_indiceEvol = px.bar(df_continent_indiceEvol, x='Continent', y='Indice_Evolution',  title='Indice Evolution moyen par continent')\n",
    "fig_continent_indiceEvol.show()"
   ]
  },
  {
   "cell_type": "markdown",
   "metadata": {},
   "source": [
    "### Exploration GDP et continent"
   ]
  },
  {
   "cell_type": "code",
   "execution_count": 9,
   "metadata": {},
   "outputs": [
    {
     "name": "stdout",
     "output_type": "stream",
     "text": [
      "La liste des continents :  ['asia' 'europe' 'africa' nan 'south-america' 'oceania' 'north-america']\n",
      "Le nombre de pays sans continent  14\n",
      "Le nombre de pays sans l'information sur leur PIB 6\n"
     ]
    }
   ],
   "source": [
    "print(\"La liste des continents : \",df[\"Continent\"].unique())\n",
    "print(\"Le nombre de pays sans continent \", np.sum(df[\"Continent\"].isna()))\n",
    "print(\"Le nombre de pays sans l'information sur leur PIB\", np.sum(df[\"Gdp\"].isna()))"
   ]
  },
  {
   "cell_type": "code",
   "execution_count": 10,
   "metadata": {},
   "outputs": [],
   "source": [
    "# Affecter manuellement les GDP aux pays ***"
   ]
  },
  {
   "cell_type": "code",
   "execution_count": 11,
   "metadata": {},
   "outputs": [
    {
     "data": {
      "text/html": [
       "<div>\n",
       "<style scoped>\n",
       "    .dataframe tbody tr th:only-of-type {\n",
       "        vertical-align: middle;\n",
       "    }\n",
       "\n",
       "    .dataframe tbody tr th {\n",
       "        vertical-align: top;\n",
       "    }\n",
       "\n",
       "    .dataframe thead th {\n",
       "        text-align: right;\n",
       "    }\n",
       "</style>\n",
       "<table border=\"1\" class=\"dataframe\">\n",
       "  <thead>\n",
       "    <tr style=\"text-align: right;\">\n",
       "      <th></th>\n",
       "      <th>Continent</th>\n",
       "      <th>Gdp</th>\n",
       "    </tr>\n",
       "  </thead>\n",
       "  <tbody>\n",
       "    <tr>\n",
       "      <th>0</th>\n",
       "      <td>africa</td>\n",
       "      <td>5.476908e+10</td>\n",
       "    </tr>\n",
       "    <tr>\n",
       "      <th>4</th>\n",
       "      <td>oceania</td>\n",
       "      <td>1.681600e+11</td>\n",
       "    </tr>\n",
       "    <tr>\n",
       "      <th>5</th>\n",
       "      <td>south-america</td>\n",
       "      <td>3.114794e+11</td>\n",
       "    </tr>\n",
       "    <tr>\n",
       "      <th>2</th>\n",
       "      <td>europe</td>\n",
       "      <td>5.859809e+11</td>\n",
       "    </tr>\n",
       "    <tr>\n",
       "      <th>1</th>\n",
       "      <td>asia</td>\n",
       "      <td>8.144030e+11</td>\n",
       "    </tr>\n",
       "    <tr>\n",
       "      <th>3</th>\n",
       "      <td>north-america</td>\n",
       "      <td>1.364840e+12</td>\n",
       "    </tr>\n",
       "  </tbody>\n",
       "</table>\n",
       "</div>"
      ],
      "text/plain": [
       "       Continent           Gdp\n",
       "0         africa  5.476908e+10\n",
       "4        oceania  1.681600e+11\n",
       "5  south-america  3.114794e+11\n",
       "2         europe  5.859809e+11\n",
       "1           asia  8.144030e+11\n",
       "3  north-america  1.364840e+12"
      ]
     },
     "execution_count": 11,
     "metadata": {},
     "output_type": "execute_result"
    }
   ],
   "source": [
    "df_continent_gdp=df.loc[:, [\"Continent\", \"Gdp\"]].groupby(\"Continent\").mean().reset_index().sort_values(by=\"Gdp\")\n",
    "df_continent_gdp"
   ]
  },
  {
   "cell_type": "code",
   "execution_count": 12,
   "metadata": {},
   "outputs": [
    {
     "data": {
      "application/vnd.plotly.v1+json": {
       "config": {
        "plotlyServerURL": "https://plot.ly"
       },
       "data": [
        {
         "domain": {
          "x": [
           0,
           1
          ],
          "y": [
           0,
           1
          ]
         },
         "hovertemplate": "Continent=%{label}<br>Gdp=%{value}<extra></extra>",
         "labels": [
          "africa",
          "oceania",
          "south-america",
          "europe",
          "asia",
          "north-america"
         ],
         "legendgroup": "",
         "name": "",
         "showlegend": true,
         "type": "pie",
         "values": [
          54769075221.42051,
          168160028383.51694,
          311479449234.8859,
          585980851288.003,
          814403029523.0576,
          1364839815630.991
         ]
        }
       ],
       "layout": {
        "legend": {
         "tracegroupgap": 0
        },
        "template": {
         "data": {
          "bar": [
           {
            "error_x": {
             "color": "#2a3f5f"
            },
            "error_y": {
             "color": "#2a3f5f"
            },
            "marker": {
             "line": {
              "color": "#E5ECF6",
              "width": 0.5
             },
             "pattern": {
              "fillmode": "overlay",
              "size": 10,
              "solidity": 0.2
             }
            },
            "type": "bar"
           }
          ],
          "barpolar": [
           {
            "marker": {
             "line": {
              "color": "#E5ECF6",
              "width": 0.5
             },
             "pattern": {
              "fillmode": "overlay",
              "size": 10,
              "solidity": 0.2
             }
            },
            "type": "barpolar"
           }
          ],
          "carpet": [
           {
            "aaxis": {
             "endlinecolor": "#2a3f5f",
             "gridcolor": "white",
             "linecolor": "white",
             "minorgridcolor": "white",
             "startlinecolor": "#2a3f5f"
            },
            "baxis": {
             "endlinecolor": "#2a3f5f",
             "gridcolor": "white",
             "linecolor": "white",
             "minorgridcolor": "white",
             "startlinecolor": "#2a3f5f"
            },
            "type": "carpet"
           }
          ],
          "choropleth": [
           {
            "colorbar": {
             "outlinewidth": 0,
             "ticks": ""
            },
            "type": "choropleth"
           }
          ],
          "contour": [
           {
            "colorbar": {
             "outlinewidth": 0,
             "ticks": ""
            },
            "colorscale": [
             [
              0,
              "#0d0887"
             ],
             [
              0.1111111111111111,
              "#46039f"
             ],
             [
              0.2222222222222222,
              "#7201a8"
             ],
             [
              0.3333333333333333,
              "#9c179e"
             ],
             [
              0.4444444444444444,
              "#bd3786"
             ],
             [
              0.5555555555555556,
              "#d8576b"
             ],
             [
              0.6666666666666666,
              "#ed7953"
             ],
             [
              0.7777777777777778,
              "#fb9f3a"
             ],
             [
              0.8888888888888888,
              "#fdca26"
             ],
             [
              1,
              "#f0f921"
             ]
            ],
            "type": "contour"
           }
          ],
          "contourcarpet": [
           {
            "colorbar": {
             "outlinewidth": 0,
             "ticks": ""
            },
            "type": "contourcarpet"
           }
          ],
          "heatmap": [
           {
            "colorbar": {
             "outlinewidth": 0,
             "ticks": ""
            },
            "colorscale": [
             [
              0,
              "#0d0887"
             ],
             [
              0.1111111111111111,
              "#46039f"
             ],
             [
              0.2222222222222222,
              "#7201a8"
             ],
             [
              0.3333333333333333,
              "#9c179e"
             ],
             [
              0.4444444444444444,
              "#bd3786"
             ],
             [
              0.5555555555555556,
              "#d8576b"
             ],
             [
              0.6666666666666666,
              "#ed7953"
             ],
             [
              0.7777777777777778,
              "#fb9f3a"
             ],
             [
              0.8888888888888888,
              "#fdca26"
             ],
             [
              1,
              "#f0f921"
             ]
            ],
            "type": "heatmap"
           }
          ],
          "heatmapgl": [
           {
            "colorbar": {
             "outlinewidth": 0,
             "ticks": ""
            },
            "colorscale": [
             [
              0,
              "#0d0887"
             ],
             [
              0.1111111111111111,
              "#46039f"
             ],
             [
              0.2222222222222222,
              "#7201a8"
             ],
             [
              0.3333333333333333,
              "#9c179e"
             ],
             [
              0.4444444444444444,
              "#bd3786"
             ],
             [
              0.5555555555555556,
              "#d8576b"
             ],
             [
              0.6666666666666666,
              "#ed7953"
             ],
             [
              0.7777777777777778,
              "#fb9f3a"
             ],
             [
              0.8888888888888888,
              "#fdca26"
             ],
             [
              1,
              "#f0f921"
             ]
            ],
            "type": "heatmapgl"
           }
          ],
          "histogram": [
           {
            "marker": {
             "pattern": {
              "fillmode": "overlay",
              "size": 10,
              "solidity": 0.2
             }
            },
            "type": "histogram"
           }
          ],
          "histogram2d": [
           {
            "colorbar": {
             "outlinewidth": 0,
             "ticks": ""
            },
            "colorscale": [
             [
              0,
              "#0d0887"
             ],
             [
              0.1111111111111111,
              "#46039f"
             ],
             [
              0.2222222222222222,
              "#7201a8"
             ],
             [
              0.3333333333333333,
              "#9c179e"
             ],
             [
              0.4444444444444444,
              "#bd3786"
             ],
             [
              0.5555555555555556,
              "#d8576b"
             ],
             [
              0.6666666666666666,
              "#ed7953"
             ],
             [
              0.7777777777777778,
              "#fb9f3a"
             ],
             [
              0.8888888888888888,
              "#fdca26"
             ],
             [
              1,
              "#f0f921"
             ]
            ],
            "type": "histogram2d"
           }
          ],
          "histogram2dcontour": [
           {
            "colorbar": {
             "outlinewidth": 0,
             "ticks": ""
            },
            "colorscale": [
             [
              0,
              "#0d0887"
             ],
             [
              0.1111111111111111,
              "#46039f"
             ],
             [
              0.2222222222222222,
              "#7201a8"
             ],
             [
              0.3333333333333333,
              "#9c179e"
             ],
             [
              0.4444444444444444,
              "#bd3786"
             ],
             [
              0.5555555555555556,
              "#d8576b"
             ],
             [
              0.6666666666666666,
              "#ed7953"
             ],
             [
              0.7777777777777778,
              "#fb9f3a"
             ],
             [
              0.8888888888888888,
              "#fdca26"
             ],
             [
              1,
              "#f0f921"
             ]
            ],
            "type": "histogram2dcontour"
           }
          ],
          "mesh3d": [
           {
            "colorbar": {
             "outlinewidth": 0,
             "ticks": ""
            },
            "type": "mesh3d"
           }
          ],
          "parcoords": [
           {
            "line": {
             "colorbar": {
              "outlinewidth": 0,
              "ticks": ""
             }
            },
            "type": "parcoords"
           }
          ],
          "pie": [
           {
            "automargin": true,
            "type": "pie"
           }
          ],
          "scatter": [
           {
            "fillpattern": {
             "fillmode": "overlay",
             "size": 10,
             "solidity": 0.2
            },
            "type": "scatter"
           }
          ],
          "scatter3d": [
           {
            "line": {
             "colorbar": {
              "outlinewidth": 0,
              "ticks": ""
             }
            },
            "marker": {
             "colorbar": {
              "outlinewidth": 0,
              "ticks": ""
             }
            },
            "type": "scatter3d"
           }
          ],
          "scattercarpet": [
           {
            "marker": {
             "colorbar": {
              "outlinewidth": 0,
              "ticks": ""
             }
            },
            "type": "scattercarpet"
           }
          ],
          "scattergeo": [
           {
            "marker": {
             "colorbar": {
              "outlinewidth": 0,
              "ticks": ""
             }
            },
            "type": "scattergeo"
           }
          ],
          "scattergl": [
           {
            "marker": {
             "colorbar": {
              "outlinewidth": 0,
              "ticks": ""
             }
            },
            "type": "scattergl"
           }
          ],
          "scattermapbox": [
           {
            "marker": {
             "colorbar": {
              "outlinewidth": 0,
              "ticks": ""
             }
            },
            "type": "scattermapbox"
           }
          ],
          "scatterpolar": [
           {
            "marker": {
             "colorbar": {
              "outlinewidth": 0,
              "ticks": ""
             }
            },
            "type": "scatterpolar"
           }
          ],
          "scatterpolargl": [
           {
            "marker": {
             "colorbar": {
              "outlinewidth": 0,
              "ticks": ""
             }
            },
            "type": "scatterpolargl"
           }
          ],
          "scatterternary": [
           {
            "marker": {
             "colorbar": {
              "outlinewidth": 0,
              "ticks": ""
             }
            },
            "type": "scatterternary"
           }
          ],
          "surface": [
           {
            "colorbar": {
             "outlinewidth": 0,
             "ticks": ""
            },
            "colorscale": [
             [
              0,
              "#0d0887"
             ],
             [
              0.1111111111111111,
              "#46039f"
             ],
             [
              0.2222222222222222,
              "#7201a8"
             ],
             [
              0.3333333333333333,
              "#9c179e"
             ],
             [
              0.4444444444444444,
              "#bd3786"
             ],
             [
              0.5555555555555556,
              "#d8576b"
             ],
             [
              0.6666666666666666,
              "#ed7953"
             ],
             [
              0.7777777777777778,
              "#fb9f3a"
             ],
             [
              0.8888888888888888,
              "#fdca26"
             ],
             [
              1,
              "#f0f921"
             ]
            ],
            "type": "surface"
           }
          ],
          "table": [
           {
            "cells": {
             "fill": {
              "color": "#EBF0F8"
             },
             "line": {
              "color": "white"
             }
            },
            "header": {
             "fill": {
              "color": "#C8D4E3"
             },
             "line": {
              "color": "white"
             }
            },
            "type": "table"
           }
          ]
         },
         "layout": {
          "annotationdefaults": {
           "arrowcolor": "#2a3f5f",
           "arrowhead": 0,
           "arrowwidth": 1
          },
          "autotypenumbers": "strict",
          "coloraxis": {
           "colorbar": {
            "outlinewidth": 0,
            "ticks": ""
           }
          },
          "colorscale": {
           "diverging": [
            [
             0,
             "#8e0152"
            ],
            [
             0.1,
             "#c51b7d"
            ],
            [
             0.2,
             "#de77ae"
            ],
            [
             0.3,
             "#f1b6da"
            ],
            [
             0.4,
             "#fde0ef"
            ],
            [
             0.5,
             "#f7f7f7"
            ],
            [
             0.6,
             "#e6f5d0"
            ],
            [
             0.7,
             "#b8e186"
            ],
            [
             0.8,
             "#7fbc41"
            ],
            [
             0.9,
             "#4d9221"
            ],
            [
             1,
             "#276419"
            ]
           ],
           "sequential": [
            [
             0,
             "#0d0887"
            ],
            [
             0.1111111111111111,
             "#46039f"
            ],
            [
             0.2222222222222222,
             "#7201a8"
            ],
            [
             0.3333333333333333,
             "#9c179e"
            ],
            [
             0.4444444444444444,
             "#bd3786"
            ],
            [
             0.5555555555555556,
             "#d8576b"
            ],
            [
             0.6666666666666666,
             "#ed7953"
            ],
            [
             0.7777777777777778,
             "#fb9f3a"
            ],
            [
             0.8888888888888888,
             "#fdca26"
            ],
            [
             1,
             "#f0f921"
            ]
           ],
           "sequentialminus": [
            [
             0,
             "#0d0887"
            ],
            [
             0.1111111111111111,
             "#46039f"
            ],
            [
             0.2222222222222222,
             "#7201a8"
            ],
            [
             0.3333333333333333,
             "#9c179e"
            ],
            [
             0.4444444444444444,
             "#bd3786"
            ],
            [
             0.5555555555555556,
             "#d8576b"
            ],
            [
             0.6666666666666666,
             "#ed7953"
            ],
            [
             0.7777777777777778,
             "#fb9f3a"
            ],
            [
             0.8888888888888888,
             "#fdca26"
            ],
            [
             1,
             "#f0f921"
            ]
           ]
          },
          "colorway": [
           "#636efa",
           "#EF553B",
           "#00cc96",
           "#ab63fa",
           "#FFA15A",
           "#19d3f3",
           "#FF6692",
           "#B6E880",
           "#FF97FF",
           "#FECB52"
          ],
          "font": {
           "color": "#2a3f5f"
          },
          "geo": {
           "bgcolor": "white",
           "lakecolor": "white",
           "landcolor": "#E5ECF6",
           "showlakes": true,
           "showland": true,
           "subunitcolor": "white"
          },
          "hoverlabel": {
           "align": "left"
          },
          "hovermode": "closest",
          "mapbox": {
           "style": "light"
          },
          "paper_bgcolor": "white",
          "plot_bgcolor": "#E5ECF6",
          "polar": {
           "angularaxis": {
            "gridcolor": "white",
            "linecolor": "white",
            "ticks": ""
           },
           "bgcolor": "#E5ECF6",
           "radialaxis": {
            "gridcolor": "white",
            "linecolor": "white",
            "ticks": ""
           }
          },
          "scene": {
           "xaxis": {
            "backgroundcolor": "#E5ECF6",
            "gridcolor": "white",
            "gridwidth": 2,
            "linecolor": "white",
            "showbackground": true,
            "ticks": "",
            "zerolinecolor": "white"
           },
           "yaxis": {
            "backgroundcolor": "#E5ECF6",
            "gridcolor": "white",
            "gridwidth": 2,
            "linecolor": "white",
            "showbackground": true,
            "ticks": "",
            "zerolinecolor": "white"
           },
           "zaxis": {
            "backgroundcolor": "#E5ECF6",
            "gridcolor": "white",
            "gridwidth": 2,
            "linecolor": "white",
            "showbackground": true,
            "ticks": "",
            "zerolinecolor": "white"
           }
          },
          "shapedefaults": {
           "line": {
            "color": "#2a3f5f"
           }
          },
          "ternary": {
           "aaxis": {
            "gridcolor": "white",
            "linecolor": "white",
            "ticks": ""
           },
           "baxis": {
            "gridcolor": "white",
            "linecolor": "white",
            "ticks": ""
           },
           "bgcolor": "#E5ECF6",
           "caxis": {
            "gridcolor": "white",
            "linecolor": "white",
            "ticks": ""
           }
          },
          "title": {
           "x": 0.05
          },
          "xaxis": {
           "automargin": true,
           "gridcolor": "white",
           "linecolor": "white",
           "ticks": "",
           "title": {
            "standoff": 15
           },
           "zerolinecolor": "white",
           "zerolinewidth": 2
          },
          "yaxis": {
           "automargin": true,
           "gridcolor": "white",
           "linecolor": "white",
           "ticks": "",
           "title": {
            "standoff": 15
           },
           "zerolinecolor": "white",
           "zerolinewidth": 2
          }
         }
        },
        "title": {
         "text": "PIB moyen par continent"
        }
       }
      }
     },
     "metadata": {},
     "output_type": "display_data"
    }
   ],
   "source": [
    "fig_continent_gdp = px.pie(df_continent_gdp, values='Gdp', names='Continent', title='PIB moyen par continent')\n",
    "fig_continent_gdp.show()"
   ]
  },
  {
   "cell_type": "code",
   "execution_count": 13,
   "metadata": {},
   "outputs": [
    {
     "data": {
      "application/vnd.plotly.v1+json": {
       "config": {
        "plotlyServerURL": "https://plot.ly"
       },
       "data": [
        {
         "domain": {
          "x": [
           0,
           1
          ],
          "y": [
           0,
           1
          ]
         },
         "hovertemplate": "Country=%{label}<br>Gdp=%{value}<extra></extra>",
         "labels": [
          "Australia",
          "Belgium",
          "Brazil",
          "Canada",
          "China",
          "France",
          "Germany",
          "India",
          "Indonesia",
          "Italy",
          "Japan",
          "Mexico",
          "Netherlands",
          "Poland",
          "Russia",
          "Saudi Arabia",
          "South Korea",
          "Spain",
          "Sweden",
          "Switzerland",
          "Turkey",
          "United Kingdom",
          "United States"
         ],
         "legendgroup": "",
         "name": "",
         "showlegend": true,
         "type": "pie",
         "values": [
          1559033756285.13,
          600748812601.541,
          1649622821885.14,
          2007472181464.15,
          17820459508852.2,
          2959355819170.5,
          4278503934689.85,
          3150306839142.13,
          1186505455736.54,
          2155360298998.03,
          5034620784584.98,
          1312557512901.28,
          1029678338329.44,
          681346136411.701,
          1836892075547.52,
          874156115900.131,
          1818432106880.04,
          1445651653604.63,
          639714956069.468,
          813408787222.499,
          819865253669.661,
          3141506156618.7,
          23315080560000
         ]
        }
       ],
       "layout": {
        "legend": {
         "tracegroupgap": 0
        },
        "template": {
         "data": {
          "bar": [
           {
            "error_x": {
             "color": "#2a3f5f"
            },
            "error_y": {
             "color": "#2a3f5f"
            },
            "marker": {
             "line": {
              "color": "#E5ECF6",
              "width": 0.5
             },
             "pattern": {
              "fillmode": "overlay",
              "size": 10,
              "solidity": 0.2
             }
            },
            "type": "bar"
           }
          ],
          "barpolar": [
           {
            "marker": {
             "line": {
              "color": "#E5ECF6",
              "width": 0.5
             },
             "pattern": {
              "fillmode": "overlay",
              "size": 10,
              "solidity": 0.2
             }
            },
            "type": "barpolar"
           }
          ],
          "carpet": [
           {
            "aaxis": {
             "endlinecolor": "#2a3f5f",
             "gridcolor": "white",
             "linecolor": "white",
             "minorgridcolor": "white",
             "startlinecolor": "#2a3f5f"
            },
            "baxis": {
             "endlinecolor": "#2a3f5f",
             "gridcolor": "white",
             "linecolor": "white",
             "minorgridcolor": "white",
             "startlinecolor": "#2a3f5f"
            },
            "type": "carpet"
           }
          ],
          "choropleth": [
           {
            "colorbar": {
             "outlinewidth": 0,
             "ticks": ""
            },
            "type": "choropleth"
           }
          ],
          "contour": [
           {
            "colorbar": {
             "outlinewidth": 0,
             "ticks": ""
            },
            "colorscale": [
             [
              0,
              "#0d0887"
             ],
             [
              0.1111111111111111,
              "#46039f"
             ],
             [
              0.2222222222222222,
              "#7201a8"
             ],
             [
              0.3333333333333333,
              "#9c179e"
             ],
             [
              0.4444444444444444,
              "#bd3786"
             ],
             [
              0.5555555555555556,
              "#d8576b"
             ],
             [
              0.6666666666666666,
              "#ed7953"
             ],
             [
              0.7777777777777778,
              "#fb9f3a"
             ],
             [
              0.8888888888888888,
              "#fdca26"
             ],
             [
              1,
              "#f0f921"
             ]
            ],
            "type": "contour"
           }
          ],
          "contourcarpet": [
           {
            "colorbar": {
             "outlinewidth": 0,
             "ticks": ""
            },
            "type": "contourcarpet"
           }
          ],
          "heatmap": [
           {
            "colorbar": {
             "outlinewidth": 0,
             "ticks": ""
            },
            "colorscale": [
             [
              0,
              "#0d0887"
             ],
             [
              0.1111111111111111,
              "#46039f"
             ],
             [
              0.2222222222222222,
              "#7201a8"
             ],
             [
              0.3333333333333333,
              "#9c179e"
             ],
             [
              0.4444444444444444,
              "#bd3786"
             ],
             [
              0.5555555555555556,
              "#d8576b"
             ],
             [
              0.6666666666666666,
              "#ed7953"
             ],
             [
              0.7777777777777778,
              "#fb9f3a"
             ],
             [
              0.8888888888888888,
              "#fdca26"
             ],
             [
              1,
              "#f0f921"
             ]
            ],
            "type": "heatmap"
           }
          ],
          "heatmapgl": [
           {
            "colorbar": {
             "outlinewidth": 0,
             "ticks": ""
            },
            "colorscale": [
             [
              0,
              "#0d0887"
             ],
             [
              0.1111111111111111,
              "#46039f"
             ],
             [
              0.2222222222222222,
              "#7201a8"
             ],
             [
              0.3333333333333333,
              "#9c179e"
             ],
             [
              0.4444444444444444,
              "#bd3786"
             ],
             [
              0.5555555555555556,
              "#d8576b"
             ],
             [
              0.6666666666666666,
              "#ed7953"
             ],
             [
              0.7777777777777778,
              "#fb9f3a"
             ],
             [
              0.8888888888888888,
              "#fdca26"
             ],
             [
              1,
              "#f0f921"
             ]
            ],
            "type": "heatmapgl"
           }
          ],
          "histogram": [
           {
            "marker": {
             "pattern": {
              "fillmode": "overlay",
              "size": 10,
              "solidity": 0.2
             }
            },
            "type": "histogram"
           }
          ],
          "histogram2d": [
           {
            "colorbar": {
             "outlinewidth": 0,
             "ticks": ""
            },
            "colorscale": [
             [
              0,
              "#0d0887"
             ],
             [
              0.1111111111111111,
              "#46039f"
             ],
             [
              0.2222222222222222,
              "#7201a8"
             ],
             [
              0.3333333333333333,
              "#9c179e"
             ],
             [
              0.4444444444444444,
              "#bd3786"
             ],
             [
              0.5555555555555556,
              "#d8576b"
             ],
             [
              0.6666666666666666,
              "#ed7953"
             ],
             [
              0.7777777777777778,
              "#fb9f3a"
             ],
             [
              0.8888888888888888,
              "#fdca26"
             ],
             [
              1,
              "#f0f921"
             ]
            ],
            "type": "histogram2d"
           }
          ],
          "histogram2dcontour": [
           {
            "colorbar": {
             "outlinewidth": 0,
             "ticks": ""
            },
            "colorscale": [
             [
              0,
              "#0d0887"
             ],
             [
              0.1111111111111111,
              "#46039f"
             ],
             [
              0.2222222222222222,
              "#7201a8"
             ],
             [
              0.3333333333333333,
              "#9c179e"
             ],
             [
              0.4444444444444444,
              "#bd3786"
             ],
             [
              0.5555555555555556,
              "#d8576b"
             ],
             [
              0.6666666666666666,
              "#ed7953"
             ],
             [
              0.7777777777777778,
              "#fb9f3a"
             ],
             [
              0.8888888888888888,
              "#fdca26"
             ],
             [
              1,
              "#f0f921"
             ]
            ],
            "type": "histogram2dcontour"
           }
          ],
          "mesh3d": [
           {
            "colorbar": {
             "outlinewidth": 0,
             "ticks": ""
            },
            "type": "mesh3d"
           }
          ],
          "parcoords": [
           {
            "line": {
             "colorbar": {
              "outlinewidth": 0,
              "ticks": ""
             }
            },
            "type": "parcoords"
           }
          ],
          "pie": [
           {
            "automargin": true,
            "type": "pie"
           }
          ],
          "scatter": [
           {
            "fillpattern": {
             "fillmode": "overlay",
             "size": 10,
             "solidity": 0.2
            },
            "type": "scatter"
           }
          ],
          "scatter3d": [
           {
            "line": {
             "colorbar": {
              "outlinewidth": 0,
              "ticks": ""
             }
            },
            "marker": {
             "colorbar": {
              "outlinewidth": 0,
              "ticks": ""
             }
            },
            "type": "scatter3d"
           }
          ],
          "scattercarpet": [
           {
            "marker": {
             "colorbar": {
              "outlinewidth": 0,
              "ticks": ""
             }
            },
            "type": "scattercarpet"
           }
          ],
          "scattergeo": [
           {
            "marker": {
             "colorbar": {
              "outlinewidth": 0,
              "ticks": ""
             }
            },
            "type": "scattergeo"
           }
          ],
          "scattergl": [
           {
            "marker": {
             "colorbar": {
              "outlinewidth": 0,
              "ticks": ""
             }
            },
            "type": "scattergl"
           }
          ],
          "scattermapbox": [
           {
            "marker": {
             "colorbar": {
              "outlinewidth": 0,
              "ticks": ""
             }
            },
            "type": "scattermapbox"
           }
          ],
          "scatterpolar": [
           {
            "marker": {
             "colorbar": {
              "outlinewidth": 0,
              "ticks": ""
             }
            },
            "type": "scatterpolar"
           }
          ],
          "scatterpolargl": [
           {
            "marker": {
             "colorbar": {
              "outlinewidth": 0,
              "ticks": ""
             }
            },
            "type": "scatterpolargl"
           }
          ],
          "scatterternary": [
           {
            "marker": {
             "colorbar": {
              "outlinewidth": 0,
              "ticks": ""
             }
            },
            "type": "scatterternary"
           }
          ],
          "surface": [
           {
            "colorbar": {
             "outlinewidth": 0,
             "ticks": ""
            },
            "colorscale": [
             [
              0,
              "#0d0887"
             ],
             [
              0.1111111111111111,
              "#46039f"
             ],
             [
              0.2222222222222222,
              "#7201a8"
             ],
             [
              0.3333333333333333,
              "#9c179e"
             ],
             [
              0.4444444444444444,
              "#bd3786"
             ],
             [
              0.5555555555555556,
              "#d8576b"
             ],
             [
              0.6666666666666666,
              "#ed7953"
             ],
             [
              0.7777777777777778,
              "#fb9f3a"
             ],
             [
              0.8888888888888888,
              "#fdca26"
             ],
             [
              1,
              "#f0f921"
             ]
            ],
            "type": "surface"
           }
          ],
          "table": [
           {
            "cells": {
             "fill": {
              "color": "#EBF0F8"
             },
             "line": {
              "color": "white"
             }
            },
            "header": {
             "fill": {
              "color": "#C8D4E3"
             },
             "line": {
              "color": "white"
             }
            },
            "type": "table"
           }
          ]
         },
         "layout": {
          "annotationdefaults": {
           "arrowcolor": "#2a3f5f",
           "arrowhead": 0,
           "arrowwidth": 1
          },
          "autotypenumbers": "strict",
          "coloraxis": {
           "colorbar": {
            "outlinewidth": 0,
            "ticks": ""
           }
          },
          "colorscale": {
           "diverging": [
            [
             0,
             "#8e0152"
            ],
            [
             0.1,
             "#c51b7d"
            ],
            [
             0.2,
             "#de77ae"
            ],
            [
             0.3,
             "#f1b6da"
            ],
            [
             0.4,
             "#fde0ef"
            ],
            [
             0.5,
             "#f7f7f7"
            ],
            [
             0.6,
             "#e6f5d0"
            ],
            [
             0.7,
             "#b8e186"
            ],
            [
             0.8,
             "#7fbc41"
            ],
            [
             0.9,
             "#4d9221"
            ],
            [
             1,
             "#276419"
            ]
           ],
           "sequential": [
            [
             0,
             "#0d0887"
            ],
            [
             0.1111111111111111,
             "#46039f"
            ],
            [
             0.2222222222222222,
             "#7201a8"
            ],
            [
             0.3333333333333333,
             "#9c179e"
            ],
            [
             0.4444444444444444,
             "#bd3786"
            ],
            [
             0.5555555555555556,
             "#d8576b"
            ],
            [
             0.6666666666666666,
             "#ed7953"
            ],
            [
             0.7777777777777778,
             "#fb9f3a"
            ],
            [
             0.8888888888888888,
             "#fdca26"
            ],
            [
             1,
             "#f0f921"
            ]
           ],
           "sequentialminus": [
            [
             0,
             "#0d0887"
            ],
            [
             0.1111111111111111,
             "#46039f"
            ],
            [
             0.2222222222222222,
             "#7201a8"
            ],
            [
             0.3333333333333333,
             "#9c179e"
            ],
            [
             0.4444444444444444,
             "#bd3786"
            ],
            [
             0.5555555555555556,
             "#d8576b"
            ],
            [
             0.6666666666666666,
             "#ed7953"
            ],
            [
             0.7777777777777778,
             "#fb9f3a"
            ],
            [
             0.8888888888888888,
             "#fdca26"
            ],
            [
             1,
             "#f0f921"
            ]
           ]
          },
          "colorway": [
           "#636efa",
           "#EF553B",
           "#00cc96",
           "#ab63fa",
           "#FFA15A",
           "#19d3f3",
           "#FF6692",
           "#B6E880",
           "#FF97FF",
           "#FECB52"
          ],
          "font": {
           "color": "#2a3f5f"
          },
          "geo": {
           "bgcolor": "white",
           "lakecolor": "white",
           "landcolor": "#E5ECF6",
           "showlakes": true,
           "showland": true,
           "subunitcolor": "white"
          },
          "hoverlabel": {
           "align": "left"
          },
          "hovermode": "closest",
          "mapbox": {
           "style": "light"
          },
          "paper_bgcolor": "white",
          "plot_bgcolor": "#E5ECF6",
          "polar": {
           "angularaxis": {
            "gridcolor": "white",
            "linecolor": "white",
            "ticks": ""
           },
           "bgcolor": "#E5ECF6",
           "radialaxis": {
            "gridcolor": "white",
            "linecolor": "white",
            "ticks": ""
           }
          },
          "scene": {
           "xaxis": {
            "backgroundcolor": "#E5ECF6",
            "gridcolor": "white",
            "gridwidth": 2,
            "linecolor": "white",
            "showbackground": true,
            "ticks": "",
            "zerolinecolor": "white"
           },
           "yaxis": {
            "backgroundcolor": "#E5ECF6",
            "gridcolor": "white",
            "gridwidth": 2,
            "linecolor": "white",
            "showbackground": true,
            "ticks": "",
            "zerolinecolor": "white"
           },
           "zaxis": {
            "backgroundcolor": "#E5ECF6",
            "gridcolor": "white",
            "gridwidth": 2,
            "linecolor": "white",
            "showbackground": true,
            "ticks": "",
            "zerolinecolor": "white"
           }
          },
          "shapedefaults": {
           "line": {
            "color": "#2a3f5f"
           }
          },
          "ternary": {
           "aaxis": {
            "gridcolor": "white",
            "linecolor": "white",
            "ticks": ""
           },
           "baxis": {
            "gridcolor": "white",
            "linecolor": "white",
            "ticks": ""
           },
           "bgcolor": "#E5ECF6",
           "caxis": {
            "gridcolor": "white",
            "linecolor": "white",
            "ticks": ""
           }
          },
          "title": {
           "x": 0.05
          },
          "xaxis": {
           "automargin": true,
           "gridcolor": "white",
           "linecolor": "white",
           "ticks": "",
           "title": {
            "standoff": 15
           },
           "zerolinecolor": "white",
           "zerolinewidth": 2
          },
          "yaxis": {
           "automargin": true,
           "gridcolor": "white",
           "linecolor": "white",
           "ticks": "",
           "title": {
            "standoff": 15
           },
           "zerolinecolor": "white",
           "zerolinewidth": 2
          }
         }
        },
        "title": {
         "text": "PIB moyen par pays"
        }
       }
      }
     },
     "metadata": {},
     "output_type": "display_data"
    }
   ],
   "source": [
    "df_country_gdp=df[df.Gdp>df_continent_gdp.Gdp.mean()]\n",
    "fig_country_gdp = px.pie(df_country_gdp, values='Gdp', names='Country', title='PIB moyen par pays')\n",
    "fig_country_gdp.show()"
   ]
  },
  {
   "cell_type": "markdown",
   "metadata": {},
   "source": [
    "### Exploration indice culturel et taux d'alphabétisme"
   ]
  },
  {
   "cell_type": "code",
   "execution_count": 14,
   "metadata": {},
   "outputs": [
    {
     "data": {
      "text/html": [
       "<div>\n",
       "<style scoped>\n",
       "    .dataframe tbody tr th:only-of-type {\n",
       "        vertical-align: middle;\n",
       "    }\n",
       "\n",
       "    .dataframe tbody tr th {\n",
       "        vertical-align: top;\n",
       "    }\n",
       "\n",
       "    .dataframe thead th {\n",
       "        text-align: right;\n",
       "    }\n",
       "</style>\n",
       "<table border=\"1\" class=\"dataframe\">\n",
       "  <thead>\n",
       "    <tr style=\"text-align: right;\">\n",
       "      <th></th>\n",
       "      <th>Country</th>\n",
       "      <th>Continent</th>\n",
       "      <th>Literacy_Rate_2021</th>\n",
       "      <th>Nbvotes_Musees_Clean</th>\n",
       "      <th>Notes_Musees</th>\n",
       "    </tr>\n",
       "  </thead>\n",
       "  <tbody>\n",
       "    <tr>\n",
       "      <th>0</th>\n",
       "      <td>Afghanistan</td>\n",
       "      <td>asia</td>\n",
       "      <td>37.27</td>\n",
       "      <td>574.000000</td>\n",
       "      <td>4.500000</td>\n",
       "    </tr>\n",
       "    <tr>\n",
       "      <th>1</th>\n",
       "      <td>Albania</td>\n",
       "      <td>europe</td>\n",
       "      <td>NaN</td>\n",
       "      <td>659.500000</td>\n",
       "      <td>4.530769</td>\n",
       "    </tr>\n",
       "    <tr>\n",
       "      <th>2</th>\n",
       "      <td>Algeria</td>\n",
       "      <td>africa</td>\n",
       "      <td>NaN</td>\n",
       "      <td>184.000000</td>\n",
       "      <td>4.350000</td>\n",
       "    </tr>\n",
       "    <tr>\n",
       "      <th>3</th>\n",
       "      <td>Andorra</td>\n",
       "      <td>europe</td>\n",
       "      <td>NaN</td>\n",
       "      <td>201.476190</td>\n",
       "      <td>4.504762</td>\n",
       "    </tr>\n",
       "    <tr>\n",
       "      <th>4</th>\n",
       "      <td>Angola</td>\n",
       "      <td>africa</td>\n",
       "      <td>NaN</td>\n",
       "      <td>98.947368</td>\n",
       "      <td>4.205263</td>\n",
       "    </tr>\n",
       "    <tr>\n",
       "      <th>...</th>\n",
       "      <td>...</td>\n",
       "      <td>...</td>\n",
       "      <td>...</td>\n",
       "      <td>...</td>\n",
       "      <td>...</td>\n",
       "    </tr>\n",
       "    <tr>\n",
       "      <th>192</th>\n",
       "      <td>Venezuela</td>\n",
       "      <td>south-america</td>\n",
       "      <td>NaN</td>\n",
       "      <td>372.740741</td>\n",
       "      <td>4.340741</td>\n",
       "    </tr>\n",
       "    <tr>\n",
       "      <th>193</th>\n",
       "      <td>Vietnam</td>\n",
       "      <td>asia</td>\n",
       "      <td>NaN</td>\n",
       "      <td>0.000000</td>\n",
       "      <td>0.000000</td>\n",
       "    </tr>\n",
       "    <tr>\n",
       "      <th>194</th>\n",
       "      <td>Yemen</td>\n",
       "      <td>asia</td>\n",
       "      <td>NaN</td>\n",
       "      <td>48.250000</td>\n",
       "      <td>4.280000</td>\n",
       "    </tr>\n",
       "    <tr>\n",
       "      <th>195</th>\n",
       "      <td>Zambia</td>\n",
       "      <td>africa</td>\n",
       "      <td>NaN</td>\n",
       "      <td>288.250000</td>\n",
       "      <td>3.975000</td>\n",
       "    </tr>\n",
       "    <tr>\n",
       "      <th>196</th>\n",
       "      <td>Zimbabwe</td>\n",
       "      <td>africa</td>\n",
       "      <td>NaN</td>\n",
       "      <td>161.176471</td>\n",
       "      <td>3.847059</td>\n",
       "    </tr>\n",
       "  </tbody>\n",
       "</table>\n",
       "<p>197 rows × 5 columns</p>\n",
       "</div>"
      ],
      "text/plain": [
       "         Country      Continent  Literacy_Rate_2021  Nbvotes_Musees_Clean  \\\n",
       "0    Afghanistan           asia               37.27            574.000000   \n",
       "1        Albania         europe                 NaN            659.500000   \n",
       "2        Algeria         africa                 NaN            184.000000   \n",
       "3        Andorra         europe                 NaN            201.476190   \n",
       "4         Angola         africa                 NaN             98.947368   \n",
       "..           ...            ...                 ...                   ...   \n",
       "192    Venezuela  south-america                 NaN            372.740741   \n",
       "193      Vietnam           asia                 NaN              0.000000   \n",
       "194        Yemen           asia                 NaN             48.250000   \n",
       "195       Zambia         africa                 NaN            288.250000   \n",
       "196     Zimbabwe         africa                 NaN            161.176471   \n",
       "\n",
       "     Notes_Musees  \n",
       "0        4.500000  \n",
       "1        4.530769  \n",
       "2        4.350000  \n",
       "3        4.504762  \n",
       "4        4.205263  \n",
       "..            ...  \n",
       "192      4.340741  \n",
       "193      0.000000  \n",
       "194      4.280000  \n",
       "195      3.975000  \n",
       "196      3.847059  \n",
       "\n",
       "[197 rows x 5 columns]"
      ]
     },
     "execution_count": 14,
     "metadata": {},
     "output_type": "execute_result"
    }
   ],
   "source": [
    "df_interm=df.loc[:, [\"Country\",\"Continent\", \"Literacy_Rate_2021\", \"Nbvotes_Musees_Clean\", \"Notes_Musees\"]]\n",
    "df_interm[\"Nbvotes_Musees_Clean\"]=df[\"Nbvotes_Musees_Clean\"].apply(lambda x : [float(val) for val in x.strip('][').split(',') if x !='[]'])\n",
    "df_interm[\"Nbvotes_Musees_Clean\"]=df_interm[\"Nbvotes_Musees_Clean\"].apply(lambda x : np.mean(x) if x!=[] else 0)\n",
    "\n",
    "df_interm[\"Notes_Musees\"]=df[\"Notes_Musees\"].apply(lambda x : [float(str(val).replace(',','.')) for val in eval(x) if x !='[]'])\n",
    "df_interm[\"Notes_Musees\"]=df_interm[\"Notes_Musees\"].apply(lambda x : np.mean(x) if x!=[] else 0)\n",
    "\n",
    "df_interm"
   ]
  },
  {
   "cell_type": "code",
   "execution_count": 15,
   "metadata": {},
   "outputs": [
    {
     "name": "stdout",
     "output_type": "stream",
     "text": [
      "La liste des continents :  ['asia' 'europe' 'africa' nan 'south-america' 'oceania' 'north-america']\n",
      "Le nombre de pays sans continent  14\n",
      "Le nombre de pays sans l'information sur leur taux d'alphabétisme 159\n",
      "Le nombre de pays sans le nombre de votes sur les musées 12\n",
      "Le nombre de pays sans les notes sur les musées 12\n"
     ]
    }
   ],
   "source": [
    "print(\"La liste des continents : \",df_interm[\"Continent\"].unique())\n",
    "print(\"Le nombre de pays sans continent \", np.sum(df_interm[\"Continent\"].isna()))\n",
    "print(\"Le nombre de pays sans l'information sur leur taux d'alphabétisme\", np.sum(df_interm[\"Literacy_Rate_2021\"].isna()))\n",
    "print(\"Le nombre de pays sans le nombre de votes sur les musées\", np.sum(df_interm[\"Nbvotes_Musees_Clean\"]==0))\n",
    "print(\"Le nombre de pays sans les notes sur les musées\", np.sum(df_interm[\"Notes_Musees\"]==0))"
   ]
  },
  {
   "cell_type": "code",
   "execution_count": 16,
   "metadata": {},
   "outputs": [
    {
     "data": {
      "text/html": [
       "<div>\n",
       "<style scoped>\n",
       "    .dataframe tbody tr th:only-of-type {\n",
       "        vertical-align: middle;\n",
       "    }\n",
       "\n",
       "    .dataframe tbody tr th {\n",
       "        vertical-align: top;\n",
       "    }\n",
       "\n",
       "    .dataframe thead th {\n",
       "        text-align: right;\n",
       "    }\n",
       "</style>\n",
       "<table border=\"1\" class=\"dataframe\">\n",
       "  <thead>\n",
       "    <tr style=\"text-align: right;\">\n",
       "      <th></th>\n",
       "      <th>Country</th>\n",
       "      <th>Continent</th>\n",
       "      <th>Literacy_Rate_2021</th>\n",
       "      <th>Indice_Culturel</th>\n",
       "    </tr>\n",
       "  </thead>\n",
       "  <tbody>\n",
       "    <tr>\n",
       "      <th>0</th>\n",
       "      <td>Afghanistan</td>\n",
       "      <td>asia</td>\n",
       "      <td>37.27</td>\n",
       "      <td>2583.000000</td>\n",
       "    </tr>\n",
       "    <tr>\n",
       "      <th>1</th>\n",
       "      <td>Albania</td>\n",
       "      <td>europe</td>\n",
       "      <td>NaN</td>\n",
       "      <td>2988.042308</td>\n",
       "    </tr>\n",
       "    <tr>\n",
       "      <th>2</th>\n",
       "      <td>Algeria</td>\n",
       "      <td>africa</td>\n",
       "      <td>NaN</td>\n",
       "      <td>800.400000</td>\n",
       "    </tr>\n",
       "    <tr>\n",
       "      <th>3</th>\n",
       "      <td>Andorra</td>\n",
       "      <td>europe</td>\n",
       "      <td>NaN</td>\n",
       "      <td>907.602268</td>\n",
       "    </tr>\n",
       "    <tr>\n",
       "      <th>4</th>\n",
       "      <td>Angola</td>\n",
       "      <td>africa</td>\n",
       "      <td>NaN</td>\n",
       "      <td>416.099723</td>\n",
       "    </tr>\n",
       "    <tr>\n",
       "      <th>...</th>\n",
       "      <td>...</td>\n",
       "      <td>...</td>\n",
       "      <td>...</td>\n",
       "      <td>...</td>\n",
       "    </tr>\n",
       "    <tr>\n",
       "      <th>192</th>\n",
       "      <td>Venezuela</td>\n",
       "      <td>south-america</td>\n",
       "      <td>NaN</td>\n",
       "      <td>1617.970919</td>\n",
       "    </tr>\n",
       "    <tr>\n",
       "      <th>193</th>\n",
       "      <td>Vietnam</td>\n",
       "      <td>asia</td>\n",
       "      <td>NaN</td>\n",
       "      <td>0.000000</td>\n",
       "    </tr>\n",
       "    <tr>\n",
       "      <th>194</th>\n",
       "      <td>Yemen</td>\n",
       "      <td>asia</td>\n",
       "      <td>NaN</td>\n",
       "      <td>206.510000</td>\n",
       "    </tr>\n",
       "    <tr>\n",
       "      <th>195</th>\n",
       "      <td>Zambia</td>\n",
       "      <td>africa</td>\n",
       "      <td>NaN</td>\n",
       "      <td>1145.793750</td>\n",
       "    </tr>\n",
       "    <tr>\n",
       "      <th>196</th>\n",
       "      <td>Zimbabwe</td>\n",
       "      <td>africa</td>\n",
       "      <td>NaN</td>\n",
       "      <td>620.055363</td>\n",
       "    </tr>\n",
       "  </tbody>\n",
       "</table>\n",
       "<p>197 rows × 4 columns</p>\n",
       "</div>"
      ],
      "text/plain": [
       "         Country      Continent  Literacy_Rate_2021  Indice_Culturel\n",
       "0    Afghanistan           asia               37.27      2583.000000\n",
       "1        Albania         europe                 NaN      2988.042308\n",
       "2        Algeria         africa                 NaN       800.400000\n",
       "3        Andorra         europe                 NaN       907.602268\n",
       "4         Angola         africa                 NaN       416.099723\n",
       "..           ...            ...                 ...              ...\n",
       "192    Venezuela  south-america                 NaN      1617.970919\n",
       "193      Vietnam           asia                 NaN         0.000000\n",
       "194        Yemen           asia                 NaN       206.510000\n",
       "195       Zambia         africa                 NaN      1145.793750\n",
       "196     Zimbabwe         africa                 NaN       620.055363\n",
       "\n",
       "[197 rows x 4 columns]"
      ]
     },
     "execution_count": 16,
     "metadata": {},
     "output_type": "execute_result"
    }
   ],
   "source": [
    "df_interm['Indice_Culturel']=df_interm[\"Nbvotes_Musees_Clean\"]*df_interm[\"Notes_Musees\"]\n",
    "df_interm=df_interm.loc[:, [\"Country\",\"Continent\", \"Literacy_Rate_2021\", \"Indice_Culturel\"]]\n",
    "df_interm"
   ]
  },
  {
   "cell_type": "code",
   "execution_count": 17,
   "metadata": {},
   "outputs": [
    {
     "data": {
      "application/vnd.plotly.v1+json": {
       "config": {
        "plotlyServerURL": "https://plot.ly"
       },
       "data": [
        {
         "hovertemplate": "Continent=asia<br>Country=Afghanistan<br>Literacy_Rate_2021=%{x}<br>Indice_Culturel=%{y}<extra></extra>",
         "legendgroup": "asia, Afghanistan",
         "marker": {
          "color": "#636efa",
          "symbol": "circle"
         },
         "mode": "markers",
         "name": "asia, Afghanistan",
         "orientation": "v",
         "showlegend": true,
         "type": "scatter",
         "x": [
          37.27
         ],
         "xaxis": "x",
         "y": [
          2583
         ],
         "yaxis": "y"
        },
        {
         "hovertemplate": "Continent=asia<br>Country=Armenia<br>Literacy_Rate_2021=%{x}<br>Indice_Culturel=%{y}<extra></extra>",
         "legendgroup": "asia, Armenia",
         "marker": {
          "color": "#636efa",
          "symbol": "square"
         },
         "mode": "markers",
         "name": "asia, Armenia",
         "orientation": "v",
         "showlegend": true,
         "type": "scatter",
         "x": [
          null
         ],
         "xaxis": "x",
         "y": [
          1051.7133058984912
         ],
         "yaxis": "y"
        },
        {
         "hovertemplate": "Continent=asia<br>Country=Azerbaijan<br>Literacy_Rate_2021=%{x}<br>Indice_Culturel=%{y}<extra></extra>",
         "legendgroup": "asia, Azerbaijan",
         "marker": {
          "color": "#636efa",
          "symbol": "circle"
         },
         "mode": "markers",
         "name": "asia, Azerbaijan",
         "orientation": "v",
         "showlegend": true,
         "type": "scatter",
         "x": [
          null
         ],
         "xaxis": "x",
         "y": [
          2837.533284023669
         ],
         "yaxis": "y"
        },
        {
         "hovertemplate": "Continent=asia<br>Country=Bahrain<br>Literacy_Rate_2021=%{x}<br>Indice_Culturel=%{y}<extra></extra>",
         "legendgroup": "asia, Bahrain",
         "marker": {
          "color": "#636efa",
          "symbol": "square"
         },
         "mode": "markers",
         "name": "asia, Bahrain",
         "orientation": "v",
         "showlegend": true,
         "type": "scatter",
         "x": [
          null
         ],
         "xaxis": "x",
         "y": [
          1351.2632653061223
         ],
         "yaxis": "y"
        },
        {
         "hovertemplate": "Continent=asia<br>Country=Bangladesh<br>Literacy_Rate_2021=%{x}<br>Indice_Culturel=%{y}<extra></extra>",
         "legendgroup": "asia, Bangladesh",
         "marker": {
          "color": "#636efa",
          "symbol": "x"
         },
         "mode": "markers",
         "name": "asia, Bangladesh",
         "orientation": "v",
         "showlegend": true,
         "type": "scatter",
         "x": [
          null
         ],
         "xaxis": "x",
         "y": [
          14728.986538461539
         ],
         "yaxis": "y"
        },
        {
         "hovertemplate": "Continent=asia<br>Country=Bhutan<br>Literacy_Rate_2021=%{x}<br>Indice_Culturel=%{y}<extra></extra>",
         "legendgroup": "asia, Bhutan",
         "marker": {
          "color": "#636efa",
          "symbol": "circle"
         },
         "mode": "markers",
         "name": "asia, Bhutan",
         "orientation": "v",
         "showlegend": true,
         "type": "scatter",
         "x": [
          null
         ],
         "xaxis": "x",
         "y": [
          1671.25
         ],
         "yaxis": "y"
        },
        {
         "hovertemplate": "Continent=asia<br>Country=Brunei<br>Literacy_Rate_2021=%{x}<br>Indice_Culturel=%{y}<extra></extra>",
         "legendgroup": "asia, Brunei",
         "marker": {
          "color": "#636efa",
          "symbol": "diamond"
         },
         "mode": "markers",
         "name": "asia, Brunei",
         "orientation": "v",
         "showlegend": true,
         "type": "scatter",
         "x": [
          97.59
         ],
         "xaxis": "x",
         "y": [
          620.4187499999999
         ],
         "yaxis": "y"
        },
        {
         "hovertemplate": "Continent=asia<br>Country=Cambodia<br>Literacy_Rate_2021=%{x}<br>Indice_Culturel=%{y}<extra></extra>",
         "legendgroup": "asia, Cambodia",
         "marker": {
          "color": "#636efa",
          "symbol": "circle"
         },
         "mode": "markers",
         "name": "asia, Cambodia",
         "orientation": "v",
         "showlegend": true,
         "type": "scatter",
         "x": [
          null
         ],
         "xaxis": "x",
         "y": [
          4965.712809917356
         ],
         "yaxis": "y"
        },
        {
         "hovertemplate": "Continent=asia<br>Country=China<br>Literacy_Rate_2021=%{x}<br>Indice_Culturel=%{y}<extra></extra>",
         "legendgroup": "asia, China",
         "marker": {
          "color": "#636efa",
          "symbol": "x"
         },
         "mode": "markers",
         "name": "asia, China",
         "orientation": "v",
         "showlegend": true,
         "type": "scatter",
         "x": [
          null
         ],
         "xaxis": "x",
         "y": [
          4589.698224852071
         ],
         "yaxis": "y"
        },
        {
         "hovertemplate": "Continent=asia<br>Country=Cyprus<br>Literacy_Rate_2021=%{x}<br>Indice_Culturel=%{y}<extra></extra>",
         "legendgroup": "asia, Cyprus",
         "marker": {
          "color": "#636efa",
          "symbol": "diamond"
         },
         "mode": "markers",
         "name": "asia, Cyprus",
         "orientation": "v",
         "showlegend": true,
         "type": "scatter",
         "x": [
          99.36
         ],
         "xaxis": "x",
         "y": [
          1063.478698224852
         ],
         "yaxis": "y"
        },
        {
         "hovertemplate": "Continent=asia<br>Country=Georgia<br>Literacy_Rate_2021=%{x}<br>Indice_Culturel=%{y}<extra></extra>",
         "legendgroup": "asia, Georgia",
         "marker": {
          "color": "#636efa",
          "symbol": "cross"
         },
         "mode": "markers",
         "name": "asia, Georgia",
         "orientation": "v",
         "showlegend": true,
         "type": "scatter",
         "x": [
          null
         ],
         "xaxis": "x",
         "y": [
          4825.2692307692305
         ],
         "yaxis": "y"
        },
        {
         "hovertemplate": "Continent=asia<br>Country=Hong Kong<br>Literacy_Rate_2021=%{x}<br>Indice_Culturel=%{y}<extra></extra>",
         "legendgroup": "asia, Hong Kong",
         "marker": {
          "color": "#636efa",
          "symbol": "circle"
         },
         "mode": "markers",
         "name": "asia, Hong Kong",
         "orientation": "v",
         "showlegend": true,
         "type": "scatter",
         "x": [
          null
         ],
         "xaxis": "x",
         "y": [
          7619.38520710059
         ],
         "yaxis": "y"
        },
        {
         "hovertemplate": "Continent=asia<br>Country=India<br>Literacy_Rate_2021=%{x}<br>Indice_Culturel=%{y}<extra></extra>",
         "legendgroup": "asia, India",
         "marker": {
          "color": "#636efa",
          "symbol": "x"
         },
         "mode": "markers",
         "name": "asia, India",
         "orientation": "v",
         "showlegend": true,
         "type": "scatter",
         "x": [
          null
         ],
         "xaxis": "x",
         "y": [
          110369.01906721538
         ],
         "yaxis": "y"
        },
        {
         "hovertemplate": "Continent=asia<br>Country=Indonesia<br>Literacy_Rate_2021=%{x}<br>Indice_Culturel=%{y}<extra></extra>",
         "legendgroup": "asia, Indonesia",
         "marker": {
          "color": "#636efa",
          "symbol": "cross"
         },
         "mode": "markers",
         "name": "asia, Indonesia",
         "orientation": "v",
         "showlegend": true,
         "type": "scatter",
         "x": [
          null
         ],
         "xaxis": "x",
         "y": [
          56185.83333333334
         ],
         "yaxis": "y"
        },
        {
         "hovertemplate": "Continent=asia<br>Country=Iran<br>Literacy_Rate_2021=%{x}<br>Indice_Culturel=%{y}<extra></extra>",
         "legendgroup": "asia, Iran",
         "marker": {
          "color": "#636efa",
          "symbol": "circle"
         },
         "mode": "markers",
         "name": "asia, Iran",
         "orientation": "v",
         "showlegend": true,
         "type": "scatter",
         "x": [
          null
         ],
         "xaxis": "x",
         "y": [
          3805.5517751479283
         ],
         "yaxis": "y"
        },
        {
         "hovertemplate": "Continent=asia<br>Country=Iraq<br>Literacy_Rate_2021=%{x}<br>Indice_Culturel=%{y}<extra></extra>",
         "legendgroup": "asia, Iraq",
         "marker": {
          "color": "#636efa",
          "symbol": "diamond"
         },
         "mode": "markers",
         "name": "asia, Iraq",
         "orientation": "v",
         "showlegend": true,
         "type": "scatter",
         "x": [
          null
         ],
         "xaxis": "x",
         "y": [
          1580.7994459833792
         ],
         "yaxis": "y"
        },
        {
         "hovertemplate": "Continent=asia<br>Country=Israel<br>Literacy_Rate_2021=%{x}<br>Indice_Culturel=%{y}<extra></extra>",
         "legendgroup": "asia, Israel",
         "marker": {
          "color": "#636efa",
          "symbol": "x"
         },
         "mode": "markers",
         "name": "asia, Israel",
         "orientation": "v",
         "showlegend": true,
         "type": "scatter",
         "x": [
          null
         ],
         "xaxis": "x",
         "y": [
          14234.448499999999
         ],
         "yaxis": "y"
        },
        {
         "hovertemplate": "Continent=asia<br>Country=Japan<br>Literacy_Rate_2021=%{x}<br>Indice_Culturel=%{y}<extra></extra>",
         "legendgroup": "asia, Japan",
         "marker": {
          "color": "#636efa",
          "symbol": "square"
         },
         "mode": "markers",
         "name": "asia, Japan",
         "orientation": "v",
         "showlegend": true,
         "type": "scatter",
         "x": [
          null
         ],
         "xaxis": "x",
         "y": [
          11009.940740740742
         ],
         "yaxis": "y"
        },
        {
         "hovertemplate": "Continent=asia<br>Country=Jordan<br>Literacy_Rate_2021=%{x}<br>Indice_Culturel=%{y}<extra></extra>",
         "legendgroup": "asia, Jordan",
         "marker": {
          "color": "#636efa",
          "symbol": "x"
         },
         "mode": "markers",
         "name": "asia, Jordan",
         "orientation": "v",
         "showlegend": true,
         "type": "scatter",
         "x": [
          98.42
         ],
         "xaxis": "x",
         "y": [
          8282.30452674897
         ],
         "yaxis": "y"
        },
        {
         "hovertemplate": "Continent=asia<br>Country=Kazakhstan<br>Literacy_Rate_2021=%{x}<br>Indice_Culturel=%{y}<extra></extra>",
         "legendgroup": "asia, Kazakhstan",
         "marker": {
          "color": "#636efa",
          "symbol": "cross"
         },
         "mode": "markers",
         "name": "asia, Kazakhstan",
         "orientation": "v",
         "showlegend": true,
         "type": "scatter",
         "x": [
          null
         ],
         "xaxis": "x",
         "y": [
          3334.5265927977844
         ],
         "yaxis": "y"
        },
        {
         "hovertemplate": "Continent=asia<br>Country=Kuwait<br>Literacy_Rate_2021=%{x}<br>Indice_Culturel=%{y}<extra></extra>",
         "legendgroup": "asia, Kuwait",
         "marker": {
          "color": "#636efa",
          "symbol": "square"
         },
         "mode": "markers",
         "name": "asia, Kuwait",
         "orientation": "v",
         "showlegend": true,
         "type": "scatter",
         "x": [
          null
         ],
         "xaxis": "x",
         "y": [
          4602.736111111111
         ],
         "yaxis": "y"
        },
        {
         "hovertemplate": "Continent=asia<br>Country=Kyrgyzstan<br>Literacy_Rate_2021=%{x}<br>Indice_Culturel=%{y}<extra></extra>",
         "legendgroup": "asia, Kyrgyzstan",
         "marker": {
          "color": "#636efa",
          "symbol": "x"
         },
         "mode": "markers",
         "name": "asia, Kyrgyzstan",
         "orientation": "v",
         "showlegend": true,
         "type": "scatter",
         "x": [
          null
         ],
         "xaxis": "x",
         "y": [
          0
         ],
         "yaxis": "y"
        },
        {
         "hovertemplate": "Continent=asia<br>Country=Laos<br>Literacy_Rate_2021=%{x}<br>Indice_Culturel=%{y}<extra></extra>",
         "legendgroup": "asia, Laos",
         "marker": {
          "color": "#636efa",
          "symbol": "cross"
         },
         "mode": "markers",
         "name": "asia, Laos",
         "orientation": "v",
         "showlegend": true,
         "type": "scatter",
         "x": [
          null
         ],
         "xaxis": "x",
         "y": [
          0
         ],
         "yaxis": "y"
        },
        {
         "hovertemplate": "Continent=asia<br>Country=Lebanon<br>Literacy_Rate_2021=%{x}<br>Indice_Culturel=%{y}<extra></extra>",
         "legendgroup": "asia, Lebanon",
         "marker": {
          "color": "#636efa",
          "symbol": "diamond"
         },
         "mode": "markers",
         "name": "asia, Lebanon",
         "orientation": "v",
         "showlegend": true,
         "type": "scatter",
         "x": [
          null
         ],
         "xaxis": "x",
         "y": [
          1406.2633744855966
         ],
         "yaxis": "y"
        },
        {
         "hovertemplate": "Continent=asia<br>Country=Malaysia<br>Literacy_Rate_2021=%{x}<br>Indice_Culturel=%{y}<extra></extra>",
         "legendgroup": "asia, Malaysia",
         "marker": {
          "color": "#636efa",
          "symbol": "diamond"
         },
         "mode": "markers",
         "name": "asia, Malaysia",
         "orientation": "v",
         "showlegend": true,
         "type": "scatter",
         "x": [
          null
         ],
         "xaxis": "x",
         "y": [
          9049.180795610424
         ],
         "yaxis": "y"
        },
        {
         "hovertemplate": "Continent=asia<br>Country=Maldives<br>Literacy_Rate_2021=%{x}<br>Indice_Culturel=%{y}<extra></extra>",
         "legendgroup": "asia, Maldives",
         "marker": {
          "color": "#636efa",
          "symbol": "square"
         },
         "mode": "markers",
         "name": "asia, Maldives",
         "orientation": "v",
         "showlegend": true,
         "type": "scatter",
         "x": [
          97.86
         ],
         "xaxis": "x",
         "y": [
          393.525
         ],
         "yaxis": "y"
        },
        {
         "hovertemplate": "Continent=asia<br>Country=Mongolia<br>Literacy_Rate_2021=%{x}<br>Indice_Culturel=%{y}<extra></extra>",
         "legendgroup": "asia, Mongolia",
         "marker": {
          "color": "#636efa",
          "symbol": "diamond"
         },
         "mode": "markers",
         "name": "asia, Mongolia",
         "orientation": "v",
         "showlegend": true,
         "type": "scatter",
         "x": [
          null
         ],
         "xaxis": "x",
         "y": [
          1384.3276041666668
         ],
         "yaxis": "y"
        },
        {
         "hovertemplate": "Continent=asia<br>Country=Myanmar<br>Literacy_Rate_2021=%{x}<br>Indice_Culturel=%{y}<extra></extra>",
         "legendgroup": "asia, Myanmar",
         "marker": {
          "color": "#636efa",
          "symbol": "circle"
         },
         "mode": "markers",
         "name": "asia, Myanmar",
         "orientation": "v",
         "showlegend": true,
         "type": "scatter",
         "x": [
          null
         ],
         "xaxis": "x",
         "y": [
          641.1170000000001
         ],
         "yaxis": "y"
        },
        {
         "hovertemplate": "Continent=asia<br>Country=Nepal<br>Literacy_Rate_2021=%{x}<br>Indice_Culturel=%{y}<extra></extra>",
         "legendgroup": "asia, Nepal",
         "marker": {
          "color": "#636efa",
          "symbol": "square"
         },
         "mode": "markers",
         "name": "asia, Nepal",
         "orientation": "v",
         "showlegend": true,
         "type": "scatter",
         "x": [
          71.15
         ],
         "xaxis": "x",
         "y": [
          2536.8562499999994
         ],
         "yaxis": "y"
        },
        {
         "hovertemplate": "Continent=asia<br>Country=North Korea<br>Literacy_Rate_2021=%{x}<br>Indice_Culturel=%{y}<extra></extra>",
         "legendgroup": "asia, North Korea",
         "marker": {
          "color": "#636efa",
          "symbol": "cross"
         },
         "mode": "markers",
         "name": "asia, North Korea",
         "orientation": "v",
         "showlegend": true,
         "type": "scatter",
         "x": [
          null
         ],
         "xaxis": "x",
         "y": [
          6223.777777777778
         ],
         "yaxis": "y"
        },
        {
         "hovertemplate": "Continent=asia<br>Country=Oman<br>Literacy_Rate_2021=%{x}<br>Indice_Culturel=%{y}<extra></extra>",
         "legendgroup": "asia, Oman",
         "marker": {
          "color": "#636efa",
          "symbol": "x"
         },
         "mode": "markers",
         "name": "asia, Oman",
         "orientation": "v",
         "showlegend": true,
         "type": "scatter",
         "x": [
          null
         ],
         "xaxis": "x",
         "y": [
          2652.163580246913
         ],
         "yaxis": "y"
        },
        {
         "hovertemplate": "Continent=asia<br>Country=Pakistan<br>Literacy_Rate_2021=%{x}<br>Indice_Culturel=%{y}<extra></extra>",
         "legendgroup": "asia, Pakistan",
         "marker": {
          "color": "#636efa",
          "symbol": "cross"
         },
         "mode": "markers",
         "name": "asia, Pakistan",
         "orientation": "v",
         "showlegend": true,
         "type": "scatter",
         "x": [
          null
         ],
         "xaxis": "x",
         "y": [
          16176.705920000002
         ],
         "yaxis": "y"
        },
        {
         "hovertemplate": "Continent=asia<br>Country=Palestine<br>Literacy_Rate_2021=%{x}<br>Indice_Culturel=%{y}<extra></extra>",
         "legendgroup": "asia, Palestine",
         "marker": {
          "color": "#636efa",
          "symbol": "circle"
         },
         "mode": "markers",
         "name": "asia, Palestine",
         "orientation": "v",
         "showlegend": true,
         "type": "scatter",
         "x": [
          null
         ],
         "xaxis": "x",
         "y": [
          850.3619834710746
         ],
         "yaxis": "y"
        },
        {
         "hovertemplate": "Continent=asia<br>Country=Philippines<br>Literacy_Rate_2021=%{x}<br>Indice_Culturel=%{y}<extra></extra>",
         "legendgroup": "asia, Philippines",
         "marker": {
          "color": "#636efa",
          "symbol": "circle"
         },
         "mode": "markers",
         "name": "asia, Philippines",
         "orientation": "v",
         "showlegend": true,
         "type": "scatter",
         "x": [
          null
         ],
         "xaxis": "x",
         "y": [
          4795.979423868313
         ],
         "yaxis": "y"
        },
        {
         "hovertemplate": "Continent=asia<br>Country=Qatar<br>Literacy_Rate_2021=%{x}<br>Indice_Culturel=%{y}<extra></extra>",
         "legendgroup": "asia, Qatar",
         "marker": {
          "color": "#636efa",
          "symbol": "cross"
         },
         "mode": "markers",
         "name": "asia, Qatar",
         "orientation": "v",
         "showlegend": true,
         "type": "scatter",
         "x": [
          null
         ],
         "xaxis": "x",
         "y": [
          8028.13275
         ],
         "yaxis": "y"
        },
        {
         "hovertemplate": "Continent=asia<br>Country=Saudi Arabia<br>Literacy_Rate_2021=%{x}<br>Indice_Culturel=%{y}<extra></extra>",
         "legendgroup": "asia, Saudi Arabia",
         "marker": {
          "color": "#636efa",
          "symbol": "cross"
         },
         "mode": "markers",
         "name": "asia, Saudi Arabia",
         "orientation": "v",
         "showlegend": true,
         "type": "scatter",
         "x": [
          null
         ],
         "xaxis": "x",
         "y": [
          10680.1775147929
         ],
         "yaxis": "y"
        },
        {
         "hovertemplate": "Continent=asia<br>Country=Singapore<br>Literacy_Rate_2021=%{x}<br>Indice_Culturel=%{y}<extra></extra>",
         "legendgroup": "asia, Singapore",
         "marker": {
          "color": "#636efa",
          "symbol": "cross"
         },
         "mode": "markers",
         "name": "asia, Singapore",
         "orientation": "v",
         "showlegend": true,
         "type": "scatter",
         "x": [
          null
         ],
         "xaxis": "x",
         "y": [
          15068.571428571431
         ],
         "yaxis": "y"
        },
        {
         "hovertemplate": "Continent=asia<br>Country=South Korea<br>Literacy_Rate_2021=%{x}<br>Indice_Culturel=%{y}<extra></extra>",
         "legendgroup": "asia, South Korea",
         "marker": {
          "color": "#636efa",
          "symbol": "circle"
         },
         "mode": "markers",
         "name": "asia, South Korea",
         "orientation": "v",
         "showlegend": true,
         "type": "scatter",
         "x": [
          null
         ],
         "xaxis": "x",
         "y": [
          9793.919204389575
         ],
         "yaxis": "y"
        },
        {
         "hovertemplate": "Continent=asia<br>Country=Sri Lanka<br>Literacy_Rate_2021=%{x}<br>Indice_Culturel=%{y}<extra></extra>",
         "legendgroup": "asia, Sri Lanka",
         "marker": {
          "color": "#636efa",
          "symbol": "x"
         },
         "mode": "markers",
         "name": "asia, Sri Lanka",
         "orientation": "v",
         "showlegend": true,
         "type": "scatter",
         "x": [
          92.43
         ],
         "xaxis": "x",
         "y": [
          2177.9991999999997
         ],
         "yaxis": "y"
        },
        {
         "hovertemplate": "Continent=asia<br>Country=Syria<br>Literacy_Rate_2021=%{x}<br>Indice_Culturel=%{y}<extra></extra>",
         "legendgroup": "asia, Syria",
         "marker": {
          "color": "#636efa",
          "symbol": "x"
         },
         "mode": "markers",
         "name": "asia, Syria",
         "orientation": "v",
         "showlegend": true,
         "type": "scatter",
         "x": [
          null
         ],
         "xaxis": "x",
         "y": [
          444.42129629629625
         ],
         "yaxis": "y"
        },
        {
         "hovertemplate": "Continent=asia<br>Country=Taiwan<br>Literacy_Rate_2021=%{x}<br>Indice_Culturel=%{y}<extra></extra>",
         "legendgroup": "asia, Taiwan",
         "marker": {
          "color": "#636efa",
          "symbol": "cross"
         },
         "mode": "markers",
         "name": "asia, Taiwan",
         "orientation": "v",
         "showlegend": true,
         "type": "scatter",
         "x": [
          null
         ],
         "xaxis": "x",
         "y": [
          20354.816872427986
         ],
         "yaxis": "y"
        },
        {
         "hovertemplate": "Continent=asia<br>Country=Tajikistan<br>Literacy_Rate_2021=%{x}<br>Indice_Culturel=%{y}<extra></extra>",
         "legendgroup": "asia, Tajikistan",
         "marker": {
          "color": "#636efa",
          "symbol": "circle"
         },
         "mode": "markers",
         "name": "asia, Tajikistan",
         "orientation": "v",
         "showlegend": true,
         "type": "scatter",
         "x": [
          null
         ],
         "xaxis": "x",
         "y": [
          0
         ],
         "yaxis": "y"
        },
        {
         "hovertemplate": "Continent=asia<br>Country=Thailand<br>Literacy_Rate_2021=%{x}<br>Indice_Culturel=%{y}<extra></extra>",
         "legendgroup": "asia, Thailand",
         "marker": {
          "color": "#636efa",
          "symbol": "square"
         },
         "mode": "markers",
         "name": "asia, Thailand",
         "orientation": "v",
         "showlegend": true,
         "type": "scatter",
         "x": [
          94.1
         ],
         "xaxis": "x",
         "y": [
          10624.71111111111
         ],
         "yaxis": "y"
        },
        {
         "hovertemplate": "Continent=asia<br>Country=Turkey<br>Literacy_Rate_2021=%{x}<br>Indice_Culturel=%{y}<extra></extra>",
         "legendgroup": "asia, Turkey",
         "marker": {
          "color": "#636efa",
          "symbol": "diamond"
         },
         "mode": "markers",
         "name": "asia, Turkey",
         "orientation": "v",
         "showlegend": true,
         "type": "scatter",
         "x": [
          null
         ],
         "xaxis": "x",
         "y": [
          0
         ],
         "yaxis": "y"
        },
        {
         "hovertemplate": "Continent=asia<br>Country=Turkmenistan<br>Literacy_Rate_2021=%{x}<br>Indice_Culturel=%{y}<extra></extra>",
         "legendgroup": "asia, Turkmenistan",
         "marker": {
          "color": "#636efa",
          "symbol": "square"
         },
         "mode": "markers",
         "name": "asia, Turkmenistan",
         "orientation": "v",
         "showlegend": true,
         "type": "scatter",
         "x": [
          null
         ],
         "xaxis": "x",
         "y": [
          0
         ],
         "yaxis": "y"
        },
        {
         "hovertemplate": "Continent=asia<br>Country=United Arab Emirates<br>Literacy_Rate_2021=%{x}<br>Indice_Culturel=%{y}<extra></extra>",
         "legendgroup": "asia, United Arab Emirates",
         "marker": {
          "color": "#636efa",
          "symbol": "diamond"
         },
         "mode": "markers",
         "name": "asia, United Arab Emirates",
         "orientation": "v",
         "showlegend": true,
         "type": "scatter",
         "x": [
          98.13
         ],
         "xaxis": "x",
         "y": [
          16677.741289437585
         ],
         "yaxis": "y"
        },
        {
         "hovertemplate": "Continent=asia<br>Country=Uzbekistan<br>Literacy_Rate_2021=%{x}<br>Indice_Culturel=%{y}<extra></extra>",
         "legendgroup": "asia, Uzbekistan",
         "marker": {
          "color": "#636efa",
          "symbol": "circle"
         },
         "mode": "markers",
         "name": "asia, Uzbekistan",
         "orientation": "v",
         "showlegend": true,
         "type": "scatter",
         "x": [
          100
         ],
         "xaxis": "x",
         "y": [
          843.6458333333334
         ],
         "yaxis": "y"
        },
        {
         "hovertemplate": "Continent=asia<br>Country=Vietnam<br>Literacy_Rate_2021=%{x}<br>Indice_Culturel=%{y}<extra></extra>",
         "legendgroup": "asia, Vietnam",
         "marker": {
          "color": "#636efa",
          "symbol": "x"
         },
         "mode": "markers",
         "name": "asia, Vietnam",
         "orientation": "v",
         "showlegend": true,
         "type": "scatter",
         "x": [
          null
         ],
         "xaxis": "x",
         "y": [
          0
         ],
         "yaxis": "y"
        },
        {
         "hovertemplate": "Continent=asia<br>Country=Yemen<br>Literacy_Rate_2021=%{x}<br>Indice_Culturel=%{y}<extra></extra>",
         "legendgroup": "asia, Yemen",
         "marker": {
          "color": "#636efa",
          "symbol": "cross"
         },
         "mode": "markers",
         "name": "asia, Yemen",
         "orientation": "v",
         "showlegend": true,
         "type": "scatter",
         "x": [
          null
         ],
         "xaxis": "x",
         "y": [
          206.51000000000002
         ],
         "yaxis": "y"
        },
        {
         "hovertemplate": "Continent=europe<br>Country=Albania<br>Literacy_Rate_2021=%{x}<br>Indice_Culturel=%{y}<extra></extra>",
         "legendgroup": "europe, Albania",
         "marker": {
          "color": "#EF553B",
          "symbol": "diamond"
         },
         "mode": "markers",
         "name": "europe, Albania",
         "orientation": "v",
         "showlegend": true,
         "type": "scatter",
         "x": [
          null
         ],
         "xaxis": "x",
         "y": [
          2988.042307692308
         ],
         "yaxis": "y"
        },
        {
         "hovertemplate": "Continent=europe<br>Country=Andorra<br>Literacy_Rate_2021=%{x}<br>Indice_Culturel=%{y}<extra></extra>",
         "legendgroup": "europe, Andorra",
         "marker": {
          "color": "#EF553B",
          "symbol": "x"
         },
         "mode": "markers",
         "name": "europe, Andorra",
         "orientation": "v",
         "showlegend": true,
         "type": "scatter",
         "x": [
          null
         ],
         "xaxis": "x",
         "y": [
          907.6022675736962
         ],
         "yaxis": "y"
        },
        {
         "hovertemplate": "Continent=europe<br>Country=Austria<br>Literacy_Rate_2021=%{x}<br>Indice_Culturel=%{y}<extra></extra>",
         "legendgroup": "europe, Austria",
         "marker": {
          "color": "#EF553B",
          "symbol": "cross"
         },
         "mode": "markers",
         "name": "europe, Austria",
         "orientation": "v",
         "showlegend": true,
         "type": "scatter",
         "x": [
          null
         ],
         "xaxis": "x",
         "y": [
          68643.08888888889
         ],
         "yaxis": "y"
        },
        {
         "hovertemplate": "Continent=europe<br>Country=Belarus<br>Literacy_Rate_2021=%{x}<br>Indice_Culturel=%{y}<extra></extra>",
         "legendgroup": "europe, Belarus",
         "marker": {
          "color": "#EF553B",
          "symbol": "circle"
         },
         "mode": "markers",
         "name": "europe, Belarus",
         "orientation": "v",
         "showlegend": true,
         "type": "scatter",
         "x": [
          null
         ],
         "xaxis": "x",
         "y": [
          6435.236094674556
         ],
         "yaxis": "y"
        },
        {
         "hovertemplate": "Continent=europe<br>Country=Belgium<br>Literacy_Rate_2021=%{x}<br>Indice_Culturel=%{y}<extra></extra>",
         "legendgroup": "europe, Belgium",
         "marker": {
          "color": "#EF553B",
          "symbol": "diamond"
         },
         "mode": "markers",
         "name": "europe, Belgium",
         "orientation": "v",
         "showlegend": true,
         "type": "scatter",
         "x": [
          null
         ],
         "xaxis": "x",
         "y": [
          35349.75994513032
         ],
         "yaxis": "y"
        },
        {
         "hovertemplate": "Continent=europe<br>Country=Bosnia and Herzegovina<br>Literacy_Rate_2021=%{x}<br>Indice_Culturel=%{y}<extra></extra>",
         "legendgroup": "europe, Bosnia and Herzegovina",
         "marker": {
          "color": "#EF553B",
          "symbol": "square"
         },
         "mode": "markers",
         "name": "europe, Bosnia and Herzegovina",
         "orientation": "v",
         "showlegend": true,
         "type": "scatter",
         "x": [
          null
         ],
         "xaxis": "x",
         "y": [
          3270.690946502058
         ],
         "yaxis": "y"
        },
        {
         "hovertemplate": "Continent=europe<br>Country=Bulgaria<br>Literacy_Rate_2021=%{x}<br>Indice_Culturel=%{y}<extra></extra>",
         "legendgroup": "europe, Bulgaria",
         "marker": {
          "color": "#EF553B",
          "symbol": "square"
         },
         "mode": "markers",
         "name": "europe, Bulgaria",
         "orientation": "v",
         "showlegend": true,
         "type": "scatter",
         "x": [
          98.42
         ],
         "xaxis": "x",
         "y": [
          11986.276331360947
         ],
         "yaxis": "y"
        },
        {
         "hovertemplate": "Continent=europe<br>Country=Croatia<br>Literacy_Rate_2021=%{x}<br>Indice_Culturel=%{y}<extra></extra>",
         "legendgroup": "europe, Croatia",
         "marker": {
          "color": "#EF553B",
          "symbol": "cross"
         },
         "mode": "markers",
         "name": "europe, Croatia",
         "orientation": "v",
         "showlegend": true,
         "type": "scatter",
         "x": [
          99.45
         ],
         "xaxis": "x",
         "y": [
          7542.987654320989
         ],
         "yaxis": "y"
        },
        {
         "hovertemplate": "Continent=europe<br>Country=Czech Republic<br>Literacy_Rate_2021=%{x}<br>Indice_Culturel=%{y}<extra></extra>",
         "legendgroup": "europe, Czech Republic",
         "marker": {
          "color": "#EF553B",
          "symbol": "square"
         },
         "mode": "markers",
         "name": "europe, Czech Republic",
         "orientation": "v",
         "showlegend": true,
         "type": "scatter",
         "x": [
          null
         ],
         "xaxis": "x",
         "y": [
          21175.20207100592
         ],
         "yaxis": "y"
        },
        {
         "hovertemplate": "Continent=europe<br>Country=Denmark<br>Literacy_Rate_2021=%{x}<br>Indice_Culturel=%{y}<extra></extra>",
         "legendgroup": "europe, Denmark",
         "marker": {
          "color": "#EF553B",
          "symbol": "x"
         },
         "mode": "markers",
         "name": "europe, Denmark",
         "orientation": "v",
         "showlegend": true,
         "type": "scatter",
         "x": [
          null
         ],
         "xaxis": "x",
         "y": [
          21964.419753086422
         ],
         "yaxis": "y"
        },
        {
         "hovertemplate": "Continent=europe<br>Country=Estonia<br>Literacy_Rate_2021=%{x}<br>Indice_Culturel=%{y}<extra></extra>",
         "legendgroup": "europe, Estonia",
         "marker": {
          "color": "#EF553B",
          "symbol": "diamond"
         },
         "mode": "markers",
         "name": "europe, Estonia",
         "orientation": "v",
         "showlegend": true,
         "type": "scatter",
         "x": [
          99.87
         ],
         "xaxis": "x",
         "y": [
          10974.444444444445
         ],
         "yaxis": "y"
        },
        {
         "hovertemplate": "Continent=europe<br>Country=Finland<br>Literacy_Rate_2021=%{x}<br>Indice_Culturel=%{y}<extra></extra>",
         "legendgroup": "europe, Finland",
         "marker": {
          "color": "#EF553B",
          "symbol": "circle"
         },
         "mode": "markers",
         "name": "europe, Finland",
         "orientation": "v",
         "showlegend": true,
         "type": "scatter",
         "x": [
          null
         ],
         "xaxis": "x",
         "y": [
          12108.044444444446
         ],
         "yaxis": "y"
        },
        {
         "hovertemplate": "Continent=europe<br>Country=France<br>Literacy_Rate_2021=%{x}<br>Indice_Culturel=%{y}<extra></extra>",
         "legendgroup": "europe, France",
         "marker": {
          "color": "#EF553B",
          "symbol": "diamond"
         },
         "mode": "markers",
         "name": "europe, France",
         "orientation": "v",
         "showlegend": true,
         "type": "scatter",
         "x": [
          null
         ],
         "xaxis": "x",
         "y": [
          104289.93141289438
         ],
         "yaxis": "y"
        },
        {
         "hovertemplate": "Continent=europe<br>Country=Germany<br>Literacy_Rate_2021=%{x}<br>Indice_Culturel=%{y}<extra></extra>",
         "legendgroup": "europe, Germany",
         "marker": {
          "color": "#EF553B",
          "symbol": "circle"
         },
         "mode": "markers",
         "name": "europe, Germany",
         "orientation": "v",
         "showlegend": true,
         "type": "scatter",
         "x": [
          null
         ],
         "xaxis": "x",
         "y": [
          96511.83401920438
         ],
         "yaxis": "y"
        },
        {
         "hovertemplate": "Continent=europe<br>Country=Greece<br>Literacy_Rate_2021=%{x}<br>Indice_Culturel=%{y}<extra></extra>",
         "legendgroup": "europe, Greece",
         "marker": {
          "color": "#EF553B",
          "symbol": "square"
         },
         "mode": "markers",
         "name": "europe, Greece",
         "orientation": "v",
         "showlegend": true,
         "type": "scatter",
         "x": [
          null
         ],
         "xaxis": "x",
         "y": [
          31722.48038408779
         ],
         "yaxis": "y"
        },
        {
         "hovertemplate": "Continent=europe<br>Country=Hungary<br>Literacy_Rate_2021=%{x}<br>Indice_Culturel=%{y}<extra></extra>",
         "legendgroup": "europe, Hungary",
         "marker": {
          "color": "#EF553B",
          "symbol": "diamond"
         },
         "mode": "markers",
         "name": "europe, Hungary",
         "orientation": "v",
         "showlegend": true,
         "type": "scatter",
         "x": [
          99.1
         ],
         "xaxis": "x",
         "y": [
          16081.274074074074
         ],
         "yaxis": "y"
        },
        {
         "hovertemplate": "Continent=europe<br>Country=Iceland<br>Literacy_Rate_2021=%{x}<br>Indice_Culturel=%{y}<extra></extra>",
         "legendgroup": "europe, Iceland",
         "marker": {
          "color": "#EF553B",
          "symbol": "square"
         },
         "mode": "markers",
         "name": "europe, Iceland",
         "orientation": "v",
         "showlegend": true,
         "type": "scatter",
         "x": [
          null
         ],
         "xaxis": "x",
         "y": [
          5738.436213991769
         ],
         "yaxis": "y"
        },
        {
         "hovertemplate": "Continent=europe<br>Country=Ireland<br>Literacy_Rate_2021=%{x}<br>Indice_Culturel=%{y}<extra></extra>",
         "legendgroup": "europe, Ireland",
         "marker": {
          "color": "#EF553B",
          "symbol": "square"
         },
         "mode": "markers",
         "name": "europe, Ireland",
         "orientation": "v",
         "showlegend": true,
         "type": "scatter",
         "x": [
          null
         ],
         "xaxis": "x",
         "y": [
          0
         ],
         "yaxis": "y"
        },
        {
         "hovertemplate": "Continent=europe<br>Country=Italy<br>Literacy_Rate_2021=%{x}<br>Indice_Culturel=%{y}<extra></extra>",
         "legendgroup": "europe, Italy",
         "marker": {
          "color": "#EF553B",
          "symbol": "cross"
         },
         "mode": "markers",
         "name": "europe, Italy",
         "orientation": "v",
         "showlegend": true,
         "type": "scatter",
         "x": [
          null
         ],
         "xaxis": "x",
         "y": [
          133406.6865569273
         ],
         "yaxis": "y"
        },
        {
         "hovertemplate": "Continent=europe<br>Country=Latvia<br>Literacy_Rate_2021=%{x}<br>Indice_Culturel=%{y}<extra></extra>",
         "legendgroup": "europe, Latvia",
         "marker": {
          "color": "#EF553B",
          "symbol": "circle"
         },
         "mode": "markers",
         "name": "europe, Latvia",
         "orientation": "v",
         "showlegend": true,
         "type": "scatter",
         "x": [
          99.89
         ],
         "xaxis": "x",
         "y": [
          9577.65281207133
         ],
         "yaxis": "y"
        },
        {
         "hovertemplate": "Continent=europe<br>Country=Liechtenstein<br>Literacy_Rate_2021=%{x}<br>Indice_Culturel=%{y}<extra></extra>",
         "legendgroup": "europe, Liechtenstein",
         "marker": {
          "color": "#EF553B",
          "symbol": "circle"
         },
         "mode": "markers",
         "name": "europe, Liechtenstein",
         "orientation": "v",
         "showlegend": true,
         "type": "scatter",
         "x": [
          null
         ],
         "xaxis": "x",
         "y": [
          503.79999999999995
         ],
         "yaxis": "y"
        },
        {
         "hovertemplate": "Continent=europe<br>Country=Lithuania<br>Literacy_Rate_2021=%{x}<br>Indice_Culturel=%{y}<extra></extra>",
         "legendgroup": "europe, Lithuania",
         "marker": {
          "color": "#EF553B",
          "symbol": "diamond"
         },
         "mode": "markers",
         "name": "europe, Lithuania",
         "orientation": "v",
         "showlegend": true,
         "type": "scatter",
         "x": [
          99.83
         ],
         "xaxis": "x",
         "y": [
          11448.329218106994
         ],
         "yaxis": "y"
        },
        {
         "hovertemplate": "Continent=europe<br>Country=Luxembourg<br>Literacy_Rate_2021=%{x}<br>Indice_Culturel=%{y}<extra></extra>",
         "legendgroup": "europe, Luxembourg",
         "marker": {
          "color": "#EF553B",
          "symbol": "square"
         },
         "mode": "markers",
         "name": "europe, Luxembourg",
         "orientation": "v",
         "showlegend": true,
         "type": "scatter",
         "x": [
          null
         ],
         "xaxis": "x",
         "y": [
          2420.740740740741
         ],
         "yaxis": "y"
        },
        {
         "hovertemplate": "Continent=europe<br>Country=Malta<br>Literacy_Rate_2021=%{x}<br>Indice_Culturel=%{y}<extra></extra>",
         "legendgroup": "europe, Malta",
         "marker": {
          "color": "#EF553B",
          "symbol": "cross"
         },
         "mode": "markers",
         "name": "europe, Malta",
         "orientation": "v",
         "showlegend": true,
         "type": "scatter",
         "x": [
          94.94
         ],
         "xaxis": "x",
         "y": [
          0
         ],
         "yaxis": "y"
        },
        {
         "hovertemplate": "Continent=europe<br>Country=Moldova<br>Literacy_Rate_2021=%{x}<br>Indice_Culturel=%{y}<extra></extra>",
         "legendgroup": "europe, Moldova",
         "marker": {
          "color": "#EF553B",
          "symbol": "circle"
         },
         "mode": "markers",
         "name": "europe, Moldova",
         "orientation": "v",
         "showlegend": true,
         "type": "scatter",
         "x": [
          99.6
         ],
         "xaxis": "x",
         "y": [
          2712.108
         ],
         "yaxis": "y"
        },
        {
         "hovertemplate": "Continent=europe<br>Country=Montenegro<br>Literacy_Rate_2021=%{x}<br>Indice_Culturel=%{y}<extra></extra>",
         "legendgroup": "europe, Montenegro",
         "marker": {
          "color": "#EF553B",
          "symbol": "square"
         },
         "mode": "markers",
         "name": "europe, Montenegro",
         "orientation": "v",
         "showlegend": true,
         "type": "scatter",
         "x": [
          98.98
         ],
         "xaxis": "x",
         "y": [
          2210.5370370370374
         ],
         "yaxis": "y"
        },
        {
         "hovertemplate": "Continent=europe<br>Country=Netherlands<br>Literacy_Rate_2021=%{x}<br>Indice_Culturel=%{y}<extra></extra>",
         "legendgroup": "europe, Netherlands",
         "marker": {
          "color": "#EF553B",
          "symbol": "x"
         },
         "mode": "markers",
         "name": "europe, Netherlands",
         "orientation": "v",
         "showlegend": true,
         "type": "scatter",
         "x": [
          null
         ],
         "xaxis": "x",
         "y": [
          80632.51028806587
         ],
         "yaxis": "y"
        },
        {
         "hovertemplate": "Continent=europe<br>Country=North Macedonia<br>Literacy_Rate_2021=%{x}<br>Indice_Culturel=%{y}<extra></extra>",
         "legendgroup": "europe, North Macedonia",
         "marker": {
          "color": "#EF553B",
          "symbol": "circle"
         },
         "mode": "markers",
         "name": "europe, North Macedonia",
         "orientation": "v",
         "showlegend": true,
         "type": "scatter",
         "x": [
          null
         ],
         "xaxis": "x",
         "y": [
          2730.8349206349208
         ],
         "yaxis": "y"
        },
        {
         "hovertemplate": "Continent=europe<br>Country=Norway<br>Literacy_Rate_2021=%{x}<br>Indice_Culturel=%{y}<extra></extra>",
         "legendgroup": "europe, Norway",
         "marker": {
          "color": "#EF553B",
          "symbol": "square"
         },
         "mode": "markers",
         "name": "europe, Norway",
         "orientation": "v",
         "showlegend": true,
         "type": "scatter",
         "x": [
          null
         ],
         "xaxis": "x",
         "y": [
          13701.284773662554
         ],
         "yaxis": "y"
        },
        {
         "hovertemplate": "Continent=europe<br>Country=Poland<br>Literacy_Rate_2021=%{x}<br>Indice_Culturel=%{y}<extra></extra>",
         "legendgroup": "europe, Poland",
         "marker": {
          "color": "#EF553B",
          "symbol": "diamond"
         },
         "mode": "markers",
         "name": "europe, Poland",
         "orientation": "v",
         "showlegend": true,
         "type": "scatter",
         "x": [
          99.8
         ],
         "xaxis": "x",
         "y": [
          61086.20987654321
         ],
         "yaxis": "y"
        },
        {
         "hovertemplate": "Continent=europe<br>Country=Portugal<br>Literacy_Rate_2021=%{x}<br>Indice_Culturel=%{y}<extra></extra>",
         "legendgroup": "europe, Portugal",
         "marker": {
          "color": "#EF553B",
          "symbol": "square"
         },
         "mode": "markers",
         "name": "europe, Portugal",
         "orientation": "v",
         "showlegend": true,
         "type": "scatter",
         "x": [
          96.78
         ],
         "xaxis": "x",
         "y": [
          26040.468639053255
         ],
         "yaxis": "y"
        },
        {
         "hovertemplate": "Continent=europe<br>Country=Romania<br>Literacy_Rate_2021=%{x}<br>Indice_Culturel=%{y}<extra></extra>",
         "legendgroup": "europe, Romania",
         "marker": {
          "color": "#EF553B",
          "symbol": "diamond"
         },
         "mode": "markers",
         "name": "europe, Romania",
         "orientation": "v",
         "showlegend": true,
         "type": "scatter",
         "x": [
          98.9
         ],
         "xaxis": "x",
         "y": [
          39487.53372781065
         ],
         "yaxis": "y"
        },
        {
         "hovertemplate": "Continent=europe<br>Country=Russia<br>Literacy_Rate_2021=%{x}<br>Indice_Culturel=%{y}<extra></extra>",
         "legendgroup": "europe, Russia",
         "marker": {
          "color": "#EF553B",
          "symbol": "square"
         },
         "mode": "markers",
         "name": "europe, Russia",
         "orientation": "v",
         "showlegend": true,
         "type": "scatter",
         "x": [
          99.93
         ],
         "xaxis": "x",
         "y": [
          122763.78600823045
         ],
         "yaxis": "y"
        },
        {
         "hovertemplate": "Continent=europe<br>Country=Serbia<br>Literacy_Rate_2021=%{x}<br>Indice_Culturel=%{y}<extra></extra>",
         "legendgroup": "europe, Serbia",
         "marker": {
          "color": "#EF553B",
          "symbol": "diamond"
         },
         "mode": "markers",
         "name": "europe, Serbia",
         "orientation": "v",
         "showlegend": true,
         "type": "scatter",
         "x": [
          null
         ],
         "xaxis": "x",
         "y": [
          7932.598079561043
         ],
         "yaxis": "y"
        },
        {
         "hovertemplate": "Continent=europe<br>Country=Slovakia<br>Literacy_Rate_2021=%{x}<br>Indice_Culturel=%{y}<extra></extra>",
         "legendgroup": "europe, Slovakia",
         "marker": {
          "color": "#EF553B",
          "symbol": "circle"
         },
         "mode": "markers",
         "name": "europe, Slovakia",
         "orientation": "v",
         "showlegend": true,
         "type": "scatter",
         "x": [
          null
         ],
         "xaxis": "x",
         "y": [
          4049.6185185185186
         ],
         "yaxis": "y"
        },
        {
         "hovertemplate": "Continent=europe<br>Country=Slovenia<br>Literacy_Rate_2021=%{x}<br>Indice_Culturel=%{y}<extra></extra>",
         "legendgroup": "europe, Slovenia",
         "marker": {
          "color": "#EF553B",
          "symbol": "diamond"
         },
         "mode": "markers",
         "name": "europe, Slovenia",
         "orientation": "v",
         "showlegend": true,
         "type": "scatter",
         "x": [
          null
         ],
         "xaxis": "x",
         "y": [
          3283.84170096022
         ],
         "yaxis": "y"
        },
        {
         "hovertemplate": "Continent=europe<br>Country=Spain<br>Literacy_Rate_2021=%{x}<br>Indice_Culturel=%{y}<extra></extra>",
         "legendgroup": "europe, Spain",
         "marker": {
          "color": "#EF553B",
          "symbol": "square"
         },
         "mode": "markers",
         "name": "europe, Spain",
         "orientation": "v",
         "showlegend": true,
         "type": "scatter",
         "x": [
          null
         ],
         "xaxis": "x",
         "y": [
          134159.12208504803
         ],
         "yaxis": "y"
        },
        {
         "hovertemplate": "Continent=europe<br>Country=Sweden<br>Literacy_Rate_2021=%{x}<br>Indice_Culturel=%{y}<extra></extra>",
         "legendgroup": "europe, Sweden",
         "marker": {
          "color": "#EF553B",
          "symbol": "diamond"
         },
         "mode": "markers",
         "name": "europe, Sweden",
         "orientation": "v",
         "showlegend": true,
         "type": "scatter",
         "x": [
          null
         ],
         "xaxis": "x",
         "y": [
          40631.19629629629
         ],
         "yaxis": "y"
        },
        {
         "hovertemplate": "Continent=europe<br>Country=Switzerland<br>Literacy_Rate_2021=%{x}<br>Indice_Culturel=%{y}<extra></extra>",
         "legendgroup": "europe, Switzerland",
         "marker": {
          "color": "#EF553B",
          "symbol": "square"
         },
         "mode": "markers",
         "name": "europe, Switzerland",
         "orientation": "v",
         "showlegend": true,
         "type": "scatter",
         "x": [
          null
         ],
         "xaxis": "x",
         "y": [
          16380.743072702331
         ],
         "yaxis": "y"
        },
        {
         "hovertemplate": "Continent=europe<br>Country=Ukraine<br>Literacy_Rate_2021=%{x}<br>Indice_Culturel=%{y}<extra></extra>",
         "legendgroup": "europe, Ukraine",
         "marker": {
          "color": "#EF553B",
          "symbol": "circle"
         },
         "mode": "markers",
         "name": "europe, Ukraine",
         "orientation": "v",
         "showlegend": true,
         "type": "scatter",
         "x": [
          100
         ],
         "xaxis": "x",
         "y": [
          18477.382716049382
         ],
         "yaxis": "y"
        },
        {
         "hovertemplate": "Continent=europe<br>Country=United Kingdom<br>Literacy_Rate_2021=%{x}<br>Indice_Culturel=%{y}<extra></extra>",
         "legendgroup": "europe, United Kingdom",
         "marker": {
          "color": "#EF553B",
          "symbol": "square"
         },
         "mode": "markers",
         "name": "europe, United Kingdom",
         "orientation": "v",
         "showlegend": true,
         "type": "scatter",
         "x": [
          null
         ],
         "xaxis": "x",
         "y": [
          122273.25102880658
         ],
         "yaxis": "y"
        },
        {
         "hovertemplate": "Continent=africa<br>Country=Algeria<br>Literacy_Rate_2021=%{x}<br>Indice_Culturel=%{y}<extra></extra>",
         "legendgroup": "africa, Algeria",
         "marker": {
          "color": "#00cc96",
          "symbol": "square"
         },
         "mode": "markers",
         "name": "africa, Algeria",
         "orientation": "v",
         "showlegend": true,
         "type": "scatter",
         "x": [
          null
         ],
         "xaxis": "x",
         "y": [
          800.4000000000001
         ],
         "yaxis": "y"
        },
        {
         "hovertemplate": "Continent=africa<br>Country=Angola<br>Literacy_Rate_2021=%{x}<br>Indice_Culturel=%{y}<extra></extra>",
         "legendgroup": "africa, Angola",
         "marker": {
          "color": "#00cc96",
          "symbol": "cross"
         },
         "mode": "markers",
         "name": "africa, Angola",
         "orientation": "v",
         "showlegend": true,
         "type": "scatter",
         "x": [
          null
         ],
         "xaxis": "x",
         "y": [
          416.09972299168976
         ],
         "yaxis": "y"
        },
        {
         "hovertemplate": "Continent=africa<br>Country=Benin<br>Literacy_Rate_2021=%{x}<br>Indice_Culturel=%{y}<extra></extra>",
         "legendgroup": "africa, Benin",
         "marker": {
          "color": "#00cc96",
          "symbol": "x"
         },
         "mode": "markers",
         "name": "africa, Benin",
         "orientation": "v",
         "showlegend": true,
         "type": "scatter",
         "x": [
          null
         ],
         "xaxis": "x",
         "y": [
          940.7765306122449
         ],
         "yaxis": "y"
        },
        {
         "hovertemplate": "Continent=africa<br>Country=Botswana<br>Literacy_Rate_2021=%{x}<br>Indice_Culturel=%{y}<extra></extra>",
         "legendgroup": "africa, Botswana",
         "marker": {
          "color": "#00cc96",
          "symbol": "x"
         },
         "mode": "markers",
         "name": "africa, Botswana",
         "orientation": "v",
         "showlegend": true,
         "type": "scatter",
         "x": [
          null
         ],
         "xaxis": "x",
         "y": [
          359.8163265306123
         ],
         "yaxis": "y"
        },
        {
         "hovertemplate": "Continent=africa<br>Country=Burkina Faso<br>Literacy_Rate_2021=%{x}<br>Indice_Culturel=%{y}<extra></extra>",
         "legendgroup": "africa, Burkina Faso",
         "marker": {
          "color": "#00cc96",
          "symbol": "x"
         },
         "mode": "markers",
         "name": "africa, Burkina Faso",
         "orientation": "v",
         "showlegend": true,
         "type": "scatter",
         "x": [
          null
         ],
         "xaxis": "x",
         "y": [
          297.98125
         ],
         "yaxis": "y"
        },
        {
         "hovertemplate": "Continent=africa<br>Country=Burundi<br>Literacy_Rate_2021=%{x}<br>Indice_Culturel=%{y}<extra></extra>",
         "legendgroup": "africa, Burundi",
         "marker": {
          "color": "#00cc96",
          "symbol": "cross"
         },
         "mode": "markers",
         "name": "africa, Burundi",
         "orientation": "v",
         "showlegend": true,
         "type": "scatter",
         "x": [
          null
         ],
         "xaxis": "x",
         "y": [
          71
         ],
         "yaxis": "y"
        },
        {
         "hovertemplate": "Continent=africa<br>Country=Cameroon<br>Literacy_Rate_2021=%{x}<br>Indice_Culturel=%{y}<extra></extra>",
         "legendgroup": "africa, Cameroon",
         "marker": {
          "color": "#00cc96",
          "symbol": "diamond"
         },
         "mode": "markers",
         "name": "africa, Cameroon",
         "orientation": "v",
         "showlegend": true,
         "type": "scatter",
         "x": [
          null
         ],
         "xaxis": "x",
         "y": [
          558.0415879017013
         ],
         "yaxis": "y"
        },
        {
         "hovertemplate": "Continent=africa<br>Country=Cape Verde<br>Literacy_Rate_2021=%{x}<br>Indice_Culturel=%{y}<extra></extra>",
         "legendgroup": "africa, Cape Verde",
         "marker": {
          "color": "#00cc96",
          "symbol": "x"
         },
         "mode": "markers",
         "name": "africa, Cape Verde",
         "orientation": "v",
         "showlegend": true,
         "type": "scatter",
         "x": [
          null
         ],
         "xaxis": "x",
         "y": [
          244.6437869822485
         ],
         "yaxis": "y"
        },
        {
         "hovertemplate": "Continent=africa<br>Country=Central African Republic<br>Literacy_Rate_2021=%{x}<br>Indice_Culturel=%{y}<extra></extra>",
         "legendgroup": "africa, Central African Republic",
         "marker": {
          "color": "#00cc96",
          "symbol": "circle"
         },
         "mode": "markers",
         "name": "africa, Central African Republic",
         "orientation": "v",
         "showlegend": true,
         "type": "scatter",
         "x": [
          null
         ],
         "xaxis": "x",
         "y": [
          24
         ],
         "yaxis": "y"
        },
        {
         "hovertemplate": "Continent=africa<br>Country=Chad<br>Literacy_Rate_2021=%{x}<br>Indice_Culturel=%{y}<extra></extra>",
         "legendgroup": "africa, Chad",
         "marker": {
          "color": "#00cc96",
          "symbol": "diamond"
         },
         "mode": "markers",
         "name": "africa, Chad",
         "orientation": "v",
         "showlegend": true,
         "type": "scatter",
         "x": [
          null
         ],
         "xaxis": "x",
         "y": [
          546
         ],
         "yaxis": "y"
        },
        {
         "hovertemplate": "Continent=africa<br>Country=Comoros<br>Literacy_Rate_2021=%{x}<br>Indice_Culturel=%{y}<extra></extra>",
         "legendgroup": "africa, Comoros",
         "marker": {
          "color": "#00cc96",
          "symbol": "circle"
         },
         "mode": "markers",
         "name": "africa, Comoros",
         "orientation": "v",
         "showlegend": true,
         "type": "scatter",
         "x": [
          null
         ],
         "xaxis": "x",
         "y": [
          54
         ],
         "yaxis": "y"
        },
        {
         "hovertemplate": "Continent=africa<br>Country=DR Congo<br>Literacy_Rate_2021=%{x}<br>Indice_Culturel=%{y}<extra></extra>",
         "legendgroup": "africa, DR Congo",
         "marker": {
          "color": "#00cc96",
          "symbol": "diamond"
         },
         "mode": "markers",
         "name": "africa, DR Congo",
         "orientation": "v",
         "showlegend": true,
         "type": "scatter",
         "x": [
          null
         ],
         "xaxis": "x",
         "y": [
          960.6972222222225
         ],
         "yaxis": "y"
        },
        {
         "hovertemplate": "Continent=africa<br>Country=Djibouti<br>Literacy_Rate_2021=%{x}<br>Indice_Culturel=%{y}<extra></extra>",
         "legendgroup": "africa, Djibouti",
         "marker": {
          "color": "#00cc96",
          "symbol": "cross"
         },
         "mode": "markers",
         "name": "africa, Djibouti",
         "orientation": "v",
         "showlegend": true,
         "type": "scatter",
         "x": [
          null
         ],
         "xaxis": "x",
         "y": [
          88.7591836734694
         ],
         "yaxis": "y"
        },
        {
         "hovertemplate": "Continent=africa<br>Country=Egypt<br>Literacy_Rate_2021=%{x}<br>Indice_Culturel=%{y}<extra></extra>",
         "legendgroup": "africa, Egypt",
         "marker": {
          "color": "#00cc96",
          "symbol": "x"
         },
         "mode": "markers",
         "name": "africa, Egypt",
         "orientation": "v",
         "showlegend": true,
         "type": "scatter",
         "x": [
          null
         ],
         "xaxis": "x",
         "y": [
          22202.972839506172
         ],
         "yaxis": "y"
        },
        {
         "hovertemplate": "Continent=africa<br>Country=Eritrea<br>Literacy_Rate_2021=%{x}<br>Indice_Culturel=%{y}<extra></extra>",
         "legendgroup": "africa, Eritrea",
         "marker": {
          "color": "#00cc96",
          "symbol": "circle"
         },
         "mode": "markers",
         "name": "africa, Eritrea",
         "orientation": "v",
         "showlegend": true,
         "type": "scatter",
         "x": [
          null
         ],
         "xaxis": "x",
         "y": [
          113.1
         ],
         "yaxis": "y"
        },
        {
         "hovertemplate": "Continent=africa<br>Country=Ethiopia<br>Literacy_Rate_2021=%{x}<br>Indice_Culturel=%{y}<extra></extra>",
         "legendgroup": "africa, Ethiopia",
         "marker": {
          "color": "#00cc96",
          "symbol": "x"
         },
         "mode": "markers",
         "name": "africa, Ethiopia",
         "orientation": "v",
         "showlegend": true,
         "type": "scatter",
         "x": [
          null
         ],
         "xaxis": "x",
         "y": [
          841.1818181818181
         ],
         "yaxis": "y"
        },
        {
         "hovertemplate": "Continent=africa<br>Country=Gabon<br>Literacy_Rate_2021=%{x}<br>Indice_Culturel=%{y}<extra></extra>",
         "legendgroup": "africa, Gabon",
         "marker": {
          "color": "#00cc96",
          "symbol": "square"
         },
         "mode": "markers",
         "name": "africa, Gabon",
         "orientation": "v",
         "showlegend": true,
         "type": "scatter",
         "x": [
          null
         ],
         "xaxis": "x",
         "y": [
          417.3
         ],
         "yaxis": "y"
        },
        {
         "hovertemplate": "Continent=africa<br>Country=Gambia<br>Literacy_Rate_2021=%{x}<br>Indice_Culturel=%{y}<extra></extra>",
         "legendgroup": "africa, Gambia",
         "marker": {
          "color": "#00cc96",
          "symbol": "x"
         },
         "mode": "markers",
         "name": "africa, Gambia",
         "orientation": "v",
         "showlegend": true,
         "type": "scatter",
         "x": [
          null
         ],
         "xaxis": "x",
         "y": [
          316.25624999999997
         ],
         "yaxis": "y"
        },
        {
         "hovertemplate": "Continent=africa<br>Country=Ghana<br>Literacy_Rate_2021=%{x}<br>Indice_Culturel=%{y}<extra></extra>",
         "legendgroup": "africa, Ghana",
         "marker": {
          "color": "#00cc96",
          "symbol": "diamond"
         },
         "mode": "markers",
         "name": "africa, Ghana",
         "orientation": "v",
         "showlegend": true,
         "type": "scatter",
         "x": [
          null
         ],
         "xaxis": "x",
         "y": [
          2310.872
         ],
         "yaxis": "y"
        },
        {
         "hovertemplate": "Continent=africa<br>Country=Guinea<br>Literacy_Rate_2021=%{x}<br>Indice_Culturel=%{y}<extra></extra>",
         "legendgroup": "africa, Guinea",
         "marker": {
          "color": "#00cc96",
          "symbol": "diamond"
         },
         "mode": "markers",
         "name": "africa, Guinea",
         "orientation": "v",
         "showlegend": true,
         "type": "scatter",
         "x": [
          45.33
         ],
         "xaxis": "x",
         "y": [
          172.7111111111111
         ],
         "yaxis": "y"
        },
        {
         "hovertemplate": "Continent=africa<br>Country=Ivory Coast<br>Literacy_Rate_2021=%{x}<br>Indice_Culturel=%{y}<extra></extra>",
         "legendgroup": "africa, Ivory Coast",
         "marker": {
          "color": "#00cc96",
          "symbol": "circle"
         },
         "mode": "markers",
         "name": "africa, Ivory Coast",
         "orientation": "v",
         "showlegend": true,
         "type": "scatter",
         "x": [
          null
         ],
         "xaxis": "x",
         "y": [
          1581.6
         ],
         "yaxis": "y"
        },
        {
         "hovertemplate": "Continent=africa<br>Country=Kenya<br>Literacy_Rate_2021=%{x}<br>Indice_Culturel=%{y}<extra></extra>",
         "legendgroup": "africa, Kenya",
         "marker": {
          "color": "#00cc96",
          "symbol": "circle"
         },
         "mode": "markers",
         "name": "africa, Kenya",
         "orientation": "v",
         "showlegend": true,
         "type": "scatter",
         "x": [
          null
         ],
         "xaxis": "x",
         "y": [
          0
         ],
         "yaxis": "y"
        },
        {
         "hovertemplate": "Continent=africa<br>Country=Lesotho<br>Literacy_Rate_2021=%{x}<br>Indice_Culturel=%{y}<extra></extra>",
         "legendgroup": "africa, Lesotho",
         "marker": {
          "color": "#00cc96",
          "symbol": "square"
         },
         "mode": "markers",
         "name": "africa, Lesotho",
         "orientation": "v",
         "showlegend": true,
         "type": "scatter",
         "x": [
          null
         ],
         "xaxis": "x",
         "y": [
          43.2
         ],
         "yaxis": "y"
        },
        {
         "hovertemplate": "Continent=africa<br>Country=Liberia<br>Literacy_Rate_2021=%{x}<br>Indice_Culturel=%{y}<extra></extra>",
         "legendgroup": "africa, Liberia",
         "marker": {
          "color": "#00cc96",
          "symbol": "x"
         },
         "mode": "markers",
         "name": "africa, Liberia",
         "orientation": "v",
         "showlegend": true,
         "type": "scatter",
         "x": [
          null
         ],
         "xaxis": "x",
         "y": [
          418.2
         ],
         "yaxis": "y"
        },
        {
         "hovertemplate": "Continent=africa<br>Country=Libya<br>Literacy_Rate_2021=%{x}<br>Indice_Culturel=%{y}<extra></extra>",
         "legendgroup": "africa, Libya",
         "marker": {
          "color": "#00cc96",
          "symbol": "cross"
         },
         "mode": "markers",
         "name": "africa, Libya",
         "orientation": "v",
         "showlegend": true,
         "type": "scatter",
         "x": [
          null
         ],
         "xaxis": "x",
         "y": [
          0
         ],
         "yaxis": "y"
        },
        {
         "hovertemplate": "Continent=africa<br>Country=Madagascar<br>Literacy_Rate_2021=%{x}<br>Indice_Culturel=%{y}<extra></extra>",
         "legendgroup": "africa, Madagascar",
         "marker": {
          "color": "#00cc96",
          "symbol": "cross"
         },
         "mode": "markers",
         "name": "africa, Madagascar",
         "orientation": "v",
         "showlegend": true,
         "type": "scatter",
         "x": [
          null
         ],
         "xaxis": "x",
         "y": [
          316.48571428571427
         ],
         "yaxis": "y"
        },
        {
         "hovertemplate": "Continent=africa<br>Country=Malawi<br>Literacy_Rate_2021=%{x}<br>Indice_Culturel=%{y}<extra></extra>",
         "legendgroup": "africa, Malawi",
         "marker": {
          "color": "#00cc96",
          "symbol": "circle"
         },
         "mode": "markers",
         "name": "africa, Malawi",
         "orientation": "v",
         "showlegend": true,
         "type": "scatter",
         "x": [
          null
         ],
         "xaxis": "x",
         "y": [
          122.5
         ],
         "yaxis": "y"
        },
        {
         "hovertemplate": "Continent=africa<br>Country=Mali<br>Literacy_Rate_2021=%{x}<br>Indice_Culturel=%{y}<extra></extra>",
         "legendgroup": "africa, Mali",
         "marker": {
          "color": "#00cc96",
          "symbol": "x"
         },
         "mode": "markers",
         "name": "africa, Mali",
         "orientation": "v",
         "showlegend": true,
         "type": "scatter",
         "x": [
          null
         ],
         "xaxis": "x",
         "y": [
          1435.4008264462811
         ],
         "yaxis": "y"
        },
        {
         "hovertemplate": "Continent=africa<br>Country=Mauritania<br>Literacy_Rate_2021=%{x}<br>Indice_Culturel=%{y}<extra></extra>",
         "legendgroup": "africa, Mauritania",
         "marker": {
          "color": "#00cc96",
          "symbol": "diamond"
         },
         "mode": "markers",
         "name": "africa, Mauritania",
         "orientation": "v",
         "showlegend": true,
         "type": "scatter",
         "x": [
          66.96
         ],
         "xaxis": "x",
         "y": [
          251.25
         ],
         "yaxis": "y"
        },
        {
         "hovertemplate": "Continent=africa<br>Country=Mauritius<br>Literacy_Rate_2021=%{x}<br>Indice_Culturel=%{y}<extra></extra>",
         "legendgroup": "africa, Mauritius",
         "marker": {
          "color": "#00cc96",
          "symbol": "square"
         },
         "mode": "markers",
         "name": "africa, Mauritius",
         "orientation": "v",
         "showlegend": true,
         "type": "scatter",
         "x": [
          92.15
         ],
         "xaxis": "x",
         "y": [
          1450.8366863905326
         ],
         "yaxis": "y"
        },
        {
         "hovertemplate": "Continent=africa<br>Country=Morocco<br>Literacy_Rate_2021=%{x}<br>Indice_Culturel=%{y}<extra></extra>",
         "legendgroup": "africa, Morocco",
         "marker": {
          "color": "#00cc96",
          "symbol": "x"
         },
         "mode": "markers",
         "name": "africa, Morocco",
         "orientation": "v",
         "showlegend": true,
         "type": "scatter",
         "x": [
          null
         ],
         "xaxis": "x",
         "y": [
          3422.45798816568
         ],
         "yaxis": "y"
        },
        {
         "hovertemplate": "Continent=africa<br>Country=Mozambique<br>Literacy_Rate_2021=%{x}<br>Indice_Culturel=%{y}<extra></extra>",
         "legendgroup": "africa, Mozambique",
         "marker": {
          "color": "#00cc96",
          "symbol": "cross"
         },
         "mode": "markers",
         "name": "africa, Mozambique",
         "orientation": "v",
         "showlegend": true,
         "type": "scatter",
         "x": [
          null
         ],
         "xaxis": "x",
         "y": [
          961.1111111111111
         ],
         "yaxis": "y"
        },
        {
         "hovertemplate": "Continent=africa<br>Country=Namibia<br>Literacy_Rate_2021=%{x}<br>Indice_Culturel=%{y}<extra></extra>",
         "legendgroup": "africa, Namibia",
         "marker": {
          "color": "#00cc96",
          "symbol": "diamond"
         },
         "mode": "markers",
         "name": "africa, Namibia",
         "orientation": "v",
         "showlegend": true,
         "type": "scatter",
         "x": [
          92.25
         ],
         "xaxis": "x",
         "y": [
          430.99455782312924
         ],
         "yaxis": "y"
        },
        {
         "hovertemplate": "Continent=africa<br>Country=Niger<br>Literacy_Rate_2021=%{x}<br>Indice_Culturel=%{y}<extra></extra>",
         "legendgroup": "africa, Niger",
         "marker": {
          "color": "#00cc96",
          "symbol": "square"
         },
         "mode": "markers",
         "name": "africa, Niger",
         "orientation": "v",
         "showlegend": true,
         "type": "scatter",
         "x": [
          null
         ],
         "xaxis": "x",
         "y": [
          1343.9999999999998
         ],
         "yaxis": "y"
        },
        {
         "hovertemplate": "Continent=africa<br>Country=Nigeria<br>Literacy_Rate_2021=%{x}<br>Indice_Culturel=%{y}<extra></extra>",
         "legendgroup": "africa, Nigeria",
         "marker": {
          "color": "#00cc96",
          "symbol": "x"
         },
         "mode": "markers",
         "name": "africa, Nigeria",
         "orientation": "v",
         "showlegend": true,
         "type": "scatter",
         "x": [
          null
         ],
         "xaxis": "x",
         "y": [
          2284.4203199999997
         ],
         "yaxis": "y"
        },
        {
         "hovertemplate": "Continent=africa<br>Country=Republic of the Congo<br>Literacy_Rate_2021=%{x}<br>Indice_Culturel=%{y}<extra></extra>",
         "legendgroup": "africa, Republic of the Congo",
         "marker": {
          "color": "#00cc96",
          "symbol": "circle"
         },
         "mode": "markers",
         "name": "africa, Republic of the Congo",
         "orientation": "v",
         "showlegend": true,
         "type": "scatter",
         "x": [
          80.61
         ],
         "xaxis": "x",
         "y": [
          512.7777777777777
         ],
         "yaxis": "y"
        },
        {
         "hovertemplate": "Continent=africa<br>Country=Rwanda<br>Literacy_Rate_2021=%{x}<br>Indice_Culturel=%{y}<extra></extra>",
         "legendgroup": "africa, Rwanda",
         "marker": {
          "color": "#00cc96",
          "symbol": "x"
         },
         "mode": "markers",
         "name": "africa, Rwanda",
         "orientation": "v",
         "showlegend": true,
         "type": "scatter",
         "x": [
          75.9
         ],
         "xaxis": "x",
         "y": [
          2538.8
         ],
         "yaxis": "y"
        },
        {
         "hovertemplate": "Continent=africa<br>Country=Senegal<br>Literacy_Rate_2021=%{x}<br>Indice_Culturel=%{y}<extra></extra>",
         "legendgroup": "africa, Senegal",
         "marker": {
          "color": "#00cc96",
          "symbol": "circle"
         },
         "mode": "markers",
         "name": "africa, Senegal",
         "orientation": "v",
         "showlegend": true,
         "type": "scatter",
         "x": [
          null
         ],
         "xaxis": "x",
         "y": [
          1213.2179930795849
         ],
         "yaxis": "y"
        },
        {
         "hovertemplate": "Continent=africa<br>Country=Seychelles<br>Literacy_Rate_2021=%{x}<br>Indice_Culturel=%{y}<extra></extra>",
         "legendgroup": "africa, Seychelles",
         "marker": {
          "color": "#00cc96",
          "symbol": "square"
         },
         "mode": "markers",
         "name": "africa, Seychelles",
         "orientation": "v",
         "showlegend": true,
         "type": "scatter",
         "x": [
          null
         ],
         "xaxis": "x",
         "y": [
          338.41111111111104
         ],
         "yaxis": "y"
        },
        {
         "hovertemplate": "Continent=africa<br>Country=Sierra Leone<br>Literacy_Rate_2021=%{x}<br>Indice_Culturel=%{y}<extra></extra>",
         "legendgroup": "africa, Sierra Leone",
         "marker": {
          "color": "#00cc96",
          "symbol": "x"
         },
         "mode": "markers",
         "name": "africa, Sierra Leone",
         "orientation": "v",
         "showlegend": true,
         "type": "scatter",
         "x": [
          null
         ],
         "xaxis": "x",
         "y": [
          189.56666666666666
         ],
         "yaxis": "y"
        },
        {
         "hovertemplate": "Continent=africa<br>Country=Somalia<br>Literacy_Rate_2021=%{x}<br>Indice_Culturel=%{y}<extra></extra>",
         "legendgroup": "africa, Somalia",
         "marker": {
          "color": "#00cc96",
          "symbol": "x"
         },
         "mode": "markers",
         "name": "africa, Somalia",
         "orientation": "v",
         "showlegend": true,
         "type": "scatter",
         "x": [
          null
         ],
         "xaxis": "x",
         "y": [
          0
         ],
         "yaxis": "y"
        },
        {
         "hovertemplate": "Continent=africa<br>Country=South Africa<br>Literacy_Rate_2021=%{x}<br>Indice_Culturel=%{y}<extra></extra>",
         "legendgroup": "africa, South Africa",
         "marker": {
          "color": "#00cc96",
          "symbol": "cross"
         },
         "mode": "markers",
         "name": "africa, South Africa",
         "orientation": "v",
         "showlegend": true,
         "type": "scatter",
         "x": [
          90
         ],
         "xaxis": "x",
         "y": [
          5698.589940828402
         ],
         "yaxis": "y"
        },
        {
         "hovertemplate": "Continent=africa<br>Country=South Sudan<br>Literacy_Rate_2021=%{x}<br>Indice_Culturel=%{y}<extra></extra>",
         "legendgroup": "africa, South Sudan",
         "marker": {
          "color": "#00cc96",
          "symbol": "diamond"
         },
         "mode": "markers",
         "name": "africa, South Sudan",
         "orientation": "v",
         "showlegend": true,
         "type": "scatter",
         "x": [
          null
         ],
         "xaxis": "x",
         "y": [
          135.25454545454548
         ],
         "yaxis": "y"
        },
        {
         "hovertemplate": "Continent=africa<br>Country=Sudan<br>Literacy_Rate_2021=%{x}<br>Indice_Culturel=%{y}<extra></extra>",
         "legendgroup": "africa, Sudan",
         "marker": {
          "color": "#00cc96",
          "symbol": "cross"
         },
         "mode": "markers",
         "name": "africa, Sudan",
         "orientation": "v",
         "showlegend": true,
         "type": "scatter",
         "x": [
          null
         ],
         "xaxis": "x",
         "y": [
          391.80000000000007
         ],
         "yaxis": "y"
        },
        {
         "hovertemplate": "Continent=africa<br>Country=Tanzania<br>Literacy_Rate_2021=%{x}<br>Indice_Culturel=%{y}<extra></extra>",
         "legendgroup": "africa, Tanzania",
         "marker": {
          "color": "#00cc96",
          "symbol": "diamond"
         },
         "mode": "markers",
         "name": "africa, Tanzania",
         "orientation": "v",
         "showlegend": true,
         "type": "scatter",
         "x": [
          null
         ],
         "xaxis": "x",
         "y": [
          1513.2075000000002
         ],
         "yaxis": "y"
        },
        {
         "hovertemplate": "Continent=africa<br>Country=Togo<br>Literacy_Rate_2021=%{x}<br>Indice_Culturel=%{y}<extra></extra>",
         "legendgroup": "africa, Togo",
         "marker": {
          "color": "#00cc96",
          "symbol": "x"
         },
         "mode": "markers",
         "name": "africa, Togo",
         "orientation": "v",
         "showlegend": true,
         "type": "scatter",
         "x": [
          null
         ],
         "xaxis": "x",
         "y": [
          248.5096952908587
         ],
         "yaxis": "y"
        },
        {
         "hovertemplate": "Continent=africa<br>Country=Tunisia<br>Literacy_Rate_2021=%{x}<br>Indice_Culturel=%{y}<extra></extra>",
         "legendgroup": "africa, Tunisia",
         "marker": {
          "color": "#00cc96",
          "symbol": "circle"
         },
         "mode": "markers",
         "name": "africa, Tunisia",
         "orientation": "v",
         "showlegend": true,
         "type": "scatter",
         "x": [
          null
         ],
         "xaxis": "x",
         "y": [
          0
         ],
         "yaxis": "y"
        },
        {
         "hovertemplate": "Continent=africa<br>Country=Uganda<br>Literacy_Rate_2021=%{x}<br>Indice_Culturel=%{y}<extra></extra>",
         "legendgroup": "africa, Uganda",
         "marker": {
          "color": "#00cc96",
          "symbol": "cross"
         },
         "mode": "markers",
         "name": "africa, Uganda",
         "orientation": "v",
         "showlegend": true,
         "type": "scatter",
         "x": [
          null
         ],
         "xaxis": "x",
         "y": [
          2658.66
         ],
         "yaxis": "y"
        },
        {
         "hovertemplate": "Continent=africa<br>Country=Zambia<br>Literacy_Rate_2021=%{x}<br>Indice_Culturel=%{y}<extra></extra>",
         "legendgroup": "africa, Zambia",
         "marker": {
          "color": "#00cc96",
          "symbol": "circle"
         },
         "mode": "markers",
         "name": "africa, Zambia",
         "orientation": "v",
         "showlegend": true,
         "type": "scatter",
         "x": [
          null
         ],
         "xaxis": "x",
         "y": [
          1145.7937499999998
         ],
         "yaxis": "y"
        },
        {
         "hovertemplate": "Continent=africa<br>Country=Zimbabwe<br>Literacy_Rate_2021=%{x}<br>Indice_Culturel=%{y}<extra></extra>",
         "legendgroup": "africa, Zimbabwe",
         "marker": {
          "color": "#00cc96",
          "symbol": "diamond"
         },
         "mode": "markers",
         "name": "africa, Zimbabwe",
         "orientation": "v",
         "showlegend": true,
         "type": "scatter",
         "x": [
          null
         ],
         "xaxis": "x",
         "y": [
          620.0553633217994
         ],
         "yaxis": "y"
        },
        {
         "hovertemplate": "Continent=south-america<br>Country=Argentina<br>Literacy_Rate_2021=%{x}<br>Indice_Culturel=%{y}<extra></extra>",
         "legendgroup": "south-america, Argentina",
         "marker": {
          "color": "#FFA15A",
          "symbol": "diamond"
         },
         "mode": "markers",
         "name": "south-america, Argentina",
         "orientation": "v",
         "showlegend": true,
         "type": "scatter",
         "x": [
          null
         ],
         "xaxis": "x",
         "y": [
          57796.25925925926
         ],
         "yaxis": "y"
        },
        {
         "hovertemplate": "Continent=south-america<br>Country=Bolivia<br>Literacy_Rate_2021=%{x}<br>Indice_Culturel=%{y}<extra></extra>",
         "legendgroup": "south-america, Bolivia",
         "marker": {
          "color": "#FFA15A",
          "symbol": "diamond"
         },
         "mode": "markers",
         "name": "south-america, Bolivia",
         "orientation": "v",
         "showlegend": true,
         "type": "scatter",
         "x": [
          null
         ],
         "xaxis": "x",
         "y": [
          1909.3432098765431
         ],
         "yaxis": "y"
        },
        {
         "hovertemplate": "Continent=south-america<br>Country=Brazil<br>Literacy_Rate_2021=%{x}<br>Indice_Culturel=%{y}<extra></extra>",
         "legendgroup": "south-america, Brazil",
         "marker": {
          "color": "#FFA15A",
          "symbol": "cross"
         },
         "mode": "markers",
         "name": "south-america, Brazil",
         "orientation": "v",
         "showlegend": true,
         "type": "scatter",
         "x": [
          null
         ],
         "xaxis": "x",
         "y": [
          102477.761042524
         ],
         "yaxis": "y"
        },
        {
         "hovertemplate": "Continent=south-america<br>Country=Chile<br>Literacy_Rate_2021=%{x}<br>Indice_Culturel=%{y}<extra></extra>",
         "legendgroup": "south-america, Chile",
         "marker": {
          "color": "#FFA15A",
          "symbol": "square"
         },
         "mode": "markers",
         "name": "south-america, Chile",
         "orientation": "v",
         "showlegend": true,
         "type": "scatter",
         "x": [
          null
         ],
         "xaxis": "x",
         "y": [
          22707.437037037038
         ],
         "yaxis": "y"
        },
        {
         "hovertemplate": "Continent=south-america<br>Country=Colombia<br>Literacy_Rate_2021=%{x}<br>Indice_Culturel=%{y}<extra></extra>",
         "legendgroup": "south-america, Colombia",
         "marker": {
          "color": "#FFA15A",
          "symbol": "cross"
         },
         "mode": "markers",
         "name": "south-america, Colombia",
         "orientation": "v",
         "showlegend": true,
         "type": "scatter",
         "x": [
          null
         ],
         "xaxis": "x",
         "y": [
          29127.242798353913
         ],
         "yaxis": "y"
        },
        {
         "hovertemplate": "Continent=south-america<br>Country=Ecuador<br>Literacy_Rate_2021=%{x}<br>Indice_Culturel=%{y}<extra></extra>",
         "legendgroup": "south-america, Ecuador",
         "marker": {
          "color": "#FFA15A",
          "symbol": "square"
         },
         "mode": "markers",
         "name": "south-america, Ecuador",
         "orientation": "v",
         "showlegend": true,
         "type": "scatter",
         "x": [
          94.48
         ],
         "xaxis": "x",
         "y": [
          4067.8737997256517
         ],
         "yaxis": "y"
        },
        {
         "hovertemplate": "Continent=south-america<br>Country=Guyana<br>Literacy_Rate_2021=%{x}<br>Indice_Culturel=%{y}<extra></extra>",
         "legendgroup": "south-america, Guyana",
         "marker": {
          "color": "#FFA15A",
          "symbol": "square"
         },
         "mode": "markers",
         "name": "south-america, Guyana",
         "orientation": "v",
         "showlegend": true,
         "type": "scatter",
         "x": [
          null
         ],
         "xaxis": "x",
         "y": [
          280.9625
         ],
         "yaxis": "y"
        },
        {
         "hovertemplate": "Continent=south-america<br>Country=Paraguay<br>Literacy_Rate_2021=%{x}<br>Indice_Culturel=%{y}<extra></extra>",
         "legendgroup": "south-america, Paraguay",
         "marker": {
          "color": "#FFA15A",
          "symbol": "x"
         },
         "mode": "markers",
         "name": "south-america, Paraguay",
         "orientation": "v",
         "showlegend": true,
         "type": "scatter",
         "x": [
          null
         ],
         "xaxis": "x",
         "y": [
          1875.7091906721532
         ],
         "yaxis": "y"
        },
        {
         "hovertemplate": "Continent=south-america<br>Country=Peru<br>Literacy_Rate_2021=%{x}<br>Indice_Culturel=%{y}<extra></extra>",
         "legendgroup": "south-america, Peru",
         "marker": {
          "color": "#FFA15A",
          "symbol": "cross"
         },
         "mode": "markers",
         "name": "south-america, Peru",
         "orientation": "v",
         "showlegend": true,
         "type": "scatter",
         "x": [
          null
         ],
         "xaxis": "x",
         "y": [
          4461.25
         ],
         "yaxis": "y"
        },
        {
         "hovertemplate": "Continent=south-america<br>Country=Suriname<br>Literacy_Rate_2021=%{x}<br>Indice_Culturel=%{y}<extra></extra>",
         "legendgroup": "south-america, Suriname",
         "marker": {
          "color": "#FFA15A",
          "symbol": "circle"
         },
         "mode": "markers",
         "name": "south-america, Suriname",
         "orientation": "v",
         "showlegend": true,
         "type": "scatter",
         "x": [
          95
         ],
         "xaxis": "x",
         "y": [
          211.37190082644628
         ],
         "yaxis": "y"
        },
        {
         "hovertemplate": "Continent=south-america<br>Country=Uruguay<br>Literacy_Rate_2021=%{x}<br>Indice_Culturel=%{y}<extra></extra>",
         "legendgroup": "south-america, Uruguay",
         "marker": {
          "color": "#FFA15A",
          "symbol": "cross"
         },
         "mode": "markers",
         "name": "south-america, Uruguay",
         "orientation": "v",
         "showlegend": true,
         "type": "scatter",
         "x": [
          null
         ],
         "xaxis": "x",
         "y": [
          6740.813717421125
         ],
         "yaxis": "y"
        },
        {
         "hovertemplate": "Continent=south-america<br>Country=Venezuela<br>Literacy_Rate_2021=%{x}<br>Indice_Culturel=%{y}<extra></extra>",
         "legendgroup": "south-america, Venezuela",
         "marker": {
          "color": "#FFA15A",
          "symbol": "square"
         },
         "mode": "markers",
         "name": "south-america, Venezuela",
         "orientation": "v",
         "showlegend": true,
         "type": "scatter",
         "x": [
          null
         ],
         "xaxis": "x",
         "y": [
          1617.9709190672156
         ],
         "yaxis": "y"
        },
        {
         "hovertemplate": "Continent=oceania<br>Country=Australia<br>Literacy_Rate_2021=%{x}<br>Indice_Culturel=%{y}<extra></extra>",
         "legendgroup": "oceania, Australia",
         "marker": {
          "color": "#19d3f3",
          "symbol": "x"
         },
         "mode": "markers",
         "name": "oceania, Australia",
         "orientation": "v",
         "showlegend": true,
         "type": "scatter",
         "x": [
          null
         ],
         "xaxis": "x",
         "y": [
          21527.29674556213
         ],
         "yaxis": "y"
        },
        {
         "hovertemplate": "Continent=oceania<br>Country=Fiji<br>Literacy_Rate_2021=%{x}<br>Indice_Culturel=%{y}<extra></extra>",
         "legendgroup": "oceania, Fiji",
         "marker": {
          "color": "#19d3f3",
          "symbol": "cross"
         },
         "mode": "markers",
         "name": "oceania, Fiji",
         "orientation": "v",
         "showlegend": true,
         "type": "scatter",
         "x": [
          null
         ],
         "xaxis": "x",
         "y": [
          2718.2999999999997
         ],
         "yaxis": "y"
        },
        {
         "hovertemplate": "Continent=oceania<br>Country=Kiribati<br>Literacy_Rate_2021=%{x}<br>Indice_Culturel=%{y}<extra></extra>",
         "legendgroup": "oceania, Kiribati",
         "marker": {
          "color": "#19d3f3",
          "symbol": "diamond"
         },
         "mode": "markers",
         "name": "oceania, Kiribati",
         "orientation": "v",
         "showlegend": true,
         "type": "scatter",
         "x": [
          null
         ],
         "xaxis": "x",
         "y": [
          4
         ],
         "yaxis": "y"
        },
        {
         "hovertemplate": "Continent=oceania<br>Country=Marshall Islands<br>Literacy_Rate_2021=%{x}<br>Indice_Culturel=%{y}<extra></extra>",
         "legendgroup": "oceania, Marshall Islands",
         "marker": {
          "color": "#19d3f3",
          "symbol": "circle"
         },
         "mode": "markers",
         "name": "oceania, Marshall Islands",
         "orientation": "v",
         "showlegend": true,
         "type": "scatter",
         "x": [
          null
         ],
         "xaxis": "x",
         "y": [
          142.8
         ],
         "yaxis": "y"
        },
        {
         "hovertemplate": "Continent=oceania<br>Country=Micronesia<br>Literacy_Rate_2021=%{x}<br>Indice_Culturel=%{y}<extra></extra>",
         "legendgroup": "oceania, Micronesia",
         "marker": {
          "color": "#19d3f3",
          "symbol": "cross"
         },
         "mode": "markers",
         "name": "oceania, Micronesia",
         "orientation": "v",
         "showlegend": true,
         "type": "scatter",
         "x": [
          null
         ],
         "xaxis": "x",
         "y": [
          420.95102040816334
         ],
         "yaxis": "y"
        },
        {
         "hovertemplate": "Continent=oceania<br>Country=New Zealand<br>Literacy_Rate_2021=%{x}<br>Indice_Culturel=%{y}<extra></extra>",
         "legendgroup": "oceania, New Zealand",
         "marker": {
          "color": "#19d3f3",
          "symbol": "circle"
         },
         "mode": "markers",
         "name": "oceania, New Zealand",
         "orientation": "v",
         "showlegend": true,
         "type": "scatter",
         "x": [
          null
         ],
         "xaxis": "x",
         "y": [
          11835.440192043896
         ],
         "yaxis": "y"
        },
        {
         "hovertemplate": "Continent=oceania<br>Country=Papua New Guinea<br>Literacy_Rate_2021=%{x}<br>Indice_Culturel=%{y}<extra></extra>",
         "legendgroup": "oceania, Papua New Guinea",
         "marker": {
          "color": "#19d3f3",
          "symbol": "square"
         },
         "mode": "markers",
         "name": "oceania, Papua New Guinea",
         "orientation": "v",
         "showlegend": true,
         "type": "scatter",
         "x": [
          null
         ],
         "xaxis": "x",
         "y": [
          230.41200000000003
         ],
         "yaxis": "y"
        },
        {
         "hovertemplate": "Continent=oceania<br>Country=Samoa<br>Literacy_Rate_2021=%{x}<br>Indice_Culturel=%{y}<extra></extra>",
         "legendgroup": "oceania, Samoa",
         "marker": {
          "color": "#19d3f3",
          "symbol": "square"
         },
         "mode": "markers",
         "name": "oceania, Samoa",
         "orientation": "v",
         "showlegend": true,
         "type": "scatter",
         "x": [
          99.1
         ],
         "xaxis": "x",
         "y": [
          291.90000000000003
         ],
         "yaxis": "y"
        },
        {
         "hovertemplate": "Continent=oceania<br>Country=Solomon Islands<br>Literacy_Rate_2021=%{x}<br>Indice_Culturel=%{y}<extra></extra>",
         "legendgroup": "oceania, Solomon Islands",
         "marker": {
          "color": "#19d3f3",
          "symbol": "square"
         },
         "mode": "markers",
         "name": "oceania, Solomon Islands",
         "orientation": "v",
         "showlegend": true,
         "type": "scatter",
         "x": [
          null
         ],
         "xaxis": "x",
         "y": [
          116
         ],
         "yaxis": "y"
        },
        {
         "hovertemplate": "Continent=oceania<br>Country=Tonga<br>Literacy_Rate_2021=%{x}<br>Indice_Culturel=%{y}<extra></extra>",
         "legendgroup": "oceania, Tonga",
         "marker": {
          "color": "#19d3f3",
          "symbol": "cross"
         },
         "mode": "markers",
         "name": "oceania, Tonga",
         "orientation": "v",
         "showlegend": true,
         "type": "scatter",
         "x": [
          99.4
         ],
         "xaxis": "x",
         "y": [
          45.599999999999994
         ],
         "yaxis": "y"
        },
        {
         "hovertemplate": "Continent=oceania<br>Country=Vanuatu<br>Literacy_Rate_2021=%{x}<br>Indice_Culturel=%{y}<extra></extra>",
         "legendgroup": "oceania, Vanuatu",
         "marker": {
          "color": "#19d3f3",
          "symbol": "diamond"
         },
         "mode": "markers",
         "name": "oceania, Vanuatu",
         "orientation": "v",
         "showlegend": true,
         "type": "scatter",
         "x": [
          89.1
         ],
         "xaxis": "x",
         "y": [
          363.375
         ],
         "yaxis": "y"
        },
        {
         "hovertemplate": "Continent=north-america<br>Country=Bahamas<br>Literacy_Rate_2021=%{x}<br>Indice_Culturel=%{y}<extra></extra>",
         "legendgroup": "north-america, Bahamas",
         "marker": {
          "color": "#FF6692",
          "symbol": "diamond"
         },
         "mode": "markers",
         "name": "north-america, Bahamas",
         "orientation": "v",
         "showlegend": true,
         "type": "scatter",
         "x": [
          null
         ],
         "xaxis": "x",
         "y": [
          580.3764542936289
         ],
         "yaxis": "y"
        },
        {
         "hovertemplate": "Continent=north-america<br>Country=Barbados<br>Literacy_Rate_2021=%{x}<br>Indice_Culturel=%{y}<extra></extra>",
         "legendgroup": "north-america, Barbados",
         "marker": {
          "color": "#FF6692",
          "symbol": "cross"
         },
         "mode": "markers",
         "name": "north-america, Barbados",
         "orientation": "v",
         "showlegend": true,
         "type": "scatter",
         "x": [
          null
         ],
         "xaxis": "x",
         "y": [
          3134.7
         ],
         "yaxis": "y"
        },
        {
         "hovertemplate": "Continent=north-america<br>Country=Belize<br>Literacy_Rate_2021=%{x}<br>Indice_Culturel=%{y}<extra></extra>",
         "legendgroup": "north-america, Belize",
         "marker": {
          "color": "#FF6692",
          "symbol": "square"
         },
         "mode": "markers",
         "name": "north-america, Belize",
         "orientation": "v",
         "showlegend": true,
         "type": "scatter",
         "x": [
          null
         ],
         "xaxis": "x",
         "y": [
          1865.6000000000001
         ],
         "yaxis": "y"
        },
        {
         "hovertemplate": "Continent=north-america<br>Country=Bermuda<br>Literacy_Rate_2021=%{x}<br>Indice_Culturel=%{y}<extra></extra>",
         "legendgroup": "north-america, Bermuda",
         "marker": {
          "color": "#FF6692",
          "symbol": "cross"
         },
         "mode": "markers",
         "name": "north-america, Bermuda",
         "orientation": "v",
         "showlegend": true,
         "type": "scatter",
         "x": [
          null
         ],
         "xaxis": "x",
         "y": [
          418.49999999999994
         ],
         "yaxis": "y"
        },
        {
         "hovertemplate": "Continent=north-america<br>Country=Canada<br>Literacy_Rate_2021=%{x}<br>Indice_Culturel=%{y}<extra></extra>",
         "legendgroup": "north-america, Canada",
         "marker": {
          "color": "#FF6692",
          "symbol": "square"
         },
         "mode": "markers",
         "name": "north-america, Canada",
         "orientation": "v",
         "showlegend": true,
         "type": "scatter",
         "x": [
          null
         ],
         "xaxis": "x",
         "y": [
          34004.93827160494
         ],
         "yaxis": "y"
        },
        {
         "hovertemplate": "Continent=north-america<br>Country=Costa Rica<br>Literacy_Rate_2021=%{x}<br>Indice_Culturel=%{y}<extra></extra>",
         "legendgroup": "north-america, Costa Rica",
         "marker": {
          "color": "#FF6692",
          "symbol": "x"
         },
         "mode": "markers",
         "name": "north-america, Costa Rica",
         "orientation": "v",
         "showlegend": true,
         "type": "scatter",
         "x": [
          98.04
         ],
         "xaxis": "x",
         "y": [
          5732.673816568048
         ],
         "yaxis": "y"
        },
        {
         "hovertemplate": "Continent=north-america<br>Country=Cuba<br>Literacy_Rate_2021=%{x}<br>Indice_Culturel=%{y}<extra></extra>",
         "legendgroup": "north-america, Cuba",
         "marker": {
          "color": "#FF6692",
          "symbol": "circle"
         },
         "mode": "markers",
         "name": "north-america, Cuba",
         "orientation": "v",
         "showlegend": true,
         "type": "scatter",
         "x": [
          null
         ],
         "xaxis": "x",
         "y": [
          617.9494082840238
         ],
         "yaxis": "y"
        },
        {
         "hovertemplate": "Continent=north-america<br>Country=Dominica<br>Literacy_Rate_2021=%{x}<br>Indice_Culturel=%{y}<extra></extra>",
         "legendgroup": "north-america, Dominica",
         "marker": {
          "color": "#FF6692",
          "symbol": "circle"
         },
         "mode": "markers",
         "name": "north-america, Dominica",
         "orientation": "v",
         "showlegend": true,
         "type": "scatter",
         "x": [
          null
         ],
         "xaxis": "x",
         "y": [
          279.5
         ],
         "yaxis": "y"
        },
        {
         "hovertemplate": "Continent=north-america<br>Country=Dominican Republic<br>Literacy_Rate_2021=%{x}<br>Indice_Culturel=%{y}<extra></extra>",
         "legendgroup": "north-america, Dominican Republic",
         "marker": {
          "color": "#FF6692",
          "symbol": "diamond"
         },
         "mode": "markers",
         "name": "north-america, Dominican Republic",
         "orientation": "v",
         "showlegend": true,
         "type": "scatter",
         "x": [
          null
         ],
         "xaxis": "x",
         "y": [
          4193.046090534979
         ],
         "yaxis": "y"
        },
        {
         "hovertemplate": "Continent=north-america<br>Country=El Salvador<br>Literacy_Rate_2021=%{x}<br>Indice_Culturel=%{y}<extra></extra>",
         "legendgroup": "north-america, El Salvador",
         "marker": {
          "color": "#FF6692",
          "symbol": "cross"
         },
         "mode": "markers",
         "name": "north-america, El Salvador",
         "orientation": "v",
         "showlegend": true,
         "type": "scatter",
         "x": [
          null
         ],
         "xaxis": "x",
         "y": [
          3222.8593600000004
         ],
         "yaxis": "y"
        },
        {
         "hovertemplate": "Continent=north-america<br>Country=Grenada<br>Literacy_Rate_2021=%{x}<br>Indice_Culturel=%{y}<extra></extra>",
         "legendgroup": "north-america, Grenada",
         "marker": {
          "color": "#FF6692",
          "symbol": "cross"
         },
         "mode": "markers",
         "name": "north-america, Grenada",
         "orientation": "v",
         "showlegend": true,
         "type": "scatter",
         "x": [
          null
         ],
         "xaxis": "x",
         "y": [
          209.3125
         ],
         "yaxis": "y"
        },
        {
         "hovertemplate": "Continent=north-america<br>Country=Guatemala<br>Literacy_Rate_2021=%{x}<br>Indice_Culturel=%{y}<extra></extra>",
         "legendgroup": "north-america, Guatemala",
         "marker": {
          "color": "#FF6692",
          "symbol": "circle"
         },
         "mode": "markers",
         "name": "north-america, Guatemala",
         "orientation": "v",
         "showlegend": true,
         "type": "scatter",
         "x": [
          null
         ],
         "xaxis": "x",
         "y": [
          2347.79625
         ],
         "yaxis": "y"
        },
        {
         "hovertemplate": "Continent=north-america<br>Country=Haiti<br>Literacy_Rate_2021=%{x}<br>Indice_Culturel=%{y}<extra></extra>",
         "legendgroup": "north-america, Haiti",
         "marker": {
          "color": "#FF6692",
          "symbol": "x"
         },
         "mode": "markers",
         "name": "north-america, Haiti",
         "orientation": "v",
         "showlegend": true,
         "type": "scatter",
         "x": [
          null
         ],
         "xaxis": "x",
         "y": [
          540.195918367347
         ],
         "yaxis": "y"
        },
        {
         "hovertemplate": "Continent=north-america<br>Country=Honduras<br>Literacy_Rate_2021=%{x}<br>Indice_Culturel=%{y}<extra></extra>",
         "legendgroup": "north-america, Honduras",
         "marker": {
          "color": "#FF6692",
          "symbol": "cross"
         },
         "mode": "markers",
         "name": "north-america, Honduras",
         "orientation": "v",
         "showlegend": true,
         "type": "scatter",
         "x": [
          null
         ],
         "xaxis": "x",
         "y": [
          1938.21384083045
         ],
         "yaxis": "y"
        },
        {
         "hovertemplate": "Continent=north-america<br>Country=Jamaica<br>Literacy_Rate_2021=%{x}<br>Indice_Culturel=%{y}<extra></extra>",
         "legendgroup": "north-america, Jamaica",
         "marker": {
          "color": "#FF6692",
          "symbol": "diamond"
         },
         "mode": "markers",
         "name": "north-america, Jamaica",
         "orientation": "v",
         "showlegend": true,
         "type": "scatter",
         "x": [
          null
         ],
         "xaxis": "x",
         "y": [
          1717.5530864197533
         ],
         "yaxis": "y"
        },
        {
         "hovertemplate": "Continent=north-america<br>Country=Mexico<br>Literacy_Rate_2021=%{x}<br>Indice_Culturel=%{y}<extra></extra>",
         "legendgroup": "north-america, Mexico",
         "marker": {
          "color": "#FF6692",
          "symbol": "x"
         },
         "mode": "markers",
         "name": "north-america, Mexico",
         "orientation": "v",
         "showlegend": true,
         "type": "scatter",
         "x": [
          null
         ],
         "xaxis": "x",
         "y": [
          112174.96433470509
         ],
         "yaxis": "y"
        },
        {
         "hovertemplate": "Continent=north-america<br>Country=Nicaragua<br>Literacy_Rate_2021=%{x}<br>Indice_Culturel=%{y}<extra></extra>",
         "legendgroup": "north-america, Nicaragua",
         "marker": {
          "color": "#FF6692",
          "symbol": "diamond"
         },
         "mode": "markers",
         "name": "north-america, Nicaragua",
         "orientation": "v",
         "showlegend": true,
         "type": "scatter",
         "x": [
          null
         ],
         "xaxis": "x",
         "y": [
          816.8133136094675
         ],
         "yaxis": "y"
        },
        {
         "hovertemplate": "Continent=north-america<br>Country=Panama<br>Literacy_Rate_2021=%{x}<br>Indice_Culturel=%{y}<extra></extra>",
         "legendgroup": "north-america, Panama",
         "marker": {
          "color": "#FF6692",
          "symbol": "diamond"
         },
         "mode": "markers",
         "name": "north-america, Panama",
         "orientation": "v",
         "showlegend": true,
         "type": "scatter",
         "x": [
          null
         ],
         "xaxis": "x",
         "y": [
          3269.4648199445983
         ],
         "yaxis": "y"
        },
        {
         "hovertemplate": "Continent=north-america<br>Country=Puerto Rico<br>Literacy_Rate_2021=%{x}<br>Indice_Culturel=%{y}<extra></extra>",
         "legendgroup": "north-america, Puerto Rico",
         "marker": {
          "color": "#FF6692",
          "symbol": "x"
         },
         "mode": "markers",
         "name": "north-america, Puerto Rico",
         "orientation": "v",
         "showlegend": true,
         "type": "scatter",
         "x": [
          92.4
         ],
         "xaxis": "x",
         "y": [
          3478.7343195266276
         ],
         "yaxis": "y"
        },
        {
         "hovertemplate": "Continent=north-america<br>Country=United States<br>Literacy_Rate_2021=%{x}<br>Indice_Culturel=%{y}<extra></extra>",
         "legendgroup": "north-america, United States",
         "marker": {
          "color": "#FF6692",
          "symbol": "x"
         },
         "mode": "markers",
         "name": "north-america, United States",
         "orientation": "v",
         "showlegend": true,
         "type": "scatter",
         "x": [
          null
         ],
         "xaxis": "x",
         "y": [
          123329.36666666667
         ],
         "yaxis": "y"
        }
       ],
       "layout": {
        "legend": {
         "title": {
          "text": "Continent, Country"
         },
         "tracegroupgap": 0
        },
        "template": {
         "data": {
          "bar": [
           {
            "error_x": {
             "color": "#2a3f5f"
            },
            "error_y": {
             "color": "#2a3f5f"
            },
            "marker": {
             "line": {
              "color": "#E5ECF6",
              "width": 0.5
             },
             "pattern": {
              "fillmode": "overlay",
              "size": 10,
              "solidity": 0.2
             }
            },
            "type": "bar"
           }
          ],
          "barpolar": [
           {
            "marker": {
             "line": {
              "color": "#E5ECF6",
              "width": 0.5
             },
             "pattern": {
              "fillmode": "overlay",
              "size": 10,
              "solidity": 0.2
             }
            },
            "type": "barpolar"
           }
          ],
          "carpet": [
           {
            "aaxis": {
             "endlinecolor": "#2a3f5f",
             "gridcolor": "white",
             "linecolor": "white",
             "minorgridcolor": "white",
             "startlinecolor": "#2a3f5f"
            },
            "baxis": {
             "endlinecolor": "#2a3f5f",
             "gridcolor": "white",
             "linecolor": "white",
             "minorgridcolor": "white",
             "startlinecolor": "#2a3f5f"
            },
            "type": "carpet"
           }
          ],
          "choropleth": [
           {
            "colorbar": {
             "outlinewidth": 0,
             "ticks": ""
            },
            "type": "choropleth"
           }
          ],
          "contour": [
           {
            "colorbar": {
             "outlinewidth": 0,
             "ticks": ""
            },
            "colorscale": [
             [
              0,
              "#0d0887"
             ],
             [
              0.1111111111111111,
              "#46039f"
             ],
             [
              0.2222222222222222,
              "#7201a8"
             ],
             [
              0.3333333333333333,
              "#9c179e"
             ],
             [
              0.4444444444444444,
              "#bd3786"
             ],
             [
              0.5555555555555556,
              "#d8576b"
             ],
             [
              0.6666666666666666,
              "#ed7953"
             ],
             [
              0.7777777777777778,
              "#fb9f3a"
             ],
             [
              0.8888888888888888,
              "#fdca26"
             ],
             [
              1,
              "#f0f921"
             ]
            ],
            "type": "contour"
           }
          ],
          "contourcarpet": [
           {
            "colorbar": {
             "outlinewidth": 0,
             "ticks": ""
            },
            "type": "contourcarpet"
           }
          ],
          "heatmap": [
           {
            "colorbar": {
             "outlinewidth": 0,
             "ticks": ""
            },
            "colorscale": [
             [
              0,
              "#0d0887"
             ],
             [
              0.1111111111111111,
              "#46039f"
             ],
             [
              0.2222222222222222,
              "#7201a8"
             ],
             [
              0.3333333333333333,
              "#9c179e"
             ],
             [
              0.4444444444444444,
              "#bd3786"
             ],
             [
              0.5555555555555556,
              "#d8576b"
             ],
             [
              0.6666666666666666,
              "#ed7953"
             ],
             [
              0.7777777777777778,
              "#fb9f3a"
             ],
             [
              0.8888888888888888,
              "#fdca26"
             ],
             [
              1,
              "#f0f921"
             ]
            ],
            "type": "heatmap"
           }
          ],
          "heatmapgl": [
           {
            "colorbar": {
             "outlinewidth": 0,
             "ticks": ""
            },
            "colorscale": [
             [
              0,
              "#0d0887"
             ],
             [
              0.1111111111111111,
              "#46039f"
             ],
             [
              0.2222222222222222,
              "#7201a8"
             ],
             [
              0.3333333333333333,
              "#9c179e"
             ],
             [
              0.4444444444444444,
              "#bd3786"
             ],
             [
              0.5555555555555556,
              "#d8576b"
             ],
             [
              0.6666666666666666,
              "#ed7953"
             ],
             [
              0.7777777777777778,
              "#fb9f3a"
             ],
             [
              0.8888888888888888,
              "#fdca26"
             ],
             [
              1,
              "#f0f921"
             ]
            ],
            "type": "heatmapgl"
           }
          ],
          "histogram": [
           {
            "marker": {
             "pattern": {
              "fillmode": "overlay",
              "size": 10,
              "solidity": 0.2
             }
            },
            "type": "histogram"
           }
          ],
          "histogram2d": [
           {
            "colorbar": {
             "outlinewidth": 0,
             "ticks": ""
            },
            "colorscale": [
             [
              0,
              "#0d0887"
             ],
             [
              0.1111111111111111,
              "#46039f"
             ],
             [
              0.2222222222222222,
              "#7201a8"
             ],
             [
              0.3333333333333333,
              "#9c179e"
             ],
             [
              0.4444444444444444,
              "#bd3786"
             ],
             [
              0.5555555555555556,
              "#d8576b"
             ],
             [
              0.6666666666666666,
              "#ed7953"
             ],
             [
              0.7777777777777778,
              "#fb9f3a"
             ],
             [
              0.8888888888888888,
              "#fdca26"
             ],
             [
              1,
              "#f0f921"
             ]
            ],
            "type": "histogram2d"
           }
          ],
          "histogram2dcontour": [
           {
            "colorbar": {
             "outlinewidth": 0,
             "ticks": ""
            },
            "colorscale": [
             [
              0,
              "#0d0887"
             ],
             [
              0.1111111111111111,
              "#46039f"
             ],
             [
              0.2222222222222222,
              "#7201a8"
             ],
             [
              0.3333333333333333,
              "#9c179e"
             ],
             [
              0.4444444444444444,
              "#bd3786"
             ],
             [
              0.5555555555555556,
              "#d8576b"
             ],
             [
              0.6666666666666666,
              "#ed7953"
             ],
             [
              0.7777777777777778,
              "#fb9f3a"
             ],
             [
              0.8888888888888888,
              "#fdca26"
             ],
             [
              1,
              "#f0f921"
             ]
            ],
            "type": "histogram2dcontour"
           }
          ],
          "mesh3d": [
           {
            "colorbar": {
             "outlinewidth": 0,
             "ticks": ""
            },
            "type": "mesh3d"
           }
          ],
          "parcoords": [
           {
            "line": {
             "colorbar": {
              "outlinewidth": 0,
              "ticks": ""
             }
            },
            "type": "parcoords"
           }
          ],
          "pie": [
           {
            "automargin": true,
            "type": "pie"
           }
          ],
          "scatter": [
           {
            "fillpattern": {
             "fillmode": "overlay",
             "size": 10,
             "solidity": 0.2
            },
            "type": "scatter"
           }
          ],
          "scatter3d": [
           {
            "line": {
             "colorbar": {
              "outlinewidth": 0,
              "ticks": ""
             }
            },
            "marker": {
             "colorbar": {
              "outlinewidth": 0,
              "ticks": ""
             }
            },
            "type": "scatter3d"
           }
          ],
          "scattercarpet": [
           {
            "marker": {
             "colorbar": {
              "outlinewidth": 0,
              "ticks": ""
             }
            },
            "type": "scattercarpet"
           }
          ],
          "scattergeo": [
           {
            "marker": {
             "colorbar": {
              "outlinewidth": 0,
              "ticks": ""
             }
            },
            "type": "scattergeo"
           }
          ],
          "scattergl": [
           {
            "marker": {
             "colorbar": {
              "outlinewidth": 0,
              "ticks": ""
             }
            },
            "type": "scattergl"
           }
          ],
          "scattermapbox": [
           {
            "marker": {
             "colorbar": {
              "outlinewidth": 0,
              "ticks": ""
             }
            },
            "type": "scattermapbox"
           }
          ],
          "scatterpolar": [
           {
            "marker": {
             "colorbar": {
              "outlinewidth": 0,
              "ticks": ""
             }
            },
            "type": "scatterpolar"
           }
          ],
          "scatterpolargl": [
           {
            "marker": {
             "colorbar": {
              "outlinewidth": 0,
              "ticks": ""
             }
            },
            "type": "scatterpolargl"
           }
          ],
          "scatterternary": [
           {
            "marker": {
             "colorbar": {
              "outlinewidth": 0,
              "ticks": ""
             }
            },
            "type": "scatterternary"
           }
          ],
          "surface": [
           {
            "colorbar": {
             "outlinewidth": 0,
             "ticks": ""
            },
            "colorscale": [
             [
              0,
              "#0d0887"
             ],
             [
              0.1111111111111111,
              "#46039f"
             ],
             [
              0.2222222222222222,
              "#7201a8"
             ],
             [
              0.3333333333333333,
              "#9c179e"
             ],
             [
              0.4444444444444444,
              "#bd3786"
             ],
             [
              0.5555555555555556,
              "#d8576b"
             ],
             [
              0.6666666666666666,
              "#ed7953"
             ],
             [
              0.7777777777777778,
              "#fb9f3a"
             ],
             [
              0.8888888888888888,
              "#fdca26"
             ],
             [
              1,
              "#f0f921"
             ]
            ],
            "type": "surface"
           }
          ],
          "table": [
           {
            "cells": {
             "fill": {
              "color": "#EBF0F8"
             },
             "line": {
              "color": "white"
             }
            },
            "header": {
             "fill": {
              "color": "#C8D4E3"
             },
             "line": {
              "color": "white"
             }
            },
            "type": "table"
           }
          ]
         },
         "layout": {
          "annotationdefaults": {
           "arrowcolor": "#2a3f5f",
           "arrowhead": 0,
           "arrowwidth": 1
          },
          "autotypenumbers": "strict",
          "coloraxis": {
           "colorbar": {
            "outlinewidth": 0,
            "ticks": ""
           }
          },
          "colorscale": {
           "diverging": [
            [
             0,
             "#8e0152"
            ],
            [
             0.1,
             "#c51b7d"
            ],
            [
             0.2,
             "#de77ae"
            ],
            [
             0.3,
             "#f1b6da"
            ],
            [
             0.4,
             "#fde0ef"
            ],
            [
             0.5,
             "#f7f7f7"
            ],
            [
             0.6,
             "#e6f5d0"
            ],
            [
             0.7,
             "#b8e186"
            ],
            [
             0.8,
             "#7fbc41"
            ],
            [
             0.9,
             "#4d9221"
            ],
            [
             1,
             "#276419"
            ]
           ],
           "sequential": [
            [
             0,
             "#0d0887"
            ],
            [
             0.1111111111111111,
             "#46039f"
            ],
            [
             0.2222222222222222,
             "#7201a8"
            ],
            [
             0.3333333333333333,
             "#9c179e"
            ],
            [
             0.4444444444444444,
             "#bd3786"
            ],
            [
             0.5555555555555556,
             "#d8576b"
            ],
            [
             0.6666666666666666,
             "#ed7953"
            ],
            [
             0.7777777777777778,
             "#fb9f3a"
            ],
            [
             0.8888888888888888,
             "#fdca26"
            ],
            [
             1,
             "#f0f921"
            ]
           ],
           "sequentialminus": [
            [
             0,
             "#0d0887"
            ],
            [
             0.1111111111111111,
             "#46039f"
            ],
            [
             0.2222222222222222,
             "#7201a8"
            ],
            [
             0.3333333333333333,
             "#9c179e"
            ],
            [
             0.4444444444444444,
             "#bd3786"
            ],
            [
             0.5555555555555556,
             "#d8576b"
            ],
            [
             0.6666666666666666,
             "#ed7953"
            ],
            [
             0.7777777777777778,
             "#fb9f3a"
            ],
            [
             0.8888888888888888,
             "#fdca26"
            ],
            [
             1,
             "#f0f921"
            ]
           ]
          },
          "colorway": [
           "#636efa",
           "#EF553B",
           "#00cc96",
           "#ab63fa",
           "#FFA15A",
           "#19d3f3",
           "#FF6692",
           "#B6E880",
           "#FF97FF",
           "#FECB52"
          ],
          "font": {
           "color": "#2a3f5f"
          },
          "geo": {
           "bgcolor": "white",
           "lakecolor": "white",
           "landcolor": "#E5ECF6",
           "showlakes": true,
           "showland": true,
           "subunitcolor": "white"
          },
          "hoverlabel": {
           "align": "left"
          },
          "hovermode": "closest",
          "mapbox": {
           "style": "light"
          },
          "paper_bgcolor": "white",
          "plot_bgcolor": "#E5ECF6",
          "polar": {
           "angularaxis": {
            "gridcolor": "white",
            "linecolor": "white",
            "ticks": ""
           },
           "bgcolor": "#E5ECF6",
           "radialaxis": {
            "gridcolor": "white",
            "linecolor": "white",
            "ticks": ""
           }
          },
          "scene": {
           "xaxis": {
            "backgroundcolor": "#E5ECF6",
            "gridcolor": "white",
            "gridwidth": 2,
            "linecolor": "white",
            "showbackground": true,
            "ticks": "",
            "zerolinecolor": "white"
           },
           "yaxis": {
            "backgroundcolor": "#E5ECF6",
            "gridcolor": "white",
            "gridwidth": 2,
            "linecolor": "white",
            "showbackground": true,
            "ticks": "",
            "zerolinecolor": "white"
           },
           "zaxis": {
            "backgroundcolor": "#E5ECF6",
            "gridcolor": "white",
            "gridwidth": 2,
            "linecolor": "white",
            "showbackground": true,
            "ticks": "",
            "zerolinecolor": "white"
           }
          },
          "shapedefaults": {
           "line": {
            "color": "#2a3f5f"
           }
          },
          "ternary": {
           "aaxis": {
            "gridcolor": "white",
            "linecolor": "white",
            "ticks": ""
           },
           "baxis": {
            "gridcolor": "white",
            "linecolor": "white",
            "ticks": ""
           },
           "bgcolor": "#E5ECF6",
           "caxis": {
            "gridcolor": "white",
            "linecolor": "white",
            "ticks": ""
           }
          },
          "title": {
           "x": 0.05
          },
          "xaxis": {
           "automargin": true,
           "gridcolor": "white",
           "linecolor": "white",
           "ticks": "",
           "title": {
            "standoff": 15
           },
           "zerolinecolor": "white",
           "zerolinewidth": 2
          },
          "yaxis": {
           "automargin": true,
           "gridcolor": "white",
           "linecolor": "white",
           "ticks": "",
           "title": {
            "standoff": 15
           },
           "zerolinecolor": "white",
           "zerolinewidth": 2
          }
         }
        },
        "title": {
         "text": "Indice culturel et taux d'alphabétisme"
        },
        "xaxis": {
         "anchor": "y",
         "domain": [
          0,
          1
         ],
         "title": {
          "text": "Literacy_Rate_2021"
         }
        },
        "yaxis": {
         "anchor": "x",
         "domain": [
          0,
          1
         ],
         "title": {
          "text": "Indice_Culturel"
         }
        }
       }
      }
     },
     "metadata": {},
     "output_type": "display_data"
    }
   ],
   "source": [
    "fig_indiceCulturel_TauxAlphab = px.scatter(df_interm, x=\"Literacy_Rate_2021\", y=\"Indice_Culturel\", color=\"Continent\", symbol=\"Country\", title=\"Indice culturel et taux d'alphabétisme\")\n",
    "fig_indiceCulturel_TauxAlphab.show()"
   ]
  },
  {
   "cell_type": "markdown",
   "metadata": {},
   "source": [
    "### Exploration multivariée"
   ]
  },
  {
   "cell_type": "code",
   "execution_count": 18,
   "metadata": {},
   "outputs": [
    {
     "data": {
      "text/html": [
       "<div>\n",
       "<style scoped>\n",
       "    .dataframe tbody tr th:only-of-type {\n",
       "        vertical-align: middle;\n",
       "    }\n",
       "\n",
       "    .dataframe tbody tr th {\n",
       "        vertical-align: top;\n",
       "    }\n",
       "\n",
       "    .dataframe thead th {\n",
       "        text-align: right;\n",
       "    }\n",
       "</style>\n",
       "<table border=\"1\" class=\"dataframe\">\n",
       "  <thead>\n",
       "    <tr style=\"text-align: right;\">\n",
       "      <th></th>\n",
       "      <th>Continent</th>\n",
       "      <th>Nb_Foreign_Students</th>\n",
       "      <th>Nb_Prixnobel</th>\n",
       "      <th>Nb_Univtop500</th>\n",
       "      <th>Gdp</th>\n",
       "    </tr>\n",
       "  </thead>\n",
       "  <tbody>\n",
       "    <tr>\n",
       "      <th>0</th>\n",
       "      <td>africa</td>\n",
       "      <td>NaN</td>\n",
       "      <td>0.560000</td>\n",
       "      <td>0.140000</td>\n",
       "      <td>5.476908e+10</td>\n",
       "    </tr>\n",
       "    <tr>\n",
       "      <th>4</th>\n",
       "      <td>oceania</td>\n",
       "      <td>24.572000</td>\n",
       "      <td>1.545455</td>\n",
       "      <td>3.181818</td>\n",
       "      <td>1.681600e+11</td>\n",
       "    </tr>\n",
       "    <tr>\n",
       "      <th>5</th>\n",
       "      <td>south-america</td>\n",
       "      <td>0.428000</td>\n",
       "      <td>1.000000</td>\n",
       "      <td>1.000000</td>\n",
       "      <td>3.114794e+11</td>\n",
       "    </tr>\n",
       "    <tr>\n",
       "      <th>2</th>\n",
       "      <td>europe</td>\n",
       "      <td>10.554615</td>\n",
       "      <td>15.024390</td>\n",
       "      <td>5.121951</td>\n",
       "      <td>5.859809e+11</td>\n",
       "    </tr>\n",
       "    <tr>\n",
       "      <th>1</th>\n",
       "      <td>asia</td>\n",
       "      <td>4.111500</td>\n",
       "      <td>1.612245</td>\n",
       "      <td>2.632653</td>\n",
       "      <td>8.144030e+11</td>\n",
       "    </tr>\n",
       "    <tr>\n",
       "      <th>3</th>\n",
       "      <td>north-america</td>\n",
       "      <td>7.372333</td>\n",
       "      <td>22.200000</td>\n",
       "      <td>5.150000</td>\n",
       "      <td>1.364840e+12</td>\n",
       "    </tr>\n",
       "  </tbody>\n",
       "</table>\n",
       "</div>"
      ],
      "text/plain": [
       "       Continent  Nb_Foreign_Students  Nb_Prixnobel  Nb_Univtop500  \\\n",
       "0         africa                  NaN      0.560000       0.140000   \n",
       "4        oceania            24.572000      1.545455       3.181818   \n",
       "5  south-america             0.428000      1.000000       1.000000   \n",
       "2         europe            10.554615     15.024390       5.121951   \n",
       "1           asia             4.111500      1.612245       2.632653   \n",
       "3  north-america             7.372333     22.200000       5.150000   \n",
       "\n",
       "            Gdp  \n",
       "0  5.476908e+10  \n",
       "4  1.681600e+11  \n",
       "5  3.114794e+11  \n",
       "2  5.859809e+11  \n",
       "1  8.144030e+11  \n",
       "3  1.364840e+12  "
      ]
     },
     "execution_count": 18,
     "metadata": {},
     "output_type": "execute_result"
    }
   ],
   "source": [
    "df_interm=df.loc[:,[\"Continent\",\"Nb_Foreign_Students\", \"Nb_Prixnobel\", \"Nb_Univtop500\", \"Gdp\" ]]\n",
    "df_multivar=df_interm.groupby(\"Continent\").mean().reset_index().sort_values(by=\"Gdp\")\n",
    "df_multivar"
   ]
  },
  {
   "cell_type": "code",
   "execution_count": 19,
   "metadata": {},
   "outputs": [
    {
     "data": {
      "text/html": [
       "<div>\n",
       "<style scoped>\n",
       "    .dataframe tbody tr th:only-of-type {\n",
       "        vertical-align: middle;\n",
       "    }\n",
       "\n",
       "    .dataframe tbody tr th {\n",
       "        vertical-align: top;\n",
       "    }\n",
       "\n",
       "    .dataframe thead th {\n",
       "        text-align: right;\n",
       "    }\n",
       "</style>\n",
       "<table border=\"1\" class=\"dataframe\">\n",
       "  <thead>\n",
       "    <tr style=\"text-align: right;\">\n",
       "      <th></th>\n",
       "      <th>Continent</th>\n",
       "      <th>Nb_Foreign_Students</th>\n",
       "      <th>Nb_Prixnobel</th>\n",
       "      <th>Nb_Univtop500</th>\n",
       "      <th>Gdp</th>\n",
       "    </tr>\n",
       "  </thead>\n",
       "  <tbody>\n",
       "    <tr>\n",
       "      <th>0</th>\n",
       "      <td>africa</td>\n",
       "      <td>NaN</td>\n",
       "      <td>0.000000</td>\n",
       "      <td>0.000000</td>\n",
       "      <td>0.000000</td>\n",
       "    </tr>\n",
       "    <tr>\n",
       "      <th>1</th>\n",
       "      <td>oceania</td>\n",
       "      <td>1.000000</td>\n",
       "      <td>0.045539</td>\n",
       "      <td>0.607149</td>\n",
       "      <td>0.086553</td>\n",
       "    </tr>\n",
       "    <tr>\n",
       "      <th>2</th>\n",
       "      <td>south-america</td>\n",
       "      <td>0.000000</td>\n",
       "      <td>0.020333</td>\n",
       "      <td>0.171657</td>\n",
       "      <td>0.195952</td>\n",
       "    </tr>\n",
       "    <tr>\n",
       "      <th>3</th>\n",
       "      <td>europe</td>\n",
       "      <td>0.419426</td>\n",
       "      <td>0.668410</td>\n",
       "      <td>0.994401</td>\n",
       "      <td>0.405483</td>\n",
       "    </tr>\n",
       "    <tr>\n",
       "      <th>4</th>\n",
       "      <td>asia</td>\n",
       "      <td>0.152564</td>\n",
       "      <td>0.048625</td>\n",
       "      <td>0.497536</td>\n",
       "      <td>0.579842</td>\n",
       "    </tr>\n",
       "    <tr>\n",
       "      <th>5</th>\n",
       "      <td>north-america</td>\n",
       "      <td>0.287621</td>\n",
       "      <td>1.000000</td>\n",
       "      <td>1.000000</td>\n",
       "      <td>1.000000</td>\n",
       "    </tr>\n",
       "  </tbody>\n",
       "</table>\n",
       "</div>"
      ],
      "text/plain": [
       "       Continent  Nb_Foreign_Students  Nb_Prixnobel  Nb_Univtop500       Gdp\n",
       "0         africa                  NaN      0.000000       0.000000  0.000000\n",
       "1        oceania             1.000000      0.045539       0.607149  0.086553\n",
       "2  south-america             0.000000      0.020333       0.171657  0.195952\n",
       "3         europe             0.419426      0.668410       0.994401  0.405483\n",
       "4           asia             0.152564      0.048625       0.497536  0.579842\n",
       "5  north-america             0.287621      1.000000       1.000000  1.000000"
      ]
     },
     "execution_count": 19,
     "metadata": {},
     "output_type": "execute_result"
    }
   ],
   "source": [
    "# Transformer les valeurs entre 0 et 1 afin d'avoir un affichage cohérent au niveau du radar chart (données mise à la meme echelle)\n",
    "scaler= MinMaxScaler()\n",
    "df_multivar.iloc[:,1:]=pd.DataFrame(scaler.fit_transform(df_multivar.iloc[:,1:]), columns=df_multivar.iloc[:,1:].columns)\n",
    "df_multivar=df_multivar.reset_index(drop=True)\n",
    "#df_multivar=df_multivar.set_index(\"Continent\")\n",
    "df_multivar"
   ]
  },
  {
   "cell_type": "code",
   "execution_count": 20,
   "metadata": {},
   "outputs": [
    {
     "data": {
      "application/vnd.plotly.v1+json": {
       "config": {
        "plotlyServerURL": "https://plot.ly"
       },
       "data": [
        {
         "fill": "toself",
         "name": "africa",
         "r": [
          null,
          0,
          0,
          0
         ],
         "theta": [
          "Nb_Foreign_Students",
          "Nb_Prixnobel",
          "Nb_Univtop500",
          "Gdp"
         ],
         "type": "scatterpolar"
        },
        {
         "fill": "toself",
         "name": "oceania",
         "r": [
          1,
          0.04553856494706772,
          0.6071493376882597,
          0.08655330560748706
         ],
         "theta": [
          "Nb_Foreign_Students",
          "Nb_Prixnobel",
          "Nb_Univtop500",
          "Gdp"
         ],
         "type": "scatterpolar"
        },
        {
         "fill": "toself",
         "name": "south-america",
         "r": [
          0,
          0.020332717190388167,
          0.1716566866267465,
          0.1959515361233161
         ],
         "theta": [
          "Nb_Foreign_Students",
          "Nb_Prixnobel",
          "Nb_Univtop500",
          "Gdp"
         ],
         "type": "scatterpolar"
        },
        {
         "fill": "toself",
         "name": "europe",
         "r": [
          0.41942575317326813,
          0.6684099003651774,
          0.9944014410203982,
          0.40548327634621356
         ],
         "theta": [
          "Nb_Foreign_Students",
          "Nb_Prixnobel",
          "Nb_Univtop500",
          "Gdp"
         ],
         "type": "scatterpolar"
        },
        {
         "fill": "toself",
         "name": "asia",
         "r": [
          0.15256378396288936,
          0.04862499528462032,
          0.49753554116257276,
          0.5798419359126752
         ],
         "theta": [
          "Nb_Foreign_Students",
          "Nb_Prixnobel",
          "Nb_Univtop500",
          "Gdp"
         ],
         "type": "scatterpolar"
        },
        {
         "fill": "toself",
         "name": "north-america",
         "r": [
          0.2876214932626464,
          1,
          0.9999999999999999,
          1
         ],
         "theta": [
          "Nb_Foreign_Students",
          "Nb_Prixnobel",
          "Nb_Univtop500",
          "Gdp"
         ],
         "type": "scatterpolar"
        }
       ],
       "layout": {
        "polar": {
         "radialaxis": {
          "range": [
           0,
           1
          ],
          "visible": true
         }
        },
        "showlegend": true,
        "template": {
         "data": {
          "bar": [
           {
            "error_x": {
             "color": "#2a3f5f"
            },
            "error_y": {
             "color": "#2a3f5f"
            },
            "marker": {
             "line": {
              "color": "#E5ECF6",
              "width": 0.5
             },
             "pattern": {
              "fillmode": "overlay",
              "size": 10,
              "solidity": 0.2
             }
            },
            "type": "bar"
           }
          ],
          "barpolar": [
           {
            "marker": {
             "line": {
              "color": "#E5ECF6",
              "width": 0.5
             },
             "pattern": {
              "fillmode": "overlay",
              "size": 10,
              "solidity": 0.2
             }
            },
            "type": "barpolar"
           }
          ],
          "carpet": [
           {
            "aaxis": {
             "endlinecolor": "#2a3f5f",
             "gridcolor": "white",
             "linecolor": "white",
             "minorgridcolor": "white",
             "startlinecolor": "#2a3f5f"
            },
            "baxis": {
             "endlinecolor": "#2a3f5f",
             "gridcolor": "white",
             "linecolor": "white",
             "minorgridcolor": "white",
             "startlinecolor": "#2a3f5f"
            },
            "type": "carpet"
           }
          ],
          "choropleth": [
           {
            "colorbar": {
             "outlinewidth": 0,
             "ticks": ""
            },
            "type": "choropleth"
           }
          ],
          "contour": [
           {
            "colorbar": {
             "outlinewidth": 0,
             "ticks": ""
            },
            "colorscale": [
             [
              0,
              "#0d0887"
             ],
             [
              0.1111111111111111,
              "#46039f"
             ],
             [
              0.2222222222222222,
              "#7201a8"
             ],
             [
              0.3333333333333333,
              "#9c179e"
             ],
             [
              0.4444444444444444,
              "#bd3786"
             ],
             [
              0.5555555555555556,
              "#d8576b"
             ],
             [
              0.6666666666666666,
              "#ed7953"
             ],
             [
              0.7777777777777778,
              "#fb9f3a"
             ],
             [
              0.8888888888888888,
              "#fdca26"
             ],
             [
              1,
              "#f0f921"
             ]
            ],
            "type": "contour"
           }
          ],
          "contourcarpet": [
           {
            "colorbar": {
             "outlinewidth": 0,
             "ticks": ""
            },
            "type": "contourcarpet"
           }
          ],
          "heatmap": [
           {
            "colorbar": {
             "outlinewidth": 0,
             "ticks": ""
            },
            "colorscale": [
             [
              0,
              "#0d0887"
             ],
             [
              0.1111111111111111,
              "#46039f"
             ],
             [
              0.2222222222222222,
              "#7201a8"
             ],
             [
              0.3333333333333333,
              "#9c179e"
             ],
             [
              0.4444444444444444,
              "#bd3786"
             ],
             [
              0.5555555555555556,
              "#d8576b"
             ],
             [
              0.6666666666666666,
              "#ed7953"
             ],
             [
              0.7777777777777778,
              "#fb9f3a"
             ],
             [
              0.8888888888888888,
              "#fdca26"
             ],
             [
              1,
              "#f0f921"
             ]
            ],
            "type": "heatmap"
           }
          ],
          "heatmapgl": [
           {
            "colorbar": {
             "outlinewidth": 0,
             "ticks": ""
            },
            "colorscale": [
             [
              0,
              "#0d0887"
             ],
             [
              0.1111111111111111,
              "#46039f"
             ],
             [
              0.2222222222222222,
              "#7201a8"
             ],
             [
              0.3333333333333333,
              "#9c179e"
             ],
             [
              0.4444444444444444,
              "#bd3786"
             ],
             [
              0.5555555555555556,
              "#d8576b"
             ],
             [
              0.6666666666666666,
              "#ed7953"
             ],
             [
              0.7777777777777778,
              "#fb9f3a"
             ],
             [
              0.8888888888888888,
              "#fdca26"
             ],
             [
              1,
              "#f0f921"
             ]
            ],
            "type": "heatmapgl"
           }
          ],
          "histogram": [
           {
            "marker": {
             "pattern": {
              "fillmode": "overlay",
              "size": 10,
              "solidity": 0.2
             }
            },
            "type": "histogram"
           }
          ],
          "histogram2d": [
           {
            "colorbar": {
             "outlinewidth": 0,
             "ticks": ""
            },
            "colorscale": [
             [
              0,
              "#0d0887"
             ],
             [
              0.1111111111111111,
              "#46039f"
             ],
             [
              0.2222222222222222,
              "#7201a8"
             ],
             [
              0.3333333333333333,
              "#9c179e"
             ],
             [
              0.4444444444444444,
              "#bd3786"
             ],
             [
              0.5555555555555556,
              "#d8576b"
             ],
             [
              0.6666666666666666,
              "#ed7953"
             ],
             [
              0.7777777777777778,
              "#fb9f3a"
             ],
             [
              0.8888888888888888,
              "#fdca26"
             ],
             [
              1,
              "#f0f921"
             ]
            ],
            "type": "histogram2d"
           }
          ],
          "histogram2dcontour": [
           {
            "colorbar": {
             "outlinewidth": 0,
             "ticks": ""
            },
            "colorscale": [
             [
              0,
              "#0d0887"
             ],
             [
              0.1111111111111111,
              "#46039f"
             ],
             [
              0.2222222222222222,
              "#7201a8"
             ],
             [
              0.3333333333333333,
              "#9c179e"
             ],
             [
              0.4444444444444444,
              "#bd3786"
             ],
             [
              0.5555555555555556,
              "#d8576b"
             ],
             [
              0.6666666666666666,
              "#ed7953"
             ],
             [
              0.7777777777777778,
              "#fb9f3a"
             ],
             [
              0.8888888888888888,
              "#fdca26"
             ],
             [
              1,
              "#f0f921"
             ]
            ],
            "type": "histogram2dcontour"
           }
          ],
          "mesh3d": [
           {
            "colorbar": {
             "outlinewidth": 0,
             "ticks": ""
            },
            "type": "mesh3d"
           }
          ],
          "parcoords": [
           {
            "line": {
             "colorbar": {
              "outlinewidth": 0,
              "ticks": ""
             }
            },
            "type": "parcoords"
           }
          ],
          "pie": [
           {
            "automargin": true,
            "type": "pie"
           }
          ],
          "scatter": [
           {
            "fillpattern": {
             "fillmode": "overlay",
             "size": 10,
             "solidity": 0.2
            },
            "type": "scatter"
           }
          ],
          "scatter3d": [
           {
            "line": {
             "colorbar": {
              "outlinewidth": 0,
              "ticks": ""
             }
            },
            "marker": {
             "colorbar": {
              "outlinewidth": 0,
              "ticks": ""
             }
            },
            "type": "scatter3d"
           }
          ],
          "scattercarpet": [
           {
            "marker": {
             "colorbar": {
              "outlinewidth": 0,
              "ticks": ""
             }
            },
            "type": "scattercarpet"
           }
          ],
          "scattergeo": [
           {
            "marker": {
             "colorbar": {
              "outlinewidth": 0,
              "ticks": ""
             }
            },
            "type": "scattergeo"
           }
          ],
          "scattergl": [
           {
            "marker": {
             "colorbar": {
              "outlinewidth": 0,
              "ticks": ""
             }
            },
            "type": "scattergl"
           }
          ],
          "scattermapbox": [
           {
            "marker": {
             "colorbar": {
              "outlinewidth": 0,
              "ticks": ""
             }
            },
            "type": "scattermapbox"
           }
          ],
          "scatterpolar": [
           {
            "marker": {
             "colorbar": {
              "outlinewidth": 0,
              "ticks": ""
             }
            },
            "type": "scatterpolar"
           }
          ],
          "scatterpolargl": [
           {
            "marker": {
             "colorbar": {
              "outlinewidth": 0,
              "ticks": ""
             }
            },
            "type": "scatterpolargl"
           }
          ],
          "scatterternary": [
           {
            "marker": {
             "colorbar": {
              "outlinewidth": 0,
              "ticks": ""
             }
            },
            "type": "scatterternary"
           }
          ],
          "surface": [
           {
            "colorbar": {
             "outlinewidth": 0,
             "ticks": ""
            },
            "colorscale": [
             [
              0,
              "#0d0887"
             ],
             [
              0.1111111111111111,
              "#46039f"
             ],
             [
              0.2222222222222222,
              "#7201a8"
             ],
             [
              0.3333333333333333,
              "#9c179e"
             ],
             [
              0.4444444444444444,
              "#bd3786"
             ],
             [
              0.5555555555555556,
              "#d8576b"
             ],
             [
              0.6666666666666666,
              "#ed7953"
             ],
             [
              0.7777777777777778,
              "#fb9f3a"
             ],
             [
              0.8888888888888888,
              "#fdca26"
             ],
             [
              1,
              "#f0f921"
             ]
            ],
            "type": "surface"
           }
          ],
          "table": [
           {
            "cells": {
             "fill": {
              "color": "#EBF0F8"
             },
             "line": {
              "color": "white"
             }
            },
            "header": {
             "fill": {
              "color": "#C8D4E3"
             },
             "line": {
              "color": "white"
             }
            },
            "type": "table"
           }
          ]
         },
         "layout": {
          "annotationdefaults": {
           "arrowcolor": "#2a3f5f",
           "arrowhead": 0,
           "arrowwidth": 1
          },
          "autotypenumbers": "strict",
          "coloraxis": {
           "colorbar": {
            "outlinewidth": 0,
            "ticks": ""
           }
          },
          "colorscale": {
           "diverging": [
            [
             0,
             "#8e0152"
            ],
            [
             0.1,
             "#c51b7d"
            ],
            [
             0.2,
             "#de77ae"
            ],
            [
             0.3,
             "#f1b6da"
            ],
            [
             0.4,
             "#fde0ef"
            ],
            [
             0.5,
             "#f7f7f7"
            ],
            [
             0.6,
             "#e6f5d0"
            ],
            [
             0.7,
             "#b8e186"
            ],
            [
             0.8,
             "#7fbc41"
            ],
            [
             0.9,
             "#4d9221"
            ],
            [
             1,
             "#276419"
            ]
           ],
           "sequential": [
            [
             0,
             "#0d0887"
            ],
            [
             0.1111111111111111,
             "#46039f"
            ],
            [
             0.2222222222222222,
             "#7201a8"
            ],
            [
             0.3333333333333333,
             "#9c179e"
            ],
            [
             0.4444444444444444,
             "#bd3786"
            ],
            [
             0.5555555555555556,
             "#d8576b"
            ],
            [
             0.6666666666666666,
             "#ed7953"
            ],
            [
             0.7777777777777778,
             "#fb9f3a"
            ],
            [
             0.8888888888888888,
             "#fdca26"
            ],
            [
             1,
             "#f0f921"
            ]
           ],
           "sequentialminus": [
            [
             0,
             "#0d0887"
            ],
            [
             0.1111111111111111,
             "#46039f"
            ],
            [
             0.2222222222222222,
             "#7201a8"
            ],
            [
             0.3333333333333333,
             "#9c179e"
            ],
            [
             0.4444444444444444,
             "#bd3786"
            ],
            [
             0.5555555555555556,
             "#d8576b"
            ],
            [
             0.6666666666666666,
             "#ed7953"
            ],
            [
             0.7777777777777778,
             "#fb9f3a"
            ],
            [
             0.8888888888888888,
             "#fdca26"
            ],
            [
             1,
             "#f0f921"
            ]
           ]
          },
          "colorway": [
           "#636efa",
           "#EF553B",
           "#00cc96",
           "#ab63fa",
           "#FFA15A",
           "#19d3f3",
           "#FF6692",
           "#B6E880",
           "#FF97FF",
           "#FECB52"
          ],
          "font": {
           "color": "#2a3f5f"
          },
          "geo": {
           "bgcolor": "white",
           "lakecolor": "white",
           "landcolor": "#E5ECF6",
           "showlakes": true,
           "showland": true,
           "subunitcolor": "white"
          },
          "hoverlabel": {
           "align": "left"
          },
          "hovermode": "closest",
          "mapbox": {
           "style": "light"
          },
          "paper_bgcolor": "white",
          "plot_bgcolor": "#E5ECF6",
          "polar": {
           "angularaxis": {
            "gridcolor": "white",
            "linecolor": "white",
            "ticks": ""
           },
           "bgcolor": "#E5ECF6",
           "radialaxis": {
            "gridcolor": "white",
            "linecolor": "white",
            "ticks": ""
           }
          },
          "scene": {
           "xaxis": {
            "backgroundcolor": "#E5ECF6",
            "gridcolor": "white",
            "gridwidth": 2,
            "linecolor": "white",
            "showbackground": true,
            "ticks": "",
            "zerolinecolor": "white"
           },
           "yaxis": {
            "backgroundcolor": "#E5ECF6",
            "gridcolor": "white",
            "gridwidth": 2,
            "linecolor": "white",
            "showbackground": true,
            "ticks": "",
            "zerolinecolor": "white"
           },
           "zaxis": {
            "backgroundcolor": "#E5ECF6",
            "gridcolor": "white",
            "gridwidth": 2,
            "linecolor": "white",
            "showbackground": true,
            "ticks": "",
            "zerolinecolor": "white"
           }
          },
          "shapedefaults": {
           "line": {
            "color": "#2a3f5f"
           }
          },
          "ternary": {
           "aaxis": {
            "gridcolor": "white",
            "linecolor": "white",
            "ticks": ""
           },
           "baxis": {
            "gridcolor": "white",
            "linecolor": "white",
            "ticks": ""
           },
           "bgcolor": "#E5ECF6",
           "caxis": {
            "gridcolor": "white",
            "linecolor": "white",
            "ticks": ""
           }
          },
          "title": {
           "x": 0.05
          },
          "xaxis": {
           "automargin": true,
           "gridcolor": "white",
           "linecolor": "white",
           "ticks": "",
           "title": {
            "standoff": 15
           },
           "zerolinecolor": "white",
           "zerolinewidth": 2
          },
          "yaxis": {
           "automargin": true,
           "gridcolor": "white",
           "linecolor": "white",
           "ticks": "",
           "title": {
            "standoff": 15
           },
           "zerolinecolor": "white",
           "zerolinewidth": 2
          }
         }
        },
        "title": {
         "text": "Exploration multivariée"
        }
       }
      }
     },
     "metadata": {},
     "output_type": "display_data"
    }
   ],
   "source": [
    "\n",
    "categories = ['Nb_Foreign_Students', 'Nb_Prixnobel', 'Nb_Univtop500', 'Gdp']\n",
    "fig = go.Figure()\n",
    "\n",
    "# Ajouter les données pour chaque continent\n",
    "for i in range(len(df_multivar)):\n",
    "    fig.add_trace(go.Scatterpolar(\n",
    "        r=df_multivar.iloc[i][categories],\n",
    "        theta=categories,\n",
    "        fill='toself',\n",
    "        name=df_multivar['Continent'][i]\n",
    "    ))\n",
    "\n",
    "fig.update_layout(\n",
    "    polar=dict(\n",
    "        radialaxis=dict(\n",
    "            visible=True,\n",
    "            range=[0, 1]  \n",
    "        )),\n",
    "    showlegend=True\n",
    ")\n",
    "fig.update_layout(title = 'Exploration multivariée')\n",
    "fig.show()"
   ]
  },
  {
   "cell_type": "markdown",
   "metadata": {},
   "source": [
    "### Exploration temporelle"
   ]
  },
  {
   "cell_type": "code",
   "execution_count": 21,
   "metadata": {},
   "outputs": [],
   "source": [
    "df_gdp=pd.read_csv(\"../../datasets_dw/Ahmed/dataset GDP.csv\", skiprows=[0,1,2])\n",
    "df_gdp=df_gdp.drop(['Country Code', 'Indicator Name', 'Indicator Code'], axis=1).iloc[:,:-1]\n",
    "df_gdp=df_gdp.rename(columns={'Country Name':'Country'})\n",
    "df_gdp.loc[df_gdp['Country'] == 'Congo, Dem. Rep.', 'Country'] = \"DR Congo\"\n",
    "df_gdp.loc[df_gdp['Country'] == 'Viet Nam', 'Country'] = \"Vietnam\"\n",
    "df_gdp.loc[df_gdp['Country'] == 'Turkiye', 'Country'] = \"Turkey\"\n",
    "df_gdp.loc[df_gdp['Country'] == 'Korea, Rep.', 'Country'] = \"South Korea\"\n",
    "df_gdp.loc[df_gdp['Country'] == \"Cote d'Ivoire\", 'Country'] = \"Ivory Coast\"\n",
    "df_gdp.loc[df_gdp['Country'] == 'Czechia', 'Country'] = \"Czech Republic\"\n",
    "df_gdp.loc[df_gdp['Country']==\"Lao PDR\",\"Country\"]=\"Laos\"\n",
    "df_gdp.loc[df_gdp['Country']==\"Congo, Rep.\",\"Country\"]=\"Republic of the Congo\"\n",
    "df_gdp.loc[df_gdp['Country'] == 'Slovak Republic', 'Country'] = \"Slovakia\"\n",
    "df_gdp.loc[df_gdp['Country'] == 'Macao SAR, China', 'Country'] = \"Macau\"\n",
    "df_gdp.loc[df_gdp['Country'] == 'Cabo Verde', 'Country'] = \"Cape Verde\"\n",
    "df_gdp.loc[df_gdp['Country'] == 'St. Lucia', 'Country'] = \"Saint Lucia\"\n",
    "df_gdp.loc[df_gdp['Country'] == 'St. Vincent and the Grenadines', 'Country'] = \"Saint Vincent and the Grenadines\"\n",
    "df_gdp.loc[df_gdp['Country'] == 'St. Kitts and Nevis', 'Country'] = \"Saint Kitts and Nevis\""
   ]
  },
  {
   "cell_type": "code",
   "execution_count": 22,
   "metadata": {},
   "outputs": [],
   "source": [
    "df=pd.read_csv(\"../../datasets_merged/df_mergedFinal.csv\")\n",
    "df_contient_country=df.loc[:,['Country', 'Continent']]\n",
    "df_gdp_continent_interm=pd.merge(df_contient_country, df_gdp, on='Country' )\n",
    "df_gdp_continent_interm=df_gdp_continent_interm.drop(['Country'],axis=1)"
   ]
  },
  {
   "cell_type": "code",
   "execution_count": 23,
   "metadata": {},
   "outputs": [
    {
     "data": {
      "text/html": [
       "<div>\n",
       "<style scoped>\n",
       "    .dataframe tbody tr th:only-of-type {\n",
       "        vertical-align: middle;\n",
       "    }\n",
       "\n",
       "    .dataframe tbody tr th {\n",
       "        vertical-align: top;\n",
       "    }\n",
       "\n",
       "    .dataframe thead th {\n",
       "        text-align: right;\n",
       "    }\n",
       "</style>\n",
       "<table border=\"1\" class=\"dataframe\">\n",
       "  <thead>\n",
       "    <tr style=\"text-align: right;\">\n",
       "      <th></th>\n",
       "      <th>1960</th>\n",
       "      <th>1961</th>\n",
       "      <th>1962</th>\n",
       "      <th>1963</th>\n",
       "      <th>1964</th>\n",
       "      <th>1965</th>\n",
       "      <th>1966</th>\n",
       "      <th>1967</th>\n",
       "      <th>1968</th>\n",
       "      <th>1969</th>\n",
       "      <th>...</th>\n",
       "      <th>2013</th>\n",
       "      <th>2014</th>\n",
       "      <th>2015</th>\n",
       "      <th>2016</th>\n",
       "      <th>2017</th>\n",
       "      <th>2018</th>\n",
       "      <th>2019</th>\n",
       "      <th>2020</th>\n",
       "      <th>2021</th>\n",
       "      <th>2022</th>\n",
       "    </tr>\n",
       "    <tr>\n",
       "      <th>Continent</th>\n",
       "      <th></th>\n",
       "      <th></th>\n",
       "      <th></th>\n",
       "      <th></th>\n",
       "      <th></th>\n",
       "      <th></th>\n",
       "      <th></th>\n",
       "      <th></th>\n",
       "      <th></th>\n",
       "      <th></th>\n",
       "      <th></th>\n",
       "      <th></th>\n",
       "      <th></th>\n",
       "      <th></th>\n",
       "      <th></th>\n",
       "      <th></th>\n",
       "      <th></th>\n",
       "      <th></th>\n",
       "      <th></th>\n",
       "      <th></th>\n",
       "      <th></th>\n",
       "    </tr>\n",
       "  </thead>\n",
       "  <tbody>\n",
       "    <tr>\n",
       "      <th>africa</th>\n",
       "      <td>9.860273e+08</td>\n",
       "      <td>9.934097e+08</td>\n",
       "      <td>1.045550e+09</td>\n",
       "      <td>1.145379e+09</td>\n",
       "      <td>1.245682e+09</td>\n",
       "      <td>1.336591e+09</td>\n",
       "      <td>1.414315e+09</td>\n",
       "      <td>1.421862e+09</td>\n",
       "      <td>1.524579e+09</td>\n",
       "      <td>1.713718e+09</td>\n",
       "      <td>...</td>\n",
       "      <td>4.765636e+10</td>\n",
       "      <td>4.921250e+10</td>\n",
       "      <td>4.365474e+10</td>\n",
       "      <td>4.187562e+10</td>\n",
       "      <td>4.540648e+10</td>\n",
       "      <td>4.734631e+10</td>\n",
       "      <td>4.821214e+10</td>\n",
       "      <td>4.457403e+10</td>\n",
       "      <td>4.994958e+10</td>\n",
       "      <td>5.331997e+10</td>\n",
       "    </tr>\n",
       "    <tr>\n",
       "      <th>asia</th>\n",
       "      <td>1.007897e+10</td>\n",
       "      <td>1.026421e+10</td>\n",
       "      <td>1.059040e+10</td>\n",
       "      <td>1.189894e+10</td>\n",
       "      <td>1.367347e+10</td>\n",
       "      <td>1.369006e+10</td>\n",
       "      <td>1.441571e+10</td>\n",
       "      <td>1.516396e+10</td>\n",
       "      <td>1.551795e+10</td>\n",
       "      <td>1.768831e+10</td>\n",
       "      <td>...</td>\n",
       "      <td>6.202334e+11</td>\n",
       "      <td>6.446593e+11</td>\n",
       "      <td>6.372220e+11</td>\n",
       "      <td>6.650852e+11</td>\n",
       "      <td>7.131974e+11</td>\n",
       "      <td>7.712460e+11</td>\n",
       "      <td>7.887185e+11</td>\n",
       "      <td>7.796188e+11</td>\n",
       "      <td>8.968886e+11</td>\n",
       "      <td>9.823975e+11</td>\n",
       "    </tr>\n",
       "    <tr>\n",
       "      <th>europe</th>\n",
       "      <td>1.653736e+10</td>\n",
       "      <td>1.799943e+10</td>\n",
       "      <td>1.963547e+10</td>\n",
       "      <td>2.166625e+10</td>\n",
       "      <td>2.398202e+10</td>\n",
       "      <td>2.612632e+10</td>\n",
       "      <td>2.735987e+10</td>\n",
       "      <td>2.943783e+10</td>\n",
       "      <td>3.072707e+10</td>\n",
       "      <td>3.397965e+10</td>\n",
       "      <td>...</td>\n",
       "      <td>4.920941e+11</td>\n",
       "      <td>5.066325e+11</td>\n",
       "      <td>4.451862e+11</td>\n",
       "      <td>4.469807e+11</td>\n",
       "      <td>4.705498e+11</td>\n",
       "      <td>5.083746e+11</td>\n",
       "      <td>5.004713e+11</td>\n",
       "      <td>4.882412e+11</td>\n",
       "      <td>5.547081e+11</td>\n",
       "      <td>5.544644e+11</td>\n",
       "    </tr>\n",
       "    <tr>\n",
       "      <th>north-america</th>\n",
       "      <td>4.635959e+10</td>\n",
       "      <td>4.804421e+10</td>\n",
       "      <td>5.148417e+10</td>\n",
       "      <td>5.446337e+10</td>\n",
       "      <td>5.871503e+10</td>\n",
       "      <td>5.924771e+10</td>\n",
       "      <td>6.504667e+10</td>\n",
       "      <td>6.892696e+10</td>\n",
       "      <td>7.539365e+10</td>\n",
       "      <td>8.175162e+10</td>\n",
       "      <td>...</td>\n",
       "      <td>1.079169e+12</td>\n",
       "      <td>1.117314e+12</td>\n",
       "      <td>1.132187e+12</td>\n",
       "      <td>1.152238e+12</td>\n",
       "      <td>1.205255e+12</td>\n",
       "      <td>1.269257e+12</td>\n",
       "      <td>1.318485e+12</td>\n",
       "      <td>1.285705e+12</td>\n",
       "      <td>1.509884e+12</td>\n",
       "      <td>1.648328e+12</td>\n",
       "    </tr>\n",
       "    <tr>\n",
       "      <th>oceania</th>\n",
       "      <td>6.108811e+09</td>\n",
       "      <td>6.428692e+09</td>\n",
       "      <td>6.596037e+09</td>\n",
       "      <td>7.146051e+09</td>\n",
       "      <td>7.880153e+09</td>\n",
       "      <td>8.030472e+09</td>\n",
       "      <td>8.428293e+09</td>\n",
       "      <td>7.406740e+09</td>\n",
       "      <td>7.714981e+09</td>\n",
       "      <td>8.641401e+09</td>\n",
       "      <td>...</td>\n",
       "      <td>1.797322e+11</td>\n",
       "      <td>1.701687e+11</td>\n",
       "      <td>1.559893e+11</td>\n",
       "      <td>1.425912e+11</td>\n",
       "      <td>1.565631e+11</td>\n",
       "      <td>1.675625e+11</td>\n",
       "      <td>1.642347e+11</td>\n",
       "      <td>1.575450e+11</td>\n",
       "      <td>1.849354e+11</td>\n",
       "      <td>2.201789e+11</td>\n",
       "    </tr>\n",
       "    <tr>\n",
       "      <th>south-america</th>\n",
       "      <td>1.723152e+09</td>\n",
       "      <td>1.917584e+09</td>\n",
       "      <td>2.089098e+09</td>\n",
       "      <td>2.083551e+09</td>\n",
       "      <td>2.431436e+09</td>\n",
       "      <td>2.194862e+09</td>\n",
       "      <td>2.296683e+09</td>\n",
       "      <td>2.343148e+09</td>\n",
       "      <td>2.395657e+09</td>\n",
       "      <td>2.738994e+09</td>\n",
       "      <td>...</td>\n",
       "      <td>3.745864e+11</td>\n",
       "      <td>3.699924e+11</td>\n",
       "      <td>3.052996e+11</td>\n",
       "      <td>3.011308e+11</td>\n",
       "      <td>3.418473e+11</td>\n",
       "      <td>3.233153e+11</td>\n",
       "      <td>3.099242e+11</td>\n",
       "      <td>2.565098e+11</td>\n",
       "      <td>2.959449e+11</td>\n",
       "      <td>3.389822e+11</td>\n",
       "    </tr>\n",
       "  </tbody>\n",
       "</table>\n",
       "<p>6 rows × 63 columns</p>\n",
       "</div>"
      ],
      "text/plain": [
       "                       1960          1961          1962          1963  \\\n",
       "Continent                                                               \n",
       "africa         9.860273e+08  9.934097e+08  1.045550e+09  1.145379e+09   \n",
       "asia           1.007897e+10  1.026421e+10  1.059040e+10  1.189894e+10   \n",
       "europe         1.653736e+10  1.799943e+10  1.963547e+10  2.166625e+10   \n",
       "north-america  4.635959e+10  4.804421e+10  5.148417e+10  5.446337e+10   \n",
       "oceania        6.108811e+09  6.428692e+09  6.596037e+09  7.146051e+09   \n",
       "south-america  1.723152e+09  1.917584e+09  2.089098e+09  2.083551e+09   \n",
       "\n",
       "                       1964          1965          1966          1967  \\\n",
       "Continent                                                               \n",
       "africa         1.245682e+09  1.336591e+09  1.414315e+09  1.421862e+09   \n",
       "asia           1.367347e+10  1.369006e+10  1.441571e+10  1.516396e+10   \n",
       "europe         2.398202e+10  2.612632e+10  2.735987e+10  2.943783e+10   \n",
       "north-america  5.871503e+10  5.924771e+10  6.504667e+10  6.892696e+10   \n",
       "oceania        7.880153e+09  8.030472e+09  8.428293e+09  7.406740e+09   \n",
       "south-america  2.431436e+09  2.194862e+09  2.296683e+09  2.343148e+09   \n",
       "\n",
       "                       1968          1969  ...          2013          2014  \\\n",
       "Continent                                  ...                               \n",
       "africa         1.524579e+09  1.713718e+09  ...  4.765636e+10  4.921250e+10   \n",
       "asia           1.551795e+10  1.768831e+10  ...  6.202334e+11  6.446593e+11   \n",
       "europe         3.072707e+10  3.397965e+10  ...  4.920941e+11  5.066325e+11   \n",
       "north-america  7.539365e+10  8.175162e+10  ...  1.079169e+12  1.117314e+12   \n",
       "oceania        7.714981e+09  8.641401e+09  ...  1.797322e+11  1.701687e+11   \n",
       "south-america  2.395657e+09  2.738994e+09  ...  3.745864e+11  3.699924e+11   \n",
       "\n",
       "                       2015          2016          2017          2018  \\\n",
       "Continent                                                               \n",
       "africa         4.365474e+10  4.187562e+10  4.540648e+10  4.734631e+10   \n",
       "asia           6.372220e+11  6.650852e+11  7.131974e+11  7.712460e+11   \n",
       "europe         4.451862e+11  4.469807e+11  4.705498e+11  5.083746e+11   \n",
       "north-america  1.132187e+12  1.152238e+12  1.205255e+12  1.269257e+12   \n",
       "oceania        1.559893e+11  1.425912e+11  1.565631e+11  1.675625e+11   \n",
       "south-america  3.052996e+11  3.011308e+11  3.418473e+11  3.233153e+11   \n",
       "\n",
       "                       2019          2020          2021          2022  \n",
       "Continent                                                              \n",
       "africa         4.821214e+10  4.457403e+10  4.994958e+10  5.331997e+10  \n",
       "asia           7.887185e+11  7.796188e+11  8.968886e+11  9.823975e+11  \n",
       "europe         5.004713e+11  4.882412e+11  5.547081e+11  5.544644e+11  \n",
       "north-america  1.318485e+12  1.285705e+12  1.509884e+12  1.648328e+12  \n",
       "oceania        1.642347e+11  1.575450e+11  1.849354e+11  2.201789e+11  \n",
       "south-america  3.099242e+11  2.565098e+11  2.959449e+11  3.389822e+11  \n",
       "\n",
       "[6 rows x 63 columns]"
      ]
     },
     "execution_count": 23,
     "metadata": {},
     "output_type": "execute_result"
    }
   ],
   "source": [
    "df_gdp_continent=df_gdp_continent_interm.groupby('Continent').mean()\n",
    "df_gdp_continent"
   ]
  },
  {
   "cell_type": "code",
   "execution_count": 24,
   "metadata": {},
   "outputs": [
    {
     "data": {
      "text/html": [
       "<div>\n",
       "<style scoped>\n",
       "    .dataframe tbody tr th:only-of-type {\n",
       "        vertical-align: middle;\n",
       "    }\n",
       "\n",
       "    .dataframe tbody tr th {\n",
       "        vertical-align: top;\n",
       "    }\n",
       "\n",
       "    .dataframe thead th {\n",
       "        text-align: right;\n",
       "    }\n",
       "</style>\n",
       "<table border=\"1\" class=\"dataframe\">\n",
       "  <thead>\n",
       "    <tr style=\"text-align: right;\">\n",
       "      <th>Continent</th>\n",
       "      <th>index</th>\n",
       "      <th>africa</th>\n",
       "      <th>asia</th>\n",
       "      <th>europe</th>\n",
       "      <th>north-america</th>\n",
       "      <th>oceania</th>\n",
       "      <th>south-america</th>\n",
       "    </tr>\n",
       "  </thead>\n",
       "  <tbody>\n",
       "    <tr>\n",
       "      <th>0</th>\n",
       "      <td>1960</td>\n",
       "      <td>9.860273e+08</td>\n",
       "      <td>1.007897e+10</td>\n",
       "      <td>1.653736e+10</td>\n",
       "      <td>4.635959e+10</td>\n",
       "      <td>6.108811e+09</td>\n",
       "      <td>1.723152e+09</td>\n",
       "    </tr>\n",
       "    <tr>\n",
       "      <th>1</th>\n",
       "      <td>1961</td>\n",
       "      <td>9.934097e+08</td>\n",
       "      <td>1.026421e+10</td>\n",
       "      <td>1.799943e+10</td>\n",
       "      <td>4.804421e+10</td>\n",
       "      <td>6.428692e+09</td>\n",
       "      <td>1.917584e+09</td>\n",
       "    </tr>\n",
       "    <tr>\n",
       "      <th>2</th>\n",
       "      <td>1962</td>\n",
       "      <td>1.045550e+09</td>\n",
       "      <td>1.059040e+10</td>\n",
       "      <td>1.963547e+10</td>\n",
       "      <td>5.148417e+10</td>\n",
       "      <td>6.596037e+09</td>\n",
       "      <td>2.089098e+09</td>\n",
       "    </tr>\n",
       "    <tr>\n",
       "      <th>3</th>\n",
       "      <td>1963</td>\n",
       "      <td>1.145379e+09</td>\n",
       "      <td>1.189894e+10</td>\n",
       "      <td>2.166625e+10</td>\n",
       "      <td>5.446337e+10</td>\n",
       "      <td>7.146051e+09</td>\n",
       "      <td>2.083551e+09</td>\n",
       "    </tr>\n",
       "    <tr>\n",
       "      <th>4</th>\n",
       "      <td>1964</td>\n",
       "      <td>1.245682e+09</td>\n",
       "      <td>1.367347e+10</td>\n",
       "      <td>2.398202e+10</td>\n",
       "      <td>5.871503e+10</td>\n",
       "      <td>7.880153e+09</td>\n",
       "      <td>2.431436e+09</td>\n",
       "    </tr>\n",
       "    <tr>\n",
       "      <th>...</th>\n",
       "      <td>...</td>\n",
       "      <td>...</td>\n",
       "      <td>...</td>\n",
       "      <td>...</td>\n",
       "      <td>...</td>\n",
       "      <td>...</td>\n",
       "      <td>...</td>\n",
       "    </tr>\n",
       "    <tr>\n",
       "      <th>58</th>\n",
       "      <td>2018</td>\n",
       "      <td>4.734631e+10</td>\n",
       "      <td>7.712460e+11</td>\n",
       "      <td>5.083746e+11</td>\n",
       "      <td>1.269257e+12</td>\n",
       "      <td>1.675625e+11</td>\n",
       "      <td>3.233153e+11</td>\n",
       "    </tr>\n",
       "    <tr>\n",
       "      <th>59</th>\n",
       "      <td>2019</td>\n",
       "      <td>4.821214e+10</td>\n",
       "      <td>7.887185e+11</td>\n",
       "      <td>5.004713e+11</td>\n",
       "      <td>1.318485e+12</td>\n",
       "      <td>1.642347e+11</td>\n",
       "      <td>3.099242e+11</td>\n",
       "    </tr>\n",
       "    <tr>\n",
       "      <th>60</th>\n",
       "      <td>2020</td>\n",
       "      <td>4.457403e+10</td>\n",
       "      <td>7.796188e+11</td>\n",
       "      <td>4.882412e+11</td>\n",
       "      <td>1.285705e+12</td>\n",
       "      <td>1.575450e+11</td>\n",
       "      <td>2.565098e+11</td>\n",
       "    </tr>\n",
       "    <tr>\n",
       "      <th>61</th>\n",
       "      <td>2021</td>\n",
       "      <td>4.994958e+10</td>\n",
       "      <td>8.968886e+11</td>\n",
       "      <td>5.547081e+11</td>\n",
       "      <td>1.509884e+12</td>\n",
       "      <td>1.849354e+11</td>\n",
       "      <td>2.959449e+11</td>\n",
       "    </tr>\n",
       "    <tr>\n",
       "      <th>62</th>\n",
       "      <td>2022</td>\n",
       "      <td>5.331997e+10</td>\n",
       "      <td>9.823975e+11</td>\n",
       "      <td>5.544644e+11</td>\n",
       "      <td>1.648328e+12</td>\n",
       "      <td>2.201789e+11</td>\n",
       "      <td>3.389822e+11</td>\n",
       "    </tr>\n",
       "  </tbody>\n",
       "</table>\n",
       "<p>63 rows × 7 columns</p>\n",
       "</div>"
      ],
      "text/plain": [
       "Continent index        africa          asia        europe  north-america  \\\n",
       "0          1960  9.860273e+08  1.007897e+10  1.653736e+10   4.635959e+10   \n",
       "1          1961  9.934097e+08  1.026421e+10  1.799943e+10   4.804421e+10   \n",
       "2          1962  1.045550e+09  1.059040e+10  1.963547e+10   5.148417e+10   \n",
       "3          1963  1.145379e+09  1.189894e+10  2.166625e+10   5.446337e+10   \n",
       "4          1964  1.245682e+09  1.367347e+10  2.398202e+10   5.871503e+10   \n",
       "..          ...           ...           ...           ...            ...   \n",
       "58         2018  4.734631e+10  7.712460e+11  5.083746e+11   1.269257e+12   \n",
       "59         2019  4.821214e+10  7.887185e+11  5.004713e+11   1.318485e+12   \n",
       "60         2020  4.457403e+10  7.796188e+11  4.882412e+11   1.285705e+12   \n",
       "61         2021  4.994958e+10  8.968886e+11  5.547081e+11   1.509884e+12   \n",
       "62         2022  5.331997e+10  9.823975e+11  5.544644e+11   1.648328e+12   \n",
       "\n",
       "Continent       oceania  south-america  \n",
       "0          6.108811e+09   1.723152e+09  \n",
       "1          6.428692e+09   1.917584e+09  \n",
       "2          6.596037e+09   2.089098e+09  \n",
       "3          7.146051e+09   2.083551e+09  \n",
       "4          7.880153e+09   2.431436e+09  \n",
       "..                  ...            ...  \n",
       "58         1.675625e+11   3.233153e+11  \n",
       "59         1.642347e+11   3.099242e+11  \n",
       "60         1.575450e+11   2.565098e+11  \n",
       "61         1.849354e+11   2.959449e+11  \n",
       "62         2.201789e+11   3.389822e+11  \n",
       "\n",
       "[63 rows x 7 columns]"
      ]
     },
     "execution_count": 24,
     "metadata": {},
     "output_type": "execute_result"
    }
   ],
   "source": [
    "df_gdp_continentT=df_gdp_continent.transpose()\n",
    "df_gdp_continentT=df_gdp_continentT.reset_index()\n",
    "df_gdp_continentT"
   ]
  },
  {
   "cell_type": "code",
   "execution_count": 25,
   "metadata": {},
   "outputs": [
    {
     "data": {
      "application/vnd.plotly.v1+json": {
       "config": {
        "plotlyServerURL": "https://plot.ly"
       },
       "data": [
        {
         "hovertemplate": "index=%{x}<br>africa=%{y}<extra></extra>",
         "legendgroup": "",
         "line": {
          "color": "#636efa",
          "dash": "solid"
         },
         "marker": {
          "symbol": "circle"
         },
         "mode": "lines",
         "name": "",
         "orientation": "v",
         "showlegend": false,
         "type": "scatter",
         "x": [
          "1960",
          "1961",
          "1962",
          "1963",
          "1964",
          "1965",
          "1966",
          "1967",
          "1968",
          "1969",
          "1970",
          "1971",
          "1972",
          "1973",
          "1974",
          "1975",
          "1976",
          "1977",
          "1978",
          "1979",
          "1980",
          "1981",
          "1982",
          "1983",
          "1984",
          "1985",
          "1986",
          "1987",
          "1988",
          "1989",
          "1990",
          "1991",
          "1992",
          "1993",
          "1994",
          "1995",
          "1996",
          "1997",
          "1998",
          "1999",
          "2000",
          "2001",
          "2002",
          "2003",
          "2004",
          "2005",
          "2006",
          "2007",
          "2008",
          "2009",
          "2010",
          "2011",
          "2012",
          "2013",
          "2014",
          "2015",
          "2016",
          "2017",
          "2018",
          "2019",
          "2020",
          "2021",
          "2022"
         ],
         "xaxis": "x",
         "y": [
          986027299.0402728,
          993409715.1996881,
          1045550459.5838267,
          1145378709.1480958,
          1245682235.1139038,
          1336591472.9335947,
          1414315371.226789,
          1421862103.5567448,
          1524579276.7394042,
          1713717699.3873262,
          2029801959.8751125,
          2069935383.7966166,
          2380724267.573669,
          3060551635.4699335,
          4003408877.273676,
          4481627392.791752,
          4774918096.548423,
          5251165840.999789,
          5937205583.895101,
          7244191982.114324,
          8427268866.983797,
          10969378572.646708,
          10170529612.732595,
          9251953133.766245,
          8491747312.430418,
          7843931904.19109,
          8334315858.559202,
          9089042028.948326,
          9299682868.038511,
          9355912651.148632,
          11313656467.467793,
          11767847569.04731,
          10773870397.976442,
          10756042134.979969,
          10831388706.742785,
          13110466902.20542,
          14590183910.754961,
          15226452060.231958,
          15433769659.2195,
          12093870655.244244,
          12436555244.97081,
          12000829592.479076,
          12617558763.034945,
          15749469269.369003,
          19364935445.94474,
          22839541467.083973,
          26791588126.729366,
          30940063553.130085,
          35216452735.52711,
          32985411678.950054,
          38765319067.38352,
          43123532816.03194,
          46446720715.69578,
          47656363645.72011,
          49212500902.24029,
          43654739001.84148,
          41875622578.23961,
          45406478404.33692,
          47346308109.74335,
          48212138007.92715,
          44574030334.08835,
          49949582136.09727,
          53319965872.965744
         ],
         "yaxis": "y"
        },
        {
         "mode": "lines",
         "name": "africa",
         "type": "scatter",
         "x": [
          "1960",
          "1961",
          "1962",
          "1963",
          "1964",
          "1965",
          "1966",
          "1967",
          "1968",
          "1969",
          "1970",
          "1971",
          "1972",
          "1973",
          "1974",
          "1975",
          "1976",
          "1977",
          "1978",
          "1979",
          "1980",
          "1981",
          "1982",
          "1983",
          "1984",
          "1985",
          "1986",
          "1987",
          "1988",
          "1989",
          "1990",
          "1991",
          "1992",
          "1993",
          "1994",
          "1995",
          "1996",
          "1997",
          "1998",
          "1999",
          "2000",
          "2001",
          "2002",
          "2003",
          "2004",
          "2005",
          "2006",
          "2007",
          "2008",
          "2009",
          "2010",
          "2011",
          "2012",
          "2013",
          "2014",
          "2015",
          "2016",
          "2017",
          "2018",
          "2019",
          "2020",
          "2021",
          "2022"
         ],
         "y": [
          986027299.0402728,
          993409715.1996881,
          1045550459.5838267,
          1145378709.1480958,
          1245682235.1139038,
          1336591472.9335947,
          1414315371.226789,
          1421862103.5567448,
          1524579276.7394042,
          1713717699.3873262,
          2029801959.8751125,
          2069935383.7966166,
          2380724267.573669,
          3060551635.4699335,
          4003408877.273676,
          4481627392.791752,
          4774918096.548423,
          5251165840.999789,
          5937205583.895101,
          7244191982.114324,
          8427268866.983797,
          10969378572.646708,
          10170529612.732595,
          9251953133.766245,
          8491747312.430418,
          7843931904.19109,
          8334315858.559202,
          9089042028.948326,
          9299682868.038511,
          9355912651.148632,
          11313656467.467793,
          11767847569.04731,
          10773870397.976442,
          10756042134.979969,
          10831388706.742785,
          13110466902.20542,
          14590183910.754961,
          15226452060.231958,
          15433769659.2195,
          12093870655.244244,
          12436555244.97081,
          12000829592.479076,
          12617558763.034945,
          15749469269.369003,
          19364935445.94474,
          22839541467.083973,
          26791588126.729366,
          30940063553.130085,
          35216452735.52711,
          32985411678.950054,
          38765319067.38352,
          43123532816.03194,
          46446720715.69578,
          47656363645.72011,
          49212500902.24029,
          43654739001.84148,
          41875622578.23961,
          45406478404.33692,
          47346308109.74335,
          48212138007.92715,
          44574030334.08835,
          49949582136.09727,
          53319965872.965744
         ]
        },
        {
         "mode": "lines",
         "name": "asia",
         "type": "scatter",
         "x": [
          "1960",
          "1961",
          "1962",
          "1963",
          "1964",
          "1965",
          "1966",
          "1967",
          "1968",
          "1969",
          "1970",
          "1971",
          "1972",
          "1973",
          "1974",
          "1975",
          "1976",
          "1977",
          "1978",
          "1979",
          "1980",
          "1981",
          "1982",
          "1983",
          "1984",
          "1985",
          "1986",
          "1987",
          "1988",
          "1989",
          "1990",
          "1991",
          "1992",
          "1993",
          "1994",
          "1995",
          "1996",
          "1997",
          "1998",
          "1999",
          "2000",
          "2001",
          "2002",
          "2003",
          "2004",
          "2005",
          "2006",
          "2007",
          "2008",
          "2009",
          "2010",
          "2011",
          "2012",
          "2013",
          "2014",
          "2015",
          "2016",
          "2017",
          "2018",
          "2019",
          "2020",
          "2021",
          "2022"
         ],
         "y": [
          10078965900.149717,
          10264210998.987967,
          10590398838.918287,
          11898941774.253769,
          13673466099.041578,
          13690062842.567564,
          14415710617.514627,
          15163956301.288475,
          15517953951.76129,
          17688306813.52835,
          20288782122.41343,
          22284078167.079803,
          26936757665.608414,
          34976704962.20636,
          41908487783.51754,
          44694030791.683975,
          49259586237.36385,
          58940372690.1178,
          76155467828.85956,
          85682200721.38475,
          85150632727.05138,
          87747762956.95422,
          86964632103.57605,
          91386443054.02403,
          91646722345.03598,
          92118978065.02953,
          116286324535.48402,
          132673432522.56305,
          152248964180.26535,
          156576469951.30365,
          141108462720.94455,
          150548616769.348,
          164862056715.66913,
          181861106060.2951,
          196676465721.29645,
          220831555543.78995,
          213751766004.82053,
          204856520560.07434,
          187907661317.00998,
          210026685922.22598,
          228971917536.521,
          213768475280.73083,
          212751674220.3352,
          236347587675.01416,
          266647053985.40738,
          290172953170.7818,
          313744571199.65173,
          358177512629.7567,
          412887988883.4174,
          421239999875.2764,
          494978042749.598,
          572638012553.3226,
          609286099960.5286,
          620233435525.3171,
          644659291459.5616,
          637222021287.7759,
          665085186828.3508,
          713197406234.0137,
          771245970188.8804,
          788718476650.9036,
          779618758385.9996,
          896888646564.7797,
          982397526863.8718
         ]
        },
        {
         "mode": "lines",
         "name": "europe",
         "type": "scatter",
         "x": [
          "1960",
          "1961",
          "1962",
          "1963",
          "1964",
          "1965",
          "1966",
          "1967",
          "1968",
          "1969",
          "1970",
          "1971",
          "1972",
          "1973",
          "1974",
          "1975",
          "1976",
          "1977",
          "1978",
          "1979",
          "1980",
          "1981",
          "1982",
          "1983",
          "1984",
          "1985",
          "1986",
          "1987",
          "1988",
          "1989",
          "1990",
          "1991",
          "1992",
          "1993",
          "1994",
          "1995",
          "1996",
          "1997",
          "1998",
          "1999",
          "2000",
          "2001",
          "2002",
          "2003",
          "2004",
          "2005",
          "2006",
          "2007",
          "2008",
          "2009",
          "2010",
          "2011",
          "2012",
          "2013",
          "2014",
          "2015",
          "2016",
          "2017",
          "2018",
          "2019",
          "2020",
          "2021",
          "2022"
         ],
         "y": [
          16537362016.429348,
          17999429973.434486,
          19635471984.77489,
          21666248794.495953,
          23982018159.022015,
          26126319456.34058,
          27359873474.066494,
          29437828825.626278,
          30727069241.677025,
          33979654035.72404,
          41849326983.709915,
          47345939698.418015,
          56681730154.493835,
          72003105745.12344,
          81033859769.28958,
          94511200642.72066,
          97997252334.93944,
          111029916474.80273,
          135831896903.90117,
          165677713855.4416,
          178518124850.37527,
          158436746478.00095,
          152854943024.48163,
          148323459520.87613,
          136402744825.958,
          140927804585.6213,
          193054653590.7877,
          223849370797.11868,
          249369738894.66885,
          254217003930.08212,
          275301937438.7217,
          276844932237.6015,
          291301925276.0886,
          266220788416.49258,
          273539786489.86487,
          262447994595.7807,
          267928786274.13275,
          252668267216.12244,
          260816625923.87787,
          260317796746.92554,
          236565831945.89227,
          239670888366.08975,
          261763027511.9266,
          317384870426.7855,
          366416508616.73425,
          384116550680.21436,
          410763923596.4025,
          474942667795.8561,
          515248477601.3678,
          459484899153.76624,
          458946583555.2407,
          499461712002.3543,
          472247237987.3768,
          492094136243.54803,
          506632522001.555,
          445186239349.64197,
          446980690249.89954,
          470549834733.24414,
          508374637715.859,
          500471344672.4367,
          488241239012.7122,
          554708070681.5151,
          554464366927.2896
         ]
        },
        {
         "mode": "lines",
         "name": "north-america",
         "type": "scatter",
         "x": [
          "1960",
          "1961",
          "1962",
          "1963",
          "1964",
          "1965",
          "1966",
          "1967",
          "1968",
          "1969",
          "1970",
          "1971",
          "1972",
          "1973",
          "1974",
          "1975",
          "1976",
          "1977",
          "1978",
          "1979",
          "1980",
          "1981",
          "1982",
          "1983",
          "1984",
          "1985",
          "1986",
          "1987",
          "1988",
          "1989",
          "1990",
          "1991",
          "1992",
          "1993",
          "1994",
          "1995",
          "1996",
          "1997",
          "1998",
          "1999",
          "2000",
          "2001",
          "2002",
          "2003",
          "2004",
          "2005",
          "2006",
          "2007",
          "2008",
          "2009",
          "2010",
          "2011",
          "2012",
          "2013",
          "2014",
          "2015",
          "2016",
          "2017",
          "2018",
          "2019",
          "2020",
          "2021",
          "2022"
         ],
         "y": [
          46359594071.80452,
          48044209856.247444,
          51484171647.777985,
          54463367840.8815,
          58715033076.87994,
          59247705460.302025,
          65046673160.54476,
          68926961519.02611,
          75393650789.7764,
          81751621919.09709,
          81153318648.38287,
          88437348958.92255,
          97590234875.0866,
          109522828223.45703,
          113349591823.12439,
          124225379716.74332,
          138379737891.9773,
          134780196176.45193,
          151741886213.53775,
          170569008349.1304,
          189428203777.1912,
          214021840366.31827,
          217827661261.21228,
          234148213486.54282,
          259346690281.07922,
          276943319691.5261,
          287877685733.3917,
          307140844721.86566,
          317267714455.1738,
          343891304784.97186,
          364718968481.118,
          378823267963.96893,
          399813592513.68536,
          426093704786.591,
          450821063917.1605,
          462361657068.1976,
          489352056578.4626,
          522617280042.4452,
          549606397862.73035,
          586187574735.4884,
          628915153294.1055,
          649468394118.8572,
          670190843136.4513,
          702796798649.3708,
          753491217799.3356,
          811351575499.5126,
          866631289628.8824,
          915160460327.3094,
          939800827234.5153,
          903763830868.3529,
          956505648136.2227,
          1003318640102.3585,
          1042275361708.3885,
          1079168696632.4742,
          1117313935080.7922,
          1132186906076.2625,
          1152238007659.133,
          1205254872971.4492,
          1269257458244.9197,
          1318484961772.8247,
          1285705394478.4429,
          1509884272923.3232,
          1648328204934.1182
         ]
        },
        {
         "mode": "lines",
         "name": "oceania",
         "type": "scatter",
         "x": [
          "1960",
          "1961",
          "1962",
          "1963",
          "1964",
          "1965",
          "1966",
          "1967",
          "1968",
          "1969",
          "1970",
          "1971",
          "1972",
          "1973",
          "1974",
          "1975",
          "1976",
          "1977",
          "1978",
          "1979",
          "1980",
          "1981",
          "1982",
          "1983",
          "1984",
          "1985",
          "1986",
          "1987",
          "1988",
          "1989",
          "1990",
          "1991",
          "1992",
          "1993",
          "1994",
          "1995",
          "1996",
          "1997",
          "1998",
          "1999",
          "2000",
          "2001",
          "2002",
          "2003",
          "2004",
          "2005",
          "2006",
          "2007",
          "2008",
          "2009",
          "2010",
          "2011",
          "2012",
          "2013",
          "2014",
          "2015",
          "2016",
          "2017",
          "2018",
          "2019",
          "2020",
          "2021",
          "2022"
         ],
         "y": [
          6108810557.003377,
          6428691785.391474,
          6596037483.030075,
          7146050875.573279,
          7880153237.329037,
          8030472136.822402,
          8428293397.076461,
          7406740111.387716,
          7714980846.88354,
          8641401394.867308,
          10553337147.596567,
          9026436518.80987,
          10473863454.818327,
          13074195367.488932,
          17516842335.036724,
          16052585455.084156,
          17289260090.413372,
          18331850891.811394,
          19999586518.757378,
          19912605718.151604,
          22172239647.532562,
          22832107237.6339,
          22233196589.99257,
          20581105847.584244,
          21950240609.190727,
          20941044947.696632,
          21754911827.126625,
          23477198290.487206,
          28678677922.79785,
          34919440069.192184,
          36221688135.7003,
          37469999079.941956,
          37396497151.012886,
          36643380766.44088,
          38666227387.079575,
          44002016613.430824,
          48018806386.32687,
          51022262748.92744,
          46270265782.140366,
          45522197992.23845,
          47532881880.78688,
          43953598998.58367,
          46852671014.75577,
          56331631234.378624,
          72690713914.30374,
          82019556008.06497,
          87348934351.78705,
          100748604960.0417,
          120707775904.88676,
          106724741574.69965,
          131573025875.03816,
          159210214902.56885,
          175267007995.40375,
          179732233554.00226,
          170168660564.4046,
          155989255708.37408,
          142591241206.77994,
          156563084357.33038,
          167562506335.81888,
          164234665101.5067,
          157544980230.96954,
          184935431221.86862,
          220178893304.92307
         ]
        },
        {
         "mode": "lines",
         "name": "south-america",
         "type": "scatter",
         "x": [
          "1960",
          "1961",
          "1962",
          "1963",
          "1964",
          "1965",
          "1966",
          "1967",
          "1968",
          "1969",
          "1970",
          "1971",
          "1972",
          "1973",
          "1974",
          "1975",
          "1976",
          "1977",
          "1978",
          "1979",
          "1980",
          "1981",
          "1982",
          "1983",
          "1984",
          "1985",
          "1986",
          "1987",
          "1988",
          "1989",
          "1990",
          "1991",
          "1992",
          "1993",
          "1994",
          "1995",
          "1996",
          "1997",
          "1998",
          "1999",
          "2000",
          "2001",
          "2002",
          "2003",
          "2004",
          "2005",
          "2006",
          "2007",
          "2008",
          "2009",
          "2010",
          "2011",
          "2012",
          "2013",
          "2014",
          "2015",
          "2016",
          "2017",
          "2018",
          "2019",
          "2020",
          "2021",
          "2022"
         ],
         "y": [
          1723152498.2422936,
          1917583763.806869,
          2089097701.409998,
          2083551256.1017969,
          2431436396.7122226,
          2194862225.4413605,
          2296682570.808774,
          2343148479.583206,
          2395656530.1128783,
          2738993700.392892,
          2935777156.1403227,
          3323779726.162436,
          3566559294.213491,
          4738066078.151338,
          5443624847.760969,
          4608438131.121602,
          5478989445.372268,
          6873732744.403982,
          7956388978.548114,
          10042926737.503057,
          12597258642.858015,
          14577500965.224432,
          12802902134.275719,
          21742120010.882023,
          22498897613.630577,
          18794045708.763268,
          21210418556.97878,
          23515345760.87957,
          23931604554.827538,
          56993382058.742134,
          67881772581.32864,
          69109313224.32118,
          73111954195.43535,
          79404131134.99872,
          94767069355.50122,
          118858132254.7985,
          128914550558.23618,
          136209902278.59296,
          133780998843.15591,
          105231125494.85912,
          111788772095.46454,
          101276070931.56786,
          80871236614.98389,
          88905346890.12613,
          107984750139.99916,
          137827370226.2819,
          167354037336.8819,
          206998747979.3734,
          249190218489.3672,
          242455154081.76926,
          313614560365.16754,
          372716084223.0015,
          368466585782.1086,
          374586385071.90674,
          369992399622.6292,
          305299602507.9807,
          301130754712.89886,
          341847274975.2973,
          323315326638.7433,
          309924214127.0075,
          256509784166.4453,
          295944915640.99347,
          338982195731.18317
         ]
        }
       ],
       "layout": {
        "legend": {
         "tracegroupgap": 0
        },
        "margin": {
         "t": 60
        },
        "template": {
         "data": {
          "bar": [
           {
            "error_x": {
             "color": "#2a3f5f"
            },
            "error_y": {
             "color": "#2a3f5f"
            },
            "marker": {
             "line": {
              "color": "#E5ECF6",
              "width": 0.5
             },
             "pattern": {
              "fillmode": "overlay",
              "size": 10,
              "solidity": 0.2
             }
            },
            "type": "bar"
           }
          ],
          "barpolar": [
           {
            "marker": {
             "line": {
              "color": "#E5ECF6",
              "width": 0.5
             },
             "pattern": {
              "fillmode": "overlay",
              "size": 10,
              "solidity": 0.2
             }
            },
            "type": "barpolar"
           }
          ],
          "carpet": [
           {
            "aaxis": {
             "endlinecolor": "#2a3f5f",
             "gridcolor": "white",
             "linecolor": "white",
             "minorgridcolor": "white",
             "startlinecolor": "#2a3f5f"
            },
            "baxis": {
             "endlinecolor": "#2a3f5f",
             "gridcolor": "white",
             "linecolor": "white",
             "minorgridcolor": "white",
             "startlinecolor": "#2a3f5f"
            },
            "type": "carpet"
           }
          ],
          "choropleth": [
           {
            "colorbar": {
             "outlinewidth": 0,
             "ticks": ""
            },
            "type": "choropleth"
           }
          ],
          "contour": [
           {
            "colorbar": {
             "outlinewidth": 0,
             "ticks": ""
            },
            "colorscale": [
             [
              0,
              "#0d0887"
             ],
             [
              0.1111111111111111,
              "#46039f"
             ],
             [
              0.2222222222222222,
              "#7201a8"
             ],
             [
              0.3333333333333333,
              "#9c179e"
             ],
             [
              0.4444444444444444,
              "#bd3786"
             ],
             [
              0.5555555555555556,
              "#d8576b"
             ],
             [
              0.6666666666666666,
              "#ed7953"
             ],
             [
              0.7777777777777778,
              "#fb9f3a"
             ],
             [
              0.8888888888888888,
              "#fdca26"
             ],
             [
              1,
              "#f0f921"
             ]
            ],
            "type": "contour"
           }
          ],
          "contourcarpet": [
           {
            "colorbar": {
             "outlinewidth": 0,
             "ticks": ""
            },
            "type": "contourcarpet"
           }
          ],
          "heatmap": [
           {
            "colorbar": {
             "outlinewidth": 0,
             "ticks": ""
            },
            "colorscale": [
             [
              0,
              "#0d0887"
             ],
             [
              0.1111111111111111,
              "#46039f"
             ],
             [
              0.2222222222222222,
              "#7201a8"
             ],
             [
              0.3333333333333333,
              "#9c179e"
             ],
             [
              0.4444444444444444,
              "#bd3786"
             ],
             [
              0.5555555555555556,
              "#d8576b"
             ],
             [
              0.6666666666666666,
              "#ed7953"
             ],
             [
              0.7777777777777778,
              "#fb9f3a"
             ],
             [
              0.8888888888888888,
              "#fdca26"
             ],
             [
              1,
              "#f0f921"
             ]
            ],
            "type": "heatmap"
           }
          ],
          "heatmapgl": [
           {
            "colorbar": {
             "outlinewidth": 0,
             "ticks": ""
            },
            "colorscale": [
             [
              0,
              "#0d0887"
             ],
             [
              0.1111111111111111,
              "#46039f"
             ],
             [
              0.2222222222222222,
              "#7201a8"
             ],
             [
              0.3333333333333333,
              "#9c179e"
             ],
             [
              0.4444444444444444,
              "#bd3786"
             ],
             [
              0.5555555555555556,
              "#d8576b"
             ],
             [
              0.6666666666666666,
              "#ed7953"
             ],
             [
              0.7777777777777778,
              "#fb9f3a"
             ],
             [
              0.8888888888888888,
              "#fdca26"
             ],
             [
              1,
              "#f0f921"
             ]
            ],
            "type": "heatmapgl"
           }
          ],
          "histogram": [
           {
            "marker": {
             "pattern": {
              "fillmode": "overlay",
              "size": 10,
              "solidity": 0.2
             }
            },
            "type": "histogram"
           }
          ],
          "histogram2d": [
           {
            "colorbar": {
             "outlinewidth": 0,
             "ticks": ""
            },
            "colorscale": [
             [
              0,
              "#0d0887"
             ],
             [
              0.1111111111111111,
              "#46039f"
             ],
             [
              0.2222222222222222,
              "#7201a8"
             ],
             [
              0.3333333333333333,
              "#9c179e"
             ],
             [
              0.4444444444444444,
              "#bd3786"
             ],
             [
              0.5555555555555556,
              "#d8576b"
             ],
             [
              0.6666666666666666,
              "#ed7953"
             ],
             [
              0.7777777777777778,
              "#fb9f3a"
             ],
             [
              0.8888888888888888,
              "#fdca26"
             ],
             [
              1,
              "#f0f921"
             ]
            ],
            "type": "histogram2d"
           }
          ],
          "histogram2dcontour": [
           {
            "colorbar": {
             "outlinewidth": 0,
             "ticks": ""
            },
            "colorscale": [
             [
              0,
              "#0d0887"
             ],
             [
              0.1111111111111111,
              "#46039f"
             ],
             [
              0.2222222222222222,
              "#7201a8"
             ],
             [
              0.3333333333333333,
              "#9c179e"
             ],
             [
              0.4444444444444444,
              "#bd3786"
             ],
             [
              0.5555555555555556,
              "#d8576b"
             ],
             [
              0.6666666666666666,
              "#ed7953"
             ],
             [
              0.7777777777777778,
              "#fb9f3a"
             ],
             [
              0.8888888888888888,
              "#fdca26"
             ],
             [
              1,
              "#f0f921"
             ]
            ],
            "type": "histogram2dcontour"
           }
          ],
          "mesh3d": [
           {
            "colorbar": {
             "outlinewidth": 0,
             "ticks": ""
            },
            "type": "mesh3d"
           }
          ],
          "parcoords": [
           {
            "line": {
             "colorbar": {
              "outlinewidth": 0,
              "ticks": ""
             }
            },
            "type": "parcoords"
           }
          ],
          "pie": [
           {
            "automargin": true,
            "type": "pie"
           }
          ],
          "scatter": [
           {
            "fillpattern": {
             "fillmode": "overlay",
             "size": 10,
             "solidity": 0.2
            },
            "type": "scatter"
           }
          ],
          "scatter3d": [
           {
            "line": {
             "colorbar": {
              "outlinewidth": 0,
              "ticks": ""
             }
            },
            "marker": {
             "colorbar": {
              "outlinewidth": 0,
              "ticks": ""
             }
            },
            "type": "scatter3d"
           }
          ],
          "scattercarpet": [
           {
            "marker": {
             "colorbar": {
              "outlinewidth": 0,
              "ticks": ""
             }
            },
            "type": "scattercarpet"
           }
          ],
          "scattergeo": [
           {
            "marker": {
             "colorbar": {
              "outlinewidth": 0,
              "ticks": ""
             }
            },
            "type": "scattergeo"
           }
          ],
          "scattergl": [
           {
            "marker": {
             "colorbar": {
              "outlinewidth": 0,
              "ticks": ""
             }
            },
            "type": "scattergl"
           }
          ],
          "scattermapbox": [
           {
            "marker": {
             "colorbar": {
              "outlinewidth": 0,
              "ticks": ""
             }
            },
            "type": "scattermapbox"
           }
          ],
          "scatterpolar": [
           {
            "marker": {
             "colorbar": {
              "outlinewidth": 0,
              "ticks": ""
             }
            },
            "type": "scatterpolar"
           }
          ],
          "scatterpolargl": [
           {
            "marker": {
             "colorbar": {
              "outlinewidth": 0,
              "ticks": ""
             }
            },
            "type": "scatterpolargl"
           }
          ],
          "scatterternary": [
           {
            "marker": {
             "colorbar": {
              "outlinewidth": 0,
              "ticks": ""
             }
            },
            "type": "scatterternary"
           }
          ],
          "surface": [
           {
            "colorbar": {
             "outlinewidth": 0,
             "ticks": ""
            },
            "colorscale": [
             [
              0,
              "#0d0887"
             ],
             [
              0.1111111111111111,
              "#46039f"
             ],
             [
              0.2222222222222222,
              "#7201a8"
             ],
             [
              0.3333333333333333,
              "#9c179e"
             ],
             [
              0.4444444444444444,
              "#bd3786"
             ],
             [
              0.5555555555555556,
              "#d8576b"
             ],
             [
              0.6666666666666666,
              "#ed7953"
             ],
             [
              0.7777777777777778,
              "#fb9f3a"
             ],
             [
              0.8888888888888888,
              "#fdca26"
             ],
             [
              1,
              "#f0f921"
             ]
            ],
            "type": "surface"
           }
          ],
          "table": [
           {
            "cells": {
             "fill": {
              "color": "#EBF0F8"
             },
             "line": {
              "color": "white"
             }
            },
            "header": {
             "fill": {
              "color": "#C8D4E3"
             },
             "line": {
              "color": "white"
             }
            },
            "type": "table"
           }
          ]
         },
         "layout": {
          "annotationdefaults": {
           "arrowcolor": "#2a3f5f",
           "arrowhead": 0,
           "arrowwidth": 1
          },
          "autotypenumbers": "strict",
          "coloraxis": {
           "colorbar": {
            "outlinewidth": 0,
            "ticks": ""
           }
          },
          "colorscale": {
           "diverging": [
            [
             0,
             "#8e0152"
            ],
            [
             0.1,
             "#c51b7d"
            ],
            [
             0.2,
             "#de77ae"
            ],
            [
             0.3,
             "#f1b6da"
            ],
            [
             0.4,
             "#fde0ef"
            ],
            [
             0.5,
             "#f7f7f7"
            ],
            [
             0.6,
             "#e6f5d0"
            ],
            [
             0.7,
             "#b8e186"
            ],
            [
             0.8,
             "#7fbc41"
            ],
            [
             0.9,
             "#4d9221"
            ],
            [
             1,
             "#276419"
            ]
           ],
           "sequential": [
            [
             0,
             "#0d0887"
            ],
            [
             0.1111111111111111,
             "#46039f"
            ],
            [
             0.2222222222222222,
             "#7201a8"
            ],
            [
             0.3333333333333333,
             "#9c179e"
            ],
            [
             0.4444444444444444,
             "#bd3786"
            ],
            [
             0.5555555555555556,
             "#d8576b"
            ],
            [
             0.6666666666666666,
             "#ed7953"
            ],
            [
             0.7777777777777778,
             "#fb9f3a"
            ],
            [
             0.8888888888888888,
             "#fdca26"
            ],
            [
             1,
             "#f0f921"
            ]
           ],
           "sequentialminus": [
            [
             0,
             "#0d0887"
            ],
            [
             0.1111111111111111,
             "#46039f"
            ],
            [
             0.2222222222222222,
             "#7201a8"
            ],
            [
             0.3333333333333333,
             "#9c179e"
            ],
            [
             0.4444444444444444,
             "#bd3786"
            ],
            [
             0.5555555555555556,
             "#d8576b"
            ],
            [
             0.6666666666666666,
             "#ed7953"
            ],
            [
             0.7777777777777778,
             "#fb9f3a"
            ],
            [
             0.8888888888888888,
             "#fdca26"
            ],
            [
             1,
             "#f0f921"
            ]
           ]
          },
          "colorway": [
           "#636efa",
           "#EF553B",
           "#00cc96",
           "#ab63fa",
           "#FFA15A",
           "#19d3f3",
           "#FF6692",
           "#B6E880",
           "#FF97FF",
           "#FECB52"
          ],
          "font": {
           "color": "#2a3f5f"
          },
          "geo": {
           "bgcolor": "white",
           "lakecolor": "white",
           "landcolor": "#E5ECF6",
           "showlakes": true,
           "showland": true,
           "subunitcolor": "white"
          },
          "hoverlabel": {
           "align": "left"
          },
          "hovermode": "closest",
          "mapbox": {
           "style": "light"
          },
          "paper_bgcolor": "white",
          "plot_bgcolor": "#E5ECF6",
          "polar": {
           "angularaxis": {
            "gridcolor": "white",
            "linecolor": "white",
            "ticks": ""
           },
           "bgcolor": "#E5ECF6",
           "radialaxis": {
            "gridcolor": "white",
            "linecolor": "white",
            "ticks": ""
           }
          },
          "scene": {
           "xaxis": {
            "backgroundcolor": "#E5ECF6",
            "gridcolor": "white",
            "gridwidth": 2,
            "linecolor": "white",
            "showbackground": true,
            "ticks": "",
            "zerolinecolor": "white"
           },
           "yaxis": {
            "backgroundcolor": "#E5ECF6",
            "gridcolor": "white",
            "gridwidth": 2,
            "linecolor": "white",
            "showbackground": true,
            "ticks": "",
            "zerolinecolor": "white"
           },
           "zaxis": {
            "backgroundcolor": "#E5ECF6",
            "gridcolor": "white",
            "gridwidth": 2,
            "linecolor": "white",
            "showbackground": true,
            "ticks": "",
            "zerolinecolor": "white"
           }
          },
          "shapedefaults": {
           "line": {
            "color": "#2a3f5f"
           }
          },
          "ternary": {
           "aaxis": {
            "gridcolor": "white",
            "linecolor": "white",
            "ticks": ""
           },
           "baxis": {
            "gridcolor": "white",
            "linecolor": "white",
            "ticks": ""
           },
           "bgcolor": "#E5ECF6",
           "caxis": {
            "gridcolor": "white",
            "linecolor": "white",
            "ticks": ""
           }
          },
          "title": {
           "x": 0.05
          },
          "xaxis": {
           "automargin": true,
           "gridcolor": "white",
           "linecolor": "white",
           "ticks": "",
           "title": {
            "standoff": 15
           },
           "zerolinecolor": "white",
           "zerolinewidth": 2
          },
          "yaxis": {
           "automargin": true,
           "gridcolor": "white",
           "linecolor": "white",
           "ticks": "",
           "title": {
            "standoff": 15
           },
           "zerolinecolor": "white",
           "zerolinewidth": 2
          }
         }
        },
        "title": {
         "text": "Evolution du PIB moyen par continent"
        },
        "xaxis": {
         "anchor": "y",
         "domain": [
          0,
          1
         ],
         "title": {
          "text": "Continents"
         }
        },
        "yaxis": {
         "anchor": "x",
         "domain": [
          0,
          1
         ],
         "title": {
          "text": "PIB moyen"
         }
        }
       }
      }
     },
     "metadata": {},
     "output_type": "display_data"
    }
   ],
   "source": [
    "fig = px.line(df_gdp_continentT, x=\"index\", y=\"africa\")\n",
    "for continent in df_gdp_continentT.columns[1:]:\n",
    "    fig.add_scatter(x=df_gdp_continentT[\"index\"], y=df_gdp_continentT[continent], mode='lines', name=continent)\n",
    "fig.update_layout(xaxis_title='Continents', yaxis_title='PIB moyen', title='Evolution du PIB moyen par continent')\n",
    "fig.show()"
   ]
  },
  {
   "cell_type": "code",
   "execution_count": 27,
   "metadata": {},
   "outputs": [],
   "source": [
    "# on pourrait remplacer les valeurs manquantes des pays par des ffill (val precedente ou suivante) **"
   ]
  }
 ],
 "metadata": {
  "kernelspec": {
   "display_name": "base",
   "language": "python",
   "name": "python3"
  },
  "language_info": {
   "codemirror_mode": {
    "name": "ipython",
    "version": 3
   },
   "file_extension": ".py",
   "mimetype": "text/x-python",
   "name": "python",
   "nbconvert_exporter": "python",
   "pygments_lexer": "ipython3",
   "version": "3.11.5"
  }
 },
 "nbformat": 4,
 "nbformat_minor": 2
}
