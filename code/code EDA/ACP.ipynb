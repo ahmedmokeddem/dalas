{
 "cells": [
  {
   "cell_type": "code",
   "execution_count": 21,
   "id": "19b88ada",
   "metadata": {},
   "outputs": [],
   "source": [
    "import matplotlib.pyplot as plt\n",
    "import seaborn as sns\n",
    "seaborn.set_style(\"white\")\n",
    "%matplotlib inline\n",
    "import pandas as pd\n",
    "import numpy as np\n",
    "pd.DataFrame.iteritems = pd.DataFrame.items"
   ]
  },
  {
   "cell_type": "code",
   "execution_count": 2,
   "id": "8e25f210",
   "metadata": {},
   "outputs": [
    {
     "data": {
      "text/html": [
       "<div>\n",
       "<style scoped>\n",
       "    .dataframe tbody tr th:only-of-type {\n",
       "        vertical-align: middle;\n",
       "    }\n",
       "\n",
       "    .dataframe tbody tr th {\n",
       "        vertical-align: top;\n",
       "    }\n",
       "\n",
       "    .dataframe thead th {\n",
       "        text-align: right;\n",
       "    }\n",
       "</style>\n",
       "<table border=\"1\" class=\"dataframe\">\n",
       "  <thead>\n",
       "    <tr style=\"text-align: right;\">\n",
       "      <th></th>\n",
       "      <th>Country</th>\n",
       "      <th>Notes_Musees</th>\n",
       "      <th>Nbvotes_Musees_Clean</th>\n",
       "      <th>Nb_Prixnobel</th>\n",
       "      <th>Annee_Souverainete</th>\n",
       "      <th>Nb_Univtop500</th>\n",
       "      <th>Mean_Rank_Univ</th>\n",
       "      <th>Political_Regime</th>\n",
       "      <th>Immigrationbycountry_Immigrants</th>\n",
       "      <th>Immigrationbycountry_Emigrants</th>\n",
       "      <th>...</th>\n",
       "      <th>Averageiqbycountry_Iqlynnbecker2019</th>\n",
       "      <th>Averageiqbycountry_Sourcelynnbecker2019</th>\n",
       "      <th>Averageiq_Ici2017Grade</th>\n",
       "      <th>Averageiq_Ici2017Score</th>\n",
       "      <th>Averageiqpisa2022Meanscoremathematics</th>\n",
       "      <th>Averageiqpisa2022Meanscorereading</th>\n",
       "      <th>Averageiqpisa2022Meanscorescience</th>\n",
       "      <th>Gdp_Percapita</th>\n",
       "      <th>Indice_Evolution</th>\n",
       "      <th>Nb_Foreign_Students</th>\n",
       "    </tr>\n",
       "  </thead>\n",
       "  <tbody>\n",
       "    <tr>\n",
       "      <th>0</th>\n",
       "      <td>Afghanistan</td>\n",
       "      <td>[4.5]</td>\n",
       "      <td>[574.0]</td>\n",
       "      <td>0.0</td>\n",
       "      <td>1919.0</td>\n",
       "      <td>0.0</td>\n",
       "      <td>NaN</td>\n",
       "      <td>1.0</td>\n",
       "      <td>144098.0</td>\n",
       "      <td>5853838.0</td>\n",
       "      <td>...</td>\n",
       "      <td>82.12</td>\n",
       "      <td>E</td>\n",
       "      <td>NaN</td>\n",
       "      <td>NaN</td>\n",
       "      <td>368.0</td>\n",
       "      <td>358.0</td>\n",
       "      <td>376.0</td>\n",
       "      <td>346.873954</td>\n",
       "      <td>3.303561</td>\n",
       "      <td>NaN</td>\n",
       "    </tr>\n",
       "    <tr>\n",
       "      <th>1</th>\n",
       "      <td>Albania</td>\n",
       "      <td>['4,1', '4,4', '4,6', '4,6', '4,4', '4,7', '4,...</td>\n",
       "      <td>[1000.0, 1000.0, 471.0, 1000.0, 3000.0, 259.0,...</td>\n",
       "      <td>0.0</td>\n",
       "      <td>1912.0</td>\n",
       "      <td>0.0</td>\n",
       "      <td>NaN</td>\n",
       "      <td>1.0</td>\n",
       "      <td>48810.0</td>\n",
       "      <td>1250451.0</td>\n",
       "      <td>...</td>\n",
       "      <td>81.75</td>\n",
       "      <td>E</td>\n",
       "      <td>D+</td>\n",
       "      <td>23.4</td>\n",
       "      <td>NaN</td>\n",
       "      <td>NaN</td>\n",
       "      <td>NaN</td>\n",
       "      <td>6455.209751</td>\n",
       "      <td>57.635801</td>\n",
       "      <td>NaN</td>\n",
       "    </tr>\n",
       "    <tr>\n",
       "      <th>2</th>\n",
       "      <td>Algeria</td>\n",
       "      <td>['4,4', '4,6', '4,4', '4,3', '4,7', '4,6', '4,...</td>\n",
       "      <td>[250.0, 545.0, 790.0, 199.0, 170.0, 348.0, 240...</td>\n",
       "      <td>2.0</td>\n",
       "      <td>1962.0</td>\n",
       "      <td>0.0</td>\n",
       "      <td>NaN</td>\n",
       "      <td>1.0</td>\n",
       "      <td>250378.0</td>\n",
       "      <td>2022337.0</td>\n",
       "      <td>...</td>\n",
       "      <td>76.00</td>\n",
       "      <td>E</td>\n",
       "      <td>D</td>\n",
       "      <td>19.1</td>\n",
       "      <td>378.0</td>\n",
       "      <td>401.0</td>\n",
       "      <td>406.0</td>\n",
       "      <td>3640.548936</td>\n",
       "      <td>58.718531</td>\n",
       "      <td>NaN</td>\n",
       "    </tr>\n",
       "    <tr>\n",
       "      <th>3</th>\n",
       "      <td>Andorra</td>\n",
       "      <td>['4,5', '4,5', '4,6', '4,4', '4,5', '4,7', '4,...</td>\n",
       "      <td>[383.0, 563.0, 153.0, 421.0, 193.0, 56.0, 128....</td>\n",
       "      <td>0.0</td>\n",
       "      <td>NaN</td>\n",
       "      <td>0.0</td>\n",
       "      <td>NaN</td>\n",
       "      <td>NaN</td>\n",
       "      <td>45574.0</td>\n",
       "      <td>11132.0</td>\n",
       "      <td>...</td>\n",
       "      <td>95.20</td>\n",
       "      <td>E</td>\n",
       "      <td>NaN</td>\n",
       "      <td>NaN</td>\n",
       "      <td>NaN</td>\n",
       "      <td>NaN</td>\n",
       "      <td>NaN</td>\n",
       "      <td>41655.939232</td>\n",
       "      <td>NaN</td>\n",
       "      <td>NaN</td>\n",
       "    </tr>\n",
       "    <tr>\n",
       "      <th>4</th>\n",
       "      <td>Angola</td>\n",
       "      <td>['4,8', '4,2', '4,1', '3,9', '4,3', '4,5', '4,...</td>\n",
       "      <td>[4.0, 421.0, 191.0, 116.0, 423.0, 11.0, 261.0,...</td>\n",
       "      <td>0.0</td>\n",
       "      <td>1975.0</td>\n",
       "      <td>0.0</td>\n",
       "      <td>NaN</td>\n",
       "      <td>1.0</td>\n",
       "      <td>656434.0</td>\n",
       "      <td>668066.0</td>\n",
       "      <td>...</td>\n",
       "      <td>75.10</td>\n",
       "      <td>T</td>\n",
       "      <td>NaN</td>\n",
       "      <td>NaN</td>\n",
       "      <td>487.0</td>\n",
       "      <td>498.0</td>\n",
       "      <td>507.0</td>\n",
       "      <td>1868.699719</td>\n",
       "      <td>38.136729</td>\n",
       "      <td>NaN</td>\n",
       "    </tr>\n",
       "    <tr>\n",
       "      <th>...</th>\n",
       "      <td>...</td>\n",
       "      <td>...</td>\n",
       "      <td>...</td>\n",
       "      <td>...</td>\n",
       "      <td>...</td>\n",
       "      <td>...</td>\n",
       "      <td>...</td>\n",
       "      <td>...</td>\n",
       "      <td>...</td>\n",
       "      <td>...</td>\n",
       "      <td>...</td>\n",
       "      <td>...</td>\n",
       "      <td>...</td>\n",
       "      <td>...</td>\n",
       "      <td>...</td>\n",
       "      <td>...</td>\n",
       "      <td>...</td>\n",
       "      <td>...</td>\n",
       "      <td>...</td>\n",
       "      <td>...</td>\n",
       "      <td>...</td>\n",
       "    </tr>\n",
       "    <tr>\n",
       "      <th>192</th>\n",
       "      <td>Venezuela</td>\n",
       "      <td>['4,2', '4,5', '4,4', '4,3', '4,7', '4,2', '4,...</td>\n",
       "      <td>[620.0, 266.0, 243.0, 805.0, 13.0, 314.0, 699....</td>\n",
       "      <td>1.0</td>\n",
       "      <td>1811.0</td>\n",
       "      <td>0.0</td>\n",
       "      <td>NaN</td>\n",
       "      <td>1.0</td>\n",
       "      <td>1324193.0</td>\n",
       "      <td>5415337.0</td>\n",
       "      <td>...</td>\n",
       "      <td>82.99</td>\n",
       "      <td>T</td>\n",
       "      <td>C-</td>\n",
       "      <td>26.8</td>\n",
       "      <td>NaN</td>\n",
       "      <td>NaN</td>\n",
       "      <td>NaN</td>\n",
       "      <td>17043.477492</td>\n",
       "      <td>80.016326</td>\n",
       "      <td>NaN</td>\n",
       "    </tr>\n",
       "    <tr>\n",
       "      <th>193</th>\n",
       "      <td>Vietnam</td>\n",
       "      <td>[]</td>\n",
       "      <td>[]</td>\n",
       "      <td>1.0</td>\n",
       "      <td>1945.0</td>\n",
       "      <td>0.0</td>\n",
       "      <td>NaN</td>\n",
       "      <td>0.0</td>\n",
       "      <td>76767.0</td>\n",
       "      <td>3392025.0</td>\n",
       "      <td>...</td>\n",
       "      <td>89.53</td>\n",
       "      <td>T</td>\n",
       "      <td>C-</td>\n",
       "      <td>25.1</td>\n",
       "      <td>NaN</td>\n",
       "      <td>NaN</td>\n",
       "      <td>NaN</td>\n",
       "      <td>3728.987606</td>\n",
       "      <td>47.202375</td>\n",
       "      <td>NaN</td>\n",
       "    </tr>\n",
       "    <tr>\n",
       "      <th>194</th>\n",
       "      <td>Yemen</td>\n",
       "      <td>['4.4', '4.4', '4.2', '5.0', '5.0', '4.8', '4....</td>\n",
       "      <td>[244.0, 222.0, 147.0, 2.0, 6.0, 5.0, 7.0, 4.0,...</td>\n",
       "      <td>1.0</td>\n",
       "      <td>1990.0</td>\n",
       "      <td>0.0</td>\n",
       "      <td>NaN</td>\n",
       "      <td>0.0</td>\n",
       "      <td>387113.0</td>\n",
       "      <td>1301166.0</td>\n",
       "      <td>...</td>\n",
       "      <td>62.86</td>\n",
       "      <td>T</td>\n",
       "      <td>NaN</td>\n",
       "      <td>NaN</td>\n",
       "      <td>NaN</td>\n",
       "      <td>NaN</td>\n",
       "      <td>NaN</td>\n",
       "      <td>641.196791</td>\n",
       "      <td>18.858729</td>\n",
       "      <td>NaN</td>\n",
       "    </tr>\n",
       "    <tr>\n",
       "      <th>195</th>\n",
       "      <td>Zambia</td>\n",
       "      <td>['4.3', '4.2', '3.7', '4.3', '3.8', '3.9', '3....</td>\n",
       "      <td>[371.0, 1000.0, 230.0, 94.0, 155.0, 442.0, 12....</td>\n",
       "      <td>0.0</td>\n",
       "      <td>1964.0</td>\n",
       "      <td>0.0</td>\n",
       "      <td>NaN</td>\n",
       "      <td>1.0</td>\n",
       "      <td>187955.0</td>\n",
       "      <td>200700.0</td>\n",
       "      <td>...</td>\n",
       "      <td>68.43</td>\n",
       "      <td>E</td>\n",
       "      <td>D</td>\n",
       "      <td>18.9</td>\n",
       "      <td>NaN</td>\n",
       "      <td>NaN</td>\n",
       "      <td>NaN</td>\n",
       "      <td>1103.845323</td>\n",
       "      <td>18.397422</td>\n",
       "      <td>NaN</td>\n",
       "    </tr>\n",
       "    <tr>\n",
       "      <th>196</th>\n",
       "      <td>Zimbabwe</td>\n",
       "      <td>['3.8', '4.1', '4.3', '3.8', '4.1', '4.0', '4....</td>\n",
       "      <td>[483.0, 38.0, 391.0, 319.0, 311.0, 786.0, 56.0...</td>\n",
       "      <td>0.0</td>\n",
       "      <td>1965.0</td>\n",
       "      <td>0.0</td>\n",
       "      <td>NaN</td>\n",
       "      <td>1.0</td>\n",
       "      <td>416141.0</td>\n",
       "      <td>1243314.0</td>\n",
       "      <td>...</td>\n",
       "      <td>74.01</td>\n",
       "      <td>T</td>\n",
       "      <td>D-</td>\n",
       "      <td>11.7</td>\n",
       "      <td>NaN</td>\n",
       "      <td>NaN</td>\n",
       "      <td>NaN</td>\n",
       "      <td>1738.376542</td>\n",
       "      <td>29.464009</td>\n",
       "      <td>NaN</td>\n",
       "    </tr>\n",
       "  </tbody>\n",
       "</table>\n",
       "<p>197 rows × 36 columns</p>\n",
       "</div>"
      ],
      "text/plain": [
       "         Country                                       Notes_Musees  \\\n",
       "0    Afghanistan                                              [4.5]   \n",
       "1        Albania  ['4,1', '4,4', '4,6', '4,6', '4,4', '4,7', '4,...   \n",
       "2        Algeria  ['4,4', '4,6', '4,4', '4,3', '4,7', '4,6', '4,...   \n",
       "3        Andorra  ['4,5', '4,5', '4,6', '4,4', '4,5', '4,7', '4,...   \n",
       "4         Angola  ['4,8', '4,2', '4,1', '3,9', '4,3', '4,5', '4,...   \n",
       "..           ...                                                ...   \n",
       "192    Venezuela  ['4,2', '4,5', '4,4', '4,3', '4,7', '4,2', '4,...   \n",
       "193      Vietnam                                                 []   \n",
       "194        Yemen  ['4.4', '4.4', '4.2', '5.0', '5.0', '4.8', '4....   \n",
       "195       Zambia  ['4.3', '4.2', '3.7', '4.3', '3.8', '3.9', '3....   \n",
       "196     Zimbabwe  ['3.8', '4.1', '4.3', '3.8', '4.1', '4.0', '4....   \n",
       "\n",
       "                                  Nbvotes_Musees_Clean  Nb_Prixnobel  \\\n",
       "0                                              [574.0]           0.0   \n",
       "1    [1000.0, 1000.0, 471.0, 1000.0, 3000.0, 259.0,...           0.0   \n",
       "2    [250.0, 545.0, 790.0, 199.0, 170.0, 348.0, 240...           2.0   \n",
       "3    [383.0, 563.0, 153.0, 421.0, 193.0, 56.0, 128....           0.0   \n",
       "4    [4.0, 421.0, 191.0, 116.0, 423.0, 11.0, 261.0,...           0.0   \n",
       "..                                                 ...           ...   \n",
       "192  [620.0, 266.0, 243.0, 805.0, 13.0, 314.0, 699....           1.0   \n",
       "193                                                 []           1.0   \n",
       "194  [244.0, 222.0, 147.0, 2.0, 6.0, 5.0, 7.0, 4.0,...           1.0   \n",
       "195  [371.0, 1000.0, 230.0, 94.0, 155.0, 442.0, 12....           0.0   \n",
       "196  [483.0, 38.0, 391.0, 319.0, 311.0, 786.0, 56.0...           0.0   \n",
       "\n",
       "     Annee_Souverainete  Nb_Univtop500  Mean_Rank_Univ  Political_Regime  \\\n",
       "0                1919.0            0.0             NaN               1.0   \n",
       "1                1912.0            0.0             NaN               1.0   \n",
       "2                1962.0            0.0             NaN               1.0   \n",
       "3                   NaN            0.0             NaN               NaN   \n",
       "4                1975.0            0.0             NaN               1.0   \n",
       "..                  ...            ...             ...               ...   \n",
       "192              1811.0            0.0             NaN               1.0   \n",
       "193              1945.0            0.0             NaN               0.0   \n",
       "194              1990.0            0.0             NaN               0.0   \n",
       "195              1964.0            0.0             NaN               1.0   \n",
       "196              1965.0            0.0             NaN               1.0   \n",
       "\n",
       "     Immigrationbycountry_Immigrants  Immigrationbycountry_Emigrants  ...  \\\n",
       "0                           144098.0                       5853838.0  ...   \n",
       "1                            48810.0                       1250451.0  ...   \n",
       "2                           250378.0                       2022337.0  ...   \n",
       "3                            45574.0                         11132.0  ...   \n",
       "4                           656434.0                        668066.0  ...   \n",
       "..                               ...                             ...  ...   \n",
       "192                        1324193.0                       5415337.0  ...   \n",
       "193                          76767.0                       3392025.0  ...   \n",
       "194                         387113.0                       1301166.0  ...   \n",
       "195                         187955.0                        200700.0  ...   \n",
       "196                         416141.0                       1243314.0  ...   \n",
       "\n",
       "     Averageiqbycountry_Iqlynnbecker2019  \\\n",
       "0                                  82.12   \n",
       "1                                  81.75   \n",
       "2                                  76.00   \n",
       "3                                  95.20   \n",
       "4                                  75.10   \n",
       "..                                   ...   \n",
       "192                                82.99   \n",
       "193                                89.53   \n",
       "194                                62.86   \n",
       "195                                68.43   \n",
       "196                                74.01   \n",
       "\n",
       "     Averageiqbycountry_Sourcelynnbecker2019  Averageiq_Ici2017Grade  \\\n",
       "0                                          E                     NaN   \n",
       "1                                          E                      D+   \n",
       "2                                          E                       D   \n",
       "3                                          E                     NaN   \n",
       "4                                          T                     NaN   \n",
       "..                                       ...                     ...   \n",
       "192                                        T                      C-   \n",
       "193                                        T                      C-   \n",
       "194                                        T                     NaN   \n",
       "195                                        E                       D   \n",
       "196                                        T                      D-   \n",
       "\n",
       "     Averageiq_Ici2017Score  Averageiqpisa2022Meanscoremathematics  \\\n",
       "0                       NaN                                  368.0   \n",
       "1                      23.4                                    NaN   \n",
       "2                      19.1                                  378.0   \n",
       "3                       NaN                                    NaN   \n",
       "4                       NaN                                  487.0   \n",
       "..                      ...                                    ...   \n",
       "192                    26.8                                    NaN   \n",
       "193                    25.1                                    NaN   \n",
       "194                     NaN                                    NaN   \n",
       "195                    18.9                                    NaN   \n",
       "196                    11.7                                    NaN   \n",
       "\n",
       "     Averageiqpisa2022Meanscorereading  Averageiqpisa2022Meanscorescience  \\\n",
       "0                                358.0                              376.0   \n",
       "1                                  NaN                                NaN   \n",
       "2                                401.0                              406.0   \n",
       "3                                  NaN                                NaN   \n",
       "4                                498.0                              507.0   \n",
       "..                                 ...                                ...   \n",
       "192                                NaN                                NaN   \n",
       "193                                NaN                                NaN   \n",
       "194                                NaN                                NaN   \n",
       "195                                NaN                                NaN   \n",
       "196                                NaN                                NaN   \n",
       "\n",
       "     Gdp_Percapita  Indice_Evolution  Nb_Foreign_Students  \n",
       "0       346.873954          3.303561                  NaN  \n",
       "1      6455.209751         57.635801                  NaN  \n",
       "2      3640.548936         58.718531                  NaN  \n",
       "3     41655.939232               NaN                  NaN  \n",
       "4      1868.699719         38.136729                  NaN  \n",
       "..             ...               ...                  ...  \n",
       "192   17043.477492         80.016326                  NaN  \n",
       "193    3728.987606         47.202375                  NaN  \n",
       "194     641.196791         18.858729                  NaN  \n",
       "195    1103.845323         18.397422                  NaN  \n",
       "196    1738.376542         29.464009                  NaN  \n",
       "\n",
       "[197 rows x 36 columns]"
      ]
     },
     "execution_count": 2,
     "metadata": {},
     "output_type": "execute_result"
    }
   ],
   "source": [
    "df=pd.read_csv(\"../../datasets_merged/df_mergedFinal.csv\")\n",
    "df"
   ]
  },
  {
   "cell_type": "code",
   "execution_count": 3,
   "id": "0baa6a40",
   "metadata": {},
   "outputs": [
    {
     "data": {
      "text/html": [
       "<div>\n",
       "<style scoped>\n",
       "    .dataframe tbody tr th:only-of-type {\n",
       "        vertical-align: middle;\n",
       "    }\n",
       "\n",
       "    .dataframe tbody tr th {\n",
       "        vertical-align: top;\n",
       "    }\n",
       "\n",
       "    .dataframe thead th {\n",
       "        text-align: right;\n",
       "    }\n",
       "</style>\n",
       "<table border=\"1\" class=\"dataframe\">\n",
       "  <thead>\n",
       "    <tr style=\"text-align: right;\">\n",
       "      <th></th>\n",
       "      <th>Nb_Prixnobel</th>\n",
       "      <th>Nb_Univtop500</th>\n",
       "      <th>Mean_Rank_Univ</th>\n",
       "      <th>Immigrationbycountry_Immigrants</th>\n",
       "      <th>Immigrationbycountry_Emigrants</th>\n",
       "      <th>Primary</th>\n",
       "      <th>Lower_Secondary</th>\n",
       "      <th>End_Of_The_School_Year_Break</th>\n",
       "      <th>Literacy_Rate_2021</th>\n",
       "      <th>Global_rank_Literacy_rate</th>\n",
       "      <th>...</th>\n",
       "      <th>Education_Spending_2021</th>\n",
       "      <th>Gdp</th>\n",
       "      <th>Averageiqbycountry_Iqlynnbecker2019</th>\n",
       "      <th>Averageiq_Ici2017Score</th>\n",
       "      <th>Averageiqpisa2022Meanscoremathematics</th>\n",
       "      <th>Averageiqpisa2022Meanscorereading</th>\n",
       "      <th>Averageiqpisa2022Meanscorescience</th>\n",
       "      <th>Gdp_Percapita</th>\n",
       "      <th>Indice_Evolution</th>\n",
       "      <th>Nb_Foreign_Students</th>\n",
       "    </tr>\n",
       "  </thead>\n",
       "  <tbody>\n",
       "    <tr>\n",
       "      <th>0</th>\n",
       "      <td>0.0</td>\n",
       "      <td>0.0</td>\n",
       "      <td>NaN</td>\n",
       "      <td>144098.0</td>\n",
       "      <td>5853838.0</td>\n",
       "      <td>NaN</td>\n",
       "      <td>NaN</td>\n",
       "      <td>NaN</td>\n",
       "      <td>37.27</td>\n",
       "      <td>39.0</td>\n",
       "      <td>...</td>\n",
       "      <td>NaN</td>\n",
       "      <td>1.426650e+10</td>\n",
       "      <td>82.12</td>\n",
       "      <td>NaN</td>\n",
       "      <td>368.0</td>\n",
       "      <td>358.0</td>\n",
       "      <td>376.0</td>\n",
       "      <td>346.873954</td>\n",
       "      <td>3.303561</td>\n",
       "      <td>NaN</td>\n",
       "    </tr>\n",
       "    <tr>\n",
       "      <th>1</th>\n",
       "      <td>0.0</td>\n",
       "      <td>0.0</td>\n",
       "      <td>NaN</td>\n",
       "      <td>48810.0</td>\n",
       "      <td>1250451.0</td>\n",
       "      <td>NaN</td>\n",
       "      <td>NaN</td>\n",
       "      <td>NaN</td>\n",
       "      <td>NaN</td>\n",
       "      <td>NaN</td>\n",
       "      <td>...</td>\n",
       "      <td>3.09</td>\n",
       "      <td>1.793057e+10</td>\n",
       "      <td>81.75</td>\n",
       "      <td>23.4</td>\n",
       "      <td>NaN</td>\n",
       "      <td>NaN</td>\n",
       "      <td>NaN</td>\n",
       "      <td>6455.209751</td>\n",
       "      <td>57.635801</td>\n",
       "      <td>NaN</td>\n",
       "    </tr>\n",
       "    <tr>\n",
       "      <th>2</th>\n",
       "      <td>2.0</td>\n",
       "      <td>0.0</td>\n",
       "      <td>NaN</td>\n",
       "      <td>250378.0</td>\n",
       "      <td>2022337.0</td>\n",
       "      <td>NaN</td>\n",
       "      <td>NaN</td>\n",
       "      <td>NaN</td>\n",
       "      <td>NaN</td>\n",
       "      <td>NaN</td>\n",
       "      <td>...</td>\n",
       "      <td>6.30</td>\n",
       "      <td>1.634724e+11</td>\n",
       "      <td>76.00</td>\n",
       "      <td>19.1</td>\n",
       "      <td>378.0</td>\n",
       "      <td>401.0</td>\n",
       "      <td>406.0</td>\n",
       "      <td>3640.548936</td>\n",
       "      <td>58.718531</td>\n",
       "      <td>NaN</td>\n",
       "    </tr>\n",
       "    <tr>\n",
       "      <th>3</th>\n",
       "      <td>0.0</td>\n",
       "      <td>0.0</td>\n",
       "      <td>NaN</td>\n",
       "      <td>45574.0</td>\n",
       "      <td>11132.0</td>\n",
       "      <td>NaN</td>\n",
       "      <td>NaN</td>\n",
       "      <td>NaN</td>\n",
       "      <td>NaN</td>\n",
       "      <td>NaN</td>\n",
       "      <td>...</td>\n",
       "      <td>2.58</td>\n",
       "      <td>3.325144e+09</td>\n",
       "      <td>95.20</td>\n",
       "      <td>NaN</td>\n",
       "      <td>NaN</td>\n",
       "      <td>NaN</td>\n",
       "      <td>NaN</td>\n",
       "      <td>41655.939232</td>\n",
       "      <td>NaN</td>\n",
       "      <td>NaN</td>\n",
       "    </tr>\n",
       "    <tr>\n",
       "      <th>4</th>\n",
       "      <td>0.0</td>\n",
       "      <td>0.0</td>\n",
       "      <td>NaN</td>\n",
       "      <td>656434.0</td>\n",
       "      <td>668066.0</td>\n",
       "      <td>NaN</td>\n",
       "      <td>NaN</td>\n",
       "      <td>NaN</td>\n",
       "      <td>NaN</td>\n",
       "      <td>NaN</td>\n",
       "      <td>...</td>\n",
       "      <td>2.30</td>\n",
       "      <td>6.650513e+10</td>\n",
       "      <td>75.10</td>\n",
       "      <td>NaN</td>\n",
       "      <td>487.0</td>\n",
       "      <td>498.0</td>\n",
       "      <td>507.0</td>\n",
       "      <td>1868.699719</td>\n",
       "      <td>38.136729</td>\n",
       "      <td>NaN</td>\n",
       "    </tr>\n",
       "    <tr>\n",
       "      <th>...</th>\n",
       "      <td>...</td>\n",
       "      <td>...</td>\n",
       "      <td>...</td>\n",
       "      <td>...</td>\n",
       "      <td>...</td>\n",
       "      <td>...</td>\n",
       "      <td>...</td>\n",
       "      <td>...</td>\n",
       "      <td>...</td>\n",
       "      <td>...</td>\n",
       "      <td>...</td>\n",
       "      <td>...</td>\n",
       "      <td>...</td>\n",
       "      <td>...</td>\n",
       "      <td>...</td>\n",
       "      <td>...</td>\n",
       "      <td>...</td>\n",
       "      <td>...</td>\n",
       "      <td>...</td>\n",
       "      <td>...</td>\n",
       "      <td>...</td>\n",
       "    </tr>\n",
       "    <tr>\n",
       "      <th>192</th>\n",
       "      <td>1.0</td>\n",
       "      <td>0.0</td>\n",
       "      <td>NaN</td>\n",
       "      <td>1324193.0</td>\n",
       "      <td>5415337.0</td>\n",
       "      <td>NaN</td>\n",
       "      <td>NaN</td>\n",
       "      <td>NaN</td>\n",
       "      <td>NaN</td>\n",
       "      <td>NaN</td>\n",
       "      <td>...</td>\n",
       "      <td>NaN</td>\n",
       "      <td>4.823593e+11</td>\n",
       "      <td>82.99</td>\n",
       "      <td>26.8</td>\n",
       "      <td>NaN</td>\n",
       "      <td>NaN</td>\n",
       "      <td>NaN</td>\n",
       "      <td>17043.477492</td>\n",
       "      <td>80.016326</td>\n",
       "      <td>NaN</td>\n",
       "    </tr>\n",
       "    <tr>\n",
       "      <th>193</th>\n",
       "      <td>1.0</td>\n",
       "      <td>0.0</td>\n",
       "      <td>NaN</td>\n",
       "      <td>76767.0</td>\n",
       "      <td>3392025.0</td>\n",
       "      <td>NaN</td>\n",
       "      <td>NaN</td>\n",
       "      <td>NaN</td>\n",
       "      <td>NaN</td>\n",
       "      <td>NaN</td>\n",
       "      <td>...</td>\n",
       "      <td>2.95</td>\n",
       "      <td>3.661376e+11</td>\n",
       "      <td>89.53</td>\n",
       "      <td>25.1</td>\n",
       "      <td>NaN</td>\n",
       "      <td>NaN</td>\n",
       "      <td>NaN</td>\n",
       "      <td>3728.987606</td>\n",
       "      <td>47.202375</td>\n",
       "      <td>NaN</td>\n",
       "    </tr>\n",
       "    <tr>\n",
       "      <th>194</th>\n",
       "      <td>1.0</td>\n",
       "      <td>0.0</td>\n",
       "      <td>NaN</td>\n",
       "      <td>387113.0</td>\n",
       "      <td>1301166.0</td>\n",
       "      <td>NaN</td>\n",
       "      <td>NaN</td>\n",
       "      <td>NaN</td>\n",
       "      <td>NaN</td>\n",
       "      <td>NaN</td>\n",
       "      <td>...</td>\n",
       "      <td>NaN</td>\n",
       "      <td>2.160616e+10</td>\n",
       "      <td>62.86</td>\n",
       "      <td>NaN</td>\n",
       "      <td>NaN</td>\n",
       "      <td>NaN</td>\n",
       "      <td>NaN</td>\n",
       "      <td>641.196791</td>\n",
       "      <td>18.858729</td>\n",
       "      <td>NaN</td>\n",
       "    </tr>\n",
       "    <tr>\n",
       "      <th>195</th>\n",
       "      <td>0.0</td>\n",
       "      <td>0.0</td>\n",
       "      <td>NaN</td>\n",
       "      <td>187955.0</td>\n",
       "      <td>200700.0</td>\n",
       "      <td>NaN</td>\n",
       "      <td>NaN</td>\n",
       "      <td>NaN</td>\n",
       "      <td>NaN</td>\n",
       "      <td>NaN</td>\n",
       "      <td>...</td>\n",
       "      <td>3.11</td>\n",
       "      <td>2.209642e+10</td>\n",
       "      <td>68.43</td>\n",
       "      <td>18.9</td>\n",
       "      <td>NaN</td>\n",
       "      <td>NaN</td>\n",
       "      <td>NaN</td>\n",
       "      <td>1103.845323</td>\n",
       "      <td>18.397422</td>\n",
       "      <td>NaN</td>\n",
       "    </tr>\n",
       "    <tr>\n",
       "      <th>196</th>\n",
       "      <td>0.0</td>\n",
       "      <td>0.0</td>\n",
       "      <td>NaN</td>\n",
       "      <td>416141.0</td>\n",
       "      <td>1243314.0</td>\n",
       "      <td>NaN</td>\n",
       "      <td>NaN</td>\n",
       "      <td>NaN</td>\n",
       "      <td>NaN</td>\n",
       "      <td>NaN</td>\n",
       "      <td>...</td>\n",
       "      <td>NaN</td>\n",
       "      <td>2.837124e+10</td>\n",
       "      <td>74.01</td>\n",
       "      <td>11.7</td>\n",
       "      <td>NaN</td>\n",
       "      <td>NaN</td>\n",
       "      <td>NaN</td>\n",
       "      <td>1738.376542</td>\n",
       "      <td>29.464009</td>\n",
       "      <td>NaN</td>\n",
       "    </tr>\n",
       "  </tbody>\n",
       "</table>\n",
       "<p>197 rows × 23 columns</p>\n",
       "</div>"
      ],
      "text/plain": [
       "     Nb_Prixnobel  Nb_Univtop500  Mean_Rank_Univ  \\\n",
       "0             0.0            0.0             NaN   \n",
       "1             0.0            0.0             NaN   \n",
       "2             2.0            0.0             NaN   \n",
       "3             0.0            0.0             NaN   \n",
       "4             0.0            0.0             NaN   \n",
       "..            ...            ...             ...   \n",
       "192           1.0            0.0             NaN   \n",
       "193           1.0            0.0             NaN   \n",
       "194           1.0            0.0             NaN   \n",
       "195           0.0            0.0             NaN   \n",
       "196           0.0            0.0             NaN   \n",
       "\n",
       "     Immigrationbycountry_Immigrants  Immigrationbycountry_Emigrants  Primary  \\\n",
       "0                           144098.0                       5853838.0      NaN   \n",
       "1                            48810.0                       1250451.0      NaN   \n",
       "2                           250378.0                       2022337.0      NaN   \n",
       "3                            45574.0                         11132.0      NaN   \n",
       "4                           656434.0                        668066.0      NaN   \n",
       "..                               ...                             ...      ...   \n",
       "192                        1324193.0                       5415337.0      NaN   \n",
       "193                          76767.0                       3392025.0      NaN   \n",
       "194                         387113.0                       1301166.0      NaN   \n",
       "195                         187955.0                        200700.0      NaN   \n",
       "196                         416141.0                       1243314.0      NaN   \n",
       "\n",
       "     Lower_Secondary  End_Of_The_School_Year_Break  Literacy_Rate_2021  \\\n",
       "0                NaN                           NaN               37.27   \n",
       "1                NaN                           NaN                 NaN   \n",
       "2                NaN                           NaN                 NaN   \n",
       "3                NaN                           NaN                 NaN   \n",
       "4                NaN                           NaN                 NaN   \n",
       "..               ...                           ...                 ...   \n",
       "192              NaN                           NaN                 NaN   \n",
       "193              NaN                           NaN                 NaN   \n",
       "194              NaN                           NaN                 NaN   \n",
       "195              NaN                           NaN                 NaN   \n",
       "196              NaN                           NaN                 NaN   \n",
       "\n",
       "     Global_rank_Literacy_rate  ...  Education_Spending_2021           Gdp  \\\n",
       "0                         39.0  ...                      NaN  1.426650e+10   \n",
       "1                          NaN  ...                     3.09  1.793057e+10   \n",
       "2                          NaN  ...                     6.30  1.634724e+11   \n",
       "3                          NaN  ...                     2.58  3.325144e+09   \n",
       "4                          NaN  ...                     2.30  6.650513e+10   \n",
       "..                         ...  ...                      ...           ...   \n",
       "192                        NaN  ...                      NaN  4.823593e+11   \n",
       "193                        NaN  ...                     2.95  3.661376e+11   \n",
       "194                        NaN  ...                      NaN  2.160616e+10   \n",
       "195                        NaN  ...                     3.11  2.209642e+10   \n",
       "196                        NaN  ...                      NaN  2.837124e+10   \n",
       "\n",
       "     Averageiqbycountry_Iqlynnbecker2019  Averageiq_Ici2017Score  \\\n",
       "0                                  82.12                     NaN   \n",
       "1                                  81.75                    23.4   \n",
       "2                                  76.00                    19.1   \n",
       "3                                  95.20                     NaN   \n",
       "4                                  75.10                     NaN   \n",
       "..                                   ...                     ...   \n",
       "192                                82.99                    26.8   \n",
       "193                                89.53                    25.1   \n",
       "194                                62.86                     NaN   \n",
       "195                                68.43                    18.9   \n",
       "196                                74.01                    11.7   \n",
       "\n",
       "     Averageiqpisa2022Meanscoremathematics  Averageiqpisa2022Meanscorereading  \\\n",
       "0                                    368.0                              358.0   \n",
       "1                                      NaN                                NaN   \n",
       "2                                    378.0                              401.0   \n",
       "3                                      NaN                                NaN   \n",
       "4                                    487.0                              498.0   \n",
       "..                                     ...                                ...   \n",
       "192                                    NaN                                NaN   \n",
       "193                                    NaN                                NaN   \n",
       "194                                    NaN                                NaN   \n",
       "195                                    NaN                                NaN   \n",
       "196                                    NaN                                NaN   \n",
       "\n",
       "     Averageiqpisa2022Meanscorescience  Gdp_Percapita  Indice_Evolution  \\\n",
       "0                                376.0     346.873954          3.303561   \n",
       "1                                  NaN    6455.209751         57.635801   \n",
       "2                                406.0    3640.548936         58.718531   \n",
       "3                                  NaN   41655.939232               NaN   \n",
       "4                                507.0    1868.699719         38.136729   \n",
       "..                                 ...            ...               ...   \n",
       "192                                NaN   17043.477492         80.016326   \n",
       "193                                NaN    3728.987606         47.202375   \n",
       "194                                NaN     641.196791         18.858729   \n",
       "195                                NaN    1103.845323         18.397422   \n",
       "196                                NaN    1738.376542         29.464009   \n",
       "\n",
       "     Nb_Foreign_Students  \n",
       "0                    NaN  \n",
       "1                    NaN  \n",
       "2                    NaN  \n",
       "3                    NaN  \n",
       "4                    NaN  \n",
       "..                   ...  \n",
       "192                  NaN  \n",
       "193                  NaN  \n",
       "194                  NaN  \n",
       "195                  NaN  \n",
       "196                  NaN  \n",
       "\n",
       "[197 rows x 23 columns]"
      ]
     },
     "execution_count": 3,
     "metadata": {},
     "output_type": "execute_result"
    }
   ],
   "source": [
    "numerical_columns = df.select_dtypes(include=['number'])\n",
    "ds=numerical_columns.drop(columns=['Annee_Souverainete','Break_1','Break_2', 'Break_3', 'Break_4', 'Break_5','Political_Regime'])\n",
    "ds"
   ]
  },
  {
   "cell_type": "code",
   "execution_count": 4,
   "id": "7c879d15",
   "metadata": {},
   "outputs": [
    {
     "data": {
      "text/plain": [
       "Nb_Prixnobel                             197.0\n",
       "Nb_Univtop500                            197.0\n",
       "Mean_Rank_Univ                            58.0\n",
       "Immigrationbycountry_Immigrants          192.0\n",
       "Immigrationbycountry_Emigrants           192.0\n",
       "Primary                                   38.0\n",
       "Lower_Secondary                           38.0\n",
       "End_Of_The_School_Year_Break              33.0\n",
       "Literacy_Rate_2021                        38.0\n",
       "Global_rank_Literacy_rate                 38.0\n",
       "Area                                     190.0\n",
       "Nb_graduates                              29.0\n",
       "Population                               192.0\n",
       "Education_Spending_2021                  138.0\n",
       "Gdp                                      191.0\n",
       "Averageiqbycountry_Iqlynnbecker2019      197.0\n",
       "Averageiq_Ici2017Score                   127.0\n",
       "Averageiqpisa2022Meanscoremathematics     79.0\n",
       "Averageiqpisa2022Meanscorereading         79.0\n",
       "Averageiqpisa2022Meanscorescience         79.0\n",
       "Gdp_Percapita                            191.0\n",
       "Indice_Evolution                         162.0\n",
       "Nb_Foreign_Students                       36.0\n",
       "Name: count, dtype: float64"
      ]
     },
     "execution_count": 4,
     "metadata": {},
     "output_type": "execute_result"
    }
   ],
   "source": [
    "ds.describe().loc['count']"
   ]
  },
  {
   "cell_type": "code",
   "execution_count": 5,
   "id": "d6686f1b",
   "metadata": {},
   "outputs": [
    {
     "data": {
      "text/plain": [
       "['Nb_Prixnobel',\n",
       " 'Nb_Univtop500',\n",
       " 'Immigrationbycountry_Immigrants',\n",
       " 'Immigrationbycountry_Emigrants',\n",
       " 'Area',\n",
       " 'Population',\n",
       " 'Education_Spending_2021',\n",
       " 'Gdp',\n",
       " 'Averageiqbycountry_Iqlynnbecker2019',\n",
       " 'Averageiq_Ici2017Score',\n",
       " 'Gdp_Percapita',\n",
       " 'Indice_Evolution']"
      ]
     },
     "execution_count": 5,
     "metadata": {},
     "output_type": "execute_result"
    }
   ],
   "source": [
    "#garder que les variables dont au moins 100 valeurs sont renseignées:\n",
    "\n",
    "colonnes=list(ds.describe().columns[ds.describe().loc['count'] > 100])\n",
    "colonnes"
   ]
  },
  {
   "cell_type": "code",
   "execution_count": 6,
   "id": "4f3efc91",
   "metadata": {},
   "outputs": [
    {
     "data": {
      "text/html": [
       "<div>\n",
       "<style scoped>\n",
       "    .dataframe tbody tr th:only-of-type {\n",
       "        vertical-align: middle;\n",
       "    }\n",
       "\n",
       "    .dataframe tbody tr th {\n",
       "        vertical-align: top;\n",
       "    }\n",
       "\n",
       "    .dataframe thead th {\n",
       "        text-align: right;\n",
       "    }\n",
       "</style>\n",
       "<table border=\"1\" class=\"dataframe\">\n",
       "  <thead>\n",
       "    <tr style=\"text-align: right;\">\n",
       "      <th></th>\n",
       "      <th>Nb_Prixnobel</th>\n",
       "      <th>Nb_Univtop500</th>\n",
       "      <th>Immigrationbycountry_Immigrants</th>\n",
       "      <th>Immigrationbycountry_Emigrants</th>\n",
       "      <th>Area</th>\n",
       "      <th>Population</th>\n",
       "      <th>Education_Spending_2021</th>\n",
       "      <th>Gdp</th>\n",
       "      <th>Averageiqbycountry_Iqlynnbecker2019</th>\n",
       "      <th>Averageiq_Ici2017Score</th>\n",
       "      <th>Gdp_Percapita</th>\n",
       "      <th>Indice_Evolution</th>\n",
       "    </tr>\n",
       "  </thead>\n",
       "  <tbody>\n",
       "    <tr>\n",
       "      <th>1</th>\n",
       "      <td>0.0</td>\n",
       "      <td>0.0</td>\n",
       "      <td>48810.0</td>\n",
       "      <td>1250451.0</td>\n",
       "      <td>28748.0</td>\n",
       "      <td>2777689.0</td>\n",
       "      <td>3.09</td>\n",
       "      <td>1.793057e+10</td>\n",
       "      <td>81.75</td>\n",
       "      <td>23.4</td>\n",
       "      <td>6455.209751</td>\n",
       "      <td>57.635801</td>\n",
       "    </tr>\n",
       "    <tr>\n",
       "      <th>2</th>\n",
       "      <td>2.0</td>\n",
       "      <td>0.0</td>\n",
       "      <td>250378.0</td>\n",
       "      <td>2022337.0</td>\n",
       "      <td>2381741.0</td>\n",
       "      <td>44903225.0</td>\n",
       "      <td>6.30</td>\n",
       "      <td>1.634724e+11</td>\n",
       "      <td>76.00</td>\n",
       "      <td>19.1</td>\n",
       "      <td>3640.548936</td>\n",
       "      <td>58.718531</td>\n",
       "    </tr>\n",
       "    <tr>\n",
       "      <th>6</th>\n",
       "      <td>5.0</td>\n",
       "      <td>1.0</td>\n",
       "      <td>2281728.0</td>\n",
       "      <td>1076148.0</td>\n",
       "      <td>2780400.0</td>\n",
       "      <td>46234830.0</td>\n",
       "      <td>4.65</td>\n",
       "      <td>4.879026e+11</td>\n",
       "      <td>86.63</td>\n",
       "      <td>40.5</td>\n",
       "      <td>10552.706091</td>\n",
       "      <td>49.311711</td>\n",
       "    </tr>\n",
       "    <tr>\n",
       "      <th>7</th>\n",
       "      <td>1.0</td>\n",
       "      <td>0.0</td>\n",
       "      <td>190349.0</td>\n",
       "      <td>958190.0</td>\n",
       "      <td>29743.0</td>\n",
       "      <td>2780469.0</td>\n",
       "      <td>2.77</td>\n",
       "      <td>1.387891e+10</td>\n",
       "      <td>88.82</td>\n",
       "      <td>29.6</td>\n",
       "      <td>4991.571073</td>\n",
       "      <td>146.810914</td>\n",
       "    </tr>\n",
       "    <tr>\n",
       "      <th>8</th>\n",
       "      <td>14.0</td>\n",
       "      <td>27.0</td>\n",
       "      <td>7685860.0</td>\n",
       "      <td>598765.0</td>\n",
       "      <td>7741220.0</td>\n",
       "      <td>26005540.0</td>\n",
       "      <td>5.56</td>\n",
       "      <td>1.559034e+12</td>\n",
       "      <td>99.24</td>\n",
       "      <td>64.0</td>\n",
       "      <td>59950.062805</td>\n",
       "      <td>487.398885</td>\n",
       "    </tr>\n",
       "    <tr>\n",
       "      <th>...</th>\n",
       "      <td>...</td>\n",
       "      <td>...</td>\n",
       "      <td>...</td>\n",
       "      <td>...</td>\n",
       "      <td>...</td>\n",
       "      <td>...</td>\n",
       "      <td>...</td>\n",
       "      <td>...</td>\n",
       "      <td>...</td>\n",
       "      <td>...</td>\n",
       "      <td>...</td>\n",
       "      <td>...</td>\n",
       "    </tr>\n",
       "    <tr>\n",
       "      <th>186</th>\n",
       "      <td>0.0</td>\n",
       "      <td>4.0</td>\n",
       "      <td>8716332.0</td>\n",
       "      <td>203214.0</td>\n",
       "      <td>78157.0</td>\n",
       "      <td>9441129.0</td>\n",
       "      <td>3.90</td>\n",
       "      <td>4.151788e+11</td>\n",
       "      <td>82.05</td>\n",
       "      <td>35.9</td>\n",
       "      <td>43975.544955</td>\n",
       "      <td>829.727263</td>\n",
       "    </tr>\n",
       "    <tr>\n",
       "      <th>187</th>\n",
       "      <td>137.0</td>\n",
       "      <td>49.0</td>\n",
       "      <td>9359587.0</td>\n",
       "      <td>4732510.0</td>\n",
       "      <td>243610.0</td>\n",
       "      <td>66971395.0</td>\n",
       "      <td>5.33</td>\n",
       "      <td>3.141506e+12</td>\n",
       "      <td>99.12</td>\n",
       "      <td>64.2</td>\n",
       "      <td>46908.178583</td>\n",
       "      <td>147.975327</td>\n",
       "    </tr>\n",
       "    <tr>\n",
       "      <th>189</th>\n",
       "      <td>0.0</td>\n",
       "      <td>0.0</td>\n",
       "      <td>108267.0</td>\n",
       "      <td>367060.0</td>\n",
       "      <td>176215.0</td>\n",
       "      <td>3422794.0</td>\n",
       "      <td>4.41</td>\n",
       "      <td>6.141227e+10</td>\n",
       "      <td>87.59</td>\n",
       "      <td>37.9</td>\n",
       "      <td>17942.145583</td>\n",
       "      <td>90.161536</td>\n",
       "    </tr>\n",
       "    <tr>\n",
       "      <th>193</th>\n",
       "      <td>1.0</td>\n",
       "      <td>0.0</td>\n",
       "      <td>76767.0</td>\n",
       "      <td>3392025.0</td>\n",
       "      <td>331340.0</td>\n",
       "      <td>98186856.0</td>\n",
       "      <td>2.95</td>\n",
       "      <td>3.661376e+11</td>\n",
       "      <td>89.53</td>\n",
       "      <td>25.1</td>\n",
       "      <td>3728.987606</td>\n",
       "      <td>47.202375</td>\n",
       "    </tr>\n",
       "    <tr>\n",
       "      <th>195</th>\n",
       "      <td>0.0</td>\n",
       "      <td>0.0</td>\n",
       "      <td>187955.0</td>\n",
       "      <td>200700.0</td>\n",
       "      <td>752612.0</td>\n",
       "      <td>20017675.0</td>\n",
       "      <td>3.11</td>\n",
       "      <td>2.209642e+10</td>\n",
       "      <td>68.43</td>\n",
       "      <td>18.9</td>\n",
       "      <td>1103.845323</td>\n",
       "      <td>18.397422</td>\n",
       "    </tr>\n",
       "  </tbody>\n",
       "</table>\n",
       "<p>93 rows × 12 columns</p>\n",
       "</div>"
      ],
      "text/plain": [
       "     Nb_Prixnobel  Nb_Univtop500  Immigrationbycountry_Immigrants  \\\n",
       "1             0.0            0.0                          48810.0   \n",
       "2             2.0            0.0                         250378.0   \n",
       "6             5.0            1.0                        2281728.0   \n",
       "7             1.0            0.0                         190349.0   \n",
       "8            14.0           27.0                        7685860.0   \n",
       "..            ...            ...                              ...   \n",
       "186           0.0            4.0                        8716332.0   \n",
       "187         137.0           49.0                        9359587.0   \n",
       "189           0.0            0.0                         108267.0   \n",
       "193           1.0            0.0                          76767.0   \n",
       "195           0.0            0.0                         187955.0   \n",
       "\n",
       "     Immigrationbycountry_Emigrants       Area  Population  \\\n",
       "1                         1250451.0    28748.0   2777689.0   \n",
       "2                         2022337.0  2381741.0  44903225.0   \n",
       "6                         1076148.0  2780400.0  46234830.0   \n",
       "7                          958190.0    29743.0   2780469.0   \n",
       "8                          598765.0  7741220.0  26005540.0   \n",
       "..                              ...        ...         ...   \n",
       "186                        203214.0    78157.0   9441129.0   \n",
       "187                       4732510.0   243610.0  66971395.0   \n",
       "189                        367060.0   176215.0   3422794.0   \n",
       "193                       3392025.0   331340.0  98186856.0   \n",
       "195                        200700.0   752612.0  20017675.0   \n",
       "\n",
       "     Education_Spending_2021           Gdp  \\\n",
       "1                       3.09  1.793057e+10   \n",
       "2                       6.30  1.634724e+11   \n",
       "6                       4.65  4.879026e+11   \n",
       "7                       2.77  1.387891e+10   \n",
       "8                       5.56  1.559034e+12   \n",
       "..                       ...           ...   \n",
       "186                     3.90  4.151788e+11   \n",
       "187                     5.33  3.141506e+12   \n",
       "189                     4.41  6.141227e+10   \n",
       "193                     2.95  3.661376e+11   \n",
       "195                     3.11  2.209642e+10   \n",
       "\n",
       "     Averageiqbycountry_Iqlynnbecker2019  Averageiq_Ici2017Score  \\\n",
       "1                                  81.75                    23.4   \n",
       "2                                  76.00                    19.1   \n",
       "6                                  86.63                    40.5   \n",
       "7                                  88.82                    29.6   \n",
       "8                                  99.24                    64.0   \n",
       "..                                   ...                     ...   \n",
       "186                                82.05                    35.9   \n",
       "187                                99.12                    64.2   \n",
       "189                                87.59                    37.9   \n",
       "193                                89.53                    25.1   \n",
       "195                                68.43                    18.9   \n",
       "\n",
       "     Gdp_Percapita  Indice_Evolution  \n",
       "1      6455.209751         57.635801  \n",
       "2      3640.548936         58.718531  \n",
       "6     10552.706091         49.311711  \n",
       "7      4991.571073        146.810914  \n",
       "8     59950.062805        487.398885  \n",
       "..             ...               ...  \n",
       "186   43975.544955        829.727263  \n",
       "187   46908.178583        147.975327  \n",
       "189   17942.145583         90.161536  \n",
       "193    3728.987606         47.202375  \n",
       "195    1103.845323         18.397422  \n",
       "\n",
       "[93 rows x 12 columns]"
      ]
     },
     "execution_count": 6,
     "metadata": {},
     "output_type": "execute_result"
    }
   ],
   "source": [
    "ds=ds[colonnes].dropna()\n",
    "ds"
   ]
  },
  {
   "cell_type": "code",
   "execution_count": 7,
   "id": "75a507cc",
   "metadata": {},
   "outputs": [
    {
     "data": {
      "text/plain": [
       "PCA()"
      ]
     },
     "execution_count": 7,
     "metadata": {},
     "output_type": "execute_result"
    }
   ],
   "source": [
    "from sklearn.decomposition import PCA\n",
    "from sklearn.preprocessing import scale\n",
    "\n",
    "pca = PCA()\n",
    "pca.fit(ds)"
   ]
  },
  {
   "cell_type": "code",
   "execution_count": 8,
   "id": "f8f16875",
   "metadata": {},
   "outputs": [
    {
     "name": "stdout",
     "output_type": "stream",
     "text": [
      "[4.05575451e+24 1.89736441e+16 6.63876014e+12 1.87850637e+12\n",
      " 1.21822998e+12 4.61252973e+08 3.59290217e+04 1.50002488e+02\n",
      " 1.22398798e+02 3.10303582e+01 6.84035538e+00 1.78411190e+00]\n",
      "[9.99999995e-01 4.67820327e-09 1.63687425e-12 4.63170627e-13\n",
      " 3.00370738e-13 1.13728030e-16 8.85877621e-21 3.69851002e-23\n",
      " 3.01790448e-23 7.65094582e-24 1.68658022e-24 4.39896421e-25]\n"
     ]
    }
   ],
   "source": [
    "print(pca.explained_variance_)\n",
    "print(pca.explained_variance_ratio_)"
   ]
  },
  {
   "cell_type": "code",
   "execution_count": 9,
   "id": "a8f82cb9",
   "metadata": {},
   "outputs": [
    {
     "data": {
      "text/html": [
       "<div>\n",
       "<style scoped>\n",
       "    .dataframe tbody tr th:only-of-type {\n",
       "        vertical-align: middle;\n",
       "    }\n",
       "\n",
       "    .dataframe tbody tr th {\n",
       "        vertical-align: top;\n",
       "    }\n",
       "\n",
       "    .dataframe thead th {\n",
       "        text-align: right;\n",
       "    }\n",
       "</style>\n",
       "<table border=\"1\" class=\"dataframe\">\n",
       "  <thead>\n",
       "    <tr style=\"text-align: right;\">\n",
       "      <th></th>\n",
       "      <th>Dimension</th>\n",
       "      <th>Variance expliquée</th>\n",
       "      <th>% variance expliquée</th>\n",
       "      <th>% cum. var. expliquée</th>\n",
       "    </tr>\n",
       "  </thead>\n",
       "  <tbody>\n",
       "    <tr>\n",
       "      <th>0</th>\n",
       "      <td>1</td>\n",
       "      <td>4.055755e+24</td>\n",
       "      <td>1.000000e+02</td>\n",
       "      <td>100.0</td>\n",
       "    </tr>\n",
       "    <tr>\n",
       "      <th>1</th>\n",
       "      <td>2</td>\n",
       "      <td>1.897364e+16</td>\n",
       "      <td>4.678203e-07</td>\n",
       "      <td>100.0</td>\n",
       "    </tr>\n",
       "    <tr>\n",
       "      <th>2</th>\n",
       "      <td>3</td>\n",
       "      <td>6.638760e+12</td>\n",
       "      <td>1.636874e-10</td>\n",
       "      <td>100.0</td>\n",
       "    </tr>\n",
       "    <tr>\n",
       "      <th>3</th>\n",
       "      <td>4</td>\n",
       "      <td>1.878506e+12</td>\n",
       "      <td>4.631706e-11</td>\n",
       "      <td>100.0</td>\n",
       "    </tr>\n",
       "    <tr>\n",
       "      <th>4</th>\n",
       "      <td>5</td>\n",
       "      <td>1.218230e+12</td>\n",
       "      <td>3.003707e-11</td>\n",
       "      <td>100.0</td>\n",
       "    </tr>\n",
       "    <tr>\n",
       "      <th>5</th>\n",
       "      <td>6</td>\n",
       "      <td>4.612530e+08</td>\n",
       "      <td>1.137280e-14</td>\n",
       "      <td>100.0</td>\n",
       "    </tr>\n",
       "    <tr>\n",
       "      <th>6</th>\n",
       "      <td>7</td>\n",
       "      <td>3.592902e+04</td>\n",
       "      <td>8.858776e-19</td>\n",
       "      <td>100.0</td>\n",
       "    </tr>\n",
       "    <tr>\n",
       "      <th>7</th>\n",
       "      <td>8</td>\n",
       "      <td>1.500025e+02</td>\n",
       "      <td>3.698510e-21</td>\n",
       "      <td>100.0</td>\n",
       "    </tr>\n",
       "    <tr>\n",
       "      <th>8</th>\n",
       "      <td>9</td>\n",
       "      <td>1.223988e+02</td>\n",
       "      <td>3.017904e-21</td>\n",
       "      <td>100.0</td>\n",
       "    </tr>\n",
       "    <tr>\n",
       "      <th>9</th>\n",
       "      <td>10</td>\n",
       "      <td>3.103036e+01</td>\n",
       "      <td>7.650946e-22</td>\n",
       "      <td>100.0</td>\n",
       "    </tr>\n",
       "    <tr>\n",
       "      <th>10</th>\n",
       "      <td>11</td>\n",
       "      <td>6.840355e+00</td>\n",
       "      <td>1.686580e-22</td>\n",
       "      <td>100.0</td>\n",
       "    </tr>\n",
       "    <tr>\n",
       "      <th>11</th>\n",
       "      <td>12</td>\n",
       "      <td>1.784112e+00</td>\n",
       "      <td>4.398964e-23</td>\n",
       "      <td>100.0</td>\n",
       "    </tr>\n",
       "  </tbody>\n",
       "</table>\n",
       "</div>"
      ],
      "text/plain": [
       "    Dimension  Variance expliquée  % variance expliquée  % cum. var. expliquée\n",
       "0           1        4.055755e+24          1.000000e+02                  100.0\n",
       "1           2        1.897364e+16          4.678203e-07                  100.0\n",
       "2           3        6.638760e+12          1.636874e-10                  100.0\n",
       "3           4        1.878506e+12          4.631706e-11                  100.0\n",
       "4           5        1.218230e+12          3.003707e-11                  100.0\n",
       "5           6        4.612530e+08          1.137280e-14                  100.0\n",
       "6           7        3.592902e+04          8.858776e-19                  100.0\n",
       "7           8        1.500025e+02          3.698510e-21                  100.0\n",
       "8           9        1.223988e+02          3.017904e-21                  100.0\n",
       "9          10        3.103036e+01          7.650946e-22                  100.0\n",
       "10         11        6.840355e+00          1.686580e-22                  100.0\n",
       "11         12        1.784112e+00          4.398964e-23                  100.0"
      ]
     },
     "execution_count": 9,
     "metadata": {},
     "output_type": "execute_result"
    }
   ],
   "source": [
    "explained_variance = pca.explained_variance_\n",
    "explained_variance_ratio = pca.explained_variance_ratio_\n",
    "\n",
    "# Calculer le pourcentage cumulé de variance expliquée\n",
    "cumulative_variance_ratio = np.cumsum(explained_variance_ratio)\n",
    "\n",
    "# Créer un DataFrame pour stocker les résultats\n",
    "data = {\n",
    "    \"Dimension\": np.arange(1, len(explained_variance) + 1),\n",
    "    \"Variance expliquée\": explained_variance,\n",
    "    \"% variance expliquée\": explained_variance_ratio * 100,\n",
    "    \"% cum. var. expliquée\": cumulative_variance_ratio * 100\n",
    "}\n",
    "\n",
    "resume = pd.DataFrame(data)\n",
    "\n",
    "# Afficher le tableau\n",
    "resume"
   ]
  },
  {
   "cell_type": "code",
   "execution_count": 10,
   "id": "fb3189b4",
   "metadata": {},
   "outputs": [
    {
     "data": {
      "image/png": "[encoded data removed]",
      "text/plain": [
       "<Figure size 640x480 with 1 Axes>"
      ]
     },
     "metadata": {},
     "output_type": "display_data"
    }
   ],
   "source": [
    "resume.plot.bar(x = \"Dimension\", y = \"% variance expliquée\") # permet un diagramme en barres\n",
    "plt.show()"
   ]
  },
  {
   "cell_type": "markdown",
   "id": "d4f58a9a",
   "metadata": {},
   "source": [
    "# Analyse des individus (Pays)"
   ]
  },
  {
   "cell_type": "code",
   "execution_count": 11,
   "id": "3558421e",
   "metadata": {},
   "outputs": [],
   "source": [
    "ds_pca = pca.transform(ds)"
   ]
  },
  {
   "cell_type": "code",
   "execution_count": 12,
   "id": "df7b66ce",
   "metadata": {},
   "outputs": [
    {
     "data": {
      "text/html": [
       "<div>\n",
       "<style scoped>\n",
       "    .dataframe tbody tr th:only-of-type {\n",
       "        vertical-align: middle;\n",
       "    }\n",
       "\n",
       "    .dataframe tbody tr th {\n",
       "        vertical-align: top;\n",
       "    }\n",
       "\n",
       "    .dataframe thead th {\n",
       "        text-align: right;\n",
       "    }\n",
       "</style>\n",
       "<table border=\"1\" class=\"dataframe\">\n",
       "  <thead>\n",
       "    <tr style=\"text-align: right;\">\n",
       "      <th></th>\n",
       "      <th>Nb_Prixnobel</th>\n",
       "      <th>Nb_Univtop500</th>\n",
       "      <th>Immigrationbycountry_Immigrants</th>\n",
       "      <th>Immigrationbycountry_Emigrants</th>\n",
       "      <th>Area</th>\n",
       "      <th>Population</th>\n",
       "      <th>Education_Spending_2021</th>\n",
       "      <th>Gdp</th>\n",
       "      <th>Averageiqbycountry_Iqlynnbecker2019</th>\n",
       "      <th>Averageiq_Ici2017Score</th>\n",
       "      <th>Gdp_Percapita</th>\n",
       "      <th>Indice_Evolution</th>\n",
       "    </tr>\n",
       "  </thead>\n",
       "  <tbody>\n",
       "    <tr>\n",
       "      <th>1</th>\n",
       "      <td>0.0</td>\n",
       "      <td>0.0</td>\n",
       "      <td>48810.0</td>\n",
       "      <td>1250451.0</td>\n",
       "      <td>28748.0</td>\n",
       "      <td>2777689.0</td>\n",
       "      <td>3.09</td>\n",
       "      <td>1.793057e+10</td>\n",
       "      <td>81.75</td>\n",
       "      <td>23.4</td>\n",
       "      <td>6455.209751</td>\n",
       "      <td>57.635801</td>\n",
       "    </tr>\n",
       "    <tr>\n",
       "      <th>2</th>\n",
       "      <td>2.0</td>\n",
       "      <td>0.0</td>\n",
       "      <td>250378.0</td>\n",
       "      <td>2022337.0</td>\n",
       "      <td>2381741.0</td>\n",
       "      <td>44903225.0</td>\n",
       "      <td>6.30</td>\n",
       "      <td>1.634724e+11</td>\n",
       "      <td>76.00</td>\n",
       "      <td>19.1</td>\n",
       "      <td>3640.548936</td>\n",
       "      <td>58.718531</td>\n",
       "    </tr>\n",
       "    <tr>\n",
       "      <th>6</th>\n",
       "      <td>5.0</td>\n",
       "      <td>1.0</td>\n",
       "      <td>2281728.0</td>\n",
       "      <td>1076148.0</td>\n",
       "      <td>2780400.0</td>\n",
       "      <td>46234830.0</td>\n",
       "      <td>4.65</td>\n",
       "      <td>4.879026e+11</td>\n",
       "      <td>86.63</td>\n",
       "      <td>40.5</td>\n",
       "      <td>10552.706091</td>\n",
       "      <td>49.311711</td>\n",
       "    </tr>\n",
       "    <tr>\n",
       "      <th>7</th>\n",
       "      <td>1.0</td>\n",
       "      <td>0.0</td>\n",
       "      <td>190349.0</td>\n",
       "      <td>958190.0</td>\n",
       "      <td>29743.0</td>\n",
       "      <td>2780469.0</td>\n",
       "      <td>2.77</td>\n",
       "      <td>1.387891e+10</td>\n",
       "      <td>88.82</td>\n",
       "      <td>29.6</td>\n",
       "      <td>4991.571073</td>\n",
       "      <td>146.810914</td>\n",
       "    </tr>\n",
       "    <tr>\n",
       "      <th>8</th>\n",
       "      <td>14.0</td>\n",
       "      <td>27.0</td>\n",
       "      <td>7685860.0</td>\n",
       "      <td>598765.0</td>\n",
       "      <td>7741220.0</td>\n",
       "      <td>26005540.0</td>\n",
       "      <td>5.56</td>\n",
       "      <td>1.559034e+12</td>\n",
       "      <td>99.24</td>\n",
       "      <td>64.0</td>\n",
       "      <td>59950.062805</td>\n",
       "      <td>487.398885</td>\n",
       "    </tr>\n",
       "    <tr>\n",
       "      <th>...</th>\n",
       "      <td>...</td>\n",
       "      <td>...</td>\n",
       "      <td>...</td>\n",
       "      <td>...</td>\n",
       "      <td>...</td>\n",
       "      <td>...</td>\n",
       "      <td>...</td>\n",
       "      <td>...</td>\n",
       "      <td>...</td>\n",
       "      <td>...</td>\n",
       "      <td>...</td>\n",
       "      <td>...</td>\n",
       "    </tr>\n",
       "    <tr>\n",
       "      <th>186</th>\n",
       "      <td>0.0</td>\n",
       "      <td>4.0</td>\n",
       "      <td>8716332.0</td>\n",
       "      <td>203214.0</td>\n",
       "      <td>78157.0</td>\n",
       "      <td>9441129.0</td>\n",
       "      <td>3.90</td>\n",
       "      <td>4.151788e+11</td>\n",
       "      <td>82.05</td>\n",
       "      <td>35.9</td>\n",
       "      <td>43975.544955</td>\n",
       "      <td>829.727263</td>\n",
       "    </tr>\n",
       "    <tr>\n",
       "      <th>187</th>\n",
       "      <td>137.0</td>\n",
       "      <td>49.0</td>\n",
       "      <td>9359587.0</td>\n",
       "      <td>4732510.0</td>\n",
       "      <td>243610.0</td>\n",
       "      <td>66971395.0</td>\n",
       "      <td>5.33</td>\n",
       "      <td>3.141506e+12</td>\n",
       "      <td>99.12</td>\n",
       "      <td>64.2</td>\n",
       "      <td>46908.178583</td>\n",
       "      <td>147.975327</td>\n",
       "    </tr>\n",
       "    <tr>\n",
       "      <th>189</th>\n",
       "      <td>0.0</td>\n",
       "      <td>0.0</td>\n",
       "      <td>108267.0</td>\n",
       "      <td>367060.0</td>\n",
       "      <td>176215.0</td>\n",
       "      <td>3422794.0</td>\n",
       "      <td>4.41</td>\n",
       "      <td>6.141227e+10</td>\n",
       "      <td>87.59</td>\n",
       "      <td>37.9</td>\n",
       "      <td>17942.145583</td>\n",
       "      <td>90.161536</td>\n",
       "    </tr>\n",
       "    <tr>\n",
       "      <th>193</th>\n",
       "      <td>1.0</td>\n",
       "      <td>0.0</td>\n",
       "      <td>76767.0</td>\n",
       "      <td>3392025.0</td>\n",
       "      <td>331340.0</td>\n",
       "      <td>98186856.0</td>\n",
       "      <td>2.95</td>\n",
       "      <td>3.661376e+11</td>\n",
       "      <td>89.53</td>\n",
       "      <td>25.1</td>\n",
       "      <td>3728.987606</td>\n",
       "      <td>47.202375</td>\n",
       "    </tr>\n",
       "    <tr>\n",
       "      <th>195</th>\n",
       "      <td>0.0</td>\n",
       "      <td>0.0</td>\n",
       "      <td>187955.0</td>\n",
       "      <td>200700.0</td>\n",
       "      <td>752612.0</td>\n",
       "      <td>20017675.0</td>\n",
       "      <td>3.11</td>\n",
       "      <td>2.209642e+10</td>\n",
       "      <td>68.43</td>\n",
       "      <td>18.9</td>\n",
       "      <td>1103.845323</td>\n",
       "      <td>18.397422</td>\n",
       "    </tr>\n",
       "  </tbody>\n",
       "</table>\n",
       "<p>93 rows × 12 columns</p>\n",
       "</div>"
      ],
      "text/plain": [
       "     Nb_Prixnobel  Nb_Univtop500  Immigrationbycountry_Immigrants  \\\n",
       "1             0.0            0.0                          48810.0   \n",
       "2             2.0            0.0                         250378.0   \n",
       "6             5.0            1.0                        2281728.0   \n",
       "7             1.0            0.0                         190349.0   \n",
       "8            14.0           27.0                        7685860.0   \n",
       "..            ...            ...                              ...   \n",
       "186           0.0            4.0                        8716332.0   \n",
       "187         137.0           49.0                        9359587.0   \n",
       "189           0.0            0.0                         108267.0   \n",
       "193           1.0            0.0                          76767.0   \n",
       "195           0.0            0.0                         187955.0   \n",
       "\n",
       "     Immigrationbycountry_Emigrants       Area  Population  \\\n",
       "1                         1250451.0    28748.0   2777689.0   \n",
       "2                         2022337.0  2381741.0  44903225.0   \n",
       "6                         1076148.0  2780400.0  46234830.0   \n",
       "7                          958190.0    29743.0   2780469.0   \n",
       "8                          598765.0  7741220.0  26005540.0   \n",
       "..                              ...        ...         ...   \n",
       "186                        203214.0    78157.0   9441129.0   \n",
       "187                       4732510.0   243610.0  66971395.0   \n",
       "189                        367060.0   176215.0   3422794.0   \n",
       "193                       3392025.0   331340.0  98186856.0   \n",
       "195                        200700.0   752612.0  20017675.0   \n",
       "\n",
       "     Education_Spending_2021           Gdp  \\\n",
       "1                       3.09  1.793057e+10   \n",
       "2                       6.30  1.634724e+11   \n",
       "6                       4.65  4.879026e+11   \n",
       "7                       2.77  1.387891e+10   \n",
       "8                       5.56  1.559034e+12   \n",
       "..                       ...           ...   \n",
       "186                     3.90  4.151788e+11   \n",
       "187                     5.33  3.141506e+12   \n",
       "189                     4.41  6.141227e+10   \n",
       "193                     2.95  3.661376e+11   \n",
       "195                     3.11  2.209642e+10   \n",
       "\n",
       "     Averageiqbycountry_Iqlynnbecker2019  Averageiq_Ici2017Score  \\\n",
       "1                                  81.75                    23.4   \n",
       "2                                  76.00                    19.1   \n",
       "6                                  86.63                    40.5   \n",
       "7                                  88.82                    29.6   \n",
       "8                                  99.24                    64.0   \n",
       "..                                   ...                     ...   \n",
       "186                                82.05                    35.9   \n",
       "187                                99.12                    64.2   \n",
       "189                                87.59                    37.9   \n",
       "193                                89.53                    25.1   \n",
       "195                                68.43                    18.9   \n",
       "\n",
       "     Gdp_Percapita  Indice_Evolution  \n",
       "1      6455.209751         57.635801  \n",
       "2      3640.548936         58.718531  \n",
       "6     10552.706091         49.311711  \n",
       "7      4991.571073        146.810914  \n",
       "8     59950.062805        487.398885  \n",
       "..             ...               ...  \n",
       "186   43975.544955        829.727263  \n",
       "187   46908.178583        147.975327  \n",
       "189   17942.145583         90.161536  \n",
       "193    3728.987606         47.202375  \n",
       "195    1103.845323         18.397422  \n",
       "\n",
       "[93 rows x 12 columns]"
      ]
     },
     "execution_count": 12,
     "metadata": {},
     "output_type": "execute_result"
    }
   ],
   "source": [
    "ds"
   ]
  },
  {
   "cell_type": "code",
   "execution_count": 31,
   "id": "9a97137d",
   "metadata": {},
   "outputs": [],
   "source": [
    "data={\n",
    "    \"Dim1_pca\" : ds_pca[:,0],\n",
    "    \"Dim2_pca\" : ds_pca[:,1],\n",
    "    \"Country\":list(df.loc[ds.index]['Country']),\n",
    "    \"Continent\":list(df.loc[ds.index]['Continent'])\n",
    "}"
   ]
  },
  {
   "cell_type": "code",
   "execution_count": 32,
   "id": "4e63f1c7",
   "metadata": {},
   "outputs": [],
   "source": [
    "for col in df.columns:\n",
    "    if col not in ds.columns and col not in data:\n",
    "        data[col]=list(df.loc[ds.index][col])"
   ]
  },
  {
   "cell_type": "code",
   "execution_count": 33,
   "id": "2d6cb250",
   "metadata": {},
   "outputs": [
    {
     "data": {
      "text/plain": [
       "dict_keys(['Dim1_pca', 'Dim2_pca', 'Country', 'Continent', 'Notes_Musees', 'Nbvotes_Musees_Clean', 'Annee_Souverainete', 'Mean_Rank_Univ', 'Political_Regime', 'Primary', 'Lower_Secondary', 'Break_1', 'Break_2', 'Break_3', 'Break_4', 'Break_5', 'End_Of_The_School_Year_Break', 'Literacy_Rate_2021', 'Global_rank_Literacy_rate', 'Nb_graduates', 'Averageiqbycountry_Sourcelynnbecker2019', 'Averageiq_Ici2017Grade', 'Averageiqpisa2022Meanscoremathematics', 'Averageiqpisa2022Meanscorereading', 'Averageiqpisa2022Meanscorescience', 'Nb_Foreign_Students'])"
      ]
     },
     "execution_count": 33,
     "metadata": {},
     "output_type": "execute_result"
    }
   ],
   "source": [
    "data.keys()"
   ]
  },
  {
   "cell_type": "code",
   "execution_count": 34,
   "id": "f58957a3",
   "metadata": {},
   "outputs": [
    {
     "data": {
      "text/html": [
       "<div>\n",
       "<style scoped>\n",
       "    .dataframe tbody tr th:only-of-type {\n",
       "        vertical-align: middle;\n",
       "    }\n",
       "\n",
       "    .dataframe tbody tr th {\n",
       "        vertical-align: top;\n",
       "    }\n",
       "\n",
       "    .dataframe thead th {\n",
       "        text-align: right;\n",
       "    }\n",
       "</style>\n",
       "<table border=\"1\" class=\"dataframe\">\n",
       "  <thead>\n",
       "    <tr style=\"text-align: right;\">\n",
       "      <th></th>\n",
       "      <th>Dim1_pca</th>\n",
       "      <th>Dim2_pca</th>\n",
       "      <th>Country</th>\n",
       "      <th>Continent</th>\n",
       "      <th>Notes_Musees</th>\n",
       "      <th>Nbvotes_Musees_Clean</th>\n",
       "      <th>Annee_Souverainete</th>\n",
       "      <th>Mean_Rank_Univ</th>\n",
       "      <th>Political_Regime</th>\n",
       "      <th>Primary</th>\n",
       "      <th>...</th>\n",
       "      <th>End_Of_The_School_Year_Break</th>\n",
       "      <th>Literacy_Rate_2021</th>\n",
       "      <th>Global_rank_Literacy_rate</th>\n",
       "      <th>Nb_graduates</th>\n",
       "      <th>Averageiqbycountry_Sourcelynnbecker2019</th>\n",
       "      <th>Averageiq_Ici2017Grade</th>\n",
       "      <th>Averageiqpisa2022Meanscoremathematics</th>\n",
       "      <th>Averageiqpisa2022Meanscorereading</th>\n",
       "      <th>Averageiqpisa2022Meanscorescience</th>\n",
       "      <th>Nb_Foreign_Students</th>\n",
       "    </tr>\n",
       "  </thead>\n",
       "  <tbody>\n",
       "    <tr>\n",
       "      <th>0</th>\n",
       "      <td>-6.124129e+11</td>\n",
       "      <td>-1.021070e+07</td>\n",
       "      <td>Albania</td>\n",
       "      <td>europe</td>\n",
       "      <td>['4,1', '4,4', '4,6', '4,6', '4,4', '4,7', '4,...</td>\n",
       "      <td>[1000.0, 1000.0, 471.0, 1000.0, 3000.0, 259.0,...</td>\n",
       "      <td>1912.0</td>\n",
       "      <td>NaN</td>\n",
       "      <td>1.0</td>\n",
       "      <td>NaN</td>\n",
       "      <td>...</td>\n",
       "      <td>NaN</td>\n",
       "      <td>NaN</td>\n",
       "      <td>NaN</td>\n",
       "      <td>NaN</td>\n",
       "      <td>E</td>\n",
       "      <td>D+</td>\n",
       "      <td>NaN</td>\n",
       "      <td>NaN</td>\n",
       "      <td>NaN</td>\n",
       "      <td>NaN</td>\n",
       "    </tr>\n",
       "    <tr>\n",
       "      <th>1</th>\n",
       "      <td>-4.668711e+11</td>\n",
       "      <td>2.074558e+07</td>\n",
       "      <td>Algeria</td>\n",
       "      <td>africa</td>\n",
       "      <td>['4,4', '4,6', '4,4', '4,3', '4,7', '4,6', '4,...</td>\n",
       "      <td>[250.0, 545.0, 790.0, 199.0, 170.0, 348.0, 240...</td>\n",
       "      <td>1962.0</td>\n",
       "      <td>NaN</td>\n",
       "      <td>1.0</td>\n",
       "      <td>NaN</td>\n",
       "      <td>...</td>\n",
       "      <td>NaN</td>\n",
       "      <td>NaN</td>\n",
       "      <td>NaN</td>\n",
       "      <td>NaN</td>\n",
       "      <td>E</td>\n",
       "      <td>D</td>\n",
       "      <td>378.0</td>\n",
       "      <td>401.0</td>\n",
       "      <td>406.0</td>\n",
       "      <td>NaN</td>\n",
       "    </tr>\n",
       "    <tr>\n",
       "      <th>2</th>\n",
       "      <td>-1.424409e+11</td>\n",
       "      <td>-2.856833e+06</td>\n",
       "      <td>Argentina</td>\n",
       "      <td>south-america</td>\n",
       "      <td>['4,7', '4,7', '4,6', '4,7', '4,6', '4,6', '4,...</td>\n",
       "      <td>[8000.0, 31000.0, 26000.0, 14000.0, 5000.0, 33...</td>\n",
       "      <td>1810.0</td>\n",
       "      <td>95.0</td>\n",
       "      <td>2.0</td>\n",
       "      <td>NaN</td>\n",
       "      <td>...</td>\n",
       "      <td>NaN</td>\n",
       "      <td>NaN</td>\n",
       "      <td>NaN</td>\n",
       "      <td>NaN</td>\n",
       "      <td>T</td>\n",
       "      <td>B-</td>\n",
       "      <td>397.0</td>\n",
       "      <td>365.0</td>\n",
       "      <td>380.0</td>\n",
       "      <td>NaN</td>\n",
       "    </tr>\n",
       "    <tr>\n",
       "      <th>3</th>\n",
       "      <td>-6.164646e+11</td>\n",
       "      <td>-9.900731e+06</td>\n",
       "      <td>Armenia</td>\n",
       "      <td>asia</td>\n",
       "      <td>['4,4', '4,3', '4,5', '4,7', '4,7', '4,7', '4,...</td>\n",
       "      <td>[768.0, 166.0, 332.0, 624.0, 106.0, 391.0, 279...</td>\n",
       "      <td>1990.0</td>\n",
       "      <td>NaN</td>\n",
       "      <td>2.0</td>\n",
       "      <td>NaN</td>\n",
       "      <td>...</td>\n",
       "      <td>NaN</td>\n",
       "      <td>NaN</td>\n",
       "      <td>NaN</td>\n",
       "      <td>NaN</td>\n",
       "      <td>E</td>\n",
       "      <td>C-</td>\n",
       "      <td>NaN</td>\n",
       "      <td>NaN</td>\n",
       "      <td>NaN</td>\n",
       "      <td>NaN</td>\n",
       "    </tr>\n",
       "    <tr>\n",
       "      <th>4</th>\n",
       "      <td>9.286903e+11</td>\n",
       "      <td>-1.053647e+08</td>\n",
       "      <td>Australia</td>\n",
       "      <td>oceania</td>\n",
       "      <td>['4.6', '4.1', '4.5', '4.6', '4.6', '4.6', '4....</td>\n",
       "      <td>[8000.0, 2000.0, 6000.0, 5000.0, 15000.0, 1000...</td>\n",
       "      <td>1901.0</td>\n",
       "      <td>202.0</td>\n",
       "      <td>3.0</td>\n",
       "      <td>7000.0</td>\n",
       "      <td>...</td>\n",
       "      <td>6.2</td>\n",
       "      <td>NaN</td>\n",
       "      <td>NaN</td>\n",
       "      <td>271050.0</td>\n",
       "      <td>T</td>\n",
       "      <td>A</td>\n",
       "      <td>NaN</td>\n",
       "      <td>NaN</td>\n",
       "      <td>NaN</td>\n",
       "      <td>28.375</td>\n",
       "    </tr>\n",
       "    <tr>\n",
       "      <th>...</th>\n",
       "      <td>...</td>\n",
       "      <td>...</td>\n",
       "      <td>...</td>\n",
       "      <td>...</td>\n",
       "      <td>...</td>\n",
       "      <td>...</td>\n",
       "      <td>...</td>\n",
       "      <td>...</td>\n",
       "      <td>...</td>\n",
       "      <td>...</td>\n",
       "      <td>...</td>\n",
       "      <td>...</td>\n",
       "      <td>...</td>\n",
       "      <td>...</td>\n",
       "      <td>...</td>\n",
       "      <td>...</td>\n",
       "      <td>...</td>\n",
       "      <td>...</td>\n",
       "      <td>...</td>\n",
       "      <td>...</td>\n",
       "      <td>...</td>\n",
       "    </tr>\n",
       "    <tr>\n",
       "      <th>88</th>\n",
       "      <td>-2.151647e+11</td>\n",
       "      <td>-3.409573e+07</td>\n",
       "      <td>United Arab Emirates</td>\n",
       "      <td>asia</td>\n",
       "      <td>['4.6', '4.6', '4.5', '4.5', '4.6', '4.5', '4....</td>\n",
       "      <td>[2000.0, 28000.0, 27000.0, 2000.0, 4000.0, 913...</td>\n",
       "      <td>1971.0</td>\n",
       "      <td>337.0</td>\n",
       "      <td>0.0</td>\n",
       "      <td>NaN</td>\n",
       "      <td>...</td>\n",
       "      <td>NaN</td>\n",
       "      <td>98.13</td>\n",
       "      <td>18.0</td>\n",
       "      <td>NaN</td>\n",
       "      <td>T</td>\n",
       "      <td>C+</td>\n",
       "      <td>NaN</td>\n",
       "      <td>NaN</td>\n",
       "      <td>NaN</td>\n",
       "      <td>NaN</td>\n",
       "    </tr>\n",
       "    <tr>\n",
       "      <th>89</th>\n",
       "      <td>2.511163e+12</td>\n",
       "      <td>-1.859038e+08</td>\n",
       "      <td>United Kingdom</td>\n",
       "      <td>europe</td>\n",
       "      <td>['4.7', '4.7', '4.7', '4.7', '4.7', '4.7', '4....</td>\n",
       "      <td>[147000.0, 25000.0, 47000.0, 55000.0, 8000.0, ...</td>\n",
       "      <td>1707.0</td>\n",
       "      <td>199.0</td>\n",
       "      <td>3.0</td>\n",
       "      <td>NaN</td>\n",
       "      <td>...</td>\n",
       "      <td>NaN</td>\n",
       "      <td>NaN</td>\n",
       "      <td>NaN</td>\n",
       "      <td>652174.0</td>\n",
       "      <td>T</td>\n",
       "      <td>A</td>\n",
       "      <td>NaN</td>\n",
       "      <td>NaN</td>\n",
       "      <td>NaN</td>\n",
       "      <td>18.677</td>\n",
       "    </tr>\n",
       "    <tr>\n",
       "      <th>90</th>\n",
       "      <td>-5.689312e+11</td>\n",
       "      <td>-1.291588e+07</td>\n",
       "      <td>Uruguay</td>\n",
       "      <td>south-america</td>\n",
       "      <td>['4,5', '4,5', '4,6', '4,3', '4,6', '4,4', '4,...</td>\n",
       "      <td>[2000.0, 2000.0, 5000.0, 1000.0, 558.0, 1000.0...</td>\n",
       "      <td>1825.0</td>\n",
       "      <td>NaN</td>\n",
       "      <td>3.0</td>\n",
       "      <td>NaN</td>\n",
       "      <td>...</td>\n",
       "      <td>NaN</td>\n",
       "      <td>NaN</td>\n",
       "      <td>NaN</td>\n",
       "      <td>NaN</td>\n",
       "      <td>E</td>\n",
       "      <td>C+</td>\n",
       "      <td>NaN</td>\n",
       "      <td>NaN</td>\n",
       "      <td>NaN</td>\n",
       "      <td>NaN</td>\n",
       "    </tr>\n",
       "    <tr>\n",
       "      <th>91</th>\n",
       "      <td>-2.642059e+11</td>\n",
       "      <td>5.847431e+07</td>\n",
       "      <td>Vietnam</td>\n",
       "      <td>asia</td>\n",
       "      <td>[]</td>\n",
       "      <td>[]</td>\n",
       "      <td>1945.0</td>\n",
       "      <td>NaN</td>\n",
       "      <td>0.0</td>\n",
       "      <td>NaN</td>\n",
       "      <td>...</td>\n",
       "      <td>NaN</td>\n",
       "      <td>NaN</td>\n",
       "      <td>NaN</td>\n",
       "      <td>NaN</td>\n",
       "      <td>T</td>\n",
       "      <td>C-</td>\n",
       "      <td>NaN</td>\n",
       "      <td>NaN</td>\n",
       "      <td>NaN</td>\n",
       "      <td>NaN</td>\n",
       "    </tr>\n",
       "    <tr>\n",
       "      <th>92</th>\n",
       "      <td>-6.082471e+11</td>\n",
       "      <td>6.695735e+06</td>\n",
       "      <td>Zambia</td>\n",
       "      <td>africa</td>\n",
       "      <td>['4.3', '4.2', '3.7', '4.3', '3.8', '3.9', '3....</td>\n",
       "      <td>[371.0, 1000.0, 230.0, 94.0, 155.0, 442.0, 12....</td>\n",
       "      <td>1964.0</td>\n",
       "      <td>NaN</td>\n",
       "      <td>1.0</td>\n",
       "      <td>NaN</td>\n",
       "      <td>...</td>\n",
       "      <td>NaN</td>\n",
       "      <td>NaN</td>\n",
       "      <td>NaN</td>\n",
       "      <td>NaN</td>\n",
       "      <td>E</td>\n",
       "      <td>D</td>\n",
       "      <td>NaN</td>\n",
       "      <td>NaN</td>\n",
       "      <td>NaN</td>\n",
       "      <td>NaN</td>\n",
       "    </tr>\n",
       "  </tbody>\n",
       "</table>\n",
       "<p>93 rows × 26 columns</p>\n",
       "</div>"
      ],
      "text/plain": [
       "        Dim1_pca      Dim2_pca               Country      Continent  \\\n",
       "0  -6.124129e+11 -1.021070e+07               Albania         europe   \n",
       "1  -4.668711e+11  2.074558e+07               Algeria         africa   \n",
       "2  -1.424409e+11 -2.856833e+06             Argentina  south-america   \n",
       "3  -6.164646e+11 -9.900731e+06               Armenia           asia   \n",
       "4   9.286903e+11 -1.053647e+08             Australia        oceania   \n",
       "..           ...           ...                   ...            ...   \n",
       "88 -2.151647e+11 -3.409573e+07  United Arab Emirates           asia   \n",
       "89  2.511163e+12 -1.859038e+08        United Kingdom         europe   \n",
       "90 -5.689312e+11 -1.291588e+07               Uruguay  south-america   \n",
       "91 -2.642059e+11  5.847431e+07               Vietnam           asia   \n",
       "92 -6.082471e+11  6.695735e+06                Zambia         africa   \n",
       "\n",
       "                                         Notes_Musees  \\\n",
       "0   ['4,1', '4,4', '4,6', '4,6', '4,4', '4,7', '4,...   \n",
       "1   ['4,4', '4,6', '4,4', '4,3', '4,7', '4,6', '4,...   \n",
       "2   ['4,7', '4,7', '4,6', '4,7', '4,6', '4,6', '4,...   \n",
       "3   ['4,4', '4,3', '4,5', '4,7', '4,7', '4,7', '4,...   \n",
       "4   ['4.6', '4.1', '4.5', '4.6', '4.6', '4.6', '4....   \n",
       "..                                                ...   \n",
       "88  ['4.6', '4.6', '4.5', '4.5', '4.6', '4.5', '4....   \n",
       "89  ['4.7', '4.7', '4.7', '4.7', '4.7', '4.7', '4....   \n",
       "90  ['4,5', '4,5', '4,6', '4,3', '4,6', '4,4', '4,...   \n",
       "91                                                 []   \n",
       "92  ['4.3', '4.2', '3.7', '4.3', '3.8', '3.9', '3....   \n",
       "\n",
       "                                 Nbvotes_Musees_Clean  Annee_Souverainete  \\\n",
       "0   [1000.0, 1000.0, 471.0, 1000.0, 3000.0, 259.0,...              1912.0   \n",
       "1   [250.0, 545.0, 790.0, 199.0, 170.0, 348.0, 240...              1962.0   \n",
       "2   [8000.0, 31000.0, 26000.0, 14000.0, 5000.0, 33...              1810.0   \n",
       "3   [768.0, 166.0, 332.0, 624.0, 106.0, 391.0, 279...              1990.0   \n",
       "4   [8000.0, 2000.0, 6000.0, 5000.0, 15000.0, 1000...              1901.0   \n",
       "..                                                ...                 ...   \n",
       "88  [2000.0, 28000.0, 27000.0, 2000.0, 4000.0, 913...              1971.0   \n",
       "89  [147000.0, 25000.0, 47000.0, 55000.0, 8000.0, ...              1707.0   \n",
       "90  [2000.0, 2000.0, 5000.0, 1000.0, 558.0, 1000.0...              1825.0   \n",
       "91                                                 []              1945.0   \n",
       "92  [371.0, 1000.0, 230.0, 94.0, 155.0, 442.0, 12....              1964.0   \n",
       "\n",
       "    Mean_Rank_Univ  Political_Regime  Primary  ...  \\\n",
       "0              NaN               1.0      NaN  ...   \n",
       "1              NaN               1.0      NaN  ...   \n",
       "2             95.0               2.0      NaN  ...   \n",
       "3              NaN               2.0      NaN  ...   \n",
       "4            202.0               3.0   7000.0  ...   \n",
       "..             ...               ...      ...  ...   \n",
       "88           337.0               0.0      NaN  ...   \n",
       "89           199.0               3.0      NaN  ...   \n",
       "90             NaN               3.0      NaN  ...   \n",
       "91             NaN               0.0      NaN  ...   \n",
       "92             NaN               1.0      NaN  ...   \n",
       "\n",
       "    End_Of_The_School_Year_Break  Literacy_Rate_2021  \\\n",
       "0                            NaN                 NaN   \n",
       "1                            NaN                 NaN   \n",
       "2                            NaN                 NaN   \n",
       "3                            NaN                 NaN   \n",
       "4                            6.2                 NaN   \n",
       "..                           ...                 ...   \n",
       "88                           NaN               98.13   \n",
       "89                           NaN                 NaN   \n",
       "90                           NaN                 NaN   \n",
       "91                           NaN                 NaN   \n",
       "92                           NaN                 NaN   \n",
       "\n",
       "    Global_rank_Literacy_rate  Nb_graduates  \\\n",
       "0                         NaN           NaN   \n",
       "1                         NaN           NaN   \n",
       "2                         NaN           NaN   \n",
       "3                         NaN           NaN   \n",
       "4                         NaN      271050.0   \n",
       "..                        ...           ...   \n",
       "88                       18.0           NaN   \n",
       "89                        NaN      652174.0   \n",
       "90                        NaN           NaN   \n",
       "91                        NaN           NaN   \n",
       "92                        NaN           NaN   \n",
       "\n",
       "    Averageiqbycountry_Sourcelynnbecker2019  Averageiq_Ici2017Grade  \\\n",
       "0                                         E                      D+   \n",
       "1                                         E                       D   \n",
       "2                                         T                      B-   \n",
       "3                                         E                      C-   \n",
       "4                                         T                       A   \n",
       "..                                      ...                     ...   \n",
       "88                                        T                      C+   \n",
       "89                                        T                       A   \n",
       "90                                        E                      C+   \n",
       "91                                        T                      C-   \n",
       "92                                        E                       D   \n",
       "\n",
       "    Averageiqpisa2022Meanscoremathematics  Averageiqpisa2022Meanscorereading  \\\n",
       "0                                     NaN                                NaN   \n",
       "1                                   378.0                              401.0   \n",
       "2                                   397.0                              365.0   \n",
       "3                                     NaN                                NaN   \n",
       "4                                     NaN                                NaN   \n",
       "..                                    ...                                ...   \n",
       "88                                    NaN                                NaN   \n",
       "89                                    NaN                                NaN   \n",
       "90                                    NaN                                NaN   \n",
       "91                                    NaN                                NaN   \n",
       "92                                    NaN                                NaN   \n",
       "\n",
       "    Averageiqpisa2022Meanscorescience  Nb_Foreign_Students  \n",
       "0                                 NaN                  NaN  \n",
       "1                               406.0                  NaN  \n",
       "2                               380.0                  NaN  \n",
       "3                                 NaN                  NaN  \n",
       "4                                 NaN               28.375  \n",
       "..                                ...                  ...  \n",
       "88                                NaN                  NaN  \n",
       "89                                NaN               18.677  \n",
       "90                                NaN                  NaN  \n",
       "91                                NaN                  NaN  \n",
       "92                                NaN                  NaN  \n",
       "\n",
       "[93 rows x 26 columns]"
      ]
     },
     "execution_count": 34,
     "metadata": {},
     "output_type": "execute_result"
    }
   ],
   "source": [
    "# Transformation en DataFrame pandas\n",
    "new_df = pd.DataFrame(data)\n",
    "\n",
    "\n",
    "# Résultat (premières lignes)\n",
    "new_df"
   ]
  },
  {
   "cell_type": "code",
   "execution_count": 35,
   "id": "9b1633f8",
   "metadata": {},
   "outputs": [
    {
     "data": {
      "image/png": "[encoded data removed]",
      "text/plain": [
       "<Figure size 640x480 with 1 Axes>"
      ]
     },
     "metadata": {},
     "output_type": "display_data"
    }
   ],
   "source": [
    "# Plot scatter plot with Seaborn\n",
    "sns.scatterplot(data=new_df, x=\"Dim1_pca\", y=\"Dim2_pca\", hue=\"Continent\")\n",
    "\n",
    "# Modify axis labels and title\n",
    "plt.xlabel(\"Dimension 1\")\n",
    "plt.ylabel(\"Dimension 2\")\n",
    "plt.title(\"Premier plan factoriel\")\n",
    "\n",
    "# Show the plot\n",
    "plt.show()\n"
   ]
  },
  {
   "cell_type": "code",
   "execution_count": 36,
   "id": "7992ed94",
   "metadata": {},
   "outputs": [
    {
     "name": "stderr",
     "output_type": "stream",
     "text": [
      "/home/ahmed/anaconda3/lib/python3.9/site-packages/plotly/express/_core.py:1979: FutureWarning:\n",
      "\n",
      "When grouping with a length-1 list-like, you will need to pass a length-1 tuple to get_group in a future version of pandas. Pass `(name,)` instead of `name` to silence this warning.\n",
      "\n"
     ]
    },
    {
     "data": {
      "application/vnd.plotly.v1+json": {
       "config": {
        "plotlyServerURL": "https://plot.ly"
       },
       "data": [
        {
         "hovertemplate": "Country=Albania<br>Dim1_pca=%{x}<br>Dim2_pca=%{y}<extra></extra>",
         "legendgroup": "Albania",
         "marker": {
          "color": "#636efa",
          "symbol": "circle"
         },
         "mode": "markers",
         "name": "Albania",
         "orientation": "v",
         "showlegend": true,
         "type": "scatter",
         "x": [
          -612412933984.6053
         ],
         "xaxis": "x",
         "y": [
          -10210703.050451657
         ],
         "yaxis": "y"
        },
        {
         "hovertemplate": "Country=Algeria<br>Dim1_pca=%{x}<br>Dim2_pca=%{y}<extra></extra>",
         "legendgroup": "Algeria",
         "marker": {
          "color": "#EF553B",
          "symbol": "circle"
         },
         "mode": "markers",
         "name": "Algeria",
         "orientation": "v",
         "showlegend": true,
         "type": "scatter",
         "x": [
          -466871108308.9155
         ],
         "xaxis": "x",
         "y": [
          20745584.084457017
         ],
         "yaxis": "y"
        },
        {
         "hovertemplate": "Country=Argentina<br>Dim1_pca=%{x}<br>Dim2_pca=%{y}<extra></extra>",
         "legendgroup": "Argentina",
         "marker": {
          "color": "#00cc96",
          "symbol": "circle"
         },
         "mode": "markers",
         "name": "Argentina",
         "orientation": "v",
         "showlegend": true,
         "type": "scatter",
         "x": [
          -142440924985.56168
         ],
         "xaxis": "x",
         "y": [
          -2856833.490741843
         ],
         "yaxis": "y"
        },
        {
         "hovertemplate": "Country=Armenia<br>Dim1_pca=%{x}<br>Dim2_pca=%{y}<extra></extra>",
         "legendgroup": "Armenia",
         "marker": {
          "color": "#ab63fa",
          "symbol": "circle"
         },
         "mode": "markers",
         "name": "Armenia",
         "orientation": "v",
         "showlegend": true,
         "type": "scatter",
         "x": [
          -616464590462.4438
         ],
         "xaxis": "x",
         "y": [
          -9900730.858373858
         ],
         "yaxis": "y"
        },
        {
         "hovertemplate": "Country=Australia<br>Dim1_pca=%{x}<br>Dim2_pca=%{y}<extra></extra>",
         "legendgroup": "Australia",
         "marker": {
          "color": "#FFA15A",
          "symbol": "circle"
         },
         "mode": "markers",
         "name": "Australia",
         "orientation": "v",
         "showlegend": true,
         "type": "scatter",
         "x": [
          928690254426.5889
         ],
         "xaxis": "x",
         "y": [
          -105364663.60924993
         ],
         "yaxis": "y"
        },
        {
         "hovertemplate": "Country=Austria<br>Dim1_pca=%{x}<br>Dim2_pca=%{y}<extra></extra>",
         "legendgroup": "Austria",
         "marker": {
          "color": "#19d3f3",
          "symbol": "circle"
         },
         "mode": "markers",
         "name": "Austria",
         "orientation": "v",
         "showlegend": true,
         "type": "scatter",
         "x": [
          -151048137235.80826
         ],
         "xaxis": "x",
         "y": [
          -39393642.376273856
         ],
         "yaxis": "y"
        },
        {
         "hovertemplate": "Country=Azerbaijan<br>Dim1_pca=%{x}<br>Dim2_pca=%{y}<extra></extra>",
         "legendgroup": "Azerbaijan",
         "marker": {
          "color": "#FF6692",
          "symbol": "circle"
         },
         "mode": "markers",
         "name": "Azerbaijan",
         "orientation": "v",
         "showlegend": true,
         "type": "scatter",
         "x": [
          -575518086881.9153
         ],
         "xaxis": "x",
         "y": [
          -5682401.330079236
         ],
         "yaxis": "y"
        },
        {
         "hovertemplate": "Country=Bahrain<br>Dim1_pca=%{x}<br>Dim2_pca=%{y}<extra></extra>",
         "legendgroup": "Bahrain",
         "marker": {
          "color": "#B6E880",
          "symbol": "circle"
         },
         "mode": "markers",
         "name": "Bahrain",
         "orientation": "v",
         "showlegend": true,
         "type": "scatter",
         "x": [
          -591054829054.3059
         ],
         "xaxis": "x",
         "y": [
          -13173613.036010405
         ],
         "yaxis": "y"
        },
        {
         "hovertemplate": "Country=Bangladesh<br>Dim1_pca=%{x}<br>Dim2_pca=%{y}<extra></extra>",
         "legendgroup": "Bangladesh",
         "marker": {
          "color": "#FF97FF",
          "symbol": "circle"
         },
         "mode": "markers",
         "name": "Bangladesh",
         "orientation": "v",
         "showlegend": true,
         "type": "scatter",
         "x": [
          -214078686790.63135
         ],
         "xaxis": "x",
         "y": [
          127660717.36068892
         ],
         "yaxis": "y"
        },
        {
         "hovertemplate": "Country=Belgium<br>Dim1_pca=%{x}<br>Dim2_pca=%{y}<extra></extra>",
         "legendgroup": "Belgium",
         "marker": {
          "color": "#FECB52",
          "symbol": "circle"
         },
         "mode": "markers",
         "name": "Belgium",
         "orientation": "v",
         "showlegend": true,
         "type": "scatter",
         "x": [
          -29594687536.42639
         ],
         "xaxis": "x",
         "y": [
          -46078906.273646794
         ],
         "yaxis": "y"
        },
        {
         "hovertemplate": "Country=Bulgaria<br>Dim1_pca=%{x}<br>Dim2_pca=%{y}<extra></extra>",
         "legendgroup": "Bulgaria",
         "marker": {
          "color": "#636efa",
          "symbol": "circle"
         },
         "mode": "markers",
         "name": "Bulgaria",
         "orientation": "v",
         "showlegend": true,
         "type": "scatter",
         "x": [
          -546302005999.1995
         ],
         "xaxis": "x",
         "y": [
          -11596049.534370134
         ],
         "yaxis": "y"
        },
        {
         "hovertemplate": "Country=Burundi<br>Dim1_pca=%{x}<br>Dim2_pca=%{y}<extra></extra>",
         "legendgroup": "Burundi",
         "marker": {
          "color": "#EF553B",
          "symbol": "circle"
         },
         "mode": "markers",
         "name": "Burundi",
         "orientation": "v",
         "showlegend": true,
         "type": "scatter",
         "x": [
          -627567699584.9603
         ],
         "xaxis": "x",
         "y": [
          1054886.663523968
         ],
         "yaxis": "y"
        },
        {
         "hovertemplate": "Country=Cambodia<br>Dim1_pca=%{x}<br>Dim2_pca=%{y}<extra></extra>",
         "legendgroup": "Cambodia",
         "marker": {
          "color": "#00cc96",
          "symbol": "circle"
         },
         "mode": "markers",
         "name": "Cambodia",
         "orientation": "v",
         "showlegend": true,
         "type": "scatter",
         "x": [
          -603382436903.8685
         ],
         "xaxis": "x",
         "y": [
          3083116.0727244164
         ],
         "yaxis": "y"
        },
        {
         "hovertemplate": "Country=Cameroon<br>Dim1_pca=%{x}<br>Dim2_pca=%{y}<extra></extra>",
         "legendgroup": "Cameroon",
         "marker": {
          "color": "#ab63fa",
          "symbol": "circle"
         },
         "mode": "markers",
         "name": "Cameroon",
         "orientation": "v",
         "showlegend": true,
         "type": "scatter",
         "x": [
          -585349975478.706
         ],
         "xaxis": "x",
         "y": [
          12834813.545412546
         ],
         "yaxis": "y"
        },
        {
         "hovertemplate": "Country=Canada<br>Dim1_pca=%{x}<br>Dim2_pca=%{y}<extra></extra>",
         "legendgroup": "Canada",
         "marker": {
          "color": "#FFA15A",
          "symbol": "circle"
         },
         "mode": "markers",
         "name": "Canada",
         "orientation": "v",
         "showlegend": true,
         "type": "scatter",
         "x": [
          1377128679277.2046
         ],
         "xaxis": "x",
         "y": [
          -126871866.5026872
         ],
         "yaxis": "y"
        },
        {
         "hovertemplate": "Country=Chad<br>Dim1_pca=%{x}<br>Dim2_pca=%{y}<extra></extra>",
         "legendgroup": "Chad",
         "marker": {
          "color": "#19d3f3",
          "symbol": "circle"
         },
         "mode": "markers",
         "name": "Chad",
         "orientation": "v",
         "showlegend": true,
         "type": "scatter",
         "x": [
          -618563516604.3813
         ],
         "xaxis": "x",
         "y": [
          5193795.83551817
         ],
         "yaxis": "y"
        },
        {
         "hovertemplate": "Country=China<br>Dim1_pca=%{x}<br>Dim2_pca=%{y}<extra></extra>",
         "legendgroup": "China",
         "marker": {
          "color": "#FF6692",
          "symbol": "circle"
         },
         "mode": "markers",
         "name": "China",
         "orientation": "v",
         "showlegend": true,
         "type": "scatter",
         "x": [
          17190116065492.492
         ],
         "xaxis": "x",
         "y": [
          31927250.235944718
         ],
         "yaxis": "y"
        },
        {
         "hovertemplate": "Country=Costa Rica<br>Dim1_pca=%{x}<br>Dim2_pca=%{y}<extra></extra>",
         "legendgroup": "Costa Rica",
         "marker": {
          "color": "#B6E880",
          "symbol": "circle"
         },
         "mode": "markers",
         "name": "Costa Rica",
         "orientation": "v",
         "showlegend": true,
         "type": "scatter",
         "x": [
          -565382773323.822
         ],
         "xaxis": "x",
         "y": [
          -11434551.201433824
         ],
         "yaxis": "y"
        },
        {
         "hovertemplate": "Country=Croatia<br>Dim1_pca=%{x}<br>Dim2_pca=%{y}<extra></extra>",
         "legendgroup": "Croatia",
         "marker": {
          "color": "#FF97FF",
          "symbol": "circle"
         },
         "mode": "markers",
         "name": "Croatia",
         "orientation": "v",
         "showlegend": true,
         "type": "scatter",
         "x": [
          -561262262530.186
         ],
         "xaxis": "x",
         "y": [
          -13065310.508526735
         ],
         "yaxis": "y"
        },
        {
         "hovertemplate": "Country=Cyprus<br>Dim1_pca=%{x}<br>Dim2_pca=%{y}<extra></extra>",
         "legendgroup": "Cyprus",
         "marker": {
          "color": "#FECB52",
          "symbol": "circle"
         },
         "mode": "markers",
         "name": "Cyprus",
         "orientation": "v",
         "showlegend": true,
         "type": "scatter",
         "x": [
          -600860581576.4371
         ],
         "xaxis": "x",
         "y": [
          -12637608.055572014
         ],
         "yaxis": "y"
        },
        {
         "hovertemplate": "Country=Czech Republic<br>Dim1_pca=%{x}<br>Dim2_pca=%{y}<extra></extra>",
         "legendgroup": "Czech Republic",
         "marker": {
          "color": "#636efa",
          "symbol": "circle"
         },
         "mode": "markers",
         "name": "Czech Republic",
         "orientation": "v",
         "showlegend": true,
         "type": "scatter",
         "x": [
          -348552280768.2194
         ],
         "xaxis": "x",
         "y": [
          -22586054.67167199
         ],
         "yaxis": "y"
        },
        {
         "hovertemplate": "Country=Denmark<br>Dim1_pca=%{x}<br>Dim2_pca=%{y}<extra></extra>",
         "legendgroup": "Denmark",
         "marker": {
          "color": "#EF553B",
          "symbol": "circle"
         },
         "mode": "markers",
         "name": "Denmark",
         "orientation": "v",
         "showlegend": true,
         "type": "scatter",
         "x": [
          -224655501154.76868
         ],
         "xaxis": "x",
         "y": [
          -36880226.3855442
         ],
         "yaxis": "y"
        },
        {
         "hovertemplate": "Country=Dominican Republic<br>Dim1_pca=%{x}<br>Dim2_pca=%{y}<extra></extra>",
         "legendgroup": "Dominican Republic",
         "marker": {
          "color": "#00cc96",
          "symbol": "circle"
         },
         "mode": "markers",
         "name": "Dominican Republic",
         "orientation": "v",
         "showlegend": true,
         "type": "scatter",
         "x": [
          -536100072740.635
         ],
         "xaxis": "x",
         "y": [
          -7618480.677869504
         ],
         "yaxis": "y"
        },
        {
         "hovertemplate": "Country=El Salvador<br>Dim1_pca=%{x}<br>Dim2_pca=%{y}<extra></extra>",
         "legendgroup": "El Salvador",
         "marker": {
          "color": "#ab63fa",
          "symbol": "circle"
         },
         "mode": "markers",
         "name": "El Salvador",
         "orientation": "v",
         "showlegend": true,
         "type": "scatter",
         "x": [
          -600892258863.8821
         ],
         "xaxis": "x",
         "y": [
          -7532836.395754231
         ],
         "yaxis": "y"
        },
        {
         "hovertemplate": "Country=Estonia<br>Dim1_pca=%{x}<br>Dim2_pca=%{y}<extra></extra>",
         "legendgroup": "Estonia",
         "marker": {
          "color": "#FFA15A",
          "symbol": "circle"
         },
         "mode": "markers",
         "name": "Estonia",
         "orientation": "v",
         "showlegend": true,
         "type": "scatter",
         "x": [
          -593152333118.5696
         ],
         "xaxis": "x",
         "y": [
          -13131842.766822686
         ],
         "yaxis": "y"
        },
        {
         "hovertemplate": "Country=Ethiopia<br>Dim1_pca=%{x}<br>Dim2_pca=%{y}<extra></extra>",
         "legendgroup": "Ethiopia",
         "marker": {
          "color": "#19d3f3",
          "symbol": "circle"
         },
         "mode": "markers",
         "name": "Ethiopia",
         "orientation": "v",
         "showlegend": true,
         "type": "scatter",
         "x": [
          -519081607157.13116
         ],
         "xaxis": "x",
         "y": [
          103208560.3257415
         ],
         "yaxis": "y"
        },
        {
         "hovertemplate": "Country=Finland<br>Dim1_pca=%{x}<br>Dim2_pca=%{y}<extra></extra>",
         "legendgroup": "Finland",
         "marker": {
          "color": "#FF6692",
          "symbol": "circle"
         },
         "mode": "markers",
         "name": "Finland",
         "orientation": "v",
         "showlegend": true,
         "type": "scatter",
         "x": [
          -333873082626.64215
         ],
         "xaxis": "x",
         "y": [
          -28836946.83882892
         ],
         "yaxis": "y"
        },
        {
         "hovertemplate": "Country=France<br>Dim1_pca=%{x}<br>Dim2_pca=%{y}<extra></extra>",
         "legendgroup": "France",
         "marker": {
          "color": "#B6E880",
          "symbol": "circle"
         },
         "mode": "markers",
         "name": "France",
         "orientation": "v",
         "showlegend": true,
         "type": "scatter",
         "x": [
          2329012316402.438
         ],
         "xaxis": "x",
         "y": [
          -170940620.38207024
         ],
         "yaxis": "y"
        },
        {
         "hovertemplate": "Country=Germany<br>Dim1_pca=%{x}<br>Dim2_pca=%{y}<extra></extra>",
         "legendgroup": "Germany",
         "marker": {
          "color": "#FF97FF",
          "symbol": "circle"
         },
         "mode": "markers",
         "name": "Germany",
         "orientation": "v",
         "showlegend": true,
         "type": "scatter",
         "x": [
          3648160429250.0938
         ],
         "xaxis": "x",
         "y": [
          -256431856.6848398
         ],
         "yaxis": "y"
        },
        {
         "hovertemplate": "Country=Ghana<br>Dim1_pca=%{x}<br>Dim2_pca=%{y}<extra></extra>",
         "legendgroup": "Ghana",
         "marker": {
          "color": "#FECB52",
          "symbol": "circle"
         },
         "mode": "markers",
         "name": "Ghana",
         "orientation": "v",
         "showlegend": true,
         "type": "scatter",
         "x": [
          -550819075066.0454
         ],
         "xaxis": "x",
         "y": [
          15750514.587994888
         ],
         "yaxis": "y"
        },
        {
         "hovertemplate": "Country=Greece<br>Dim1_pca=%{x}<br>Dim2_pca=%{y}<extra></extra>",
         "legendgroup": "Greece",
         "marker": {
          "color": "#636efa",
          "symbol": "circle"
         },
         "mode": "markers",
         "name": "Greece",
         "orientation": "v",
         "showlegend": true,
         "type": "scatter",
         "x": [
          -415675691654.56793
         ],
         "xaxis": "x",
         "y": [
          -17677568.58806607
         ],
         "yaxis": "y"
        },
        {
         "hovertemplate": "Country=Guatemala<br>Dim1_pca=%{x}<br>Dim2_pca=%{y}<extra></extra>",
         "legendgroup": "Guatemala",
         "marker": {
          "color": "#EF553B",
          "symbol": "circle"
         },
         "mode": "markers",
         "name": "Guatemala",
         "orientation": "v",
         "showlegend": true,
         "type": "scatter",
         "x": [
          -544290414708.42535
         ],
         "xaxis": "x",
         "y": [
          -862170.0501608817
         ],
         "yaxis": "y"
        },
        {
         "hovertemplate": "Country=Guinea<br>Dim1_pca=%{x}<br>Dim2_pca=%{y}<extra></extra>",
         "legendgroup": "Guinea",
         "marker": {
          "color": "#00cc96",
          "symbol": "circle"
         },
         "mode": "markers",
         "name": "Guinea",
         "orientation": "v",
         "showlegend": true,
         "type": "scatter",
         "x": [
          -614251680405.1901
         ],
         "xaxis": "x",
         "y": [
          1002538.5195758851
         ],
         "yaxis": "y"
        },
        {
         "hovertemplate": "Country=Honduras<br>Dim1_pca=%{x}<br>Dim2_pca=%{y}<extra></extra>",
         "legendgroup": "Honduras",
         "marker": {
          "color": "#ab63fa",
          "symbol": "circle"
         },
         "mode": "markers",
         "name": "Honduras",
         "orientation": "v",
         "showlegend": true,
         "type": "scatter",
         "x": [
          -601854776865.9166
         ],
         "xaxis": "x",
         "y": [
          -3370122.155965148
         ],
         "yaxis": "y"
        },
        {
         "hovertemplate": "Country=Hungary<br>Dim1_pca=%{x}<br>Dim2_pca=%{y}<extra></extra>",
         "legendgroup": "Hungary",
         "marker": {
          "color": "#FFA15A",
          "symbol": "circle"
         },
         "mode": "markers",
         "name": "Hungary",
         "orientation": "v",
         "showlegend": true,
         "type": "scatter",
         "x": [
          -448253457303.1735
         ],
         "xaxis": "x",
         "y": [
          -15961705.543790754
         ],
         "yaxis": "y"
        },
        {
         "hovertemplate": "Country=Iceland<br>Dim1_pca=%{x}<br>Dim2_pca=%{y}<extra></extra>",
         "legendgroup": "Iceland",
         "marker": {
          "color": "#19d3f3",
          "symbol": "circle"
         },
         "mode": "markers",
         "name": "Iceland",
         "orientation": "v",
         "showlegend": true,
         "type": "scatter",
         "x": [
          -604747559141.1417
         ],
         "xaxis": "x",
         "y": [
          -13209583.992828453
         ],
         "yaxis": "y"
        },
        {
         "hovertemplate": "Country=India<br>Dim1_pca=%{x}<br>Dim2_pca=%{y}<extra></extra>",
         "legendgroup": "India",
         "marker": {
          "color": "#FF6692",
          "symbol": "circle"
         },
         "mode": "markers",
         "name": "India",
         "orientation": "v",
         "showlegend": true,
         "type": "scatter",
         "x": [
          2519963439440.4487
         ],
         "xaxis": "x",
         "y": [
          1163692077.1163473
         ],
         "yaxis": "y"
        },
        {
         "hovertemplate": "Country=Indonesia<br>Dim1_pca=%{x}<br>Dim2_pca=%{y}<extra></extra>",
         "legendgroup": "Indonesia",
         "marker": {
          "color": "#B6E880",
          "symbol": "circle"
         },
         "mode": "markers",
         "name": "Indonesia",
         "orientation": "v",
         "showlegend": true,
         "type": "scatter",
         "x": [
          556161974134.8982
         ],
         "xaxis": "x",
         "y": [
          172784846.1302242
         ],
         "yaxis": "y"
        },
        {
         "hovertemplate": "Country=Israel<br>Dim1_pca=%{x}<br>Dim2_pca=%{y}<extra></extra>",
         "legendgroup": "Israel",
         "marker": {
          "color": "#FF97FF",
          "symbol": "circle"
         },
         "mode": "markers",
         "name": "Israel",
         "orientation": "v",
         "showlegend": true,
         "type": "scatter",
         "x": [
          -141816954091.68335
         ],
         "xaxis": "x",
         "y": [
          -39590683.335956275
         ],
         "yaxis": "y"
        },
        {
         "hovertemplate": "Country=Italy<br>Dim1_pca=%{x}<br>Dim2_pca=%{y}<extra></extra>",
         "legendgroup": "Italy",
         "marker": {
          "color": "#FECB52",
          "symbol": "circle"
         },
         "mode": "markers",
         "name": "Italy",
         "orientation": "v",
         "showlegend": true,
         "type": "scatter",
         "x": [
          1525016797907.3767
         ],
         "xaxis": "x",
         "y": [
          -118205267.37123953
         ],
         "yaxis": "y"
        },
        {
         "hovertemplate": "Country=Jamaica<br>Dim1_pca=%{x}<br>Dim2_pca=%{y}<extra></extra>",
         "legendgroup": "Jamaica",
         "marker": {
          "color": "#636efa",
          "symbol": "circle"
         },
         "mode": "markers",
         "name": "Jamaica",
         "orientation": "v",
         "showlegend": true,
         "type": "scatter",
         "x": [
          -615685912963.0208
         ],
         "xaxis": "x",
         "y": [
          -9911200.38516832
         ],
         "yaxis": "y"
        },
        {
         "hovertemplate": "Country=Japan<br>Dim1_pca=%{x}<br>Dim2_pca=%{y}<extra></extra>",
         "legendgroup": "Japan",
         "marker": {
          "color": "#EF553B",
          "symbol": "circle"
         },
         "mode": "markers",
         "name": "Japan",
         "orientation": "v",
         "showlegend": true,
         "type": "scatter",
         "x": [
          4404277280081.724
         ],
         "xaxis": "x",
         "y": [
          -273177883.985349
         ],
         "yaxis": "y"
        },
        {
         "hovertemplate": "Country=Jordan<br>Dim1_pca=%{x}<br>Dim2_pca=%{y}<extra></extra>",
         "legendgroup": "Jordan",
         "marker": {
          "color": "#00cc96",
          "symbol": "circle"
         },
         "mode": "markers",
         "name": "Jordan",
         "orientation": "v",
         "showlegend": true,
         "type": "scatter",
         "x": [
          -584047398391.6493
         ],
         "xaxis": "x",
         "y": [
          -3897097.6865647146
         ],
         "yaxis": "y"
        },
        {
         "hovertemplate": "Country=Kazakhstan<br>Dim1_pca=%{x}<br>Dim2_pca=%{y}<extra></extra>",
         "legendgroup": "Kazakhstan",
         "marker": {
          "color": "#ab63fa",
          "symbol": "circle"
         },
         "mode": "markers",
         "name": "Kazakhstan",
         "orientation": "v",
         "showlegend": true,
         "type": "scatter",
         "x": [
          -433231242972.967
         ],
         "xaxis": "x",
         "y": [
          -7100556.188107063
         ],
         "yaxis": "y"
        },
        {
         "hovertemplate": "Country=Kenya<br>Dim1_pca=%{x}<br>Dim2_pca=%{y}<extra></extra>",
         "legendgroup": "Kenya",
         "marker": {
          "color": "#FFA15A",
          "symbol": "circle"
         },
         "mode": "markers",
         "name": "Kenya",
         "orientation": "v",
         "showlegend": true,
         "type": "scatter",
         "x": [
          -520639836532.8407
         ],
         "xaxis": "x",
         "y": [
          33975709.03737234
         ],
         "yaxis": "y"
        },
        {
         "hovertemplate": "Country=Laos<br>Dim1_pca=%{x}<br>Dim2_pca=%{y}<extra></extra>",
         "legendgroup": "Laos",
         "marker": {
          "color": "#19d3f3",
          "symbol": "circle"
         },
         "mode": "markers",
         "name": "Laos",
         "orientation": "v",
         "showlegend": true,
         "type": "scatter",
         "x": [
          -611516350211.9991
         ],
         "xaxis": "x",
         "y": [
          -5527316.060872227
         ],
         "yaxis": "y"
        },
        {
         "hovertemplate": "Country=Latvia<br>Dim1_pca=%{x}<br>Dim2_pca=%{y}<extra></extra>",
         "legendgroup": "Latvia",
         "marker": {
          "color": "#FF6692",
          "symbol": "circle"
         },
         "mode": "markers",
         "name": "Latvia",
         "orientation": "v",
         "showlegend": true,
         "type": "scatter",
         "x": [
          -590900373061.8783
         ],
         "xaxis": "x",
         "y": [
          -12772276.107378121
         ],
         "yaxis": "y"
        },
        {
         "hovertemplate": "Country=Lesotho<br>Dim1_pca=%{x}<br>Dim2_pca=%{y}<extra></extra>",
         "legendgroup": "Lesotho",
         "marker": {
          "color": "#B6E880",
          "symbol": "circle"
         },
         "mode": "markers",
         "name": "Lesotho",
         "orientation": "v",
         "showlegend": true,
         "type": "scatter",
         "x": [
          -627994728081.1555
         ],
         "xaxis": "x",
         "y": [
          -9498485.731817467
         ],
         "yaxis": "y"
        },
        {
         "hovertemplate": "Country=Lithuania<br>Dim1_pca=%{x}<br>Dim2_pca=%{y}<extra></extra>",
         "legendgroup": "Lithuania",
         "marker": {
          "color": "#FF97FF",
          "symbol": "circle"
         },
         "mode": "markers",
         "name": "Lithuania",
         "orientation": "v",
         "showlegend": true,
         "type": "scatter",
         "x": [
          -563544565457.9617
         ],
         "xaxis": "x",
         "y": [
          -13917405.020580042
         ],
         "yaxis": "y"
        },
        {
         "hovertemplate": "Country=Luxembourg<br>Dim1_pca=%{x}<br>Dim2_pca=%{y}<extra></extra>",
         "legendgroup": "Luxembourg",
         "marker": {
          "color": "#FECB52",
          "symbol": "circle"
         },
         "mode": "markers",
         "name": "Luxembourg",
         "orientation": "v",
         "showlegend": true,
         "type": "scatter",
         "x": [
          -544759393472.9066
         ],
         "xaxis": "x",
         "y": [
          -17546077.576119747
         ],
         "yaxis": "y"
        },
        {
         "hovertemplate": "Country=Madagascar<br>Dim1_pca=%{x}<br>Dim2_pca=%{y}<extra></extra>",
         "legendgroup": "Madagascar",
         "marker": {
          "color": "#636efa",
          "symbol": "circle"
         },
         "mode": "markers",
         "name": "Madagascar",
         "orientation": "v",
         "showlegend": true,
         "type": "scatter",
         "x": [
          -615788742916.4227
         ],
         "xaxis": "x",
         "y": [
          16868364.917502504
         ],
         "yaxis": "y"
        },
        {
         "hovertemplate": "Country=Malaysia<br>Dim1_pca=%{x}<br>Dim2_pca=%{y}<extra></extra>",
         "legendgroup": "Malaysia",
         "marker": {
          "color": "#EF553B",
          "symbol": "circle"
         },
         "mode": "markers",
         "name": "Malaysia",
         "orientation": "v",
         "showlegend": true,
         "type": "scatter",
         "x": [
          -256511069702.64575
         ],
         "xaxis": "x",
         "y": [
          -6388975.52322516
         ],
         "yaxis": "y"
        },
        {
         "hovertemplate": "Country=Mali<br>Dim1_pca=%{x}<br>Dim2_pca=%{y}<extra></extra>",
         "legendgroup": "Mali",
         "marker": {
          "color": "#00cc96",
          "symbol": "circle"
         },
         "mode": "markers",
         "name": "Mali",
         "orientation": "v",
         "showlegend": true,
         "type": "scatter",
         "x": [
          -611034034076.7493
         ],
         "xaxis": "x",
         "y": [
          9498709.613303965
         ],
         "yaxis": "y"
        },
        {
         "hovertemplate": "Country=Malta<br>Dim1_pca=%{x}<br>Dim2_pca=%{y}<extra></extra>",
         "legendgroup": "Malta",
         "marker": {
          "color": "#ab63fa",
          "symbol": "circle"
         },
         "mode": "markers",
         "name": "Malta",
         "orientation": "v",
         "showlegend": true,
         "type": "scatter",
         "x": [
          -612256294025.764
         ],
         "xaxis": "x",
         "y": [
          -12483358.738624822
         ],
         "yaxis": "y"
        },
        {
         "hovertemplate": "Country=Mauritania<br>Dim1_pca=%{x}<br>Dim2_pca=%{y}<extra></extra>",
         "legendgroup": "Mauritania",
         "marker": {
          "color": "#FFA15A",
          "symbol": "circle"
         },
         "mode": "markers",
         "name": "Mauritania",
         "orientation": "v",
         "showlegend": true,
         "type": "scatter",
         "x": [
          -621120962563.4515
         ],
         "xaxis": "x",
         "y": [
          -7596308.940175716
         ],
         "yaxis": "y"
        },
        {
         "hovertemplate": "Country=Mauritius<br>Dim1_pca=%{x}<br>Dim2_pca=%{y}<extra></extra>",
         "legendgroup": "Mauritius",
         "marker": {
          "color": "#19d3f3",
          "symbol": "circle"
         },
         "mode": "markers",
         "name": "Mauritius",
         "orientation": "v",
         "showlegend": true,
         "type": "scatter",
         "x": [
          -618859141253.5516
         ],
         "xaxis": "x",
         "y": [
          -11243658.66725036
         ],
         "yaxis": "y"
        },
        {
         "hovertemplate": "Country=Moldova<br>Dim1_pca=%{x}<br>Dim2_pca=%{y}<extra></extra>",
         "legendgroup": "Moldova",
         "marker": {
          "color": "#FF6692",
          "symbol": "circle"
         },
         "mode": "markers",
         "name": "Moldova",
         "orientation": "v",
         "showlegend": true,
         "type": "scatter",
         "x": [
          -616651268962.2335
         ],
         "xaxis": "x",
         "y": [
          -10125234.572190367
         ],
         "yaxis": "y"
        },
        {
         "hovertemplate": "Country=Mongolia<br>Dim1_pca=%{x}<br>Dim2_pca=%{y}<extra></extra>",
         "legendgroup": "Mongolia",
         "marker": {
          "color": "#B6E880",
          "symbol": "circle"
         },
         "mode": "markers",
         "name": "Mongolia",
         "orientation": "v",
         "showlegend": true,
         "type": "scatter",
         "x": [
          -615057057310.2521
         ],
         "xaxis": "x",
         "y": [
          -9399078.975241639
         ],
         "yaxis": "y"
        },
        {
         "hovertemplate": "Country=Morocco<br>Dim1_pca=%{x}<br>Dim2_pca=%{y}<extra></extra>",
         "legendgroup": "Morocco",
         "marker": {
          "color": "#FF97FF",
          "symbol": "circle"
         },
         "mode": "markers",
         "name": "Morocco",
         "orientation": "v",
         "showlegend": true,
         "type": "scatter",
         "x": [
          -488525699720.4094
         ],
         "xaxis": "x",
         "y": [
          14976967.206385138
         ],
         "yaxis": "y"
        },
        {
         "hovertemplate": "Country=Mozambique<br>Dim1_pca=%{x}<br>Dim2_pca=%{y}<extra></extra>",
         "legendgroup": "Mozambique",
         "marker": {
          "color": "#FECB52",
          "symbol": "circle"
         },
         "mode": "markers",
         "name": "Mozambique",
         "orientation": "v",
         "showlegend": true,
         "type": "scatter",
         "x": [
          -614175440390.4225
         ],
         "xaxis": "x",
         "y": [
          20106828.164505355
         ],
         "yaxis": "y"
        },
        {
         "hovertemplate": "Country=Namibia<br>Dim1_pca=%{x}<br>Dim2_pca=%{y}<extra></extra>",
         "legendgroup": "Namibia",
         "marker": {
          "color": "#636efa",
          "symbol": "circle"
         },
         "mode": "markers",
         "name": "Namibia",
         "orientation": "v",
         "showlegend": true,
         "type": "scatter",
         "x": [
          -617897208248.8518
         ],
         "xaxis": "x",
         "y": [
          -10013922.79113161
         ],
         "yaxis": "y"
        },
        {
         "hovertemplate": "Country=Nepal<br>Dim1_pca=%{x}<br>Dim2_pca=%{y}<extra></extra>",
         "legendgroup": "Nepal",
         "marker": {
          "color": "#EF553B",
          "symbol": "circle"
         },
         "mode": "markers",
         "name": "Nepal",
         "orientation": "v",
         "showlegend": true,
         "type": "scatter",
         "x": [
          -593418655596.8956
         ],
         "xaxis": "x",
         "y": [
          16113483.411048735
         ],
         "yaxis": "y"
        },
        {
         "hovertemplate": "Country=Netherlands<br>Dim1_pca=%{x}<br>Dim2_pca=%{y}<extra></extra>",
         "legendgroup": "Netherlands",
         "marker": {
          "color": "#00cc96",
          "symbol": "circle"
         },
         "mode": "markers",
         "name": "Netherlands",
         "orientation": "v",
         "showlegend": true,
         "type": "scatter",
         "x": [
          399334837388.6657
         ],
         "xaxis": "x",
         "y": [
          -73003096.6828455
         ],
         "yaxis": "y"
        },
        {
         "hovertemplate": "Country=New Zealand<br>Dim1_pca=%{x}<br>Dim2_pca=%{y}<extra></extra>",
         "legendgroup": "New Zealand",
         "marker": {
          "color": "#ab63fa",
          "symbol": "circle"
         },
         "mode": "markers",
         "name": "New Zealand",
         "orientation": "v",
         "showlegend": true,
         "type": "scatter",
         "x": [
          -374791794997.882
         ],
         "xaxis": "x",
         "y": [
          -26123309.946640518
         ],
         "yaxis": "y"
        },
        {
         "hovertemplate": "Country=Nicaragua<br>Dim1_pca=%{x}<br>Dim2_pca=%{y}<extra></extra>",
         "legendgroup": "Nicaragua",
         "marker": {
          "color": "#FFA15A",
          "symbol": "circle"
         },
         "mode": "markers",
         "name": "Nicaragua",
         "orientation": "v",
         "showlegend": true,
         "type": "scatter",
         "x": [
          -616197618373.034
         ],
         "xaxis": "x",
         "y": [
          -5755992.797363998
         ],
         "yaxis": "y"
        },
        {
         "hovertemplate": "Country=Norway<br>Dim1_pca=%{x}<br>Dim2_pca=%{y}<extra></extra>",
         "legendgroup": "Norway",
         "marker": {
          "color": "#19d3f3",
          "symbol": "circle"
         },
         "mode": "markers",
         "name": "Norway",
         "orientation": "v",
         "showlegend": true,
         "type": "scatter",
         "x": [
          -126975514299.36835
         ],
         "xaxis": "x",
         "y": [
          -44828852.69191179
         ],
         "yaxis": "y"
        },
        {
         "hovertemplate": "Country=Pakistan<br>Dim1_pca=%{x}<br>Dim2_pca=%{y}<extra></extra>",
         "legendgroup": "Pakistan",
         "marker": {
          "color": "#FF6692",
          "symbol": "circle"
         },
         "mode": "markers",
         "name": "Pakistan",
         "orientation": "v",
         "showlegend": true,
         "type": "scatter",
         "x": [
          -281826834730.196
         ],
         "xaxis": "x",
         "y": [
          197481705.80823058
         ],
         "yaxis": "y"
        },
        {
         "hovertemplate": "Country=Panama<br>Dim1_pca=%{x}<br>Dim2_pca=%{y}<extra></extra>",
         "legendgroup": "Panama",
         "marker": {
          "color": "#B6E880",
          "symbol": "circle"
         },
         "mode": "markers",
         "name": "Panama",
         "orientation": "v",
         "showlegend": true,
         "type": "scatter",
         "x": [
          -562936761024.6621
         ],
         "xaxis": "x",
         "y": [
          -12394076.806616155
         ],
         "yaxis": "y"
        },
        {
         "hovertemplate": "Country=Paraguay<br>Dim1_pca=%{x}<br>Dim2_pca=%{y}<extra></extra>",
         "legendgroup": "Paraguay",
         "marker": {
          "color": "#FF97FF",
          "symbol": "circle"
         },
         "mode": "markers",
         "name": "Paraguay",
         "orientation": "v",
         "showlegend": true,
         "type": "scatter",
         "x": [
          -590392598922.1676
         ],
         "xaxis": "x",
         "y": [
          -7903333.542017272
         ],
         "yaxis": "y"
        },
        {
         "hovertemplate": "Country=Peru<br>Dim1_pca=%{x}<br>Dim2_pca=%{y}<extra></extra>",
         "legendgroup": "Peru",
         "marker": {
          "color": "#FECB52",
          "symbol": "circle"
         },
         "mode": "markers",
         "name": "Peru",
         "orientation": "v",
         "showlegend": true,
         "type": "scatter",
         "x": [
          -406625698250.8921
         ],
         "xaxis": "x",
         "y": [
          5255329.241321251
         ],
         "yaxis": "y"
        },
        {
         "hovertemplate": "Country=Philippines<br>Dim1_pca=%{x}<br>Dim2_pca=%{y}<extra></extra>",
         "legendgroup": "Philippines",
         "marker": {
          "color": "#636efa",
          "symbol": "circle"
         },
         "mode": "markers",
         "name": "Philippines",
         "orientation": "v",
         "showlegend": true,
         "type": "scatter",
         "x": [
          -236256131703.94543
         ],
         "xaxis": "x",
         "y": [
          73730944.67273618
         ],
         "yaxis": "y"
        },
        {
         "hovertemplate": "Country=Poland<br>Dim1_pca=%{x}<br>Dim2_pca=%{y}<extra></extra>",
         "legendgroup": "Poland",
         "marker": {
          "color": "#EF553B",
          "symbol": "circle"
         },
         "mode": "markers",
         "name": "Poland",
         "orientation": "v",
         "showlegend": true,
         "type": "scatter",
         "x": [
          51002637968.76246
         ],
         "xaxis": "x",
         "y": [
          -27079301.5061347
         ],
         "yaxis": "y"
        },
        {
         "hovertemplate": "Country=Portugal<br>Dim1_pca=%{x}<br>Dim2_pca=%{y}<extra></extra>",
         "legendgroup": "Portugal",
         "marker": {
          "color": "#00cc96",
          "symbol": "circle"
         },
         "mode": "markers",
         "name": "Portugal",
         "orientation": "v",
         "showlegend": true,
         "type": "scatter",
         "x": [
          -374808659811.2768
         ],
         "xaxis": "x",
         "y": [
          -20820392.83242547
         ],
         "yaxis": "y"
        },
        {
         "hovertemplate": "Country=Romania<br>Dim1_pca=%{x}<br>Dim2_pca=%{y}<extra></extra>",
         "legendgroup": "Romania",
         "marker": {
          "color": "#ab63fa",
          "symbol": "circle"
         },
         "mode": "markers",
         "name": "Romania",
         "orientation": "v",
         "showlegend": true,
         "type": "scatter",
         "x": [
          -344533254140.05365
         ],
         "xaxis": "x",
         "y": [
          -14484671.670421652
         ],
         "yaxis": "y"
        },
        {
         "hovertemplate": "Country=Rwanda<br>Dim1_pca=%{x}<br>Dim2_pca=%{y}<extra></extra>",
         "legendgroup": "Rwanda",
         "marker": {
          "color": "#FFA15A",
          "symbol": "circle"
         },
         "mode": "markers",
         "name": "Rwanda",
         "orientation": "v",
         "showlegend": true,
         "type": "scatter",
         "x": [
          -619288980892.9761
         ],
         "xaxis": "x",
         "y": [
          1304896.207289584
         ],
         "yaxis": "y"
        },
        {
         "hovertemplate": "Country=Senegal<br>Dim1_pca=%{x}<br>Dim2_pca=%{y}<extra></extra>",
         "legendgroup": "Senegal",
         "marker": {
          "color": "#19d3f3",
          "symbol": "circle"
         },
         "mode": "markers",
         "name": "Senegal",
         "orientation": "v",
         "showlegend": true,
         "type": "scatter",
         "x": [
          -602774361285.527
         ],
         "xaxis": "x",
         "y": [
          3579405.920435572
         ],
         "yaxis": "y"
        },
        {
         "hovertemplate": "Country=Serbia<br>Dim1_pca=%{x}<br>Dim2_pca=%{y}<extra></extra>",
         "legendgroup": "Serbia",
         "marker": {
          "color": "#FF6692",
          "symbol": "circle"
         },
         "mode": "markers",
         "name": "Serbia",
         "orientation": "v",
         "showlegend": true,
         "type": "scatter",
         "x": [
          -567242429376.737
         ],
         "xaxis": "x",
         "y": [
          -9798663.827287441
         ],
         "yaxis": "y"
        },
        {
         "hovertemplate": "Country=Singapore<br>Dim1_pca=%{x}<br>Dim2_pca=%{y}<extra></extra>",
         "legendgroup": "Singapore",
         "marker": {
          "color": "#B6E880",
          "symbol": "circle"
         },
         "mode": "markers",
         "name": "Singapore",
         "orientation": "v",
         "showlegend": true,
         "type": "scatter",
         "x": [
          -206546399558.973
         ],
         "xaxis": "x",
         "y": [
          -38541350.10173068
         ],
         "yaxis": "y"
        },
        {
         "hovertemplate": "Country=Slovakia<br>Dim1_pca=%{x}<br>Dim2_pca=%{y}<extra></extra>",
         "legendgroup": "Slovakia",
         "marker": {
          "color": "#FF97FF",
          "symbol": "circle"
         },
         "mode": "markers",
         "name": "Slovakia",
         "orientation": "v",
         "showlegend": true,
         "type": "scatter",
         "x": [
          -511767016654.3158
         ],
         "xaxis": "x",
         "y": [
          -15297200.47967492
         ],
         "yaxis": "y"
        },
        {
         "hovertemplate": "Country=Slovenia<br>Dim1_pca=%{x}<br>Dim2_pca=%{y}<extra></extra>",
         "legendgroup": "Slovenia",
         "marker": {
          "color": "#FECB52",
          "symbol": "circle"
         },
         "mode": "markers",
         "name": "Slovenia",
         "orientation": "v",
         "showlegend": true,
         "type": "scatter",
         "x": [
          -568511297740.8011
         ],
         "xaxis": "x",
         "y": [
          -14262072.101632137
         ],
         "yaxis": "y"
        },
        {
         "hovertemplate": "Country=South Africa<br>Dim1_pca=%{x}<br>Dim2_pca=%{y}<extra></extra>",
         "legendgroup": "South Africa",
         "marker": {
          "color": "#636efa",
          "symbol": "circle"
         },
         "mode": "markers",
         "name": "South Africa",
         "orientation": "v",
         "showlegend": true,
         "type": "scatter",
         "x": [
          -210225683437.7478
         ],
         "xaxis": "x",
         "y": [
          16001328.893440846
         ],
         "yaxis": "y"
        },
        {
         "hovertemplate": "Country=Spain<br>Dim1_pca=%{x}<br>Dim2_pca=%{y}<extra></extra>",
         "legendgroup": "Spain",
         "marker": {
          "color": "#EF553B",
          "symbol": "circle"
         },
         "mode": "markers",
         "name": "Spain",
         "orientation": "v",
         "showlegend": true,
         "type": "scatter",
         "x": [
          815308153749.2667
         ],
         "xaxis": "x",
         "y": [
          -74882081.60268347
         ],
         "yaxis": "y"
        },
        {
         "hovertemplate": "Country=Sri Lanka<br>Dim1_pca=%{x}<br>Dim2_pca=%{y}<extra></extra>",
         "legendgroup": "Sri Lanka",
         "marker": {
          "color": "#00cc96",
          "symbol": "circle"
         },
         "mode": "markers",
         "name": "Sri Lanka",
         "orientation": "v",
         "showlegend": true,
         "type": "scatter",
         "x": [
          -541795448699.56885
         ],
         "xaxis": "x",
         "y": [
          3776226.367569118
         ],
         "yaxis": "y"
        },
        {
         "hovertemplate": "Country=Sweden<br>Dim1_pca=%{x}<br>Dim2_pca=%{y}<extra></extra>",
         "legendgroup": "Sweden",
         "marker": {
          "color": "#ab63fa",
          "symbol": "circle"
         },
         "mode": "markers",
         "name": "Sweden",
         "orientation": "v",
         "showlegend": true,
         "type": "scatter",
         "x": [
          9371455724.544807
         ],
         "xaxis": "x",
         "y": [
          -50272836.738968976
         ],
         "yaxis": "y"
        },
        {
         "hovertemplate": "Country=Tanzania<br>Dim1_pca=%{x}<br>Dim2_pca=%{y}<extra></extra>",
         "legendgroup": "Tanzania",
         "marker": {
          "color": "#FFA15A",
          "symbol": "circle"
         },
         "mode": "markers",
         "name": "Tanzania",
         "orientation": "v",
         "showlegend": true,
         "type": "scatter",
         "x": [
          -559687866294.0322
         ],
         "xaxis": "x",
         "y": [
          48443847.35341406
         ],
         "yaxis": "y"
        },
        {
         "hovertemplate": "Country=Thailand<br>Dim1_pca=%{x}<br>Dim2_pca=%{y}<extra></extra>",
         "legendgroup": "Thailand",
         "marker": {
          "color": "#19d3f3",
          "symbol": "circle"
         },
         "mode": "markers",
         "name": "Thailand",
         "orientation": "v",
         "showlegend": true,
         "type": "scatter",
         "x": [
          -124775431258.26433
         ],
         "xaxis": "x",
         "y": [
          21239628.11791381
         ],
         "yaxis": "y"
        },
        {
         "hovertemplate": "Country=Uganda<br>Dim1_pca=%{x}<br>Dim2_pca=%{y}<extra></extra>",
         "legendgroup": "Uganda",
         "marker": {
          "color": "#FF6692",
          "symbol": "circle"
         },
         "mode": "markers",
         "name": "Uganda",
         "orientation": "v",
         "showlegend": true,
         "type": "scatter",
         "x": [
          -589833254388.1426
         ],
         "xaxis": "x",
         "y": [
          32513085.07189435
         ],
         "yaxis": "y"
        },
        {
         "hovertemplate": "Country=Ukraine<br>Dim1_pca=%{x}<br>Dim2_pca=%{y}<extra></extra>",
         "legendgroup": "Ukraine",
         "marker": {
          "color": "#B6E880",
          "symbol": "circle"
         },
         "mode": "markers",
         "name": "Ukraine",
         "orientation": "v",
         "showlegend": true,
         "type": "scatter",
         "x": [
          -430577637358.36383
         ],
         "xaxis": "x",
         "y": [
          11089155.186095657
         ],
         "yaxis": "y"
        },
        {
         "hovertemplate": "Country=United Arab Emirates<br>Dim1_pca=%{x}<br>Dim2_pca=%{y}<extra></extra>",
         "legendgroup": "United Arab Emirates",
         "marker": {
          "color": "#FF97FF",
          "symbol": "circle"
         },
         "mode": "markers",
         "name": "United Arab Emirates",
         "orientation": "v",
         "showlegend": true,
         "type": "scatter",
         "x": [
          -215164706990.5747
         ],
         "xaxis": "x",
         "y": [
          -34095727.6443668
         ],
         "yaxis": "y"
        },
        {
         "hovertemplate": "Country=United Kingdom<br>Dim1_pca=%{x}<br>Dim2_pca=%{y}<extra></extra>",
         "legendgroup": "United Kingdom",
         "marker": {
          "color": "#FECB52",
          "symbol": "circle"
         },
         "mode": "markers",
         "name": "United Kingdom",
         "orientation": "v",
         "showlegend": true,
         "type": "scatter",
         "x": [
          2511162653238.1987
         ],
         "xaxis": "x",
         "y": [
          -185903843.1687064
         ],
         "yaxis": "y"
        },
        {
         "hovertemplate": "Country=Uruguay<br>Dim1_pca=%{x}<br>Dim2_pca=%{y}<extra></extra>",
         "legendgroup": "Uruguay",
         "marker": {
          "color": "#636efa",
          "symbol": "circle"
         },
         "mode": "markers",
         "name": "Uruguay",
         "orientation": "v",
         "showlegend": true,
         "type": "scatter",
         "x": [
          -568931230933.6362
         ],
         "xaxis": "x",
         "y": [
          -12915877.606469084
         ],
         "yaxis": "y"
        },
        {
         "hovertemplate": "Country=Vietnam<br>Dim1_pca=%{x}<br>Dim2_pca=%{y}<extra></extra>",
         "legendgroup": "Vietnam",
         "marker": {
          "color": "#EF553B",
          "symbol": "circle"
         },
         "mode": "markers",
         "name": "Vietnam",
         "orientation": "v",
         "showlegend": true,
         "type": "scatter",
         "x": [
          -264205923679.26212
         ],
         "xaxis": "x",
         "y": [
          58474313.97028516
         ],
         "yaxis": "y"
        },
        {
         "hovertemplate": "Country=Zambia<br>Dim1_pca=%{x}<br>Dim2_pca=%{y}<extra></extra>",
         "legendgroup": "Zambia",
         "marker": {
          "color": "#00cc96",
          "symbol": "circle"
         },
         "mode": "markers",
         "name": "Zambia",
         "orientation": "v",
         "showlegend": true,
         "type": "scatter",
         "x": [
          -608247080858.1024
         ],
         "xaxis": "x",
         "y": [
          6695734.727621206
         ],
         "yaxis": "y"
        }
       ],
       "layout": {
        "legend": {
         "title": {
          "text": "Country"
         },
         "tracegroupgap": 0
        },
        "margin": {
         "t": 60
        },
        "template": {
         "data": {
          "bar": [
           {
            "error_x": {
             "color": "#2a3f5f"
            },
            "error_y": {
             "color": "#2a3f5f"
            },
            "marker": {
             "line": {
              "color": "#E5ECF6",
              "width": 0.5
             },
             "pattern": {
              "fillmode": "overlay",
              "size": 10,
              "solidity": 0.2
             }
            },
            "type": "bar"
           }
          ],
          "barpolar": [
           {
            "marker": {
             "line": {
              "color": "#E5ECF6",
              "width": 0.5
             },
             "pattern": {
              "fillmode": "overlay",
              "size": 10,
              "solidity": 0.2
             }
            },
            "type": "barpolar"
           }
          ],
          "carpet": [
           {
            "aaxis": {
             "endlinecolor": "#2a3f5f",
             "gridcolor": "white",
             "linecolor": "white",
             "minorgridcolor": "white",
             "startlinecolor": "#2a3f5f"
            },
            "baxis": {
             "endlinecolor": "#2a3f5f",
             "gridcolor": "white",
             "linecolor": "white",
             "minorgridcolor": "white",
             "startlinecolor": "#2a3f5f"
            },
            "type": "carpet"
           }
          ],
          "choropleth": [
           {
            "colorbar": {
             "outlinewidth": 0,
             "ticks": ""
            },
            "type": "choropleth"
           }
          ],
          "contour": [
           {
            "colorbar": {
             "outlinewidth": 0,
             "ticks": ""
            },
            "colorscale": [
             [
              0,
              "#0d0887"
             ],
             [
              0.1111111111111111,
              "#46039f"
             ],
             [
              0.2222222222222222,
              "#7201a8"
             ],
             [
              0.3333333333333333,
              "#9c179e"
             ],
             [
              0.4444444444444444,
              "#bd3786"
             ],
             [
              0.5555555555555556,
              "#d8576b"
             ],
             [
              0.6666666666666666,
              "#ed7953"
             ],
             [
              0.7777777777777778,
              "#fb9f3a"
             ],
             [
              0.8888888888888888,
              "#fdca26"
             ],
             [
              1,
              "#f0f921"
             ]
            ],
            "type": "contour"
           }
          ],
          "contourcarpet": [
           {
            "colorbar": {
             "outlinewidth": 0,
             "ticks": ""
            },
            "type": "contourcarpet"
           }
          ],
          "heatmap": [
           {
            "colorbar": {
             "outlinewidth": 0,
             "ticks": ""
            },
            "colorscale": [
             [
              0,
              "#0d0887"
             ],
             [
              0.1111111111111111,
              "#46039f"
             ],
             [
              0.2222222222222222,
              "#7201a8"
             ],
             [
              0.3333333333333333,
              "#9c179e"
             ],
             [
              0.4444444444444444,
              "#bd3786"
             ],
             [
              0.5555555555555556,
              "#d8576b"
             ],
             [
              0.6666666666666666,
              "#ed7953"
             ],
             [
              0.7777777777777778,
              "#fb9f3a"
             ],
             [
              0.8888888888888888,
              "#fdca26"
             ],
             [
              1,
              "#f0f921"
             ]
            ],
            "type": "heatmap"
           }
          ],
          "heatmapgl": [
           {
            "colorbar": {
             "outlinewidth": 0,
             "ticks": ""
            },
            "colorscale": [
             [
              0,
              "#0d0887"
             ],
             [
              0.1111111111111111,
              "#46039f"
             ],
             [
              0.2222222222222222,
              "#7201a8"
             ],
             [
              0.3333333333333333,
              "#9c179e"
             ],
             [
              0.4444444444444444,
              "#bd3786"
             ],
             [
              0.5555555555555556,
              "#d8576b"
             ],
             [
              0.6666666666666666,
              "#ed7953"
             ],
             [
              0.7777777777777778,
              "#fb9f3a"
             ],
             [
              0.8888888888888888,
              "#fdca26"
             ],
             [
              1,
              "#f0f921"
             ]
            ],
            "type": "heatmapgl"
           }
          ],
          "histogram": [
           {
            "marker": {
             "pattern": {
              "fillmode": "overlay",
              "size": 10,
              "solidity": 0.2
             }
            },
            "type": "histogram"
           }
          ],
          "histogram2d": [
           {
            "colorbar": {
             "outlinewidth": 0,
             "ticks": ""
            },
            "colorscale": [
             [
              0,
              "#0d0887"
             ],
             [
              0.1111111111111111,
              "#46039f"
             ],
             [
              0.2222222222222222,
              "#7201a8"
             ],
             [
              0.3333333333333333,
              "#9c179e"
             ],
             [
              0.4444444444444444,
              "#bd3786"
             ],
             [
              0.5555555555555556,
              "#d8576b"
             ],
             [
              0.6666666666666666,
              "#ed7953"
             ],
             [
              0.7777777777777778,
              "#fb9f3a"
             ],
             [
              0.8888888888888888,
              "#fdca26"
             ],
             [
              1,
              "#f0f921"
             ]
            ],
            "type": "histogram2d"
           }
          ],
          "histogram2dcontour": [
           {
            "colorbar": {
             "outlinewidth": 0,
             "ticks": ""
            },
            "colorscale": [
             [
              0,
              "#0d0887"
             ],
             [
              0.1111111111111111,
              "#46039f"
             ],
             [
              0.2222222222222222,
              "#7201a8"
             ],
             [
              0.3333333333333333,
              "#9c179e"
             ],
             [
              0.4444444444444444,
              "#bd3786"
             ],
             [
              0.5555555555555556,
              "#d8576b"
             ],
             [
              0.6666666666666666,
              "#ed7953"
             ],
             [
              0.7777777777777778,
              "#fb9f3a"
             ],
             [
              0.8888888888888888,
              "#fdca26"
             ],
             [
              1,
              "#f0f921"
             ]
            ],
            "type": "histogram2dcontour"
           }
          ],
          "mesh3d": [
           {
            "colorbar": {
             "outlinewidth": 0,
             "ticks": ""
            },
            "type": "mesh3d"
           }
          ],
          "parcoords": [
           {
            "line": {
             "colorbar": {
              "outlinewidth": 0,
              "ticks": ""
             }
            },
            "type": "parcoords"
           }
          ],
          "pie": [
           {
            "automargin": true,
            "type": "pie"
           }
          ],
          "scatter": [
           {
            "fillpattern": {
             "fillmode": "overlay",
             "size": 10,
             "solidity": 0.2
            },
            "type": "scatter"
           }
          ],
          "scatter3d": [
           {
            "line": {
             "colorbar": {
              "outlinewidth": 0,
              "ticks": ""
             }
            },
            "marker": {
             "colorbar": {
              "outlinewidth": 0,
              "ticks": ""
             }
            },
            "type": "scatter3d"
           }
          ],
          "scattercarpet": [
           {
            "marker": {
             "colorbar": {
              "outlinewidth": 0,
              "ticks": ""
             }
            },
            "type": "scattercarpet"
           }
          ],
          "scattergeo": [
           {
            "marker": {
             "colorbar": {
              "outlinewidth": 0,
              "ticks": ""
             }
            },
            "type": "scattergeo"
           }
          ],
          "scattergl": [
           {
            "marker": {
             "colorbar": {
              "outlinewidth": 0,
              "ticks": ""
             }
            },
            "type": "scattergl"
           }
          ],
          "scattermapbox": [
           {
            "marker": {
             "colorbar": {
              "outlinewidth": 0,
              "ticks": ""
             }
            },
            "type": "scattermapbox"
           }
          ],
          "scatterpolar": [
           {
            "marker": {
             "colorbar": {
              "outlinewidth": 0,
              "ticks": ""
             }
            },
            "type": "scatterpolar"
           }
          ],
          "scatterpolargl": [
           {
            "marker": {
             "colorbar": {
              "outlinewidth": 0,
              "ticks": ""
             }
            },
            "type": "scatterpolargl"
           }
          ],
          "scatterternary": [
           {
            "marker": {
             "colorbar": {
              "outlinewidth": 0,
              "ticks": ""
             }
            },
            "type": "scatterternary"
           }
          ],
          "surface": [
           {
            "colorbar": {
             "outlinewidth": 0,
             "ticks": ""
            },
            "colorscale": [
             [
              0,
              "#0d0887"
             ],
             [
              0.1111111111111111,
              "#46039f"
             ],
             [
              0.2222222222222222,
              "#7201a8"
             ],
             [
              0.3333333333333333,
              "#9c179e"
             ],
             [
              0.4444444444444444,
              "#bd3786"
             ],
             [
              0.5555555555555556,
              "#d8576b"
             ],
             [
              0.6666666666666666,
              "#ed7953"
             ],
             [
              0.7777777777777778,
              "#fb9f3a"
             ],
             [
              0.8888888888888888,
              "#fdca26"
             ],
             [
              1,
              "#f0f921"
             ]
            ],
            "type": "surface"
           }
          ],
          "table": [
           {
            "cells": {
             "fill": {
              "color": "#EBF0F8"
             },
             "line": {
              "color": "white"
             }
            },
            "header": {
             "fill": {
              "color": "#C8D4E3"
             },
             "line": {
              "color": "white"
             }
            },
            "type": "table"
           }
          ]
         },
         "layout": {
          "annotationdefaults": {
           "arrowcolor": "#2a3f5f",
           "arrowhead": 0,
           "arrowwidth": 1
          },
          "autotypenumbers": "strict",
          "coloraxis": {
           "colorbar": {
            "outlinewidth": 0,
            "ticks": ""
           }
          },
          "colorscale": {
           "diverging": [
            [
             0,
             "#8e0152"
            ],
            [
             0.1,
             "#c51b7d"
            ],
            [
             0.2,
             "#de77ae"
            ],
            [
             0.3,
             "#f1b6da"
            ],
            [
             0.4,
             "#fde0ef"
            ],
            [
             0.5,
             "#f7f7f7"
            ],
            [
             0.6,
             "#e6f5d0"
            ],
            [
             0.7,
             "#b8e186"
            ],
            [
             0.8,
             "#7fbc41"
            ],
            [
             0.9,
             "#4d9221"
            ],
            [
             1,
             "#276419"
            ]
           ],
           "sequential": [
            [
             0,
             "#0d0887"
            ],
            [
             0.1111111111111111,
             "#46039f"
            ],
            [
             0.2222222222222222,
             "#7201a8"
            ],
            [
             0.3333333333333333,
             "#9c179e"
            ],
            [
             0.4444444444444444,
             "#bd3786"
            ],
            [
             0.5555555555555556,
             "#d8576b"
            ],
            [
             0.6666666666666666,
             "#ed7953"
            ],
            [
             0.7777777777777778,
             "#fb9f3a"
            ],
            [
             0.8888888888888888,
             "#fdca26"
            ],
            [
             1,
             "#f0f921"
            ]
           ],
           "sequentialminus": [
            [
             0,
             "#0d0887"
            ],
            [
             0.1111111111111111,
             "#46039f"
            ],
            [
             0.2222222222222222,
             "#7201a8"
            ],
            [
             0.3333333333333333,
             "#9c179e"
            ],
            [
             0.4444444444444444,
             "#bd3786"
            ],
            [
             0.5555555555555556,
             "#d8576b"
            ],
            [
             0.6666666666666666,
             "#ed7953"
            ],
            [
             0.7777777777777778,
             "#fb9f3a"
            ],
            [
             0.8888888888888888,
             "#fdca26"
            ],
            [
             1,
             "#f0f921"
            ]
           ]
          },
          "colorway": [
           "#636efa",
           "#EF553B",
           "#00cc96",
           "#ab63fa",
           "#FFA15A",
           "#19d3f3",
           "#FF6692",
           "#B6E880",
           "#FF97FF",
           "#FECB52"
          ],
          "font": {
           "color": "#2a3f5f"
          },
          "geo": {
           "bgcolor": "white",
           "lakecolor": "white",
           "landcolor": "#E5ECF6",
           "showlakes": true,
           "showland": true,
           "subunitcolor": "white"
          },
          "hoverlabel": {
           "align": "left"
          },
          "hovermode": "closest",
          "mapbox": {
           "style": "light"
          },
          "paper_bgcolor": "white",
          "plot_bgcolor": "#E5ECF6",
          "polar": {
           "angularaxis": {
            "gridcolor": "white",
            "linecolor": "white",
            "ticks": ""
           },
           "bgcolor": "#E5ECF6",
           "radialaxis": {
            "gridcolor": "white",
            "linecolor": "white",
            "ticks": ""
           }
          },
          "scene": {
           "xaxis": {
            "backgroundcolor": "#E5ECF6",
            "gridcolor": "white",
            "gridwidth": 2,
            "linecolor": "white",
            "showbackground": true,
            "ticks": "",
            "zerolinecolor": "white"
           },
           "yaxis": {
            "backgroundcolor": "#E5ECF6",
            "gridcolor": "white",
            "gridwidth": 2,
            "linecolor": "white",
            "showbackground": true,
            "ticks": "",
            "zerolinecolor": "white"
           },
           "zaxis": {
            "backgroundcolor": "#E5ECF6",
            "gridcolor": "white",
            "gridwidth": 2,
            "linecolor": "white",
            "showbackground": true,
            "ticks": "",
            "zerolinecolor": "white"
           }
          },
          "shapedefaults": {
           "line": {
            "color": "#2a3f5f"
           }
          },
          "ternary": {
           "aaxis": {
            "gridcolor": "white",
            "linecolor": "white",
            "ticks": ""
           },
           "baxis": {
            "gridcolor": "white",
            "linecolor": "white",
            "ticks": ""
           },
           "bgcolor": "#E5ECF6",
           "caxis": {
            "gridcolor": "white",
            "linecolor": "white",
            "ticks": ""
           }
          },
          "title": {
           "x": 0.05
          },
          "xaxis": {
           "automargin": true,
           "gridcolor": "white",
           "linecolor": "white",
           "ticks": "",
           "title": {
            "standoff": 15
           },
           "zerolinecolor": "white",
           "zerolinewidth": 2
          },
          "yaxis": {
           "automargin": true,
           "gridcolor": "white",
           "linecolor": "white",
           "ticks": "",
           "title": {
            "standoff": 15
           },
           "zerolinecolor": "white",
           "zerolinewidth": 2
          }
         }
        },
        "title": {
         "text": "Premier plan factoriel"
        },
        "xaxis": {
         "anchor": "y",
         "domain": [
          0,
          1
         ],
         "title": {
          "text": "Dimension 1"
         }
        },
        "yaxis": {
         "anchor": "x",
         "domain": [
          0,
          1
         ],
         "title": {
          "text": "Dimension 2"
         }
        }
       }
      },
      "text/html": [
       "<div>                            <div id=\"7beda749-d8fa-4fa4-bee6-7ecd8854e6ef\" class=\"plotly-graph-div\" style=\"height:525px; width:100%;\"></div>            <script type=\"text/javascript\">                require([\"plotly\"], function(Plotly) {                    window.PLOTLYENV=window.PLOTLYENV || {};                                    if (document.getElementById(\"7beda749-d8fa-4fa4-bee6-7ecd8854e6ef\")) {                    Plotly.newPlot(                        \"7beda749-d8fa-4fa4-bee6-7ecd8854e6ef\",                        [{\"hovertemplate\":\"Country=Albania<br>Dim1_pca=%{x}<br>Dim2_pca=%{y}<extra></extra>\",\"legendgroup\":\"Albania\",\"marker\":{\"color\":\"#636efa\",\"symbol\":\"circle\"},\"mode\":\"markers\",\"name\":\"Albania\",\"orientation\":\"v\",\"showlegend\":true,\"x\":[-612412933984.6053],\"xaxis\":\"x\",\"y\":[-10210703.050451657],\"yaxis\":\"y\",\"type\":\"scatter\"},{\"hovertemplate\":\"Country=Algeria<br>Dim1_pca=%{x}<br>Dim2_pca=%{y}<extra></extra>\",\"legendgroup\":\"Algeria\",\"marker\":{\"color\":\"#EF553B\",\"symbol\":\"circle\"},\"mode\":\"markers\",\"name\":\"Algeria\",\"orientation\":\"v\",\"showlegend\":true,\"x\":[-466871108308.9155],\"xaxis\":\"x\",\"y\":[20745584.084457017],\"yaxis\":\"y\",\"type\":\"scatter\"},{\"hovertemplate\":\"Country=Argentina<br>Dim1_pca=%{x}<br>Dim2_pca=%{y}<extra></extra>\",\"legendgroup\":\"Argentina\",\"marker\":{\"color\":\"#00cc96\",\"symbol\":\"circle\"},\"mode\":\"markers\",\"name\":\"Argentina\",\"orientation\":\"v\",\"showlegend\":true,\"x\":[-142440924985.56168],\"xaxis\":\"x\",\"y\":[-2856833.490741843],\"yaxis\":\"y\",\"type\":\"scatter\"},{\"hovertemplate\":\"Country=Armenia<br>Dim1_pca=%{x}<br>Dim2_pca=%{y}<extra></extra>\",\"legendgroup\":\"Armenia\",\"marker\":{\"color\":\"#ab63fa\",\"symbol\":\"circle\"},\"mode\":\"markers\",\"name\":\"Armenia\",\"orientation\":\"v\",\"showlegend\":true,\"x\":[-616464590462.4438],\"xaxis\":\"x\",\"y\":[-9900730.858373858],\"yaxis\":\"y\",\"type\":\"scatter\"},{\"hovertemplate\":\"Country=Australia<br>Dim1_pca=%{x}<br>Dim2_pca=%{y}<extra></extra>\",\"legendgroup\":\"Australia\",\"marker\":{\"color\":\"#FFA15A\",\"symbol\":\"circle\"},\"mode\":\"markers\",\"name\":\"Australia\",\"orientation\":\"v\",\"showlegend\":true,\"x\":[928690254426.5889],\"xaxis\":\"x\",\"y\":[-105364663.60924993],\"yaxis\":\"y\",\"type\":\"scatter\"},{\"hovertemplate\":\"Country=Austria<br>Dim1_pca=%{x}<br>Dim2_pca=%{y}<extra></extra>\",\"legendgroup\":\"Austria\",\"marker\":{\"color\":\"#19d3f3\",\"symbol\":\"circle\"},\"mode\":\"markers\",\"name\":\"Austria\",\"orientation\":\"v\",\"showlegend\":true,\"x\":[-151048137235.80826],\"xaxis\":\"x\",\"y\":[-39393642.376273856],\"yaxis\":\"y\",\"type\":\"scatter\"},{\"hovertemplate\":\"Country=Azerbaijan<br>Dim1_pca=%{x}<br>Dim2_pca=%{y}<extra></extra>\",\"legendgroup\":\"Azerbaijan\",\"marker\":{\"color\":\"#FF6692\",\"symbol\":\"circle\"},\"mode\":\"markers\",\"name\":\"Azerbaijan\",\"orientation\":\"v\",\"showlegend\":true,\"x\":[-575518086881.9153],\"xaxis\":\"x\",\"y\":[-5682401.330079236],\"yaxis\":\"y\",\"type\":\"scatter\"},{\"hovertemplate\":\"Country=Bahrain<br>Dim1_pca=%{x}<br>Dim2_pca=%{y}<extra></extra>\",\"legendgroup\":\"Bahrain\",\"marker\":{\"color\":\"#B6E880\",\"symbol\":\"circle\"},\"mode\":\"markers\",\"name\":\"Bahrain\",\"orientation\":\"v\",\"showlegend\":true,\"x\":[-591054829054.3059],\"xaxis\":\"x\",\"y\":[-13173613.036010405],\"yaxis\":\"y\",\"type\":\"scatter\"},{\"hovertemplate\":\"Country=Bangladesh<br>Dim1_pca=%{x}<br>Dim2_pca=%{y}<extra></extra>\",\"legendgroup\":\"Bangladesh\",\"marker\":{\"color\":\"#FF97FF\",\"symbol\":\"circle\"},\"mode\":\"markers\",\"name\":\"Bangladesh\",\"orientation\":\"v\",\"showlegend\":true,\"x\":[-214078686790.63135],\"xaxis\":\"x\",\"y\":[127660717.36068892],\"yaxis\":\"y\",\"type\":\"scatter\"},{\"hovertemplate\":\"Country=Belgium<br>Dim1_pca=%{x}<br>Dim2_pca=%{y}<extra></extra>\",\"legendgroup\":\"Belgium\",\"marker\":{\"color\":\"#FECB52\",\"symbol\":\"circle\"},\"mode\":\"markers\",\"name\":\"Belgium\",\"orientation\":\"v\",\"showlegend\":true,\"x\":[-29594687536.42639],\"xaxis\":\"x\",\"y\":[-46078906.273646794],\"yaxis\":\"y\",\"type\":\"scatter\"},{\"hovertemplate\":\"Country=Bulgaria<br>Dim1_pca=%{x}<br>Dim2_pca=%{y}<extra></extra>\",\"legendgroup\":\"Bulgaria\",\"marker\":{\"color\":\"#636efa\",\"symbol\":\"circle\"},\"mode\":\"markers\",\"name\":\"Bulgaria\",\"orientation\":\"v\",\"showlegend\":true,\"x\":[-546302005999.1995],\"xaxis\":\"x\",\"y\":[-11596049.534370134],\"yaxis\":\"y\",\"type\":\"scatter\"},{\"hovertemplate\":\"Country=Burundi<br>Dim1_pca=%{x}<br>Dim2_pca=%{y}<extra></extra>\",\"legendgroup\":\"Burundi\",\"marker\":{\"color\":\"#EF553B\",\"symbol\":\"circle\"},\"mode\":\"markers\",\"name\":\"Burundi\",\"orientation\":\"v\",\"showlegend\":true,\"x\":[-627567699584.9603],\"xaxis\":\"x\",\"y\":[1054886.663523968],\"yaxis\":\"y\",\"type\":\"scatter\"},{\"hovertemplate\":\"Country=Cambodia<br>Dim1_pca=%{x}<br>Dim2_pca=%{y}<extra></extra>\",\"legendgroup\":\"Cambodia\",\"marker\":{\"color\":\"#00cc96\",\"symbol\":\"circle\"},\"mode\":\"markers\",\"name\":\"Cambodia\",\"orientation\":\"v\",\"showlegend\":true,\"x\":[-603382436903.8685],\"xaxis\":\"x\",\"y\":[3083116.0727244164],\"yaxis\":\"y\",\"type\":\"scatter\"},{\"hovertemplate\":\"Country=Cameroon<br>Dim1_pca=%{x}<br>Dim2_pca=%{y}<extra></extra>\",\"legendgroup\":\"Cameroon\",\"marker\":{\"color\":\"#ab63fa\",\"symbol\":\"circle\"},\"mode\":\"markers\",\"name\":\"Cameroon\",\"orientation\":\"v\",\"showlegend\":true,\"x\":[-585349975478.706],\"xaxis\":\"x\",\"y\":[12834813.545412546],\"yaxis\":\"y\",\"type\":\"scatter\"},{\"hovertemplate\":\"Country=Canada<br>Dim1_pca=%{x}<br>Dim2_pca=%{y}<extra></extra>\",\"legendgroup\":\"Canada\",\"marker\":{\"color\":\"#FFA15A\",\"symbol\":\"circle\"},\"mode\":\"markers\",\"name\":\"Canada\",\"orientation\":\"v\",\"showlegend\":true,\"x\":[1377128679277.2046],\"xaxis\":\"x\",\"y\":[-126871866.5026872],\"yaxis\":\"y\",\"type\":\"scatter\"},{\"hovertemplate\":\"Country=Chad<br>Dim1_pca=%{x}<br>Dim2_pca=%{y}<extra></extra>\",\"legendgroup\":\"Chad\",\"marker\":{\"color\":\"#19d3f3\",\"symbol\":\"circle\"},\"mode\":\"markers\",\"name\":\"Chad\",\"orientation\":\"v\",\"showlegend\":true,\"x\":[-618563516604.3813],\"xaxis\":\"x\",\"y\":[5193795.83551817],\"yaxis\":\"y\",\"type\":\"scatter\"},{\"hovertemplate\":\"Country=China<br>Dim1_pca=%{x}<br>Dim2_pca=%{y}<extra></extra>\",\"legendgroup\":\"China\",\"marker\":{\"color\":\"#FF6692\",\"symbol\":\"circle\"},\"mode\":\"markers\",\"name\":\"China\",\"orientation\":\"v\",\"showlegend\":true,\"x\":[17190116065492.492],\"xaxis\":\"x\",\"y\":[31927250.235944718],\"yaxis\":\"y\",\"type\":\"scatter\"},{\"hovertemplate\":\"Country=Costa Rica<br>Dim1_pca=%{x}<br>Dim2_pca=%{y}<extra></extra>\",\"legendgroup\":\"Costa Rica\",\"marker\":{\"color\":\"#B6E880\",\"symbol\":\"circle\"},\"mode\":\"markers\",\"name\":\"Costa Rica\",\"orientation\":\"v\",\"showlegend\":true,\"x\":[-565382773323.822],\"xaxis\":\"x\",\"y\":[-11434551.201433824],\"yaxis\":\"y\",\"type\":\"scatter\"},{\"hovertemplate\":\"Country=Croatia<br>Dim1_pca=%{x}<br>Dim2_pca=%{y}<extra></extra>\",\"legendgroup\":\"Croatia\",\"marker\":{\"color\":\"#FF97FF\",\"symbol\":\"circle\"},\"mode\":\"markers\",\"name\":\"Croatia\",\"orientation\":\"v\",\"showlegend\":true,\"x\":[-561262262530.186],\"xaxis\":\"x\",\"y\":[-13065310.508526735],\"yaxis\":\"y\",\"type\":\"scatter\"},{\"hovertemplate\":\"Country=Cyprus<br>Dim1_pca=%{x}<br>Dim2_pca=%{y}<extra></extra>\",\"legendgroup\":\"Cyprus\",\"marker\":{\"color\":\"#FECB52\",\"symbol\":\"circle\"},\"mode\":\"markers\",\"name\":\"Cyprus\",\"orientation\":\"v\",\"showlegend\":true,\"x\":[-600860581576.4371],\"xaxis\":\"x\",\"y\":[-12637608.055572014],\"yaxis\":\"y\",\"type\":\"scatter\"},{\"hovertemplate\":\"Country=Czech Republic<br>Dim1_pca=%{x}<br>Dim2_pca=%{y}<extra></extra>\",\"legendgroup\":\"Czech Republic\",\"marker\":{\"color\":\"#636efa\",\"symbol\":\"circle\"},\"mode\":\"markers\",\"name\":\"Czech Republic\",\"orientation\":\"v\",\"showlegend\":true,\"x\":[-348552280768.2194],\"xaxis\":\"x\",\"y\":[-22586054.67167199],\"yaxis\":\"y\",\"type\":\"scatter\"},{\"hovertemplate\":\"Country=Denmark<br>Dim1_pca=%{x}<br>Dim2_pca=%{y}<extra></extra>\",\"legendgroup\":\"Denmark\",\"marker\":{\"color\":\"#EF553B\",\"symbol\":\"circle\"},\"mode\":\"markers\",\"name\":\"Denmark\",\"orientation\":\"v\",\"showlegend\":true,\"x\":[-224655501154.76868],\"xaxis\":\"x\",\"y\":[-36880226.3855442],\"yaxis\":\"y\",\"type\":\"scatter\"},{\"hovertemplate\":\"Country=Dominican Republic<br>Dim1_pca=%{x}<br>Dim2_pca=%{y}<extra></extra>\",\"legendgroup\":\"Dominican Republic\",\"marker\":{\"color\":\"#00cc96\",\"symbol\":\"circle\"},\"mode\":\"markers\",\"name\":\"Dominican Republic\",\"orientation\":\"v\",\"showlegend\":true,\"x\":[-536100072740.635],\"xaxis\":\"x\",\"y\":[-7618480.677869504],\"yaxis\":\"y\",\"type\":\"scatter\"},{\"hovertemplate\":\"Country=El Salvador<br>Dim1_pca=%{x}<br>Dim2_pca=%{y}<extra></extra>\",\"legendgroup\":\"El Salvador\",\"marker\":{\"color\":\"#ab63fa\",\"symbol\":\"circle\"},\"mode\":\"markers\",\"name\":\"El Salvador\",\"orientation\":\"v\",\"showlegend\":true,\"x\":[-600892258863.8821],\"xaxis\":\"x\",\"y\":[-7532836.395754231],\"yaxis\":\"y\",\"type\":\"scatter\"},{\"hovertemplate\":\"Country=Estonia<br>Dim1_pca=%{x}<br>Dim2_pca=%{y}<extra></extra>\",\"legendgroup\":\"Estonia\",\"marker\":{\"color\":\"#FFA15A\",\"symbol\":\"circle\"},\"mode\":\"markers\",\"name\":\"Estonia\",\"orientation\":\"v\",\"showlegend\":true,\"x\":[-593152333118.5696],\"xaxis\":\"x\",\"y\":[-13131842.766822686],\"yaxis\":\"y\",\"type\":\"scatter\"},{\"hovertemplate\":\"Country=Ethiopia<br>Dim1_pca=%{x}<br>Dim2_pca=%{y}<extra></extra>\",\"legendgroup\":\"Ethiopia\",\"marker\":{\"color\":\"#19d3f3\",\"symbol\":\"circle\"},\"mode\":\"markers\",\"name\":\"Ethiopia\",\"orientation\":\"v\",\"showlegend\":true,\"x\":[-519081607157.13116],\"xaxis\":\"x\",\"y\":[103208560.3257415],\"yaxis\":\"y\",\"type\":\"scatter\"},{\"hovertemplate\":\"Country=Finland<br>Dim1_pca=%{x}<br>Dim2_pca=%{y}<extra></extra>\",\"legendgroup\":\"Finland\",\"marker\":{\"color\":\"#FF6692\",\"symbol\":\"circle\"},\"mode\":\"markers\",\"name\":\"Finland\",\"orientation\":\"v\",\"showlegend\":true,\"x\":[-333873082626.64215],\"xaxis\":\"x\",\"y\":[-28836946.83882892],\"yaxis\":\"y\",\"type\":\"scatter\"},{\"hovertemplate\":\"Country=France<br>Dim1_pca=%{x}<br>Dim2_pca=%{y}<extra></extra>\",\"legendgroup\":\"France\",\"marker\":{\"color\":\"#B6E880\",\"symbol\":\"circle\"},\"mode\":\"markers\",\"name\":\"France\",\"orientation\":\"v\",\"showlegend\":true,\"x\":[2329012316402.438],\"xaxis\":\"x\",\"y\":[-170940620.38207024],\"yaxis\":\"y\",\"type\":\"scatter\"},{\"hovertemplate\":\"Country=Germany<br>Dim1_pca=%{x}<br>Dim2_pca=%{y}<extra></extra>\",\"legendgroup\":\"Germany\",\"marker\":{\"color\":\"#FF97FF\",\"symbol\":\"circle\"},\"mode\":\"markers\",\"name\":\"Germany\",\"orientation\":\"v\",\"showlegend\":true,\"x\":[3648160429250.0938],\"xaxis\":\"x\",\"y\":[-256431856.6848398],\"yaxis\":\"y\",\"type\":\"scatter\"},{\"hovertemplate\":\"Country=Ghana<br>Dim1_pca=%{x}<br>Dim2_pca=%{y}<extra></extra>\",\"legendgroup\":\"Ghana\",\"marker\":{\"color\":\"#FECB52\",\"symbol\":\"circle\"},\"mode\":\"markers\",\"name\":\"Ghana\",\"orientation\":\"v\",\"showlegend\":true,\"x\":[-550819075066.0454],\"xaxis\":\"x\",\"y\":[15750514.587994888],\"yaxis\":\"y\",\"type\":\"scatter\"},{\"hovertemplate\":\"Country=Greece<br>Dim1_pca=%{x}<br>Dim2_pca=%{y}<extra></extra>\",\"legendgroup\":\"Greece\",\"marker\":{\"color\":\"#636efa\",\"symbol\":\"circle\"},\"mode\":\"markers\",\"name\":\"Greece\",\"orientation\":\"v\",\"showlegend\":true,\"x\":[-415675691654.56793],\"xaxis\":\"x\",\"y\":[-17677568.58806607],\"yaxis\":\"y\",\"type\":\"scatter\"},{\"hovertemplate\":\"Country=Guatemala<br>Dim1_pca=%{x}<br>Dim2_pca=%{y}<extra></extra>\",\"legendgroup\":\"Guatemala\",\"marker\":{\"color\":\"#EF553B\",\"symbol\":\"circle\"},\"mode\":\"markers\",\"name\":\"Guatemala\",\"orientation\":\"v\",\"showlegend\":true,\"x\":[-544290414708.42535],\"xaxis\":\"x\",\"y\":[-862170.0501608817],\"yaxis\":\"y\",\"type\":\"scatter\"},{\"hovertemplate\":\"Country=Guinea<br>Dim1_pca=%{x}<br>Dim2_pca=%{y}<extra></extra>\",\"legendgroup\":\"Guinea\",\"marker\":{\"color\":\"#00cc96\",\"symbol\":\"circle\"},\"mode\":\"markers\",\"name\":\"Guinea\",\"orientation\":\"v\",\"showlegend\":true,\"x\":[-614251680405.1901],\"xaxis\":\"x\",\"y\":[1002538.5195758851],\"yaxis\":\"y\",\"type\":\"scatter\"},{\"hovertemplate\":\"Country=Honduras<br>Dim1_pca=%{x}<br>Dim2_pca=%{y}<extra></extra>\",\"legendgroup\":\"Honduras\",\"marker\":{\"color\":\"#ab63fa\",\"symbol\":\"circle\"},\"mode\":\"markers\",\"name\":\"Honduras\",\"orientation\":\"v\",\"showlegend\":true,\"x\":[-601854776865.9166],\"xaxis\":\"x\",\"y\":[-3370122.155965148],\"yaxis\":\"y\",\"type\":\"scatter\"},{\"hovertemplate\":\"Country=Hungary<br>Dim1_pca=%{x}<br>Dim2_pca=%{y}<extra></extra>\",\"legendgroup\":\"Hungary\",\"marker\":{\"color\":\"#FFA15A\",\"symbol\":\"circle\"},\"mode\":\"markers\",\"name\":\"Hungary\",\"orientation\":\"v\",\"showlegend\":true,\"x\":[-448253457303.1735],\"xaxis\":\"x\",\"y\":[-15961705.543790754],\"yaxis\":\"y\",\"type\":\"scatter\"},{\"hovertemplate\":\"Country=Iceland<br>Dim1_pca=%{x}<br>Dim2_pca=%{y}<extra></extra>\",\"legendgroup\":\"Iceland\",\"marker\":{\"color\":\"#19d3f3\",\"symbol\":\"circle\"},\"mode\":\"markers\",\"name\":\"Iceland\",\"orientation\":\"v\",\"showlegend\":true,\"x\":[-604747559141.1417],\"xaxis\":\"x\",\"y\":[-13209583.992828453],\"yaxis\":\"y\",\"type\":\"scatter\"},{\"hovertemplate\":\"Country=India<br>Dim1_pca=%{x}<br>Dim2_pca=%{y}<extra></extra>\",\"legendgroup\":\"India\",\"marker\":{\"color\":\"#FF6692\",\"symbol\":\"circle\"},\"mode\":\"markers\",\"name\":\"India\",\"orientation\":\"v\",\"showlegend\":true,\"x\":[2519963439440.4487],\"xaxis\":\"x\",\"y\":[1163692077.1163473],\"yaxis\":\"y\",\"type\":\"scatter\"},{\"hovertemplate\":\"Country=Indonesia<br>Dim1_pca=%{x}<br>Dim2_pca=%{y}<extra></extra>\",\"legendgroup\":\"Indonesia\",\"marker\":{\"color\":\"#B6E880\",\"symbol\":\"circle\"},\"mode\":\"markers\",\"name\":\"Indonesia\",\"orientation\":\"v\",\"showlegend\":true,\"x\":[556161974134.8982],\"xaxis\":\"x\",\"y\":[172784846.1302242],\"yaxis\":\"y\",\"type\":\"scatter\"},{\"hovertemplate\":\"Country=Israel<br>Dim1_pca=%{x}<br>Dim2_pca=%{y}<extra></extra>\",\"legendgroup\":\"Israel\",\"marker\":{\"color\":\"#FF97FF\",\"symbol\":\"circle\"},\"mode\":\"markers\",\"name\":\"Israel\",\"orientation\":\"v\",\"showlegend\":true,\"x\":[-141816954091.68335],\"xaxis\":\"x\",\"y\":[-39590683.335956275],\"yaxis\":\"y\",\"type\":\"scatter\"},{\"hovertemplate\":\"Country=Italy<br>Dim1_pca=%{x}<br>Dim2_pca=%{y}<extra></extra>\",\"legendgroup\":\"Italy\",\"marker\":{\"color\":\"#FECB52\",\"symbol\":\"circle\"},\"mode\":\"markers\",\"name\":\"Italy\",\"orientation\":\"v\",\"showlegend\":true,\"x\":[1525016797907.3767],\"xaxis\":\"x\",\"y\":[-118205267.37123953],\"yaxis\":\"y\",\"type\":\"scatter\"},{\"hovertemplate\":\"Country=Jamaica<br>Dim1_pca=%{x}<br>Dim2_pca=%{y}<extra></extra>\",\"legendgroup\":\"Jamaica\",\"marker\":{\"color\":\"#636efa\",\"symbol\":\"circle\"},\"mode\":\"markers\",\"name\":\"Jamaica\",\"orientation\":\"v\",\"showlegend\":true,\"x\":[-615685912963.0208],\"xaxis\":\"x\",\"y\":[-9911200.38516832],\"yaxis\":\"y\",\"type\":\"scatter\"},{\"hovertemplate\":\"Country=Japan<br>Dim1_pca=%{x}<br>Dim2_pca=%{y}<extra></extra>\",\"legendgroup\":\"Japan\",\"marker\":{\"color\":\"#EF553B\",\"symbol\":\"circle\"},\"mode\":\"markers\",\"name\":\"Japan\",\"orientation\":\"v\",\"showlegend\":true,\"x\":[4404277280081.724],\"xaxis\":\"x\",\"y\":[-273177883.985349],\"yaxis\":\"y\",\"type\":\"scatter\"},{\"hovertemplate\":\"Country=Jordan<br>Dim1_pca=%{x}<br>Dim2_pca=%{y}<extra></extra>\",\"legendgroup\":\"Jordan\",\"marker\":{\"color\":\"#00cc96\",\"symbol\":\"circle\"},\"mode\":\"markers\",\"name\":\"Jordan\",\"orientation\":\"v\",\"showlegend\":true,\"x\":[-584047398391.6493],\"xaxis\":\"x\",\"y\":[-3897097.6865647146],\"yaxis\":\"y\",\"type\":\"scatter\"},{\"hovertemplate\":\"Country=Kazakhstan<br>Dim1_pca=%{x}<br>Dim2_pca=%{y}<extra></extra>\",\"legendgroup\":\"Kazakhstan\",\"marker\":{\"color\":\"#ab63fa\",\"symbol\":\"circle\"},\"mode\":\"markers\",\"name\":\"Kazakhstan\",\"orientation\":\"v\",\"showlegend\":true,\"x\":[-433231242972.967],\"xaxis\":\"x\",\"y\":[-7100556.188107063],\"yaxis\":\"y\",\"type\":\"scatter\"},{\"hovertemplate\":\"Country=Kenya<br>Dim1_pca=%{x}<br>Dim2_pca=%{y}<extra></extra>\",\"legendgroup\":\"Kenya\",\"marker\":{\"color\":\"#FFA15A\",\"symbol\":\"circle\"},\"mode\":\"markers\",\"name\":\"Kenya\",\"orientation\":\"v\",\"showlegend\":true,\"x\":[-520639836532.8407],\"xaxis\":\"x\",\"y\":[33975709.03737234],\"yaxis\":\"y\",\"type\":\"scatter\"},{\"hovertemplate\":\"Country=Laos<br>Dim1_pca=%{x}<br>Dim2_pca=%{y}<extra></extra>\",\"legendgroup\":\"Laos\",\"marker\":{\"color\":\"#19d3f3\",\"symbol\":\"circle\"},\"mode\":\"markers\",\"name\":\"Laos\",\"orientation\":\"v\",\"showlegend\":true,\"x\":[-611516350211.9991],\"xaxis\":\"x\",\"y\":[-5527316.060872227],\"yaxis\":\"y\",\"type\":\"scatter\"},{\"hovertemplate\":\"Country=Latvia<br>Dim1_pca=%{x}<br>Dim2_pca=%{y}<extra></extra>\",\"legendgroup\":\"Latvia\",\"marker\":{\"color\":\"#FF6692\",\"symbol\":\"circle\"},\"mode\":\"markers\",\"name\":\"Latvia\",\"orientation\":\"v\",\"showlegend\":true,\"x\":[-590900373061.8783],\"xaxis\":\"x\",\"y\":[-12772276.107378121],\"yaxis\":\"y\",\"type\":\"scatter\"},{\"hovertemplate\":\"Country=Lesotho<br>Dim1_pca=%{x}<br>Dim2_pca=%{y}<extra></extra>\",\"legendgroup\":\"Lesotho\",\"marker\":{\"color\":\"#B6E880\",\"symbol\":\"circle\"},\"mode\":\"markers\",\"name\":\"Lesotho\",\"orientation\":\"v\",\"showlegend\":true,\"x\":[-627994728081.1555],\"xaxis\":\"x\",\"y\":[-9498485.731817467],\"yaxis\":\"y\",\"type\":\"scatter\"},{\"hovertemplate\":\"Country=Lithuania<br>Dim1_pca=%{x}<br>Dim2_pca=%{y}<extra></extra>\",\"legendgroup\":\"Lithuania\",\"marker\":{\"color\":\"#FF97FF\",\"symbol\":\"circle\"},\"mode\":\"markers\",\"name\":\"Lithuania\",\"orientation\":\"v\",\"showlegend\":true,\"x\":[-563544565457.9617],\"xaxis\":\"x\",\"y\":[-13917405.020580042],\"yaxis\":\"y\",\"type\":\"scatter\"},{\"hovertemplate\":\"Country=Luxembourg<br>Dim1_pca=%{x}<br>Dim2_pca=%{y}<extra></extra>\",\"legendgroup\":\"Luxembourg\",\"marker\":{\"color\":\"#FECB52\",\"symbol\":\"circle\"},\"mode\":\"markers\",\"name\":\"Luxembourg\",\"orientation\":\"v\",\"showlegend\":true,\"x\":[-544759393472.9066],\"xaxis\":\"x\",\"y\":[-17546077.576119747],\"yaxis\":\"y\",\"type\":\"scatter\"},{\"hovertemplate\":\"Country=Madagascar<br>Dim1_pca=%{x}<br>Dim2_pca=%{y}<extra></extra>\",\"legendgroup\":\"Madagascar\",\"marker\":{\"color\":\"#636efa\",\"symbol\":\"circle\"},\"mode\":\"markers\",\"name\":\"Madagascar\",\"orientation\":\"v\",\"showlegend\":true,\"x\":[-615788742916.4227],\"xaxis\":\"x\",\"y\":[16868364.917502504],\"yaxis\":\"y\",\"type\":\"scatter\"},{\"hovertemplate\":\"Country=Malaysia<br>Dim1_pca=%{x}<br>Dim2_pca=%{y}<extra></extra>\",\"legendgroup\":\"Malaysia\",\"marker\":{\"color\":\"#EF553B\",\"symbol\":\"circle\"},\"mode\":\"markers\",\"name\":\"Malaysia\",\"orientation\":\"v\",\"showlegend\":true,\"x\":[-256511069702.64575],\"xaxis\":\"x\",\"y\":[-6388975.52322516],\"yaxis\":\"y\",\"type\":\"scatter\"},{\"hovertemplate\":\"Country=Mali<br>Dim1_pca=%{x}<br>Dim2_pca=%{y}<extra></extra>\",\"legendgroup\":\"Mali\",\"marker\":{\"color\":\"#00cc96\",\"symbol\":\"circle\"},\"mode\":\"markers\",\"name\":\"Mali\",\"orientation\":\"v\",\"showlegend\":true,\"x\":[-611034034076.7493],\"xaxis\":\"x\",\"y\":[9498709.613303965],\"yaxis\":\"y\",\"type\":\"scatter\"},{\"hovertemplate\":\"Country=Malta<br>Dim1_pca=%{x}<br>Dim2_pca=%{y}<extra></extra>\",\"legendgroup\":\"Malta\",\"marker\":{\"color\":\"#ab63fa\",\"symbol\":\"circle\"},\"mode\":\"markers\",\"name\":\"Malta\",\"orientation\":\"v\",\"showlegend\":true,\"x\":[-612256294025.764],\"xaxis\":\"x\",\"y\":[-12483358.738624822],\"yaxis\":\"y\",\"type\":\"scatter\"},{\"hovertemplate\":\"Country=Mauritania<br>Dim1_pca=%{x}<br>Dim2_pca=%{y}<extra></extra>\",\"legendgroup\":\"Mauritania\",\"marker\":{\"color\":\"#FFA15A\",\"symbol\":\"circle\"},\"mode\":\"markers\",\"name\":\"Mauritania\",\"orientation\":\"v\",\"showlegend\":true,\"x\":[-621120962563.4515],\"xaxis\":\"x\",\"y\":[-7596308.940175716],\"yaxis\":\"y\",\"type\":\"scatter\"},{\"hovertemplate\":\"Country=Mauritius<br>Dim1_pca=%{x}<br>Dim2_pca=%{y}<extra></extra>\",\"legendgroup\":\"Mauritius\",\"marker\":{\"color\":\"#19d3f3\",\"symbol\":\"circle\"},\"mode\":\"markers\",\"name\":\"Mauritius\",\"orientation\":\"v\",\"showlegend\":true,\"x\":[-618859141253.5516],\"xaxis\":\"x\",\"y\":[-11243658.66725036],\"yaxis\":\"y\",\"type\":\"scatter\"},{\"hovertemplate\":\"Country=Moldova<br>Dim1_pca=%{x}<br>Dim2_pca=%{y}<extra></extra>\",\"legendgroup\":\"Moldova\",\"marker\":{\"color\":\"#FF6692\",\"symbol\":\"circle\"},\"mode\":\"markers\",\"name\":\"Moldova\",\"orientation\":\"v\",\"showlegend\":true,\"x\":[-616651268962.2335],\"xaxis\":\"x\",\"y\":[-10125234.572190367],\"yaxis\":\"y\",\"type\":\"scatter\"},{\"hovertemplate\":\"Country=Mongolia<br>Dim1_pca=%{x}<br>Dim2_pca=%{y}<extra></extra>\",\"legendgroup\":\"Mongolia\",\"marker\":{\"color\":\"#B6E880\",\"symbol\":\"circle\"},\"mode\":\"markers\",\"name\":\"Mongolia\",\"orientation\":\"v\",\"showlegend\":true,\"x\":[-615057057310.2521],\"xaxis\":\"x\",\"y\":[-9399078.975241639],\"yaxis\":\"y\",\"type\":\"scatter\"},{\"hovertemplate\":\"Country=Morocco<br>Dim1_pca=%{x}<br>Dim2_pca=%{y}<extra></extra>\",\"legendgroup\":\"Morocco\",\"marker\":{\"color\":\"#FF97FF\",\"symbol\":\"circle\"},\"mode\":\"markers\",\"name\":\"Morocco\",\"orientation\":\"v\",\"showlegend\":true,\"x\":[-488525699720.4094],\"xaxis\":\"x\",\"y\":[14976967.206385138],\"yaxis\":\"y\",\"type\":\"scatter\"},{\"hovertemplate\":\"Country=Mozambique<br>Dim1_pca=%{x}<br>Dim2_pca=%{y}<extra></extra>\",\"legendgroup\":\"Mozambique\",\"marker\":{\"color\":\"#FECB52\",\"symbol\":\"circle\"},\"mode\":\"markers\",\"name\":\"Mozambique\",\"orientation\":\"v\",\"showlegend\":true,\"x\":[-614175440390.4225],\"xaxis\":\"x\",\"y\":[20106828.164505355],\"yaxis\":\"y\",\"type\":\"scatter\"},{\"hovertemplate\":\"Country=Namibia<br>Dim1_pca=%{x}<br>Dim2_pca=%{y}<extra></extra>\",\"legendgroup\":\"Namibia\",\"marker\":{\"color\":\"#636efa\",\"symbol\":\"circle\"},\"mode\":\"markers\",\"name\":\"Namibia\",\"orientation\":\"v\",\"showlegend\":true,\"x\":[-617897208248.8518],\"xaxis\":\"x\",\"y\":[-10013922.79113161],\"yaxis\":\"y\",\"type\":\"scatter\"},{\"hovertemplate\":\"Country=Nepal<br>Dim1_pca=%{x}<br>Dim2_pca=%{y}<extra></extra>\",\"legendgroup\":\"Nepal\",\"marker\":{\"color\":\"#EF553B\",\"symbol\":\"circle\"},\"mode\":\"markers\",\"name\":\"Nepal\",\"orientation\":\"v\",\"showlegend\":true,\"x\":[-593418655596.8956],\"xaxis\":\"x\",\"y\":[16113483.411048735],\"yaxis\":\"y\",\"type\":\"scatter\"},{\"hovertemplate\":\"Country=Netherlands<br>Dim1_pca=%{x}<br>Dim2_pca=%{y}<extra></extra>\",\"legendgroup\":\"Netherlands\",\"marker\":{\"color\":\"#00cc96\",\"symbol\":\"circle\"},\"mode\":\"markers\",\"name\":\"Netherlands\",\"orientation\":\"v\",\"showlegend\":true,\"x\":[399334837388.6657],\"xaxis\":\"x\",\"y\":[-73003096.6828455],\"yaxis\":\"y\",\"type\":\"scatter\"},{\"hovertemplate\":\"Country=New Zealand<br>Dim1_pca=%{x}<br>Dim2_pca=%{y}<extra></extra>\",\"legendgroup\":\"New Zealand\",\"marker\":{\"color\":\"#ab63fa\",\"symbol\":\"circle\"},\"mode\":\"markers\",\"name\":\"New Zealand\",\"orientation\":\"v\",\"showlegend\":true,\"x\":[-374791794997.882],\"xaxis\":\"x\",\"y\":[-26123309.946640518],\"yaxis\":\"y\",\"type\":\"scatter\"},{\"hovertemplate\":\"Country=Nicaragua<br>Dim1_pca=%{x}<br>Dim2_pca=%{y}<extra></extra>\",\"legendgroup\":\"Nicaragua\",\"marker\":{\"color\":\"#FFA15A\",\"symbol\":\"circle\"},\"mode\":\"markers\",\"name\":\"Nicaragua\",\"orientation\":\"v\",\"showlegend\":true,\"x\":[-616197618373.034],\"xaxis\":\"x\",\"y\":[-5755992.797363998],\"yaxis\":\"y\",\"type\":\"scatter\"},{\"hovertemplate\":\"Country=Norway<br>Dim1_pca=%{x}<br>Dim2_pca=%{y}<extra></extra>\",\"legendgroup\":\"Norway\",\"marker\":{\"color\":\"#19d3f3\",\"symbol\":\"circle\"},\"mode\":\"markers\",\"name\":\"Norway\",\"orientation\":\"v\",\"showlegend\":true,\"x\":[-126975514299.36835],\"xaxis\":\"x\",\"y\":[-44828852.69191179],\"yaxis\":\"y\",\"type\":\"scatter\"},{\"hovertemplate\":\"Country=Pakistan<br>Dim1_pca=%{x}<br>Dim2_pca=%{y}<extra></extra>\",\"legendgroup\":\"Pakistan\",\"marker\":{\"color\":\"#FF6692\",\"symbol\":\"circle\"},\"mode\":\"markers\",\"name\":\"Pakistan\",\"orientation\":\"v\",\"showlegend\":true,\"x\":[-281826834730.196],\"xaxis\":\"x\",\"y\":[197481705.80823058],\"yaxis\":\"y\",\"type\":\"scatter\"},{\"hovertemplate\":\"Country=Panama<br>Dim1_pca=%{x}<br>Dim2_pca=%{y}<extra></extra>\",\"legendgroup\":\"Panama\",\"marker\":{\"color\":\"#B6E880\",\"symbol\":\"circle\"},\"mode\":\"markers\",\"name\":\"Panama\",\"orientation\":\"v\",\"showlegend\":true,\"x\":[-562936761024.6621],\"xaxis\":\"x\",\"y\":[-12394076.806616155],\"yaxis\":\"y\",\"type\":\"scatter\"},{\"hovertemplate\":\"Country=Paraguay<br>Dim1_pca=%{x}<br>Dim2_pca=%{y}<extra></extra>\",\"legendgroup\":\"Paraguay\",\"marker\":{\"color\":\"#FF97FF\",\"symbol\":\"circle\"},\"mode\":\"markers\",\"name\":\"Paraguay\",\"orientation\":\"v\",\"showlegend\":true,\"x\":[-590392598922.1676],\"xaxis\":\"x\",\"y\":[-7903333.542017272],\"yaxis\":\"y\",\"type\":\"scatter\"},{\"hovertemplate\":\"Country=Peru<br>Dim1_pca=%{x}<br>Dim2_pca=%{y}<extra></extra>\",\"legendgroup\":\"Peru\",\"marker\":{\"color\":\"#FECB52\",\"symbol\":\"circle\"},\"mode\":\"markers\",\"name\":\"Peru\",\"orientation\":\"v\",\"showlegend\":true,\"x\":[-406625698250.8921],\"xaxis\":\"x\",\"y\":[5255329.241321251],\"yaxis\":\"y\",\"type\":\"scatter\"},{\"hovertemplate\":\"Country=Philippines<br>Dim1_pca=%{x}<br>Dim2_pca=%{y}<extra></extra>\",\"legendgroup\":\"Philippines\",\"marker\":{\"color\":\"#636efa\",\"symbol\":\"circle\"},\"mode\":\"markers\",\"name\":\"Philippines\",\"orientation\":\"v\",\"showlegend\":true,\"x\":[-236256131703.94543],\"xaxis\":\"x\",\"y\":[73730944.67273618],\"yaxis\":\"y\",\"type\":\"scatter\"},{\"hovertemplate\":\"Country=Poland<br>Dim1_pca=%{x}<br>Dim2_pca=%{y}<extra></extra>\",\"legendgroup\":\"Poland\",\"marker\":{\"color\":\"#EF553B\",\"symbol\":\"circle\"},\"mode\":\"markers\",\"name\":\"Poland\",\"orientation\":\"v\",\"showlegend\":true,\"x\":[51002637968.76246],\"xaxis\":\"x\",\"y\":[-27079301.5061347],\"yaxis\":\"y\",\"type\":\"scatter\"},{\"hovertemplate\":\"Country=Portugal<br>Dim1_pca=%{x}<br>Dim2_pca=%{y}<extra></extra>\",\"legendgroup\":\"Portugal\",\"marker\":{\"color\":\"#00cc96\",\"symbol\":\"circle\"},\"mode\":\"markers\",\"name\":\"Portugal\",\"orientation\":\"v\",\"showlegend\":true,\"x\":[-374808659811.2768],\"xaxis\":\"x\",\"y\":[-20820392.83242547],\"yaxis\":\"y\",\"type\":\"scatter\"},{\"hovertemplate\":\"Country=Romania<br>Dim1_pca=%{x}<br>Dim2_pca=%{y}<extra></extra>\",\"legendgroup\":\"Romania\",\"marker\":{\"color\":\"#ab63fa\",\"symbol\":\"circle\"},\"mode\":\"markers\",\"name\":\"Romania\",\"orientation\":\"v\",\"showlegend\":true,\"x\":[-344533254140.05365],\"xaxis\":\"x\",\"y\":[-14484671.670421652],\"yaxis\":\"y\",\"type\":\"scatter\"},{\"hovertemplate\":\"Country=Rwanda<br>Dim1_pca=%{x}<br>Dim2_pca=%{y}<extra></extra>\",\"legendgroup\":\"Rwanda\",\"marker\":{\"color\":\"#FFA15A\",\"symbol\":\"circle\"},\"mode\":\"markers\",\"name\":\"Rwanda\",\"orientation\":\"v\",\"showlegend\":true,\"x\":[-619288980892.9761],\"xaxis\":\"x\",\"y\":[1304896.207289584],\"yaxis\":\"y\",\"type\":\"scatter\"},{\"hovertemplate\":\"Country=Senegal<br>Dim1_pca=%{x}<br>Dim2_pca=%{y}<extra></extra>\",\"legendgroup\":\"Senegal\",\"marker\":{\"color\":\"#19d3f3\",\"symbol\":\"circle\"},\"mode\":\"markers\",\"name\":\"Senegal\",\"orientation\":\"v\",\"showlegend\":true,\"x\":[-602774361285.527],\"xaxis\":\"x\",\"y\":[3579405.920435572],\"yaxis\":\"y\",\"type\":\"scatter\"},{\"hovertemplate\":\"Country=Serbia<br>Dim1_pca=%{x}<br>Dim2_pca=%{y}<extra></extra>\",\"legendgroup\":\"Serbia\",\"marker\":{\"color\":\"#FF6692\",\"symbol\":\"circle\"},\"mode\":\"markers\",\"name\":\"Serbia\",\"orientation\":\"v\",\"showlegend\":true,\"x\":[-567242429376.737],\"xaxis\":\"x\",\"y\":[-9798663.827287441],\"yaxis\":\"y\",\"type\":\"scatter\"},{\"hovertemplate\":\"Country=Singapore<br>Dim1_pca=%{x}<br>Dim2_pca=%{y}<extra></extra>\",\"legendgroup\":\"Singapore\",\"marker\":{\"color\":\"#B6E880\",\"symbol\":\"circle\"},\"mode\":\"markers\",\"name\":\"Singapore\",\"orientation\":\"v\",\"showlegend\":true,\"x\":[-206546399558.973],\"xaxis\":\"x\",\"y\":[-38541350.10173068],\"yaxis\":\"y\",\"type\":\"scatter\"},{\"hovertemplate\":\"Country=Slovakia<br>Dim1_pca=%{x}<br>Dim2_pca=%{y}<extra></extra>\",\"legendgroup\":\"Slovakia\",\"marker\":{\"color\":\"#FF97FF\",\"symbol\":\"circle\"},\"mode\":\"markers\",\"name\":\"Slovakia\",\"orientation\":\"v\",\"showlegend\":true,\"x\":[-511767016654.3158],\"xaxis\":\"x\",\"y\":[-15297200.47967492],\"yaxis\":\"y\",\"type\":\"scatter\"},{\"hovertemplate\":\"Country=Slovenia<br>Dim1_pca=%{x}<br>Dim2_pca=%{y}<extra></extra>\",\"legendgroup\":\"Slovenia\",\"marker\":{\"color\":\"#FECB52\",\"symbol\":\"circle\"},\"mode\":\"markers\",\"name\":\"Slovenia\",\"orientation\":\"v\",\"showlegend\":true,\"x\":[-568511297740.8011],\"xaxis\":\"x\",\"y\":[-14262072.101632137],\"yaxis\":\"y\",\"type\":\"scatter\"},{\"hovertemplate\":\"Country=South Africa<br>Dim1_pca=%{x}<br>Dim2_pca=%{y}<extra></extra>\",\"legendgroup\":\"South Africa\",\"marker\":{\"color\":\"#636efa\",\"symbol\":\"circle\"},\"mode\":\"markers\",\"name\":\"South Africa\",\"orientation\":\"v\",\"showlegend\":true,\"x\":[-210225683437.7478],\"xaxis\":\"x\",\"y\":[16001328.893440846],\"yaxis\":\"y\",\"type\":\"scatter\"},{\"hovertemplate\":\"Country=Spain<br>Dim1_pca=%{x}<br>Dim2_pca=%{y}<extra></extra>\",\"legendgroup\":\"Spain\",\"marker\":{\"color\":\"#EF553B\",\"symbol\":\"circle\"},\"mode\":\"markers\",\"name\":\"Spain\",\"orientation\":\"v\",\"showlegend\":true,\"x\":[815308153749.2667],\"xaxis\":\"x\",\"y\":[-74882081.60268347],\"yaxis\":\"y\",\"type\":\"scatter\"},{\"hovertemplate\":\"Country=Sri Lanka<br>Dim1_pca=%{x}<br>Dim2_pca=%{y}<extra></extra>\",\"legendgroup\":\"Sri Lanka\",\"marker\":{\"color\":\"#00cc96\",\"symbol\":\"circle\"},\"mode\":\"markers\",\"name\":\"Sri Lanka\",\"orientation\":\"v\",\"showlegend\":true,\"x\":[-541795448699.56885],\"xaxis\":\"x\",\"y\":[3776226.367569118],\"yaxis\":\"y\",\"type\":\"scatter\"},{\"hovertemplate\":\"Country=Sweden<br>Dim1_pca=%{x}<br>Dim2_pca=%{y}<extra></extra>\",\"legendgroup\":\"Sweden\",\"marker\":{\"color\":\"#ab63fa\",\"symbol\":\"circle\"},\"mode\":\"markers\",\"name\":\"Sweden\",\"orientation\":\"v\",\"showlegend\":true,\"x\":[9371455724.544807],\"xaxis\":\"x\",\"y\":[-50272836.738968976],\"yaxis\":\"y\",\"type\":\"scatter\"},{\"hovertemplate\":\"Country=Tanzania<br>Dim1_pca=%{x}<br>Dim2_pca=%{y}<extra></extra>\",\"legendgroup\":\"Tanzania\",\"marker\":{\"color\":\"#FFA15A\",\"symbol\":\"circle\"},\"mode\":\"markers\",\"name\":\"Tanzania\",\"orientation\":\"v\",\"showlegend\":true,\"x\":[-559687866294.0322],\"xaxis\":\"x\",\"y\":[48443847.35341406],\"yaxis\":\"y\",\"type\":\"scatter\"},{\"hovertemplate\":\"Country=Thailand<br>Dim1_pca=%{x}<br>Dim2_pca=%{y}<extra></extra>\",\"legendgroup\":\"Thailand\",\"marker\":{\"color\":\"#19d3f3\",\"symbol\":\"circle\"},\"mode\":\"markers\",\"name\":\"Thailand\",\"orientation\":\"v\",\"showlegend\":true,\"x\":[-124775431258.26433],\"xaxis\":\"x\",\"y\":[21239628.11791381],\"yaxis\":\"y\",\"type\":\"scatter\"},{\"hovertemplate\":\"Country=Uganda<br>Dim1_pca=%{x}<br>Dim2_pca=%{y}<extra></extra>\",\"legendgroup\":\"Uganda\",\"marker\":{\"color\":\"#FF6692\",\"symbol\":\"circle\"},\"mode\":\"markers\",\"name\":\"Uganda\",\"orientation\":\"v\",\"showlegend\":true,\"x\":[-589833254388.1426],\"xaxis\":\"x\",\"y\":[32513085.07189435],\"yaxis\":\"y\",\"type\":\"scatter\"},{\"hovertemplate\":\"Country=Ukraine<br>Dim1_pca=%{x}<br>Dim2_pca=%{y}<extra></extra>\",\"legendgroup\":\"Ukraine\",\"marker\":{\"color\":\"#B6E880\",\"symbol\":\"circle\"},\"mode\":\"markers\",\"name\":\"Ukraine\",\"orientation\":\"v\",\"showlegend\":true,\"x\":[-430577637358.36383],\"xaxis\":\"x\",\"y\":[11089155.186095657],\"yaxis\":\"y\",\"type\":\"scatter\"},{\"hovertemplate\":\"Country=United Arab Emirates<br>Dim1_pca=%{x}<br>Dim2_pca=%{y}<extra></extra>\",\"legendgroup\":\"United Arab Emirates\",\"marker\":{\"color\":\"#FF97FF\",\"symbol\":\"circle\"},\"mode\":\"markers\",\"name\":\"United Arab Emirates\",\"orientation\":\"v\",\"showlegend\":true,\"x\":[-215164706990.5747],\"xaxis\":\"x\",\"y\":[-34095727.6443668],\"yaxis\":\"y\",\"type\":\"scatter\"},{\"hovertemplate\":\"Country=United Kingdom<br>Dim1_pca=%{x}<br>Dim2_pca=%{y}<extra></extra>\",\"legendgroup\":\"United Kingdom\",\"marker\":{\"color\":\"#FECB52\",\"symbol\":\"circle\"},\"mode\":\"markers\",\"name\":\"United Kingdom\",\"orientation\":\"v\",\"showlegend\":true,\"x\":[2511162653238.1987],\"xaxis\":\"x\",\"y\":[-185903843.1687064],\"yaxis\":\"y\",\"type\":\"scatter\"},{\"hovertemplate\":\"Country=Uruguay<br>Dim1_pca=%{x}<br>Dim2_pca=%{y}<extra></extra>\",\"legendgroup\":\"Uruguay\",\"marker\":{\"color\":\"#636efa\",\"symbol\":\"circle\"},\"mode\":\"markers\",\"name\":\"Uruguay\",\"orientation\":\"v\",\"showlegend\":true,\"x\":[-568931230933.6362],\"xaxis\":\"x\",\"y\":[-12915877.606469084],\"yaxis\":\"y\",\"type\":\"scatter\"},{\"hovertemplate\":\"Country=Vietnam<br>Dim1_pca=%{x}<br>Dim2_pca=%{y}<extra></extra>\",\"legendgroup\":\"Vietnam\",\"marker\":{\"color\":\"#EF553B\",\"symbol\":\"circle\"},\"mode\":\"markers\",\"name\":\"Vietnam\",\"orientation\":\"v\",\"showlegend\":true,\"x\":[-264205923679.26212],\"xaxis\":\"x\",\"y\":[58474313.97028516],\"yaxis\":\"y\",\"type\":\"scatter\"},{\"hovertemplate\":\"Country=Zambia<br>Dim1_pca=%{x}<br>Dim2_pca=%{y}<extra></extra>\",\"legendgroup\":\"Zambia\",\"marker\":{\"color\":\"#00cc96\",\"symbol\":\"circle\"},\"mode\":\"markers\",\"name\":\"Zambia\",\"orientation\":\"v\",\"showlegend\":true,\"x\":[-608247080858.1024],\"xaxis\":\"x\",\"y\":[6695734.727621206],\"yaxis\":\"y\",\"type\":\"scatter\"}],                        {\"template\":{\"data\":{\"histogram2dcontour\":[{\"type\":\"histogram2dcontour\",\"colorbar\":{\"outlinewidth\":0,\"ticks\":\"\"},\"colorscale\":[[0.0,\"#0d0887\"],[0.1111111111111111,\"#46039f\"],[0.2222222222222222,\"#7201a8\"],[0.3333333333333333,\"#9c179e\"],[0.4444444444444444,\"#bd3786\"],[0.5555555555555556,\"#d8576b\"],[0.6666666666666666,\"#ed7953\"],[0.7777777777777778,\"#fb9f3a\"],[0.8888888888888888,\"#fdca26\"],[1.0,\"#f0f921\"]]}],\"choropleth\":[{\"type\":\"choropleth\",\"colorbar\":{\"outlinewidth\":0,\"ticks\":\"\"}}],\"histogram2d\":[{\"type\":\"histogram2d\",\"colorbar\":{\"outlinewidth\":0,\"ticks\":\"\"},\"colorscale\":[[0.0,\"#0d0887\"],[0.1111111111111111,\"#46039f\"],[0.2222222222222222,\"#7201a8\"],[0.3333333333333333,\"#9c179e\"],[0.4444444444444444,\"#bd3786\"],[0.5555555555555556,\"#d8576b\"],[0.6666666666666666,\"#ed7953\"],[0.7777777777777778,\"#fb9f3a\"],[0.8888888888888888,\"#fdca26\"],[1.0,\"#f0f921\"]]}],\"heatmap\":[{\"type\":\"heatmap\",\"colorbar\":{\"outlinewidth\":0,\"ticks\":\"\"},\"colorscale\":[[0.0,\"#0d0887\"],[0.1111111111111111,\"#46039f\"],[0.2222222222222222,\"#7201a8\"],[0.3333333333333333,\"#9c179e\"],[0.4444444444444444,\"#bd3786\"],[0.5555555555555556,\"#d8576b\"],[0.6666666666666666,\"#ed7953\"],[0.7777777777777778,\"#fb9f3a\"],[0.8888888888888888,\"#fdca26\"],[1.0,\"#f0f921\"]]}],\"heatmapgl\":[{\"type\":\"heatmapgl\",\"colorbar\":{\"outlinewidth\":0,\"ticks\":\"\"},\"colorscale\":[[0.0,\"#0d0887\"],[0.1111111111111111,\"#46039f\"],[0.2222222222222222,\"#7201a8\"],[0.3333333333333333,\"#9c179e\"],[0.4444444444444444,\"#bd3786\"],[0.5555555555555556,\"#d8576b\"],[0.6666666666666666,\"#ed7953\"],[0.7777777777777778,\"#fb9f3a\"],[0.8888888888888888,\"#fdca26\"],[1.0,\"#f0f921\"]]}],\"contourcarpet\":[{\"type\":\"contourcarpet\",\"colorbar\":{\"outlinewidth\":0,\"ticks\":\"\"}}],\"contour\":[{\"type\":\"contour\",\"colorbar\":{\"outlinewidth\":0,\"ticks\":\"\"},\"colorscale\":[[0.0,\"#0d0887\"],[0.1111111111111111,\"#46039f\"],[0.2222222222222222,\"#7201a8\"],[0.3333333333333333,\"#9c179e\"],[0.4444444444444444,\"#bd3786\"],[0.5555555555555556,\"#d8576b\"],[0.6666666666666666,\"#ed7953\"],[0.7777777777777778,\"#fb9f3a\"],[0.8888888888888888,\"#fdca26\"],[1.0,\"#f0f921\"]]}],\"surface\":[{\"type\":\"surface\",\"colorbar\":{\"outlinewidth\":0,\"ticks\":\"\"},\"colorscale\":[[0.0,\"#0d0887\"],[0.1111111111111111,\"#46039f\"],[0.2222222222222222,\"#7201a8\"],[0.3333333333333333,\"#9c179e\"],[0.4444444444444444,\"#bd3786\"],[0.5555555555555556,\"#d8576b\"],[0.6666666666666666,\"#ed7953\"],[0.7777777777777778,\"#fb9f3a\"],[0.8888888888888888,\"#fdca26\"],[1.0,\"#f0f921\"]]}],\"mesh3d\":[{\"type\":\"mesh3d\",\"colorbar\":{\"outlinewidth\":0,\"ticks\":\"\"}}],\"scatter\":[{\"fillpattern\":{\"fillmode\":\"overlay\",\"size\":10,\"solidity\":0.2},\"type\":\"scatter\"}],\"parcoords\":[{\"type\":\"parcoords\",\"line\":{\"colorbar\":{\"outlinewidth\":0,\"ticks\":\"\"}}}],\"scatterpolargl\":[{\"type\":\"scatterpolargl\",\"marker\":{\"colorbar\":{\"outlinewidth\":0,\"ticks\":\"\"}}}],\"bar\":[{\"error_x\":{\"color\":\"#2a3f5f\"},\"error_y\":{\"color\":\"#2a3f5f\"},\"marker\":{\"line\":{\"color\":\"#E5ECF6\",\"width\":0.5},\"pattern\":{\"fillmode\":\"overlay\",\"size\":10,\"solidity\":0.2}},\"type\":\"bar\"}],\"scattergeo\":[{\"type\":\"scattergeo\",\"marker\":{\"colorbar\":{\"outlinewidth\":0,\"ticks\":\"\"}}}],\"scatterpolar\":[{\"type\":\"scatterpolar\",\"marker\":{\"colorbar\":{\"outlinewidth\":0,\"ticks\":\"\"}}}],\"histogram\":[{\"marker\":{\"pattern\":{\"fillmode\":\"overlay\",\"size\":10,\"solidity\":0.2}},\"type\":\"histogram\"}],\"scattergl\":[{\"type\":\"scattergl\",\"marker\":{\"colorbar\":{\"outlinewidth\":0,\"ticks\":\"\"}}}],\"scatter3d\":[{\"type\":\"scatter3d\",\"line\":{\"colorbar\":{\"outlinewidth\":0,\"ticks\":\"\"}},\"marker\":{\"colorbar\":{\"outlinewidth\":0,\"ticks\":\"\"}}}],\"scattermapbox\":[{\"type\":\"scattermapbox\",\"marker\":{\"colorbar\":{\"outlinewidth\":0,\"ticks\":\"\"}}}],\"scatterternary\":[{\"type\":\"scatterternary\",\"marker\":{\"colorbar\":{\"outlinewidth\":0,\"ticks\":\"\"}}}],\"scattercarpet\":[{\"type\":\"scattercarpet\",\"marker\":{\"colorbar\":{\"outlinewidth\":0,\"ticks\":\"\"}}}],\"carpet\":[{\"aaxis\":{\"endlinecolor\":\"#2a3f5f\",\"gridcolor\":\"white\",\"linecolor\":\"white\",\"minorgridcolor\":\"white\",\"startlinecolor\":\"#2a3f5f\"},\"baxis\":{\"endlinecolor\":\"#2a3f5f\",\"gridcolor\":\"white\",\"linecolor\":\"white\",\"minorgridcolor\":\"white\",\"startlinecolor\":\"#2a3f5f\"},\"type\":\"carpet\"}],\"table\":[{\"cells\":{\"fill\":{\"color\":\"#EBF0F8\"},\"line\":{\"color\":\"white\"}},\"header\":{\"fill\":{\"color\":\"#C8D4E3\"},\"line\":{\"color\":\"white\"}},\"type\":\"table\"}],\"barpolar\":[{\"marker\":{\"line\":{\"color\":\"#E5ECF6\",\"width\":0.5},\"pattern\":{\"fillmode\":\"overlay\",\"size\":10,\"solidity\":0.2}},\"type\":\"barpolar\"}],\"pie\":[{\"automargin\":true,\"type\":\"pie\"}]},\"layout\":{\"autotypenumbers\":\"strict\",\"colorway\":[\"#636efa\",\"#EF553B\",\"#00cc96\",\"#ab63fa\",\"#FFA15A\",\"#19d3f3\",\"#FF6692\",\"#B6E880\",\"#FF97FF\",\"#FECB52\"],\"font\":{\"color\":\"#2a3f5f\"},\"hovermode\":\"closest\",\"hoverlabel\":{\"align\":\"left\"},\"paper_bgcolor\":\"white\",\"plot_bgcolor\":\"#E5ECF6\",\"polar\":{\"bgcolor\":\"#E5ECF6\",\"angularaxis\":{\"gridcolor\":\"white\",\"linecolor\":\"white\",\"ticks\":\"\"},\"radialaxis\":{\"gridcolor\":\"white\",\"linecolor\":\"white\",\"ticks\":\"\"}},\"ternary\":{\"bgcolor\":\"#E5ECF6\",\"aaxis\":{\"gridcolor\":\"white\",\"linecolor\":\"white\",\"ticks\":\"\"},\"baxis\":{\"gridcolor\":\"white\",\"linecolor\":\"white\",\"ticks\":\"\"},\"caxis\":{\"gridcolor\":\"white\",\"linecolor\":\"white\",\"ticks\":\"\"}},\"coloraxis\":{\"colorbar\":{\"outlinewidth\":0,\"ticks\":\"\"}},\"colorscale\":{\"sequential\":[[0.0,\"#0d0887\"],[0.1111111111111111,\"#46039f\"],[0.2222222222222222,\"#7201a8\"],[0.3333333333333333,\"#9c179e\"],[0.4444444444444444,\"#bd3786\"],[0.5555555555555556,\"#d8576b\"],[0.6666666666666666,\"#ed7953\"],[0.7777777777777778,\"#fb9f3a\"],[0.8888888888888888,\"#fdca26\"],[1.0,\"#f0f921\"]],\"sequentialminus\":[[0.0,\"#0d0887\"],[0.1111111111111111,\"#46039f\"],[0.2222222222222222,\"#7201a8\"],[0.3333333333333333,\"#9c179e\"],[0.4444444444444444,\"#bd3786\"],[0.5555555555555556,\"#d8576b\"],[0.6666666666666666,\"#ed7953\"],[0.7777777777777778,\"#fb9f3a\"],[0.8888888888888888,\"#fdca26\"],[1.0,\"#f0f921\"]],\"diverging\":[[0,\"#8e0152\"],[0.1,\"#c51b7d\"],[0.2,\"#de77ae\"],[0.3,\"#f1b6da\"],[0.4,\"#fde0ef\"],[0.5,\"#f7f7f7\"],[0.6,\"#e6f5d0\"],[0.7,\"#b8e186\"],[0.8,\"#7fbc41\"],[0.9,\"#4d9221\"],[1,\"#276419\"]]},\"xaxis\":{\"gridcolor\":\"white\",\"linecolor\":\"white\",\"ticks\":\"\",\"title\":{\"standoff\":15},\"zerolinecolor\":\"white\",\"automargin\":true,\"zerolinewidth\":2},\"yaxis\":{\"gridcolor\":\"white\",\"linecolor\":\"white\",\"ticks\":\"\",\"title\":{\"standoff\":15},\"zerolinecolor\":\"white\",\"automargin\":true,\"zerolinewidth\":2},\"scene\":{\"xaxis\":{\"backgroundcolor\":\"#E5ECF6\",\"gridcolor\":\"white\",\"linecolor\":\"white\",\"showbackground\":true,\"ticks\":\"\",\"zerolinecolor\":\"white\",\"gridwidth\":2},\"yaxis\":{\"backgroundcolor\":\"#E5ECF6\",\"gridcolor\":\"white\",\"linecolor\":\"white\",\"showbackground\":true,\"ticks\":\"\",\"zerolinecolor\":\"white\",\"gridwidth\":2},\"zaxis\":{\"backgroundcolor\":\"#E5ECF6\",\"gridcolor\":\"white\",\"linecolor\":\"white\",\"showbackground\":true,\"ticks\":\"\",\"zerolinecolor\":\"white\",\"gridwidth\":2}},\"shapedefaults\":{\"line\":{\"color\":\"#2a3f5f\"}},\"annotationdefaults\":{\"arrowcolor\":\"#2a3f5f\",\"arrowhead\":0,\"arrowwidth\":1},\"geo\":{\"bgcolor\":\"white\",\"landcolor\":\"#E5ECF6\",\"subunitcolor\":\"white\",\"showland\":true,\"showlakes\":true,\"lakecolor\":\"white\"},\"title\":{\"x\":0.05},\"mapbox\":{\"style\":\"light\"}}},\"xaxis\":{\"anchor\":\"y\",\"domain\":[0.0,1.0],\"title\":{\"text\":\"Dimension 1\"}},\"yaxis\":{\"anchor\":\"x\",\"domain\":[0.0,1.0],\"title\":{\"text\":\"Dimension 2\"}},\"legend\":{\"title\":{\"text\":\"Country\"},\"tracegroupgap\":0},\"margin\":{\"t\":60},\"title\":{\"text\":\"Premier plan factoriel\"}},                        {\"responsive\": true}                    ).then(function(){\n",
       "                            \n",
       "var gd = document.getElementById('7beda749-d8fa-4fa4-bee6-7ecd8854e6ef');\n",
       "var x = new MutationObserver(function (mutations, observer) {{\n",
       "        var display = window.getComputedStyle(gd).display;\n",
       "        if (!display || display === 'none') {{\n",
       "            console.log([gd, 'removed!']);\n",
       "            Plotly.purge(gd);\n",
       "            observer.disconnect();\n",
       "        }}\n",
       "}});\n",
       "\n",
       "// Listen for the removal of the full notebook cells\n",
       "var notebookContainer = gd.closest('#notebook-container');\n",
       "if (notebookContainer) {{\n",
       "    x.observe(notebookContainer, {childList: true});\n",
       "}}\n",
       "\n",
       "// Listen for the clearing of the current output cell\n",
       "var outputEl = gd.closest('.output');\n",
       "if (outputEl) {{\n",
       "    x.observe(outputEl, {childList: true});\n",
       "}}\n",
       "\n",
       "                        })                };                });            </script>        </div>"
      ]
     },
     "metadata": {},
     "output_type": "display_data"
    }
   ],
   "source": [
    "import plotly.express as px\n",
    "\n",
    "# Assuming you have the DataFrame WGI_pca_df and a column 'color_column' for coloring the points\n",
    "\n",
    "# Plot scatter plot with Plotly\n",
    "fig = px.scatter(new_df, x=\"Dim1_pca\",y=\"Dim2_pca\", color=\"Country\")\n",
    "\n",
    "# Update axis label and title\n",
    "fig.update_xaxes(title_text=\"Dimension 1\")\n",
    "fig.update_yaxes(title_text=\"Dimension 2\")\n",
    "fig.update_layout(title=\"Premier plan factoriel\")\n",
    "\n",
    "# Show the plot\n",
    "fig.show()"
   ]
  },
  {
   "cell_type": "code",
   "execution_count": 37,
   "id": "6bc213ae",
   "metadata": {},
   "outputs": [
    {
     "name": "stderr",
     "output_type": "stream",
     "text": [
      "/home/ahmed/anaconda3/lib/python3.9/site-packages/plotly/express/_core.py:1979: FutureWarning:\n",
      "\n",
      "When grouping with a length-1 list-like, you will need to pass a length-1 tuple to get_group in a future version of pandas. Pass `(name,)` instead of `name` to silence this warning.\n",
      "\n"
     ]
    },
    {
     "data": {
      "application/vnd.plotly.v1+json": {
       "config": {
        "plotlyServerURL": "https://plot.ly"
       },
       "data": [
        {
         "hovertemplate": "Continent=europe<br>Dim1_pca=%{x}<br>Dim2_pca=%{y}<extra></extra>",
         "legendgroup": "europe",
         "marker": {
          "color": "#636efa",
          "symbol": "circle"
         },
         "mode": "markers",
         "name": "europe",
         "orientation": "v",
         "showlegend": true,
         "type": "scatter",
         "x": [
          -612412933984.6053,
          -151048137235.80826,
          -29594687536.42639,
          -546302005999.1995,
          -561262262530.186,
          -348552280768.2194,
          -224655501154.76868,
          -593152333118.5696,
          -333873082626.64215,
          2329012316402.438,
          3648160429250.0938,
          -415675691654.56793,
          -448253457303.1735,
          -604747559141.1417,
          1525016797907.3767,
          -590900373061.8783,
          -563544565457.9617,
          -544759393472.9066,
          -612256294025.764,
          -616651268962.2335,
          399334837388.6657,
          -126975514299.36835,
          51002637968.76246,
          -374808659811.2768,
          -344533254140.05365,
          -567242429376.737,
          -511767016654.3158,
          -568511297740.8011,
          815308153749.2667,
          9371455724.544807,
          -430577637358.36383,
          2511162653238.1987
         ],
         "xaxis": "x",
         "y": [
          -10210703.050451657,
          -39393642.376273856,
          -46078906.273646794,
          -11596049.534370134,
          -13065310.508526735,
          -22586054.67167199,
          -36880226.3855442,
          -13131842.766822686,
          -28836946.83882892,
          -170940620.38207024,
          -256431856.6848398,
          -17677568.58806607,
          -15961705.543790754,
          -13209583.992828453,
          -118205267.37123953,
          -12772276.107378121,
          -13917405.020580042,
          -17546077.576119747,
          -12483358.738624822,
          -10125234.572190367,
          -73003096.6828455,
          -44828852.69191179,
          -27079301.5061347,
          -20820392.83242547,
          -14484671.670421652,
          -9798663.827287441,
          -15297200.47967492,
          -14262072.101632137,
          -74882081.60268347,
          -50272836.738968976,
          11089155.186095657,
          -185903843.1687064
         ],
         "yaxis": "y"
        },
        {
         "hovertemplate": "Continent=africa<br>Dim1_pca=%{x}<br>Dim2_pca=%{y}<extra></extra>",
         "legendgroup": "africa",
         "marker": {
          "color": "#EF553B",
          "symbol": "circle"
         },
         "mode": "markers",
         "name": "africa",
         "orientation": "v",
         "showlegend": true,
         "type": "scatter",
         "x": [
          -466871108308.9155,
          -627567699584.9603,
          -585349975478.706,
          -618563516604.3813,
          -519081607157.13116,
          -550819075066.0454,
          -614251680405.1901,
          -520639836532.8407,
          -627994728081.1555,
          -615788742916.4227,
          -611034034076.7493,
          -621120962563.4515,
          -618859141253.5516,
          -488525699720.4094,
          -614175440390.4225,
          -617897208248.8518,
          -619288980892.9761,
          -602774361285.527,
          -210225683437.7478,
          -559687866294.0322,
          -589833254388.1426,
          -608247080858.1024
         ],
         "xaxis": "x",
         "y": [
          20745584.084457017,
          1054886.663523968,
          12834813.545412546,
          5193795.83551817,
          103208560.3257415,
          15750514.587994888,
          1002538.5195758851,
          33975709.03737234,
          -9498485.731817467,
          16868364.917502504,
          9498709.613303965,
          -7596308.940175716,
          -11243658.66725036,
          14976967.206385138,
          20106828.164505355,
          -10013922.79113161,
          1304896.207289584,
          3579405.920435572,
          16001328.893440846,
          48443847.35341406,
          32513085.07189435,
          6695734.727621206
         ],
         "yaxis": "y"
        },
        {
         "hovertemplate": "Continent=south-america<br>Dim1_pca=%{x}<br>Dim2_pca=%{y}<extra></extra>",
         "legendgroup": "south-america",
         "marker": {
          "color": "#00cc96",
          "symbol": "circle"
         },
         "mode": "markers",
         "name": "south-america",
         "orientation": "v",
         "showlegend": true,
         "type": "scatter",
         "x": [
          -142440924985.56168,
          -590392598922.1676,
          -406625698250.8921,
          -568931230933.6362
         ],
         "xaxis": "x",
         "y": [
          -2856833.490741843,
          -7903333.542017272,
          5255329.241321251,
          -12915877.606469084
         ],
         "yaxis": "y"
        },
        {
         "hovertemplate": "Continent=asia<br>Dim1_pca=%{x}<br>Dim2_pca=%{y}<extra></extra>",
         "legendgroup": "asia",
         "marker": {
          "color": "#ab63fa",
          "symbol": "circle"
         },
         "mode": "markers",
         "name": "asia",
         "orientation": "v",
         "showlegend": true,
         "type": "scatter",
         "x": [
          -616464590462.4438,
          -575518086881.9153,
          -591054829054.3059,
          -214078686790.63135,
          -603382436903.8685,
          17190116065492.492,
          -600860581576.4371,
          2519963439440.4487,
          556161974134.8982,
          -141816954091.68335,
          4404277280081.724,
          -584047398391.6493,
          -433231242972.967,
          -611516350211.9991,
          -256511069702.64575,
          -615057057310.2521,
          -593418655596.8956,
          -281826834730.196,
          -236256131703.94543,
          -206546399558.973,
          -541795448699.56885,
          -124775431258.26433,
          -215164706990.5747,
          -264205923679.26212
         ],
         "xaxis": "x",
         "y": [
          -9900730.858373858,
          -5682401.330079236,
          -13173613.036010405,
          127660717.36068892,
          3083116.0727244164,
          31927250.235944718,
          -12637608.055572014,
          1163692077.1163473,
          172784846.1302242,
          -39590683.335956275,
          -273177883.985349,
          -3897097.6865647146,
          -7100556.188107063,
          -5527316.060872227,
          -6388975.52322516,
          -9399078.975241639,
          16113483.411048735,
          197481705.80823058,
          73730944.67273618,
          -38541350.10173068,
          3776226.367569118,
          21239628.11791381,
          -34095727.6443668,
          58474313.97028516
         ],
         "yaxis": "y"
        },
        {
         "hovertemplate": "Continent=oceania<br>Dim1_pca=%{x}<br>Dim2_pca=%{y}<extra></extra>",
         "legendgroup": "oceania",
         "marker": {
          "color": "#FFA15A",
          "symbol": "circle"
         },
         "mode": "markers",
         "name": "oceania",
         "orientation": "v",
         "showlegend": true,
         "type": "scatter",
         "x": [
          928690254426.5889,
          -374791794997.882
         ],
         "xaxis": "x",
         "y": [
          -105364663.60924993,
          -26123309.946640518
         ],
         "yaxis": "y"
        },
        {
         "hovertemplate": "Continent=north-america<br>Dim1_pca=%{x}<br>Dim2_pca=%{y}<extra></extra>",
         "legendgroup": "north-america",
         "marker": {
          "color": "#19d3f3",
          "symbol": "circle"
         },
         "mode": "markers",
         "name": "north-america",
         "orientation": "v",
         "showlegend": true,
         "type": "scatter",
         "x": [
          1377128679277.2046,
          -565382773323.822,
          -536100072740.635,
          -600892258863.8821,
          -544290414708.42535,
          -601854776865.9166,
          -615685912963.0208,
          -616197618373.034,
          -562936761024.6621
         ],
         "xaxis": "x",
         "y": [
          -126871866.5026872,
          -11434551.201433824,
          -7618480.677869504,
          -7532836.395754231,
          -862170.0501608817,
          -3370122.155965148,
          -9911200.38516832,
          -5755992.797363998,
          -12394076.806616155
         ],
         "yaxis": "y"
        }
       ],
       "layout": {
        "legend": {
         "title": {
          "text": "Continent"
         },
         "tracegroupgap": 0
        },
        "margin": {
         "t": 60
        },
        "template": {
         "data": {
          "bar": [
           {
            "error_x": {
             "color": "#2a3f5f"
            },
            "error_y": {
             "color": "#2a3f5f"
            },
            "marker": {
             "line": {
              "color": "#E5ECF6",
              "width": 0.5
             },
             "pattern": {
              "fillmode": "overlay",
              "size": 10,
              "solidity": 0.2
             }
            },
            "type": "bar"
           }
          ],
          "barpolar": [
           {
            "marker": {
             "line": {
              "color": "#E5ECF6",
              "width": 0.5
             },
             "pattern": {
              "fillmode": "overlay",
              "size": 10,
              "solidity": 0.2
             }
            },
            "type": "barpolar"
           }
          ],
          "carpet": [
           {
            "aaxis": {
             "endlinecolor": "#2a3f5f",
             "gridcolor": "white",
             "linecolor": "white",
             "minorgridcolor": "white",
             "startlinecolor": "#2a3f5f"
            },
            "baxis": {
             "endlinecolor": "#2a3f5f",
             "gridcolor": "white",
             "linecolor": "white",
             "minorgridcolor": "white",
             "startlinecolor": "#2a3f5f"
            },
            "type": "carpet"
           }
          ],
          "choropleth": [
           {
            "colorbar": {
             "outlinewidth": 0,
             "ticks": ""
            },
            "type": "choropleth"
           }
          ],
          "contour": [
           {
            "colorbar": {
             "outlinewidth": 0,
             "ticks": ""
            },
            "colorscale": [
             [
              0,
              "#0d0887"
             ],
             [
              0.1111111111111111,
              "#46039f"
             ],
             [
              0.2222222222222222,
              "#7201a8"
             ],
             [
              0.3333333333333333,
              "#9c179e"
             ],
             [
              0.4444444444444444,
              "#bd3786"
             ],
             [
              0.5555555555555556,
              "#d8576b"
             ],
             [
              0.6666666666666666,
              "#ed7953"
             ],
             [
              0.7777777777777778,
              "#fb9f3a"
             ],
             [
              0.8888888888888888,
              "#fdca26"
             ],
             [
              1,
              "#f0f921"
             ]
            ],
            "type": "contour"
           }
          ],
          "contourcarpet": [
           {
            "colorbar": {
             "outlinewidth": 0,
             "ticks": ""
            },
            "type": "contourcarpet"
           }
          ],
          "heatmap": [
           {
            "colorbar": {
             "outlinewidth": 0,
             "ticks": ""
            },
            "colorscale": [
             [
              0,
              "#0d0887"
             ],
             [
              0.1111111111111111,
              "#46039f"
             ],
             [
              0.2222222222222222,
              "#7201a8"
             ],
             [
              0.3333333333333333,
              "#9c179e"
             ],
             [
              0.4444444444444444,
              "#bd3786"
             ],
             [
              0.5555555555555556,
              "#d8576b"
             ],
             [
              0.6666666666666666,
              "#ed7953"
             ],
             [
              0.7777777777777778,
              "#fb9f3a"
             ],
             [
              0.8888888888888888,
              "#fdca26"
             ],
             [
              1,
              "#f0f921"
             ]
            ],
            "type": "heatmap"
           }
          ],
          "heatmapgl": [
           {
            "colorbar": {
             "outlinewidth": 0,
             "ticks": ""
            },
            "colorscale": [
             [
              0,
              "#0d0887"
             ],
             [
              0.1111111111111111,
              "#46039f"
             ],
             [
              0.2222222222222222,
              "#7201a8"
             ],
             [
              0.3333333333333333,
              "#9c179e"
             ],
             [
              0.4444444444444444,
              "#bd3786"
             ],
             [
              0.5555555555555556,
              "#d8576b"
             ],
             [
              0.6666666666666666,
              "#ed7953"
             ],
             [
              0.7777777777777778,
              "#fb9f3a"
             ],
             [
              0.8888888888888888,
              "#fdca26"
             ],
             [
              1,
              "#f0f921"
             ]
            ],
            "type": "heatmapgl"
           }
          ],
          "histogram": [
           {
            "marker": {
             "pattern": {
              "fillmode": "overlay",
              "size": 10,
              "solidity": 0.2
             }
            },
            "type": "histogram"
           }
          ],
          "histogram2d": [
           {
            "colorbar": {
             "outlinewidth": 0,
             "ticks": ""
            },
            "colorscale": [
             [
              0,
              "#0d0887"
             ],
             [
              0.1111111111111111,
              "#46039f"
             ],
             [
              0.2222222222222222,
              "#7201a8"
             ],
             [
              0.3333333333333333,
              "#9c179e"
             ],
             [
              0.4444444444444444,
              "#bd3786"
             ],
             [
              0.5555555555555556,
              "#d8576b"
             ],
             [
              0.6666666666666666,
              "#ed7953"
             ],
             [
              0.7777777777777778,
              "#fb9f3a"
             ],
             [
              0.8888888888888888,
              "#fdca26"
             ],
             [
              1,
              "#f0f921"
             ]
            ],
            "type": "histogram2d"
           }
          ],
          "histogram2dcontour": [
           {
            "colorbar": {
             "outlinewidth": 0,
             "ticks": ""
            },
            "colorscale": [
             [
              0,
              "#0d0887"
             ],
             [
              0.1111111111111111,
              "#46039f"
             ],
             [
              0.2222222222222222,
              "#7201a8"
             ],
             [
              0.3333333333333333,
              "#9c179e"
             ],
             [
              0.4444444444444444,
              "#bd3786"
             ],
             [
              0.5555555555555556,
              "#d8576b"
             ],
             [
              0.6666666666666666,
              "#ed7953"
             ],
             [
              0.7777777777777778,
              "#fb9f3a"
             ],
             [
              0.8888888888888888,
              "#fdca26"
             ],
             [
              1,
              "#f0f921"
             ]
            ],
            "type": "histogram2dcontour"
           }
          ],
          "mesh3d": [
           {
            "colorbar": {
             "outlinewidth": 0,
             "ticks": ""
            },
            "type": "mesh3d"
           }
          ],
          "parcoords": [
           {
            "line": {
             "colorbar": {
              "outlinewidth": 0,
              "ticks": ""
             }
            },
            "type": "parcoords"
           }
          ],
          "pie": [
           {
            "automargin": true,
            "type": "pie"
           }
          ],
          "scatter": [
           {
            "fillpattern": {
             "fillmode": "overlay",
             "size": 10,
             "solidity": 0.2
            },
            "type": "scatter"
           }
          ],
          "scatter3d": [
           {
            "line": {
             "colorbar": {
              "outlinewidth": 0,
              "ticks": ""
             }
            },
            "marker": {
             "colorbar": {
              "outlinewidth": 0,
              "ticks": ""
             }
            },
            "type": "scatter3d"
           }
          ],
          "scattercarpet": [
           {
            "marker": {
             "colorbar": {
              "outlinewidth": 0,
              "ticks": ""
             }
            },
            "type": "scattercarpet"
           }
          ],
          "scattergeo": [
           {
            "marker": {
             "colorbar": {
              "outlinewidth": 0,
              "ticks": ""
             }
            },
            "type": "scattergeo"
           }
          ],
          "scattergl": [
           {
            "marker": {
             "colorbar": {
              "outlinewidth": 0,
              "ticks": ""
             }
            },
            "type": "scattergl"
           }
          ],
          "scattermapbox": [
           {
            "marker": {
             "colorbar": {
              "outlinewidth": 0,
              "ticks": ""
             }
            },
            "type": "scattermapbox"
           }
          ],
          "scatterpolar": [
           {
            "marker": {
             "colorbar": {
              "outlinewidth": 0,
              "ticks": ""
             }
            },
            "type": "scatterpolar"
           }
          ],
          "scatterpolargl": [
           {
            "marker": {
             "colorbar": {
              "outlinewidth": 0,
              "ticks": ""
             }
            },
            "type": "scatterpolargl"
           }
          ],
          "scatterternary": [
           {
            "marker": {
             "colorbar": {
              "outlinewidth": 0,
              "ticks": ""
             }
            },
            "type": "scatterternary"
           }
          ],
          "surface": [
           {
            "colorbar": {
             "outlinewidth": 0,
             "ticks": ""
            },
            "colorscale": [
             [
              0,
              "#0d0887"
             ],
             [
              0.1111111111111111,
              "#46039f"
             ],
             [
              0.2222222222222222,
              "#7201a8"
             ],
             [
              0.3333333333333333,
              "#9c179e"
             ],
             [
              0.4444444444444444,
              "#bd3786"
             ],
             [
              0.5555555555555556,
              "#d8576b"
             ],
             [
              0.6666666666666666,
              "#ed7953"
             ],
             [
              0.7777777777777778,
              "#fb9f3a"
             ],
             [
              0.8888888888888888,
              "#fdca26"
             ],
             [
              1,
              "#f0f921"
             ]
            ],
            "type": "surface"
           }
          ],
          "table": [
           {
            "cells": {
             "fill": {
              "color": "#EBF0F8"
             },
             "line": {
              "color": "white"
             }
            },
            "header": {
             "fill": {
              "color": "#C8D4E3"
             },
             "line": {
              "color": "white"
             }
            },
            "type": "table"
           }
          ]
         },
         "layout": {
          "annotationdefaults": {
           "arrowcolor": "#2a3f5f",
           "arrowhead": 0,
           "arrowwidth": 1
          },
          "autotypenumbers": "strict",
          "coloraxis": {
           "colorbar": {
            "outlinewidth": 0,
            "ticks": ""
           }
          },
          "colorscale": {
           "diverging": [
            [
             0,
             "#8e0152"
            ],
            [
             0.1,
             "#c51b7d"
            ],
            [
             0.2,
             "#de77ae"
            ],
            [
             0.3,
             "#f1b6da"
            ],
            [
             0.4,
             "#fde0ef"
            ],
            [
             0.5,
             "#f7f7f7"
            ],
            [
             0.6,
             "#e6f5d0"
            ],
            [
             0.7,
             "#b8e186"
            ],
            [
             0.8,
             "#7fbc41"
            ],
            [
             0.9,
             "#4d9221"
            ],
            [
             1,
             "#276419"
            ]
           ],
           "sequential": [
            [
             0,
             "#0d0887"
            ],
            [
             0.1111111111111111,
             "#46039f"
            ],
            [
             0.2222222222222222,
             "#7201a8"
            ],
            [
             0.3333333333333333,
             "#9c179e"
            ],
            [
             0.4444444444444444,
             "#bd3786"
            ],
            [
             0.5555555555555556,
             "#d8576b"
            ],
            [
             0.6666666666666666,
             "#ed7953"
            ],
            [
             0.7777777777777778,
             "#fb9f3a"
            ],
            [
             0.8888888888888888,
             "#fdca26"
            ],
            [
             1,
             "#f0f921"
            ]
           ],
           "sequentialminus": [
            [
             0,
             "#0d0887"
            ],
            [
             0.1111111111111111,
             "#46039f"
            ],
            [
             0.2222222222222222,
             "#7201a8"
            ],
            [
             0.3333333333333333,
             "#9c179e"
            ],
            [
             0.4444444444444444,
             "#bd3786"
            ],
            [
             0.5555555555555556,
             "#d8576b"
            ],
            [
             0.6666666666666666,
             "#ed7953"
            ],
            [
             0.7777777777777778,
             "#fb9f3a"
            ],
            [
             0.8888888888888888,
             "#fdca26"
            ],
            [
             1,
             "#f0f921"
            ]
           ]
          },
          "colorway": [
           "#636efa",
           "#EF553B",
           "#00cc96",
           "#ab63fa",
           "#FFA15A",
           "#19d3f3",
           "#FF6692",
           "#B6E880",
           "#FF97FF",
           "#FECB52"
          ],
          "font": {
           "color": "#2a3f5f"
          },
          "geo": {
           "bgcolor": "white",
           "lakecolor": "white",
           "landcolor": "#E5ECF6",
           "showlakes": true,
           "showland": true,
           "subunitcolor": "white"
          },
          "hoverlabel": {
           "align": "left"
          },
          "hovermode": "closest",
          "mapbox": {
           "style": "light"
          },
          "paper_bgcolor": "white",
          "plot_bgcolor": "#E5ECF6",
          "polar": {
           "angularaxis": {
            "gridcolor": "white",
            "linecolor": "white",
            "ticks": ""
           },
           "bgcolor": "#E5ECF6",
           "radialaxis": {
            "gridcolor": "white",
            "linecolor": "white",
            "ticks": ""
           }
          },
          "scene": {
           "xaxis": {
            "backgroundcolor": "#E5ECF6",
            "gridcolor": "white",
            "gridwidth": 2,
            "linecolor": "white",
            "showbackground": true,
            "ticks": "",
            "zerolinecolor": "white"
           },
           "yaxis": {
            "backgroundcolor": "#E5ECF6",
            "gridcolor": "white",
            "gridwidth": 2,
            "linecolor": "white",
            "showbackground": true,
            "ticks": "",
            "zerolinecolor": "white"
           },
           "zaxis": {
            "backgroundcolor": "#E5ECF6",
            "gridcolor": "white",
            "gridwidth": 2,
            "linecolor": "white",
            "showbackground": true,
            "ticks": "",
            "zerolinecolor": "white"
           }
          },
          "shapedefaults": {
           "line": {
            "color": "#2a3f5f"
           }
          },
          "ternary": {
           "aaxis": {
            "gridcolor": "white",
            "linecolor": "white",
            "ticks": ""
           },
           "baxis": {
            "gridcolor": "white",
            "linecolor": "white",
            "ticks": ""
           },
           "bgcolor": "#E5ECF6",
           "caxis": {
            "gridcolor": "white",
            "linecolor": "white",
            "ticks": ""
           }
          },
          "title": {
           "x": 0.05
          },
          "xaxis": {
           "automargin": true,
           "gridcolor": "white",
           "linecolor": "white",
           "ticks": "",
           "title": {
            "standoff": 15
           },
           "zerolinecolor": "white",
           "zerolinewidth": 2
          },
          "yaxis": {
           "automargin": true,
           "gridcolor": "white",
           "linecolor": "white",
           "ticks": "",
           "title": {
            "standoff": 15
           },
           "zerolinecolor": "white",
           "zerolinewidth": 2
          }
         }
        },
        "title": {
         "text": "Premier plan factoriel"
        },
        "xaxis": {
         "anchor": "y",
         "domain": [
          0,
          1
         ],
         "title": {
          "text": "Dimension 1"
         }
        },
        "yaxis": {
         "anchor": "x",
         "domain": [
          0,
          1
         ],
         "title": {
          "text": "Dimension 2"
         }
        }
       }
      },
      "text/html": [
       "<div>                            <div id=\"b586b05c-d9fd-4ecf-b7c7-8644d46984f4\" class=\"plotly-graph-div\" style=\"height:525px; width:100%;\"></div>            <script type=\"text/javascript\">                require([\"plotly\"], function(Plotly) {                    window.PLOTLYENV=window.PLOTLYENV || {};                                    if (document.getElementById(\"b586b05c-d9fd-4ecf-b7c7-8644d46984f4\")) {                    Plotly.newPlot(                        \"b586b05c-d9fd-4ecf-b7c7-8644d46984f4\",                        [{\"hovertemplate\":\"Continent=europe<br>Dim1_pca=%{x}<br>Dim2_pca=%{y}<extra></extra>\",\"legendgroup\":\"europe\",\"marker\":{\"color\":\"#636efa\",\"symbol\":\"circle\"},\"mode\":\"markers\",\"name\":\"europe\",\"orientation\":\"v\",\"showlegend\":true,\"x\":[-612412933984.6053,-151048137235.80826,-29594687536.42639,-546302005999.1995,-561262262530.186,-348552280768.2194,-224655501154.76868,-593152333118.5696,-333873082626.64215,2329012316402.438,3648160429250.0938,-415675691654.56793,-448253457303.1735,-604747559141.1417,1525016797907.3767,-590900373061.8783,-563544565457.9617,-544759393472.9066,-612256294025.764,-616651268962.2335,399334837388.6657,-126975514299.36835,51002637968.76246,-374808659811.2768,-344533254140.05365,-567242429376.737,-511767016654.3158,-568511297740.8011,815308153749.2667,9371455724.544807,-430577637358.36383,2511162653238.1987],\"xaxis\":\"x\",\"y\":[-10210703.050451657,-39393642.376273856,-46078906.273646794,-11596049.534370134,-13065310.508526735,-22586054.67167199,-36880226.3855442,-13131842.766822686,-28836946.83882892,-170940620.38207024,-256431856.6848398,-17677568.58806607,-15961705.543790754,-13209583.992828453,-118205267.37123953,-12772276.107378121,-13917405.020580042,-17546077.576119747,-12483358.738624822,-10125234.572190367,-73003096.6828455,-44828852.69191179,-27079301.5061347,-20820392.83242547,-14484671.670421652,-9798663.827287441,-15297200.47967492,-14262072.101632137,-74882081.60268347,-50272836.738968976,11089155.186095657,-185903843.1687064],\"yaxis\":\"y\",\"type\":\"scatter\"},{\"hovertemplate\":\"Continent=africa<br>Dim1_pca=%{x}<br>Dim2_pca=%{y}<extra></extra>\",\"legendgroup\":\"africa\",\"marker\":{\"color\":\"#EF553B\",\"symbol\":\"circle\"},\"mode\":\"markers\",\"name\":\"africa\",\"orientation\":\"v\",\"showlegend\":true,\"x\":[-466871108308.9155,-627567699584.9603,-585349975478.706,-618563516604.3813,-519081607157.13116,-550819075066.0454,-614251680405.1901,-520639836532.8407,-627994728081.1555,-615788742916.4227,-611034034076.7493,-621120962563.4515,-618859141253.5516,-488525699720.4094,-614175440390.4225,-617897208248.8518,-619288980892.9761,-602774361285.527,-210225683437.7478,-559687866294.0322,-589833254388.1426,-608247080858.1024],\"xaxis\":\"x\",\"y\":[20745584.084457017,1054886.663523968,12834813.545412546,5193795.83551817,103208560.3257415,15750514.587994888,1002538.5195758851,33975709.03737234,-9498485.731817467,16868364.917502504,9498709.613303965,-7596308.940175716,-11243658.66725036,14976967.206385138,20106828.164505355,-10013922.79113161,1304896.207289584,3579405.920435572,16001328.893440846,48443847.35341406,32513085.07189435,6695734.727621206],\"yaxis\":\"y\",\"type\":\"scatter\"},{\"hovertemplate\":\"Continent=south-america<br>Dim1_pca=%{x}<br>Dim2_pca=%{y}<extra></extra>\",\"legendgroup\":\"south-america\",\"marker\":{\"color\":\"#00cc96\",\"symbol\":\"circle\"},\"mode\":\"markers\",\"name\":\"south-america\",\"orientation\":\"v\",\"showlegend\":true,\"x\":[-142440924985.56168,-590392598922.1676,-406625698250.8921,-568931230933.6362],\"xaxis\":\"x\",\"y\":[-2856833.490741843,-7903333.542017272,5255329.241321251,-12915877.606469084],\"yaxis\":\"y\",\"type\":\"scatter\"},{\"hovertemplate\":\"Continent=asia<br>Dim1_pca=%{x}<br>Dim2_pca=%{y}<extra></extra>\",\"legendgroup\":\"asia\",\"marker\":{\"color\":\"#ab63fa\",\"symbol\":\"circle\"},\"mode\":\"markers\",\"name\":\"asia\",\"orientation\":\"v\",\"showlegend\":true,\"x\":[-616464590462.4438,-575518086881.9153,-591054829054.3059,-214078686790.63135,-603382436903.8685,17190116065492.492,-600860581576.4371,2519963439440.4487,556161974134.8982,-141816954091.68335,4404277280081.724,-584047398391.6493,-433231242972.967,-611516350211.9991,-256511069702.64575,-615057057310.2521,-593418655596.8956,-281826834730.196,-236256131703.94543,-206546399558.973,-541795448699.56885,-124775431258.26433,-215164706990.5747,-264205923679.26212],\"xaxis\":\"x\",\"y\":[-9900730.858373858,-5682401.330079236,-13173613.036010405,127660717.36068892,3083116.0727244164,31927250.235944718,-12637608.055572014,1163692077.1163473,172784846.1302242,-39590683.335956275,-273177883.985349,-3897097.6865647146,-7100556.188107063,-5527316.060872227,-6388975.52322516,-9399078.975241639,16113483.411048735,197481705.80823058,73730944.67273618,-38541350.10173068,3776226.367569118,21239628.11791381,-34095727.6443668,58474313.97028516],\"yaxis\":\"y\",\"type\":\"scatter\"},{\"hovertemplate\":\"Continent=oceania<br>Dim1_pca=%{x}<br>Dim2_pca=%{y}<extra></extra>\",\"legendgroup\":\"oceania\",\"marker\":{\"color\":\"#FFA15A\",\"symbol\":\"circle\"},\"mode\":\"markers\",\"name\":\"oceania\",\"orientation\":\"v\",\"showlegend\":true,\"x\":[928690254426.5889,-374791794997.882],\"xaxis\":\"x\",\"y\":[-105364663.60924993,-26123309.946640518],\"yaxis\":\"y\",\"type\":\"scatter\"},{\"hovertemplate\":\"Continent=north-america<br>Dim1_pca=%{x}<br>Dim2_pca=%{y}<extra></extra>\",\"legendgroup\":\"north-america\",\"marker\":{\"color\":\"#19d3f3\",\"symbol\":\"circle\"},\"mode\":\"markers\",\"name\":\"north-america\",\"orientation\":\"v\",\"showlegend\":true,\"x\":[1377128679277.2046,-565382773323.822,-536100072740.635,-600892258863.8821,-544290414708.42535,-601854776865.9166,-615685912963.0208,-616197618373.034,-562936761024.6621],\"xaxis\":\"x\",\"y\":[-126871866.5026872,-11434551.201433824,-7618480.677869504,-7532836.395754231,-862170.0501608817,-3370122.155965148,-9911200.38516832,-5755992.797363998,-12394076.806616155],\"yaxis\":\"y\",\"type\":\"scatter\"}],                        {\"template\":{\"data\":{\"histogram2dcontour\":[{\"type\":\"histogram2dcontour\",\"colorbar\":{\"outlinewidth\":0,\"ticks\":\"\"},\"colorscale\":[[0.0,\"#0d0887\"],[0.1111111111111111,\"#46039f\"],[0.2222222222222222,\"#7201a8\"],[0.3333333333333333,\"#9c179e\"],[0.4444444444444444,\"#bd3786\"],[0.5555555555555556,\"#d8576b\"],[0.6666666666666666,\"#ed7953\"],[0.7777777777777778,\"#fb9f3a\"],[0.8888888888888888,\"#fdca26\"],[1.0,\"#f0f921\"]]}],\"choropleth\":[{\"type\":\"choropleth\",\"colorbar\":{\"outlinewidth\":0,\"ticks\":\"\"}}],\"histogram2d\":[{\"type\":\"histogram2d\",\"colorbar\":{\"outlinewidth\":0,\"ticks\":\"\"},\"colorscale\":[[0.0,\"#0d0887\"],[0.1111111111111111,\"#46039f\"],[0.2222222222222222,\"#7201a8\"],[0.3333333333333333,\"#9c179e\"],[0.4444444444444444,\"#bd3786\"],[0.5555555555555556,\"#d8576b\"],[0.6666666666666666,\"#ed7953\"],[0.7777777777777778,\"#fb9f3a\"],[0.8888888888888888,\"#fdca26\"],[1.0,\"#f0f921\"]]}],\"heatmap\":[{\"type\":\"heatmap\",\"colorbar\":{\"outlinewidth\":0,\"ticks\":\"\"},\"colorscale\":[[0.0,\"#0d0887\"],[0.1111111111111111,\"#46039f\"],[0.2222222222222222,\"#7201a8\"],[0.3333333333333333,\"#9c179e\"],[0.4444444444444444,\"#bd3786\"],[0.5555555555555556,\"#d8576b\"],[0.6666666666666666,\"#ed7953\"],[0.7777777777777778,\"#fb9f3a\"],[0.8888888888888888,\"#fdca26\"],[1.0,\"#f0f921\"]]}],\"heatmapgl\":[{\"type\":\"heatmapgl\",\"colorbar\":{\"outlinewidth\":0,\"ticks\":\"\"},\"colorscale\":[[0.0,\"#0d0887\"],[0.1111111111111111,\"#46039f\"],[0.2222222222222222,\"#7201a8\"],[0.3333333333333333,\"#9c179e\"],[0.4444444444444444,\"#bd3786\"],[0.5555555555555556,\"#d8576b\"],[0.6666666666666666,\"#ed7953\"],[0.7777777777777778,\"#fb9f3a\"],[0.8888888888888888,\"#fdca26\"],[1.0,\"#f0f921\"]]}],\"contourcarpet\":[{\"type\":\"contourcarpet\",\"colorbar\":{\"outlinewidth\":0,\"ticks\":\"\"}}],\"contour\":[{\"type\":\"contour\",\"colorbar\":{\"outlinewidth\":0,\"ticks\":\"\"},\"colorscale\":[[0.0,\"#0d0887\"],[0.1111111111111111,\"#46039f\"],[0.2222222222222222,\"#7201a8\"],[0.3333333333333333,\"#9c179e\"],[0.4444444444444444,\"#bd3786\"],[0.5555555555555556,\"#d8576b\"],[0.6666666666666666,\"#ed7953\"],[0.7777777777777778,\"#fb9f3a\"],[0.8888888888888888,\"#fdca26\"],[1.0,\"#f0f921\"]]}],\"surface\":[{\"type\":\"surface\",\"colorbar\":{\"outlinewidth\":0,\"ticks\":\"\"},\"colorscale\":[[0.0,\"#0d0887\"],[0.1111111111111111,\"#46039f\"],[0.2222222222222222,\"#7201a8\"],[0.3333333333333333,\"#9c179e\"],[0.4444444444444444,\"#bd3786\"],[0.5555555555555556,\"#d8576b\"],[0.6666666666666666,\"#ed7953\"],[0.7777777777777778,\"#fb9f3a\"],[0.8888888888888888,\"#fdca26\"],[1.0,\"#f0f921\"]]}],\"mesh3d\":[{\"type\":\"mesh3d\",\"colorbar\":{\"outlinewidth\":0,\"ticks\":\"\"}}],\"scatter\":[{\"fillpattern\":{\"fillmode\":\"overlay\",\"size\":10,\"solidity\":0.2},\"type\":\"scatter\"}],\"parcoords\":[{\"type\":\"parcoords\",\"line\":{\"colorbar\":{\"outlinewidth\":0,\"ticks\":\"\"}}}],\"scatterpolargl\":[{\"type\":\"scatterpolargl\",\"marker\":{\"colorbar\":{\"outlinewidth\":0,\"ticks\":\"\"}}}],\"bar\":[{\"error_x\":{\"color\":\"#2a3f5f\"},\"error_y\":{\"color\":\"#2a3f5f\"},\"marker\":{\"line\":{\"color\":\"#E5ECF6\",\"width\":0.5},\"pattern\":{\"fillmode\":\"overlay\",\"size\":10,\"solidity\":0.2}},\"type\":\"bar\"}],\"scattergeo\":[{\"type\":\"scattergeo\",\"marker\":{\"colorbar\":{\"outlinewidth\":0,\"ticks\":\"\"}}}],\"scatterpolar\":[{\"type\":\"scatterpolar\",\"marker\":{\"colorbar\":{\"outlinewidth\":0,\"ticks\":\"\"}}}],\"histogram\":[{\"marker\":{\"pattern\":{\"fillmode\":\"overlay\",\"size\":10,\"solidity\":0.2}},\"type\":\"histogram\"}],\"scattergl\":[{\"type\":\"scattergl\",\"marker\":{\"colorbar\":{\"outlinewidth\":0,\"ticks\":\"\"}}}],\"scatter3d\":[{\"type\":\"scatter3d\",\"line\":{\"colorbar\":{\"outlinewidth\":0,\"ticks\":\"\"}},\"marker\":{\"colorbar\":{\"outlinewidth\":0,\"ticks\":\"\"}}}],\"scattermapbox\":[{\"type\":\"scattermapbox\",\"marker\":{\"colorbar\":{\"outlinewidth\":0,\"ticks\":\"\"}}}],\"scatterternary\":[{\"type\":\"scatterternary\",\"marker\":{\"colorbar\":{\"outlinewidth\":0,\"ticks\":\"\"}}}],\"scattercarpet\":[{\"type\":\"scattercarpet\",\"marker\":{\"colorbar\":{\"outlinewidth\":0,\"ticks\":\"\"}}}],\"carpet\":[{\"aaxis\":{\"endlinecolor\":\"#2a3f5f\",\"gridcolor\":\"white\",\"linecolor\":\"white\",\"minorgridcolor\":\"white\",\"startlinecolor\":\"#2a3f5f\"},\"baxis\":{\"endlinecolor\":\"#2a3f5f\",\"gridcolor\":\"white\",\"linecolor\":\"white\",\"minorgridcolor\":\"white\",\"startlinecolor\":\"#2a3f5f\"},\"type\":\"carpet\"}],\"table\":[{\"cells\":{\"fill\":{\"color\":\"#EBF0F8\"},\"line\":{\"color\":\"white\"}},\"header\":{\"fill\":{\"color\":\"#C8D4E3\"},\"line\":{\"color\":\"white\"}},\"type\":\"table\"}],\"barpolar\":[{\"marker\":{\"line\":{\"color\":\"#E5ECF6\",\"width\":0.5},\"pattern\":{\"fillmode\":\"overlay\",\"size\":10,\"solidity\":0.2}},\"type\":\"barpolar\"}],\"pie\":[{\"automargin\":true,\"type\":\"pie\"}]},\"layout\":{\"autotypenumbers\":\"strict\",\"colorway\":[\"#636efa\",\"#EF553B\",\"#00cc96\",\"#ab63fa\",\"#FFA15A\",\"#19d3f3\",\"#FF6692\",\"#B6E880\",\"#FF97FF\",\"#FECB52\"],\"font\":{\"color\":\"#2a3f5f\"},\"hovermode\":\"closest\",\"hoverlabel\":{\"align\":\"left\"},\"paper_bgcolor\":\"white\",\"plot_bgcolor\":\"#E5ECF6\",\"polar\":{\"bgcolor\":\"#E5ECF6\",\"angularaxis\":{\"gridcolor\":\"white\",\"linecolor\":\"white\",\"ticks\":\"\"},\"radialaxis\":{\"gridcolor\":\"white\",\"linecolor\":\"white\",\"ticks\":\"\"}},\"ternary\":{\"bgcolor\":\"#E5ECF6\",\"aaxis\":{\"gridcolor\":\"white\",\"linecolor\":\"white\",\"ticks\":\"\"},\"baxis\":{\"gridcolor\":\"white\",\"linecolor\":\"white\",\"ticks\":\"\"},\"caxis\":{\"gridcolor\":\"white\",\"linecolor\":\"white\",\"ticks\":\"\"}},\"coloraxis\":{\"colorbar\":{\"outlinewidth\":0,\"ticks\":\"\"}},\"colorscale\":{\"sequential\":[[0.0,\"#0d0887\"],[0.1111111111111111,\"#46039f\"],[0.2222222222222222,\"#7201a8\"],[0.3333333333333333,\"#9c179e\"],[0.4444444444444444,\"#bd3786\"],[0.5555555555555556,\"#d8576b\"],[0.6666666666666666,\"#ed7953\"],[0.7777777777777778,\"#fb9f3a\"],[0.8888888888888888,\"#fdca26\"],[1.0,\"#f0f921\"]],\"sequentialminus\":[[0.0,\"#0d0887\"],[0.1111111111111111,\"#46039f\"],[0.2222222222222222,\"#7201a8\"],[0.3333333333333333,\"#9c179e\"],[0.4444444444444444,\"#bd3786\"],[0.5555555555555556,\"#d8576b\"],[0.6666666666666666,\"#ed7953\"],[0.7777777777777778,\"#fb9f3a\"],[0.8888888888888888,\"#fdca26\"],[1.0,\"#f0f921\"]],\"diverging\":[[0,\"#8e0152\"],[0.1,\"#c51b7d\"],[0.2,\"#de77ae\"],[0.3,\"#f1b6da\"],[0.4,\"#fde0ef\"],[0.5,\"#f7f7f7\"],[0.6,\"#e6f5d0\"],[0.7,\"#b8e186\"],[0.8,\"#7fbc41\"],[0.9,\"#4d9221\"],[1,\"#276419\"]]},\"xaxis\":{\"gridcolor\":\"white\",\"linecolor\":\"white\",\"ticks\":\"\",\"title\":{\"standoff\":15},\"zerolinecolor\":\"white\",\"automargin\":true,\"zerolinewidth\":2},\"yaxis\":{\"gridcolor\":\"white\",\"linecolor\":\"white\",\"ticks\":\"\",\"title\":{\"standoff\":15},\"zerolinecolor\":\"white\",\"automargin\":true,\"zerolinewidth\":2},\"scene\":{\"xaxis\":{\"backgroundcolor\":\"#E5ECF6\",\"gridcolor\":\"white\",\"linecolor\":\"white\",\"showbackground\":true,\"ticks\":\"\",\"zerolinecolor\":\"white\",\"gridwidth\":2},\"yaxis\":{\"backgroundcolor\":\"#E5ECF6\",\"gridcolor\":\"white\",\"linecolor\":\"white\",\"showbackground\":true,\"ticks\":\"\",\"zerolinecolor\":\"white\",\"gridwidth\":2},\"zaxis\":{\"backgroundcolor\":\"#E5ECF6\",\"gridcolor\":\"white\",\"linecolor\":\"white\",\"showbackground\":true,\"ticks\":\"\",\"zerolinecolor\":\"white\",\"gridwidth\":2}},\"shapedefaults\":{\"line\":{\"color\":\"#2a3f5f\"}},\"annotationdefaults\":{\"arrowcolor\":\"#2a3f5f\",\"arrowhead\":0,\"arrowwidth\":1},\"geo\":{\"bgcolor\":\"white\",\"landcolor\":\"#E5ECF6\",\"subunitcolor\":\"white\",\"showland\":true,\"showlakes\":true,\"lakecolor\":\"white\"},\"title\":{\"x\":0.05},\"mapbox\":{\"style\":\"light\"}}},\"xaxis\":{\"anchor\":\"y\",\"domain\":[0.0,1.0],\"title\":{\"text\":\"Dimension 1\"}},\"yaxis\":{\"anchor\":\"x\",\"domain\":[0.0,1.0],\"title\":{\"text\":\"Dimension 2\"}},\"legend\":{\"title\":{\"text\":\"Continent\"},\"tracegroupgap\":0},\"margin\":{\"t\":60},\"title\":{\"text\":\"Premier plan factoriel\"}},                        {\"responsive\": true}                    ).then(function(){\n",
       "                            \n",
       "var gd = document.getElementById('b586b05c-d9fd-4ecf-b7c7-8644d46984f4');\n",
       "var x = new MutationObserver(function (mutations, observer) {{\n",
       "        var display = window.getComputedStyle(gd).display;\n",
       "        if (!display || display === 'none') {{\n",
       "            console.log([gd, 'removed!']);\n",
       "            Plotly.purge(gd);\n",
       "            observer.disconnect();\n",
       "        }}\n",
       "}});\n",
       "\n",
       "// Listen for the removal of the full notebook cells\n",
       "var notebookContainer = gd.closest('#notebook-container');\n",
       "if (notebookContainer) {{\n",
       "    x.observe(notebookContainer, {childList: true});\n",
       "}}\n",
       "\n",
       "// Listen for the clearing of the current output cell\n",
       "var outputEl = gd.closest('.output');\n",
       "if (outputEl) {{\n",
       "    x.observe(outputEl, {childList: true});\n",
       "}}\n",
       "\n",
       "                        })                };                });            </script>        </div>"
      ]
     },
     "metadata": {},
     "output_type": "display_data"
    }
   ],
   "source": [
    "import plotly.express as px\n",
    "\n",
    "# Assuming you have the DataFrame WGI_pca_df and a column 'color_column' for coloring the points\n",
    "\n",
    "# Plot scatter plot with Plotly\n",
    "fig = px.scatter(new_df, x=\"Dim1_pca\",y=\"Dim2_pca\", color=\"Continent\")\n",
    "\n",
    "# Update axis label and title\n",
    "fig.update_xaxes(title_text=\"Dimension 1\")\n",
    "fig.update_yaxes(title_text=\"Dimension 2\")\n",
    "fig.update_layout(title=\"Premier plan factoriel\")\n",
    "\n",
    "# Show the plot\n",
    "fig.show()"
   ]
  },
  {
   "cell_type": "markdown",
   "id": "9e4b92a3",
   "metadata": {},
   "source": [
    "# Analyse des variables"
   ]
  },
  {
   "cell_type": "code",
   "execution_count": 44,
   "id": "28210300",
   "metadata": {},
   "outputs": [
    {
     "data": {
      "text/html": [
       "<div>\n",
       "<style scoped>\n",
       "    .dataframe tbody tr th:only-of-type {\n",
       "        vertical-align: middle;\n",
       "    }\n",
       "\n",
       "    .dataframe tbody tr th {\n",
       "        vertical-align: top;\n",
       "    }\n",
       "\n",
       "    .dataframe thead th {\n",
       "        text-align: right;\n",
       "    }\n",
       "</style>\n",
       "<table border=\"1\" class=\"dataframe\">\n",
       "  <thead>\n",
       "    <tr style=\"text-align: right;\">\n",
       "      <th></th>\n",
       "      <th>id</th>\n",
       "      <th>COR_1</th>\n",
       "      <th>COR_2</th>\n",
       "    </tr>\n",
       "  </thead>\n",
       "  <tbody>\n",
       "    <tr>\n",
       "      <th>0</th>\n",
       "      <td>Nb_Prixnobel</td>\n",
       "      <td>6.883946e+00</td>\n",
       "      <td>-6.165500e+00</td>\n",
       "    </tr>\n",
       "    <tr>\n",
       "      <th>1</th>\n",
       "      <td>Nb_Univtop500</td>\n",
       "      <td>5.010031e+00</td>\n",
       "      <td>-1.549627e+00</td>\n",
       "    </tr>\n",
       "    <tr>\n",
       "      <th>2</th>\n",
       "      <td>Immigrationbycountry_Immigrants</td>\n",
       "      <td>8.217698e+05</td>\n",
       "      <td>-4.075200e+05</td>\n",
       "    </tr>\n",
       "    <tr>\n",
       "      <th>3</th>\n",
       "      <td>Immigrationbycountry_Emigrants</td>\n",
       "      <td>1.244159e+06</td>\n",
       "      <td>1.670323e+06</td>\n",
       "    </tr>\n",
       "    <tr>\n",
       "      <th>4</th>\n",
       "      <td>Area</td>\n",
       "      <td>1.006497e+06</td>\n",
       "      <td>1.860739e+05</td>\n",
       "    </tr>\n",
       "    <tr>\n",
       "      <th>5</th>\n",
       "      <td>Population</td>\n",
       "      <td>1.538351e+08</td>\n",
       "      <td>1.369914e+08</td>\n",
       "    </tr>\n",
       "    <tr>\n",
       "      <th>6</th>\n",
       "      <td>Education_Spending_2021</td>\n",
       "      <td>-8.796352e-02</td>\n",
       "      <td>-1.496775e-01</td>\n",
       "    </tr>\n",
       "    <tr>\n",
       "      <th>7</th>\n",
       "      <td>Gdp</td>\n",
       "      <td>2.003034e+12</td>\n",
       "      <td>-1.052205e+04</td>\n",
       "    </tr>\n",
       "    <tr>\n",
       "      <th>8</th>\n",
       "      <td>Averageiqbycountry_Iqlynnbecker2019</td>\n",
       "      <td>3.970947e+00</td>\n",
       "      <td>-3.588251e+00</td>\n",
       "    </tr>\n",
       "    <tr>\n",
       "      <th>9</th>\n",
       "      <td>Averageiq_Ici2017Score</td>\n",
       "      <td>4.782218e+00</td>\n",
       "      <td>-5.182451e+00</td>\n",
       "    </tr>\n",
       "    <tr>\n",
       "      <th>10</th>\n",
       "      <td>Gdp_Percapita</td>\n",
       "      <td>2.827796e+03</td>\n",
       "      <td>-7.225628e+03</td>\n",
       "    </tr>\n",
       "    <tr>\n",
       "      <th>11</th>\n",
       "      <td>Indice_Evolution</td>\n",
       "      <td>-6.997062e+00</td>\n",
       "      <td>-5.415946e+01</td>\n",
       "    </tr>\n",
       "  </tbody>\n",
       "</table>\n",
       "</div>"
      ],
      "text/plain": [
       "                                     id         COR_1         COR_2\n",
       "0                          Nb_Prixnobel  6.883946e+00 -6.165500e+00\n",
       "1                         Nb_Univtop500  5.010031e+00 -1.549627e+00\n",
       "2       Immigrationbycountry_Immigrants  8.217698e+05 -4.075200e+05\n",
       "3        Immigrationbycountry_Emigrants  1.244159e+06  1.670323e+06\n",
       "4                                  Area  1.006497e+06  1.860739e+05\n",
       "5                            Population  1.538351e+08  1.369914e+08\n",
       "6               Education_Spending_2021 -8.796352e-02 -1.496775e-01\n",
       "7                                   Gdp  2.003034e+12 -1.052205e+04\n",
       "8   Averageiqbycountry_Iqlynnbecker2019  3.970947e+00 -3.588251e+00\n",
       "9                Averageiq_Ici2017Score  4.782218e+00 -5.182451e+00\n",
       "10                        Gdp_Percapita  2.827796e+03 -7.225628e+03\n",
       "11                     Indice_Evolution -6.997062e+00 -5.415946e+01"
      ]
     },
     "execution_count": 44,
     "metadata": {},
     "output_type": "execute_result"
    }
   ],
   "source": [
    "n = ds.shape[0] # nb individus\n",
    "p = ds.shape[1] # nb variables\n",
    "eigval = (n-1) / n * pca.explained_variance_ # valeurs propres\n",
    "sqrt_eigval = np.sqrt(eigval) # racine carrée des valeurs propres\n",
    "corvar = np.zeros((p,p)) # matrice vide pour avoir les coordonnées\n",
    "for k in range(p):\n",
    "    corvar[:,k] = pca.components_[k,:] * sqrt_eigval[k]\n",
    "# on modifie pour avoir un dataframe\n",
    "coordvar = pd.DataFrame({'id': ds.columns, 'COR_1': corvar[:,0], 'COR_2': corvar[:,1]})\n",
    "coordvar"
   ]
  },
  {
   "cell_type": "code",
   "execution_count": 45,
   "id": "b808ef49",
   "metadata": {},
   "outputs": [
    {
     "data": {
      "application/vnd.plotly.v1+json": {
       "config": {
        "plotlyServerURL": "https://plot.ly"
       },
       "data": [
        {
         "hovertemplate": "COR_1=%{x}<br>COR_2=%{y}<br>id=%{text}<extra></extra>",
         "legendgroup": "",
         "marker": {
          "color": "#636efa",
          "symbol": "circle"
         },
         "mode": "markers+text",
         "name": "",
         "orientation": "v",
         "showlegend": false,
         "text": [
          "Nb_Prixnobel",
          "Nb_Univtop500",
          "Immigrationbycountry_Immigrants",
          "Immigrationbycountry_Emigrants",
          "Area",
          "Population",
          "Education_Spending_2021",
          "Gdp",
          "Averageiqbycountry_Iqlynnbecker2019",
          "Averageiq_Ici2017Score",
          "Gdp_Percapita",
          "Indice_Evolution"
         ],
         "type": "scatter",
         "x": [
          6.883945507345557,
          5.010030975483052,
          821769.7838013445,
          1244159.2211132296,
          1006497.4924155911,
          153835116.8257568,
          -0.08796351861541005,
          2003033754573.5044,
          3.9709470213198563,
          4.782217592359688,
          2827.7958413721735,
          -6.9970615430918635
         ],
         "xaxis": "x",
         "y": [
          -6.165500015504695,
          -1.5496266940677474,
          -407519.9867833342,
          1670322.6145349636,
          186073.93840602535,
          136991370.41278297,
          -0.1496775397987048,
          -10522.046343772356,
          -3.5882507403796526,
          -5.182451263241862,
          -7225.628330557705,
          -54.15946405473946
         ],
         "yaxis": "y"
        }
       ],
       "layout": {
        "legend": {
         "tracegroupgap": 0
        },
        "margin": {
         "t": 60
        },
        "shapes": [
         {
          "line": {
           "color": "RoyalBlue"
          },
          "type": "circle",
          "x0": -1,
          "x1": 1,
          "xref": "x",
          "y0": -1,
          "y1": 1,
          "yref": "y"
         },
         {
          "line": {
           "color": "LightSeaGreen",
           "width": 2
          },
          "type": "line",
          "x0": -1,
          "x1": 1,
          "xref": "x",
          "y0": 0,
          "y1": 0,
          "yref": "y"
         },
         {
          "line": {
           "color": "LightSeaGreen",
           "width": 2
          },
          "type": "line",
          "x0": 0,
          "x1": 0,
          "xref": "x",
          "y0": -1,
          "y1": 1,
          "yref": "y"
         }
        ],
        "template": {
         "data": {
          "bar": [
           {
            "error_x": {
             "color": "#2a3f5f"
            },
            "error_y": {
             "color": "#2a3f5f"
            },
            "marker": {
             "line": {
              "color": "#E5ECF6",
              "width": 0.5
             },
             "pattern": {
              "fillmode": "overlay",
              "size": 10,
              "solidity": 0.2
             }
            },
            "type": "bar"
           }
          ],
          "barpolar": [
           {
            "marker": {
             "line": {
              "color": "#E5ECF6",
              "width": 0.5
             },
             "pattern": {
              "fillmode": "overlay",
              "size": 10,
              "solidity": 0.2
             }
            },
            "type": "barpolar"
           }
          ],
          "carpet": [
           {
            "aaxis": {
             "endlinecolor": "#2a3f5f",
             "gridcolor": "white",
             "linecolor": "white",
             "minorgridcolor": "white",
             "startlinecolor": "#2a3f5f"
            },
            "baxis": {
             "endlinecolor": "#2a3f5f",
             "gridcolor": "white",
             "linecolor": "white",
             "minorgridcolor": "white",
             "startlinecolor": "#2a3f5f"
            },
            "type": "carpet"
           }
          ],
          "choropleth": [
           {
            "colorbar": {
             "outlinewidth": 0,
             "ticks": ""
            },
            "type": "choropleth"
           }
          ],
          "contour": [
           {
            "colorbar": {
             "outlinewidth": 0,
             "ticks": ""
            },
            "colorscale": [
             [
              0,
              "#0d0887"
             ],
             [
              0.1111111111111111,
              "#46039f"
             ],
             [
              0.2222222222222222,
              "#7201a8"
             ],
             [
              0.3333333333333333,
              "#9c179e"
             ],
             [
              0.4444444444444444,
              "#bd3786"
             ],
             [
              0.5555555555555556,
              "#d8576b"
             ],
             [
              0.6666666666666666,
              "#ed7953"
             ],
             [
              0.7777777777777778,
              "#fb9f3a"
             ],
             [
              0.8888888888888888,
              "#fdca26"
             ],
             [
              1,
              "#f0f921"
             ]
            ],
            "type": "contour"
           }
          ],
          "contourcarpet": [
           {
            "colorbar": {
             "outlinewidth": 0,
             "ticks": ""
            },
            "type": "contourcarpet"
           }
          ],
          "heatmap": [
           {
            "colorbar": {
             "outlinewidth": 0,
             "ticks": ""
            },
            "colorscale": [
             [
              0,
              "#0d0887"
             ],
             [
              0.1111111111111111,
              "#46039f"
             ],
             [
              0.2222222222222222,
              "#7201a8"
             ],
             [
              0.3333333333333333,
              "#9c179e"
             ],
             [
              0.4444444444444444,
              "#bd3786"
             ],
             [
              0.5555555555555556,
              "#d8576b"
             ],
             [
              0.6666666666666666,
              "#ed7953"
             ],
             [
              0.7777777777777778,
              "#fb9f3a"
             ],
             [
              0.8888888888888888,
              "#fdca26"
             ],
             [
              1,
              "#f0f921"
             ]
            ],
            "type": "heatmap"
           }
          ],
          "heatmapgl": [
           {
            "colorbar": {
             "outlinewidth": 0,
             "ticks": ""
            },
            "colorscale": [
             [
              0,
              "#0d0887"
             ],
             [
              0.1111111111111111,
              "#46039f"
             ],
             [
              0.2222222222222222,
              "#7201a8"
             ],
             [
              0.3333333333333333,
              "#9c179e"
             ],
             [
              0.4444444444444444,
              "#bd3786"
             ],
             [
              0.5555555555555556,
              "#d8576b"
             ],
             [
              0.6666666666666666,
              "#ed7953"
             ],
             [
              0.7777777777777778,
              "#fb9f3a"
             ],
             [
              0.8888888888888888,
              "#fdca26"
             ],
             [
              1,
              "#f0f921"
             ]
            ],
            "type": "heatmapgl"
           }
          ],
          "histogram": [
           {
            "marker": {
             "pattern": {
              "fillmode": "overlay",
              "size": 10,
              "solidity": 0.2
             }
            },
            "type": "histogram"
           }
          ],
          "histogram2d": [
           {
            "colorbar": {
             "outlinewidth": 0,
             "ticks": ""
            },
            "colorscale": [
             [
              0,
              "#0d0887"
             ],
             [
              0.1111111111111111,
              "#46039f"
             ],
             [
              0.2222222222222222,
              "#7201a8"
             ],
             [
              0.3333333333333333,
              "#9c179e"
             ],
             [
              0.4444444444444444,
              "#bd3786"
             ],
             [
              0.5555555555555556,
              "#d8576b"
             ],
             [
              0.6666666666666666,
              "#ed7953"
             ],
             [
              0.7777777777777778,
              "#fb9f3a"
             ],
             [
              0.8888888888888888,
              "#fdca26"
             ],
             [
              1,
              "#f0f921"
             ]
            ],
            "type": "histogram2d"
           }
          ],
          "histogram2dcontour": [
           {
            "colorbar": {
             "outlinewidth": 0,
             "ticks": ""
            },
            "colorscale": [
             [
              0,
              "#0d0887"
             ],
             [
              0.1111111111111111,
              "#46039f"
             ],
             [
              0.2222222222222222,
              "#7201a8"
             ],
             [
              0.3333333333333333,
              "#9c179e"
             ],
             [
              0.4444444444444444,
              "#bd3786"
             ],
             [
              0.5555555555555556,
              "#d8576b"
             ],
             [
              0.6666666666666666,
              "#ed7953"
             ],
             [
              0.7777777777777778,
              "#fb9f3a"
             ],
             [
              0.8888888888888888,
              "#fdca26"
             ],
             [
              1,
              "#f0f921"
             ]
            ],
            "type": "histogram2dcontour"
           }
          ],
          "mesh3d": [
           {
            "colorbar": {
             "outlinewidth": 0,
             "ticks": ""
            },
            "type": "mesh3d"
           }
          ],
          "parcoords": [
           {
            "line": {
             "colorbar": {
              "outlinewidth": 0,
              "ticks": ""
             }
            },
            "type": "parcoords"
           }
          ],
          "pie": [
           {
            "automargin": true,
            "type": "pie"
           }
          ],
          "scatter": [
           {
            "fillpattern": {
             "fillmode": "overlay",
             "size": 10,
             "solidity": 0.2
            },
            "type": "scatter"
           }
          ],
          "scatter3d": [
           {
            "line": {
             "colorbar": {
              "outlinewidth": 0,
              "ticks": ""
             }
            },
            "marker": {
             "colorbar": {
              "outlinewidth": 0,
              "ticks": ""
             }
            },
            "type": "scatter3d"
           }
          ],
          "scattercarpet": [
           {
            "marker": {
             "colorbar": {
              "outlinewidth": 0,
              "ticks": ""
             }
            },
            "type": "scattercarpet"
           }
          ],
          "scattergeo": [
           {
            "marker": {
             "colorbar": {
              "outlinewidth": 0,
              "ticks": ""
             }
            },
            "type": "scattergeo"
           }
          ],
          "scattergl": [
           {
            "marker": {
             "colorbar": {
              "outlinewidth": 0,
              "ticks": ""
             }
            },
            "type": "scattergl"
           }
          ],
          "scattermapbox": [
           {
            "marker": {
             "colorbar": {
              "outlinewidth": 0,
              "ticks": ""
             }
            },
            "type": "scattermapbox"
           }
          ],
          "scatterpolar": [
           {
            "marker": {
             "colorbar": {
              "outlinewidth": 0,
              "ticks": ""
             }
            },
            "type": "scatterpolar"
           }
          ],
          "scatterpolargl": [
           {
            "marker": {
             "colorbar": {
              "outlinewidth": 0,
              "ticks": ""
             }
            },
            "type": "scatterpolargl"
           }
          ],
          "scatterternary": [
           {
            "marker": {
             "colorbar": {
              "outlinewidth": 0,
              "ticks": ""
             }
            },
            "type": "scatterternary"
           }
          ],
          "surface": [
           {
            "colorbar": {
             "outlinewidth": 0,
             "ticks": ""
            },
            "colorscale": [
             [
              0,
              "#0d0887"
             ],
             [
              0.1111111111111111,
              "#46039f"
             ],
             [
              0.2222222222222222,
              "#7201a8"
             ],
             [
              0.3333333333333333,
              "#9c179e"
             ],
             [
              0.4444444444444444,
              "#bd3786"
             ],
             [
              0.5555555555555556,
              "#d8576b"
             ],
             [
              0.6666666666666666,
              "#ed7953"
             ],
             [
              0.7777777777777778,
              "#fb9f3a"
             ],
             [
              0.8888888888888888,
              "#fdca26"
             ],
             [
              1,
              "#f0f921"
             ]
            ],
            "type": "surface"
           }
          ],
          "table": [
           {
            "cells": {
             "fill": {
              "color": "#EBF0F8"
             },
             "line": {
              "color": "white"
             }
            },
            "header": {
             "fill": {
              "color": "#C8D4E3"
             },
             "line": {
              "color": "white"
             }
            },
            "type": "table"
           }
          ]
         },
         "layout": {
          "annotationdefaults": {
           "arrowcolor": "#2a3f5f",
           "arrowhead": 0,
           "arrowwidth": 1
          },
          "autotypenumbers": "strict",
          "coloraxis": {
           "colorbar": {
            "outlinewidth": 0,
            "ticks": ""
           }
          },
          "colorscale": {
           "diverging": [
            [
             0,
             "#8e0152"
            ],
            [
             0.1,
             "#c51b7d"
            ],
            [
             0.2,
             "#de77ae"
            ],
            [
             0.3,
             "#f1b6da"
            ],
            [
             0.4,
             "#fde0ef"
            ],
            [
             0.5,
             "#f7f7f7"
            ],
            [
             0.6,
             "#e6f5d0"
            ],
            [
             0.7,
             "#b8e186"
            ],
            [
             0.8,
             "#7fbc41"
            ],
            [
             0.9,
             "#4d9221"
            ],
            [
             1,
             "#276419"
            ]
           ],
           "sequential": [
            [
             0,
             "#0d0887"
            ],
            [
             0.1111111111111111,
             "#46039f"
            ],
            [
             0.2222222222222222,
             "#7201a8"
            ],
            [
             0.3333333333333333,
             "#9c179e"
            ],
            [
             0.4444444444444444,
             "#bd3786"
            ],
            [
             0.5555555555555556,
             "#d8576b"
            ],
            [
             0.6666666666666666,
             "#ed7953"
            ],
            [
             0.7777777777777778,
             "#fb9f3a"
            ],
            [
             0.8888888888888888,
             "#fdca26"
            ],
            [
             1,
             "#f0f921"
            ]
           ],
           "sequentialminus": [
            [
             0,
             "#0d0887"
            ],
            [
             0.1111111111111111,
             "#46039f"
            ],
            [
             0.2222222222222222,
             "#7201a8"
            ],
            [
             0.3333333333333333,
             "#9c179e"
            ],
            [
             0.4444444444444444,
             "#bd3786"
            ],
            [
             0.5555555555555556,
             "#d8576b"
            ],
            [
             0.6666666666666666,
             "#ed7953"
            ],
            [
             0.7777777777777778,
             "#fb9f3a"
            ],
            [
             0.8888888888888888,
             "#fdca26"
            ],
            [
             1,
             "#f0f921"
            ]
           ]
          },
          "colorway": [
           "#636efa",
           "#EF553B",
           "#00cc96",
           "#ab63fa",
           "#FFA15A",
           "#19d3f3",
           "#FF6692",
           "#B6E880",
           "#FF97FF",
           "#FECB52"
          ],
          "font": {
           "color": "#2a3f5f"
          },
          "geo": {
           "bgcolor": "white",
           "lakecolor": "white",
           "landcolor": "#E5ECF6",
           "showlakes": true,
           "showland": true,
           "subunitcolor": "white"
          },
          "hoverlabel": {
           "align": "left"
          },
          "hovermode": "closest",
          "mapbox": {
           "style": "light"
          },
          "paper_bgcolor": "white",
          "plot_bgcolor": "#E5ECF6",
          "polar": {
           "angularaxis": {
            "gridcolor": "white",
            "linecolor": "white",
            "ticks": ""
           },
           "bgcolor": "#E5ECF6",
           "radialaxis": {
            "gridcolor": "white",
            "linecolor": "white",
            "ticks": ""
           }
          },
          "scene": {
           "xaxis": {
            "backgroundcolor": "#E5ECF6",
            "gridcolor": "white",
            "gridwidth": 2,
            "linecolor": "white",
            "showbackground": true,
            "ticks": "",
            "zerolinecolor": "white"
           },
           "yaxis": {
            "backgroundcolor": "#E5ECF6",
            "gridcolor": "white",
            "gridwidth": 2,
            "linecolor": "white",
            "showbackground": true,
            "ticks": "",
            "zerolinecolor": "white"
           },
           "zaxis": {
            "backgroundcolor": "#E5ECF6",
            "gridcolor": "white",
            "gridwidth": 2,
            "linecolor": "white",
            "showbackground": true,
            "ticks": "",
            "zerolinecolor": "white"
           }
          },
          "shapedefaults": {
           "line": {
            "color": "#2a3f5f"
           }
          },
          "ternary": {
           "aaxis": {
            "gridcolor": "white",
            "linecolor": "white",
            "ticks": ""
           },
           "baxis": {
            "gridcolor": "white",
            "linecolor": "white",
            "ticks": ""
           },
           "bgcolor": "#E5ECF6",
           "caxis": {
            "gridcolor": "white",
            "linecolor": "white",
            "ticks": ""
           }
          },
          "title": {
           "x": 0.05
          },
          "xaxis": {
           "automargin": true,
           "gridcolor": "white",
           "linecolor": "white",
           "ticks": "",
           "title": {
            "standoff": 15
           },
           "zerolinecolor": "white",
           "zerolinewidth": 2
          },
          "yaxis": {
           "automargin": true,
           "gridcolor": "white",
           "linecolor": "white",
           "ticks": "",
           "title": {
            "standoff": 15
           },
           "zerolinecolor": "white",
           "zerolinewidth": 2
          }
         }
        },
        "title": {
         "text": "Cercle des corrélations"
        },
        "xaxis": {
         "anchor": "y",
         "domain": [
          0,
          1
         ],
         "title": {
          "text": "Composante 1"
         }
        },
        "yaxis": {
         "anchor": "x",
         "domain": [
          0,
          1
         ],
         "title": {
          "text": "Composante 2"
         }
        }
       }
      },
      "text/html": [
       "<div>                            <div id=\"3640a0a2-29f3-4c31-b805-296795478915\" class=\"plotly-graph-div\" style=\"height:525px; width:100%;\"></div>            <script type=\"text/javascript\">                require([\"plotly\"], function(Plotly) {                    window.PLOTLYENV=window.PLOTLYENV || {};                                    if (document.getElementById(\"3640a0a2-29f3-4c31-b805-296795478915\")) {                    Plotly.newPlot(                        \"3640a0a2-29f3-4c31-b805-296795478915\",                        [{\"hovertemplate\":\"COR_1=%{x}<br>COR_2=%{y}<br>id=%{text}<extra></extra>\",\"legendgroup\":\"\",\"marker\":{\"color\":\"#636efa\",\"symbol\":\"circle\"},\"mode\":\"markers+text\",\"name\":\"\",\"orientation\":\"v\",\"showlegend\":false,\"text\":[\"Nb_Prixnobel\",\"Nb_Univtop500\",\"Immigrationbycountry_Immigrants\",\"Immigrationbycountry_Emigrants\",\"Area\",\"Population\",\"Education_Spending_2021\",\"Gdp\",\"Averageiqbycountry_Iqlynnbecker2019\",\"Averageiq_Ici2017Score\",\"Gdp_Percapita\",\"Indice_Evolution\"],\"x\":[6.883945507345557,5.010030975483052,821769.7838013445,1244159.2211132296,1006497.4924155911,153835116.8257568,-0.08796351861541005,2003033754573.5044,3.9709470213198563,4.782217592359688,2827.7958413721735,-6.9970615430918635],\"xaxis\":\"x\",\"y\":[-6.165500015504695,-1.5496266940677474,-407519.9867833342,1670322.6145349636,186073.93840602535,136991370.41278297,-0.1496775397987048,-10522.046343772356,-3.5882507403796526,-5.182451263241862,-7225.628330557705,-54.15946405473946],\"yaxis\":\"y\",\"type\":\"scatter\"}],                        {\"template\":{\"data\":{\"histogram2dcontour\":[{\"type\":\"histogram2dcontour\",\"colorbar\":{\"outlinewidth\":0,\"ticks\":\"\"},\"colorscale\":[[0.0,\"#0d0887\"],[0.1111111111111111,\"#46039f\"],[0.2222222222222222,\"#7201a8\"],[0.3333333333333333,\"#9c179e\"],[0.4444444444444444,\"#bd3786\"],[0.5555555555555556,\"#d8576b\"],[0.6666666666666666,\"#ed7953\"],[0.7777777777777778,\"#fb9f3a\"],[0.8888888888888888,\"#fdca26\"],[1.0,\"#f0f921\"]]}],\"choropleth\":[{\"type\":\"choropleth\",\"colorbar\":{\"outlinewidth\":0,\"ticks\":\"\"}}],\"histogram2d\":[{\"type\":\"histogram2d\",\"colorbar\":{\"outlinewidth\":0,\"ticks\":\"\"},\"colorscale\":[[0.0,\"#0d0887\"],[0.1111111111111111,\"#46039f\"],[0.2222222222222222,\"#7201a8\"],[0.3333333333333333,\"#9c179e\"],[0.4444444444444444,\"#bd3786\"],[0.5555555555555556,\"#d8576b\"],[0.6666666666666666,\"#ed7953\"],[0.7777777777777778,\"#fb9f3a\"],[0.8888888888888888,\"#fdca26\"],[1.0,\"#f0f921\"]]}],\"heatmap\":[{\"type\":\"heatmap\",\"colorbar\":{\"outlinewidth\":0,\"ticks\":\"\"},\"colorscale\":[[0.0,\"#0d0887\"],[0.1111111111111111,\"#46039f\"],[0.2222222222222222,\"#7201a8\"],[0.3333333333333333,\"#9c179e\"],[0.4444444444444444,\"#bd3786\"],[0.5555555555555556,\"#d8576b\"],[0.6666666666666666,\"#ed7953\"],[0.7777777777777778,\"#fb9f3a\"],[0.8888888888888888,\"#fdca26\"],[1.0,\"#f0f921\"]]}],\"heatmapgl\":[{\"type\":\"heatmapgl\",\"colorbar\":{\"outlinewidth\":0,\"ticks\":\"\"},\"colorscale\":[[0.0,\"#0d0887\"],[0.1111111111111111,\"#46039f\"],[0.2222222222222222,\"#7201a8\"],[0.3333333333333333,\"#9c179e\"],[0.4444444444444444,\"#bd3786\"],[0.5555555555555556,\"#d8576b\"],[0.6666666666666666,\"#ed7953\"],[0.7777777777777778,\"#fb9f3a\"],[0.8888888888888888,\"#fdca26\"],[1.0,\"#f0f921\"]]}],\"contourcarpet\":[{\"type\":\"contourcarpet\",\"colorbar\":{\"outlinewidth\":0,\"ticks\":\"\"}}],\"contour\":[{\"type\":\"contour\",\"colorbar\":{\"outlinewidth\":0,\"ticks\":\"\"},\"colorscale\":[[0.0,\"#0d0887\"],[0.1111111111111111,\"#46039f\"],[0.2222222222222222,\"#7201a8\"],[0.3333333333333333,\"#9c179e\"],[0.4444444444444444,\"#bd3786\"],[0.5555555555555556,\"#d8576b\"],[0.6666666666666666,\"#ed7953\"],[0.7777777777777778,\"#fb9f3a\"],[0.8888888888888888,\"#fdca26\"],[1.0,\"#f0f921\"]]}],\"surface\":[{\"type\":\"surface\",\"colorbar\":{\"outlinewidth\":0,\"ticks\":\"\"},\"colorscale\":[[0.0,\"#0d0887\"],[0.1111111111111111,\"#46039f\"],[0.2222222222222222,\"#7201a8\"],[0.3333333333333333,\"#9c179e\"],[0.4444444444444444,\"#bd3786\"],[0.5555555555555556,\"#d8576b\"],[0.6666666666666666,\"#ed7953\"],[0.7777777777777778,\"#fb9f3a\"],[0.8888888888888888,\"#fdca26\"],[1.0,\"#f0f921\"]]}],\"mesh3d\":[{\"type\":\"mesh3d\",\"colorbar\":{\"outlinewidth\":0,\"ticks\":\"\"}}],\"scatter\":[{\"fillpattern\":{\"fillmode\":\"overlay\",\"size\":10,\"solidity\":0.2},\"type\":\"scatter\"}],\"parcoords\":[{\"type\":\"parcoords\",\"line\":{\"colorbar\":{\"outlinewidth\":0,\"ticks\":\"\"}}}],\"scatterpolargl\":[{\"type\":\"scatterpolargl\",\"marker\":{\"colorbar\":{\"outlinewidth\":0,\"ticks\":\"\"}}}],\"bar\":[{\"error_x\":{\"color\":\"#2a3f5f\"},\"error_y\":{\"color\":\"#2a3f5f\"},\"marker\":{\"line\":{\"color\":\"#E5ECF6\",\"width\":0.5},\"pattern\":{\"fillmode\":\"overlay\",\"size\":10,\"solidity\":0.2}},\"type\":\"bar\"}],\"scattergeo\":[{\"type\":\"scattergeo\",\"marker\":{\"colorbar\":{\"outlinewidth\":0,\"ticks\":\"\"}}}],\"scatterpolar\":[{\"type\":\"scatterpolar\",\"marker\":{\"colorbar\":{\"outlinewidth\":0,\"ticks\":\"\"}}}],\"histogram\":[{\"marker\":{\"pattern\":{\"fillmode\":\"overlay\",\"size\":10,\"solidity\":0.2}},\"type\":\"histogram\"}],\"scattergl\":[{\"type\":\"scattergl\",\"marker\":{\"colorbar\":{\"outlinewidth\":0,\"ticks\":\"\"}}}],\"scatter3d\":[{\"type\":\"scatter3d\",\"line\":{\"colorbar\":{\"outlinewidth\":0,\"ticks\":\"\"}},\"marker\":{\"colorbar\":{\"outlinewidth\":0,\"ticks\":\"\"}}}],\"scattermapbox\":[{\"type\":\"scattermapbox\",\"marker\":{\"colorbar\":{\"outlinewidth\":0,\"ticks\":\"\"}}}],\"scatterternary\":[{\"type\":\"scatterternary\",\"marker\":{\"colorbar\":{\"outlinewidth\":0,\"ticks\":\"\"}}}],\"scattercarpet\":[{\"type\":\"scattercarpet\",\"marker\":{\"colorbar\":{\"outlinewidth\":0,\"ticks\":\"\"}}}],\"carpet\":[{\"aaxis\":{\"endlinecolor\":\"#2a3f5f\",\"gridcolor\":\"white\",\"linecolor\":\"white\",\"minorgridcolor\":\"white\",\"startlinecolor\":\"#2a3f5f\"},\"baxis\":{\"endlinecolor\":\"#2a3f5f\",\"gridcolor\":\"white\",\"linecolor\":\"white\",\"minorgridcolor\":\"white\",\"startlinecolor\":\"#2a3f5f\"},\"type\":\"carpet\"}],\"table\":[{\"cells\":{\"fill\":{\"color\":\"#EBF0F8\"},\"line\":{\"color\":\"white\"}},\"header\":{\"fill\":{\"color\":\"#C8D4E3\"},\"line\":{\"color\":\"white\"}},\"type\":\"table\"}],\"barpolar\":[{\"marker\":{\"line\":{\"color\":\"#E5ECF6\",\"width\":0.5},\"pattern\":{\"fillmode\":\"overlay\",\"size\":10,\"solidity\":0.2}},\"type\":\"barpolar\"}],\"pie\":[{\"automargin\":true,\"type\":\"pie\"}]},\"layout\":{\"autotypenumbers\":\"strict\",\"colorway\":[\"#636efa\",\"#EF553B\",\"#00cc96\",\"#ab63fa\",\"#FFA15A\",\"#19d3f3\",\"#FF6692\",\"#B6E880\",\"#FF97FF\",\"#FECB52\"],\"font\":{\"color\":\"#2a3f5f\"},\"hovermode\":\"closest\",\"hoverlabel\":{\"align\":\"left\"},\"paper_bgcolor\":\"white\",\"plot_bgcolor\":\"#E5ECF6\",\"polar\":{\"bgcolor\":\"#E5ECF6\",\"angularaxis\":{\"gridcolor\":\"white\",\"linecolor\":\"white\",\"ticks\":\"\"},\"radialaxis\":{\"gridcolor\":\"white\",\"linecolor\":\"white\",\"ticks\":\"\"}},\"ternary\":{\"bgcolor\":\"#E5ECF6\",\"aaxis\":{\"gridcolor\":\"white\",\"linecolor\":\"white\",\"ticks\":\"\"},\"baxis\":{\"gridcolor\":\"white\",\"linecolor\":\"white\",\"ticks\":\"\"},\"caxis\":{\"gridcolor\":\"white\",\"linecolor\":\"white\",\"ticks\":\"\"}},\"coloraxis\":{\"colorbar\":{\"outlinewidth\":0,\"ticks\":\"\"}},\"colorscale\":{\"sequential\":[[0.0,\"#0d0887\"],[0.1111111111111111,\"#46039f\"],[0.2222222222222222,\"#7201a8\"],[0.3333333333333333,\"#9c179e\"],[0.4444444444444444,\"#bd3786\"],[0.5555555555555556,\"#d8576b\"],[0.6666666666666666,\"#ed7953\"],[0.7777777777777778,\"#fb9f3a\"],[0.8888888888888888,\"#fdca26\"],[1.0,\"#f0f921\"]],\"sequentialminus\":[[0.0,\"#0d0887\"],[0.1111111111111111,\"#46039f\"],[0.2222222222222222,\"#7201a8\"],[0.3333333333333333,\"#9c179e\"],[0.4444444444444444,\"#bd3786\"],[0.5555555555555556,\"#d8576b\"],[0.6666666666666666,\"#ed7953\"],[0.7777777777777778,\"#fb9f3a\"],[0.8888888888888888,\"#fdca26\"],[1.0,\"#f0f921\"]],\"diverging\":[[0,\"#8e0152\"],[0.1,\"#c51b7d\"],[0.2,\"#de77ae\"],[0.3,\"#f1b6da\"],[0.4,\"#fde0ef\"],[0.5,\"#f7f7f7\"],[0.6,\"#e6f5d0\"],[0.7,\"#b8e186\"],[0.8,\"#7fbc41\"],[0.9,\"#4d9221\"],[1,\"#276419\"]]},\"xaxis\":{\"gridcolor\":\"white\",\"linecolor\":\"white\",\"ticks\":\"\",\"title\":{\"standoff\":15},\"zerolinecolor\":\"white\",\"automargin\":true,\"zerolinewidth\":2},\"yaxis\":{\"gridcolor\":\"white\",\"linecolor\":\"white\",\"ticks\":\"\",\"title\":{\"standoff\":15},\"zerolinecolor\":\"white\",\"automargin\":true,\"zerolinewidth\":2},\"scene\":{\"xaxis\":{\"backgroundcolor\":\"#E5ECF6\",\"gridcolor\":\"white\",\"linecolor\":\"white\",\"showbackground\":true,\"ticks\":\"\",\"zerolinecolor\":\"white\",\"gridwidth\":2},\"yaxis\":{\"backgroundcolor\":\"#E5ECF6\",\"gridcolor\":\"white\",\"linecolor\":\"white\",\"showbackground\":true,\"ticks\":\"\",\"zerolinecolor\":\"white\",\"gridwidth\":2},\"zaxis\":{\"backgroundcolor\":\"#E5ECF6\",\"gridcolor\":\"white\",\"linecolor\":\"white\",\"showbackground\":true,\"ticks\":\"\",\"zerolinecolor\":\"white\",\"gridwidth\":2}},\"shapedefaults\":{\"line\":{\"color\":\"#2a3f5f\"}},\"annotationdefaults\":{\"arrowcolor\":\"#2a3f5f\",\"arrowhead\":0,\"arrowwidth\":1},\"geo\":{\"bgcolor\":\"white\",\"landcolor\":\"#E5ECF6\",\"subunitcolor\":\"white\",\"showland\":true,\"showlakes\":true,\"lakecolor\":\"white\"},\"title\":{\"x\":0.05},\"mapbox\":{\"style\":\"light\"}}},\"xaxis\":{\"anchor\":\"y\",\"domain\":[0.0,1.0],\"title\":{\"text\":\"Composante 1\"}},\"yaxis\":{\"anchor\":\"x\",\"domain\":[0.0,1.0],\"title\":{\"text\":\"Composante 2\"}},\"legend\":{\"tracegroupgap\":0},\"margin\":{\"t\":60},\"shapes\":[{\"line\":{\"color\":\"RoyalBlue\"},\"type\":\"circle\",\"x0\":-1,\"x1\":1,\"xref\":\"x\",\"y0\":-1,\"y1\":1,\"yref\":\"y\"},{\"line\":{\"color\":\"LightSeaGreen\",\"width\":2},\"type\":\"line\",\"x0\":-1,\"x1\":1,\"xref\":\"x\",\"y0\":0,\"y1\":0,\"yref\":\"y\"},{\"line\":{\"color\":\"LightSeaGreen\",\"width\":2},\"type\":\"line\",\"x0\":0,\"x1\":0,\"xref\":\"x\",\"y0\":-1,\"y1\":1,\"yref\":\"y\"}],\"title\":{\"text\":\"Cercle des corr\\u00e9lations\"}},                        {\"responsive\": true}                    ).then(function(){\n",
       "                            \n",
       "var gd = document.getElementById('3640a0a2-29f3-4c31-b805-296795478915');\n",
       "var x = new MutationObserver(function (mutations, observer) {{\n",
       "        var display = window.getComputedStyle(gd).display;\n",
       "        if (!display || display === 'none') {{\n",
       "            console.log([gd, 'removed!']);\n",
       "            Plotly.purge(gd);\n",
       "            observer.disconnect();\n",
       "        }}\n",
       "}});\n",
       "\n",
       "// Listen for the removal of the full notebook cells\n",
       "var notebookContainer = gd.closest('#notebook-container');\n",
       "if (notebookContainer) {{\n",
       "    x.observe(notebookContainer, {childList: true});\n",
       "}}\n",
       "\n",
       "// Listen for the clearing of the current output cell\n",
       "var outputEl = gd.closest('.output');\n",
       "if (outputEl) {{\n",
       "    x.observe(outputEl, {childList: true});\n",
       "}}\n",
       "\n",
       "                        })                };                });            </script>        </div>"
      ]
     },
     "metadata": {},
     "output_type": "display_data"
    }
   ],
   "source": [
    "fig = px.scatter(coordvar, x='COR_1', y='COR_2', text='id')\n",
    "\n",
    "# Mise en forme du cercle des corrélations\n",
    "fig.update_traces(marker=dict(size=10),\n",
    "                  selector=dict(mode='markers'))\n",
    "\n",
    "# Ajout des lignes représentant les axes\n",
    "fig.add_shape(type='circle',\n",
    "              xref='x', yref='y',\n",
    "              x0=-1, y0=-1, x1=1, y1=1,\n",
    "              line=dict(color='RoyalBlue'))\n",
    "\n",
    "# Ajout des axes x et y\n",
    "fig.add_shape(type='line',\n",
    "              xref='x', yref='y',\n",
    "              x0=-1, y0=0, x1=1, y1=0,\n",
    "              line=dict(color='LightSeaGreen', width=2))\n",
    "fig.add_shape(type='line',\n",
    "              xref='x', yref='y',\n",
    "              x0=0, y0=-1, x1=0, y1=1,\n",
    "              line=dict(color='LightSeaGreen', width=2))\n",
    "\n",
    "# Mise en forme du titre et des axes\n",
    "fig.update_layout(title='Cercle des corrélations',\n",
    "                  xaxis=dict(title='Composante 1'),\n",
    "                  yaxis=dict(title='Composante 2'))\n",
    "\n",
    "# Affichage du cercle des corrélations\n",
    "fig.show()"
   ]
  },
  {
   "cell_type": "code",
   "execution_count": 72,
   "id": "03ec1b62",
   "metadata": {},
   "outputs": [
    {
     "ename": "ValueError",
     "evalue": "Image size of 659128x1669434 pixels is too large. It must be less than 2^16 in each direction.",
     "output_type": "error",
     "traceback": [
      "\u001b[0;31m---------------------------------------------------------------------------\u001b[0m",
      "\u001b[0;31mValueError\u001b[0m                                Traceback (most recent call last)",
      "\u001b[0;32m~/anaconda3/lib/python3.9/site-packages/IPython/core/formatters.py\u001b[0m in \u001b[0;36m__call__\u001b[0;34m(self, obj)\u001b[0m\n\u001b[1;32m    339\u001b[0m                 \u001b[0;32mpass\u001b[0m\u001b[0;34m\u001b[0m\u001b[0;34m\u001b[0m\u001b[0m\n\u001b[1;32m    340\u001b[0m             \u001b[0;32melse\u001b[0m\u001b[0;34m:\u001b[0m\u001b[0;34m\u001b[0m\u001b[0;34m\u001b[0m\u001b[0m\n\u001b[0;32m--> 341\u001b[0;31m                 \u001b[0;32mreturn\u001b[0m \u001b[0mprinter\u001b[0m\u001b[0;34m(\u001b[0m\u001b[0mobj\u001b[0m\u001b[0;34m)\u001b[0m\u001b[0;34m\u001b[0m\u001b[0;34m\u001b[0m\u001b[0m\n\u001b[0m\u001b[1;32m    342\u001b[0m             \u001b[0;31m# Finally look for special method names\u001b[0m\u001b[0;34m\u001b[0m\u001b[0;34m\u001b[0m\u001b[0m\n\u001b[1;32m    343\u001b[0m             \u001b[0mmethod\u001b[0m \u001b[0;34m=\u001b[0m \u001b[0mget_real_method\u001b[0m\u001b[0;34m(\u001b[0m\u001b[0mobj\u001b[0m\u001b[0;34m,\u001b[0m \u001b[0mself\u001b[0m\u001b[0;34m.\u001b[0m\u001b[0mprint_method\u001b[0m\u001b[0;34m)\u001b[0m\u001b[0;34m\u001b[0m\u001b[0;34m\u001b[0m\u001b[0m\n",
      "\u001b[0;32m~/anaconda3/lib/python3.9/site-packages/IPython/core/pylabtools.py\u001b[0m in \u001b[0;36mprint_figure\u001b[0;34m(fig, fmt, bbox_inches, base64, **kwargs)\u001b[0m\n\u001b[1;32m    149\u001b[0m         \u001b[0mFigureCanvasBase\u001b[0m\u001b[0;34m(\u001b[0m\u001b[0mfig\u001b[0m\u001b[0;34m)\u001b[0m\u001b[0;34m\u001b[0m\u001b[0;34m\u001b[0m\u001b[0m\n\u001b[1;32m    150\u001b[0m \u001b[0;34m\u001b[0m\u001b[0m\n\u001b[0;32m--> 151\u001b[0;31m     \u001b[0mfig\u001b[0m\u001b[0;34m.\u001b[0m\u001b[0mcanvas\u001b[0m\u001b[0;34m.\u001b[0m\u001b[0mprint_figure\u001b[0m\u001b[0;34m(\u001b[0m\u001b[0mbytes_io\u001b[0m\u001b[0;34m,\u001b[0m \u001b[0;34m**\u001b[0m\u001b[0mkw\u001b[0m\u001b[0;34m)\u001b[0m\u001b[0;34m\u001b[0m\u001b[0;34m\u001b[0m\u001b[0m\n\u001b[0m\u001b[1;32m    152\u001b[0m     \u001b[0mdata\u001b[0m \u001b[0;34m=\u001b[0m \u001b[0mbytes_io\u001b[0m\u001b[0;34m.\u001b[0m\u001b[0mgetvalue\u001b[0m\u001b[0;34m(\u001b[0m\u001b[0;34m)\u001b[0m\u001b[0;34m\u001b[0m\u001b[0;34m\u001b[0m\u001b[0m\n\u001b[1;32m    153\u001b[0m     \u001b[0;32mif\u001b[0m \u001b[0mfmt\u001b[0m \u001b[0;34m==\u001b[0m \u001b[0;34m'svg'\u001b[0m\u001b[0;34m:\u001b[0m\u001b[0;34m\u001b[0m\u001b[0;34m\u001b[0m\u001b[0m\n",
      "\u001b[0;32m~/anaconda3/lib/python3.9/site-packages/matplotlib/backend_bases.py\u001b[0m in \u001b[0;36mprint_figure\u001b[0;34m(self, filename, dpi, facecolor, edgecolor, orientation, format, bbox_inches, pad_inches, bbox_extra_artists, backend, **kwargs)\u001b[0m\n\u001b[1;32m   2317\u001b[0m                 \u001b[0;31m# force the figure dpi to 72), so we need to set it again here.\u001b[0m\u001b[0;34m\u001b[0m\u001b[0;34m\u001b[0m\u001b[0m\n\u001b[1;32m   2318\u001b[0m                 \u001b[0;32mwith\u001b[0m \u001b[0mcbook\u001b[0m\u001b[0;34m.\u001b[0m\u001b[0m_setattr_cm\u001b[0m\u001b[0;34m(\u001b[0m\u001b[0mself\u001b[0m\u001b[0;34m.\u001b[0m\u001b[0mfigure\u001b[0m\u001b[0;34m,\u001b[0m \u001b[0mdpi\u001b[0m\u001b[0;34m=\u001b[0m\u001b[0mdpi\u001b[0m\u001b[0;34m)\u001b[0m\u001b[0;34m:\u001b[0m\u001b[0;34m\u001b[0m\u001b[0;34m\u001b[0m\u001b[0m\n\u001b[0;32m-> 2319\u001b[0;31m                     result = print_method(\n\u001b[0m\u001b[1;32m   2320\u001b[0m                         \u001b[0mfilename\u001b[0m\u001b[0;34m,\u001b[0m\u001b[0;34m\u001b[0m\u001b[0;34m\u001b[0m\u001b[0m\n\u001b[1;32m   2321\u001b[0m                         \u001b[0mfacecolor\u001b[0m\u001b[0;34m=\u001b[0m\u001b[0mfacecolor\u001b[0m\u001b[0;34m,\u001b[0m\u001b[0;34m\u001b[0m\u001b[0;34m\u001b[0m\u001b[0m\n",
      "\u001b[0;32m~/anaconda3/lib/python3.9/site-packages/matplotlib/backend_bases.py\u001b[0m in \u001b[0;36mwrapper\u001b[0;34m(*args, **kwargs)\u001b[0m\n\u001b[1;32m   1646\u001b[0m             \u001b[0mkwargs\u001b[0m\u001b[0;34m.\u001b[0m\u001b[0mpop\u001b[0m\u001b[0;34m(\u001b[0m\u001b[0marg\u001b[0m\u001b[0;34m)\u001b[0m\u001b[0;34m\u001b[0m\u001b[0;34m\u001b[0m\u001b[0m\n\u001b[1;32m   1647\u001b[0m \u001b[0;34m\u001b[0m\u001b[0m\n\u001b[0;32m-> 1648\u001b[0;31m         \u001b[0;32mreturn\u001b[0m \u001b[0mfunc\u001b[0m\u001b[0;34m(\u001b[0m\u001b[0;34m*\u001b[0m\u001b[0margs\u001b[0m\u001b[0;34m,\u001b[0m \u001b[0;34m**\u001b[0m\u001b[0mkwargs\u001b[0m\u001b[0;34m)\u001b[0m\u001b[0;34m\u001b[0m\u001b[0;34m\u001b[0m\u001b[0m\n\u001b[0m\u001b[1;32m   1649\u001b[0m \u001b[0;34m\u001b[0m\u001b[0m\n\u001b[1;32m   1650\u001b[0m     \u001b[0;32mreturn\u001b[0m \u001b[0mwrapper\u001b[0m\u001b[0;34m\u001b[0m\u001b[0;34m\u001b[0m\u001b[0m\n",
      "\u001b[0;32m~/anaconda3/lib/python3.9/site-packages/matplotlib/_api/deprecation.py\u001b[0m in \u001b[0;36mwrapper\u001b[0;34m(*inner_args, **inner_kwargs)\u001b[0m\n\u001b[1;32m    413\u001b[0m                          \u001b[0;32melse\u001b[0m \u001b[0mdeprecation_addendum\u001b[0m\u001b[0;34m,\u001b[0m\u001b[0;34m\u001b[0m\u001b[0;34m\u001b[0m\u001b[0m\n\u001b[1;32m    414\u001b[0m                 **kwargs)\n\u001b[0;32m--> 415\u001b[0;31m         \u001b[0;32mreturn\u001b[0m \u001b[0mfunc\u001b[0m\u001b[0;34m(\u001b[0m\u001b[0;34m*\u001b[0m\u001b[0minner_args\u001b[0m\u001b[0;34m,\u001b[0m \u001b[0;34m**\u001b[0m\u001b[0minner_kwargs\u001b[0m\u001b[0;34m)\u001b[0m\u001b[0;34m\u001b[0m\u001b[0;34m\u001b[0m\u001b[0m\n\u001b[0m\u001b[1;32m    416\u001b[0m \u001b[0;34m\u001b[0m\u001b[0m\n\u001b[1;32m    417\u001b[0m     \u001b[0mDECORATORS\u001b[0m\u001b[0;34m[\u001b[0m\u001b[0mwrapper\u001b[0m\u001b[0;34m]\u001b[0m \u001b[0;34m=\u001b[0m \u001b[0mdecorator\u001b[0m\u001b[0;34m\u001b[0m\u001b[0;34m\u001b[0m\u001b[0m\n",
      "\u001b[0;32m~/anaconda3/lib/python3.9/site-packages/matplotlib/backends/backend_agg.py\u001b[0m in \u001b[0;36mprint_png\u001b[0;34m(self, filename_or_obj, metadata, pil_kwargs, *args)\u001b[0m\n\u001b[1;32m    538\u001b[0m             \u001b[0;34m*\u001b[0m\u001b[0mmetadata\u001b[0m\u001b[0;34m*\u001b[0m\u001b[0;34m,\u001b[0m \u001b[0mincluding\u001b[0m \u001b[0mthe\u001b[0m \u001b[0mdefault\u001b[0m \u001b[0;34m'Software'\u001b[0m \u001b[0mkey\u001b[0m\u001b[0;34m.\u001b[0m\u001b[0;34m\u001b[0m\u001b[0;34m\u001b[0m\u001b[0m\n\u001b[1;32m    539\u001b[0m         \"\"\"\n\u001b[0;32m--> 540\u001b[0;31m         \u001b[0mFigureCanvasAgg\u001b[0m\u001b[0;34m.\u001b[0m\u001b[0mdraw\u001b[0m\u001b[0;34m(\u001b[0m\u001b[0mself\u001b[0m\u001b[0;34m)\u001b[0m\u001b[0;34m\u001b[0m\u001b[0;34m\u001b[0m\u001b[0m\n\u001b[0m\u001b[1;32m    541\u001b[0m         mpl.image.imsave(\n\u001b[1;32m    542\u001b[0m             \u001b[0mfilename_or_obj\u001b[0m\u001b[0;34m,\u001b[0m \u001b[0mself\u001b[0m\u001b[0;34m.\u001b[0m\u001b[0mbuffer_rgba\u001b[0m\u001b[0;34m(\u001b[0m\u001b[0;34m)\u001b[0m\u001b[0;34m,\u001b[0m \u001b[0mformat\u001b[0m\u001b[0;34m=\u001b[0m\u001b[0;34m\"png\"\u001b[0m\u001b[0;34m,\u001b[0m \u001b[0morigin\u001b[0m\u001b[0;34m=\u001b[0m\u001b[0;34m\"upper\"\u001b[0m\u001b[0;34m,\u001b[0m\u001b[0;34m\u001b[0m\u001b[0;34m\u001b[0m\u001b[0m\n",
      "\u001b[0;32m~/anaconda3/lib/python3.9/site-packages/matplotlib/backends/backend_agg.py\u001b[0m in \u001b[0;36mdraw\u001b[0;34m(self)\u001b[0m\n\u001b[1;32m    429\u001b[0m     \u001b[0;32mdef\u001b[0m \u001b[0mdraw\u001b[0m\u001b[0;34m(\u001b[0m\u001b[0mself\u001b[0m\u001b[0;34m)\u001b[0m\u001b[0;34m:\u001b[0m\u001b[0;34m\u001b[0m\u001b[0;34m\u001b[0m\u001b[0m\n\u001b[1;32m    430\u001b[0m         \u001b[0;31m# docstring inherited\u001b[0m\u001b[0;34m\u001b[0m\u001b[0;34m\u001b[0m\u001b[0m\n\u001b[0;32m--> 431\u001b[0;31m         \u001b[0mself\u001b[0m\u001b[0;34m.\u001b[0m\u001b[0mrenderer\u001b[0m \u001b[0;34m=\u001b[0m \u001b[0mself\u001b[0m\u001b[0;34m.\u001b[0m\u001b[0mget_renderer\u001b[0m\u001b[0;34m(\u001b[0m\u001b[0mcleared\u001b[0m\u001b[0;34m=\u001b[0m\u001b[0;32mTrue\u001b[0m\u001b[0;34m)\u001b[0m\u001b[0;34m\u001b[0m\u001b[0;34m\u001b[0m\u001b[0m\n\u001b[0m\u001b[1;32m    432\u001b[0m         \u001b[0;31m# Acquire a lock on the shared font cache.\u001b[0m\u001b[0;34m\u001b[0m\u001b[0;34m\u001b[0m\u001b[0m\n\u001b[1;32m    433\u001b[0m         \u001b[0;32mwith\u001b[0m \u001b[0mRendererAgg\u001b[0m\u001b[0;34m.\u001b[0m\u001b[0mlock\u001b[0m\u001b[0;34m,\u001b[0m\u001b[0;31m \u001b[0m\u001b[0;31m\\\u001b[0m\u001b[0;34m\u001b[0m\u001b[0;34m\u001b[0m\u001b[0m\n",
      "\u001b[0;32m~/anaconda3/lib/python3.9/site-packages/matplotlib/backends/backend_agg.py\u001b[0m in \u001b[0;36mget_renderer\u001b[0;34m(self, cleared)\u001b[0m\n\u001b[1;32m    445\u001b[0m                           and getattr(self, \"_lastKey\", None) == key)\n\u001b[1;32m    446\u001b[0m         \u001b[0;32mif\u001b[0m \u001b[0;32mnot\u001b[0m \u001b[0mreuse_renderer\u001b[0m\u001b[0;34m:\u001b[0m\u001b[0;34m\u001b[0m\u001b[0;34m\u001b[0m\u001b[0m\n\u001b[0;32m--> 447\u001b[0;31m             \u001b[0mself\u001b[0m\u001b[0;34m.\u001b[0m\u001b[0mrenderer\u001b[0m \u001b[0;34m=\u001b[0m \u001b[0mRendererAgg\u001b[0m\u001b[0;34m(\u001b[0m\u001b[0mw\u001b[0m\u001b[0;34m,\u001b[0m \u001b[0mh\u001b[0m\u001b[0;34m,\u001b[0m \u001b[0mself\u001b[0m\u001b[0;34m.\u001b[0m\u001b[0mfigure\u001b[0m\u001b[0;34m.\u001b[0m\u001b[0mdpi\u001b[0m\u001b[0;34m)\u001b[0m\u001b[0;34m\u001b[0m\u001b[0;34m\u001b[0m\u001b[0m\n\u001b[0m\u001b[1;32m    448\u001b[0m             \u001b[0mself\u001b[0m\u001b[0;34m.\u001b[0m\u001b[0m_lastKey\u001b[0m \u001b[0;34m=\u001b[0m \u001b[0mkey\u001b[0m\u001b[0;34m\u001b[0m\u001b[0;34m\u001b[0m\u001b[0m\n\u001b[1;32m    449\u001b[0m         \u001b[0;32melif\u001b[0m \u001b[0mcleared\u001b[0m\u001b[0;34m:\u001b[0m\u001b[0;34m\u001b[0m\u001b[0;34m\u001b[0m\u001b[0m\n",
      "\u001b[0;32m~/anaconda3/lib/python3.9/site-packages/matplotlib/backends/backend_agg.py\u001b[0m in \u001b[0;36m__init__\u001b[0;34m(self, width, height, dpi)\u001b[0m\n\u001b[1;32m     91\u001b[0m         \u001b[0mself\u001b[0m\u001b[0;34m.\u001b[0m\u001b[0mwidth\u001b[0m \u001b[0;34m=\u001b[0m \u001b[0mwidth\u001b[0m\u001b[0;34m\u001b[0m\u001b[0;34m\u001b[0m\u001b[0m\n\u001b[1;32m     92\u001b[0m         \u001b[0mself\u001b[0m\u001b[0;34m.\u001b[0m\u001b[0mheight\u001b[0m \u001b[0;34m=\u001b[0m \u001b[0mheight\u001b[0m\u001b[0;34m\u001b[0m\u001b[0;34m\u001b[0m\u001b[0m\n\u001b[0;32m---> 93\u001b[0;31m         \u001b[0mself\u001b[0m\u001b[0;34m.\u001b[0m\u001b[0m_renderer\u001b[0m \u001b[0;34m=\u001b[0m \u001b[0m_RendererAgg\u001b[0m\u001b[0;34m(\u001b[0m\u001b[0mint\u001b[0m\u001b[0;34m(\u001b[0m\u001b[0mwidth\u001b[0m\u001b[0;34m)\u001b[0m\u001b[0;34m,\u001b[0m \u001b[0mint\u001b[0m\u001b[0;34m(\u001b[0m\u001b[0mheight\u001b[0m\u001b[0;34m)\u001b[0m\u001b[0;34m,\u001b[0m \u001b[0mdpi\u001b[0m\u001b[0;34m)\u001b[0m\u001b[0;34m\u001b[0m\u001b[0;34m\u001b[0m\u001b[0m\n\u001b[0m\u001b[1;32m     94\u001b[0m         \u001b[0mself\u001b[0m\u001b[0;34m.\u001b[0m\u001b[0m_filter_renderers\u001b[0m \u001b[0;34m=\u001b[0m \u001b[0;34m[\u001b[0m\u001b[0;34m]\u001b[0m\u001b[0;34m\u001b[0m\u001b[0;34m\u001b[0m\u001b[0m\n\u001b[1;32m     95\u001b[0m \u001b[0;34m\u001b[0m\u001b[0m\n",
      "\u001b[0;31mValueError\u001b[0m: Image size of 659128x1669434 pixels is too large. It must be less than 2^16 in each direction."
     ]
    },
    {
     "data": {
      "text/plain": [
       "<Figure size 600x600 with 1 Axes>"
      ]
     },
     "metadata": {},
     "output_type": "display_data"
    }
   ],
   "source": [
    "fig, axes = plt.subplots(figsize=(6,6))\n",
    "fig.suptitle(\"Cercle des corrélations\")\n",
    "axes.set_xlim(-1, 1)\n",
    "axes.set_ylim(-1, 1)\n",
    "# Ajout des axes\n",
    "axes.axvline(x = 0, color = 'lightgray', linestyle = '--', linewidth = 1)\n",
    "axes.axhline(y = 0, color = 'lightgray', linestyle = '--', linewidth = 1)\n",
    "# Ajout des noms des variables\n",
    "\n",
    "for j in range(10,p):\n",
    "    axes.text(coordvar[\"COR_1\"][j],coordvar[\"COR_2\"][j], coordvar[\"id\"][j][:2])\n",
    "\n",
    "# Ajout du cercle\n",
    "plt.gca().add_artist(plt.Circle((0,0),1,color='blue',fill=False))\n",
    "\n",
    "plt.show()\n"
   ]
  },
  {
   "cell_type": "code",
   "execution_count": null,
   "id": "5ef77ba9",
   "metadata": {},
   "outputs": [],
   "source": []
  }
 ],
 "metadata": {
  "kernelspec": {
   "display_name": "Python 3 (ipykernel)",
   "language": "python",
   "name": "python3"
  },
  "language_info": {
   "codemirror_mode": {
    "name": "ipython",
    "version": 3
   },
   "file_extension": ".py",
   "mimetype": "text/x-python",
   "name": "python",
   "nbconvert_exporter": "python",
   "pygments_lexer": "ipython3",
   "version": "3.9.13"
  }
 },
 "nbformat": 4,
 "nbformat_minor": 5
}
