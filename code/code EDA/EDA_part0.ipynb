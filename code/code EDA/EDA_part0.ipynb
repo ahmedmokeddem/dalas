{
 "cells": [
  {
   "cell_type": "code",
   "execution_count": 16,
   "metadata": {},
   "outputs": [],
   "source": [
    "import pandas as pd\n",
    "import numpy as np\n",
    "import plotly.express as px\n",
    "import plotly.graph_objects as go\n",
    "from sklearn.preprocessing import StandardScaler"
   ]
  },
  {
   "cell_type": "code",
   "execution_count": 51,
   "metadata": {},
   "outputs": [
    {
     "data": {
      "text/html": [
       "<div>\n",
       "<style scoped>\n",
       "    .dataframe tbody tr th:only-of-type {\n",
       "        vertical-align: middle;\n",
       "    }\n",
       "\n",
       "    .dataframe tbody tr th {\n",
       "        vertical-align: top;\n",
       "    }\n",
       "\n",
       "    .dataframe thead th {\n",
       "        text-align: right;\n",
       "    }\n",
       "</style>\n",
       "<table border=\"1\" class=\"dataframe\">\n",
       "  <thead>\n",
       "    <tr style=\"text-align: right;\">\n",
       "      <th></th>\n",
       "      <th>Country</th>\n",
       "      <th>Notes_Musees</th>\n",
       "      <th>Nbvotes_Musees_Clean</th>\n",
       "      <th>Nb_Prixnobel</th>\n",
       "      <th>Annee_Souverainete</th>\n",
       "      <th>Nb_Univtop500</th>\n",
       "      <th>Mean_Rank_Univ</th>\n",
       "      <th>Political_Regime</th>\n",
       "      <th>Immigrationbycountry_Immigrants</th>\n",
       "      <th>Immigrationbycountry_Emigrants</th>\n",
       "      <th>...</th>\n",
       "      <th>Averageiqbycountry_Iqlynnbecker2019</th>\n",
       "      <th>Averageiqbycountry_Sourcelynnbecker2019</th>\n",
       "      <th>Averageiq_Ici2017Grade</th>\n",
       "      <th>Averageiq_Ici2017Score</th>\n",
       "      <th>Averageiqpisa2022Meanscoremathematics</th>\n",
       "      <th>Averageiqpisa2022Meanscorereading</th>\n",
       "      <th>Averageiqpisa2022Meanscorescience</th>\n",
       "      <th>Gdp_Percapita</th>\n",
       "      <th>Indice_Evolution</th>\n",
       "      <th>Nb_Foreign_Students</th>\n",
       "    </tr>\n",
       "  </thead>\n",
       "  <tbody>\n",
       "    <tr>\n",
       "      <th>0</th>\n",
       "      <td>Afghanistan</td>\n",
       "      <td>4.500000</td>\n",
       "      <td>574.000000</td>\n",
       "      <td>0.0</td>\n",
       "      <td>1919.0</td>\n",
       "      <td>0.0</td>\n",
       "      <td>NaN</td>\n",
       "      <td>1.0</td>\n",
       "      <td>144098.0</td>\n",
       "      <td>5853838.0</td>\n",
       "      <td>...</td>\n",
       "      <td>82.12</td>\n",
       "      <td>E</td>\n",
       "      <td>NaN</td>\n",
       "      <td>NaN</td>\n",
       "      <td>368.0</td>\n",
       "      <td>358.0</td>\n",
       "      <td>376.0</td>\n",
       "      <td>346.873954</td>\n",
       "      <td>3.303561</td>\n",
       "      <td>NaN</td>\n",
       "    </tr>\n",
       "    <tr>\n",
       "      <th>1</th>\n",
       "      <td>Albania</td>\n",
       "      <td>4.530769</td>\n",
       "      <td>659.500000</td>\n",
       "      <td>0.0</td>\n",
       "      <td>1912.0</td>\n",
       "      <td>0.0</td>\n",
       "      <td>NaN</td>\n",
       "      <td>1.0</td>\n",
       "      <td>48810.0</td>\n",
       "      <td>1250451.0</td>\n",
       "      <td>...</td>\n",
       "      <td>81.75</td>\n",
       "      <td>E</td>\n",
       "      <td>D+</td>\n",
       "      <td>23.4</td>\n",
       "      <td>NaN</td>\n",
       "      <td>NaN</td>\n",
       "      <td>NaN</td>\n",
       "      <td>6455.209751</td>\n",
       "      <td>57.635801</td>\n",
       "      <td>NaN</td>\n",
       "    </tr>\n",
       "    <tr>\n",
       "      <th>2</th>\n",
       "      <td>Algeria</td>\n",
       "      <td>4.350000</td>\n",
       "      <td>184.000000</td>\n",
       "      <td>2.0</td>\n",
       "      <td>1962.0</td>\n",
       "      <td>0.0</td>\n",
       "      <td>NaN</td>\n",
       "      <td>1.0</td>\n",
       "      <td>250378.0</td>\n",
       "      <td>2022337.0</td>\n",
       "      <td>...</td>\n",
       "      <td>76.00</td>\n",
       "      <td>E</td>\n",
       "      <td>D</td>\n",
       "      <td>19.1</td>\n",
       "      <td>378.0</td>\n",
       "      <td>401.0</td>\n",
       "      <td>406.0</td>\n",
       "      <td>3640.548936</td>\n",
       "      <td>58.718531</td>\n",
       "      <td>NaN</td>\n",
       "    </tr>\n",
       "    <tr>\n",
       "      <th>3</th>\n",
       "      <td>Andorra</td>\n",
       "      <td>4.504762</td>\n",
       "      <td>201.476190</td>\n",
       "      <td>0.0</td>\n",
       "      <td>NaN</td>\n",
       "      <td>0.0</td>\n",
       "      <td>NaN</td>\n",
       "      <td>NaN</td>\n",
       "      <td>45574.0</td>\n",
       "      <td>11132.0</td>\n",
       "      <td>...</td>\n",
       "      <td>95.20</td>\n",
       "      <td>E</td>\n",
       "      <td>NaN</td>\n",
       "      <td>NaN</td>\n",
       "      <td>NaN</td>\n",
       "      <td>NaN</td>\n",
       "      <td>NaN</td>\n",
       "      <td>41655.939232</td>\n",
       "      <td>NaN</td>\n",
       "      <td>NaN</td>\n",
       "    </tr>\n",
       "    <tr>\n",
       "      <th>4</th>\n",
       "      <td>Angola</td>\n",
       "      <td>4.205263</td>\n",
       "      <td>98.947368</td>\n",
       "      <td>0.0</td>\n",
       "      <td>1975.0</td>\n",
       "      <td>0.0</td>\n",
       "      <td>NaN</td>\n",
       "      <td>1.0</td>\n",
       "      <td>656434.0</td>\n",
       "      <td>668066.0</td>\n",
       "      <td>...</td>\n",
       "      <td>75.10</td>\n",
       "      <td>T</td>\n",
       "      <td>NaN</td>\n",
       "      <td>NaN</td>\n",
       "      <td>487.0</td>\n",
       "      <td>498.0</td>\n",
       "      <td>507.0</td>\n",
       "      <td>1868.699719</td>\n",
       "      <td>38.136729</td>\n",
       "      <td>NaN</td>\n",
       "    </tr>\n",
       "    <tr>\n",
       "      <th>...</th>\n",
       "      <td>...</td>\n",
       "      <td>...</td>\n",
       "      <td>...</td>\n",
       "      <td>...</td>\n",
       "      <td>...</td>\n",
       "      <td>...</td>\n",
       "      <td>...</td>\n",
       "      <td>...</td>\n",
       "      <td>...</td>\n",
       "      <td>...</td>\n",
       "      <td>...</td>\n",
       "      <td>...</td>\n",
       "      <td>...</td>\n",
       "      <td>...</td>\n",
       "      <td>...</td>\n",
       "      <td>...</td>\n",
       "      <td>...</td>\n",
       "      <td>...</td>\n",
       "      <td>...</td>\n",
       "      <td>...</td>\n",
       "      <td>...</td>\n",
       "    </tr>\n",
       "    <tr>\n",
       "      <th>192</th>\n",
       "      <td>Venezuela</td>\n",
       "      <td>4.340741</td>\n",
       "      <td>372.740741</td>\n",
       "      <td>1.0</td>\n",
       "      <td>1811.0</td>\n",
       "      <td>0.0</td>\n",
       "      <td>NaN</td>\n",
       "      <td>1.0</td>\n",
       "      <td>1324193.0</td>\n",
       "      <td>5415337.0</td>\n",
       "      <td>...</td>\n",
       "      <td>82.99</td>\n",
       "      <td>T</td>\n",
       "      <td>C-</td>\n",
       "      <td>26.8</td>\n",
       "      <td>NaN</td>\n",
       "      <td>NaN</td>\n",
       "      <td>NaN</td>\n",
       "      <td>17043.477492</td>\n",
       "      <td>80.016326</td>\n",
       "      <td>NaN</td>\n",
       "    </tr>\n",
       "    <tr>\n",
       "      <th>193</th>\n",
       "      <td>Vietnam</td>\n",
       "      <td>0.000000</td>\n",
       "      <td>0.000000</td>\n",
       "      <td>1.0</td>\n",
       "      <td>1945.0</td>\n",
       "      <td>0.0</td>\n",
       "      <td>NaN</td>\n",
       "      <td>0.0</td>\n",
       "      <td>76767.0</td>\n",
       "      <td>3392025.0</td>\n",
       "      <td>...</td>\n",
       "      <td>89.53</td>\n",
       "      <td>T</td>\n",
       "      <td>C-</td>\n",
       "      <td>25.1</td>\n",
       "      <td>NaN</td>\n",
       "      <td>NaN</td>\n",
       "      <td>NaN</td>\n",
       "      <td>3728.987606</td>\n",
       "      <td>47.202375</td>\n",
       "      <td>NaN</td>\n",
       "    </tr>\n",
       "    <tr>\n",
       "      <th>194</th>\n",
       "      <td>Yemen</td>\n",
       "      <td>4.280000</td>\n",
       "      <td>48.250000</td>\n",
       "      <td>1.0</td>\n",
       "      <td>1990.0</td>\n",
       "      <td>0.0</td>\n",
       "      <td>NaN</td>\n",
       "      <td>0.0</td>\n",
       "      <td>387113.0</td>\n",
       "      <td>1301166.0</td>\n",
       "      <td>...</td>\n",
       "      <td>62.86</td>\n",
       "      <td>T</td>\n",
       "      <td>NaN</td>\n",
       "      <td>NaN</td>\n",
       "      <td>NaN</td>\n",
       "      <td>NaN</td>\n",
       "      <td>NaN</td>\n",
       "      <td>641.196791</td>\n",
       "      <td>18.858729</td>\n",
       "      <td>NaN</td>\n",
       "    </tr>\n",
       "    <tr>\n",
       "      <th>195</th>\n",
       "      <td>Zambia</td>\n",
       "      <td>3.975000</td>\n",
       "      <td>288.250000</td>\n",
       "      <td>0.0</td>\n",
       "      <td>1964.0</td>\n",
       "      <td>0.0</td>\n",
       "      <td>NaN</td>\n",
       "      <td>1.0</td>\n",
       "      <td>187955.0</td>\n",
       "      <td>200700.0</td>\n",
       "      <td>...</td>\n",
       "      <td>68.43</td>\n",
       "      <td>E</td>\n",
       "      <td>D</td>\n",
       "      <td>18.9</td>\n",
       "      <td>NaN</td>\n",
       "      <td>NaN</td>\n",
       "      <td>NaN</td>\n",
       "      <td>1103.845323</td>\n",
       "      <td>18.397422</td>\n",
       "      <td>NaN</td>\n",
       "    </tr>\n",
       "    <tr>\n",
       "      <th>196</th>\n",
       "      <td>Zimbabwe</td>\n",
       "      <td>3.847059</td>\n",
       "      <td>161.176471</td>\n",
       "      <td>0.0</td>\n",
       "      <td>1965.0</td>\n",
       "      <td>0.0</td>\n",
       "      <td>NaN</td>\n",
       "      <td>1.0</td>\n",
       "      <td>416141.0</td>\n",
       "      <td>1243314.0</td>\n",
       "      <td>...</td>\n",
       "      <td>74.01</td>\n",
       "      <td>T</td>\n",
       "      <td>D-</td>\n",
       "      <td>11.7</td>\n",
       "      <td>NaN</td>\n",
       "      <td>NaN</td>\n",
       "      <td>NaN</td>\n",
       "      <td>1738.376542</td>\n",
       "      <td>29.464009</td>\n",
       "      <td>NaN</td>\n",
       "    </tr>\n",
       "  </tbody>\n",
       "</table>\n",
       "<p>197 rows × 36 columns</p>\n",
       "</div>"
      ],
      "text/plain": [
       "         Country  Notes_Musees  Nbvotes_Musees_Clean  Nb_Prixnobel  \\\n",
       "0    Afghanistan      4.500000            574.000000           0.0   \n",
       "1        Albania      4.530769            659.500000           0.0   \n",
       "2        Algeria      4.350000            184.000000           2.0   \n",
       "3        Andorra      4.504762            201.476190           0.0   \n",
       "4         Angola      4.205263             98.947368           0.0   \n",
       "..           ...           ...                   ...           ...   \n",
       "192    Venezuela      4.340741            372.740741           1.0   \n",
       "193      Vietnam      0.000000              0.000000           1.0   \n",
       "194        Yemen      4.280000             48.250000           1.0   \n",
       "195       Zambia      3.975000            288.250000           0.0   \n",
       "196     Zimbabwe      3.847059            161.176471           0.0   \n",
       "\n",
       "     Annee_Souverainete  Nb_Univtop500  Mean_Rank_Univ  Political_Regime  \\\n",
       "0                1919.0            0.0             NaN               1.0   \n",
       "1                1912.0            0.0             NaN               1.0   \n",
       "2                1962.0            0.0             NaN               1.0   \n",
       "3                   NaN            0.0             NaN               NaN   \n",
       "4                1975.0            0.0             NaN               1.0   \n",
       "..                  ...            ...             ...               ...   \n",
       "192              1811.0            0.0             NaN               1.0   \n",
       "193              1945.0            0.0             NaN               0.0   \n",
       "194              1990.0            0.0             NaN               0.0   \n",
       "195              1964.0            0.0             NaN               1.0   \n",
       "196              1965.0            0.0             NaN               1.0   \n",
       "\n",
       "     Immigrationbycountry_Immigrants  Immigrationbycountry_Emigrants  ...  \\\n",
       "0                           144098.0                       5853838.0  ...   \n",
       "1                            48810.0                       1250451.0  ...   \n",
       "2                           250378.0                       2022337.0  ...   \n",
       "3                            45574.0                         11132.0  ...   \n",
       "4                           656434.0                        668066.0  ...   \n",
       "..                               ...                             ...  ...   \n",
       "192                        1324193.0                       5415337.0  ...   \n",
       "193                          76767.0                       3392025.0  ...   \n",
       "194                         387113.0                       1301166.0  ...   \n",
       "195                         187955.0                        200700.0  ...   \n",
       "196                         416141.0                       1243314.0  ...   \n",
       "\n",
       "     Averageiqbycountry_Iqlynnbecker2019  \\\n",
       "0                                  82.12   \n",
       "1                                  81.75   \n",
       "2                                  76.00   \n",
       "3                                  95.20   \n",
       "4                                  75.10   \n",
       "..                                   ...   \n",
       "192                                82.99   \n",
       "193                                89.53   \n",
       "194                                62.86   \n",
       "195                                68.43   \n",
       "196                                74.01   \n",
       "\n",
       "     Averageiqbycountry_Sourcelynnbecker2019  Averageiq_Ici2017Grade  \\\n",
       "0                                          E                     NaN   \n",
       "1                                          E                      D+   \n",
       "2                                          E                       D   \n",
       "3                                          E                     NaN   \n",
       "4                                          T                     NaN   \n",
       "..                                       ...                     ...   \n",
       "192                                        T                      C-   \n",
       "193                                        T                      C-   \n",
       "194                                        T                     NaN   \n",
       "195                                        E                       D   \n",
       "196                                        T                      D-   \n",
       "\n",
       "     Averageiq_Ici2017Score  Averageiqpisa2022Meanscoremathematics  \\\n",
       "0                       NaN                                  368.0   \n",
       "1                      23.4                                    NaN   \n",
       "2                      19.1                                  378.0   \n",
       "3                       NaN                                    NaN   \n",
       "4                       NaN                                  487.0   \n",
       "..                      ...                                    ...   \n",
       "192                    26.8                                    NaN   \n",
       "193                    25.1                                    NaN   \n",
       "194                     NaN                                    NaN   \n",
       "195                    18.9                                    NaN   \n",
       "196                    11.7                                    NaN   \n",
       "\n",
       "     Averageiqpisa2022Meanscorereading  Averageiqpisa2022Meanscorescience  \\\n",
       "0                                358.0                              376.0   \n",
       "1                                  NaN                                NaN   \n",
       "2                                401.0                              406.0   \n",
       "3                                  NaN                                NaN   \n",
       "4                                498.0                              507.0   \n",
       "..                                 ...                                ...   \n",
       "192                                NaN                                NaN   \n",
       "193                                NaN                                NaN   \n",
       "194                                NaN                                NaN   \n",
       "195                                NaN                                NaN   \n",
       "196                                NaN                                NaN   \n",
       "\n",
       "     Gdp_Percapita  Indice_Evolution  Nb_Foreign_Students  \n",
       "0       346.873954          3.303561                  NaN  \n",
       "1      6455.209751         57.635801                  NaN  \n",
       "2      3640.548936         58.718531                  NaN  \n",
       "3     41655.939232               NaN                  NaN  \n",
       "4      1868.699719         38.136729                  NaN  \n",
       "..             ...               ...                  ...  \n",
       "192   17043.477492         80.016326                  NaN  \n",
       "193    3728.987606         47.202375                  NaN  \n",
       "194     641.196791         18.858729                  NaN  \n",
       "195    1103.845323         18.397422                  NaN  \n",
       "196    1738.376542         29.464009                  NaN  \n",
       "\n",
       "[197 rows x 36 columns]"
      ]
     },
     "execution_count": 51,
     "metadata": {},
     "output_type": "execute_result"
    }
   ],
   "source": [
    "df=pd.read_csv(\"../../datasets_merged/df_mergedFinal.csv\")\n",
    "df"
   ]
  },
  {
   "cell_type": "markdown",
   "metadata": {},
   "source": [
    "## Analyse préliminaire"
   ]
  },
  {
   "cell_type": "code",
   "execution_count": 41,
   "metadata": {},
   "outputs": [
    {
     "data": {
      "text/html": [
       "<div>\n",
       "<style scoped>\n",
       "    .dataframe tbody tr th:only-of-type {\n",
       "        vertical-align: middle;\n",
       "    }\n",
       "\n",
       "    .dataframe tbody tr th {\n",
       "        vertical-align: top;\n",
       "    }\n",
       "\n",
       "    .dataframe thead th {\n",
       "        text-align: right;\n",
       "    }\n",
       "</style>\n",
       "<table border=\"1\" class=\"dataframe\">\n",
       "  <thead>\n",
       "    <tr style=\"text-align: right;\">\n",
       "      <th></th>\n",
       "      <th>Notes_Musees</th>\n",
       "      <th>Nbvotes_Musees_Clean</th>\n",
       "      <th>Nb_Prixnobel</th>\n",
       "      <th>Annee_Souverainete</th>\n",
       "      <th>Nb_Univtop500</th>\n",
       "      <th>Immigrationbycountry_Immigrants</th>\n",
       "      <th>Immigrationbycountry_Emigrants</th>\n",
       "      <th>Primary</th>\n",
       "      <th>Lower_Secondary</th>\n",
       "      <th>End_Of_The_School_Year_Break</th>\n",
       "      <th>...</th>\n",
       "      <th>Global_rank_Literacy_rate</th>\n",
       "      <th>Area</th>\n",
       "      <th>Nb_graduates</th>\n",
       "      <th>Population</th>\n",
       "      <th>Education_Spending_2021</th>\n",
       "      <th>Gdp</th>\n",
       "      <th>Averageiqbycountry_Iqlynnbecker2019</th>\n",
       "      <th>Gdp_Percapita</th>\n",
       "      <th>Indice_Evolution</th>\n",
       "      <th>Nb_Foreign_Students</th>\n",
       "    </tr>\n",
       "  </thead>\n",
       "  <tbody>\n",
       "    <tr>\n",
       "      <th>count</th>\n",
       "      <td>197.000000</td>\n",
       "      <td>197.000000</td>\n",
       "      <td>197.000000</td>\n",
       "      <td>164.000000</td>\n",
       "      <td>197.000000</td>\n",
       "      <td>1.920000e+02</td>\n",
       "      <td>1.920000e+02</td>\n",
       "      <td>38.000000</td>\n",
       "      <td>38.000000</td>\n",
       "      <td>33.000000</td>\n",
       "      <td>...</td>\n",
       "      <td>38.000000</td>\n",
       "      <td>1.900000e+02</td>\n",
       "      <td>2.900000e+01</td>\n",
       "      <td>1.920000e+02</td>\n",
       "      <td>138.000000</td>\n",
       "      <td>1.970000e+02</td>\n",
       "      <td>197.000000</td>\n",
       "      <td>191.000000</td>\n",
       "      <td>162.000000</td>\n",
       "      <td>36.000000</td>\n",
       "    </tr>\n",
       "    <tr>\n",
       "      <th>mean</th>\n",
       "      <td>4.106121</td>\n",
       "      <td>2621.576903</td>\n",
       "      <td>6.081218</td>\n",
       "      <td>1887.554878</td>\n",
       "      <td>2.522843</td>\n",
       "      <td>1.452172e+06</td>\n",
       "      <td>1.388475e+06</td>\n",
       "      <td>4400.263158</td>\n",
       "      <td>3081.381579</td>\n",
       "      <td>9.148485</td>\n",
       "      <td>...</td>\n",
       "      <td>19.947368</td>\n",
       "      <td>7.117873e+05</td>\n",
       "      <td>3.079957e+05</td>\n",
       "      <td>4.104085e+07</td>\n",
       "      <td>4.463913</td>\n",
       "      <td>4.893201e+11</td>\n",
       "      <td>82.030964</td>\n",
       "      <td>17948.527882</td>\n",
       "      <td>183.924201</td>\n",
       "      <td>9.866333</td>\n",
       "    </tr>\n",
       "    <tr>\n",
       "      <th>std</th>\n",
       "      <td>1.075007</td>\n",
       "      <td>5892.872012</td>\n",
       "      <td>32.515044</td>\n",
       "      <td>193.145174</td>\n",
       "      <td>8.130049</td>\n",
       "      <td>4.263757e+06</td>\n",
       "      <td>2.259164e+06</td>\n",
       "      <td>1375.457087</td>\n",
       "      <td>753.241961</td>\n",
       "      <td>2.258888</td>\n",
       "      <td>...</td>\n",
       "      <td>11.550003</td>\n",
       "      <td>1.930646e+06</td>\n",
       "      <td>5.106048e+05</td>\n",
       "      <td>1.494011e+08</td>\n",
       "      <td>1.808795</td>\n",
       "      <td>2.168004e+12</td>\n",
       "      <td>13.410724</td>\n",
       "      <td>26857.820542</td>\n",
       "      <td>274.297149</td>\n",
       "      <td>9.190162</td>\n",
       "    </tr>\n",
       "    <tr>\n",
       "      <th>min</th>\n",
       "      <td>0.000000</td>\n",
       "      <td>0.000000</td>\n",
       "      <td>0.000000</td>\n",
       "      <td>843.000000</td>\n",
       "      <td>0.000000</td>\n",
       "      <td>2.139000e+03</td>\n",
       "      <td>1.908000e+03</td>\n",
       "      <td>1890.000000</td>\n",
       "      <td>1834.500000</td>\n",
       "      <td>4.000000</td>\n",
       "      <td>...</td>\n",
       "      <td>1.000000</td>\n",
       "      <td>3.300000e+01</td>\n",
       "      <td>8.540000e+02</td>\n",
       "      <td>3.130500e+04</td>\n",
       "      <td>1.510000</td>\n",
       "      <td>9.371000e+06</td>\n",
       "      <td>42.990000</td>\n",
       "      <td>215.352212</td>\n",
       "      <td>3.303561</td>\n",
       "      <td>0.219000</td>\n",
       "    </tr>\n",
       "    <tr>\n",
       "      <th>25%</th>\n",
       "      <td>4.200000</td>\n",
       "      <td>85.750000</td>\n",
       "      <td>0.000000</td>\n",
       "      <td>1884.750000</td>\n",
       "      <td>0.000000</td>\n",
       "      <td>5.737900e+04</td>\n",
       "      <td>1.520702e+05</td>\n",
       "      <td>3452.000000</td>\n",
       "      <td>2520.750000</td>\n",
       "      <td>7.600000</td>\n",
       "      <td>...</td>\n",
       "      <td>10.250000</td>\n",
       "      <td>2.586925e+04</td>\n",
       "      <td>5.246800e+04</td>\n",
       "      <td>2.098409e+06</td>\n",
       "      <td>3.227500</td>\n",
       "      <td>9.838712e+09</td>\n",
       "      <td>74.330000</td>\n",
       "      <td>2264.616721</td>\n",
       "      <td>24.439554</td>\n",
       "      <td>3.817250</td>\n",
       "    </tr>\n",
       "    <tr>\n",
       "      <th>50%</th>\n",
       "      <td>4.411538</td>\n",
       "      <td>392.666667</td>\n",
       "      <td>0.000000</td>\n",
       "      <td>1956.000000</td>\n",
       "      <td>0.000000</td>\n",
       "      <td>2.889990e+05</td>\n",
       "      <td>6.938305e+05</td>\n",
       "      <td>4502.000000</td>\n",
       "      <td>2949.500000</td>\n",
       "      <td>9.000000</td>\n",
       "      <td>...</td>\n",
       "      <td>19.500000</td>\n",
       "      <td>1.311650e+05</td>\n",
       "      <td>9.420900e+04</td>\n",
       "      <td>9.134961e+06</td>\n",
       "      <td>4.405000</td>\n",
       "      <td>3.719117e+10</td>\n",
       "      <td>83.130000</td>\n",
       "      <td>6455.209751</td>\n",
       "      <td>55.542059</td>\n",
       "      <td>8.251000</td>\n",
       "    </tr>\n",
       "    <tr>\n",
       "      <th>75%</th>\n",
       "      <td>4.530769</td>\n",
       "      <td>1841.115385</td>\n",
       "      <td>1.000000</td>\n",
       "      <td>1968.000000</td>\n",
       "      <td>1.000000</td>\n",
       "      <td>1.170911e+06</td>\n",
       "      <td>1.599130e+06</td>\n",
       "      <td>5379.250000</td>\n",
       "      <td>3505.250000</td>\n",
       "      <td>10.800000</td>\n",
       "      <td>...</td>\n",
       "      <td>29.750000</td>\n",
       "      <td>5.815918e+05</td>\n",
       "      <td>4.114820e+05</td>\n",
       "      <td>3.115306e+07</td>\n",
       "      <td>5.535000</td>\n",
       "      <td>2.555348e+11</td>\n",
       "      <td>91.600000</td>\n",
       "      <td>22345.212835</td>\n",
       "      <td>171.082797</td>\n",
       "      <td>11.466500</td>\n",
       "    </tr>\n",
       "    <tr>\n",
       "      <th>max</th>\n",
       "      <td>4.800000</td>\n",
       "      <td>29259.259259</td>\n",
       "      <td>411.000000</td>\n",
       "      <td>2011.000000</td>\n",
       "      <td>82.000000</td>\n",
       "      <td>5.063284e+07</td>\n",
       "      <td>1.786949e+07</td>\n",
       "      <td>7000.000000</td>\n",
       "      <td>5053.000000</td>\n",
       "      <td>13.200000</td>\n",
       "      <td>...</td>\n",
       "      <td>39.000000</td>\n",
       "      <td>1.709825e+07</td>\n",
       "      <td>2.715337e+06</td>\n",
       "      <td>1.417173e+09</td>\n",
       "      <td>15.590000</td>\n",
       "      <td>2.331508e+13</td>\n",
       "      <td>106.480000</td>\n",
       "      <td>196058.181044</td>\n",
       "      <td>1258.262146</td>\n",
       "      <td>48.648000</td>\n",
       "    </tr>\n",
       "  </tbody>\n",
       "</table>\n",
       "<p>8 rows × 21 columns</p>\n",
       "</div>"
      ],
      "text/plain": [
       "       Notes_Musees  Nbvotes_Musees_Clean  Nb_Prixnobel  Annee_Souverainete  \\\n",
       "count    197.000000            197.000000    197.000000          164.000000   \n",
       "mean       4.106121           2621.576903      6.081218         1887.554878   \n",
       "std        1.075007           5892.872012     32.515044          193.145174   \n",
       "min        0.000000              0.000000      0.000000          843.000000   \n",
       "25%        4.200000             85.750000      0.000000         1884.750000   \n",
       "50%        4.411538            392.666667      0.000000         1956.000000   \n",
       "75%        4.530769           1841.115385      1.000000         1968.000000   \n",
       "max        4.800000          29259.259259    411.000000         2011.000000   \n",
       "\n",
       "       Nb_Univtop500  Immigrationbycountry_Immigrants  \\\n",
       "count     197.000000                     1.920000e+02   \n",
       "mean        2.522843                     1.452172e+06   \n",
       "std         8.130049                     4.263757e+06   \n",
       "min         0.000000                     2.139000e+03   \n",
       "25%         0.000000                     5.737900e+04   \n",
       "50%         0.000000                     2.889990e+05   \n",
       "75%         1.000000                     1.170911e+06   \n",
       "max        82.000000                     5.063284e+07   \n",
       "\n",
       "       Immigrationbycountry_Emigrants      Primary  Lower_Secondary  \\\n",
       "count                    1.920000e+02    38.000000        38.000000   \n",
       "mean                     1.388475e+06  4400.263158      3081.381579   \n",
       "std                      2.259164e+06  1375.457087       753.241961   \n",
       "min                      1.908000e+03  1890.000000      1834.500000   \n",
       "25%                      1.520702e+05  3452.000000      2520.750000   \n",
       "50%                      6.938305e+05  4502.000000      2949.500000   \n",
       "75%                      1.599130e+06  5379.250000      3505.250000   \n",
       "max                      1.786949e+07  7000.000000      5053.000000   \n",
       "\n",
       "       End_Of_The_School_Year_Break  ...  Global_rank_Literacy_rate  \\\n",
       "count                     33.000000  ...                  38.000000   \n",
       "mean                       9.148485  ...                  19.947368   \n",
       "std                        2.258888  ...                  11.550003   \n",
       "min                        4.000000  ...                   1.000000   \n",
       "25%                        7.600000  ...                  10.250000   \n",
       "50%                        9.000000  ...                  19.500000   \n",
       "75%                       10.800000  ...                  29.750000   \n",
       "max                       13.200000  ...                  39.000000   \n",
       "\n",
       "               Area  Nb_graduates    Population  Education_Spending_2021  \\\n",
       "count  1.900000e+02  2.900000e+01  1.920000e+02               138.000000   \n",
       "mean   7.117873e+05  3.079957e+05  4.104085e+07                 4.463913   \n",
       "std    1.930646e+06  5.106048e+05  1.494011e+08                 1.808795   \n",
       "min    3.300000e+01  8.540000e+02  3.130500e+04                 1.510000   \n",
       "25%    2.586925e+04  5.246800e+04  2.098409e+06                 3.227500   \n",
       "50%    1.311650e+05  9.420900e+04  9.134961e+06                 4.405000   \n",
       "75%    5.815918e+05  4.114820e+05  3.115306e+07                 5.535000   \n",
       "max    1.709825e+07  2.715337e+06  1.417173e+09                15.590000   \n",
       "\n",
       "                Gdp  Averageiqbycountry_Iqlynnbecker2019  Gdp_Percapita  \\\n",
       "count  1.970000e+02                           197.000000     191.000000   \n",
       "mean   4.893201e+11                            82.030964   17948.527882   \n",
       "std    2.168004e+12                            13.410724   26857.820542   \n",
       "min    9.371000e+06                            42.990000     215.352212   \n",
       "25%    9.838712e+09                            74.330000    2264.616721   \n",
       "50%    3.719117e+10                            83.130000    6455.209751   \n",
       "75%    2.555348e+11                            91.600000   22345.212835   \n",
       "max    2.331508e+13                           106.480000  196058.181044   \n",
       "\n",
       "       Indice_Evolution  Nb_Foreign_Students  \n",
       "count        162.000000            36.000000  \n",
       "mean         183.924201             9.866333  \n",
       "std          274.297149             9.190162  \n",
       "min            3.303561             0.219000  \n",
       "25%           24.439554             3.817250  \n",
       "50%           55.542059             8.251000  \n",
       "75%          171.082797            11.466500  \n",
       "max         1258.262146            48.648000  \n",
       "\n",
       "[8 rows x 21 columns]"
      ]
     },
     "execution_count": 41,
     "metadata": {},
     "output_type": "execute_result"
    }
   ],
   "source": [
    "numerical_columns = df.select_dtypes(include=['number'])\n",
    "df_num=numerical_columns.drop(columns=['Break_1','Break_2', 'Break_3', 'Break_4', 'Break_5','Political_Regime', 'Mean_Rank_Univ'])\n",
    "df_num.drop(['Averageiq_Ici2017Score', 'Averageiqpisa2022Meanscoremathematics','Averageiqpisa2022Meanscorereading','Averageiqpisa2022Meanscorescience'], axis=1, inplace=True)\n",
    "df_num.describe()"
   ]
  },
  {
   "cell_type": "code",
   "execution_count": 42,
   "metadata": {},
   "outputs": [
    {
     "data": {
      "text/plain": [
       "Notes_Musees                             197.0\n",
       "Nbvotes_Musees_Clean                     197.0\n",
       "Nb_Prixnobel                             197.0\n",
       "Annee_Souverainete                       164.0\n",
       "Nb_Univtop500                            197.0\n",
       "Mean_Rank_Univ                            58.0\n",
       "Political_Regime                         168.0\n",
       "Immigrationbycountry_Immigrants          192.0\n",
       "Immigrationbycountry_Emigrants           192.0\n",
       "Primary                                   38.0\n",
       "Lower_Secondary                           38.0\n",
       "Break_1                                   33.0\n",
       "Break_2                                   33.0\n",
       "Break_3                                   26.0\n",
       "Break_4                                   14.0\n",
       "Break_5                                    2.0\n",
       "End_Of_The_School_Year_Break              33.0\n",
       "Literacy_Rate_2021                        38.0\n",
       "Global_rank_Literacy_rate                 38.0\n",
       "Area                                     190.0\n",
       "Nb_graduates                              29.0\n",
       "Population                               192.0\n",
       "Education_Spending_2021                  138.0\n",
       "Gdp                                      197.0\n",
       "Averageiqbycountry_Iqlynnbecker2019      197.0\n",
       "Averageiq_Ici2017Score                   127.0\n",
       "Averageiqpisa2022Meanscoremathematics     79.0\n",
       "Averageiqpisa2022Meanscorereading         79.0\n",
       "Averageiqpisa2022Meanscorescience         79.0\n",
       "Gdp_Percapita                            191.0\n",
       "Indice_Evolution                         162.0\n",
       "Nb_Foreign_Students                       36.0\n",
       "Name: count, dtype: float64"
      ]
     },
     "execution_count": 42,
     "metadata": {},
     "output_type": "execute_result"
    }
   ],
   "source": [
    "# Le nombre de valeurs renseignées\n",
    "df.describe().loc['count']"
   ]
  },
  {
   "cell_type": "markdown",
   "metadata": {},
   "source": [
    "## Affichage des box plot"
   ]
  },
  {
   "cell_type": "code",
   "execution_count": 47,
   "metadata": {},
   "outputs": [
    {
     "data": {
      "application/vnd.plotly.v1+json": {
       "config": {
        "plotlyServerURL": "https://plot.ly"
       },
       "data": [
        {
         "alignmentgroup": "True",
         "hovertemplate": "variable=%{x}<br>value=%{y}<extra></extra>",
         "legendgroup": "",
         "marker": {
          "color": "rgb(158,202,225)",
          "line": {
           "outliercolor": "rgba(219, 64, 82, 0.6)",
           "outlierwidth": 2
          },
          "outliercolor": "rgba(219, 64, 82, 0.6)"
         },
         "name": "",
         "notched": false,
         "offsetgroup": "",
         "orientation": "v",
         "showlegend": false,
         "type": "box",
         "x": [
          "Indice_Evolution",
          "Indice_Evolution",
          "Indice_Evolution",
          "Indice_Evolution",
          "Indice_Evolution",
          "Indice_Evolution",
          "Indice_Evolution",
          "Indice_Evolution",
          "Indice_Evolution",
          "Indice_Evolution",
          "Indice_Evolution",
          "Indice_Evolution",
          "Indice_Evolution",
          "Indice_Evolution",
          "Indice_Evolution",
          "Indice_Evolution",
          "Indice_Evolution",
          "Indice_Evolution",
          "Indice_Evolution",
          "Indice_Evolution",
          "Indice_Evolution",
          "Indice_Evolution",
          "Indice_Evolution",
          "Indice_Evolution",
          "Indice_Evolution",
          "Indice_Evolution",
          "Indice_Evolution",
          "Indice_Evolution",
          "Indice_Evolution",
          "Indice_Evolution",
          "Indice_Evolution",
          "Indice_Evolution",
          "Indice_Evolution",
          "Indice_Evolution",
          "Indice_Evolution",
          "Indice_Evolution",
          "Indice_Evolution",
          "Indice_Evolution",
          "Indice_Evolution",
          "Indice_Evolution",
          "Indice_Evolution",
          "Indice_Evolution",
          "Indice_Evolution",
          "Indice_Evolution",
          "Indice_Evolution",
          "Indice_Evolution",
          "Indice_Evolution",
          "Indice_Evolution",
          "Indice_Evolution",
          "Indice_Evolution",
          "Indice_Evolution",
          "Indice_Evolution",
          "Indice_Evolution",
          "Indice_Evolution",
          "Indice_Evolution",
          "Indice_Evolution",
          "Indice_Evolution",
          "Indice_Evolution",
          "Indice_Evolution",
          "Indice_Evolution",
          "Indice_Evolution",
          "Indice_Evolution",
          "Indice_Evolution",
          "Indice_Evolution",
          "Indice_Evolution",
          "Indice_Evolution",
          "Indice_Evolution",
          "Indice_Evolution",
          "Indice_Evolution",
          "Indice_Evolution",
          "Indice_Evolution",
          "Indice_Evolution",
          "Indice_Evolution",
          "Indice_Evolution",
          "Indice_Evolution",
          "Indice_Evolution",
          "Indice_Evolution",
          "Indice_Evolution",
          "Indice_Evolution",
          "Indice_Evolution",
          "Indice_Evolution",
          "Indice_Evolution",
          "Indice_Evolution",
          "Indice_Evolution",
          "Indice_Evolution",
          "Indice_Evolution",
          "Indice_Evolution",
          "Indice_Evolution",
          "Indice_Evolution",
          "Indice_Evolution",
          "Indice_Evolution",
          "Indice_Evolution",
          "Indice_Evolution",
          "Indice_Evolution",
          "Indice_Evolution",
          "Indice_Evolution",
          "Indice_Evolution",
          "Indice_Evolution",
          "Indice_Evolution",
          "Indice_Evolution",
          "Indice_Evolution",
          "Indice_Evolution",
          "Indice_Evolution",
          "Indice_Evolution",
          "Indice_Evolution",
          "Indice_Evolution",
          "Indice_Evolution",
          "Indice_Evolution",
          "Indice_Evolution",
          "Indice_Evolution",
          "Indice_Evolution",
          "Indice_Evolution",
          "Indice_Evolution",
          "Indice_Evolution",
          "Indice_Evolution",
          "Indice_Evolution",
          "Indice_Evolution",
          "Indice_Evolution",
          "Indice_Evolution",
          "Indice_Evolution",
          "Indice_Evolution",
          "Indice_Evolution",
          "Indice_Evolution",
          "Indice_Evolution",
          "Indice_Evolution",
          "Indice_Evolution",
          "Indice_Evolution",
          "Indice_Evolution",
          "Indice_Evolution",
          "Indice_Evolution",
          "Indice_Evolution",
          "Indice_Evolution",
          "Indice_Evolution",
          "Indice_Evolution",
          "Indice_Evolution",
          "Indice_Evolution",
          "Indice_Evolution",
          "Indice_Evolution",
          "Indice_Evolution",
          "Indice_Evolution",
          "Indice_Evolution",
          "Indice_Evolution",
          "Indice_Evolution",
          "Indice_Evolution",
          "Indice_Evolution",
          "Indice_Evolution",
          "Indice_Evolution",
          "Indice_Evolution",
          "Indice_Evolution",
          "Indice_Evolution",
          "Indice_Evolution",
          "Indice_Evolution",
          "Indice_Evolution",
          "Indice_Evolution",
          "Indice_Evolution",
          "Indice_Evolution",
          "Indice_Evolution",
          "Indice_Evolution",
          "Indice_Evolution",
          "Indice_Evolution",
          "Indice_Evolution",
          "Indice_Evolution",
          "Indice_Evolution",
          "Indice_Evolution",
          "Indice_Evolution",
          "Indice_Evolution",
          "Indice_Evolution",
          "Indice_Evolution",
          "Indice_Evolution",
          "Indice_Evolution",
          "Indice_Evolution",
          "Indice_Evolution",
          "Indice_Evolution",
          "Indice_Evolution",
          "Indice_Evolution",
          "Indice_Evolution",
          "Indice_Evolution",
          "Indice_Evolution",
          "Indice_Evolution",
          "Indice_Evolution",
          "Indice_Evolution",
          "Indice_Evolution",
          "Indice_Evolution",
          "Indice_Evolution",
          "Indice_Evolution",
          "Indice_Evolution",
          "Indice_Evolution",
          "Indice_Evolution",
          "Indice_Evolution",
          "Indice_Evolution",
          "Indice_Evolution",
          "Indice_Evolution",
          "Indice_Evolution",
          "Indice_Evolution",
          "Indice_Evolution",
          "Indice_Evolution",
          "Indice_Evolution"
         ],
         "x0": " ",
         "xaxis": "x",
         "y": [
          3.303561468969322,
          57.63580135069632,
          58.71853122223224,
          null,
          38.13672894934822,
          null,
          49.311710706314805,
          146.81091390292747,
          487.3988845957438,
          768.2397780089128,
          163.81542940709647,
          468.6199136226454,
          503.5178972294544,
          45.88012905926682,
          null,
          222.0645958206981,
          264.9916697224061,
          139.1299406025273,
          null,
          null,
          null,
          16.61027162001649,
          228.55823910226687,
          51.248619246572254,
          37.92818234411283,
          null,
          779.8682755002094,
          89.03604454671512,
          13.126017427016356,
          3.4734227668479627,
          22.64651919180901,
          25.184863460377105,
          328.4479631028925,
          null,
          null,
          6.834160191099153,
          10.385314955243189,
          78.39332062168108,
          19.236521406449445,
          28.692066777777768,
          31.610453603040742,
          8.731498761893384,
          null,
          61.76686685576739,
          542.942942035095,
          75.9885746415141,
          368.0982867856029,
          249.09841905468943,
          64.47026427185203,
          64.27166786677587,
          null,
          52.7861250346667,
          null,
          53.890322736317295,
          22.896310708049626,
          18.08153557785162,
          835.5364868394213,
          72.08483924739723,
          10.864851999397729,
          85.74502399325485,
          498.6858712818927,
          36.86562845128491,
          132.23377083863195,
          12.76774145953624,
          152.0608556357884,
          48.07661070065696,
          35.45633525196681,
          101.920031988908,
          null,
          null,
          24.421569259808148,
          17.59213672933524,
          171.43528749628405,
          8.191400384929509,
          13.451587622908573,
          null,
          572.2132725306953,
          837.5569095526704,
          28.86949641193545,
          54.51536626371298,
          7.413665345006272,
          50.73514909474802,
          953.6343661649788,
          672.5588142116153,
          462.8918396748706,
          38.637274999180406,
          83.61554878188363,
          558.843515061499,
          52.59140837054285,
          304.4086826385887,
          33.28714211317634,
          38.54244207801756,
          975.2361712014844,
          null,
          33.33946218736968,
          197.99315195984536,
          50.767093125118336,
          17.562500168893173,
          3.73864819646178,
          80.02886079883532,
          929.1856921522832,
          222.5490680911209,
          708.336646985359,
          null,
          7.447275004863759,
          10.29334178082817,
          164.4042708791229,
          170.02532729771514,
          13.14836063478297,
          567.5881043318623,
          163.19403097183817,
          30.42607716701278,
          162.43491841207475,
          50.71052059032554,
          null,
          163.42394170941674,
          39.80684995850765,
          527.5891165543004,
          55.67722393353245,
          10.008042412617408,
          null,
          142.60446701659936,
          4.721737755689009,
          736.3378493254415,
          null,
          426.260729423622,
          10.02881528524944,
          8.622751973332683,
          31.518582650420047,
          null,
          null,
          null,
          1167.6009480100038,
          45.99395542789889,
          19.19301547841196,
          null,
          75.31967702177525,
          50.48263589998256,
          27.66111071448132,
          32.366268967223995,
          38.31763444264463,
          17.489513001026925,
          27.73757366511952,
          null,
          1258.2621460553055,
          17.73708535213938,
          102.07835663668612,
          23.410369137261608,
          12.942046553267325,
          null,
          null,
          null,
          61.20851324508293,
          47.06698404321921,
          247.52020858187404,
          24.49350701609897,
          119.85202617122604,
          223.6105506323912,
          7.837599361849656,
          1156.6311773555803,
          704.2014848900116,
          887.1758984603648,
          45.45660255782494,
          8.735887004008186,
          61.52955295822039,
          463.4439456395742,
          84.56830217034005,
          55.518292210997394,
          52.52720389041901,
          10.738853347960728,
          null,
          121.75868633372664,
          null,
          6.434875429645696,
          null,
          null,
          17.122999513044352,
          28.43326847961024,
          14.457033916988111,
          81.31736954923754,
          55.56582543683293,
          null,
          235.64466205083124,
          null,
          13.828502192610625,
          159.30291831813,
          829.7272633107397,
          147.97532676053814,
          null,
          90.1615355934452,
          59.164711304985104,
          67.58474195848423,
          80.01632625456232,
          47.20237476285955,
          18.858729158236617,
          18.39742205641614,
          29.464009178362623
         ],
         "y0": " ",
         "yaxis": "y"
        }
       ],
       "layout": {
        "boxmode": "group",
        "legend": {
         "tracegroupgap": 0
        },
        "template": {
         "data": {
          "bar": [
           {
            "error_x": {
             "color": "#2a3f5f"
            },
            "error_y": {
             "color": "#2a3f5f"
            },
            "marker": {
             "line": {
              "color": "#E5ECF6",
              "width": 0.5
             },
             "pattern": {
              "fillmode": "overlay",
              "size": 10,
              "solidity": 0.2
             }
            },
            "type": "bar"
           }
          ],
          "barpolar": [
           {
            "marker": {
             "line": {
              "color": "#E5ECF6",
              "width": 0.5
             },
             "pattern": {
              "fillmode": "overlay",
              "size": 10,
              "solidity": 0.2
             }
            },
            "type": "barpolar"
           }
          ],
          "carpet": [
           {
            "aaxis": {
             "endlinecolor": "#2a3f5f",
             "gridcolor": "white",
             "linecolor": "white",
             "minorgridcolor": "white",
             "startlinecolor": "#2a3f5f"
            },
            "baxis": {
             "endlinecolor": "#2a3f5f",
             "gridcolor": "white",
             "linecolor": "white",
             "minorgridcolor": "white",
             "startlinecolor": "#2a3f5f"
            },
            "type": "carpet"
           }
          ],
          "choropleth": [
           {
            "colorbar": {
             "outlinewidth": 0,
             "ticks": ""
            },
            "type": "choropleth"
           }
          ],
          "contour": [
           {
            "colorbar": {
             "outlinewidth": 0,
             "ticks": ""
            },
            "colorscale": [
             [
              0,
              "#0d0887"
             ],
             [
              0.1111111111111111,
              "#46039f"
             ],
             [
              0.2222222222222222,
              "#7201a8"
             ],
             [
              0.3333333333333333,
              "#9c179e"
             ],
             [
              0.4444444444444444,
              "#bd3786"
             ],
             [
              0.5555555555555556,
              "#d8576b"
             ],
             [
              0.6666666666666666,
              "#ed7953"
             ],
             [
              0.7777777777777778,
              "#fb9f3a"
             ],
             [
              0.8888888888888888,
              "#fdca26"
             ],
             [
              1,
              "#f0f921"
             ]
            ],
            "type": "contour"
           }
          ],
          "contourcarpet": [
           {
            "colorbar": {
             "outlinewidth": 0,
             "ticks": ""
            },
            "type": "contourcarpet"
           }
          ],
          "heatmap": [
           {
            "colorbar": {
             "outlinewidth": 0,
             "ticks": ""
            },
            "colorscale": [
             [
              0,
              "#0d0887"
             ],
             [
              0.1111111111111111,
              "#46039f"
             ],
             [
              0.2222222222222222,
              "#7201a8"
             ],
             [
              0.3333333333333333,
              "#9c179e"
             ],
             [
              0.4444444444444444,
              "#bd3786"
             ],
             [
              0.5555555555555556,
              "#d8576b"
             ],
             [
              0.6666666666666666,
              "#ed7953"
             ],
             [
              0.7777777777777778,
              "#fb9f3a"
             ],
             [
              0.8888888888888888,
              "#fdca26"
             ],
             [
              1,
              "#f0f921"
             ]
            ],
            "type": "heatmap"
           }
          ],
          "heatmapgl": [
           {
            "colorbar": {
             "outlinewidth": 0,
             "ticks": ""
            },
            "colorscale": [
             [
              0,
              "#0d0887"
             ],
             [
              0.1111111111111111,
              "#46039f"
             ],
             [
              0.2222222222222222,
              "#7201a8"
             ],
             [
              0.3333333333333333,
              "#9c179e"
             ],
             [
              0.4444444444444444,
              "#bd3786"
             ],
             [
              0.5555555555555556,
              "#d8576b"
             ],
             [
              0.6666666666666666,
              "#ed7953"
             ],
             [
              0.7777777777777778,
              "#fb9f3a"
             ],
             [
              0.8888888888888888,
              "#fdca26"
             ],
             [
              1,
              "#f0f921"
             ]
            ],
            "type": "heatmapgl"
           }
          ],
          "histogram": [
           {
            "marker": {
             "pattern": {
              "fillmode": "overlay",
              "size": 10,
              "solidity": 0.2
             }
            },
            "type": "histogram"
           }
          ],
          "histogram2d": [
           {
            "colorbar": {
             "outlinewidth": 0,
             "ticks": ""
            },
            "colorscale": [
             [
              0,
              "#0d0887"
             ],
             [
              0.1111111111111111,
              "#46039f"
             ],
             [
              0.2222222222222222,
              "#7201a8"
             ],
             [
              0.3333333333333333,
              "#9c179e"
             ],
             [
              0.4444444444444444,
              "#bd3786"
             ],
             [
              0.5555555555555556,
              "#d8576b"
             ],
             [
              0.6666666666666666,
              "#ed7953"
             ],
             [
              0.7777777777777778,
              "#fb9f3a"
             ],
             [
              0.8888888888888888,
              "#fdca26"
             ],
             [
              1,
              "#f0f921"
             ]
            ],
            "type": "histogram2d"
           }
          ],
          "histogram2dcontour": [
           {
            "colorbar": {
             "outlinewidth": 0,
             "ticks": ""
            },
            "colorscale": [
             [
              0,
              "#0d0887"
             ],
             [
              0.1111111111111111,
              "#46039f"
             ],
             [
              0.2222222222222222,
              "#7201a8"
             ],
             [
              0.3333333333333333,
              "#9c179e"
             ],
             [
              0.4444444444444444,
              "#bd3786"
             ],
             [
              0.5555555555555556,
              "#d8576b"
             ],
             [
              0.6666666666666666,
              "#ed7953"
             ],
             [
              0.7777777777777778,
              "#fb9f3a"
             ],
             [
              0.8888888888888888,
              "#fdca26"
             ],
             [
              1,
              "#f0f921"
             ]
            ],
            "type": "histogram2dcontour"
           }
          ],
          "mesh3d": [
           {
            "colorbar": {
             "outlinewidth": 0,
             "ticks": ""
            },
            "type": "mesh3d"
           }
          ],
          "parcoords": [
           {
            "line": {
             "colorbar": {
              "outlinewidth": 0,
              "ticks": ""
             }
            },
            "type": "parcoords"
           }
          ],
          "pie": [
           {
            "automargin": true,
            "type": "pie"
           }
          ],
          "scatter": [
           {
            "fillpattern": {
             "fillmode": "overlay",
             "size": 10,
             "solidity": 0.2
            },
            "type": "scatter"
           }
          ],
          "scatter3d": [
           {
            "line": {
             "colorbar": {
              "outlinewidth": 0,
              "ticks": ""
             }
            },
            "marker": {
             "colorbar": {
              "outlinewidth": 0,
              "ticks": ""
             }
            },
            "type": "scatter3d"
           }
          ],
          "scattercarpet": [
           {
            "marker": {
             "colorbar": {
              "outlinewidth": 0,
              "ticks": ""
             }
            },
            "type": "scattercarpet"
           }
          ],
          "scattergeo": [
           {
            "marker": {
             "colorbar": {
              "outlinewidth": 0,
              "ticks": ""
             }
            },
            "type": "scattergeo"
           }
          ],
          "scattergl": [
           {
            "marker": {
             "colorbar": {
              "outlinewidth": 0,
              "ticks": ""
             }
            },
            "type": "scattergl"
           }
          ],
          "scattermapbox": [
           {
            "marker": {
             "colorbar": {
              "outlinewidth": 0,
              "ticks": ""
             }
            },
            "type": "scattermapbox"
           }
          ],
          "scatterpolar": [
           {
            "marker": {
             "colorbar": {
              "outlinewidth": 0,
              "ticks": ""
             }
            },
            "type": "scatterpolar"
           }
          ],
          "scatterpolargl": [
           {
            "marker": {
             "colorbar": {
              "outlinewidth": 0,
              "ticks": ""
             }
            },
            "type": "scatterpolargl"
           }
          ],
          "scatterternary": [
           {
            "marker": {
             "colorbar": {
              "outlinewidth": 0,
              "ticks": ""
             }
            },
            "type": "scatterternary"
           }
          ],
          "surface": [
           {
            "colorbar": {
             "outlinewidth": 0,
             "ticks": ""
            },
            "colorscale": [
             [
              0,
              "#0d0887"
             ],
             [
              0.1111111111111111,
              "#46039f"
             ],
             [
              0.2222222222222222,
              "#7201a8"
             ],
             [
              0.3333333333333333,
              "#9c179e"
             ],
             [
              0.4444444444444444,
              "#bd3786"
             ],
             [
              0.5555555555555556,
              "#d8576b"
             ],
             [
              0.6666666666666666,
              "#ed7953"
             ],
             [
              0.7777777777777778,
              "#fb9f3a"
             ],
             [
              0.8888888888888888,
              "#fdca26"
             ],
             [
              1,
              "#f0f921"
             ]
            ],
            "type": "surface"
           }
          ],
          "table": [
           {
            "cells": {
             "fill": {
              "color": "#EBF0F8"
             },
             "line": {
              "color": "white"
             }
            },
            "header": {
             "fill": {
              "color": "#C8D4E3"
             },
             "line": {
              "color": "white"
             }
            },
            "type": "table"
           }
          ]
         },
         "layout": {
          "annotationdefaults": {
           "arrowcolor": "#2a3f5f",
           "arrowhead": 0,
           "arrowwidth": 1
          },
          "autotypenumbers": "strict",
          "coloraxis": {
           "colorbar": {
            "outlinewidth": 0,
            "ticks": ""
           }
          },
          "colorscale": {
           "diverging": [
            [
             0,
             "#8e0152"
            ],
            [
             0.1,
             "#c51b7d"
            ],
            [
             0.2,
             "#de77ae"
            ],
            [
             0.3,
             "#f1b6da"
            ],
            [
             0.4,
             "#fde0ef"
            ],
            [
             0.5,
             "#f7f7f7"
            ],
            [
             0.6,
             "#e6f5d0"
            ],
            [
             0.7,
             "#b8e186"
            ],
            [
             0.8,
             "#7fbc41"
            ],
            [
             0.9,
             "#4d9221"
            ],
            [
             1,
             "#276419"
            ]
           ],
           "sequential": [
            [
             0,
             "#0d0887"
            ],
            [
             0.1111111111111111,
             "#46039f"
            ],
            [
             0.2222222222222222,
             "#7201a8"
            ],
            [
             0.3333333333333333,
             "#9c179e"
            ],
            [
             0.4444444444444444,
             "#bd3786"
            ],
            [
             0.5555555555555556,
             "#d8576b"
            ],
            [
             0.6666666666666666,
             "#ed7953"
            ],
            [
             0.7777777777777778,
             "#fb9f3a"
            ],
            [
             0.8888888888888888,
             "#fdca26"
            ],
            [
             1,
             "#f0f921"
            ]
           ],
           "sequentialminus": [
            [
             0,
             "#0d0887"
            ],
            [
             0.1111111111111111,
             "#46039f"
            ],
            [
             0.2222222222222222,
             "#7201a8"
            ],
            [
             0.3333333333333333,
             "#9c179e"
            ],
            [
             0.4444444444444444,
             "#bd3786"
            ],
            [
             0.5555555555555556,
             "#d8576b"
            ],
            [
             0.6666666666666666,
             "#ed7953"
            ],
            [
             0.7777777777777778,
             "#fb9f3a"
            ],
            [
             0.8888888888888888,
             "#fdca26"
            ],
            [
             1,
             "#f0f921"
            ]
           ]
          },
          "colorway": [
           "#636efa",
           "#EF553B",
           "#00cc96",
           "#ab63fa",
           "#FFA15A",
           "#19d3f3",
           "#FF6692",
           "#B6E880",
           "#FF97FF",
           "#FECB52"
          ],
          "font": {
           "color": "#2a3f5f"
          },
          "geo": {
           "bgcolor": "white",
           "lakecolor": "white",
           "landcolor": "#E5ECF6",
           "showlakes": true,
           "showland": true,
           "subunitcolor": "white"
          },
          "hoverlabel": {
           "align": "left"
          },
          "hovermode": "closest",
          "mapbox": {
           "style": "light"
          },
          "paper_bgcolor": "white",
          "plot_bgcolor": "#E5ECF6",
          "polar": {
           "angularaxis": {
            "gridcolor": "white",
            "linecolor": "white",
            "ticks": ""
           },
           "bgcolor": "#E5ECF6",
           "radialaxis": {
            "gridcolor": "white",
            "linecolor": "white",
            "ticks": ""
           }
          },
          "scene": {
           "xaxis": {
            "backgroundcolor": "#E5ECF6",
            "gridcolor": "white",
            "gridwidth": 2,
            "linecolor": "white",
            "showbackground": true,
            "ticks": "",
            "zerolinecolor": "white"
           },
           "yaxis": {
            "backgroundcolor": "#E5ECF6",
            "gridcolor": "white",
            "gridwidth": 2,
            "linecolor": "white",
            "showbackground": true,
            "ticks": "",
            "zerolinecolor": "white"
           },
           "zaxis": {
            "backgroundcolor": "#E5ECF6",
            "gridcolor": "white",
            "gridwidth": 2,
            "linecolor": "white",
            "showbackground": true,
            "ticks": "",
            "zerolinecolor": "white"
           }
          },
          "shapedefaults": {
           "line": {
            "color": "#2a3f5f"
           }
          },
          "ternary": {
           "aaxis": {
            "gridcolor": "white",
            "linecolor": "white",
            "ticks": ""
           },
           "baxis": {
            "gridcolor": "white",
            "linecolor": "white",
            "ticks": ""
           },
           "bgcolor": "#E5ECF6",
           "caxis": {
            "gridcolor": "white",
            "linecolor": "white",
            "ticks": ""
           }
          },
          "title": {
           "x": 0.05
          },
          "xaxis": {
           "automargin": true,
           "gridcolor": "white",
           "linecolor": "white",
           "ticks": "",
           "title": {
            "standoff": 15
           },
           "zerolinecolor": "white",
           "zerolinewidth": 2
          },
          "yaxis": {
           "automargin": true,
           "gridcolor": "white",
           "linecolor": "white",
           "ticks": "",
           "title": {
            "standoff": 15
           },
           "zerolinecolor": "white",
           "zerolinewidth": 2
          }
         }
        },
        "title": {
         "text": "Box plot : Indice_Evolution"
        },
        "xaxis": {
         "anchor": "y",
         "domain": [
          0,
          1
         ],
         "title": {
          "text": "variable"
         }
        },
        "yaxis": {
         "anchor": "x",
         "domain": [
          0,
          1
         ],
         "title": {
          "text": "value"
         }
        }
       }
      }
     },
     "metadata": {},
     "output_type": "display_data"
    },
    {
     "data": {
      "application/vnd.plotly.v1+json": {
       "config": {
        "plotlyServerURL": "https://plot.ly"
       },
       "data": [
        {
         "alignmentgroup": "True",
         "hovertemplate": "variable=%{x}<br>value=%{y}<extra></extra>",
         "legendgroup": "",
         "marker": {
          "color": "rgb(158,202,225)",
          "line": {
           "outliercolor": "rgba(219, 64, 82, 0.6)",
           "outlierwidth": 2
          },
          "outliercolor": "rgba(219, 64, 82, 0.6)"
         },
         "name": "",
         "notched": false,
         "offsetgroup": "",
         "orientation": "v",
         "showlegend": false,
         "type": "box",
         "x": [
          "Gdp",
          "Gdp",
          "Gdp",
          "Gdp",
          "Gdp",
          "Gdp",
          "Gdp",
          "Gdp",
          "Gdp",
          "Gdp",
          "Gdp",
          "Gdp",
          "Gdp",
          "Gdp",
          "Gdp",
          "Gdp",
          "Gdp",
          "Gdp",
          "Gdp",
          "Gdp",
          "Gdp",
          "Gdp",
          "Gdp",
          "Gdp",
          "Gdp",
          "Gdp",
          "Gdp",
          "Gdp",
          "Gdp",
          "Gdp",
          "Gdp",
          "Gdp",
          "Gdp",
          "Gdp",
          "Gdp",
          "Gdp",
          "Gdp",
          "Gdp",
          "Gdp",
          "Gdp",
          "Gdp",
          "Gdp",
          "Gdp",
          "Gdp",
          "Gdp",
          "Gdp",
          "Gdp",
          "Gdp",
          "Gdp",
          "Gdp",
          "Gdp",
          "Gdp",
          "Gdp",
          "Gdp",
          "Gdp",
          "Gdp",
          "Gdp",
          "Gdp",
          "Gdp",
          "Gdp",
          "Gdp",
          "Gdp",
          "Gdp",
          "Gdp",
          "Gdp",
          "Gdp",
          "Gdp",
          "Gdp",
          "Gdp",
          "Gdp",
          "Gdp",
          "Gdp",
          "Gdp",
          "Gdp",
          "Gdp",
          "Gdp",
          "Gdp",
          "Gdp",
          "Gdp",
          "Gdp",
          "Gdp",
          "Gdp",
          "Gdp",
          "Gdp",
          "Gdp",
          "Gdp",
          "Gdp",
          "Gdp",
          "Gdp",
          "Gdp",
          "Gdp",
          "Gdp",
          "Gdp",
          "Gdp",
          "Gdp",
          "Gdp",
          "Gdp",
          "Gdp",
          "Gdp",
          "Gdp",
          "Gdp",
          "Gdp",
          "Gdp",
          "Gdp",
          "Gdp",
          "Gdp",
          "Gdp",
          "Gdp",
          "Gdp",
          "Gdp",
          "Gdp",
          "Gdp",
          "Gdp",
          "Gdp",
          "Gdp",
          "Gdp",
          "Gdp",
          "Gdp",
          "Gdp",
          "Gdp",
          "Gdp",
          "Gdp",
          "Gdp",
          "Gdp",
          "Gdp",
          "Gdp",
          "Gdp",
          "Gdp",
          "Gdp",
          "Gdp",
          "Gdp",
          "Gdp",
          "Gdp",
          "Gdp",
          "Gdp",
          "Gdp",
          "Gdp",
          "Gdp",
          "Gdp",
          "Gdp",
          "Gdp",
          "Gdp",
          "Gdp",
          "Gdp",
          "Gdp",
          "Gdp",
          "Gdp",
          "Gdp",
          "Gdp",
          "Gdp",
          "Gdp",
          "Gdp",
          "Gdp",
          "Gdp",
          "Gdp",
          "Gdp",
          "Gdp",
          "Gdp",
          "Gdp",
          "Gdp",
          "Gdp",
          "Gdp",
          "Gdp",
          "Gdp",
          "Gdp",
          "Gdp",
          "Gdp",
          "Gdp",
          "Gdp",
          "Gdp",
          "Gdp",
          "Gdp",
          "Gdp",
          "Gdp",
          "Gdp",
          "Gdp",
          "Gdp",
          "Gdp",
          "Gdp",
          "Gdp",
          "Gdp",
          "Gdp",
          "Gdp",
          "Gdp",
          "Gdp",
          "Gdp",
          "Gdp",
          "Gdp",
          "Gdp",
          "Gdp",
          "Gdp",
          "Gdp",
          "Gdp",
          "Gdp",
          "Gdp",
          "Gdp",
          "Gdp"
         ],
         "x0": " ",
         "xaxis": "x",
         "y": [
          14266499429.8746,
          17930565118.8176,
          163472387986.768,
          3325143693.28714,
          66505129989.243,
          1601366666.66667,
          487902572164.348,
          13878908628.9378,
          1559033756285.13,
          479295362747.047,
          54825411764.7059,
          11527600000,
          39288670212.766,
          416264800549.026,
          4923100000,
          69673747131.87,
          600748812601.541,
          2424575179.3783,
          17687623534.6665,
          7127200000,
          2768003872.54065,
          40406111695.179,
          23649568276.8447,
          18737066311.1597,
          1649622821885.14,
          1027000000,
          14006496617.4458,
          84041493015.6618,
          19642668879.7694,
          2775798697.47186,
          26961061151.7337,
          44993521774.066,
          2007472181464.15,
          1997866378.77119,
          6028373513.49405,
          2516498412.46384,
          11779981332.8631,
          316581155648.871,
          17820459508852.2,
          318511813576.97,
          1296089479.45831,
          55328482783.5393,
          287000000,
          64960725734.2362,
          69081236641.2469,
          107351800000,
          29482917678.8954,
          281791218507.1,
          405687998852.691,
          3385825228.86997,
          555266666.666667,
          94243425938.3647,
          106165866000,
          424671765455.704,
          29451240000,
          2065001626.01626,
          37191166151.98,
          4850842571.59151,
          111261882958.426,
          4305031630.81808,
          296470417085.267,
          2959355819170.5,
          20217946922.4528,
          2038414968.60683,
          18629365612.096,
          4278503934689.85,
          79524421861.2743,
          214667807441.202,
          3235809504.29871,
          1122800000,
          86053083476.0294,
          16091817842.1318,
          8041362110.31175,
          20877414952.6375,
          28488721680.8502,
          368911387845.418,
          182090041757.269,
          25595940169.5879,
          3150306839142.13,
          1186505455736.54,
          359096907772.985,
          207691599310.345,
          513391778882.86,
          488526545878.891,
          2155360298998.03,
          71811075955.078,
          14657586127.0331,
          5034620784584.98,
          46296100140.8451,
          197112255360.612,
          109703658904.994,
          227610079.145208,
          137384258875.558,
          9371000,
          18827148528.9934,
          39443126174.4335,
          23131941556.7843,
          2348771013.21241,
          3509000000,
          39798423941.0335,
          7710380085.92257,
          66798933785.7702,
          85584105993.8746,
          30969334705.0515,
          14554754116.5427,
          12602334121.6286,
          373832428055.449,
          5254366310.44801,
          19309463508.0377,
          18087205251.3605,
          257784881.591797,
          9222536364.01272,
          11484357947.9086,
          1312557512901.28,
          406000000,
          13692230147.0588,
          15286441737.6686,
          5861427505.12493,
          141817797083.468,
          16168056388.9101,
          66262813093.4824,
          12446290854.8973,
          36924841428.7182,
          1029678338329.44,
          10071349663.8484,
          255551704625.831,
          14145880399.1935,
          14915002435.9913,
          440838992188.478,
          18000000000,
          13998355971.3044,
          858000000,
          503367986030.268,
          88191977373.212,
          348516647445.148,
          17129999999.999998,
          67406738100,
          26113333244.5115,
          39950899938.7482,
          223717799056.526,
          394087359844.049,
          681346136411.701,
          255534839405.899,
          106368900000,
          179732009554.846,
          14825708810.7046,
          285810244501.933,
          1836892075547.52,
          11054517345.7109,
          858592592.592592,
          1961111111.11111,
          872222222.222222,
          843923638.733018,
          524402450.755612,
          874156115900.131,
          27569136729.9023,
          63101069561.2193,
          1286687308.25807,
          4249234704.01866,
          423797100521.555,
          118576482542.583,
          61832201543.8285,
          1580303515.40945,
          9838711529.45863,
          420117812463.841,
          1818432106880.04,
          11997800760.2242,
          1445651653604.63,
          88548049121.4972,
          34229513773.9708,
          3081401725.88833,
          639714956069.468,
          813408787222.499,
          8969512933.38826,
          611396000,
          8937805347.13963,
          70655628147.8986,
          505568063988.806,
          8443112143.23844,
          469228219.665791,
          46687293140.3377,
          819865253669.661,
          50007428571.4286,
          1044778790,
          40510241365.8914,
          199765859570.935,
          415178792769.884,
          3141506156618.7,
          23315080560000,
          61412268248.9461,
          69600614987.3509,
          971636097.850666,
          482359318767.703,
          366137569122.215,
          21606160777.1719,
          22096416933.7902,
          28371238665.8646
         ],
         "y0": " ",
         "yaxis": "y"
        }
       ],
       "layout": {
        "boxmode": "group",
        "legend": {
         "tracegroupgap": 0
        },
        "template": {
         "data": {
          "bar": [
           {
            "error_x": {
             "color": "#2a3f5f"
            },
            "error_y": {
             "color": "#2a3f5f"
            },
            "marker": {
             "line": {
              "color": "#E5ECF6",
              "width": 0.5
             },
             "pattern": {
              "fillmode": "overlay",
              "size": 10,
              "solidity": 0.2
             }
            },
            "type": "bar"
           }
          ],
          "barpolar": [
           {
            "marker": {
             "line": {
              "color": "#E5ECF6",
              "width": 0.5
             },
             "pattern": {
              "fillmode": "overlay",
              "size": 10,
              "solidity": 0.2
             }
            },
            "type": "barpolar"
           }
          ],
          "carpet": [
           {
            "aaxis": {
             "endlinecolor": "#2a3f5f",
             "gridcolor": "white",
             "linecolor": "white",
             "minorgridcolor": "white",
             "startlinecolor": "#2a3f5f"
            },
            "baxis": {
             "endlinecolor": "#2a3f5f",
             "gridcolor": "white",
             "linecolor": "white",
             "minorgridcolor": "white",
             "startlinecolor": "#2a3f5f"
            },
            "type": "carpet"
           }
          ],
          "choropleth": [
           {
            "colorbar": {
             "outlinewidth": 0,
             "ticks": ""
            },
            "type": "choropleth"
           }
          ],
          "contour": [
           {
            "colorbar": {
             "outlinewidth": 0,
             "ticks": ""
            },
            "colorscale": [
             [
              0,
              "#0d0887"
             ],
             [
              0.1111111111111111,
              "#46039f"
             ],
             [
              0.2222222222222222,
              "#7201a8"
             ],
             [
              0.3333333333333333,
              "#9c179e"
             ],
             [
              0.4444444444444444,
              "#bd3786"
             ],
             [
              0.5555555555555556,
              "#d8576b"
             ],
             [
              0.6666666666666666,
              "#ed7953"
             ],
             [
              0.7777777777777778,
              "#fb9f3a"
             ],
             [
              0.8888888888888888,
              "#fdca26"
             ],
             [
              1,
              "#f0f921"
             ]
            ],
            "type": "contour"
           }
          ],
          "contourcarpet": [
           {
            "colorbar": {
             "outlinewidth": 0,
             "ticks": ""
            },
            "type": "contourcarpet"
           }
          ],
          "heatmap": [
           {
            "colorbar": {
             "outlinewidth": 0,
             "ticks": ""
            },
            "colorscale": [
             [
              0,
              "#0d0887"
             ],
             [
              0.1111111111111111,
              "#46039f"
             ],
             [
              0.2222222222222222,
              "#7201a8"
             ],
             [
              0.3333333333333333,
              "#9c179e"
             ],
             [
              0.4444444444444444,
              "#bd3786"
             ],
             [
              0.5555555555555556,
              "#d8576b"
             ],
             [
              0.6666666666666666,
              "#ed7953"
             ],
             [
              0.7777777777777778,
              "#fb9f3a"
             ],
             [
              0.8888888888888888,
              "#fdca26"
             ],
             [
              1,
              "#f0f921"
             ]
            ],
            "type": "heatmap"
           }
          ],
          "heatmapgl": [
           {
            "colorbar": {
             "outlinewidth": 0,
             "ticks": ""
            },
            "colorscale": [
             [
              0,
              "#0d0887"
             ],
             [
              0.1111111111111111,
              "#46039f"
             ],
             [
              0.2222222222222222,
              "#7201a8"
             ],
             [
              0.3333333333333333,
              "#9c179e"
             ],
             [
              0.4444444444444444,
              "#bd3786"
             ],
             [
              0.5555555555555556,
              "#d8576b"
             ],
             [
              0.6666666666666666,
              "#ed7953"
             ],
             [
              0.7777777777777778,
              "#fb9f3a"
             ],
             [
              0.8888888888888888,
              "#fdca26"
             ],
             [
              1,
              "#f0f921"
             ]
            ],
            "type": "heatmapgl"
           }
          ],
          "histogram": [
           {
            "marker": {
             "pattern": {
              "fillmode": "overlay",
              "size": 10,
              "solidity": 0.2
             }
            },
            "type": "histogram"
           }
          ],
          "histogram2d": [
           {
            "colorbar": {
             "outlinewidth": 0,
             "ticks": ""
            },
            "colorscale": [
             [
              0,
              "#0d0887"
             ],
             [
              0.1111111111111111,
              "#46039f"
             ],
             [
              0.2222222222222222,
              "#7201a8"
             ],
             [
              0.3333333333333333,
              "#9c179e"
             ],
             [
              0.4444444444444444,
              "#bd3786"
             ],
             [
              0.5555555555555556,
              "#d8576b"
             ],
             [
              0.6666666666666666,
              "#ed7953"
             ],
             [
              0.7777777777777778,
              "#fb9f3a"
             ],
             [
              0.8888888888888888,
              "#fdca26"
             ],
             [
              1,
              "#f0f921"
             ]
            ],
            "type": "histogram2d"
           }
          ],
          "histogram2dcontour": [
           {
            "colorbar": {
             "outlinewidth": 0,
             "ticks": ""
            },
            "colorscale": [
             [
              0,
              "#0d0887"
             ],
             [
              0.1111111111111111,
              "#46039f"
             ],
             [
              0.2222222222222222,
              "#7201a8"
             ],
             [
              0.3333333333333333,
              "#9c179e"
             ],
             [
              0.4444444444444444,
              "#bd3786"
             ],
             [
              0.5555555555555556,
              "#d8576b"
             ],
             [
              0.6666666666666666,
              "#ed7953"
             ],
             [
              0.7777777777777778,
              "#fb9f3a"
             ],
             [
              0.8888888888888888,
              "#fdca26"
             ],
             [
              1,
              "#f0f921"
             ]
            ],
            "type": "histogram2dcontour"
           }
          ],
          "mesh3d": [
           {
            "colorbar": {
             "outlinewidth": 0,
             "ticks": ""
            },
            "type": "mesh3d"
           }
          ],
          "parcoords": [
           {
            "line": {
             "colorbar": {
              "outlinewidth": 0,
              "ticks": ""
             }
            },
            "type": "parcoords"
           }
          ],
          "pie": [
           {
            "automargin": true,
            "type": "pie"
           }
          ],
          "scatter": [
           {
            "fillpattern": {
             "fillmode": "overlay",
             "size": 10,
             "solidity": 0.2
            },
            "type": "scatter"
           }
          ],
          "scatter3d": [
           {
            "line": {
             "colorbar": {
              "outlinewidth": 0,
              "ticks": ""
             }
            },
            "marker": {
             "colorbar": {
              "outlinewidth": 0,
              "ticks": ""
             }
            },
            "type": "scatter3d"
           }
          ],
          "scattercarpet": [
           {
            "marker": {
             "colorbar": {
              "outlinewidth": 0,
              "ticks": ""
             }
            },
            "type": "scattercarpet"
           }
          ],
          "scattergeo": [
           {
            "marker": {
             "colorbar": {
              "outlinewidth": 0,
              "ticks": ""
             }
            },
            "type": "scattergeo"
           }
          ],
          "scattergl": [
           {
            "marker": {
             "colorbar": {
              "outlinewidth": 0,
              "ticks": ""
             }
            },
            "type": "scattergl"
           }
          ],
          "scattermapbox": [
           {
            "marker": {
             "colorbar": {
              "outlinewidth": 0,
              "ticks": ""
             }
            },
            "type": "scattermapbox"
           }
          ],
          "scatterpolar": [
           {
            "marker": {
             "colorbar": {
              "outlinewidth": 0,
              "ticks": ""
             }
            },
            "type": "scatterpolar"
           }
          ],
          "scatterpolargl": [
           {
            "marker": {
             "colorbar": {
              "outlinewidth": 0,
              "ticks": ""
             }
            },
            "type": "scatterpolargl"
           }
          ],
          "scatterternary": [
           {
            "marker": {
             "colorbar": {
              "outlinewidth": 0,
              "ticks": ""
             }
            },
            "type": "scatterternary"
           }
          ],
          "surface": [
           {
            "colorbar": {
             "outlinewidth": 0,
             "ticks": ""
            },
            "colorscale": [
             [
              0,
              "#0d0887"
             ],
             [
              0.1111111111111111,
              "#46039f"
             ],
             [
              0.2222222222222222,
              "#7201a8"
             ],
             [
              0.3333333333333333,
              "#9c179e"
             ],
             [
              0.4444444444444444,
              "#bd3786"
             ],
             [
              0.5555555555555556,
              "#d8576b"
             ],
             [
              0.6666666666666666,
              "#ed7953"
             ],
             [
              0.7777777777777778,
              "#fb9f3a"
             ],
             [
              0.8888888888888888,
              "#fdca26"
             ],
             [
              1,
              "#f0f921"
             ]
            ],
            "type": "surface"
           }
          ],
          "table": [
           {
            "cells": {
             "fill": {
              "color": "#EBF0F8"
             },
             "line": {
              "color": "white"
             }
            },
            "header": {
             "fill": {
              "color": "#C8D4E3"
             },
             "line": {
              "color": "white"
             }
            },
            "type": "table"
           }
          ]
         },
         "layout": {
          "annotationdefaults": {
           "arrowcolor": "#2a3f5f",
           "arrowhead": 0,
           "arrowwidth": 1
          },
          "autotypenumbers": "strict",
          "coloraxis": {
           "colorbar": {
            "outlinewidth": 0,
            "ticks": ""
           }
          },
          "colorscale": {
           "diverging": [
            [
             0,
             "#8e0152"
            ],
            [
             0.1,
             "#c51b7d"
            ],
            [
             0.2,
             "#de77ae"
            ],
            [
             0.3,
             "#f1b6da"
            ],
            [
             0.4,
             "#fde0ef"
            ],
            [
             0.5,
             "#f7f7f7"
            ],
            [
             0.6,
             "#e6f5d0"
            ],
            [
             0.7,
             "#b8e186"
            ],
            [
             0.8,
             "#7fbc41"
            ],
            [
             0.9,
             "#4d9221"
            ],
            [
             1,
             "#276419"
            ]
           ],
           "sequential": [
            [
             0,
             "#0d0887"
            ],
            [
             0.1111111111111111,
             "#46039f"
            ],
            [
             0.2222222222222222,
             "#7201a8"
            ],
            [
             0.3333333333333333,
             "#9c179e"
            ],
            [
             0.4444444444444444,
             "#bd3786"
            ],
            [
             0.5555555555555556,
             "#d8576b"
            ],
            [
             0.6666666666666666,
             "#ed7953"
            ],
            [
             0.7777777777777778,
             "#fb9f3a"
            ],
            [
             0.8888888888888888,
             "#fdca26"
            ],
            [
             1,
             "#f0f921"
            ]
           ],
           "sequentialminus": [
            [
             0,
             "#0d0887"
            ],
            [
             0.1111111111111111,
             "#46039f"
            ],
            [
             0.2222222222222222,
             "#7201a8"
            ],
            [
             0.3333333333333333,
             "#9c179e"
            ],
            [
             0.4444444444444444,
             "#bd3786"
            ],
            [
             0.5555555555555556,
             "#d8576b"
            ],
            [
             0.6666666666666666,
             "#ed7953"
            ],
            [
             0.7777777777777778,
             "#fb9f3a"
            ],
            [
             0.8888888888888888,
             "#fdca26"
            ],
            [
             1,
             "#f0f921"
            ]
           ]
          },
          "colorway": [
           "#636efa",
           "#EF553B",
           "#00cc96",
           "#ab63fa",
           "#FFA15A",
           "#19d3f3",
           "#FF6692",
           "#B6E880",
           "#FF97FF",
           "#FECB52"
          ],
          "font": {
           "color": "#2a3f5f"
          },
          "geo": {
           "bgcolor": "white",
           "lakecolor": "white",
           "landcolor": "#E5ECF6",
           "showlakes": true,
           "showland": true,
           "subunitcolor": "white"
          },
          "hoverlabel": {
           "align": "left"
          },
          "hovermode": "closest",
          "mapbox": {
           "style": "light"
          },
          "paper_bgcolor": "white",
          "plot_bgcolor": "#E5ECF6",
          "polar": {
           "angularaxis": {
            "gridcolor": "white",
            "linecolor": "white",
            "ticks": ""
           },
           "bgcolor": "#E5ECF6",
           "radialaxis": {
            "gridcolor": "white",
            "linecolor": "white",
            "ticks": ""
           }
          },
          "scene": {
           "xaxis": {
            "backgroundcolor": "#E5ECF6",
            "gridcolor": "white",
            "gridwidth": 2,
            "linecolor": "white",
            "showbackground": true,
            "ticks": "",
            "zerolinecolor": "white"
           },
           "yaxis": {
            "backgroundcolor": "#E5ECF6",
            "gridcolor": "white",
            "gridwidth": 2,
            "linecolor": "white",
            "showbackground": true,
            "ticks": "",
            "zerolinecolor": "white"
           },
           "zaxis": {
            "backgroundcolor": "#E5ECF6",
            "gridcolor": "white",
            "gridwidth": 2,
            "linecolor": "white",
            "showbackground": true,
            "ticks": "",
            "zerolinecolor": "white"
           }
          },
          "shapedefaults": {
           "line": {
            "color": "#2a3f5f"
           }
          },
          "ternary": {
           "aaxis": {
            "gridcolor": "white",
            "linecolor": "white",
            "ticks": ""
           },
           "baxis": {
            "gridcolor": "white",
            "linecolor": "white",
            "ticks": ""
           },
           "bgcolor": "#E5ECF6",
           "caxis": {
            "gridcolor": "white",
            "linecolor": "white",
            "ticks": ""
           }
          },
          "title": {
           "x": 0.05
          },
          "xaxis": {
           "automargin": true,
           "gridcolor": "white",
           "linecolor": "white",
           "ticks": "",
           "title": {
            "standoff": 15
           },
           "zerolinecolor": "white",
           "zerolinewidth": 2
          },
          "yaxis": {
           "automargin": true,
           "gridcolor": "white",
           "linecolor": "white",
           "ticks": "",
           "title": {
            "standoff": 15
           },
           "zerolinecolor": "white",
           "zerolinewidth": 2
          }
         }
        },
        "title": {
         "text": "Box plot : Gdp"
        },
        "xaxis": {
         "anchor": "y",
         "domain": [
          0,
          1
         ],
         "title": {
          "text": "variable"
         }
        },
        "yaxis": {
         "anchor": "x",
         "domain": [
          0,
          1
         ],
         "title": {
          "text": "value"
         }
        }
       }
      }
     },
     "metadata": {},
     "output_type": "display_data"
    },
    {
     "data": {
      "application/vnd.plotly.v1+json": {
       "config": {
        "plotlyServerURL": "https://plot.ly"
       },
       "data": [
        {
         "alignmentgroup": "True",
         "hovertemplate": "variable=%{x}<br>value=%{y}<extra></extra>",
         "legendgroup": "",
         "marker": {
          "color": "rgb(158,202,225)",
          "line": {
           "outliercolor": "rgba(219, 64, 82, 0.6)",
           "outlierwidth": 2
          },
          "outliercolor": "rgba(219, 64, 82, 0.6)"
         },
         "name": "",
         "notched": false,
         "offsetgroup": "",
         "orientation": "v",
         "showlegend": false,
         "type": "box",
         "x": [
          "Population",
          "Population",
          "Population",
          "Population",
          "Population",
          "Population",
          "Population",
          "Population",
          "Population",
          "Population",
          "Population",
          "Population",
          "Population",
          "Population",
          "Population",
          "Population",
          "Population",
          "Population",
          "Population",
          "Population",
          "Population",
          "Population",
          "Population",
          "Population",
          "Population",
          "Population",
          "Population",
          "Population",
          "Population",
          "Population",
          "Population",
          "Population",
          "Population",
          "Population",
          "Population",
          "Population",
          "Population",
          "Population",
          "Population",
          "Population",
          "Population",
          "Population",
          "Population",
          "Population",
          "Population",
          "Population",
          "Population",
          "Population",
          "Population",
          "Population",
          "Population",
          "Population",
          "Population",
          "Population",
          "Population",
          "Population",
          "Population",
          "Population",
          "Population",
          "Population",
          "Population",
          "Population",
          "Population",
          "Population",
          "Population",
          "Population",
          "Population",
          "Population",
          "Population",
          "Population",
          "Population",
          "Population",
          "Population",
          "Population",
          "Population",
          "Population",
          "Population",
          "Population",
          "Population",
          "Population",
          "Population",
          "Population",
          "Population",
          "Population",
          "Population",
          "Population",
          "Population",
          "Population",
          "Population",
          "Population",
          "Population",
          "Population",
          "Population",
          "Population",
          "Population",
          "Population",
          "Population",
          "Population",
          "Population",
          "Population",
          "Population",
          "Population",
          "Population",
          "Population",
          "Population",
          "Population",
          "Population",
          "Population",
          "Population",
          "Population",
          "Population",
          "Population",
          "Population",
          "Population",
          "Population",
          "Population",
          "Population",
          "Population",
          "Population",
          "Population",
          "Population",
          "Population",
          "Population",
          "Population",
          "Population",
          "Population",
          "Population",
          "Population",
          "Population",
          "Population",
          "Population",
          "Population",
          "Population",
          "Population",
          "Population",
          "Population",
          "Population",
          "Population",
          "Population",
          "Population",
          "Population",
          "Population",
          "Population",
          "Population",
          "Population",
          "Population",
          "Population",
          "Population",
          "Population",
          "Population",
          "Population",
          "Population",
          "Population",
          "Population",
          "Population",
          "Population",
          "Population",
          "Population",
          "Population",
          "Population",
          "Population",
          "Population",
          "Population",
          "Population",
          "Population",
          "Population",
          "Population",
          "Population",
          "Population",
          "Population",
          "Population",
          "Population",
          "Population",
          "Population",
          "Population",
          "Population",
          "Population",
          "Population",
          "Population",
          "Population",
          "Population",
          "Population",
          "Population",
          "Population",
          "Population",
          "Population",
          "Population",
          "Population",
          "Population",
          "Population",
          "Population",
          "Population",
          "Population",
          "Population",
          "Population",
          "Population",
          "Population"
         ],
         "x0": " ",
         "xaxis": "x",
         "y": [
          41128771,
          2777689,
          44903225,
          79824,
          35588987,
          93763,
          46234830,
          2780469,
          26005540,
          9041851,
          10141756,
          409984,
          1472233,
          171186372,
          281635,
          9228071,
          11685814,
          405272,
          13352864,
          63532,
          782455,
          12224110,
          3233526,
          2630296,
          215313498,
          31305,
          449002,
          6465097,
          22673762,
          12889576,
          16767842,
          27914536,
          38929902,
          593149,
          68706,
          5579144,
          17723315,
          19603733,
          1412175000,
          51874024,
          836774,
          99010212,
          null,
          5180829,
          3855600,
          11212191,
          1251488,
          10672118,
          5903037,
          1120849,
          72737,
          11228821,
          18001000,
          110990103,
          6336392,
          3684032,
          1348840,
          1201670,
          123379924,
          929766,
          5556106,
          67971311,
          2388992,
          2705992,
          3712502,
          83797985,
          33475870,
          10426919,
          56661,
          125438,
          17357886,
          13859341,
          808726,
          11584996,
          10432860,
          7346100,
          9643048,
          382003,
          1417173173,
          275501339,
          88550570,
          44496122,
          5127170,
          9557500,
          58940425,
          28160542,
          2827377,
          125124989,
          11285869,
          19621972,
          54027487,
          131232,
          4268873,
          null,
          7529475,
          1879383,
          5489739,
          2305825,
          5302681,
          6812341,
          39327,
          2831639,
          653103,
          695168,
          29611714,
          20405317,
          33938221,
          523787,
          22593590,
          531113,
          41569,
          4736139,
          1262523,
          127504125,
          114164,
          2538894,
          3398366,
          617213,
          37457971,
          32969518,
          54179306,
          2567012,
          30547580,
          17700982,
          269220,
          5124100,
          6948392,
          26207977,
          218541212,
          null,
          2057679,
          49551,
          5457127,
          4576298,
          235824862,
          null,
          4408581,
          10142619,
          6780744,
          34049588,
          115559009,
          36821749,
          10409704,
          3221789,
          2695122,
          5970424,
          19047009,
          144236933,
          13776698,
          47657,
          179857,
          103948,
          222382,
          227380,
          36408820,
          17316449,
          6664449,
          119878,
          8605718,
          5637022,
          5431752,
          2111986,
          724273,
          17597511,
          59893885,
          51628117,
          10913164,
          47778340,
          22181000,
          46874204,
          618040,
          10486941,
          8775760,
          22125249,
          null,
          9952787,
          65497748,
          71697030,
          8848699,
          106858,
          12356117,
          84979913,
          6430770,
          45703,
          47249585,
          38000000,
          9441129,
          66971395,
          333287557,
          3422794,
          35648100,
          326740,
          28301696,
          98186856,
          33696614,
          20017675,
          16320537
         ],
         "y0": " ",
         "yaxis": "y"
        }
       ],
       "layout": {
        "boxmode": "group",
        "legend": {
         "tracegroupgap": 0
        },
        "template": {
         "data": {
          "bar": [
           {
            "error_x": {
             "color": "#2a3f5f"
            },
            "error_y": {
             "color": "#2a3f5f"
            },
            "marker": {
             "line": {
              "color": "#E5ECF6",
              "width": 0.5
             },
             "pattern": {
              "fillmode": "overlay",
              "size": 10,
              "solidity": 0.2
             }
            },
            "type": "bar"
           }
          ],
          "barpolar": [
           {
            "marker": {
             "line": {
              "color": "#E5ECF6",
              "width": 0.5
             },
             "pattern": {
              "fillmode": "overlay",
              "size": 10,
              "solidity": 0.2
             }
            },
            "type": "barpolar"
           }
          ],
          "carpet": [
           {
            "aaxis": {
             "endlinecolor": "#2a3f5f",
             "gridcolor": "white",
             "linecolor": "white",
             "minorgridcolor": "white",
             "startlinecolor": "#2a3f5f"
            },
            "baxis": {
             "endlinecolor": "#2a3f5f",
             "gridcolor": "white",
             "linecolor": "white",
             "minorgridcolor": "white",
             "startlinecolor": "#2a3f5f"
            },
            "type": "carpet"
           }
          ],
          "choropleth": [
           {
            "colorbar": {
             "outlinewidth": 0,
             "ticks": ""
            },
            "type": "choropleth"
           }
          ],
          "contour": [
           {
            "colorbar": {
             "outlinewidth": 0,
             "ticks": ""
            },
            "colorscale": [
             [
              0,
              "#0d0887"
             ],
             [
              0.1111111111111111,
              "#46039f"
             ],
             [
              0.2222222222222222,
              "#7201a8"
             ],
             [
              0.3333333333333333,
              "#9c179e"
             ],
             [
              0.4444444444444444,
              "#bd3786"
             ],
             [
              0.5555555555555556,
              "#d8576b"
             ],
             [
              0.6666666666666666,
              "#ed7953"
             ],
             [
              0.7777777777777778,
              "#fb9f3a"
             ],
             [
              0.8888888888888888,
              "#fdca26"
             ],
             [
              1,
              "#f0f921"
             ]
            ],
            "type": "contour"
           }
          ],
          "contourcarpet": [
           {
            "colorbar": {
             "outlinewidth": 0,
             "ticks": ""
            },
            "type": "contourcarpet"
           }
          ],
          "heatmap": [
           {
            "colorbar": {
             "outlinewidth": 0,
             "ticks": ""
            },
            "colorscale": [
             [
              0,
              "#0d0887"
             ],
             [
              0.1111111111111111,
              "#46039f"
             ],
             [
              0.2222222222222222,
              "#7201a8"
             ],
             [
              0.3333333333333333,
              "#9c179e"
             ],
             [
              0.4444444444444444,
              "#bd3786"
             ],
             [
              0.5555555555555556,
              "#d8576b"
             ],
             [
              0.6666666666666666,
              "#ed7953"
             ],
             [
              0.7777777777777778,
              "#fb9f3a"
             ],
             [
              0.8888888888888888,
              "#fdca26"
             ],
             [
              1,
              "#f0f921"
             ]
            ],
            "type": "heatmap"
           }
          ],
          "heatmapgl": [
           {
            "colorbar": {
             "outlinewidth": 0,
             "ticks": ""
            },
            "colorscale": [
             [
              0,
              "#0d0887"
             ],
             [
              0.1111111111111111,
              "#46039f"
             ],
             [
              0.2222222222222222,
              "#7201a8"
             ],
             [
              0.3333333333333333,
              "#9c179e"
             ],
             [
              0.4444444444444444,
              "#bd3786"
             ],
             [
              0.5555555555555556,
              "#d8576b"
             ],
             [
              0.6666666666666666,
              "#ed7953"
             ],
             [
              0.7777777777777778,
              "#fb9f3a"
             ],
             [
              0.8888888888888888,
              "#fdca26"
             ],
             [
              1,
              "#f0f921"
             ]
            ],
            "type": "heatmapgl"
           }
          ],
          "histogram": [
           {
            "marker": {
             "pattern": {
              "fillmode": "overlay",
              "size": 10,
              "solidity": 0.2
             }
            },
            "type": "histogram"
           }
          ],
          "histogram2d": [
           {
            "colorbar": {
             "outlinewidth": 0,
             "ticks": ""
            },
            "colorscale": [
             [
              0,
              "#0d0887"
             ],
             [
              0.1111111111111111,
              "#46039f"
             ],
             [
              0.2222222222222222,
              "#7201a8"
             ],
             [
              0.3333333333333333,
              "#9c179e"
             ],
             [
              0.4444444444444444,
              "#bd3786"
             ],
             [
              0.5555555555555556,
              "#d8576b"
             ],
             [
              0.6666666666666666,
              "#ed7953"
             ],
             [
              0.7777777777777778,
              "#fb9f3a"
             ],
             [
              0.8888888888888888,
              "#fdca26"
             ],
             [
              1,
              "#f0f921"
             ]
            ],
            "type": "histogram2d"
           }
          ],
          "histogram2dcontour": [
           {
            "colorbar": {
             "outlinewidth": 0,
             "ticks": ""
            },
            "colorscale": [
             [
              0,
              "#0d0887"
             ],
             [
              0.1111111111111111,
              "#46039f"
             ],
             [
              0.2222222222222222,
              "#7201a8"
             ],
             [
              0.3333333333333333,
              "#9c179e"
             ],
             [
              0.4444444444444444,
              "#bd3786"
             ],
             [
              0.5555555555555556,
              "#d8576b"
             ],
             [
              0.6666666666666666,
              "#ed7953"
             ],
             [
              0.7777777777777778,
              "#fb9f3a"
             ],
             [
              0.8888888888888888,
              "#fdca26"
             ],
             [
              1,
              "#f0f921"
             ]
            ],
            "type": "histogram2dcontour"
           }
          ],
          "mesh3d": [
           {
            "colorbar": {
             "outlinewidth": 0,
             "ticks": ""
            },
            "type": "mesh3d"
           }
          ],
          "parcoords": [
           {
            "line": {
             "colorbar": {
              "outlinewidth": 0,
              "ticks": ""
             }
            },
            "type": "parcoords"
           }
          ],
          "pie": [
           {
            "automargin": true,
            "type": "pie"
           }
          ],
          "scatter": [
           {
            "fillpattern": {
             "fillmode": "overlay",
             "size": 10,
             "solidity": 0.2
            },
            "type": "scatter"
           }
          ],
          "scatter3d": [
           {
            "line": {
             "colorbar": {
              "outlinewidth": 0,
              "ticks": ""
             }
            },
            "marker": {
             "colorbar": {
              "outlinewidth": 0,
              "ticks": ""
             }
            },
            "type": "scatter3d"
           }
          ],
          "scattercarpet": [
           {
            "marker": {
             "colorbar": {
              "outlinewidth": 0,
              "ticks": ""
             }
            },
            "type": "scattercarpet"
           }
          ],
          "scattergeo": [
           {
            "marker": {
             "colorbar": {
              "outlinewidth": 0,
              "ticks": ""
             }
            },
            "type": "scattergeo"
           }
          ],
          "scattergl": [
           {
            "marker": {
             "colorbar": {
              "outlinewidth": 0,
              "ticks": ""
             }
            },
            "type": "scattergl"
           }
          ],
          "scattermapbox": [
           {
            "marker": {
             "colorbar": {
              "outlinewidth": 0,
              "ticks": ""
             }
            },
            "type": "scattermapbox"
           }
          ],
          "scatterpolar": [
           {
            "marker": {
             "colorbar": {
              "outlinewidth": 0,
              "ticks": ""
             }
            },
            "type": "scatterpolar"
           }
          ],
          "scatterpolargl": [
           {
            "marker": {
             "colorbar": {
              "outlinewidth": 0,
              "ticks": ""
             }
            },
            "type": "scatterpolargl"
           }
          ],
          "scatterternary": [
           {
            "marker": {
             "colorbar": {
              "outlinewidth": 0,
              "ticks": ""
             }
            },
            "type": "scatterternary"
           }
          ],
          "surface": [
           {
            "colorbar": {
             "outlinewidth": 0,
             "ticks": ""
            },
            "colorscale": [
             [
              0,
              "#0d0887"
             ],
             [
              0.1111111111111111,
              "#46039f"
             ],
             [
              0.2222222222222222,
              "#7201a8"
             ],
             [
              0.3333333333333333,
              "#9c179e"
             ],
             [
              0.4444444444444444,
              "#bd3786"
             ],
             [
              0.5555555555555556,
              "#d8576b"
             ],
             [
              0.6666666666666666,
              "#ed7953"
             ],
             [
              0.7777777777777778,
              "#fb9f3a"
             ],
             [
              0.8888888888888888,
              "#fdca26"
             ],
             [
              1,
              "#f0f921"
             ]
            ],
            "type": "surface"
           }
          ],
          "table": [
           {
            "cells": {
             "fill": {
              "color": "#EBF0F8"
             },
             "line": {
              "color": "white"
             }
            },
            "header": {
             "fill": {
              "color": "#C8D4E3"
             },
             "line": {
              "color": "white"
             }
            },
            "type": "table"
           }
          ]
         },
         "layout": {
          "annotationdefaults": {
           "arrowcolor": "#2a3f5f",
           "arrowhead": 0,
           "arrowwidth": 1
          },
          "autotypenumbers": "strict",
          "coloraxis": {
           "colorbar": {
            "outlinewidth": 0,
            "ticks": ""
           }
          },
          "colorscale": {
           "diverging": [
            [
             0,
             "#8e0152"
            ],
            [
             0.1,
             "#c51b7d"
            ],
            [
             0.2,
             "#de77ae"
            ],
            [
             0.3,
             "#f1b6da"
            ],
            [
             0.4,
             "#fde0ef"
            ],
            [
             0.5,
             "#f7f7f7"
            ],
            [
             0.6,
             "#e6f5d0"
            ],
            [
             0.7,
             "#b8e186"
            ],
            [
             0.8,
             "#7fbc41"
            ],
            [
             0.9,
             "#4d9221"
            ],
            [
             1,
             "#276419"
            ]
           ],
           "sequential": [
            [
             0,
             "#0d0887"
            ],
            [
             0.1111111111111111,
             "#46039f"
            ],
            [
             0.2222222222222222,
             "#7201a8"
            ],
            [
             0.3333333333333333,
             "#9c179e"
            ],
            [
             0.4444444444444444,
             "#bd3786"
            ],
            [
             0.5555555555555556,
             "#d8576b"
            ],
            [
             0.6666666666666666,
             "#ed7953"
            ],
            [
             0.7777777777777778,
             "#fb9f3a"
            ],
            [
             0.8888888888888888,
             "#fdca26"
            ],
            [
             1,
             "#f0f921"
            ]
           ],
           "sequentialminus": [
            [
             0,
             "#0d0887"
            ],
            [
             0.1111111111111111,
             "#46039f"
            ],
            [
             0.2222222222222222,
             "#7201a8"
            ],
            [
             0.3333333333333333,
             "#9c179e"
            ],
            [
             0.4444444444444444,
             "#bd3786"
            ],
            [
             0.5555555555555556,
             "#d8576b"
            ],
            [
             0.6666666666666666,
             "#ed7953"
            ],
            [
             0.7777777777777778,
             "#fb9f3a"
            ],
            [
             0.8888888888888888,
             "#fdca26"
            ],
            [
             1,
             "#f0f921"
            ]
           ]
          },
          "colorway": [
           "#636efa",
           "#EF553B",
           "#00cc96",
           "#ab63fa",
           "#FFA15A",
           "#19d3f3",
           "#FF6692",
           "#B6E880",
           "#FF97FF",
           "#FECB52"
          ],
          "font": {
           "color": "#2a3f5f"
          },
          "geo": {
           "bgcolor": "white",
           "lakecolor": "white",
           "landcolor": "#E5ECF6",
           "showlakes": true,
           "showland": true,
           "subunitcolor": "white"
          },
          "hoverlabel": {
           "align": "left"
          },
          "hovermode": "closest",
          "mapbox": {
           "style": "light"
          },
          "paper_bgcolor": "white",
          "plot_bgcolor": "#E5ECF6",
          "polar": {
           "angularaxis": {
            "gridcolor": "white",
            "linecolor": "white",
            "ticks": ""
           },
           "bgcolor": "#E5ECF6",
           "radialaxis": {
            "gridcolor": "white",
            "linecolor": "white",
            "ticks": ""
           }
          },
          "scene": {
           "xaxis": {
            "backgroundcolor": "#E5ECF6",
            "gridcolor": "white",
            "gridwidth": 2,
            "linecolor": "white",
            "showbackground": true,
            "ticks": "",
            "zerolinecolor": "white"
           },
           "yaxis": {
            "backgroundcolor": "#E5ECF6",
            "gridcolor": "white",
            "gridwidth": 2,
            "linecolor": "white",
            "showbackground": true,
            "ticks": "",
            "zerolinecolor": "white"
           },
           "zaxis": {
            "backgroundcolor": "#E5ECF6",
            "gridcolor": "white",
            "gridwidth": 2,
            "linecolor": "white",
            "showbackground": true,
            "ticks": "",
            "zerolinecolor": "white"
           }
          },
          "shapedefaults": {
           "line": {
            "color": "#2a3f5f"
           }
          },
          "ternary": {
           "aaxis": {
            "gridcolor": "white",
            "linecolor": "white",
            "ticks": ""
           },
           "baxis": {
            "gridcolor": "white",
            "linecolor": "white",
            "ticks": ""
           },
           "bgcolor": "#E5ECF6",
           "caxis": {
            "gridcolor": "white",
            "linecolor": "white",
            "ticks": ""
           }
          },
          "title": {
           "x": 0.05
          },
          "xaxis": {
           "automargin": true,
           "gridcolor": "white",
           "linecolor": "white",
           "ticks": "",
           "title": {
            "standoff": 15
           },
           "zerolinecolor": "white",
           "zerolinewidth": 2
          },
          "yaxis": {
           "automargin": true,
           "gridcolor": "white",
           "linecolor": "white",
           "ticks": "",
           "title": {
            "standoff": 15
           },
           "zerolinecolor": "white",
           "zerolinewidth": 2
          }
         }
        },
        "title": {
         "text": "Box plot : Population"
        },
        "xaxis": {
         "anchor": "y",
         "domain": [
          0,
          1
         ],
         "title": {
          "text": "variable"
         }
        },
        "yaxis": {
         "anchor": "x",
         "domain": [
          0,
          1
         ],
         "title": {
          "text": "value"
         }
        }
       }
      }
     },
     "metadata": {},
     "output_type": "display_data"
    },
    {
     "data": {
      "application/vnd.plotly.v1+json": {
       "config": {
        "plotlyServerURL": "https://plot.ly"
       },
       "data": [
        {
         "alignmentgroup": "True",
         "hovertemplate": "variable=%{x}<br>value=%{y}<extra></extra>",
         "legendgroup": "",
         "marker": {
          "color": "rgb(158,202,225)",
          "line": {
           "outliercolor": "rgba(219, 64, 82, 0.6)",
           "outlierwidth": 2
          },
          "outliercolor": "rgba(219, 64, 82, 0.6)"
         },
         "name": "",
         "notched": false,
         "offsetgroup": "",
         "orientation": "v",
         "showlegend": false,
         "type": "box",
         "x": [
          "Literacy_Rate_2021",
          "Literacy_Rate_2021",
          "Literacy_Rate_2021",
          "Literacy_Rate_2021",
          "Literacy_Rate_2021",
          "Literacy_Rate_2021",
          "Literacy_Rate_2021",
          "Literacy_Rate_2021",
          "Literacy_Rate_2021",
          "Literacy_Rate_2021",
          "Literacy_Rate_2021",
          "Literacy_Rate_2021",
          "Literacy_Rate_2021",
          "Literacy_Rate_2021",
          "Literacy_Rate_2021",
          "Literacy_Rate_2021",
          "Literacy_Rate_2021",
          "Literacy_Rate_2021",
          "Literacy_Rate_2021",
          "Literacy_Rate_2021",
          "Literacy_Rate_2021",
          "Literacy_Rate_2021",
          "Literacy_Rate_2021",
          "Literacy_Rate_2021",
          "Literacy_Rate_2021",
          "Literacy_Rate_2021",
          "Literacy_Rate_2021",
          "Literacy_Rate_2021",
          "Literacy_Rate_2021",
          "Literacy_Rate_2021",
          "Literacy_Rate_2021",
          "Literacy_Rate_2021",
          "Literacy_Rate_2021",
          "Literacy_Rate_2021",
          "Literacy_Rate_2021",
          "Literacy_Rate_2021",
          "Literacy_Rate_2021",
          "Literacy_Rate_2021",
          "Literacy_Rate_2021",
          "Literacy_Rate_2021",
          "Literacy_Rate_2021",
          "Literacy_Rate_2021",
          "Literacy_Rate_2021",
          "Literacy_Rate_2021",
          "Literacy_Rate_2021",
          "Literacy_Rate_2021",
          "Literacy_Rate_2021",
          "Literacy_Rate_2021",
          "Literacy_Rate_2021",
          "Literacy_Rate_2021",
          "Literacy_Rate_2021",
          "Literacy_Rate_2021",
          "Literacy_Rate_2021",
          "Literacy_Rate_2021",
          "Literacy_Rate_2021",
          "Literacy_Rate_2021",
          "Literacy_Rate_2021",
          "Literacy_Rate_2021",
          "Literacy_Rate_2021",
          "Literacy_Rate_2021",
          "Literacy_Rate_2021",
          "Literacy_Rate_2021",
          "Literacy_Rate_2021",
          "Literacy_Rate_2021",
          "Literacy_Rate_2021",
          "Literacy_Rate_2021",
          "Literacy_Rate_2021",
          "Literacy_Rate_2021",
          "Literacy_Rate_2021",
          "Literacy_Rate_2021",
          "Literacy_Rate_2021",
          "Literacy_Rate_2021",
          "Literacy_Rate_2021",
          "Literacy_Rate_2021",
          "Literacy_Rate_2021",
          "Literacy_Rate_2021",
          "Literacy_Rate_2021",
          "Literacy_Rate_2021",
          "Literacy_Rate_2021",
          "Literacy_Rate_2021",
          "Literacy_Rate_2021",
          "Literacy_Rate_2021",
          "Literacy_Rate_2021",
          "Literacy_Rate_2021",
          "Literacy_Rate_2021",
          "Literacy_Rate_2021",
          "Literacy_Rate_2021",
          "Literacy_Rate_2021",
          "Literacy_Rate_2021",
          "Literacy_Rate_2021",
          "Literacy_Rate_2021",
          "Literacy_Rate_2021",
          "Literacy_Rate_2021",
          "Literacy_Rate_2021",
          "Literacy_Rate_2021",
          "Literacy_Rate_2021",
          "Literacy_Rate_2021",
          "Literacy_Rate_2021",
          "Literacy_Rate_2021",
          "Literacy_Rate_2021",
          "Literacy_Rate_2021",
          "Literacy_Rate_2021",
          "Literacy_Rate_2021",
          "Literacy_Rate_2021",
          "Literacy_Rate_2021",
          "Literacy_Rate_2021",
          "Literacy_Rate_2021",
          "Literacy_Rate_2021",
          "Literacy_Rate_2021",
          "Literacy_Rate_2021",
          "Literacy_Rate_2021",
          "Literacy_Rate_2021",
          "Literacy_Rate_2021",
          "Literacy_Rate_2021",
          "Literacy_Rate_2021",
          "Literacy_Rate_2021",
          "Literacy_Rate_2021",
          "Literacy_Rate_2021",
          "Literacy_Rate_2021",
          "Literacy_Rate_2021",
          "Literacy_Rate_2021",
          "Literacy_Rate_2021",
          "Literacy_Rate_2021",
          "Literacy_Rate_2021",
          "Literacy_Rate_2021",
          "Literacy_Rate_2021",
          "Literacy_Rate_2021",
          "Literacy_Rate_2021",
          "Literacy_Rate_2021",
          "Literacy_Rate_2021",
          "Literacy_Rate_2021",
          "Literacy_Rate_2021",
          "Literacy_Rate_2021",
          "Literacy_Rate_2021",
          "Literacy_Rate_2021",
          "Literacy_Rate_2021",
          "Literacy_Rate_2021",
          "Literacy_Rate_2021",
          "Literacy_Rate_2021",
          "Literacy_Rate_2021",
          "Literacy_Rate_2021",
          "Literacy_Rate_2021",
          "Literacy_Rate_2021",
          "Literacy_Rate_2021",
          "Literacy_Rate_2021",
          "Literacy_Rate_2021",
          "Literacy_Rate_2021",
          "Literacy_Rate_2021",
          "Literacy_Rate_2021",
          "Literacy_Rate_2021",
          "Literacy_Rate_2021",
          "Literacy_Rate_2021",
          "Literacy_Rate_2021",
          "Literacy_Rate_2021",
          "Literacy_Rate_2021",
          "Literacy_Rate_2021",
          "Literacy_Rate_2021",
          "Literacy_Rate_2021",
          "Literacy_Rate_2021",
          "Literacy_Rate_2021",
          "Literacy_Rate_2021",
          "Literacy_Rate_2021",
          "Literacy_Rate_2021",
          "Literacy_Rate_2021",
          "Literacy_Rate_2021",
          "Literacy_Rate_2021",
          "Literacy_Rate_2021",
          "Literacy_Rate_2021",
          "Literacy_Rate_2021",
          "Literacy_Rate_2021",
          "Literacy_Rate_2021",
          "Literacy_Rate_2021",
          "Literacy_Rate_2021",
          "Literacy_Rate_2021",
          "Literacy_Rate_2021",
          "Literacy_Rate_2021",
          "Literacy_Rate_2021",
          "Literacy_Rate_2021",
          "Literacy_Rate_2021",
          "Literacy_Rate_2021",
          "Literacy_Rate_2021",
          "Literacy_Rate_2021",
          "Literacy_Rate_2021",
          "Literacy_Rate_2021",
          "Literacy_Rate_2021",
          "Literacy_Rate_2021",
          "Literacy_Rate_2021",
          "Literacy_Rate_2021",
          "Literacy_Rate_2021",
          "Literacy_Rate_2021",
          "Literacy_Rate_2021",
          "Literacy_Rate_2021",
          "Literacy_Rate_2021",
          "Literacy_Rate_2021",
          "Literacy_Rate_2021",
          "Literacy_Rate_2021",
          "Literacy_Rate_2021"
         ],
         "x0": " ",
         "xaxis": "x",
         "y": [
          37.27,
          null,
          null,
          null,
          null,
          null,
          null,
          null,
          null,
          null,
          null,
          null,
          null,
          null,
          null,
          null,
          null,
          null,
          null,
          null,
          null,
          null,
          null,
          null,
          null,
          null,
          97.59,
          98.42,
          null,
          null,
          null,
          null,
          null,
          null,
          null,
          null,
          null,
          null,
          null,
          null,
          null,
          null,
          null,
          98.04,
          99.45,
          null,
          99.36,
          null,
          null,
          null,
          null,
          null,
          94.48,
          null,
          null,
          null,
          99.87,
          null,
          null,
          null,
          null,
          null,
          null,
          null,
          null,
          null,
          null,
          null,
          null,
          null,
          null,
          45.33,
          null,
          null,
          null,
          null,
          99.1,
          null,
          null,
          null,
          null,
          null,
          null,
          null,
          null,
          null,
          null,
          null,
          98.42,
          null,
          null,
          null,
          null,
          null,
          null,
          99.89,
          null,
          null,
          null,
          null,
          null,
          99.83,
          null,
          null,
          null,
          null,
          null,
          97.86,
          null,
          94.94,
          null,
          66.96,
          92.15,
          null,
          null,
          99.6,
          null,
          98.98,
          null,
          null,
          null,
          92.25,
          71.15,
          null,
          null,
          null,
          null,
          null,
          null,
          null,
          null,
          null,
          null,
          null,
          null,
          null,
          null,
          null,
          null,
          null,
          null,
          99.8,
          96.78,
          92.4,
          null,
          80.61,
          98.9,
          99.93,
          75.9,
          null,
          null,
          null,
          99.1,
          null,
          null,
          null,
          null,
          null,
          null,
          null,
          null,
          null,
          null,
          null,
          90,
          null,
          null,
          null,
          92.43,
          null,
          95,
          null,
          null,
          null,
          null,
          null,
          null,
          94.1,
          null,
          99.4,
          null,
          null,
          null,
          null,
          null,
          100,
          98.13,
          null,
          null,
          null,
          100,
          89.1,
          null,
          null,
          null,
          null,
          null
         ],
         "y0": " ",
         "yaxis": "y"
        }
       ],
       "layout": {
        "boxmode": "group",
        "legend": {
         "tracegroupgap": 0
        },
        "template": {
         "data": {
          "bar": [
           {
            "error_x": {
             "color": "#2a3f5f"
            },
            "error_y": {
             "color": "#2a3f5f"
            },
            "marker": {
             "line": {
              "color": "#E5ECF6",
              "width": 0.5
             },
             "pattern": {
              "fillmode": "overlay",
              "size": 10,
              "solidity": 0.2
             }
            },
            "type": "bar"
           }
          ],
          "barpolar": [
           {
            "marker": {
             "line": {
              "color": "#E5ECF6",
              "width": 0.5
             },
             "pattern": {
              "fillmode": "overlay",
              "size": 10,
              "solidity": 0.2
             }
            },
            "type": "barpolar"
           }
          ],
          "carpet": [
           {
            "aaxis": {
             "endlinecolor": "#2a3f5f",
             "gridcolor": "white",
             "linecolor": "white",
             "minorgridcolor": "white",
             "startlinecolor": "#2a3f5f"
            },
            "baxis": {
             "endlinecolor": "#2a3f5f",
             "gridcolor": "white",
             "linecolor": "white",
             "minorgridcolor": "white",
             "startlinecolor": "#2a3f5f"
            },
            "type": "carpet"
           }
          ],
          "choropleth": [
           {
            "colorbar": {
             "outlinewidth": 0,
             "ticks": ""
            },
            "type": "choropleth"
           }
          ],
          "contour": [
           {
            "colorbar": {
             "outlinewidth": 0,
             "ticks": ""
            },
            "colorscale": [
             [
              0,
              "#0d0887"
             ],
             [
              0.1111111111111111,
              "#46039f"
             ],
             [
              0.2222222222222222,
              "#7201a8"
             ],
             [
              0.3333333333333333,
              "#9c179e"
             ],
             [
              0.4444444444444444,
              "#bd3786"
             ],
             [
              0.5555555555555556,
              "#d8576b"
             ],
             [
              0.6666666666666666,
              "#ed7953"
             ],
             [
              0.7777777777777778,
              "#fb9f3a"
             ],
             [
              0.8888888888888888,
              "#fdca26"
             ],
             [
              1,
              "#f0f921"
             ]
            ],
            "type": "contour"
           }
          ],
          "contourcarpet": [
           {
            "colorbar": {
             "outlinewidth": 0,
             "ticks": ""
            },
            "type": "contourcarpet"
           }
          ],
          "heatmap": [
           {
            "colorbar": {
             "outlinewidth": 0,
             "ticks": ""
            },
            "colorscale": [
             [
              0,
              "#0d0887"
             ],
             [
              0.1111111111111111,
              "#46039f"
             ],
             [
              0.2222222222222222,
              "#7201a8"
             ],
             [
              0.3333333333333333,
              "#9c179e"
             ],
             [
              0.4444444444444444,
              "#bd3786"
             ],
             [
              0.5555555555555556,
              "#d8576b"
             ],
             [
              0.6666666666666666,
              "#ed7953"
             ],
             [
              0.7777777777777778,
              "#fb9f3a"
             ],
             [
              0.8888888888888888,
              "#fdca26"
             ],
             [
              1,
              "#f0f921"
             ]
            ],
            "type": "heatmap"
           }
          ],
          "heatmapgl": [
           {
            "colorbar": {
             "outlinewidth": 0,
             "ticks": ""
            },
            "colorscale": [
             [
              0,
              "#0d0887"
             ],
             [
              0.1111111111111111,
              "#46039f"
             ],
             [
              0.2222222222222222,
              "#7201a8"
             ],
             [
              0.3333333333333333,
              "#9c179e"
             ],
             [
              0.4444444444444444,
              "#bd3786"
             ],
             [
              0.5555555555555556,
              "#d8576b"
             ],
             [
              0.6666666666666666,
              "#ed7953"
             ],
             [
              0.7777777777777778,
              "#fb9f3a"
             ],
             [
              0.8888888888888888,
              "#fdca26"
             ],
             [
              1,
              "#f0f921"
             ]
            ],
            "type": "heatmapgl"
           }
          ],
          "histogram": [
           {
            "marker": {
             "pattern": {
              "fillmode": "overlay",
              "size": 10,
              "solidity": 0.2
             }
            },
            "type": "histogram"
           }
          ],
          "histogram2d": [
           {
            "colorbar": {
             "outlinewidth": 0,
             "ticks": ""
            },
            "colorscale": [
             [
              0,
              "#0d0887"
             ],
             [
              0.1111111111111111,
              "#46039f"
             ],
             [
              0.2222222222222222,
              "#7201a8"
             ],
             [
              0.3333333333333333,
              "#9c179e"
             ],
             [
              0.4444444444444444,
              "#bd3786"
             ],
             [
              0.5555555555555556,
              "#d8576b"
             ],
             [
              0.6666666666666666,
              "#ed7953"
             ],
             [
              0.7777777777777778,
              "#fb9f3a"
             ],
             [
              0.8888888888888888,
              "#fdca26"
             ],
             [
              1,
              "#f0f921"
             ]
            ],
            "type": "histogram2d"
           }
          ],
          "histogram2dcontour": [
           {
            "colorbar": {
             "outlinewidth": 0,
             "ticks": ""
            },
            "colorscale": [
             [
              0,
              "#0d0887"
             ],
             [
              0.1111111111111111,
              "#46039f"
             ],
             [
              0.2222222222222222,
              "#7201a8"
             ],
             [
              0.3333333333333333,
              "#9c179e"
             ],
             [
              0.4444444444444444,
              "#bd3786"
             ],
             [
              0.5555555555555556,
              "#d8576b"
             ],
             [
              0.6666666666666666,
              "#ed7953"
             ],
             [
              0.7777777777777778,
              "#fb9f3a"
             ],
             [
              0.8888888888888888,
              "#fdca26"
             ],
             [
              1,
              "#f0f921"
             ]
            ],
            "type": "histogram2dcontour"
           }
          ],
          "mesh3d": [
           {
            "colorbar": {
             "outlinewidth": 0,
             "ticks": ""
            },
            "type": "mesh3d"
           }
          ],
          "parcoords": [
           {
            "line": {
             "colorbar": {
              "outlinewidth": 0,
              "ticks": ""
             }
            },
            "type": "parcoords"
           }
          ],
          "pie": [
           {
            "automargin": true,
            "type": "pie"
           }
          ],
          "scatter": [
           {
            "fillpattern": {
             "fillmode": "overlay",
             "size": 10,
             "solidity": 0.2
            },
            "type": "scatter"
           }
          ],
          "scatter3d": [
           {
            "line": {
             "colorbar": {
              "outlinewidth": 0,
              "ticks": ""
             }
            },
            "marker": {
             "colorbar": {
              "outlinewidth": 0,
              "ticks": ""
             }
            },
            "type": "scatter3d"
           }
          ],
          "scattercarpet": [
           {
            "marker": {
             "colorbar": {
              "outlinewidth": 0,
              "ticks": ""
             }
            },
            "type": "scattercarpet"
           }
          ],
          "scattergeo": [
           {
            "marker": {
             "colorbar": {
              "outlinewidth": 0,
              "ticks": ""
             }
            },
            "type": "scattergeo"
           }
          ],
          "scattergl": [
           {
            "marker": {
             "colorbar": {
              "outlinewidth": 0,
              "ticks": ""
             }
            },
            "type": "scattergl"
           }
          ],
          "scattermapbox": [
           {
            "marker": {
             "colorbar": {
              "outlinewidth": 0,
              "ticks": ""
             }
            },
            "type": "scattermapbox"
           }
          ],
          "scatterpolar": [
           {
            "marker": {
             "colorbar": {
              "outlinewidth": 0,
              "ticks": ""
             }
            },
            "type": "scatterpolar"
           }
          ],
          "scatterpolargl": [
           {
            "marker": {
             "colorbar": {
              "outlinewidth": 0,
              "ticks": ""
             }
            },
            "type": "scatterpolargl"
           }
          ],
          "scatterternary": [
           {
            "marker": {
             "colorbar": {
              "outlinewidth": 0,
              "ticks": ""
             }
            },
            "type": "scatterternary"
           }
          ],
          "surface": [
           {
            "colorbar": {
             "outlinewidth": 0,
             "ticks": ""
            },
            "colorscale": [
             [
              0,
              "#0d0887"
             ],
             [
              0.1111111111111111,
              "#46039f"
             ],
             [
              0.2222222222222222,
              "#7201a8"
             ],
             [
              0.3333333333333333,
              "#9c179e"
             ],
             [
              0.4444444444444444,
              "#bd3786"
             ],
             [
              0.5555555555555556,
              "#d8576b"
             ],
             [
              0.6666666666666666,
              "#ed7953"
             ],
             [
              0.7777777777777778,
              "#fb9f3a"
             ],
             [
              0.8888888888888888,
              "#fdca26"
             ],
             [
              1,
              "#f0f921"
             ]
            ],
            "type": "surface"
           }
          ],
          "table": [
           {
            "cells": {
             "fill": {
              "color": "#EBF0F8"
             },
             "line": {
              "color": "white"
             }
            },
            "header": {
             "fill": {
              "color": "#C8D4E3"
             },
             "line": {
              "color": "white"
             }
            },
            "type": "table"
           }
          ]
         },
         "layout": {
          "annotationdefaults": {
           "arrowcolor": "#2a3f5f",
           "arrowhead": 0,
           "arrowwidth": 1
          },
          "autotypenumbers": "strict",
          "coloraxis": {
           "colorbar": {
            "outlinewidth": 0,
            "ticks": ""
           }
          },
          "colorscale": {
           "diverging": [
            [
             0,
             "#8e0152"
            ],
            [
             0.1,
             "#c51b7d"
            ],
            [
             0.2,
             "#de77ae"
            ],
            [
             0.3,
             "#f1b6da"
            ],
            [
             0.4,
             "#fde0ef"
            ],
            [
             0.5,
             "#f7f7f7"
            ],
            [
             0.6,
             "#e6f5d0"
            ],
            [
             0.7,
             "#b8e186"
            ],
            [
             0.8,
             "#7fbc41"
            ],
            [
             0.9,
             "#4d9221"
            ],
            [
             1,
             "#276419"
            ]
           ],
           "sequential": [
            [
             0,
             "#0d0887"
            ],
            [
             0.1111111111111111,
             "#46039f"
            ],
            [
             0.2222222222222222,
             "#7201a8"
            ],
            [
             0.3333333333333333,
             "#9c179e"
            ],
            [
             0.4444444444444444,
             "#bd3786"
            ],
            [
             0.5555555555555556,
             "#d8576b"
            ],
            [
             0.6666666666666666,
             "#ed7953"
            ],
            [
             0.7777777777777778,
             "#fb9f3a"
            ],
            [
             0.8888888888888888,
             "#fdca26"
            ],
            [
             1,
             "#f0f921"
            ]
           ],
           "sequentialminus": [
            [
             0,
             "#0d0887"
            ],
            [
             0.1111111111111111,
             "#46039f"
            ],
            [
             0.2222222222222222,
             "#7201a8"
            ],
            [
             0.3333333333333333,
             "#9c179e"
            ],
            [
             0.4444444444444444,
             "#bd3786"
            ],
            [
             0.5555555555555556,
             "#d8576b"
            ],
            [
             0.6666666666666666,
             "#ed7953"
            ],
            [
             0.7777777777777778,
             "#fb9f3a"
            ],
            [
             0.8888888888888888,
             "#fdca26"
            ],
            [
             1,
             "#f0f921"
            ]
           ]
          },
          "colorway": [
           "#636efa",
           "#EF553B",
           "#00cc96",
           "#ab63fa",
           "#FFA15A",
           "#19d3f3",
           "#FF6692",
           "#B6E880",
           "#FF97FF",
           "#FECB52"
          ],
          "font": {
           "color": "#2a3f5f"
          },
          "geo": {
           "bgcolor": "white",
           "lakecolor": "white",
           "landcolor": "#E5ECF6",
           "showlakes": true,
           "showland": true,
           "subunitcolor": "white"
          },
          "hoverlabel": {
           "align": "left"
          },
          "hovermode": "closest",
          "mapbox": {
           "style": "light"
          },
          "paper_bgcolor": "white",
          "plot_bgcolor": "#E5ECF6",
          "polar": {
           "angularaxis": {
            "gridcolor": "white",
            "linecolor": "white",
            "ticks": ""
           },
           "bgcolor": "#E5ECF6",
           "radialaxis": {
            "gridcolor": "white",
            "linecolor": "white",
            "ticks": ""
           }
          },
          "scene": {
           "xaxis": {
            "backgroundcolor": "#E5ECF6",
            "gridcolor": "white",
            "gridwidth": 2,
            "linecolor": "white",
            "showbackground": true,
            "ticks": "",
            "zerolinecolor": "white"
           },
           "yaxis": {
            "backgroundcolor": "#E5ECF6",
            "gridcolor": "white",
            "gridwidth": 2,
            "linecolor": "white",
            "showbackground": true,
            "ticks": "",
            "zerolinecolor": "white"
           },
           "zaxis": {
            "backgroundcolor": "#E5ECF6",
            "gridcolor": "white",
            "gridwidth": 2,
            "linecolor": "white",
            "showbackground": true,
            "ticks": "",
            "zerolinecolor": "white"
           }
          },
          "shapedefaults": {
           "line": {
            "color": "#2a3f5f"
           }
          },
          "ternary": {
           "aaxis": {
            "gridcolor": "white",
            "linecolor": "white",
            "ticks": ""
           },
           "baxis": {
            "gridcolor": "white",
            "linecolor": "white",
            "ticks": ""
           },
           "bgcolor": "#E5ECF6",
           "caxis": {
            "gridcolor": "white",
            "linecolor": "white",
            "ticks": ""
           }
          },
          "title": {
           "x": 0.05
          },
          "xaxis": {
           "automargin": true,
           "gridcolor": "white",
           "linecolor": "white",
           "ticks": "",
           "title": {
            "standoff": 15
           },
           "zerolinecolor": "white",
           "zerolinewidth": 2
          },
          "yaxis": {
           "automargin": true,
           "gridcolor": "white",
           "linecolor": "white",
           "ticks": "",
           "title": {
            "standoff": 15
           },
           "zerolinecolor": "white",
           "zerolinewidth": 2
          }
         }
        },
        "title": {
         "text": "Box plot : Literacy_Rate_2021"
        },
        "xaxis": {
         "anchor": "y",
         "domain": [
          0,
          1
         ],
         "title": {
          "text": "variable"
         }
        },
        "yaxis": {
         "anchor": "x",
         "domain": [
          0,
          1
         ],
         "title": {
          "text": "value"
         }
        }
       }
      }
     },
     "metadata": {},
     "output_type": "display_data"
    },
    {
     "data": {
      "application/vnd.plotly.v1+json": {
       "config": {
        "plotlyServerURL": "https://plot.ly"
       },
       "data": [
        {
         "alignmentgroup": "True",
         "hovertemplate": "variable=%{x}<br>value=%{y}<extra></extra>",
         "legendgroup": "",
         "marker": {
          "color": "rgb(158,202,225)",
          "line": {
           "outliercolor": "rgba(219, 64, 82, 0.6)",
           "outlierwidth": 2
          },
          "outliercolor": "rgba(219, 64, 82, 0.6)"
         },
         "name": "",
         "notched": false,
         "offsetgroup": "",
         "orientation": "v",
         "showlegend": false,
         "type": "box",
         "x": [
          "Education_Spending_2021",
          "Education_Spending_2021",
          "Education_Spending_2021",
          "Education_Spending_2021",
          "Education_Spending_2021",
          "Education_Spending_2021",
          "Education_Spending_2021",
          "Education_Spending_2021",
          "Education_Spending_2021",
          "Education_Spending_2021",
          "Education_Spending_2021",
          "Education_Spending_2021",
          "Education_Spending_2021",
          "Education_Spending_2021",
          "Education_Spending_2021",
          "Education_Spending_2021",
          "Education_Spending_2021",
          "Education_Spending_2021",
          "Education_Spending_2021",
          "Education_Spending_2021",
          "Education_Spending_2021",
          "Education_Spending_2021",
          "Education_Spending_2021",
          "Education_Spending_2021",
          "Education_Spending_2021",
          "Education_Spending_2021",
          "Education_Spending_2021",
          "Education_Spending_2021",
          "Education_Spending_2021",
          "Education_Spending_2021",
          "Education_Spending_2021",
          "Education_Spending_2021",
          "Education_Spending_2021",
          "Education_Spending_2021",
          "Education_Spending_2021",
          "Education_Spending_2021",
          "Education_Spending_2021",
          "Education_Spending_2021",
          "Education_Spending_2021",
          "Education_Spending_2021",
          "Education_Spending_2021",
          "Education_Spending_2021",
          "Education_Spending_2021",
          "Education_Spending_2021",
          "Education_Spending_2021",
          "Education_Spending_2021",
          "Education_Spending_2021",
          "Education_Spending_2021",
          "Education_Spending_2021",
          "Education_Spending_2021",
          "Education_Spending_2021",
          "Education_Spending_2021",
          "Education_Spending_2021",
          "Education_Spending_2021",
          "Education_Spending_2021",
          "Education_Spending_2021",
          "Education_Spending_2021",
          "Education_Spending_2021",
          "Education_Spending_2021",
          "Education_Spending_2021",
          "Education_Spending_2021",
          "Education_Spending_2021",
          "Education_Spending_2021",
          "Education_Spending_2021",
          "Education_Spending_2021",
          "Education_Spending_2021",
          "Education_Spending_2021",
          "Education_Spending_2021",
          "Education_Spending_2021",
          "Education_Spending_2021",
          "Education_Spending_2021",
          "Education_Spending_2021",
          "Education_Spending_2021",
          "Education_Spending_2021",
          "Education_Spending_2021",
          "Education_Spending_2021",
          "Education_Spending_2021",
          "Education_Spending_2021",
          "Education_Spending_2021",
          "Education_Spending_2021",
          "Education_Spending_2021",
          "Education_Spending_2021",
          "Education_Spending_2021",
          "Education_Spending_2021",
          "Education_Spending_2021",
          "Education_Spending_2021",
          "Education_Spending_2021",
          "Education_Spending_2021",
          "Education_Spending_2021",
          "Education_Spending_2021",
          "Education_Spending_2021",
          "Education_Spending_2021",
          "Education_Spending_2021",
          "Education_Spending_2021",
          "Education_Spending_2021",
          "Education_Spending_2021",
          "Education_Spending_2021",
          "Education_Spending_2021",
          "Education_Spending_2021",
          "Education_Spending_2021",
          "Education_Spending_2021",
          "Education_Spending_2021",
          "Education_Spending_2021",
          "Education_Spending_2021",
          "Education_Spending_2021",
          "Education_Spending_2021",
          "Education_Spending_2021",
          "Education_Spending_2021",
          "Education_Spending_2021",
          "Education_Spending_2021",
          "Education_Spending_2021",
          "Education_Spending_2021",
          "Education_Spending_2021",
          "Education_Spending_2021",
          "Education_Spending_2021",
          "Education_Spending_2021",
          "Education_Spending_2021",
          "Education_Spending_2021",
          "Education_Spending_2021",
          "Education_Spending_2021",
          "Education_Spending_2021",
          "Education_Spending_2021",
          "Education_Spending_2021",
          "Education_Spending_2021",
          "Education_Spending_2021",
          "Education_Spending_2021",
          "Education_Spending_2021",
          "Education_Spending_2021",
          "Education_Spending_2021",
          "Education_Spending_2021",
          "Education_Spending_2021",
          "Education_Spending_2021",
          "Education_Spending_2021",
          "Education_Spending_2021",
          "Education_Spending_2021",
          "Education_Spending_2021",
          "Education_Spending_2021",
          "Education_Spending_2021",
          "Education_Spending_2021",
          "Education_Spending_2021",
          "Education_Spending_2021",
          "Education_Spending_2021",
          "Education_Spending_2021",
          "Education_Spending_2021",
          "Education_Spending_2021",
          "Education_Spending_2021",
          "Education_Spending_2021",
          "Education_Spending_2021",
          "Education_Spending_2021",
          "Education_Spending_2021",
          "Education_Spending_2021",
          "Education_Spending_2021",
          "Education_Spending_2021",
          "Education_Spending_2021",
          "Education_Spending_2021",
          "Education_Spending_2021",
          "Education_Spending_2021",
          "Education_Spending_2021",
          "Education_Spending_2021",
          "Education_Spending_2021",
          "Education_Spending_2021",
          "Education_Spending_2021",
          "Education_Spending_2021",
          "Education_Spending_2021",
          "Education_Spending_2021",
          "Education_Spending_2021",
          "Education_Spending_2021",
          "Education_Spending_2021",
          "Education_Spending_2021",
          "Education_Spending_2021",
          "Education_Spending_2021",
          "Education_Spending_2021",
          "Education_Spending_2021",
          "Education_Spending_2021",
          "Education_Spending_2021",
          "Education_Spending_2021",
          "Education_Spending_2021",
          "Education_Spending_2021",
          "Education_Spending_2021",
          "Education_Spending_2021",
          "Education_Spending_2021",
          "Education_Spending_2021",
          "Education_Spending_2021",
          "Education_Spending_2021",
          "Education_Spending_2021",
          "Education_Spending_2021",
          "Education_Spending_2021",
          "Education_Spending_2021",
          "Education_Spending_2021",
          "Education_Spending_2021",
          "Education_Spending_2021",
          "Education_Spending_2021",
          "Education_Spending_2021",
          "Education_Spending_2021",
          "Education_Spending_2021",
          "Education_Spending_2021",
          "Education_Spending_2021"
         ],
         "x0": " ",
         "xaxis": "x",
         "y": [
          null,
          3.09,
          6.3,
          2.58,
          2.3,
          3.88,
          4.65,
          2.77,
          5.56,
          4.99,
          3.7,
          3.57,
          2.22,
          1.83,
          4.98,
          4.61,
          6.23,
          5.86,
          3.19,
          1.88,
          6.97,
          null,
          null,
          null,
          null,
          null,
          null,
          4.49,
          5.22,
          4.87,
          1.67,
          2.83,
          4.59,
          6.04,
          null,
          1.87,
          2.89,
          null,
          3.3,
          null,
          2.27,
          2.66,
          null,
          6.28,
          5.2,
          null,
          5.62,
          5.05,
          6.04,
          null,
          5.47,
          3.75,
          3.69,
          null,
          3.53,
          null,
          5.91,
          5.29,
          4.07,
          5.97,
          5.69,
          5.25,
          2.7,
          2.94,
          3.64,
          4.53,
          3.42,
          4.06,
          null,
          4.09,
          3.11,
          2.04,
          null,
          1.84,
          5.81,
          4,
          5,
          7.73,
          4.64,
          3.05,
          null,
          null,
          2.98,
          7.42,
          4.13,
          3.37,
          5.63,
          3.32,
          3.22,
          4.39,
          4.59,
          15.59,
          null,
          6.53,
          1.86,
          5.7,
          null,
          7.51,
          2.53,
          null,
          null,
          4.84,
          4.64,
          5.25,
          3.2,
          null,
          4.27,
          4.48,
          4.36,
          5.63,
          null,
          1.75,
          4.67,
          null,
          null,
          5.82,
          3.34,
          null,
          5.6,
          7.03,
          null,
          10.03,
          3.96,
          5.14,
          null,
          5.54,
          4.09,
          3.82,
          null,
          null,
          null,
          null,
          5.04,
          null,
          1.69,
          5.43,
          3.27,
          null,
          3.41,
          3.97,
          3.88,
          4.94,
          4.71,
          null,
          null,
          3.67,
          3.25,
          null,
          5.59,
          null,
          null,
          null,
          null,
          5.52,
          null,
          5.59,
          3.3,
          5.62,
          9.44,
          2.83,
          4.4,
          5.67,
          null,
          null,
          6.56,
          null,
          null,
          4.59,
          1.51,
          null,
          3.81,
          6.68,
          5.04,
          null,
          null,
          5.54,
          3.12,
          2.99,
          4.23,
          4.93,
          null,
          2.85,
          null,
          null,
          2.64,
          5.74,
          3.9,
          5.33,
          null,
          4.41,
          5.37,
          null,
          null,
          2.95,
          null,
          3.11,
          null
         ],
         "y0": " ",
         "yaxis": "y"
        }
       ],
       "layout": {
        "boxmode": "group",
        "legend": {
         "tracegroupgap": 0
        },
        "template": {
         "data": {
          "bar": [
           {
            "error_x": {
             "color": "#2a3f5f"
            },
            "error_y": {
             "color": "#2a3f5f"
            },
            "marker": {
             "line": {
              "color": "#E5ECF6",
              "width": 0.5
             },
             "pattern": {
              "fillmode": "overlay",
              "size": 10,
              "solidity": 0.2
             }
            },
            "type": "bar"
           }
          ],
          "barpolar": [
           {
            "marker": {
             "line": {
              "color": "#E5ECF6",
              "width": 0.5
             },
             "pattern": {
              "fillmode": "overlay",
              "size": 10,
              "solidity": 0.2
             }
            },
            "type": "barpolar"
           }
          ],
          "carpet": [
           {
            "aaxis": {
             "endlinecolor": "#2a3f5f",
             "gridcolor": "white",
             "linecolor": "white",
             "minorgridcolor": "white",
             "startlinecolor": "#2a3f5f"
            },
            "baxis": {
             "endlinecolor": "#2a3f5f",
             "gridcolor": "white",
             "linecolor": "white",
             "minorgridcolor": "white",
             "startlinecolor": "#2a3f5f"
            },
            "type": "carpet"
           }
          ],
          "choropleth": [
           {
            "colorbar": {
             "outlinewidth": 0,
             "ticks": ""
            },
            "type": "choropleth"
           }
          ],
          "contour": [
           {
            "colorbar": {
             "outlinewidth": 0,
             "ticks": ""
            },
            "colorscale": [
             [
              0,
              "#0d0887"
             ],
             [
              0.1111111111111111,
              "#46039f"
             ],
             [
              0.2222222222222222,
              "#7201a8"
             ],
             [
              0.3333333333333333,
              "#9c179e"
             ],
             [
              0.4444444444444444,
              "#bd3786"
             ],
             [
              0.5555555555555556,
              "#d8576b"
             ],
             [
              0.6666666666666666,
              "#ed7953"
             ],
             [
              0.7777777777777778,
              "#fb9f3a"
             ],
             [
              0.8888888888888888,
              "#fdca26"
             ],
             [
              1,
              "#f0f921"
             ]
            ],
            "type": "contour"
           }
          ],
          "contourcarpet": [
           {
            "colorbar": {
             "outlinewidth": 0,
             "ticks": ""
            },
            "type": "contourcarpet"
           }
          ],
          "heatmap": [
           {
            "colorbar": {
             "outlinewidth": 0,
             "ticks": ""
            },
            "colorscale": [
             [
              0,
              "#0d0887"
             ],
             [
              0.1111111111111111,
              "#46039f"
             ],
             [
              0.2222222222222222,
              "#7201a8"
             ],
             [
              0.3333333333333333,
              "#9c179e"
             ],
             [
              0.4444444444444444,
              "#bd3786"
             ],
             [
              0.5555555555555556,
              "#d8576b"
             ],
             [
              0.6666666666666666,
              "#ed7953"
             ],
             [
              0.7777777777777778,
              "#fb9f3a"
             ],
             [
              0.8888888888888888,
              "#fdca26"
             ],
             [
              1,
              "#f0f921"
             ]
            ],
            "type": "heatmap"
           }
          ],
          "heatmapgl": [
           {
            "colorbar": {
             "outlinewidth": 0,
             "ticks": ""
            },
            "colorscale": [
             [
              0,
              "#0d0887"
             ],
             [
              0.1111111111111111,
              "#46039f"
             ],
             [
              0.2222222222222222,
              "#7201a8"
             ],
             [
              0.3333333333333333,
              "#9c179e"
             ],
             [
              0.4444444444444444,
              "#bd3786"
             ],
             [
              0.5555555555555556,
              "#d8576b"
             ],
             [
              0.6666666666666666,
              "#ed7953"
             ],
             [
              0.7777777777777778,
              "#fb9f3a"
             ],
             [
              0.8888888888888888,
              "#fdca26"
             ],
             [
              1,
              "#f0f921"
             ]
            ],
            "type": "heatmapgl"
           }
          ],
          "histogram": [
           {
            "marker": {
             "pattern": {
              "fillmode": "overlay",
              "size": 10,
              "solidity": 0.2
             }
            },
            "type": "histogram"
           }
          ],
          "histogram2d": [
           {
            "colorbar": {
             "outlinewidth": 0,
             "ticks": ""
            },
            "colorscale": [
             [
              0,
              "#0d0887"
             ],
             [
              0.1111111111111111,
              "#46039f"
             ],
             [
              0.2222222222222222,
              "#7201a8"
             ],
             [
              0.3333333333333333,
              "#9c179e"
             ],
             [
              0.4444444444444444,
              "#bd3786"
             ],
             [
              0.5555555555555556,
              "#d8576b"
             ],
             [
              0.6666666666666666,
              "#ed7953"
             ],
             [
              0.7777777777777778,
              "#fb9f3a"
             ],
             [
              0.8888888888888888,
              "#fdca26"
             ],
             [
              1,
              "#f0f921"
             ]
            ],
            "type": "histogram2d"
           }
          ],
          "histogram2dcontour": [
           {
            "colorbar": {
             "outlinewidth": 0,
             "ticks": ""
            },
            "colorscale": [
             [
              0,
              "#0d0887"
             ],
             [
              0.1111111111111111,
              "#46039f"
             ],
             [
              0.2222222222222222,
              "#7201a8"
             ],
             [
              0.3333333333333333,
              "#9c179e"
             ],
             [
              0.4444444444444444,
              "#bd3786"
             ],
             [
              0.5555555555555556,
              "#d8576b"
             ],
             [
              0.6666666666666666,
              "#ed7953"
             ],
             [
              0.7777777777777778,
              "#fb9f3a"
             ],
             [
              0.8888888888888888,
              "#fdca26"
             ],
             [
              1,
              "#f0f921"
             ]
            ],
            "type": "histogram2dcontour"
           }
          ],
          "mesh3d": [
           {
            "colorbar": {
             "outlinewidth": 0,
             "ticks": ""
            },
            "type": "mesh3d"
           }
          ],
          "parcoords": [
           {
            "line": {
             "colorbar": {
              "outlinewidth": 0,
              "ticks": ""
             }
            },
            "type": "parcoords"
           }
          ],
          "pie": [
           {
            "automargin": true,
            "type": "pie"
           }
          ],
          "scatter": [
           {
            "fillpattern": {
             "fillmode": "overlay",
             "size": 10,
             "solidity": 0.2
            },
            "type": "scatter"
           }
          ],
          "scatter3d": [
           {
            "line": {
             "colorbar": {
              "outlinewidth": 0,
              "ticks": ""
             }
            },
            "marker": {
             "colorbar": {
              "outlinewidth": 0,
              "ticks": ""
             }
            },
            "type": "scatter3d"
           }
          ],
          "scattercarpet": [
           {
            "marker": {
             "colorbar": {
              "outlinewidth": 0,
              "ticks": ""
             }
            },
            "type": "scattercarpet"
           }
          ],
          "scattergeo": [
           {
            "marker": {
             "colorbar": {
              "outlinewidth": 0,
              "ticks": ""
             }
            },
            "type": "scattergeo"
           }
          ],
          "scattergl": [
           {
            "marker": {
             "colorbar": {
              "outlinewidth": 0,
              "ticks": ""
             }
            },
            "type": "scattergl"
           }
          ],
          "scattermapbox": [
           {
            "marker": {
             "colorbar": {
              "outlinewidth": 0,
              "ticks": ""
             }
            },
            "type": "scattermapbox"
           }
          ],
          "scatterpolar": [
           {
            "marker": {
             "colorbar": {
              "outlinewidth": 0,
              "ticks": ""
             }
            },
            "type": "scatterpolar"
           }
          ],
          "scatterpolargl": [
           {
            "marker": {
             "colorbar": {
              "outlinewidth": 0,
              "ticks": ""
             }
            },
            "type": "scatterpolargl"
           }
          ],
          "scatterternary": [
           {
            "marker": {
             "colorbar": {
              "outlinewidth": 0,
              "ticks": ""
             }
            },
            "type": "scatterternary"
           }
          ],
          "surface": [
           {
            "colorbar": {
             "outlinewidth": 0,
             "ticks": ""
            },
            "colorscale": [
             [
              0,
              "#0d0887"
             ],
             [
              0.1111111111111111,
              "#46039f"
             ],
             [
              0.2222222222222222,
              "#7201a8"
             ],
             [
              0.3333333333333333,
              "#9c179e"
             ],
             [
              0.4444444444444444,
              "#bd3786"
             ],
             [
              0.5555555555555556,
              "#d8576b"
             ],
             [
              0.6666666666666666,
              "#ed7953"
             ],
             [
              0.7777777777777778,
              "#fb9f3a"
             ],
             [
              0.8888888888888888,
              "#fdca26"
             ],
             [
              1,
              "#f0f921"
             ]
            ],
            "type": "surface"
           }
          ],
          "table": [
           {
            "cells": {
             "fill": {
              "color": "#EBF0F8"
             },
             "line": {
              "color": "white"
             }
            },
            "header": {
             "fill": {
              "color": "#C8D4E3"
             },
             "line": {
              "color": "white"
             }
            },
            "type": "table"
           }
          ]
         },
         "layout": {
          "annotationdefaults": {
           "arrowcolor": "#2a3f5f",
           "arrowhead": 0,
           "arrowwidth": 1
          },
          "autotypenumbers": "strict",
          "coloraxis": {
           "colorbar": {
            "outlinewidth": 0,
            "ticks": ""
           }
          },
          "colorscale": {
           "diverging": [
            [
             0,
             "#8e0152"
            ],
            [
             0.1,
             "#c51b7d"
            ],
            [
             0.2,
             "#de77ae"
            ],
            [
             0.3,
             "#f1b6da"
            ],
            [
             0.4,
             "#fde0ef"
            ],
            [
             0.5,
             "#f7f7f7"
            ],
            [
             0.6,
             "#e6f5d0"
            ],
            [
             0.7,
             "#b8e186"
            ],
            [
             0.8,
             "#7fbc41"
            ],
            [
             0.9,
             "#4d9221"
            ],
            [
             1,
             "#276419"
            ]
           ],
           "sequential": [
            [
             0,
             "#0d0887"
            ],
            [
             0.1111111111111111,
             "#46039f"
            ],
            [
             0.2222222222222222,
             "#7201a8"
            ],
            [
             0.3333333333333333,
             "#9c179e"
            ],
            [
             0.4444444444444444,
             "#bd3786"
            ],
            [
             0.5555555555555556,
             "#d8576b"
            ],
            [
             0.6666666666666666,
             "#ed7953"
            ],
            [
             0.7777777777777778,
             "#fb9f3a"
            ],
            [
             0.8888888888888888,
             "#fdca26"
            ],
            [
             1,
             "#f0f921"
            ]
           ],
           "sequentialminus": [
            [
             0,
             "#0d0887"
            ],
            [
             0.1111111111111111,
             "#46039f"
            ],
            [
             0.2222222222222222,
             "#7201a8"
            ],
            [
             0.3333333333333333,
             "#9c179e"
            ],
            [
             0.4444444444444444,
             "#bd3786"
            ],
            [
             0.5555555555555556,
             "#d8576b"
            ],
            [
             0.6666666666666666,
             "#ed7953"
            ],
            [
             0.7777777777777778,
             "#fb9f3a"
            ],
            [
             0.8888888888888888,
             "#fdca26"
            ],
            [
             1,
             "#f0f921"
            ]
           ]
          },
          "colorway": [
           "#636efa",
           "#EF553B",
           "#00cc96",
           "#ab63fa",
           "#FFA15A",
           "#19d3f3",
           "#FF6692",
           "#B6E880",
           "#FF97FF",
           "#FECB52"
          ],
          "font": {
           "color": "#2a3f5f"
          },
          "geo": {
           "bgcolor": "white",
           "lakecolor": "white",
           "landcolor": "#E5ECF6",
           "showlakes": true,
           "showland": true,
           "subunitcolor": "white"
          },
          "hoverlabel": {
           "align": "left"
          },
          "hovermode": "closest",
          "mapbox": {
           "style": "light"
          },
          "paper_bgcolor": "white",
          "plot_bgcolor": "#E5ECF6",
          "polar": {
           "angularaxis": {
            "gridcolor": "white",
            "linecolor": "white",
            "ticks": ""
           },
           "bgcolor": "#E5ECF6",
           "radialaxis": {
            "gridcolor": "white",
            "linecolor": "white",
            "ticks": ""
           }
          },
          "scene": {
           "xaxis": {
            "backgroundcolor": "#E5ECF6",
            "gridcolor": "white",
            "gridwidth": 2,
            "linecolor": "white",
            "showbackground": true,
            "ticks": "",
            "zerolinecolor": "white"
           },
           "yaxis": {
            "backgroundcolor": "#E5ECF6",
            "gridcolor": "white",
            "gridwidth": 2,
            "linecolor": "white",
            "showbackground": true,
            "ticks": "",
            "zerolinecolor": "white"
           },
           "zaxis": {
            "backgroundcolor": "#E5ECF6",
            "gridcolor": "white",
            "gridwidth": 2,
            "linecolor": "white",
            "showbackground": true,
            "ticks": "",
            "zerolinecolor": "white"
           }
          },
          "shapedefaults": {
           "line": {
            "color": "#2a3f5f"
           }
          },
          "ternary": {
           "aaxis": {
            "gridcolor": "white",
            "linecolor": "white",
            "ticks": ""
           },
           "baxis": {
            "gridcolor": "white",
            "linecolor": "white",
            "ticks": ""
           },
           "bgcolor": "#E5ECF6",
           "caxis": {
            "gridcolor": "white",
            "linecolor": "white",
            "ticks": ""
           }
          },
          "title": {
           "x": 0.05
          },
          "xaxis": {
           "automargin": true,
           "gridcolor": "white",
           "linecolor": "white",
           "ticks": "",
           "title": {
            "standoff": 15
           },
           "zerolinecolor": "white",
           "zerolinewidth": 2
          },
          "yaxis": {
           "automargin": true,
           "gridcolor": "white",
           "linecolor": "white",
           "ticks": "",
           "title": {
            "standoff": 15
           },
           "zerolinecolor": "white",
           "zerolinewidth": 2
          }
         }
        },
        "title": {
         "text": "Box plot : Education_Spending_2021"
        },
        "xaxis": {
         "anchor": "y",
         "domain": [
          0,
          1
         ],
         "title": {
          "text": "variable"
         }
        },
        "yaxis": {
         "anchor": "x",
         "domain": [
          0,
          1
         ],
         "title": {
          "text": "value"
         }
        }
       }
      }
     },
     "metadata": {},
     "output_type": "display_data"
    },
    {
     "data": {
      "application/vnd.plotly.v1+json": {
       "config": {
        "plotlyServerURL": "https://plot.ly"
       },
       "data": [
        {
         "alignmentgroup": "True",
         "hovertemplate": "variable=%{x}<br>value=%{y}<extra></extra>",
         "legendgroup": "",
         "marker": {
          "color": "rgb(158,202,225)",
          "line": {
           "outliercolor": "rgba(219, 64, 82, 0.6)",
           "outlierwidth": 2
          },
          "outliercolor": "rgba(219, 64, 82, 0.6)"
         },
         "name": "",
         "notched": false,
         "offsetgroup": "",
         "orientation": "v",
         "showlegend": false,
         "type": "box",
         "x": [
          "Annee_Souverainete",
          "Annee_Souverainete",
          "Annee_Souverainete",
          "Annee_Souverainete",
          "Annee_Souverainete",
          "Annee_Souverainete",
          "Annee_Souverainete",
          "Annee_Souverainete",
          "Annee_Souverainete",
          "Annee_Souverainete",
          "Annee_Souverainete",
          "Annee_Souverainete",
          "Annee_Souverainete",
          "Annee_Souverainete",
          "Annee_Souverainete",
          "Annee_Souverainete",
          "Annee_Souverainete",
          "Annee_Souverainete",
          "Annee_Souverainete",
          "Annee_Souverainete",
          "Annee_Souverainete",
          "Annee_Souverainete",
          "Annee_Souverainete",
          "Annee_Souverainete",
          "Annee_Souverainete",
          "Annee_Souverainete",
          "Annee_Souverainete",
          "Annee_Souverainete",
          "Annee_Souverainete",
          "Annee_Souverainete",
          "Annee_Souverainete",
          "Annee_Souverainete",
          "Annee_Souverainete",
          "Annee_Souverainete",
          "Annee_Souverainete",
          "Annee_Souverainete",
          "Annee_Souverainete",
          "Annee_Souverainete",
          "Annee_Souverainete",
          "Annee_Souverainete",
          "Annee_Souverainete",
          "Annee_Souverainete",
          "Annee_Souverainete",
          "Annee_Souverainete",
          "Annee_Souverainete",
          "Annee_Souverainete",
          "Annee_Souverainete",
          "Annee_Souverainete",
          "Annee_Souverainete",
          "Annee_Souverainete",
          "Annee_Souverainete",
          "Annee_Souverainete",
          "Annee_Souverainete",
          "Annee_Souverainete",
          "Annee_Souverainete",
          "Annee_Souverainete",
          "Annee_Souverainete",
          "Annee_Souverainete",
          "Annee_Souverainete",
          "Annee_Souverainete",
          "Annee_Souverainete",
          "Annee_Souverainete",
          "Annee_Souverainete",
          "Annee_Souverainete",
          "Annee_Souverainete",
          "Annee_Souverainete",
          "Annee_Souverainete",
          "Annee_Souverainete",
          "Annee_Souverainete",
          "Annee_Souverainete",
          "Annee_Souverainete",
          "Annee_Souverainete",
          "Annee_Souverainete",
          "Annee_Souverainete",
          "Annee_Souverainete",
          "Annee_Souverainete",
          "Annee_Souverainete",
          "Annee_Souverainete",
          "Annee_Souverainete",
          "Annee_Souverainete",
          "Annee_Souverainete",
          "Annee_Souverainete",
          "Annee_Souverainete",
          "Annee_Souverainete",
          "Annee_Souverainete",
          "Annee_Souverainete",
          "Annee_Souverainete",
          "Annee_Souverainete",
          "Annee_Souverainete",
          "Annee_Souverainete",
          "Annee_Souverainete",
          "Annee_Souverainete",
          "Annee_Souverainete",
          "Annee_Souverainete",
          "Annee_Souverainete",
          "Annee_Souverainete",
          "Annee_Souverainete",
          "Annee_Souverainete",
          "Annee_Souverainete",
          "Annee_Souverainete",
          "Annee_Souverainete",
          "Annee_Souverainete",
          "Annee_Souverainete",
          "Annee_Souverainete",
          "Annee_Souverainete",
          "Annee_Souverainete",
          "Annee_Souverainete",
          "Annee_Souverainete",
          "Annee_Souverainete",
          "Annee_Souverainete",
          "Annee_Souverainete",
          "Annee_Souverainete",
          "Annee_Souverainete",
          "Annee_Souverainete",
          "Annee_Souverainete",
          "Annee_Souverainete",
          "Annee_Souverainete",
          "Annee_Souverainete",
          "Annee_Souverainete",
          "Annee_Souverainete",
          "Annee_Souverainete",
          "Annee_Souverainete",
          "Annee_Souverainete",
          "Annee_Souverainete",
          "Annee_Souverainete",
          "Annee_Souverainete",
          "Annee_Souverainete",
          "Annee_Souverainete",
          "Annee_Souverainete",
          "Annee_Souverainete",
          "Annee_Souverainete",
          "Annee_Souverainete",
          "Annee_Souverainete",
          "Annee_Souverainete",
          "Annee_Souverainete",
          "Annee_Souverainete",
          "Annee_Souverainete",
          "Annee_Souverainete",
          "Annee_Souverainete",
          "Annee_Souverainete",
          "Annee_Souverainete",
          "Annee_Souverainete",
          "Annee_Souverainete",
          "Annee_Souverainete",
          "Annee_Souverainete",
          "Annee_Souverainete",
          "Annee_Souverainete",
          "Annee_Souverainete",
          "Annee_Souverainete",
          "Annee_Souverainete",
          "Annee_Souverainete",
          "Annee_Souverainete",
          "Annee_Souverainete",
          "Annee_Souverainete",
          "Annee_Souverainete",
          "Annee_Souverainete",
          "Annee_Souverainete",
          "Annee_Souverainete",
          "Annee_Souverainete",
          "Annee_Souverainete",
          "Annee_Souverainete",
          "Annee_Souverainete",
          "Annee_Souverainete",
          "Annee_Souverainete",
          "Annee_Souverainete",
          "Annee_Souverainete",
          "Annee_Souverainete",
          "Annee_Souverainete",
          "Annee_Souverainete",
          "Annee_Souverainete",
          "Annee_Souverainete",
          "Annee_Souverainete",
          "Annee_Souverainete",
          "Annee_Souverainete",
          "Annee_Souverainete",
          "Annee_Souverainete",
          "Annee_Souverainete",
          "Annee_Souverainete",
          "Annee_Souverainete",
          "Annee_Souverainete",
          "Annee_Souverainete",
          "Annee_Souverainete",
          "Annee_Souverainete",
          "Annee_Souverainete",
          "Annee_Souverainete",
          "Annee_Souverainete",
          "Annee_Souverainete",
          "Annee_Souverainete",
          "Annee_Souverainete",
          "Annee_Souverainete",
          "Annee_Souverainete",
          "Annee_Souverainete",
          "Annee_Souverainete",
          "Annee_Souverainete",
          "Annee_Souverainete",
          "Annee_Souverainete",
          "Annee_Souverainete"
         ],
         "x0": " ",
         "xaxis": "x",
         "y": [
          1919,
          1912,
          1962,
          null,
          1975,
          null,
          1810,
          1990,
          1901,
          1955,
          1991,
          1964,
          1971,
          1971,
          null,
          1990,
          1830,
          1981,
          null,
          null,
          null,
          1825,
          1992,
          1885,
          1822,
          null,
          1984,
          1878,
          1958,
          1962,
          1953,
          1960,
          1867,
          null,
          null,
          1958,
          1960,
          1818,
          1368,
          1810,
          1975,
          1960,
          null,
          1821,
          1991,
          1898,
          1960,
          1918,
          958,
          1977,
          null,
          1865,
          null,
          1953,
          1821,
          1993,
          1991,
          1968,
          1941,
          1970,
          1917,
          843,
          1960,
          1965,
          1991,
          962,
          1957,
          1822,
          null,
          null,
          1821,
          1958,
          1966,
          1804,
          1821,
          null,
          1991,
          1944,
          1947,
          1945,
          1477,
          1932,
          1919,
          1948,
          1945,
          1958,
          1962,
          1952,
          1946,
          1991,
          1963,
          1979,
          1991,
          null,
          1949,
          1918,
          1941,
          1966,
          1847,
          1951,
          1813,
          1918,
          1839,
          null,
          1958,
          1964,
          1957,
          1965,
          1959,
          1964,
          1986,
          1960,
          1968,
          1821,
          null,
          1991,
          1911,
          2006,
          1956,
          1975,
          null,
          1990,
          1768,
          1945,
          null,
          1907,
          1821,
          1958,
          1960,
          1948,
          null,
          null,
          1945,
          1605,
          1947,
          null,
          1821,
          1973,
          1811,
          1821,
          1935,
          966,
          1139,
          null,
          1971,
          1884,
          1877,
          1480,
          1962,
          null,
          null,
          null,
          1962,
          1975,
          1927,
          1959,
          1945,
          1976,
          1961,
          1959,
          1993,
          1991,
          1976,
          1960,
          1910,
          1948,
          2011,
          1479,
          1948,
          1956,
          null,
          1523,
          null,
          1961,
          1949,
          null,
          1961,
          1776,
          1958,
          1970,
          1956,
          null,
          1991,
          null,
          1962,
          1991,
          1971,
          1707,
          null,
          1825,
          1991,
          1980,
          1811,
          1945,
          1990,
          1964,
          1965
         ],
         "y0": " ",
         "yaxis": "y"
        }
       ],
       "layout": {
        "boxmode": "group",
        "legend": {
         "tracegroupgap": 0
        },
        "template": {
         "data": {
          "bar": [
           {
            "error_x": {
             "color": "#2a3f5f"
            },
            "error_y": {
             "color": "#2a3f5f"
            },
            "marker": {
             "line": {
              "color": "#E5ECF6",
              "width": 0.5
             },
             "pattern": {
              "fillmode": "overlay",
              "size": 10,
              "solidity": 0.2
             }
            },
            "type": "bar"
           }
          ],
          "barpolar": [
           {
            "marker": {
             "line": {
              "color": "#E5ECF6",
              "width": 0.5
             },
             "pattern": {
              "fillmode": "overlay",
              "size": 10,
              "solidity": 0.2
             }
            },
            "type": "barpolar"
           }
          ],
          "carpet": [
           {
            "aaxis": {
             "endlinecolor": "#2a3f5f",
             "gridcolor": "white",
             "linecolor": "white",
             "minorgridcolor": "white",
             "startlinecolor": "#2a3f5f"
            },
            "baxis": {
             "endlinecolor": "#2a3f5f",
             "gridcolor": "white",
             "linecolor": "white",
             "minorgridcolor": "white",
             "startlinecolor": "#2a3f5f"
            },
            "type": "carpet"
           }
          ],
          "choropleth": [
           {
            "colorbar": {
             "outlinewidth": 0,
             "ticks": ""
            },
            "type": "choropleth"
           }
          ],
          "contour": [
           {
            "colorbar": {
             "outlinewidth": 0,
             "ticks": ""
            },
            "colorscale": [
             [
              0,
              "#0d0887"
             ],
             [
              0.1111111111111111,
              "#46039f"
             ],
             [
              0.2222222222222222,
              "#7201a8"
             ],
             [
              0.3333333333333333,
              "#9c179e"
             ],
             [
              0.4444444444444444,
              "#bd3786"
             ],
             [
              0.5555555555555556,
              "#d8576b"
             ],
             [
              0.6666666666666666,
              "#ed7953"
             ],
             [
              0.7777777777777778,
              "#fb9f3a"
             ],
             [
              0.8888888888888888,
              "#fdca26"
             ],
             [
              1,
              "#f0f921"
             ]
            ],
            "type": "contour"
           }
          ],
          "contourcarpet": [
           {
            "colorbar": {
             "outlinewidth": 0,
             "ticks": ""
            },
            "type": "contourcarpet"
           }
          ],
          "heatmap": [
           {
            "colorbar": {
             "outlinewidth": 0,
             "ticks": ""
            },
            "colorscale": [
             [
              0,
              "#0d0887"
             ],
             [
              0.1111111111111111,
              "#46039f"
             ],
             [
              0.2222222222222222,
              "#7201a8"
             ],
             [
              0.3333333333333333,
              "#9c179e"
             ],
             [
              0.4444444444444444,
              "#bd3786"
             ],
             [
              0.5555555555555556,
              "#d8576b"
             ],
             [
              0.6666666666666666,
              "#ed7953"
             ],
             [
              0.7777777777777778,
              "#fb9f3a"
             ],
             [
              0.8888888888888888,
              "#fdca26"
             ],
             [
              1,
              "#f0f921"
             ]
            ],
            "type": "heatmap"
           }
          ],
          "heatmapgl": [
           {
            "colorbar": {
             "outlinewidth": 0,
             "ticks": ""
            },
            "colorscale": [
             [
              0,
              "#0d0887"
             ],
             [
              0.1111111111111111,
              "#46039f"
             ],
             [
              0.2222222222222222,
              "#7201a8"
             ],
             [
              0.3333333333333333,
              "#9c179e"
             ],
             [
              0.4444444444444444,
              "#bd3786"
             ],
             [
              0.5555555555555556,
              "#d8576b"
             ],
             [
              0.6666666666666666,
              "#ed7953"
             ],
             [
              0.7777777777777778,
              "#fb9f3a"
             ],
             [
              0.8888888888888888,
              "#fdca26"
             ],
             [
              1,
              "#f0f921"
             ]
            ],
            "type": "heatmapgl"
           }
          ],
          "histogram": [
           {
            "marker": {
             "pattern": {
              "fillmode": "overlay",
              "size": 10,
              "solidity": 0.2
             }
            },
            "type": "histogram"
           }
          ],
          "histogram2d": [
           {
            "colorbar": {
             "outlinewidth": 0,
             "ticks": ""
            },
            "colorscale": [
             [
              0,
              "#0d0887"
             ],
             [
              0.1111111111111111,
              "#46039f"
             ],
             [
              0.2222222222222222,
              "#7201a8"
             ],
             [
              0.3333333333333333,
              "#9c179e"
             ],
             [
              0.4444444444444444,
              "#bd3786"
             ],
             [
              0.5555555555555556,
              "#d8576b"
             ],
             [
              0.6666666666666666,
              "#ed7953"
             ],
             [
              0.7777777777777778,
              "#fb9f3a"
             ],
             [
              0.8888888888888888,
              "#fdca26"
             ],
             [
              1,
              "#f0f921"
             ]
            ],
            "type": "histogram2d"
           }
          ],
          "histogram2dcontour": [
           {
            "colorbar": {
             "outlinewidth": 0,
             "ticks": ""
            },
            "colorscale": [
             [
              0,
              "#0d0887"
             ],
             [
              0.1111111111111111,
              "#46039f"
             ],
             [
              0.2222222222222222,
              "#7201a8"
             ],
             [
              0.3333333333333333,
              "#9c179e"
             ],
             [
              0.4444444444444444,
              "#bd3786"
             ],
             [
              0.5555555555555556,
              "#d8576b"
             ],
             [
              0.6666666666666666,
              "#ed7953"
             ],
             [
              0.7777777777777778,
              "#fb9f3a"
             ],
             [
              0.8888888888888888,
              "#fdca26"
             ],
             [
              1,
              "#f0f921"
             ]
            ],
            "type": "histogram2dcontour"
           }
          ],
          "mesh3d": [
           {
            "colorbar": {
             "outlinewidth": 0,
             "ticks": ""
            },
            "type": "mesh3d"
           }
          ],
          "parcoords": [
           {
            "line": {
             "colorbar": {
              "outlinewidth": 0,
              "ticks": ""
             }
            },
            "type": "parcoords"
           }
          ],
          "pie": [
           {
            "automargin": true,
            "type": "pie"
           }
          ],
          "scatter": [
           {
            "fillpattern": {
             "fillmode": "overlay",
             "size": 10,
             "solidity": 0.2
            },
            "type": "scatter"
           }
          ],
          "scatter3d": [
           {
            "line": {
             "colorbar": {
              "outlinewidth": 0,
              "ticks": ""
             }
            },
            "marker": {
             "colorbar": {
              "outlinewidth": 0,
              "ticks": ""
             }
            },
            "type": "scatter3d"
           }
          ],
          "scattercarpet": [
           {
            "marker": {
             "colorbar": {
              "outlinewidth": 0,
              "ticks": ""
             }
            },
            "type": "scattercarpet"
           }
          ],
          "scattergeo": [
           {
            "marker": {
             "colorbar": {
              "outlinewidth": 0,
              "ticks": ""
             }
            },
            "type": "scattergeo"
           }
          ],
          "scattergl": [
           {
            "marker": {
             "colorbar": {
              "outlinewidth": 0,
              "ticks": ""
             }
            },
            "type": "scattergl"
           }
          ],
          "scattermapbox": [
           {
            "marker": {
             "colorbar": {
              "outlinewidth": 0,
              "ticks": ""
             }
            },
            "type": "scattermapbox"
           }
          ],
          "scatterpolar": [
           {
            "marker": {
             "colorbar": {
              "outlinewidth": 0,
              "ticks": ""
             }
            },
            "type": "scatterpolar"
           }
          ],
          "scatterpolargl": [
           {
            "marker": {
             "colorbar": {
              "outlinewidth": 0,
              "ticks": ""
             }
            },
            "type": "scatterpolargl"
           }
          ],
          "scatterternary": [
           {
            "marker": {
             "colorbar": {
              "outlinewidth": 0,
              "ticks": ""
             }
            },
            "type": "scatterternary"
           }
          ],
          "surface": [
           {
            "colorbar": {
             "outlinewidth": 0,
             "ticks": ""
            },
            "colorscale": [
             [
              0,
              "#0d0887"
             ],
             [
              0.1111111111111111,
              "#46039f"
             ],
             [
              0.2222222222222222,
              "#7201a8"
             ],
             [
              0.3333333333333333,
              "#9c179e"
             ],
             [
              0.4444444444444444,
              "#bd3786"
             ],
             [
              0.5555555555555556,
              "#d8576b"
             ],
             [
              0.6666666666666666,
              "#ed7953"
             ],
             [
              0.7777777777777778,
              "#fb9f3a"
             ],
             [
              0.8888888888888888,
              "#fdca26"
             ],
             [
              1,
              "#f0f921"
             ]
            ],
            "type": "surface"
           }
          ],
          "table": [
           {
            "cells": {
             "fill": {
              "color": "#EBF0F8"
             },
             "line": {
              "color": "white"
             }
            },
            "header": {
             "fill": {
              "color": "#C8D4E3"
             },
             "line": {
              "color": "white"
             }
            },
            "type": "table"
           }
          ]
         },
         "layout": {
          "annotationdefaults": {
           "arrowcolor": "#2a3f5f",
           "arrowhead": 0,
           "arrowwidth": 1
          },
          "autotypenumbers": "strict",
          "coloraxis": {
           "colorbar": {
            "outlinewidth": 0,
            "ticks": ""
           }
          },
          "colorscale": {
           "diverging": [
            [
             0,
             "#8e0152"
            ],
            [
             0.1,
             "#c51b7d"
            ],
            [
             0.2,
             "#de77ae"
            ],
            [
             0.3,
             "#f1b6da"
            ],
            [
             0.4,
             "#fde0ef"
            ],
            [
             0.5,
             "#f7f7f7"
            ],
            [
             0.6,
             "#e6f5d0"
            ],
            [
             0.7,
             "#b8e186"
            ],
            [
             0.8,
             "#7fbc41"
            ],
            [
             0.9,
             "#4d9221"
            ],
            [
             1,
             "#276419"
            ]
           ],
           "sequential": [
            [
             0,
             "#0d0887"
            ],
            [
             0.1111111111111111,
             "#46039f"
            ],
            [
             0.2222222222222222,
             "#7201a8"
            ],
            [
             0.3333333333333333,
             "#9c179e"
            ],
            [
             0.4444444444444444,
             "#bd3786"
            ],
            [
             0.5555555555555556,
             "#d8576b"
            ],
            [
             0.6666666666666666,
             "#ed7953"
            ],
            [
             0.7777777777777778,
             "#fb9f3a"
            ],
            [
             0.8888888888888888,
             "#fdca26"
            ],
            [
             1,
             "#f0f921"
            ]
           ],
           "sequentialminus": [
            [
             0,
             "#0d0887"
            ],
            [
             0.1111111111111111,
             "#46039f"
            ],
            [
             0.2222222222222222,
             "#7201a8"
            ],
            [
             0.3333333333333333,
             "#9c179e"
            ],
            [
             0.4444444444444444,
             "#bd3786"
            ],
            [
             0.5555555555555556,
             "#d8576b"
            ],
            [
             0.6666666666666666,
             "#ed7953"
            ],
            [
             0.7777777777777778,
             "#fb9f3a"
            ],
            [
             0.8888888888888888,
             "#fdca26"
            ],
            [
             1,
             "#f0f921"
            ]
           ]
          },
          "colorway": [
           "#636efa",
           "#EF553B",
           "#00cc96",
           "#ab63fa",
           "#FFA15A",
           "#19d3f3",
           "#FF6692",
           "#B6E880",
           "#FF97FF",
           "#FECB52"
          ],
          "font": {
           "color": "#2a3f5f"
          },
          "geo": {
           "bgcolor": "white",
           "lakecolor": "white",
           "landcolor": "#E5ECF6",
           "showlakes": true,
           "showland": true,
           "subunitcolor": "white"
          },
          "hoverlabel": {
           "align": "left"
          },
          "hovermode": "closest",
          "mapbox": {
           "style": "light"
          },
          "paper_bgcolor": "white",
          "plot_bgcolor": "#E5ECF6",
          "polar": {
           "angularaxis": {
            "gridcolor": "white",
            "linecolor": "white",
            "ticks": ""
           },
           "bgcolor": "#E5ECF6",
           "radialaxis": {
            "gridcolor": "white",
            "linecolor": "white",
            "ticks": ""
           }
          },
          "scene": {
           "xaxis": {
            "backgroundcolor": "#E5ECF6",
            "gridcolor": "white",
            "gridwidth": 2,
            "linecolor": "white",
            "showbackground": true,
            "ticks": "",
            "zerolinecolor": "white"
           },
           "yaxis": {
            "backgroundcolor": "#E5ECF6",
            "gridcolor": "white",
            "gridwidth": 2,
            "linecolor": "white",
            "showbackground": true,
            "ticks": "",
            "zerolinecolor": "white"
           },
           "zaxis": {
            "backgroundcolor": "#E5ECF6",
            "gridcolor": "white",
            "gridwidth": 2,
            "linecolor": "white",
            "showbackground": true,
            "ticks": "",
            "zerolinecolor": "white"
           }
          },
          "shapedefaults": {
           "line": {
            "color": "#2a3f5f"
           }
          },
          "ternary": {
           "aaxis": {
            "gridcolor": "white",
            "linecolor": "white",
            "ticks": ""
           },
           "baxis": {
            "gridcolor": "white",
            "linecolor": "white",
            "ticks": ""
           },
           "bgcolor": "#E5ECF6",
           "caxis": {
            "gridcolor": "white",
            "linecolor": "white",
            "ticks": ""
           }
          },
          "title": {
           "x": 0.05
          },
          "xaxis": {
           "automargin": true,
           "gridcolor": "white",
           "linecolor": "white",
           "ticks": "",
           "title": {
            "standoff": 15
           },
           "zerolinecolor": "white",
           "zerolinewidth": 2
          },
          "yaxis": {
           "automargin": true,
           "gridcolor": "white",
           "linecolor": "white",
           "ticks": "",
           "title": {
            "standoff": 15
           },
           "zerolinecolor": "white",
           "zerolinewidth": 2
          }
         }
        },
        "title": {
         "text": "Box plot : Annee_Souverainete"
        },
        "xaxis": {
         "anchor": "y",
         "domain": [
          0,
          1
         ],
         "title": {
          "text": "variable"
         }
        },
        "yaxis": {
         "anchor": "x",
         "domain": [
          0,
          1
         ],
         "title": {
          "text": "value"
         }
        }
       }
      }
     },
     "metadata": {},
     "output_type": "display_data"
    },
    {
     "data": {
      "application/vnd.plotly.v1+json": {
       "config": {
        "plotlyServerURL": "https://plot.ly"
       },
       "data": [
        {
         "alignmentgroup": "True",
         "hovertemplate": "variable=%{x}<br>value=%{y}<extra></extra>",
         "legendgroup": "",
         "marker": {
          "color": "rgb(158,202,225)",
          "line": {
           "outliercolor": "rgba(219, 64, 82, 0.6)",
           "outlierwidth": 2
          },
          "outliercolor": "rgba(219, 64, 82, 0.6)"
         },
         "name": "",
         "notched": false,
         "offsetgroup": "",
         "orientation": "v",
         "showlegend": false,
         "type": "box",
         "x": [
          "Nb_Foreign_Students",
          "Nb_Foreign_Students",
          "Nb_Foreign_Students",
          "Nb_Foreign_Students",
          "Nb_Foreign_Students",
          "Nb_Foreign_Students",
          "Nb_Foreign_Students",
          "Nb_Foreign_Students",
          "Nb_Foreign_Students",
          "Nb_Foreign_Students",
          "Nb_Foreign_Students",
          "Nb_Foreign_Students",
          "Nb_Foreign_Students",
          "Nb_Foreign_Students",
          "Nb_Foreign_Students",
          "Nb_Foreign_Students",
          "Nb_Foreign_Students",
          "Nb_Foreign_Students",
          "Nb_Foreign_Students",
          "Nb_Foreign_Students",
          "Nb_Foreign_Students",
          "Nb_Foreign_Students",
          "Nb_Foreign_Students",
          "Nb_Foreign_Students",
          "Nb_Foreign_Students",
          "Nb_Foreign_Students",
          "Nb_Foreign_Students",
          "Nb_Foreign_Students",
          "Nb_Foreign_Students",
          "Nb_Foreign_Students",
          "Nb_Foreign_Students",
          "Nb_Foreign_Students",
          "Nb_Foreign_Students",
          "Nb_Foreign_Students",
          "Nb_Foreign_Students",
          "Nb_Foreign_Students",
          "Nb_Foreign_Students",
          "Nb_Foreign_Students",
          "Nb_Foreign_Students",
          "Nb_Foreign_Students",
          "Nb_Foreign_Students",
          "Nb_Foreign_Students",
          "Nb_Foreign_Students",
          "Nb_Foreign_Students",
          "Nb_Foreign_Students",
          "Nb_Foreign_Students",
          "Nb_Foreign_Students",
          "Nb_Foreign_Students",
          "Nb_Foreign_Students",
          "Nb_Foreign_Students",
          "Nb_Foreign_Students",
          "Nb_Foreign_Students",
          "Nb_Foreign_Students",
          "Nb_Foreign_Students",
          "Nb_Foreign_Students",
          "Nb_Foreign_Students",
          "Nb_Foreign_Students",
          "Nb_Foreign_Students",
          "Nb_Foreign_Students",
          "Nb_Foreign_Students",
          "Nb_Foreign_Students",
          "Nb_Foreign_Students",
          "Nb_Foreign_Students",
          "Nb_Foreign_Students",
          "Nb_Foreign_Students",
          "Nb_Foreign_Students",
          "Nb_Foreign_Students",
          "Nb_Foreign_Students",
          "Nb_Foreign_Students",
          "Nb_Foreign_Students",
          "Nb_Foreign_Students",
          "Nb_Foreign_Students",
          "Nb_Foreign_Students",
          "Nb_Foreign_Students",
          "Nb_Foreign_Students",
          "Nb_Foreign_Students",
          "Nb_Foreign_Students",
          "Nb_Foreign_Students",
          "Nb_Foreign_Students",
          "Nb_Foreign_Students",
          "Nb_Foreign_Students",
          "Nb_Foreign_Students",
          "Nb_Foreign_Students",
          "Nb_Foreign_Students",
          "Nb_Foreign_Students",
          "Nb_Foreign_Students",
          "Nb_Foreign_Students",
          "Nb_Foreign_Students",
          "Nb_Foreign_Students",
          "Nb_Foreign_Students",
          "Nb_Foreign_Students",
          "Nb_Foreign_Students",
          "Nb_Foreign_Students",
          "Nb_Foreign_Students",
          "Nb_Foreign_Students",
          "Nb_Foreign_Students",
          "Nb_Foreign_Students",
          "Nb_Foreign_Students",
          "Nb_Foreign_Students",
          "Nb_Foreign_Students",
          "Nb_Foreign_Students",
          "Nb_Foreign_Students",
          "Nb_Foreign_Students",
          "Nb_Foreign_Students",
          "Nb_Foreign_Students",
          "Nb_Foreign_Students",
          "Nb_Foreign_Students",
          "Nb_Foreign_Students",
          "Nb_Foreign_Students",
          "Nb_Foreign_Students",
          "Nb_Foreign_Students",
          "Nb_Foreign_Students",
          "Nb_Foreign_Students",
          "Nb_Foreign_Students",
          "Nb_Foreign_Students",
          "Nb_Foreign_Students",
          "Nb_Foreign_Students",
          "Nb_Foreign_Students",
          "Nb_Foreign_Students",
          "Nb_Foreign_Students",
          "Nb_Foreign_Students",
          "Nb_Foreign_Students",
          "Nb_Foreign_Students",
          "Nb_Foreign_Students",
          "Nb_Foreign_Students",
          "Nb_Foreign_Students",
          "Nb_Foreign_Students",
          "Nb_Foreign_Students",
          "Nb_Foreign_Students",
          "Nb_Foreign_Students",
          "Nb_Foreign_Students",
          "Nb_Foreign_Students",
          "Nb_Foreign_Students",
          "Nb_Foreign_Students",
          "Nb_Foreign_Students",
          "Nb_Foreign_Students",
          "Nb_Foreign_Students",
          "Nb_Foreign_Students",
          "Nb_Foreign_Students",
          "Nb_Foreign_Students",
          "Nb_Foreign_Students",
          "Nb_Foreign_Students",
          "Nb_Foreign_Students",
          "Nb_Foreign_Students",
          "Nb_Foreign_Students",
          "Nb_Foreign_Students",
          "Nb_Foreign_Students",
          "Nb_Foreign_Students",
          "Nb_Foreign_Students",
          "Nb_Foreign_Students",
          "Nb_Foreign_Students",
          "Nb_Foreign_Students",
          "Nb_Foreign_Students",
          "Nb_Foreign_Students",
          "Nb_Foreign_Students",
          "Nb_Foreign_Students",
          "Nb_Foreign_Students",
          "Nb_Foreign_Students",
          "Nb_Foreign_Students",
          "Nb_Foreign_Students",
          "Nb_Foreign_Students",
          "Nb_Foreign_Students",
          "Nb_Foreign_Students",
          "Nb_Foreign_Students",
          "Nb_Foreign_Students",
          "Nb_Foreign_Students",
          "Nb_Foreign_Students",
          "Nb_Foreign_Students",
          "Nb_Foreign_Students",
          "Nb_Foreign_Students",
          "Nb_Foreign_Students",
          "Nb_Foreign_Students",
          "Nb_Foreign_Students",
          "Nb_Foreign_Students",
          "Nb_Foreign_Students",
          "Nb_Foreign_Students",
          "Nb_Foreign_Students",
          "Nb_Foreign_Students",
          "Nb_Foreign_Students",
          "Nb_Foreign_Students",
          "Nb_Foreign_Students",
          "Nb_Foreign_Students",
          "Nb_Foreign_Students",
          "Nb_Foreign_Students",
          "Nb_Foreign_Students",
          "Nb_Foreign_Students",
          "Nb_Foreign_Students",
          "Nb_Foreign_Students",
          "Nb_Foreign_Students",
          "Nb_Foreign_Students",
          "Nb_Foreign_Students",
          "Nb_Foreign_Students",
          "Nb_Foreign_Students",
          "Nb_Foreign_Students",
          "Nb_Foreign_Students",
          "Nb_Foreign_Students",
          "Nb_Foreign_Students"
         ],
         "x0": " ",
         "xaxis": "x",
         "y": [
          null,
          null,
          null,
          null,
          null,
          null,
          null,
          null,
          28.375,
          17.641,
          null,
          null,
          null,
          null,
          null,
          null,
          10.043,
          null,
          null,
          null,
          null,
          null,
          null,
          null,
          0.246,
          null,
          null,
          7.19,
          null,
          null,
          null,
          null,
          16.221,
          null,
          null,
          null,
          null,
          0.819,
          null,
          0.219,
          null,
          null,
          null,
          null,
          2.95,
          null,
          null,
          null,
          10.491,
          null,
          null,
          null,
          null,
          null,
          null,
          null,
          11.087,
          null,
          null,
          null,
          8.053,
          9.175,
          null,
          null,
          null,
          10.106,
          null,
          3.499,
          null,
          null,
          null,
          null,
          null,
          null,
          null,
          null,
          12.605,
          8.449,
          null,
          null,
          null,
          null,
          10.715,
          2.985,
          2.831,
          null,
          null,
          5.238,
          null,
          null,
          null,
          null,
          null,
          null,
          null,
          10.429,
          null,
          null,
          null,
          null,
          null,
          5.992,
          48.648,
          null,
          null,
          null,
          null,
          null,
          null,
          null,
          null,
          null,
          null,
          0.707,
          null,
          null,
          null,
          null,
          null,
          null,
          null,
          null,
          null,
          12.673,
          null,
          20.769,
          null,
          null,
          null,
          null,
          null,
          null,
          4.276,
          null,
          null,
          null,
          null,
          null,
          null,
          null,
          null,
          3.857,
          9.711,
          null,
          null,
          null,
          null,
          null,
          null,
          null,
          null,
          null,
          null,
          null,
          null,
          null,
          null,
          null,
          null,
          null,
          null,
          6.673,
          null,
          null,
          null,
          null,
          null,
          3.698,
          null,
          null,
          null,
          7.152,
          17.799,
          null,
          null,
          null,
          null,
          null,
          null,
          null,
          null,
          null,
          null,
          null,
          null,
          null,
          null,
          18.677,
          5.189,
          null,
          null,
          null,
          null,
          null,
          null,
          null,
          null
         ],
         "y0": " ",
         "yaxis": "y"
        }
       ],
       "layout": {
        "boxmode": "group",
        "legend": {
         "tracegroupgap": 0
        },
        "template": {
         "data": {
          "bar": [
           {
            "error_x": {
             "color": "#2a3f5f"
            },
            "error_y": {
             "color": "#2a3f5f"
            },
            "marker": {
             "line": {
              "color": "#E5ECF6",
              "width": 0.5
             },
             "pattern": {
              "fillmode": "overlay",
              "size": 10,
              "solidity": 0.2
             }
            },
            "type": "bar"
           }
          ],
          "barpolar": [
           {
            "marker": {
             "line": {
              "color": "#E5ECF6",
              "width": 0.5
             },
             "pattern": {
              "fillmode": "overlay",
              "size": 10,
              "solidity": 0.2
             }
            },
            "type": "barpolar"
           }
          ],
          "carpet": [
           {
            "aaxis": {
             "endlinecolor": "#2a3f5f",
             "gridcolor": "white",
             "linecolor": "white",
             "minorgridcolor": "white",
             "startlinecolor": "#2a3f5f"
            },
            "baxis": {
             "endlinecolor": "#2a3f5f",
             "gridcolor": "white",
             "linecolor": "white",
             "minorgridcolor": "white",
             "startlinecolor": "#2a3f5f"
            },
            "type": "carpet"
           }
          ],
          "choropleth": [
           {
            "colorbar": {
             "outlinewidth": 0,
             "ticks": ""
            },
            "type": "choropleth"
           }
          ],
          "contour": [
           {
            "colorbar": {
             "outlinewidth": 0,
             "ticks": ""
            },
            "colorscale": [
             [
              0,
              "#0d0887"
             ],
             [
              0.1111111111111111,
              "#46039f"
             ],
             [
              0.2222222222222222,
              "#7201a8"
             ],
             [
              0.3333333333333333,
              "#9c179e"
             ],
             [
              0.4444444444444444,
              "#bd3786"
             ],
             [
              0.5555555555555556,
              "#d8576b"
             ],
             [
              0.6666666666666666,
              "#ed7953"
             ],
             [
              0.7777777777777778,
              "#fb9f3a"
             ],
             [
              0.8888888888888888,
              "#fdca26"
             ],
             [
              1,
              "#f0f921"
             ]
            ],
            "type": "contour"
           }
          ],
          "contourcarpet": [
           {
            "colorbar": {
             "outlinewidth": 0,
             "ticks": ""
            },
            "type": "contourcarpet"
           }
          ],
          "heatmap": [
           {
            "colorbar": {
             "outlinewidth": 0,
             "ticks": ""
            },
            "colorscale": [
             [
              0,
              "#0d0887"
             ],
             [
              0.1111111111111111,
              "#46039f"
             ],
             [
              0.2222222222222222,
              "#7201a8"
             ],
             [
              0.3333333333333333,
              "#9c179e"
             ],
             [
              0.4444444444444444,
              "#bd3786"
             ],
             [
              0.5555555555555556,
              "#d8576b"
             ],
             [
              0.6666666666666666,
              "#ed7953"
             ],
             [
              0.7777777777777778,
              "#fb9f3a"
             ],
             [
              0.8888888888888888,
              "#fdca26"
             ],
             [
              1,
              "#f0f921"
             ]
            ],
            "type": "heatmap"
           }
          ],
          "heatmapgl": [
           {
            "colorbar": {
             "outlinewidth": 0,
             "ticks": ""
            },
            "colorscale": [
             [
              0,
              "#0d0887"
             ],
             [
              0.1111111111111111,
              "#46039f"
             ],
             [
              0.2222222222222222,
              "#7201a8"
             ],
             [
              0.3333333333333333,
              "#9c179e"
             ],
             [
              0.4444444444444444,
              "#bd3786"
             ],
             [
              0.5555555555555556,
              "#d8576b"
             ],
             [
              0.6666666666666666,
              "#ed7953"
             ],
             [
              0.7777777777777778,
              "#fb9f3a"
             ],
             [
              0.8888888888888888,
              "#fdca26"
             ],
             [
              1,
              "#f0f921"
             ]
            ],
            "type": "heatmapgl"
           }
          ],
          "histogram": [
           {
            "marker": {
             "pattern": {
              "fillmode": "overlay",
              "size": 10,
              "solidity": 0.2
             }
            },
            "type": "histogram"
           }
          ],
          "histogram2d": [
           {
            "colorbar": {
             "outlinewidth": 0,
             "ticks": ""
            },
            "colorscale": [
             [
              0,
              "#0d0887"
             ],
             [
              0.1111111111111111,
              "#46039f"
             ],
             [
              0.2222222222222222,
              "#7201a8"
             ],
             [
              0.3333333333333333,
              "#9c179e"
             ],
             [
              0.4444444444444444,
              "#bd3786"
             ],
             [
              0.5555555555555556,
              "#d8576b"
             ],
             [
              0.6666666666666666,
              "#ed7953"
             ],
             [
              0.7777777777777778,
              "#fb9f3a"
             ],
             [
              0.8888888888888888,
              "#fdca26"
             ],
             [
              1,
              "#f0f921"
             ]
            ],
            "type": "histogram2d"
           }
          ],
          "histogram2dcontour": [
           {
            "colorbar": {
             "outlinewidth": 0,
             "ticks": ""
            },
            "colorscale": [
             [
              0,
              "#0d0887"
             ],
             [
              0.1111111111111111,
              "#46039f"
             ],
             [
              0.2222222222222222,
              "#7201a8"
             ],
             [
              0.3333333333333333,
              "#9c179e"
             ],
             [
              0.4444444444444444,
              "#bd3786"
             ],
             [
              0.5555555555555556,
              "#d8576b"
             ],
             [
              0.6666666666666666,
              "#ed7953"
             ],
             [
              0.7777777777777778,
              "#fb9f3a"
             ],
             [
              0.8888888888888888,
              "#fdca26"
             ],
             [
              1,
              "#f0f921"
             ]
            ],
            "type": "histogram2dcontour"
           }
          ],
          "mesh3d": [
           {
            "colorbar": {
             "outlinewidth": 0,
             "ticks": ""
            },
            "type": "mesh3d"
           }
          ],
          "parcoords": [
           {
            "line": {
             "colorbar": {
              "outlinewidth": 0,
              "ticks": ""
             }
            },
            "type": "parcoords"
           }
          ],
          "pie": [
           {
            "automargin": true,
            "type": "pie"
           }
          ],
          "scatter": [
           {
            "fillpattern": {
             "fillmode": "overlay",
             "size": 10,
             "solidity": 0.2
            },
            "type": "scatter"
           }
          ],
          "scatter3d": [
           {
            "line": {
             "colorbar": {
              "outlinewidth": 0,
              "ticks": ""
             }
            },
            "marker": {
             "colorbar": {
              "outlinewidth": 0,
              "ticks": ""
             }
            },
            "type": "scatter3d"
           }
          ],
          "scattercarpet": [
           {
            "marker": {
             "colorbar": {
              "outlinewidth": 0,
              "ticks": ""
             }
            },
            "type": "scattercarpet"
           }
          ],
          "scattergeo": [
           {
            "marker": {
             "colorbar": {
              "outlinewidth": 0,
              "ticks": ""
             }
            },
            "type": "scattergeo"
           }
          ],
          "scattergl": [
           {
            "marker": {
             "colorbar": {
              "outlinewidth": 0,
              "ticks": ""
             }
            },
            "type": "scattergl"
           }
          ],
          "scattermapbox": [
           {
            "marker": {
             "colorbar": {
              "outlinewidth": 0,
              "ticks": ""
             }
            },
            "type": "scattermapbox"
           }
          ],
          "scatterpolar": [
           {
            "marker": {
             "colorbar": {
              "outlinewidth": 0,
              "ticks": ""
             }
            },
            "type": "scatterpolar"
           }
          ],
          "scatterpolargl": [
           {
            "marker": {
             "colorbar": {
              "outlinewidth": 0,
              "ticks": ""
             }
            },
            "type": "scatterpolargl"
           }
          ],
          "scatterternary": [
           {
            "marker": {
             "colorbar": {
              "outlinewidth": 0,
              "ticks": ""
             }
            },
            "type": "scatterternary"
           }
          ],
          "surface": [
           {
            "colorbar": {
             "outlinewidth": 0,
             "ticks": ""
            },
            "colorscale": [
             [
              0,
              "#0d0887"
             ],
             [
              0.1111111111111111,
              "#46039f"
             ],
             [
              0.2222222222222222,
              "#7201a8"
             ],
             [
              0.3333333333333333,
              "#9c179e"
             ],
             [
              0.4444444444444444,
              "#bd3786"
             ],
             [
              0.5555555555555556,
              "#d8576b"
             ],
             [
              0.6666666666666666,
              "#ed7953"
             ],
             [
              0.7777777777777778,
              "#fb9f3a"
             ],
             [
              0.8888888888888888,
              "#fdca26"
             ],
             [
              1,
              "#f0f921"
             ]
            ],
            "type": "surface"
           }
          ],
          "table": [
           {
            "cells": {
             "fill": {
              "color": "#EBF0F8"
             },
             "line": {
              "color": "white"
             }
            },
            "header": {
             "fill": {
              "color": "#C8D4E3"
             },
             "line": {
              "color": "white"
             }
            },
            "type": "table"
           }
          ]
         },
         "layout": {
          "annotationdefaults": {
           "arrowcolor": "#2a3f5f",
           "arrowhead": 0,
           "arrowwidth": 1
          },
          "autotypenumbers": "strict",
          "coloraxis": {
           "colorbar": {
            "outlinewidth": 0,
            "ticks": ""
           }
          },
          "colorscale": {
           "diverging": [
            [
             0,
             "#8e0152"
            ],
            [
             0.1,
             "#c51b7d"
            ],
            [
             0.2,
             "#de77ae"
            ],
            [
             0.3,
             "#f1b6da"
            ],
            [
             0.4,
             "#fde0ef"
            ],
            [
             0.5,
             "#f7f7f7"
            ],
            [
             0.6,
             "#e6f5d0"
            ],
            [
             0.7,
             "#b8e186"
            ],
            [
             0.8,
             "#7fbc41"
            ],
            [
             0.9,
             "#4d9221"
            ],
            [
             1,
             "#276419"
            ]
           ],
           "sequential": [
            [
             0,
             "#0d0887"
            ],
            [
             0.1111111111111111,
             "#46039f"
            ],
            [
             0.2222222222222222,
             "#7201a8"
            ],
            [
             0.3333333333333333,
             "#9c179e"
            ],
            [
             0.4444444444444444,
             "#bd3786"
            ],
            [
             0.5555555555555556,
             "#d8576b"
            ],
            [
             0.6666666666666666,
             "#ed7953"
            ],
            [
             0.7777777777777778,
             "#fb9f3a"
            ],
            [
             0.8888888888888888,
             "#fdca26"
            ],
            [
             1,
             "#f0f921"
            ]
           ],
           "sequentialminus": [
            [
             0,
             "#0d0887"
            ],
            [
             0.1111111111111111,
             "#46039f"
            ],
            [
             0.2222222222222222,
             "#7201a8"
            ],
            [
             0.3333333333333333,
             "#9c179e"
            ],
            [
             0.4444444444444444,
             "#bd3786"
            ],
            [
             0.5555555555555556,
             "#d8576b"
            ],
            [
             0.6666666666666666,
             "#ed7953"
            ],
            [
             0.7777777777777778,
             "#fb9f3a"
            ],
            [
             0.8888888888888888,
             "#fdca26"
            ],
            [
             1,
             "#f0f921"
            ]
           ]
          },
          "colorway": [
           "#636efa",
           "#EF553B",
           "#00cc96",
           "#ab63fa",
           "#FFA15A",
           "#19d3f3",
           "#FF6692",
           "#B6E880",
           "#FF97FF",
           "#FECB52"
          ],
          "font": {
           "color": "#2a3f5f"
          },
          "geo": {
           "bgcolor": "white",
           "lakecolor": "white",
           "landcolor": "#E5ECF6",
           "showlakes": true,
           "showland": true,
           "subunitcolor": "white"
          },
          "hoverlabel": {
           "align": "left"
          },
          "hovermode": "closest",
          "mapbox": {
           "style": "light"
          },
          "paper_bgcolor": "white",
          "plot_bgcolor": "#E5ECF6",
          "polar": {
           "angularaxis": {
            "gridcolor": "white",
            "linecolor": "white",
            "ticks": ""
           },
           "bgcolor": "#E5ECF6",
           "radialaxis": {
            "gridcolor": "white",
            "linecolor": "white",
            "ticks": ""
           }
          },
          "scene": {
           "xaxis": {
            "backgroundcolor": "#E5ECF6",
            "gridcolor": "white",
            "gridwidth": 2,
            "linecolor": "white",
            "showbackground": true,
            "ticks": "",
            "zerolinecolor": "white"
           },
           "yaxis": {
            "backgroundcolor": "#E5ECF6",
            "gridcolor": "white",
            "gridwidth": 2,
            "linecolor": "white",
            "showbackground": true,
            "ticks": "",
            "zerolinecolor": "white"
           },
           "zaxis": {
            "backgroundcolor": "#E5ECF6",
            "gridcolor": "white",
            "gridwidth": 2,
            "linecolor": "white",
            "showbackground": true,
            "ticks": "",
            "zerolinecolor": "white"
           }
          },
          "shapedefaults": {
           "line": {
            "color": "#2a3f5f"
           }
          },
          "ternary": {
           "aaxis": {
            "gridcolor": "white",
            "linecolor": "white",
            "ticks": ""
           },
           "baxis": {
            "gridcolor": "white",
            "linecolor": "white",
            "ticks": ""
           },
           "bgcolor": "#E5ECF6",
           "caxis": {
            "gridcolor": "white",
            "linecolor": "white",
            "ticks": ""
           }
          },
          "title": {
           "x": 0.05
          },
          "xaxis": {
           "automargin": true,
           "gridcolor": "white",
           "linecolor": "white",
           "ticks": "",
           "title": {
            "standoff": 15
           },
           "zerolinecolor": "white",
           "zerolinewidth": 2
          },
          "yaxis": {
           "automargin": true,
           "gridcolor": "white",
           "linecolor": "white",
           "ticks": "",
           "title": {
            "standoff": 15
           },
           "zerolinecolor": "white",
           "zerolinewidth": 2
          }
         }
        },
        "title": {
         "text": "Box plot : Nb_Foreign_Students"
        },
        "xaxis": {
         "anchor": "y",
         "domain": [
          0,
          1
         ],
         "title": {
          "text": "variable"
         }
        },
        "yaxis": {
         "anchor": "x",
         "domain": [
          0,
          1
         ],
         "title": {
          "text": "value"
         }
        }
       }
      }
     },
     "metadata": {},
     "output_type": "display_data"
    }
   ],
   "source": [
    "list_var=[\"Indice_Evolution\", \"Gdp\", \"Population\", \"Literacy_Rate_2021\", \"Education_Spending_2021\", \"Annee_Souverainete\", \"Nb_Foreign_Students\"]\n",
    "for var in list_var:\n",
    "    val_var=df_num.loc[:,[var]]\n",
    "    # Tracer le boxplot\n",
    "    fig = px.box(val_var, \n",
    "                title='Box plot : '+var)\n",
    "\n",
    "    fig.update_traces(marker=dict(color='rgb(158,202,225)', outliercolor='rgba(219, 64, 82, 0.6)', line=dict(outliercolor='rgba(219, 64, 82, 0.6)', outlierwidth=2)))\n",
    "\n",
    "    fig.show()\n"
   ]
  },
  {
   "cell_type": "markdown",
   "metadata": {},
   "source": [
    "### Normliasation des données"
   ]
  },
  {
   "cell_type": "code",
   "execution_count": 43,
   "metadata": {},
   "outputs": [],
   "source": [
    "scaler= StandardScaler()\n",
    "df_num_norm=pd.DataFrame(scaler.fit_transform(df_num), columns=df_num.columns)"
   ]
  },
  {
   "cell_type": "code",
   "execution_count": 45,
   "metadata": {},
   "outputs": [
    {
     "data": {
      "application/vnd.plotly.v1+json": {
       "config": {
        "plotlyServerURL": "https://plot.ly"
       },
       "data": [
        {
         "alignmentgroup": "True",
         "hovertemplate": "variable=%{x}<br>value=%{y}<extra></extra>",
         "legendgroup": "",
         "marker": {
          "color": "rgb(158,202,225)",
          "line": {
           "outliercolor": "rgba(219, 64, 82, 0.6)",
           "outlierwidth": 2
          },
          "outliercolor": "rgba(219, 64, 82, 0.6)"
         },
         "name": "",
         "notched": false,
         "offsetgroup": "",
         "orientation": "v",
         "showlegend": false,
         "type": "box",
         "x": [
          "Indice_Evolution",
          "Indice_Evolution",
          "Indice_Evolution",
          "Indice_Evolution",
          "Indice_Evolution",
          "Indice_Evolution",
          "Indice_Evolution",
          "Indice_Evolution",
          "Indice_Evolution",
          "Indice_Evolution",
          "Indice_Evolution",
          "Indice_Evolution",
          "Indice_Evolution",
          "Indice_Evolution",
          "Indice_Evolution",
          "Indice_Evolution",
          "Indice_Evolution",
          "Indice_Evolution",
          "Indice_Evolution",
          "Indice_Evolution",
          "Indice_Evolution",
          "Indice_Evolution",
          "Indice_Evolution",
          "Indice_Evolution",
          "Indice_Evolution",
          "Indice_Evolution",
          "Indice_Evolution",
          "Indice_Evolution",
          "Indice_Evolution",
          "Indice_Evolution",
          "Indice_Evolution",
          "Indice_Evolution",
          "Indice_Evolution",
          "Indice_Evolution",
          "Indice_Evolution",
          "Indice_Evolution",
          "Indice_Evolution",
          "Indice_Evolution",
          "Indice_Evolution",
          "Indice_Evolution",
          "Indice_Evolution",
          "Indice_Evolution",
          "Indice_Evolution",
          "Indice_Evolution",
          "Indice_Evolution",
          "Indice_Evolution",
          "Indice_Evolution",
          "Indice_Evolution",
          "Indice_Evolution",
          "Indice_Evolution",
          "Indice_Evolution",
          "Indice_Evolution",
          "Indice_Evolution",
          "Indice_Evolution",
          "Indice_Evolution",
          "Indice_Evolution",
          "Indice_Evolution",
          "Indice_Evolution",
          "Indice_Evolution",
          "Indice_Evolution",
          "Indice_Evolution",
          "Indice_Evolution",
          "Indice_Evolution",
          "Indice_Evolution",
          "Indice_Evolution",
          "Indice_Evolution",
          "Indice_Evolution",
          "Indice_Evolution",
          "Indice_Evolution",
          "Indice_Evolution",
          "Indice_Evolution",
          "Indice_Evolution",
          "Indice_Evolution",
          "Indice_Evolution",
          "Indice_Evolution",
          "Indice_Evolution",
          "Indice_Evolution",
          "Indice_Evolution",
          "Indice_Evolution",
          "Indice_Evolution",
          "Indice_Evolution",
          "Indice_Evolution",
          "Indice_Evolution",
          "Indice_Evolution",
          "Indice_Evolution",
          "Indice_Evolution",
          "Indice_Evolution",
          "Indice_Evolution",
          "Indice_Evolution",
          "Indice_Evolution",
          "Indice_Evolution",
          "Indice_Evolution",
          "Indice_Evolution",
          "Indice_Evolution",
          "Indice_Evolution",
          "Indice_Evolution",
          "Indice_Evolution",
          "Indice_Evolution",
          "Indice_Evolution",
          "Indice_Evolution",
          "Indice_Evolution",
          "Indice_Evolution",
          "Indice_Evolution",
          "Indice_Evolution",
          "Indice_Evolution",
          "Indice_Evolution",
          "Indice_Evolution",
          "Indice_Evolution",
          "Indice_Evolution",
          "Indice_Evolution",
          "Indice_Evolution",
          "Indice_Evolution",
          "Indice_Evolution",
          "Indice_Evolution",
          "Indice_Evolution",
          "Indice_Evolution",
          "Indice_Evolution",
          "Indice_Evolution",
          "Indice_Evolution",
          "Indice_Evolution",
          "Indice_Evolution",
          "Indice_Evolution",
          "Indice_Evolution",
          "Indice_Evolution",
          "Indice_Evolution",
          "Indice_Evolution",
          "Indice_Evolution",
          "Indice_Evolution",
          "Indice_Evolution",
          "Indice_Evolution",
          "Indice_Evolution",
          "Indice_Evolution",
          "Indice_Evolution",
          "Indice_Evolution",
          "Indice_Evolution",
          "Indice_Evolution",
          "Indice_Evolution",
          "Indice_Evolution",
          "Indice_Evolution",
          "Indice_Evolution",
          "Indice_Evolution",
          "Indice_Evolution",
          "Indice_Evolution",
          "Indice_Evolution",
          "Indice_Evolution",
          "Indice_Evolution",
          "Indice_Evolution",
          "Indice_Evolution",
          "Indice_Evolution",
          "Indice_Evolution",
          "Indice_Evolution",
          "Indice_Evolution",
          "Indice_Evolution",
          "Indice_Evolution",
          "Indice_Evolution",
          "Indice_Evolution",
          "Indice_Evolution",
          "Indice_Evolution",
          "Indice_Evolution",
          "Indice_Evolution",
          "Indice_Evolution",
          "Indice_Evolution",
          "Indice_Evolution",
          "Indice_Evolution",
          "Indice_Evolution",
          "Indice_Evolution",
          "Indice_Evolution",
          "Indice_Evolution",
          "Indice_Evolution",
          "Indice_Evolution",
          "Indice_Evolution",
          "Indice_Evolution",
          "Indice_Evolution",
          "Indice_Evolution",
          "Indice_Evolution",
          "Indice_Evolution",
          "Indice_Evolution",
          "Indice_Evolution",
          "Indice_Evolution",
          "Indice_Evolution",
          "Indice_Evolution",
          "Indice_Evolution",
          "Indice_Evolution",
          "Indice_Evolution",
          "Indice_Evolution",
          "Indice_Evolution",
          "Indice_Evolution",
          "Indice_Evolution",
          "Indice_Evolution",
          "Indice_Evolution",
          "Indice_Evolution",
          "Indice_Evolution",
          "Indice_Evolution",
          "Indice_Evolution",
          "Indice_Evolution",
          "Indice_Evolution",
          "Indice_Evolution",
          "Gdp",
          "Gdp",
          "Gdp",
          "Gdp",
          "Gdp",
          "Gdp",
          "Gdp",
          "Gdp",
          "Gdp",
          "Gdp",
          "Gdp",
          "Gdp",
          "Gdp",
          "Gdp",
          "Gdp",
          "Gdp",
          "Gdp",
          "Gdp",
          "Gdp",
          "Gdp",
          "Gdp",
          "Gdp",
          "Gdp",
          "Gdp",
          "Gdp",
          "Gdp",
          "Gdp",
          "Gdp",
          "Gdp",
          "Gdp",
          "Gdp",
          "Gdp",
          "Gdp",
          "Gdp",
          "Gdp",
          "Gdp",
          "Gdp",
          "Gdp",
          "Gdp",
          "Gdp",
          "Gdp",
          "Gdp",
          "Gdp",
          "Gdp",
          "Gdp",
          "Gdp",
          "Gdp",
          "Gdp",
          "Gdp",
          "Gdp",
          "Gdp",
          "Gdp",
          "Gdp",
          "Gdp",
          "Gdp",
          "Gdp",
          "Gdp",
          "Gdp",
          "Gdp",
          "Gdp",
          "Gdp",
          "Gdp",
          "Gdp",
          "Gdp",
          "Gdp",
          "Gdp",
          "Gdp",
          "Gdp",
          "Gdp",
          "Gdp",
          "Gdp",
          "Gdp",
          "Gdp",
          "Gdp",
          "Gdp",
          "Gdp",
          "Gdp",
          "Gdp",
          "Gdp",
          "Gdp",
          "Gdp",
          "Gdp",
          "Gdp",
          "Gdp",
          "Gdp",
          "Gdp",
          "Gdp",
          "Gdp",
          "Gdp",
          "Gdp",
          "Gdp",
          "Gdp",
          "Gdp",
          "Gdp",
          "Gdp",
          "Gdp",
          "Gdp",
          "Gdp",
          "Gdp",
          "Gdp",
          "Gdp",
          "Gdp",
          "Gdp",
          "Gdp",
          "Gdp",
          "Gdp",
          "Gdp",
          "Gdp",
          "Gdp",
          "Gdp",
          "Gdp",
          "Gdp",
          "Gdp",
          "Gdp",
          "Gdp",
          "Gdp",
          "Gdp",
          "Gdp",
          "Gdp",
          "Gdp",
          "Gdp",
          "Gdp",
          "Gdp",
          "Gdp",
          "Gdp",
          "Gdp",
          "Gdp",
          "Gdp",
          "Gdp",
          "Gdp",
          "Gdp",
          "Gdp",
          "Gdp",
          "Gdp",
          "Gdp",
          "Gdp",
          "Gdp",
          "Gdp",
          "Gdp",
          "Gdp",
          "Gdp",
          "Gdp",
          "Gdp",
          "Gdp",
          "Gdp",
          "Gdp",
          "Gdp",
          "Gdp",
          "Gdp",
          "Gdp",
          "Gdp",
          "Gdp",
          "Gdp",
          "Gdp",
          "Gdp",
          "Gdp",
          "Gdp",
          "Gdp",
          "Gdp",
          "Gdp",
          "Gdp",
          "Gdp",
          "Gdp",
          "Gdp",
          "Gdp",
          "Gdp",
          "Gdp",
          "Gdp",
          "Gdp",
          "Gdp",
          "Gdp",
          "Gdp",
          "Gdp",
          "Gdp",
          "Gdp",
          "Gdp",
          "Gdp",
          "Gdp",
          "Gdp",
          "Gdp",
          "Gdp",
          "Gdp",
          "Gdp",
          "Gdp",
          "Gdp",
          "Gdp",
          "Gdp",
          "Gdp",
          "Gdp",
          "Gdp",
          "Gdp",
          "Gdp",
          "Gdp",
          "Gdp",
          "Gdp",
          "Gdp",
          "Gdp",
          "Population",
          "Population",
          "Population",
          "Population",
          "Population",
          "Population",
          "Population",
          "Population",
          "Population",
          "Population",
          "Population",
          "Population",
          "Population",
          "Population",
          "Population",
          "Population",
          "Population",
          "Population",
          "Population",
          "Population",
          "Population",
          "Population",
          "Population",
          "Population",
          "Population",
          "Population",
          "Population",
          "Population",
          "Population",
          "Population",
          "Population",
          "Population",
          "Population",
          "Population",
          "Population",
          "Population",
          "Population",
          "Population",
          "Population",
          "Population",
          "Population",
          "Population",
          "Population",
          "Population",
          "Population",
          "Population",
          "Population",
          "Population",
          "Population",
          "Population",
          "Population",
          "Population",
          "Population",
          "Population",
          "Population",
          "Population",
          "Population",
          "Population",
          "Population",
          "Population",
          "Population",
          "Population",
          "Population",
          "Population",
          "Population",
          "Population",
          "Population",
          "Population",
          "Population",
          "Population",
          "Population",
          "Population",
          "Population",
          "Population",
          "Population",
          "Population",
          "Population",
          "Population",
          "Population",
          "Population",
          "Population",
          "Population",
          "Population",
          "Population",
          "Population",
          "Population",
          "Population",
          "Population",
          "Population",
          "Population",
          "Population",
          "Population",
          "Population",
          "Population",
          "Population",
          "Population",
          "Population",
          "Population",
          "Population",
          "Population",
          "Population",
          "Population",
          "Population",
          "Population",
          "Population",
          "Population",
          "Population",
          "Population",
          "Population",
          "Population",
          "Population",
          "Population",
          "Population",
          "Population",
          "Population",
          "Population",
          "Population",
          "Population",
          "Population",
          "Population",
          "Population",
          "Population",
          "Population",
          "Population",
          "Population",
          "Population",
          "Population",
          "Population",
          "Population",
          "Population",
          "Population",
          "Population",
          "Population",
          "Population",
          "Population",
          "Population",
          "Population",
          "Population",
          "Population",
          "Population",
          "Population",
          "Population",
          "Population",
          "Population",
          "Population",
          "Population",
          "Population",
          "Population",
          "Population",
          "Population",
          "Population",
          "Population",
          "Population",
          "Population",
          "Population",
          "Population",
          "Population",
          "Population",
          "Population",
          "Population",
          "Population",
          "Population",
          "Population",
          "Population",
          "Population",
          "Population",
          "Population",
          "Population",
          "Population",
          "Population",
          "Population",
          "Population",
          "Population",
          "Population",
          "Population",
          "Population",
          "Population",
          "Population",
          "Population",
          "Population",
          "Population",
          "Population",
          "Population",
          "Population",
          "Population",
          "Population",
          "Population",
          "Population",
          "Population",
          "Population",
          "Population",
          "Population",
          "Population",
          "Population",
          "Population",
          "Population",
          "Population",
          "Literacy_Rate_2021",
          "Literacy_Rate_2021",
          "Literacy_Rate_2021",
          "Literacy_Rate_2021",
          "Literacy_Rate_2021",
          "Literacy_Rate_2021",
          "Literacy_Rate_2021",
          "Literacy_Rate_2021",
          "Literacy_Rate_2021",
          "Literacy_Rate_2021",
          "Literacy_Rate_2021",
          "Literacy_Rate_2021",
          "Literacy_Rate_2021",
          "Literacy_Rate_2021",
          "Literacy_Rate_2021",
          "Literacy_Rate_2021",
          "Literacy_Rate_2021",
          "Literacy_Rate_2021",
          "Literacy_Rate_2021",
          "Literacy_Rate_2021",
          "Literacy_Rate_2021",
          "Literacy_Rate_2021",
          "Literacy_Rate_2021",
          "Literacy_Rate_2021",
          "Literacy_Rate_2021",
          "Literacy_Rate_2021",
          "Literacy_Rate_2021",
          "Literacy_Rate_2021",
          "Literacy_Rate_2021",
          "Literacy_Rate_2021",
          "Literacy_Rate_2021",
          "Literacy_Rate_2021",
          "Literacy_Rate_2021",
          "Literacy_Rate_2021",
          "Literacy_Rate_2021",
          "Literacy_Rate_2021",
          "Literacy_Rate_2021",
          "Literacy_Rate_2021",
          "Literacy_Rate_2021",
          "Literacy_Rate_2021",
          "Literacy_Rate_2021",
          "Literacy_Rate_2021",
          "Literacy_Rate_2021",
          "Literacy_Rate_2021",
          "Literacy_Rate_2021",
          "Literacy_Rate_2021",
          "Literacy_Rate_2021",
          "Literacy_Rate_2021",
          "Literacy_Rate_2021",
          "Literacy_Rate_2021",
          "Literacy_Rate_2021",
          "Literacy_Rate_2021",
          "Literacy_Rate_2021",
          "Literacy_Rate_2021",
          "Literacy_Rate_2021",
          "Literacy_Rate_2021",
          "Literacy_Rate_2021",
          "Literacy_Rate_2021",
          "Literacy_Rate_2021",
          "Literacy_Rate_2021",
          "Literacy_Rate_2021",
          "Literacy_Rate_2021",
          "Literacy_Rate_2021",
          "Literacy_Rate_2021",
          "Literacy_Rate_2021",
          "Literacy_Rate_2021",
          "Literacy_Rate_2021",
          "Literacy_Rate_2021",
          "Literacy_Rate_2021",
          "Literacy_Rate_2021",
          "Literacy_Rate_2021",
          "Literacy_Rate_2021",
          "Literacy_Rate_2021",
          "Literacy_Rate_2021",
          "Literacy_Rate_2021",
          "Literacy_Rate_2021",
          "Literacy_Rate_2021",
          "Literacy_Rate_2021",
          "Literacy_Rate_2021",
          "Literacy_Rate_2021",
          "Literacy_Rate_2021",
          "Literacy_Rate_2021",
          "Literacy_Rate_2021",
          "Literacy_Rate_2021",
          "Literacy_Rate_2021",
          "Literacy_Rate_2021",
          "Literacy_Rate_2021",
          "Literacy_Rate_2021",
          "Literacy_Rate_2021",
          "Literacy_Rate_2021",
          "Literacy_Rate_2021",
          "Literacy_Rate_2021",
          "Literacy_Rate_2021",
          "Literacy_Rate_2021",
          "Literacy_Rate_2021",
          "Literacy_Rate_2021",
          "Literacy_Rate_2021",
          "Literacy_Rate_2021",
          "Literacy_Rate_2021",
          "Literacy_Rate_2021",
          "Literacy_Rate_2021",
          "Literacy_Rate_2021",
          "Literacy_Rate_2021",
          "Literacy_Rate_2021",
          "Literacy_Rate_2021",
          "Literacy_Rate_2021",
          "Literacy_Rate_2021",
          "Literacy_Rate_2021",
          "Literacy_Rate_2021",
          "Literacy_Rate_2021",
          "Literacy_Rate_2021",
          "Literacy_Rate_2021",
          "Literacy_Rate_2021",
          "Literacy_Rate_2021",
          "Literacy_Rate_2021",
          "Literacy_Rate_2021",
          "Literacy_Rate_2021",
          "Literacy_Rate_2021",
          "Literacy_Rate_2021",
          "Literacy_Rate_2021",
          "Literacy_Rate_2021",
          "Literacy_Rate_2021",
          "Literacy_Rate_2021",
          "Literacy_Rate_2021",
          "Literacy_Rate_2021",
          "Literacy_Rate_2021",
          "Literacy_Rate_2021",
          "Literacy_Rate_2021",
          "Literacy_Rate_2021",
          "Literacy_Rate_2021",
          "Literacy_Rate_2021",
          "Literacy_Rate_2021",
          "Literacy_Rate_2021",
          "Literacy_Rate_2021",
          "Literacy_Rate_2021",
          "Literacy_Rate_2021",
          "Literacy_Rate_2021",
          "Literacy_Rate_2021",
          "Literacy_Rate_2021",
          "Literacy_Rate_2021",
          "Literacy_Rate_2021",
          "Literacy_Rate_2021",
          "Literacy_Rate_2021",
          "Literacy_Rate_2021",
          "Literacy_Rate_2021",
          "Literacy_Rate_2021",
          "Literacy_Rate_2021",
          "Literacy_Rate_2021",
          "Literacy_Rate_2021",
          "Literacy_Rate_2021",
          "Literacy_Rate_2021",
          "Literacy_Rate_2021",
          "Literacy_Rate_2021",
          "Literacy_Rate_2021",
          "Literacy_Rate_2021",
          "Literacy_Rate_2021",
          "Literacy_Rate_2021",
          "Literacy_Rate_2021",
          "Literacy_Rate_2021",
          "Literacy_Rate_2021",
          "Literacy_Rate_2021",
          "Literacy_Rate_2021",
          "Literacy_Rate_2021",
          "Literacy_Rate_2021",
          "Literacy_Rate_2021",
          "Literacy_Rate_2021",
          "Literacy_Rate_2021",
          "Literacy_Rate_2021",
          "Literacy_Rate_2021",
          "Literacy_Rate_2021",
          "Literacy_Rate_2021",
          "Literacy_Rate_2021",
          "Literacy_Rate_2021",
          "Literacy_Rate_2021",
          "Literacy_Rate_2021",
          "Literacy_Rate_2021",
          "Literacy_Rate_2021",
          "Literacy_Rate_2021",
          "Literacy_Rate_2021",
          "Literacy_Rate_2021",
          "Literacy_Rate_2021",
          "Literacy_Rate_2021",
          "Literacy_Rate_2021",
          "Literacy_Rate_2021",
          "Literacy_Rate_2021",
          "Literacy_Rate_2021",
          "Literacy_Rate_2021",
          "Literacy_Rate_2021",
          "Literacy_Rate_2021",
          "Literacy_Rate_2021",
          "Literacy_Rate_2021",
          "Literacy_Rate_2021",
          "Literacy_Rate_2021",
          "Literacy_Rate_2021",
          "Literacy_Rate_2021",
          "Literacy_Rate_2021",
          "Literacy_Rate_2021",
          "Education_Spending_2021",
          "Education_Spending_2021",
          "Education_Spending_2021",
          "Education_Spending_2021",
          "Education_Spending_2021",
          "Education_Spending_2021",
          "Education_Spending_2021",
          "Education_Spending_2021",
          "Education_Spending_2021",
          "Education_Spending_2021",
          "Education_Spending_2021",
          "Education_Spending_2021",
          "Education_Spending_2021",
          "Education_Spending_2021",
          "Education_Spending_2021",
          "Education_Spending_2021",
          "Education_Spending_2021",
          "Education_Spending_2021",
          "Education_Spending_2021",
          "Education_Spending_2021",
          "Education_Spending_2021",
          "Education_Spending_2021",
          "Education_Spending_2021",
          "Education_Spending_2021",
          "Education_Spending_2021",
          "Education_Spending_2021",
          "Education_Spending_2021",
          "Education_Spending_2021",
          "Education_Spending_2021",
          "Education_Spending_2021",
          "Education_Spending_2021",
          "Education_Spending_2021",
          "Education_Spending_2021",
          "Education_Spending_2021",
          "Education_Spending_2021",
          "Education_Spending_2021",
          "Education_Spending_2021",
          "Education_Spending_2021",
          "Education_Spending_2021",
          "Education_Spending_2021",
          "Education_Spending_2021",
          "Education_Spending_2021",
          "Education_Spending_2021",
          "Education_Spending_2021",
          "Education_Spending_2021",
          "Education_Spending_2021",
          "Education_Spending_2021",
          "Education_Spending_2021",
          "Education_Spending_2021",
          "Education_Spending_2021",
          "Education_Spending_2021",
          "Education_Spending_2021",
          "Education_Spending_2021",
          "Education_Spending_2021",
          "Education_Spending_2021",
          "Education_Spending_2021",
          "Education_Spending_2021",
          "Education_Spending_2021",
          "Education_Spending_2021",
          "Education_Spending_2021",
          "Education_Spending_2021",
          "Education_Spending_2021",
          "Education_Spending_2021",
          "Education_Spending_2021",
          "Education_Spending_2021",
          "Education_Spending_2021",
          "Education_Spending_2021",
          "Education_Spending_2021",
          "Education_Spending_2021",
          "Education_Spending_2021",
          "Education_Spending_2021",
          "Education_Spending_2021",
          "Education_Spending_2021",
          "Education_Spending_2021",
          "Education_Spending_2021",
          "Education_Spending_2021",
          "Education_Spending_2021",
          "Education_Spending_2021",
          "Education_Spending_2021",
          "Education_Spending_2021",
          "Education_Spending_2021",
          "Education_Spending_2021",
          "Education_Spending_2021",
          "Education_Spending_2021",
          "Education_Spending_2021",
          "Education_Spending_2021",
          "Education_Spending_2021",
          "Education_Spending_2021",
          "Education_Spending_2021",
          "Education_Spending_2021",
          "Education_Spending_2021",
          "Education_Spending_2021",
          "Education_Spending_2021",
          "Education_Spending_2021",
          "Education_Spending_2021",
          "Education_Spending_2021",
          "Education_Spending_2021",
          "Education_Spending_2021",
          "Education_Spending_2021",
          "Education_Spending_2021",
          "Education_Spending_2021",
          "Education_Spending_2021",
          "Education_Spending_2021",
          "Education_Spending_2021",
          "Education_Spending_2021",
          "Education_Spending_2021",
          "Education_Spending_2021",
          "Education_Spending_2021",
          "Education_Spending_2021",
          "Education_Spending_2021",
          "Education_Spending_2021",
          "Education_Spending_2021",
          "Education_Spending_2021",
          "Education_Spending_2021",
          "Education_Spending_2021",
          "Education_Spending_2021",
          "Education_Spending_2021",
          "Education_Spending_2021",
          "Education_Spending_2021",
          "Education_Spending_2021",
          "Education_Spending_2021",
          "Education_Spending_2021",
          "Education_Spending_2021",
          "Education_Spending_2021",
          "Education_Spending_2021",
          "Education_Spending_2021",
          "Education_Spending_2021",
          "Education_Spending_2021",
          "Education_Spending_2021",
          "Education_Spending_2021",
          "Education_Spending_2021",
          "Education_Spending_2021",
          "Education_Spending_2021",
          "Education_Spending_2021",
          "Education_Spending_2021",
          "Education_Spending_2021",
          "Education_Spending_2021",
          "Education_Spending_2021",
          "Education_Spending_2021",
          "Education_Spending_2021",
          "Education_Spending_2021",
          "Education_Spending_2021",
          "Education_Spending_2021",
          "Education_Spending_2021",
          "Education_Spending_2021",
          "Education_Spending_2021",
          "Education_Spending_2021",
          "Education_Spending_2021",
          "Education_Spending_2021",
          "Education_Spending_2021",
          "Education_Spending_2021",
          "Education_Spending_2021",
          "Education_Spending_2021",
          "Education_Spending_2021",
          "Education_Spending_2021",
          "Education_Spending_2021",
          "Education_Spending_2021",
          "Education_Spending_2021",
          "Education_Spending_2021",
          "Education_Spending_2021",
          "Education_Spending_2021",
          "Education_Spending_2021",
          "Education_Spending_2021",
          "Education_Spending_2021",
          "Education_Spending_2021",
          "Education_Spending_2021",
          "Education_Spending_2021",
          "Education_Spending_2021",
          "Education_Spending_2021",
          "Education_Spending_2021",
          "Education_Spending_2021",
          "Education_Spending_2021",
          "Education_Spending_2021",
          "Education_Spending_2021",
          "Education_Spending_2021",
          "Education_Spending_2021",
          "Education_Spending_2021",
          "Education_Spending_2021",
          "Education_Spending_2021",
          "Education_Spending_2021",
          "Education_Spending_2021",
          "Education_Spending_2021",
          "Education_Spending_2021",
          "Education_Spending_2021",
          "Education_Spending_2021",
          "Education_Spending_2021",
          "Education_Spending_2021",
          "Education_Spending_2021",
          "Education_Spending_2021",
          "Education_Spending_2021",
          "Education_Spending_2021",
          "Education_Spending_2021",
          "Education_Spending_2021",
          "Education_Spending_2021",
          "Education_Spending_2021",
          "Education_Spending_2021",
          "Education_Spending_2021",
          "Annee_Souverainete",
          "Annee_Souverainete",
          "Annee_Souverainete",
          "Annee_Souverainete",
          "Annee_Souverainete",
          "Annee_Souverainete",
          "Annee_Souverainete",
          "Annee_Souverainete",
          "Annee_Souverainete",
          "Annee_Souverainete",
          "Annee_Souverainete",
          "Annee_Souverainete",
          "Annee_Souverainete",
          "Annee_Souverainete",
          "Annee_Souverainete",
          "Annee_Souverainete",
          "Annee_Souverainete",
          "Annee_Souverainete",
          "Annee_Souverainete",
          "Annee_Souverainete",
          "Annee_Souverainete",
          "Annee_Souverainete",
          "Annee_Souverainete",
          "Annee_Souverainete",
          "Annee_Souverainete",
          "Annee_Souverainete",
          "Annee_Souverainete",
          "Annee_Souverainete",
          "Annee_Souverainete",
          "Annee_Souverainete",
          "Annee_Souverainete",
          "Annee_Souverainete",
          "Annee_Souverainete",
          "Annee_Souverainete",
          "Annee_Souverainete",
          "Annee_Souverainete",
          "Annee_Souverainete",
          "Annee_Souverainete",
          "Annee_Souverainete",
          "Annee_Souverainete",
          "Annee_Souverainete",
          "Annee_Souverainete",
          "Annee_Souverainete",
          "Annee_Souverainete",
          "Annee_Souverainete",
          "Annee_Souverainete",
          "Annee_Souverainete",
          "Annee_Souverainete",
          "Annee_Souverainete",
          "Annee_Souverainete",
          "Annee_Souverainete",
          "Annee_Souverainete",
          "Annee_Souverainete",
          "Annee_Souverainete",
          "Annee_Souverainete",
          "Annee_Souverainete",
          "Annee_Souverainete",
          "Annee_Souverainete",
          "Annee_Souverainete",
          "Annee_Souverainete",
          "Annee_Souverainete",
          "Annee_Souverainete",
          "Annee_Souverainete",
          "Annee_Souverainete",
          "Annee_Souverainete",
          "Annee_Souverainete",
          "Annee_Souverainete",
          "Annee_Souverainete",
          "Annee_Souverainete",
          "Annee_Souverainete",
          "Annee_Souverainete",
          "Annee_Souverainete",
          "Annee_Souverainete",
          "Annee_Souverainete",
          "Annee_Souverainete",
          "Annee_Souverainete",
          "Annee_Souverainete",
          "Annee_Souverainete",
          "Annee_Souverainete",
          "Annee_Souverainete",
          "Annee_Souverainete",
          "Annee_Souverainete",
          "Annee_Souverainete",
          "Annee_Souverainete",
          "Annee_Souverainete",
          "Annee_Souverainete",
          "Annee_Souverainete",
          "Annee_Souverainete",
          "Annee_Souverainete",
          "Annee_Souverainete",
          "Annee_Souverainete",
          "Annee_Souverainete",
          "Annee_Souverainete",
          "Annee_Souverainete",
          "Annee_Souverainete",
          "Annee_Souverainete",
          "Annee_Souverainete",
          "Annee_Souverainete",
          "Annee_Souverainete",
          "Annee_Souverainete",
          "Annee_Souverainete",
          "Annee_Souverainete",
          "Annee_Souverainete",
          "Annee_Souverainete",
          "Annee_Souverainete",
          "Annee_Souverainete",
          "Annee_Souverainete",
          "Annee_Souverainete",
          "Annee_Souverainete",
          "Annee_Souverainete",
          "Annee_Souverainete",
          "Annee_Souverainete",
          "Annee_Souverainete",
          "Annee_Souverainete",
          "Annee_Souverainete",
          "Annee_Souverainete",
          "Annee_Souverainete",
          "Annee_Souverainete",
          "Annee_Souverainete",
          "Annee_Souverainete",
          "Annee_Souverainete",
          "Annee_Souverainete",
          "Annee_Souverainete",
          "Annee_Souverainete",
          "Annee_Souverainete",
          "Annee_Souverainete",
          "Annee_Souverainete",
          "Annee_Souverainete",
          "Annee_Souverainete",
          "Annee_Souverainete",
          "Annee_Souverainete",
          "Annee_Souverainete",
          "Annee_Souverainete",
          "Annee_Souverainete",
          "Annee_Souverainete",
          "Annee_Souverainete",
          "Annee_Souverainete",
          "Annee_Souverainete",
          "Annee_Souverainete",
          "Annee_Souverainete",
          "Annee_Souverainete",
          "Annee_Souverainete",
          "Annee_Souverainete",
          "Annee_Souverainete",
          "Annee_Souverainete",
          "Annee_Souverainete",
          "Annee_Souverainete",
          "Annee_Souverainete",
          "Annee_Souverainete",
          "Annee_Souverainete",
          "Annee_Souverainete",
          "Annee_Souverainete",
          "Annee_Souverainete",
          "Annee_Souverainete",
          "Annee_Souverainete",
          "Annee_Souverainete",
          "Annee_Souverainete",
          "Annee_Souverainete",
          "Annee_Souverainete",
          "Annee_Souverainete",
          "Annee_Souverainete",
          "Annee_Souverainete",
          "Annee_Souverainete",
          "Annee_Souverainete",
          "Annee_Souverainete",
          "Annee_Souverainete",
          "Annee_Souverainete",
          "Annee_Souverainete",
          "Annee_Souverainete",
          "Annee_Souverainete",
          "Annee_Souverainete",
          "Annee_Souverainete",
          "Annee_Souverainete",
          "Annee_Souverainete",
          "Annee_Souverainete",
          "Annee_Souverainete",
          "Annee_Souverainete",
          "Annee_Souverainete",
          "Annee_Souverainete",
          "Annee_Souverainete",
          "Annee_Souverainete",
          "Annee_Souverainete",
          "Annee_Souverainete",
          "Annee_Souverainete",
          "Annee_Souverainete",
          "Annee_Souverainete",
          "Annee_Souverainete",
          "Annee_Souverainete",
          "Annee_Souverainete",
          "Annee_Souverainete",
          "Annee_Souverainete",
          "Annee_Souverainete",
          "Annee_Souverainete",
          "Annee_Souverainete",
          "Annee_Souverainete",
          "Annee_Souverainete",
          "Annee_Souverainete",
          "Nb_Foreign_Students",
          "Nb_Foreign_Students",
          "Nb_Foreign_Students",
          "Nb_Foreign_Students",
          "Nb_Foreign_Students",
          "Nb_Foreign_Students",
          "Nb_Foreign_Students",
          "Nb_Foreign_Students",
          "Nb_Foreign_Students",
          "Nb_Foreign_Students",
          "Nb_Foreign_Students",
          "Nb_Foreign_Students",
          "Nb_Foreign_Students",
          "Nb_Foreign_Students",
          "Nb_Foreign_Students",
          "Nb_Foreign_Students",
          "Nb_Foreign_Students",
          "Nb_Foreign_Students",
          "Nb_Foreign_Students",
          "Nb_Foreign_Students",
          "Nb_Foreign_Students",
          "Nb_Foreign_Students",
          "Nb_Foreign_Students",
          "Nb_Foreign_Students",
          "Nb_Foreign_Students",
          "Nb_Foreign_Students",
          "Nb_Foreign_Students",
          "Nb_Foreign_Students",
          "Nb_Foreign_Students",
          "Nb_Foreign_Students",
          "Nb_Foreign_Students",
          "Nb_Foreign_Students",
          "Nb_Foreign_Students",
          "Nb_Foreign_Students",
          "Nb_Foreign_Students",
          "Nb_Foreign_Students",
          "Nb_Foreign_Students",
          "Nb_Foreign_Students",
          "Nb_Foreign_Students",
          "Nb_Foreign_Students",
          "Nb_Foreign_Students",
          "Nb_Foreign_Students",
          "Nb_Foreign_Students",
          "Nb_Foreign_Students",
          "Nb_Foreign_Students",
          "Nb_Foreign_Students",
          "Nb_Foreign_Students",
          "Nb_Foreign_Students",
          "Nb_Foreign_Students",
          "Nb_Foreign_Students",
          "Nb_Foreign_Students",
          "Nb_Foreign_Students",
          "Nb_Foreign_Students",
          "Nb_Foreign_Students",
          "Nb_Foreign_Students",
          "Nb_Foreign_Students",
          "Nb_Foreign_Students",
          "Nb_Foreign_Students",
          "Nb_Foreign_Students",
          "Nb_Foreign_Students",
          "Nb_Foreign_Students",
          "Nb_Foreign_Students",
          "Nb_Foreign_Students",
          "Nb_Foreign_Students",
          "Nb_Foreign_Students",
          "Nb_Foreign_Students",
          "Nb_Foreign_Students",
          "Nb_Foreign_Students",
          "Nb_Foreign_Students",
          "Nb_Foreign_Students",
          "Nb_Foreign_Students",
          "Nb_Foreign_Students",
          "Nb_Foreign_Students",
          "Nb_Foreign_Students",
          "Nb_Foreign_Students",
          "Nb_Foreign_Students",
          "Nb_Foreign_Students",
          "Nb_Foreign_Students",
          "Nb_Foreign_Students",
          "Nb_Foreign_Students",
          "Nb_Foreign_Students",
          "Nb_Foreign_Students",
          "Nb_Foreign_Students",
          "Nb_Foreign_Students",
          "Nb_Foreign_Students",
          "Nb_Foreign_Students",
          "Nb_Foreign_Students",
          "Nb_Foreign_Students",
          "Nb_Foreign_Students",
          "Nb_Foreign_Students",
          "Nb_Foreign_Students",
          "Nb_Foreign_Students",
          "Nb_Foreign_Students",
          "Nb_Foreign_Students",
          "Nb_Foreign_Students",
          "Nb_Foreign_Students",
          "Nb_Foreign_Students",
          "Nb_Foreign_Students",
          "Nb_Foreign_Students",
          "Nb_Foreign_Students",
          "Nb_Foreign_Students",
          "Nb_Foreign_Students",
          "Nb_Foreign_Students",
          "Nb_Foreign_Students",
          "Nb_Foreign_Students",
          "Nb_Foreign_Students",
          "Nb_Foreign_Students",
          "Nb_Foreign_Students",
          "Nb_Foreign_Students",
          "Nb_Foreign_Students",
          "Nb_Foreign_Students",
          "Nb_Foreign_Students",
          "Nb_Foreign_Students",
          "Nb_Foreign_Students",
          "Nb_Foreign_Students",
          "Nb_Foreign_Students",
          "Nb_Foreign_Students",
          "Nb_Foreign_Students",
          "Nb_Foreign_Students",
          "Nb_Foreign_Students",
          "Nb_Foreign_Students",
          "Nb_Foreign_Students",
          "Nb_Foreign_Students",
          "Nb_Foreign_Students",
          "Nb_Foreign_Students",
          "Nb_Foreign_Students",
          "Nb_Foreign_Students",
          "Nb_Foreign_Students",
          "Nb_Foreign_Students",
          "Nb_Foreign_Students",
          "Nb_Foreign_Students",
          "Nb_Foreign_Students",
          "Nb_Foreign_Students",
          "Nb_Foreign_Students",
          "Nb_Foreign_Students",
          "Nb_Foreign_Students",
          "Nb_Foreign_Students",
          "Nb_Foreign_Students",
          "Nb_Foreign_Students",
          "Nb_Foreign_Students",
          "Nb_Foreign_Students",
          "Nb_Foreign_Students",
          "Nb_Foreign_Students",
          "Nb_Foreign_Students",
          "Nb_Foreign_Students",
          "Nb_Foreign_Students",
          "Nb_Foreign_Students",
          "Nb_Foreign_Students",
          "Nb_Foreign_Students",
          "Nb_Foreign_Students",
          "Nb_Foreign_Students",
          "Nb_Foreign_Students",
          "Nb_Foreign_Students",
          "Nb_Foreign_Students",
          "Nb_Foreign_Students",
          "Nb_Foreign_Students",
          "Nb_Foreign_Students",
          "Nb_Foreign_Students",
          "Nb_Foreign_Students",
          "Nb_Foreign_Students",
          "Nb_Foreign_Students",
          "Nb_Foreign_Students",
          "Nb_Foreign_Students",
          "Nb_Foreign_Students",
          "Nb_Foreign_Students",
          "Nb_Foreign_Students",
          "Nb_Foreign_Students",
          "Nb_Foreign_Students",
          "Nb_Foreign_Students",
          "Nb_Foreign_Students",
          "Nb_Foreign_Students",
          "Nb_Foreign_Students",
          "Nb_Foreign_Students",
          "Nb_Foreign_Students",
          "Nb_Foreign_Students",
          "Nb_Foreign_Students",
          "Nb_Foreign_Students",
          "Nb_Foreign_Students",
          "Nb_Foreign_Students",
          "Nb_Foreign_Students",
          "Nb_Foreign_Students",
          "Nb_Foreign_Students",
          "Nb_Foreign_Students",
          "Nb_Foreign_Students",
          "Nb_Foreign_Students",
          "Nb_Foreign_Students",
          "Nb_Foreign_Students",
          "Nb_Foreign_Students",
          "Nb_Foreign_Students",
          "Nb_Foreign_Students",
          "Nb_Foreign_Students",
          "Nb_Foreign_Students",
          "Nb_Foreign_Students",
          "Nb_Foreign_Students",
          "Nb_Foreign_Students",
          "Nb_Foreign_Students",
          "Nb_Foreign_Students"
         ],
         "x0": " ",
         "xaxis": "x",
         "y": [
          -0.6605271175125899,
          -0.4618348870767081,
          -0.4578753592971921,
          null,
          -0.5331427182150597,
          null,
          -0.4922759684693209,
          -0.1357227656006956,
          1.109802611300725,
          2.136833774222378,
          -0.07353749364504437,
          1.0411281808694022,
          1.1687496118217406,
          -0.5048252138687198,
          null,
          0.13947888154845847,
          0.2964625818005229,
          -0.16381197599027567,
          null,
          null,
          null,
          -0.6118646672725334,
          0.1632260429038255,
          -0.48519272141652475,
          -0.5339053701917543,
          null,
          2.179359024574533,
          -0.3470046431841792,
          -0.6246065354252137,
          -0.6599059371560703,
          -0.5897901955387443,
          -0.5805075065600859,
          0.528521346438403,
          null,
          null,
          -0.647615768074372,
          -0.634629245482137,
          -0.38592493358968344,
          -0.602260509062159,
          -0.5676817137850521,
          -0.5570092145682249,
          -0.6406772278385235,
          null,
          -0.4467276391320976,
          1.3129264413527804,
          -0.3947190555230181,
          0.673522017626855,
          0.23834118958626152,
          -0.4368413531345805,
          -0.43756761737045646,
          null,
          -0.479570084562061,
          null,
          -0.4755320492323797,
          -0.5888767115076451,
          -0.606484275851555,
          2.382936883677007,
          -0.40899496047700185,
          -0.6328755853148568,
          -0.3590398586584683,
          1.151078961483469,
          -0.5377911147033718,
          -0.18903117098086702,
          -0.6259167455554268,
          -0.11652380316455678,
          -0.49679271166764555,
          -0.5429448799396328,
          -0.29988808389323496,
          null,
          null,
          -0.5832988626227102,
          -0.6082740004974769,
          -0.04567178071582709,
          -0.6426523599407037,
          -0.623415929837701,
          null,
          1.4199676247169546,
          2.390325540875618,
          -0.567032856130132,
          -0.47324627392018753,
          -0.6454965259479745,
          -0.48707047447714397,
          2.814819152915725,
          1.7869298470416821,
          1.020180695706586,
          -0.531312228412071,
          -0.3668273192955839,
          1.3710746113288792,
          -0.48028216064031615,
          0.44061003882576305,
          -0.5508775884738423,
          -0.5316590310593688,
          2.8938166474693756,
          null,
          -0.5506862547047822,
          0.051449952850941366,
          -0.48695365561126974,
          -0.6083823809785597,
          -0.6589360115227262,
          -0.37994378636524206,
          2.7254106989046836,
          0.1412505897681856,
          1.917768873915079,
          null,
          -0.6453736158986959,
          -0.6349655900761491,
          -0.07138410873573889,
          -0.050827985158885494,
          -0.6245248266313944,
          1.4030534502310923,
          -0.07580993890700316,
          -0.5613404623920284,
          -0.07858600276852662,
          -0.4871605405684123,
          null,
          -0.07496915860142243,
          -0.5270351093785737,
          1.2567777193942666,
          -0.4689973769049347,
          -0.636008925818153,
          null,
          -0.15110568218712725,
          -0.6553408669517257,
          2.020168873619648,
          null,
          0.8862212452034031,
          -0.6359329597176425,
          -0.6410749133014991,
          -0.5573451853385853,
          null,
          null,
          null,
          3.597291907178665,
          -0.5044089524534873,
          -0.6024196096237734,
          null,
          -0.39716520462875127,
          -0.487993911647996,
          -0.5714519054823515,
          -0.5542452085041608,
          -0.5324811493925812,
          -0.6086492940159774,
          -0.5711722815566476,
          null,
          3.9288386222197387,
          -0.6077439254402686,
          -0.29930909290246244,
          -0.5869968071249648,
          -0.6252793143005189,
          null,
          null,
          null,
          -0.4487695303650069,
          -0.50048490203032,
          0.23256969627725074,
          -0.5830357872685359,
          -0.23431103556973454,
          0.14513241636235627,
          -0.6439462052627309,
          3.557175611523596,
          1.9026466447979462,
          2.5717814793663636,
          -0.5063740442759216,
          -0.6406611800993657,
          -0.44759549268865423,
          1.0221997393867788,
          -0.363343113670713,
          -0.4695785879594807,
          -0.48051695551326,
          -0.6333363605956187,
          null,
          -0.22733840640526132,
          null,
          -0.6490759467823536,
          null,
          null,
          -0.6099896286418021,
          -0.5686281354898787,
          -0.6197390270045207,
          -0.37523172814509737,
          -0.4694047596269541,
          null,
          0.18914099109162916,
          null,
          -0.6220375586035883,
          -0.0900396826783911,
          2.361692635648084,
          -0.13146452429994088,
          null,
          -0.342888738393631,
          -0.4562436850645225,
          -0.4254517524196676,
          -0.3799896250158209,
          -0.4999897800893836,
          -0.6036420899541338,
          -0.6053290834809266,
          -0.5648587313776615,
          -0.21967848456584987,
          -0.21798411485871005,
          -0.15068137611864707,
          -0.2247380831890563,
          -0.19552183436458284,
          -0.22553520742855424,
          -0.0006554969945066072,
          -0.21985771773676574,
          0.49466647177472045,
          -0.004635719004088056,
          -0.2009228731088672,
          -0.22094503069761987,
          -0.20810751074042155,
          -0.03378286981380114,
          -0.22399914208120505,
          -0.1940565743622329,
          0.05152786094538621,
          -0.22515453205725636,
          -0.21809645805769592,
          -0.2229799026383161,
          -0.2249957207193448,
          -0.20759077355336306,
          -0.21533948276730416,
          -0.21761116543446798,
          0.5365574698029338,
          -0.22580081114950487,
          -0.2197987173691208,
          -0.18741251406090081,
          -0.21719238867410837,
          -0.22499211616736425,
          -0.21380815290344474,
          -0.20546942275570962,
          0.7020373399973351,
          -0.22535185452003328,
          -0.2234880317141012,
          -0.22511202410168327,
          -0.2208283222864303,
          -0.07987946374927345,
          8.014418989639871,
          -0.07898667181104706,
          -0.22567637640918894,
          -0.2006902385528265,
          -0.226143008503408,
          -0.19623601145839367,
          -0.19433056831095052,
          -0.17663315545453656,
          -0.21264197367301502,
          -0.09596733460382653,
          -0.038673888128995304,
          -0.22471002229593842,
          -0.2260189542554705,
          -0.18269484588408205,
          -0.17718156555819026,
          -0.029895246644312697,
          -0.21265662234584717,
          -0.22532080924441045,
          -0.20907745714501882,
          -0.22403255600120672,
          -0.17482502026275953,
          -0.22428495473048243,
          -0.08917924958914147,
          1.142215802222703,
          -0.21692636350658834,
          -0.2253331036819978,
          -0.21766096934559379,
          1.7522279570024126,
          -0.18950133811012165,
          -0.1270071368358542,
          -0.2247793938959278,
          -0.22575651046504014,
          -0.18648229658431362,
          -0.21883440465949172,
          -0.222557167698874,
          -0.21662140645940878,
          -0.213101718591653,
          -0.05568045430766085,
          -0.142072035772499,
          -0.21443942423837434,
          1.2305170640597165,
          0.3223986356912786,
          -0.06021895310593289,
          -0.13023313678539014,
          0.011131447724633887,
          -0.0003669535431259403,
          0.7704250730970713,
          -0.1930682118382834,
          -0.2194976347916413,
          2.10187820737493,
          -0.20486707293089443,
          -0.13512533071191637,
          -0.17554558803015496,
          -0.22617047211660396,
          -0.16274527983505052,
          -0.22627139216444414,
          -0.2175695088174728,
          -0.20803608584666863,
          -0.21557884829962068,
          -0.22518958609114392,
          -0.2246530627273596,
          -0.20787178590669805,
          -0.222710223337976,
          -0.19538597101088245,
          -0.1866991653051697,
          -0.2119546115471405,
          -0.2195451872806769,
          -0.2204480426265784,
          -0.05340482330992659,
          -0.22384595498002594,
          -0.21734647245317984,
          -0.21791167994131655,
          -0.22615651841720968,
          -0.2220109586392592,
          -0.22096502707032667,
          0.38068874436130096,
          -0.2260879794694695,
          -0.2199440432536977,
          -0.21920683381063238,
          -0.22356523236586956,
          -0.16069508383075984,
          -0.2187991497554742,
          -0.19563388868963053,
          -0.22052020153599713,
          -0.20920061338228796,
          0.24987725110079104,
          -0.2216184428755274,
          -0.10810124300635891,
          -0.21973426228629506,
          -0.21937859806221294,
          -0.022419054471465708,
          -0.21795200616599494,
          -0.21980248183880818,
          -0.22587896162627463,
          0.006496156656755775,
          -0.18549321032499552,
          -0.065111570792138,
          -0.2183543192712594,
          -0.19510490475680092,
          -0.2142001667503113,
          -0.20780127660541198,
          -0.12282215956070675,
          -0.04403835836189043,
          0.08879838924201898,
          -0.10810904197072882,
          -0.1770876767777141,
          -0.14316245790775234,
          -0.21941989001125822,
          -0.09410882100828648,
          0.6231561766551977,
          -0.2211637977685323,
          -0.2258786875943596,
          -0.22536885121643233,
          -0.22587238486031375,
          -0.22588547094192077,
          -0.2260332267595449,
          0.17795928760290022,
          -0.21352696120909015,
          -0.19709597013619903,
          -0.22568072424446686,
          -0.22431075683954552,
          -0.030299716949741907,
          -0.17144253834038217,
          -0.19768273132269013,
          -0.22554494763750707,
          -0.22172602146202083,
          -0.0320011259194676,
          0.6146197544509466,
          -0.22072759629768482,
          0.4422353156703462,
          -0.18532855247355925,
          -0.21044701066790472,
          -0.22485079650835227,
          0.06954693011637711,
          0.14986796985943038,
          -0.2221279639749824,
          -0.225992998432034,
          -0.22214262647783772,
          -0.19360252424664817,
          0.007513536191610168,
          -0.22237138689049832,
          -0.22605874091614298,
          -0.20468617399941905,
          0.15285362625643442,
          -0.20315084756817683,
          -0.22579258972397298,
          -0.2075426209887947,
          -0.13389822755099928,
          -0.03428507114939652,
          1.22644737450288,
          10.555290319914276,
          -0.19787692059610168,
          -0.19409039277620546,
          -0.22582641301547415,
          -0.0032188573247043215,
          -0.05696314812831889,
          -0.2162844133609985,
          -0.21605770476703973,
          -0.21315604612794575,
          0.0005900534087799179,
          -0.2567798146047801,
          0.025919996584913868,
          -0.27488488811922235,
          -0.03658682407550153,
          -0.27479134503247865,
          0.03485625040680595,
          -0.25676115833236834,
          -0.10090027654875763,
          -0.21474171651003643,
          -0.20736037575210278,
          -0.2726692208891985,
          -0.2655405853808826,
          0.8733922237238247,
          -0.27353055682724775,
          -0.21349201469402285,
          -0.1969983733537016,
          -0.2727008425998475,
          -0.18581098525153525,
          -0.2749942219286225,
          -0.2701696092196013,
          -0.1933859284565217,
          -0.2537207429330683,
          -0.2577689527197392,
          1.1695244839410914,
          -0.2752104937599224,
          -0.2724073754082769,
          -0.23203402750359362,
          -0.12325947006800392,
          -0.18892005975984422,
          -0.16289344573780756,
          -0.08808921561028361,
          -0.01416631316020264,
          -0.2714400208401698,
          -0.27495949978709067,
          -0.23797956006187235,
          -0.15648137215144772,
          -0.14386209500901084,
          9.20152959921401,
          0.0727002574020417,
          -0.2698050804206321,
          0.38902599976890245,
          null,
          -0.24065260795600532,
          -0.24954607314735877,
          -0.20017680490351253,
          -0.26702198065193783,
          -0.20380117505107934,
          -0.23580594997544724,
          -0.26789868452661403,
          -0.2749324481920936,
          -0.2000652028135098,
          -0.15461785884041923,
          0.4694217227758006,
          -0.23289775251825381,
          -0.2506974470125173,
          -0.26636866215127974,
          -0.2673563037379123,
          0.5525684406567103,
          -0.26918102139756944,
          -0.2381341655308731,
          0.18072736940285553,
          -0.2593883171650799,
          -0.25726096523899084,
          -0.25050638799253067,
          0.2869384275021718,
          -0.05076771846036426,
          -0.20544667841046454,
          -0.2750403324493927,
          -0.27457877761210364,
          -0.1589337257381947,
          -0.18241207414279773,
          -0.2699933074453102,
          -0.19767495179687017,
          -0.2054068090167961,
          -0.22612171384763077,
          -0.21070714996142775,
          -0.27285699828428966,
          9.235071785202894,
          1.573438425513617,
          0.31883249959571075,
          0.023187973395113793,
          -0.24101270756799903,
          -0.2112812531241188,
          0.1201220926634533,
          -0.08643829656318754,
          -0.256446363934422,
          0.5642793787920433,
          -0.19968235999748607,
          -0.1437396950980331,
          0.08715190932889176,
          -0.2745398947191707,
          -0.24677264377022756,
          null,
          -0.22489110451183716,
          -0.2628082467792827,
          -0.23857954712481236,
          -0.2599464417002125,
          -0.2398348726661069,
          -0.2297037114397991,
          -0.27515665900550257,
          -0.25641776212398354,
          -0.27103767617967534,
          -0.27075538261888377,
          -0.07669964183357719,
          -0.13848275347487154,
          -0.047664932055382574,
          -0.2719055015477325,
          -0.1237974954895131,
          -0.271856337572305,
          -0.2751416131915647,
          -0.24363687334405748,
          -0.26694792598788614,
          0.5802454972526987,
          -0.2746544361787116,
          -0.2583823414287247,
          -0.25261451993150197,
          -0.271278529998689,
          -0.024044279241969703,
          -0.05416579070793219,
          0.08817074984014385,
          -0.2581936446417916,
          -0.0704191486548351,
          -0.15663124644345197,
          -0.27361387251861174,
          -0.24103330999832426,
          -0.2287906882319242,
          -0.0995417442400457,
          1.1911853154703171,
          null,
          -0.261611722050532,
          -0.27508804687271915,
          -0.23879840264851462,
          -0.24470954860972938,
          1.3071739783010703,
          null,
          -0.24583507883997505,
          -0.20735458425458791,
          -0.22991575541080425,
          -0.04691756044038965,
          0.5000831454231816,
          -0.028313894690298467,
          -0.20556220637074096,
          -0.2537995086414484,
          -0.2573339126062987,
          -0.23535372327436407,
          -0.14759820817525687,
          0.6925375203684022,
          -0.18296668217190742,
          -0.2751007572971608,
          -0.2742135777241988,
          -0.27472299462438016,
          -0.2739281971543031,
          -0.2738946561292981,
          -0.031085015521490955,
          -0.15921180486047026,
          -0.23069619828854723,
          -0.2746160901569272,
          -0.21766855681786287,
          -0.23759114720768248,
          -0.2389686914659421,
          -0.2612472737822351,
          -0.2705600621841556,
          -0.157325628876084,
          0.126520657229538,
          0.07105000273299192,
          -0.20218354201519273,
          0.045214575237839665,
          -0.12656634132921366,
          0.039147018578387184,
          -0.271272980093191,
          -0.2050438774094938,
          -0.21652742376986278,
          -0.1269404801217417,
          null,
          -0.20862852580295807,
          0.1641275617929105,
          0.20573025738618836,
          -0.21603793821107095,
          -0.27470346593635203,
          -0.1925000440852055,
          0.29487021553781395,
          -0.2322643922025427,
          -0.27511387037496393,
          0.041666158936012505,
          -0.02040678259482108,
          -0.2120622060294529,
          0.17401704376081376,
          1.9612353408565217,
          -0.25245058632629536,
          -0.0361901232729561,
          -0.27322786216281164,
          -0.08549102768692515,
          0.38350054875168804,
          -0.04928632990019833,
          -0.14108417604689996,
          -0.1658952601015276,
          -3.804605497945537,
          null,
          null,
          null,
          null,
          null,
          null,
          null,
          null,
          null,
          null,
          null,
          null,
          null,
          null,
          null,
          null,
          null,
          null,
          null,
          null,
          null,
          null,
          null,
          null,
          null,
          0.41594977494889224,
          0.474024391601783,
          null,
          null,
          null,
          null,
          null,
          null,
          null,
          null,
          null,
          null,
          null,
          null,
          null,
          null,
          null,
          0.44743601289323087,
          0.546092891785491,
          null,
          0.5397956441966231,
          null,
          null,
          null,
          null,
          null,
          0.1983448860446868,
          null,
          null,
          null,
          0.575480047200207,
          null,
          null,
          null,
          null,
          null,
          null,
          null,
          null,
          null,
          null,
          null,
          null,
          null,
          null,
          -3.240651991653609,
          null,
          null,
          null,
          null,
          0.5216035956065606,
          null,
          null,
          null,
          null,
          null,
          null,
          null,
          null,
          null,
          null,
          null,
          0.474024391601783,
          null,
          null,
          null,
          null,
          null,
          null,
          0.5768794355532884,
          null,
          null,
          null,
          null,
          null,
          0.5726812704940432,
          null,
          null,
          null,
          null,
          null,
          0.434841517715495,
          null,
          0.23053081816556564,
          null,
          -1.727213487795743,
          0.03531614291066804,
          null,
          null,
          0.5565883044336032,
          null,
          0.5132072654880709,
          null,
          null,
          null,
          0.04231308467607618,
          -1.4340416278251247,
          null,
          null,
          null,
          null,
          null,
          null,
          null,
          null,
          null,
          null,
          null,
          null,
          null,
          null,
          null,
          null,
          null,
          null,
          0.5705821879644205,
          0.359274546649083,
          0.052808497324189387,
          null,
          -0.7721309368174775,
          0.5076097120757442,
          0.5796782122594523,
          -1.1016868939682192,
          null,
          null,
          null,
          0.5216035956065606,
          null,
          null,
          null,
          null,
          null,
          null,
          null,
          null,
          null,
          null,
          null,
          -0.11511810504561588,
          null,
          null,
          null,
          0.054907579853812026,
          null,
          0.23472898322481092,
          null,
          null,
          null,
          null,
          null,
          null,
          0.1717565073361337,
          null,
          0.542594420902787,
          null,
          null,
          null,
          null,
          null,
          0.5845760714952377,
          0.4537332604820978,
          null,
          null,
          null,
          0.5845760714952377,
          -0.1780905809342931,
          null,
          null,
          null,
          null,
          null,
          null,
          -0.7623407928058601,
          1.0187864455756794,
          -1.0453236250720859,
          -1.2006867486692296,
          -0.32399483694249054,
          0.1032537529496547,
          -0.9398986483454527,
          0.6081839046403711,
          0.29190897446047187,
          -0.4238711306835113,
          -0.496004009496471,
          -1.2450762125541277,
          -1.4614748489930063,
          0.28636029147485975,
          0.08105902100720559,
          0.9799456646763938,
          0.7746443942087397,
          -0.7068539629497373,
          -1.433731434064945,
          1.3905482056117016,
          null,
          null,
          null,
          null,
          null,
          null,
          0.014474825179858266,
          0.4195286831295539,
          0.22532477863312456,
          -1.5502537767628028,
          -0.9066065504317791,
          0.0699616550359808,
          0.8745206879497605,
          null,
          -1.4392801170505571,
          -0.8733144525181054,
          null,
          -0.6458184501080024,
          null,
          -1.2173327976260664,
          -1.0009341611871876,
          null,
          1.007689079604455,
          0.4084313171583296,
          null,
          0.641476002554045,
          0.3252010723741453,
          0.8745206879497605,
          null,
          0.5582457577698607,
          -0.39612771575545,
          -0.4294198136691237,
          null,
          -0.5181987414389201,
          null,
          0.802387809136801,
          0.45836946402884,
          -0.21856986021585714,
          0.8356799070504743,
          0.680316783453331,
          0.43617473208639085,
          -0.9787394292447386,
          -0.8455710375900442,
          -0.45716322859718495,
          0.03666955712230738,
          -0.579234254280655,
          -0.2241185432014698,
          null,
          -0.20747249424463282,
          -0.7512434268346355,
          -1.3449525062951486,
          null,
          -1.455926166007394,
          0.7469009792806779,
          -0.2574106411151432,
          0.29745765744608405,
          1.8122481125182346,
          0.09770506996404206,
          -0.7845355247483092,
          null,
          null,
          -0.823376305647595,
          1.6402389399642539,
          -0.18527776230218373,
          -0.6069776692087163,
          0.6470246855396572,
          -0.6347210841367779,
          -0.6902079139929004,
          -0.04101200467626476,
          0.0699616550359808,
          6.1735129392094805,
          null,
          1.1464061542447619,
          -1.4448288000361693,
          0.6858654664389432,
          null,
          1.6901770868347643,
          -1.0730670400001474,
          null,
          null,
          0.20867872967628762,
          0.09770506996404206,
          0.43617473208639085,
          -0.701305279964125,
          null,
          -0.10759620050361209,
          0.00892614219424611,
          -0.05765805363310122,
          0.6470246855396572,
          null,
          -1.5058643128779046,
          0.11435111892087901,
          null,
          null,
          0.7524496622662905,
          -0.6236237181655533,
          null,
          0.6303786365828202,
          1.4238403035253755,
          null,
          3.088445199209057,
          -0.2796053730575923,
          0.3751392192446557,
          null,
          0.5970865386691467,
          -0.20747249424463282,
          -0.3572869348561642,
          null,
          null,
          null,
          null,
          0.31965238938853313,
          null,
          -1.5391564107915783,
          0.5360510258274116,
          -0.6624644990648391,
          null,
          -0.5847829372662672,
          -0.2740566900719799,
          -0.32399483694249054,
          0.2641655595324106,
          0.13654585086332813,
          null,
          null,
          -0.44051717964034826,
          -0.6735618650360636,
          null,
          0.624829953597208,
          null,
          null,
          null,
          null,
          0.585989172697922,
          null,
          0.624829953597208,
          -0.6458184501080024,
          0.641476002554045,
          2.761072903057933,
          -0.9066065504317791,
          -0.03546332169065211,
          0.6692194174821062,
          null,
          null,
          1.1630522032015984,
          null,
          null,
          0.0699616550359808,
          -1.6390327045325992,
          null,
          -0.36283561784177637,
          1.2296363990289456,
          0.31965238938853313,
          null,
          null,
          0.5970865386691467,
          -0.7456947438490231,
          -0.8178276226619826,
          -0.12979093244606071,
          0.258616876546798,
          null,
          -0.8955091844605545,
          null,
          null,
          -1.0120315271584122,
          0.7080601983813923,
          -0.31289747097126597,
          0.4805641959712891,
          null,
          -0.029914638705039954,
          0.5027589279137382,
          null,
          null,
          -0.8400223546044318,
          null,
          -0.7512434268346355,
          null,
          0.16330427110684834,
          0.12695110003245205,
          0.3866166077067112,
          null,
          0.45412963970201853,
          null,
          -0.40276653562303655,
          0.5320292920042963,
          0.06982468834411505,
          0.3502634366323149,
          0.5372226021577815,
          0.39700322801368154,
          0.4333563990880778,
          0.4333563990880778,
          null,
          0.5320292920042963,
          -0.29890033255333287,
          0.48528950062292964,
          null,
          null,
          null,
          -0.3248668833207588,
          0.5424159123112666,
          -0.01326827411164786,
          -0.34044681378121433,
          null,
          0.5008694310833852,
          -0.04962144518604414,
          0.36584336709277043,
          0.3866166077067112,
          0.33987681632534456,
          0.37622998739974084,
          -0.10674785687438114,
          null,
          null,
          0.36584336709277043,
          0.37622998739974084,
          -0.3612200543951551,
          -2.698209623463487,
          -0.40276653562303655,
          0.45412963970201853,
          0.37622998739974084,
          null,
          -0.3456401239346995,
          0.5372226021577815,
          0.05424475788365951,
          0.37622998739974084,
          0.15811096095336316,
          -4.827466786392412,
          0.46451626000898893,
          null,
          -0.1171344771813515,
          null,
          0.33987681632534456,
          -0.3456401239346995,
          0.5476092224647519,
          0.5372226021577815,
          0.4177764686276223,
          0.27755709448352234,
          0.42816308893459265,
          0.15291765079987799,
          -5.424697454043208,
          0.37622998739974084,
          0.4021965381671667,
          0.5372226021577815,
          -4.806693545778471,
          0.36065005693928526,
          -0.34044681378121433,
          null,
          null,
          -0.3456401239346995,
          0.36584336709277043,
          0.4073898483206519,
          -0.4339263965439476,
          -0.3456401239346995,
          null,
          0.5372226021577815,
          0.2931370249439779,
          0.30871695540443345,
          0.2983303350974631,
          -2.1321388167336024,
          0.2308173031021557,
          0.16330427110684834,
          0.3139102655579186,
          0.2983303350974631,
          0.36584336709277043,
          0.3866166077067112,
          0.3346835061718594,
          0.30352364525094827,
          0.5372226021577815,
          0.39180991786019637,
          0.4749028803159593,
          0.5372226021577815,
          null,
          0.3191035757114038,
          0.15811096095336316,
          0.27755709448352234,
          0.4073898483206519,
          -0.21061405994408477,
          0.32949019601837415,
          -0.38718660516258097,
          0.15811096095336316,
          -0.25216054117196623,
          null,
          0.36584336709277043,
          0.39700322801368154,
          0.36065005693928526,
          0.4021965381671667,
          0.3710366772462556,
          0.39700322801368154,
          0.5112560513903556,
          0.37622998739974084,
          0.4177764686276223,
          -0.3456401239346995,
          null,
          0.5372226021577815,
          0.12175778987896688,
          0.6151222544600592,
          0.3554567467858001,
          0.45412963970201853,
          null,
          0.5320292920042963,
          -0.6208855620694141,
          0.2983303350974631,
          null,
          0.10098454926502615,
          -0.3456401239346995,
          0.36584336709277043,
          0.37622998739974084,
          0.3139102655579186,
          null,
          null,
          0.2983303350974631,
          -1.4673951170874988,
          0.30871695540443345,
          null,
          -0.3456401239346995,
          0.4437430193950482,
          -0.3975732254695514,
          -0.3456401239346995,
          0.24639723356261126,
          -4.78592030516453,
          -3.887477648611594,
          null,
          0.4333563990880778,
          -0.01846158426513304,
          -0.05481475533952932,
          -2.116558886273147,
          0.3866166077067112,
          null,
          null,
          null,
          0.3866166077067112,
          0.45412963970201853,
          0.2048507523347298,
          0.3710366772462556,
          0.2983303350974631,
          0.45932294985550376,
          0.381423297553226,
          0.3710366772462556,
          0.5476092224647519,
          0.5372226021577815,
          0.45932294985550376,
          0.37622998739974084,
          0.1165644797254817,
          0.3139102655579186,
          0.6410888052274851,
          -2.1217521964266317,
          0.3139102655579186,
          0.3554567467858001,
          null,
          -1.8932465496732838,
          null,
          0.381423297553226,
          0.3191035757114038,
          null,
          0.381423297553226,
          -0.5793390808415327,
          0.36584336709277043,
          0.42816308893459265,
          0.3554567467858001,
          null,
          0.5372226021577815,
          null,
          0.3866166077067112,
          0.5372226021577815,
          0.4333563990880778,
          -0.9376774814320104,
          null,
          -0.3248668833207588,
          0.5372226021577815,
          0.48009619046944446,
          -0.3975732254695514,
          0.2983303350974631,
          0.5320292920042963,
          0.39700322801368154,
          0.4021965381671667,
          null,
          null,
          null,
          null,
          null,
          null,
          null,
          null,
          2.0425336372256626,
          0.8579774259743425,
          null,
          null,
          null,
          null,
          null,
          null,
          0.019496142847127404,
          null,
          null,
          null,
          null,
          null,
          null,
          null,
          -1.06165694096405,
          null,
          null,
          -0.2953481715463898,
          null,
          null,
          null,
          null,
          0.7012725796936575,
          null,
          null,
          null,
          null,
          -0.9984232248240272,
          null,
          -1.0646365401538942,
          null,
          null,
          null,
          null,
          -0.7632555998774496,
          null,
          null,
          null,
          0.0689354182934281,
          null,
          null,
          null,
          null,
          null,
          null,
          null,
          0.13470731152109594,
          null,
          null,
          null,
          -0.20011135299693114,
          -0.07629245333007996,
          null,
          null,
          null,
          0.0264485409567635,
          null,
          -0.7026704163506213,
          null,
          null,
          null,
          null,
          null,
          null,
          null,
          null,
          0.30222699930565944,
          -0.15641056487921906,
          null,
          null,
          null,
          null,
          0.09365505601657846,
          -0.7593931564832075,
          -0.7763879074178733,
          null,
          null,
          -0.510762157419557,
          null,
          null,
          null,
          null,
          null,
          null,
          null,
          0.06209337570934192,
          null,
          null,
          null,
          null,
          null,
          -0.42755409115502424,
          4.279771206696317,
          null,
          null,
          null,
          null,
          null,
          null,
          null,
          null,
          null,
          null,
          -1.0107830436856022,
          null,
          null,
          null,
          null,
          null,
          null,
          null,
          null,
          null,
          0.3097311750430443,
          null,
          1.203169509894049,
          null,
          null,
          null,
          null,
          null,
          null,
          -0.6169241729984437,
          null,
          null,
          null,
          null,
          null,
          null,
          null,
          null,
          -0.6631631382038008,
          -0.017141891635398865,
          null,
          null,
          null,
          null,
          null,
          null,
          null,
          null,
          null,
          null,
          null,
          null,
          null,
          null,
          null,
          null,
          null,
          null,
          -0.35240197825562525,
          null,
          null,
          null,
          null,
          null,
          -0.6807096667662155,
          null,
          null,
          null,
          -0.29954168151728144,
          0.8754135990112075,
          null,
          null,
          null,
          null,
          null,
          null,
          null,
          null,
          null,
          null,
          null,
          null,
          null,
          null,
          0.9723057504439129,
          -0.5161695781714961,
          null,
          null,
          null,
          null,
          null,
          null,
          null,
          null
         ],
         "y0": " ",
         "yaxis": "y"
        }
       ],
       "layout": {
        "boxmode": "group",
        "legend": {
         "tracegroupgap": 0
        },
        "template": {
         "data": {
          "bar": [
           {
            "error_x": {
             "color": "#2a3f5f"
            },
            "error_y": {
             "color": "#2a3f5f"
            },
            "marker": {
             "line": {
              "color": "#E5ECF6",
              "width": 0.5
             },
             "pattern": {
              "fillmode": "overlay",
              "size": 10,
              "solidity": 0.2
             }
            },
            "type": "bar"
           }
          ],
          "barpolar": [
           {
            "marker": {
             "line": {
              "color": "#E5ECF6",
              "width": 0.5
             },
             "pattern": {
              "fillmode": "overlay",
              "size": 10,
              "solidity": 0.2
             }
            },
            "type": "barpolar"
           }
          ],
          "carpet": [
           {
            "aaxis": {
             "endlinecolor": "#2a3f5f",
             "gridcolor": "white",
             "linecolor": "white",
             "minorgridcolor": "white",
             "startlinecolor": "#2a3f5f"
            },
            "baxis": {
             "endlinecolor": "#2a3f5f",
             "gridcolor": "white",
             "linecolor": "white",
             "minorgridcolor": "white",
             "startlinecolor": "#2a3f5f"
            },
            "type": "carpet"
           }
          ],
          "choropleth": [
           {
            "colorbar": {
             "outlinewidth": 0,
             "ticks": ""
            },
            "type": "choropleth"
           }
          ],
          "contour": [
           {
            "colorbar": {
             "outlinewidth": 0,
             "ticks": ""
            },
            "colorscale": [
             [
              0,
              "#0d0887"
             ],
             [
              0.1111111111111111,
              "#46039f"
             ],
             [
              0.2222222222222222,
              "#7201a8"
             ],
             [
              0.3333333333333333,
              "#9c179e"
             ],
             [
              0.4444444444444444,
              "#bd3786"
             ],
             [
              0.5555555555555556,
              "#d8576b"
             ],
             [
              0.6666666666666666,
              "#ed7953"
             ],
             [
              0.7777777777777778,
              "#fb9f3a"
             ],
             [
              0.8888888888888888,
              "#fdca26"
             ],
             [
              1,
              "#f0f921"
             ]
            ],
            "type": "contour"
           }
          ],
          "contourcarpet": [
           {
            "colorbar": {
             "outlinewidth": 0,
             "ticks": ""
            },
            "type": "contourcarpet"
           }
          ],
          "heatmap": [
           {
            "colorbar": {
             "outlinewidth": 0,
             "ticks": ""
            },
            "colorscale": [
             [
              0,
              "#0d0887"
             ],
             [
              0.1111111111111111,
              "#46039f"
             ],
             [
              0.2222222222222222,
              "#7201a8"
             ],
             [
              0.3333333333333333,
              "#9c179e"
             ],
             [
              0.4444444444444444,
              "#bd3786"
             ],
             [
              0.5555555555555556,
              "#d8576b"
             ],
             [
              0.6666666666666666,
              "#ed7953"
             ],
             [
              0.7777777777777778,
              "#fb9f3a"
             ],
             [
              0.8888888888888888,
              "#fdca26"
             ],
             [
              1,
              "#f0f921"
             ]
            ],
            "type": "heatmap"
           }
          ],
          "heatmapgl": [
           {
            "colorbar": {
             "outlinewidth": 0,
             "ticks": ""
            },
            "colorscale": [
             [
              0,
              "#0d0887"
             ],
             [
              0.1111111111111111,
              "#46039f"
             ],
             [
              0.2222222222222222,
              "#7201a8"
             ],
             [
              0.3333333333333333,
              "#9c179e"
             ],
             [
              0.4444444444444444,
              "#bd3786"
             ],
             [
              0.5555555555555556,
              "#d8576b"
             ],
             [
              0.6666666666666666,
              "#ed7953"
             ],
             [
              0.7777777777777778,
              "#fb9f3a"
             ],
             [
              0.8888888888888888,
              "#fdca26"
             ],
             [
              1,
              "#f0f921"
             ]
            ],
            "type": "heatmapgl"
           }
          ],
          "histogram": [
           {
            "marker": {
             "pattern": {
              "fillmode": "overlay",
              "size": 10,
              "solidity": 0.2
             }
            },
            "type": "histogram"
           }
          ],
          "histogram2d": [
           {
            "colorbar": {
             "outlinewidth": 0,
             "ticks": ""
            },
            "colorscale": [
             [
              0,
              "#0d0887"
             ],
             [
              0.1111111111111111,
              "#46039f"
             ],
             [
              0.2222222222222222,
              "#7201a8"
             ],
             [
              0.3333333333333333,
              "#9c179e"
             ],
             [
              0.4444444444444444,
              "#bd3786"
             ],
             [
              0.5555555555555556,
              "#d8576b"
             ],
             [
              0.6666666666666666,
              "#ed7953"
             ],
             [
              0.7777777777777778,
              "#fb9f3a"
             ],
             [
              0.8888888888888888,
              "#fdca26"
             ],
             [
              1,
              "#f0f921"
             ]
            ],
            "type": "histogram2d"
           }
          ],
          "histogram2dcontour": [
           {
            "colorbar": {
             "outlinewidth": 0,
             "ticks": ""
            },
            "colorscale": [
             [
              0,
              "#0d0887"
             ],
             [
              0.1111111111111111,
              "#46039f"
             ],
             [
              0.2222222222222222,
              "#7201a8"
             ],
             [
              0.3333333333333333,
              "#9c179e"
             ],
             [
              0.4444444444444444,
              "#bd3786"
             ],
             [
              0.5555555555555556,
              "#d8576b"
             ],
             [
              0.6666666666666666,
              "#ed7953"
             ],
             [
              0.7777777777777778,
              "#fb9f3a"
             ],
             [
              0.8888888888888888,
              "#fdca26"
             ],
             [
              1,
              "#f0f921"
             ]
            ],
            "type": "histogram2dcontour"
           }
          ],
          "mesh3d": [
           {
            "colorbar": {
             "outlinewidth": 0,
             "ticks": ""
            },
            "type": "mesh3d"
           }
          ],
          "parcoords": [
           {
            "line": {
             "colorbar": {
              "outlinewidth": 0,
              "ticks": ""
             }
            },
            "type": "parcoords"
           }
          ],
          "pie": [
           {
            "automargin": true,
            "type": "pie"
           }
          ],
          "scatter": [
           {
            "fillpattern": {
             "fillmode": "overlay",
             "size": 10,
             "solidity": 0.2
            },
            "type": "scatter"
           }
          ],
          "scatter3d": [
           {
            "line": {
             "colorbar": {
              "outlinewidth": 0,
              "ticks": ""
             }
            },
            "marker": {
             "colorbar": {
              "outlinewidth": 0,
              "ticks": ""
             }
            },
            "type": "scatter3d"
           }
          ],
          "scattercarpet": [
           {
            "marker": {
             "colorbar": {
              "outlinewidth": 0,
              "ticks": ""
             }
            },
            "type": "scattercarpet"
           }
          ],
          "scattergeo": [
           {
            "marker": {
             "colorbar": {
              "outlinewidth": 0,
              "ticks": ""
             }
            },
            "type": "scattergeo"
           }
          ],
          "scattergl": [
           {
            "marker": {
             "colorbar": {
              "outlinewidth": 0,
              "ticks": ""
             }
            },
            "type": "scattergl"
           }
          ],
          "scattermapbox": [
           {
            "marker": {
             "colorbar": {
              "outlinewidth": 0,
              "ticks": ""
             }
            },
            "type": "scattermapbox"
           }
          ],
          "scatterpolar": [
           {
            "marker": {
             "colorbar": {
              "outlinewidth": 0,
              "ticks": ""
             }
            },
            "type": "scatterpolar"
           }
          ],
          "scatterpolargl": [
           {
            "marker": {
             "colorbar": {
              "outlinewidth": 0,
              "ticks": ""
             }
            },
            "type": "scatterpolargl"
           }
          ],
          "scatterternary": [
           {
            "marker": {
             "colorbar": {
              "outlinewidth": 0,
              "ticks": ""
             }
            },
            "type": "scatterternary"
           }
          ],
          "surface": [
           {
            "colorbar": {
             "outlinewidth": 0,
             "ticks": ""
            },
            "colorscale": [
             [
              0,
              "#0d0887"
             ],
             [
              0.1111111111111111,
              "#46039f"
             ],
             [
              0.2222222222222222,
              "#7201a8"
             ],
             [
              0.3333333333333333,
              "#9c179e"
             ],
             [
              0.4444444444444444,
              "#bd3786"
             ],
             [
              0.5555555555555556,
              "#d8576b"
             ],
             [
              0.6666666666666666,
              "#ed7953"
             ],
             [
              0.7777777777777778,
              "#fb9f3a"
             ],
             [
              0.8888888888888888,
              "#fdca26"
             ],
             [
              1,
              "#f0f921"
             ]
            ],
            "type": "surface"
           }
          ],
          "table": [
           {
            "cells": {
             "fill": {
              "color": "#EBF0F8"
             },
             "line": {
              "color": "white"
             }
            },
            "header": {
             "fill": {
              "color": "#C8D4E3"
             },
             "line": {
              "color": "white"
             }
            },
            "type": "table"
           }
          ]
         },
         "layout": {
          "annotationdefaults": {
           "arrowcolor": "#2a3f5f",
           "arrowhead": 0,
           "arrowwidth": 1
          },
          "autotypenumbers": "strict",
          "coloraxis": {
           "colorbar": {
            "outlinewidth": 0,
            "ticks": ""
           }
          },
          "colorscale": {
           "diverging": [
            [
             0,
             "#8e0152"
            ],
            [
             0.1,
             "#c51b7d"
            ],
            [
             0.2,
             "#de77ae"
            ],
            [
             0.3,
             "#f1b6da"
            ],
            [
             0.4,
             "#fde0ef"
            ],
            [
             0.5,
             "#f7f7f7"
            ],
            [
             0.6,
             "#e6f5d0"
            ],
            [
             0.7,
             "#b8e186"
            ],
            [
             0.8,
             "#7fbc41"
            ],
            [
             0.9,
             "#4d9221"
            ],
            [
             1,
             "#276419"
            ]
           ],
           "sequential": [
            [
             0,
             "#0d0887"
            ],
            [
             0.1111111111111111,
             "#46039f"
            ],
            [
             0.2222222222222222,
             "#7201a8"
            ],
            [
             0.3333333333333333,
             "#9c179e"
            ],
            [
             0.4444444444444444,
             "#bd3786"
            ],
            [
             0.5555555555555556,
             "#d8576b"
            ],
            [
             0.6666666666666666,
             "#ed7953"
            ],
            [
             0.7777777777777778,
             "#fb9f3a"
            ],
            [
             0.8888888888888888,
             "#fdca26"
            ],
            [
             1,
             "#f0f921"
            ]
           ],
           "sequentialminus": [
            [
             0,
             "#0d0887"
            ],
            [
             0.1111111111111111,
             "#46039f"
            ],
            [
             0.2222222222222222,
             "#7201a8"
            ],
            [
             0.3333333333333333,
             "#9c179e"
            ],
            [
             0.4444444444444444,
             "#bd3786"
            ],
            [
             0.5555555555555556,
             "#d8576b"
            ],
            [
             0.6666666666666666,
             "#ed7953"
            ],
            [
             0.7777777777777778,
             "#fb9f3a"
            ],
            [
             0.8888888888888888,
             "#fdca26"
            ],
            [
             1,
             "#f0f921"
            ]
           ]
          },
          "colorway": [
           "#636efa",
           "#EF553B",
           "#00cc96",
           "#ab63fa",
           "#FFA15A",
           "#19d3f3",
           "#FF6692",
           "#B6E880",
           "#FF97FF",
           "#FECB52"
          ],
          "font": {
           "color": "#2a3f5f"
          },
          "geo": {
           "bgcolor": "white",
           "lakecolor": "white",
           "landcolor": "#E5ECF6",
           "showlakes": true,
           "showland": true,
           "subunitcolor": "white"
          },
          "hoverlabel": {
           "align": "left"
          },
          "hovermode": "closest",
          "mapbox": {
           "style": "light"
          },
          "paper_bgcolor": "white",
          "plot_bgcolor": "#E5ECF6",
          "polar": {
           "angularaxis": {
            "gridcolor": "white",
            "linecolor": "white",
            "ticks": ""
           },
           "bgcolor": "#E5ECF6",
           "radialaxis": {
            "gridcolor": "white",
            "linecolor": "white",
            "ticks": ""
           }
          },
          "scene": {
           "xaxis": {
            "backgroundcolor": "#E5ECF6",
            "gridcolor": "white",
            "gridwidth": 2,
            "linecolor": "white",
            "showbackground": true,
            "ticks": "",
            "zerolinecolor": "white"
           },
           "yaxis": {
            "backgroundcolor": "#E5ECF6",
            "gridcolor": "white",
            "gridwidth": 2,
            "linecolor": "white",
            "showbackground": true,
            "ticks": "",
            "zerolinecolor": "white"
           },
           "zaxis": {
            "backgroundcolor": "#E5ECF6",
            "gridcolor": "white",
            "gridwidth": 2,
            "linecolor": "white",
            "showbackground": true,
            "ticks": "",
            "zerolinecolor": "white"
           }
          },
          "shapedefaults": {
           "line": {
            "color": "#2a3f5f"
           }
          },
          "ternary": {
           "aaxis": {
            "gridcolor": "white",
            "linecolor": "white",
            "ticks": ""
           },
           "baxis": {
            "gridcolor": "white",
            "linecolor": "white",
            "ticks": ""
           },
           "bgcolor": "#E5ECF6",
           "caxis": {
            "gridcolor": "white",
            "linecolor": "white",
            "ticks": ""
           }
          },
          "title": {
           "x": 0.05
          },
          "xaxis": {
           "automargin": true,
           "gridcolor": "white",
           "linecolor": "white",
           "ticks": "",
           "title": {
            "standoff": 15
           },
           "zerolinecolor": "white",
           "zerolinewidth": 2
          },
          "yaxis": {
           "automargin": true,
           "gridcolor": "white",
           "linecolor": "white",
           "ticks": "",
           "title": {
            "standoff": 15
           },
           "zerolinecolor": "white",
           "zerolinewidth": 2
          }
         }
        },
        "title": {
         "text": "Distribution du pourcentage du budget de l'éducation nationale par régime politique"
        },
        "xaxis": {
         "anchor": "y",
         "domain": [
          0,
          1
         ],
         "title": {
          "text": "variable"
         }
        },
        "yaxis": {
         "anchor": "x",
         "domain": [
          0,
          1
         ],
         "title": {
          "text": "value"
         }
        }
       }
      }
     },
     "metadata": {},
     "output_type": "display_data"
    }
   ],
   "source": [
    "list_var=[\"Indice_Evolution\", \"Gdp\", \"Population\", \"Literacy_Rate_2021\", \"Education_Spending_2021\", \"Annee_Souverainete\", \"Nb_Foreign_Students\"]\n",
    "\n",
    "val_var=df_num_norm.loc[:,list_var]\n",
    "# Tracer le boxplot\n",
    "fig = px.box(val_var, \n",
    "            title='Distribution du pourcentage du budget de l\\'éducation nationale par régime politique')\n",
    "\n",
    "fig.update_traces(marker=dict(color='rgb(158,202,225)', outliercolor='rgba(219, 64, 82, 0.6)', line=dict(outliercolor='rgba(219, 64, 82, 0.6)', outlierwidth=2)))\n",
    "\n",
    "fig.show()\n"
   ]
  },
  {
   "cell_type": "markdown",
   "metadata": {},
   "source": [
    "## Densité QI"
   ]
  },
  {
   "cell_type": "code",
   "execution_count": 6,
   "metadata": {},
   "outputs": [
    {
     "data": {
      "text/html": [
       "<div>\n",
       "<style scoped>\n",
       "    .dataframe tbody tr th:only-of-type {\n",
       "        vertical-align: middle;\n",
       "    }\n",
       "\n",
       "    .dataframe tbody tr th {\n",
       "        vertical-align: top;\n",
       "    }\n",
       "\n",
       "    .dataframe thead th {\n",
       "        text-align: right;\n",
       "    }\n",
       "</style>\n",
       "<table border=\"1\" class=\"dataframe\">\n",
       "  <thead>\n",
       "    <tr style=\"text-align: right;\">\n",
       "      <th></th>\n",
       "      <th>Country</th>\n",
       "      <th>Continent</th>\n",
       "      <th>Averageiqbycountry_Iqlynnbecker2019</th>\n",
       "    </tr>\n",
       "  </thead>\n",
       "  <tbody>\n",
       "    <tr>\n",
       "      <th>0</th>\n",
       "      <td>Afghanistan</td>\n",
       "      <td>asia</td>\n",
       "      <td>82.12</td>\n",
       "    </tr>\n",
       "    <tr>\n",
       "      <th>1</th>\n",
       "      <td>Albania</td>\n",
       "      <td>europe</td>\n",
       "      <td>81.75</td>\n",
       "    </tr>\n",
       "    <tr>\n",
       "      <th>2</th>\n",
       "      <td>Algeria</td>\n",
       "      <td>africa</td>\n",
       "      <td>76.00</td>\n",
       "    </tr>\n",
       "    <tr>\n",
       "      <th>3</th>\n",
       "      <td>Andorra</td>\n",
       "      <td>europe</td>\n",
       "      <td>95.20</td>\n",
       "    </tr>\n",
       "    <tr>\n",
       "      <th>4</th>\n",
       "      <td>Angola</td>\n",
       "      <td>africa</td>\n",
       "      <td>75.10</td>\n",
       "    </tr>\n",
       "    <tr>\n",
       "      <th>...</th>\n",
       "      <td>...</td>\n",
       "      <td>...</td>\n",
       "      <td>...</td>\n",
       "    </tr>\n",
       "    <tr>\n",
       "      <th>192</th>\n",
       "      <td>Venezuela</td>\n",
       "      <td>south-america</td>\n",
       "      <td>82.99</td>\n",
       "    </tr>\n",
       "    <tr>\n",
       "      <th>193</th>\n",
       "      <td>Vietnam</td>\n",
       "      <td>asia</td>\n",
       "      <td>89.53</td>\n",
       "    </tr>\n",
       "    <tr>\n",
       "      <th>194</th>\n",
       "      <td>Yemen</td>\n",
       "      <td>asia</td>\n",
       "      <td>62.86</td>\n",
       "    </tr>\n",
       "    <tr>\n",
       "      <th>195</th>\n",
       "      <td>Zambia</td>\n",
       "      <td>africa</td>\n",
       "      <td>68.43</td>\n",
       "    </tr>\n",
       "    <tr>\n",
       "      <th>196</th>\n",
       "      <td>Zimbabwe</td>\n",
       "      <td>africa</td>\n",
       "      <td>74.01</td>\n",
       "    </tr>\n",
       "  </tbody>\n",
       "</table>\n",
       "<p>197 rows × 3 columns</p>\n",
       "</div>"
      ],
      "text/plain": [
       "         Country      Continent  Averageiqbycountry_Iqlynnbecker2019\n",
       "0    Afghanistan           asia                                82.12\n",
       "1        Albania         europe                                81.75\n",
       "2        Algeria         africa                                76.00\n",
       "3        Andorra         europe                                95.20\n",
       "4         Angola         africa                                75.10\n",
       "..           ...            ...                                  ...\n",
       "192    Venezuela  south-america                                82.99\n",
       "193      Vietnam           asia                                89.53\n",
       "194        Yemen           asia                                62.86\n",
       "195       Zambia         africa                                68.43\n",
       "196     Zimbabwe         africa                                74.01\n",
       "\n",
       "[197 rows x 3 columns]"
      ]
     },
     "execution_count": 6,
     "metadata": {},
     "output_type": "execute_result"
    }
   ],
   "source": [
    "df_filtered = df.loc[(~df['Averageiqbycountry_Iqlynnbecker2019'].isna())&(~df['Continent'].isna())]\n",
    "df_filtered=df_filtered[['Country','Continent','Averageiqbycountry_Iqlynnbecker2019']]\n",
    "df_filtered"
   ]
  },
  {
   "cell_type": "code",
   "execution_count": 7,
   "metadata": {},
   "outputs": [
    {
     "data": {
      "application/vnd.plotly.v1+json": {
       "config": {
        "plotlyServerURL": "https://plot.ly"
       },
       "data": [
        {
         "alignmentgroup": "True",
         "bingroup": "x",
         "histnorm": "probability density",
         "hovertemplate": "Averageiqbycountry_Iqlynnbecker2019=%{x}<br>probability density=%{y}<extra></extra>",
         "legendgroup": "",
         "marker": {
          "color": "#636efa",
          "pattern": {
           "shape": ""
          }
         },
         "name": "",
         "nbinsx": 10,
         "offsetgroup": "",
         "orientation": "v",
         "showlegend": false,
         "type": "histogram",
         "x": [
          82.12,
          81.75,
          76,
          95.2,
          75.1,
          70.48,
          86.63,
          88.82,
          99.24,
          98.38,
          84.81,
          86.99,
          83.6,
          74.33,
          91.6,
          101.6,
          97.49,
          62.55,
          69.71,
          93.48,
          87.94,
          76.53,
          88.54,
          69.45,
          83.38,
          76.69,
          87.58,
          90.99,
          73.8,
          72.09,
          99.75,
          67.76,
          99.52,
          52.5,
          82.24,
          62.55,
          78.87,
          87.89,
          104.1,
          83.13,
          77.07,
          64.92,
          83.96,
          88.34,
          95.75,
          83.9,
          93.39,
          94.92,
          97.83,
          68.41,
          66.03,
          82.05,
          78.26,
          76.32,
          69.63,
          68.77,
          100.72,
          68.87,
          68.42,
          83.96,
          101.2,
          96.69,
          62.97,
          52.68,
          84.5,
          100.74,
          58.16,
          90.77,
          98.89,
          79.34,
          47.72,
          53.48,
          83.23,
          82.1,
          62.16,
          105.37,
          99.24,
          98.26,
          76.24,
          78.49,
          80.01,
          89.28,
          95.13,
          92.43,
          94.23,
          58.16,
          75.08,
          106.48,
          80.7,
          88.89,
          75.2,
          83.96,
          78.64,
          79.09,
          80.99,
          94.79,
          81.7,
          68.87,
          45.07,
          80.92,
          101.07,
          95.89,
          99.87,
          99.82,
          76.79,
          69.7,
          87.58,
          80.54,
          59.76,
          91.27,
          83.96,
          59.76,
          86.56,
          87.73,
          83.96,
          89.98,
          91.03,
          85.78,
          67.03,
          72.5,
          91.18,
          66.19,
          42.99,
          100.74,
          93.92,
          98.57,
          52.69,
          70.82,
          67.76,
          98.82,
          81.91,
          81.36,
          97.13,
          78.7,
          80,
          77.69,
          79,
          78.49,
          84.04,
          81.44,
          81.64,
          96.35,
          92.77,
          81.99,
          80.78,
          62.97,
          86.88,
          96.29,
          69.95,
          70.48,
          73.68,
          63.42,
          83.96,
          65.22,
          76.36,
          77.37,
          89.6,
          78.76,
          45.07,
          105.89,
          96.32,
          98.6,
          83.96,
          67.67,
          68.87,
          102.35,
          58.61,
          93.9,
          86.62,
          78.87,
          90.29,
          97,
          99.24,
          74.41,
          106.47,
          87.71,
          74.95,
          88.87,
          59.83,
          83.96,
          79.22,
          86.8,
          85.86,
          84.29,
          76.42,
          90.07,
          82.05,
          99.12,
          97.43,
          87.59,
          89.01,
          93.92,
          82.99,
          89.53,
          62.86,
          68.43,
          74.01
         ],
         "xaxis": "x",
         "yaxis": "y"
        }
       ],
       "layout": {
        "barmode": "relative",
        "legend": {
         "tracegroupgap": 0
        },
        "template": {
         "data": {
          "bar": [
           {
            "error_x": {
             "color": "#2a3f5f"
            },
            "error_y": {
             "color": "#2a3f5f"
            },
            "marker": {
             "line": {
              "color": "#E5ECF6",
              "width": 0.5
             },
             "pattern": {
              "fillmode": "overlay",
              "size": 10,
              "solidity": 0.2
             }
            },
            "type": "bar"
           }
          ],
          "barpolar": [
           {
            "marker": {
             "line": {
              "color": "#E5ECF6",
              "width": 0.5
             },
             "pattern": {
              "fillmode": "overlay",
              "size": 10,
              "solidity": 0.2
             }
            },
            "type": "barpolar"
           }
          ],
          "carpet": [
           {
            "aaxis": {
             "endlinecolor": "#2a3f5f",
             "gridcolor": "white",
             "linecolor": "white",
             "minorgridcolor": "white",
             "startlinecolor": "#2a3f5f"
            },
            "baxis": {
             "endlinecolor": "#2a3f5f",
             "gridcolor": "white",
             "linecolor": "white",
             "minorgridcolor": "white",
             "startlinecolor": "#2a3f5f"
            },
            "type": "carpet"
           }
          ],
          "choropleth": [
           {
            "colorbar": {
             "outlinewidth": 0,
             "ticks": ""
            },
            "type": "choropleth"
           }
          ],
          "contour": [
           {
            "colorbar": {
             "outlinewidth": 0,
             "ticks": ""
            },
            "colorscale": [
             [
              0,
              "#0d0887"
             ],
             [
              0.1111111111111111,
              "#46039f"
             ],
             [
              0.2222222222222222,
              "#7201a8"
             ],
             [
              0.3333333333333333,
              "#9c179e"
             ],
             [
              0.4444444444444444,
              "#bd3786"
             ],
             [
              0.5555555555555556,
              "#d8576b"
             ],
             [
              0.6666666666666666,
              "#ed7953"
             ],
             [
              0.7777777777777778,
              "#fb9f3a"
             ],
             [
              0.8888888888888888,
              "#fdca26"
             ],
             [
              1,
              "#f0f921"
             ]
            ],
            "type": "contour"
           }
          ],
          "contourcarpet": [
           {
            "colorbar": {
             "outlinewidth": 0,
             "ticks": ""
            },
            "type": "contourcarpet"
           }
          ],
          "heatmap": [
           {
            "colorbar": {
             "outlinewidth": 0,
             "ticks": ""
            },
            "colorscale": [
             [
              0,
              "#0d0887"
             ],
             [
              0.1111111111111111,
              "#46039f"
             ],
             [
              0.2222222222222222,
              "#7201a8"
             ],
             [
              0.3333333333333333,
              "#9c179e"
             ],
             [
              0.4444444444444444,
              "#bd3786"
             ],
             [
              0.5555555555555556,
              "#d8576b"
             ],
             [
              0.6666666666666666,
              "#ed7953"
             ],
             [
              0.7777777777777778,
              "#fb9f3a"
             ],
             [
              0.8888888888888888,
              "#fdca26"
             ],
             [
              1,
              "#f0f921"
             ]
            ],
            "type": "heatmap"
           }
          ],
          "heatmapgl": [
           {
            "colorbar": {
             "outlinewidth": 0,
             "ticks": ""
            },
            "colorscale": [
             [
              0,
              "#0d0887"
             ],
             [
              0.1111111111111111,
              "#46039f"
             ],
             [
              0.2222222222222222,
              "#7201a8"
             ],
             [
              0.3333333333333333,
              "#9c179e"
             ],
             [
              0.4444444444444444,
              "#bd3786"
             ],
             [
              0.5555555555555556,
              "#d8576b"
             ],
             [
              0.6666666666666666,
              "#ed7953"
             ],
             [
              0.7777777777777778,
              "#fb9f3a"
             ],
             [
              0.8888888888888888,
              "#fdca26"
             ],
             [
              1,
              "#f0f921"
             ]
            ],
            "type": "heatmapgl"
           }
          ],
          "histogram": [
           {
            "marker": {
             "pattern": {
              "fillmode": "overlay",
              "size": 10,
              "solidity": 0.2
             }
            },
            "type": "histogram"
           }
          ],
          "histogram2d": [
           {
            "colorbar": {
             "outlinewidth": 0,
             "ticks": ""
            },
            "colorscale": [
             [
              0,
              "#0d0887"
             ],
             [
              0.1111111111111111,
              "#46039f"
             ],
             [
              0.2222222222222222,
              "#7201a8"
             ],
             [
              0.3333333333333333,
              "#9c179e"
             ],
             [
              0.4444444444444444,
              "#bd3786"
             ],
             [
              0.5555555555555556,
              "#d8576b"
             ],
             [
              0.6666666666666666,
              "#ed7953"
             ],
             [
              0.7777777777777778,
              "#fb9f3a"
             ],
             [
              0.8888888888888888,
              "#fdca26"
             ],
             [
              1,
              "#f0f921"
             ]
            ],
            "type": "histogram2d"
           }
          ],
          "histogram2dcontour": [
           {
            "colorbar": {
             "outlinewidth": 0,
             "ticks": ""
            },
            "colorscale": [
             [
              0,
              "#0d0887"
             ],
             [
              0.1111111111111111,
              "#46039f"
             ],
             [
              0.2222222222222222,
              "#7201a8"
             ],
             [
              0.3333333333333333,
              "#9c179e"
             ],
             [
              0.4444444444444444,
              "#bd3786"
             ],
             [
              0.5555555555555556,
              "#d8576b"
             ],
             [
              0.6666666666666666,
              "#ed7953"
             ],
             [
              0.7777777777777778,
              "#fb9f3a"
             ],
             [
              0.8888888888888888,
              "#fdca26"
             ],
             [
              1,
              "#f0f921"
             ]
            ],
            "type": "histogram2dcontour"
           }
          ],
          "mesh3d": [
           {
            "colorbar": {
             "outlinewidth": 0,
             "ticks": ""
            },
            "type": "mesh3d"
           }
          ],
          "parcoords": [
           {
            "line": {
             "colorbar": {
              "outlinewidth": 0,
              "ticks": ""
             }
            },
            "type": "parcoords"
           }
          ],
          "pie": [
           {
            "automargin": true,
            "type": "pie"
           }
          ],
          "scatter": [
           {
            "fillpattern": {
             "fillmode": "overlay",
             "size": 10,
             "solidity": 0.2
            },
            "type": "scatter"
           }
          ],
          "scatter3d": [
           {
            "line": {
             "colorbar": {
              "outlinewidth": 0,
              "ticks": ""
             }
            },
            "marker": {
             "colorbar": {
              "outlinewidth": 0,
              "ticks": ""
             }
            },
            "type": "scatter3d"
           }
          ],
          "scattercarpet": [
           {
            "marker": {
             "colorbar": {
              "outlinewidth": 0,
              "ticks": ""
             }
            },
            "type": "scattercarpet"
           }
          ],
          "scattergeo": [
           {
            "marker": {
             "colorbar": {
              "outlinewidth": 0,
              "ticks": ""
             }
            },
            "type": "scattergeo"
           }
          ],
          "scattergl": [
           {
            "marker": {
             "colorbar": {
              "outlinewidth": 0,
              "ticks": ""
             }
            },
            "type": "scattergl"
           }
          ],
          "scattermapbox": [
           {
            "marker": {
             "colorbar": {
              "outlinewidth": 0,
              "ticks": ""
             }
            },
            "type": "scattermapbox"
           }
          ],
          "scatterpolar": [
           {
            "marker": {
             "colorbar": {
              "outlinewidth": 0,
              "ticks": ""
             }
            },
            "type": "scatterpolar"
           }
          ],
          "scatterpolargl": [
           {
            "marker": {
             "colorbar": {
              "outlinewidth": 0,
              "ticks": ""
             }
            },
            "type": "scatterpolargl"
           }
          ],
          "scatterternary": [
           {
            "marker": {
             "colorbar": {
              "outlinewidth": 0,
              "ticks": ""
             }
            },
            "type": "scatterternary"
           }
          ],
          "surface": [
           {
            "colorbar": {
             "outlinewidth": 0,
             "ticks": ""
            },
            "colorscale": [
             [
              0,
              "#0d0887"
             ],
             [
              0.1111111111111111,
              "#46039f"
             ],
             [
              0.2222222222222222,
              "#7201a8"
             ],
             [
              0.3333333333333333,
              "#9c179e"
             ],
             [
              0.4444444444444444,
              "#bd3786"
             ],
             [
              0.5555555555555556,
              "#d8576b"
             ],
             [
              0.6666666666666666,
              "#ed7953"
             ],
             [
              0.7777777777777778,
              "#fb9f3a"
             ],
             [
              0.8888888888888888,
              "#fdca26"
             ],
             [
              1,
              "#f0f921"
             ]
            ],
            "type": "surface"
           }
          ],
          "table": [
           {
            "cells": {
             "fill": {
              "color": "#EBF0F8"
             },
             "line": {
              "color": "white"
             }
            },
            "header": {
             "fill": {
              "color": "#C8D4E3"
             },
             "line": {
              "color": "white"
             }
            },
            "type": "table"
           }
          ]
         },
         "layout": {
          "annotationdefaults": {
           "arrowcolor": "#2a3f5f",
           "arrowhead": 0,
           "arrowwidth": 1
          },
          "autotypenumbers": "strict",
          "coloraxis": {
           "colorbar": {
            "outlinewidth": 0,
            "ticks": ""
           }
          },
          "colorscale": {
           "diverging": [
            [
             0,
             "#8e0152"
            ],
            [
             0.1,
             "#c51b7d"
            ],
            [
             0.2,
             "#de77ae"
            ],
            [
             0.3,
             "#f1b6da"
            ],
            [
             0.4,
             "#fde0ef"
            ],
            [
             0.5,
             "#f7f7f7"
            ],
            [
             0.6,
             "#e6f5d0"
            ],
            [
             0.7,
             "#b8e186"
            ],
            [
             0.8,
             "#7fbc41"
            ],
            [
             0.9,
             "#4d9221"
            ],
            [
             1,
             "#276419"
            ]
           ],
           "sequential": [
            [
             0,
             "#0d0887"
            ],
            [
             0.1111111111111111,
             "#46039f"
            ],
            [
             0.2222222222222222,
             "#7201a8"
            ],
            [
             0.3333333333333333,
             "#9c179e"
            ],
            [
             0.4444444444444444,
             "#bd3786"
            ],
            [
             0.5555555555555556,
             "#d8576b"
            ],
            [
             0.6666666666666666,
             "#ed7953"
            ],
            [
             0.7777777777777778,
             "#fb9f3a"
            ],
            [
             0.8888888888888888,
             "#fdca26"
            ],
            [
             1,
             "#f0f921"
            ]
           ],
           "sequentialminus": [
            [
             0,
             "#0d0887"
            ],
            [
             0.1111111111111111,
             "#46039f"
            ],
            [
             0.2222222222222222,
             "#7201a8"
            ],
            [
             0.3333333333333333,
             "#9c179e"
            ],
            [
             0.4444444444444444,
             "#bd3786"
            ],
            [
             0.5555555555555556,
             "#d8576b"
            ],
            [
             0.6666666666666666,
             "#ed7953"
            ],
            [
             0.7777777777777778,
             "#fb9f3a"
            ],
            [
             0.8888888888888888,
             "#fdca26"
            ],
            [
             1,
             "#f0f921"
            ]
           ]
          },
          "colorway": [
           "#636efa",
           "#EF553B",
           "#00cc96",
           "#ab63fa",
           "#FFA15A",
           "#19d3f3",
           "#FF6692",
           "#B6E880",
           "#FF97FF",
           "#FECB52"
          ],
          "font": {
           "color": "#2a3f5f"
          },
          "geo": {
           "bgcolor": "white",
           "lakecolor": "white",
           "landcolor": "#E5ECF6",
           "showlakes": true,
           "showland": true,
           "subunitcolor": "white"
          },
          "hoverlabel": {
           "align": "left"
          },
          "hovermode": "closest",
          "mapbox": {
           "style": "light"
          },
          "paper_bgcolor": "white",
          "plot_bgcolor": "#E5ECF6",
          "polar": {
           "angularaxis": {
            "gridcolor": "white",
            "linecolor": "white",
            "ticks": ""
           },
           "bgcolor": "#E5ECF6",
           "radialaxis": {
            "gridcolor": "white",
            "linecolor": "white",
            "ticks": ""
           }
          },
          "scene": {
           "xaxis": {
            "backgroundcolor": "#E5ECF6",
            "gridcolor": "white",
            "gridwidth": 2,
            "linecolor": "white",
            "showbackground": true,
            "ticks": "",
            "zerolinecolor": "white"
           },
           "yaxis": {
            "backgroundcolor": "#E5ECF6",
            "gridcolor": "white",
            "gridwidth": 2,
            "linecolor": "white",
            "showbackground": true,
            "ticks": "",
            "zerolinecolor": "white"
           },
           "zaxis": {
            "backgroundcolor": "#E5ECF6",
            "gridcolor": "white",
            "gridwidth": 2,
            "linecolor": "white",
            "showbackground": true,
            "ticks": "",
            "zerolinecolor": "white"
           }
          },
          "shapedefaults": {
           "line": {
            "color": "#2a3f5f"
           }
          },
          "ternary": {
           "aaxis": {
            "gridcolor": "white",
            "linecolor": "white",
            "ticks": ""
           },
           "baxis": {
            "gridcolor": "white",
            "linecolor": "white",
            "ticks": ""
           },
           "bgcolor": "#E5ECF6",
           "caxis": {
            "gridcolor": "white",
            "linecolor": "white",
            "ticks": ""
           }
          },
          "title": {
           "x": 0.05
          },
          "xaxis": {
           "automargin": true,
           "gridcolor": "white",
           "linecolor": "white",
           "ticks": "",
           "title": {
            "standoff": 15
           },
           "zerolinecolor": "white",
           "zerolinewidth": 2
          },
          "yaxis": {
           "automargin": true,
           "gridcolor": "white",
           "linecolor": "white",
           "ticks": "",
           "title": {
            "standoff": 15
           },
           "zerolinecolor": "white",
           "zerolinewidth": 2
          }
         }
        },
        "title": {
         "text": "Approximation de la courbe de densité du quotient intellectuel (QI)"
        },
        "xaxis": {
         "anchor": "y",
         "domain": [
          0,
          1
         ],
         "title": {
          "text": "Averageiqbycountry_Iqlynnbecker2019"
         }
        },
        "yaxis": {
         "anchor": "x",
         "domain": [
          0,
          1
         ],
         "title": {
          "text": "probability density"
         }
        }
       }
      }
     },
     "metadata": {},
     "output_type": "display_data"
    }
   ],
   "source": [
    "fig = px.histogram(df, x='Averageiqbycountry_Iqlynnbecker2019', nbins=10, histnorm='probability density', \n",
    "                 title='Approximation de la courbe de densité du quotient intellectuel (QI)')\n",
    "\n",
    "fig.show()"
   ]
  },
  {
   "cell_type": "code",
   "execution_count": 8,
   "metadata": {},
   "outputs": [
    {
     "data": {
      "application/vnd.plotly.v1+json": {
       "config": {
        "plotlyServerURL": "https://plot.ly"
       },
       "data": [
        {
         "autobinx": false,
         "histnorm": "probability density",
         "legendgroup": "QI",
         "marker": {
          "color": "rgb(31, 119, 180)"
         },
         "name": "QI",
         "opacity": 0.7,
         "type": "histogram",
         "x": [
          82.12,
          81.75,
          76,
          95.2,
          75.1,
          70.48,
          86.63,
          88.82,
          99.24,
          98.38,
          84.81,
          86.99,
          83.6,
          74.33,
          91.6,
          101.6,
          97.49,
          62.55,
          69.71,
          93.48,
          87.94,
          76.53,
          88.54,
          69.45,
          83.38,
          76.69,
          87.58,
          90.99,
          73.8,
          72.09,
          99.75,
          67.76,
          99.52,
          52.5,
          82.24,
          62.55,
          78.87,
          87.89,
          104.1,
          83.13,
          77.07,
          64.92,
          83.96,
          88.34,
          95.75,
          83.9,
          93.39,
          94.92,
          97.83,
          68.41,
          66.03,
          82.05,
          78.26,
          76.32,
          69.63,
          68.77,
          100.72,
          68.87,
          68.42,
          83.96,
          101.2,
          96.69,
          62.97,
          52.68,
          84.5,
          100.74,
          58.16,
          90.77,
          98.89,
          79.34,
          47.72,
          53.48,
          83.23,
          82.1,
          62.16,
          105.37,
          99.24,
          98.26,
          76.24,
          78.49,
          80.01,
          89.28,
          95.13,
          92.43,
          94.23,
          58.16,
          75.08,
          106.48,
          80.7,
          88.89,
          75.2,
          83.96,
          78.64,
          79.09,
          80.99,
          94.79,
          81.7,
          68.87,
          45.07,
          80.92,
          101.07,
          95.89,
          99.87,
          99.82,
          76.79,
          69.7,
          87.58,
          80.54,
          59.76,
          91.27,
          83.96,
          59.76,
          86.56,
          87.73,
          83.96,
          89.98,
          91.03,
          85.78,
          67.03,
          72.5,
          91.18,
          66.19,
          42.99,
          100.74,
          93.92,
          98.57,
          52.69,
          70.82,
          67.76,
          98.82,
          81.91,
          81.36,
          97.13,
          78.7,
          80,
          77.69,
          79,
          78.49,
          84.04,
          81.44,
          81.64,
          96.35,
          92.77,
          81.99,
          80.78,
          62.97,
          86.88,
          96.29,
          69.95,
          70.48,
          73.68,
          63.42,
          83.96,
          65.22,
          76.36,
          77.37,
          89.6,
          78.76,
          45.07,
          105.89,
          96.32,
          98.6,
          83.96,
          67.67,
          68.87,
          102.35,
          58.61,
          93.9,
          86.62,
          78.87,
          90.29,
          97,
          99.24,
          74.41,
          106.47,
          87.71,
          74.95,
          88.87,
          59.83,
          83.96,
          79.22,
          86.8,
          85.86,
          84.29,
          76.42,
          90.07,
          82.05,
          99.12,
          97.43,
          87.59,
          89.01,
          93.92,
          82.99,
          89.53,
          62.86,
          68.43,
          74.01
         ],
         "xaxis": "x",
         "xbins": {
          "end": 106.48,
          "size": 6.349,
          "start": 42.99
         },
         "yaxis": "y"
        },
        {
         "legendgroup": "QI",
         "marker": {
          "color": "rgb(31, 119, 180)"
         },
         "mode": "lines",
         "name": "QI",
         "showlegend": false,
         "type": "scatter",
         "x": [
          42.99,
          43.116980000000005,
          43.24396,
          43.370940000000004,
          43.49792,
          43.624900000000004,
          43.75188,
          43.87886,
          44.00584,
          44.13282,
          44.2598,
          44.38678,
          44.513760000000005,
          44.64074,
          44.767720000000004,
          44.8947,
          45.02168,
          45.14866,
          45.27564,
          45.40262,
          45.5296,
          45.656580000000005,
          45.78356,
          45.910540000000005,
          46.03752,
          46.164500000000004,
          46.29148,
          46.41846,
          46.54544,
          46.67242,
          46.799400000000006,
          46.92638,
          47.053360000000005,
          47.18034,
          47.307320000000004,
          47.4343,
          47.561280000000004,
          47.68826,
          47.81524,
          47.942220000000006,
          48.0692,
          48.196180000000005,
          48.32316,
          48.450140000000005,
          48.57712,
          48.704100000000004,
          48.83108,
          48.95806,
          49.08504,
          49.21202,
          49.339,
          49.46598,
          49.592960000000005,
          49.71994,
          49.846920000000004,
          49.9739,
          50.100880000000004,
          50.22786,
          50.35484,
          50.48182,
          50.6088,
          50.735780000000005,
          50.86276,
          50.989740000000005,
          51.11672,
          51.243700000000004,
          51.37068,
          51.49766,
          51.62464,
          51.75162,
          51.878600000000006,
          52.00558,
          52.13256,
          52.25954,
          52.386520000000004,
          52.5135,
          52.640480000000004,
          52.76746,
          52.89444,
          53.021420000000006,
          53.1484,
          53.275380000000006,
          53.40236,
          53.529340000000005,
          53.65632,
          53.783300000000004,
          53.91028,
          54.03726,
          54.16424,
          54.29122,
          54.4182,
          54.54518,
          54.672160000000005,
          54.79914,
          54.926120000000004,
          55.0531,
          55.180080000000004,
          55.30706,
          55.43404,
          55.56102,
          55.688,
          55.814980000000006,
          55.94196,
          56.068940000000005,
          56.19592,
          56.322900000000004,
          56.44988000000001,
          56.57686,
          56.70384,
          56.83082,
          56.957800000000006,
          57.08478,
          57.21176,
          57.33874,
          57.465720000000005,
          57.5927,
          57.719680000000004,
          57.84666,
          57.97364,
          58.100620000000006,
          58.2276,
          58.35458,
          58.48156,
          58.608540000000005,
          58.73552,
          58.862500000000004,
          58.98948,
          59.116460000000004,
          59.24344000000001,
          59.37042,
          59.4974,
          59.62438,
          59.751360000000005,
          59.87834,
          60.00532,
          60.1323,
          60.259280000000004,
          60.38626000000001,
          60.51324,
          60.64022,
          60.7672,
          60.894180000000006,
          61.02116,
          61.14814,
          61.27512,
          61.402100000000004,
          61.52908000000001,
          61.656060000000004,
          61.78304,
          61.91002,
          62.037000000000006,
          62.16398,
          62.29096,
          62.41794,
          62.544920000000005,
          62.67190000000001,
          62.798880000000004,
          62.92586,
          63.05284,
          63.17982000000001,
          63.3068,
          63.43378,
          63.56076,
          63.687740000000005,
          63.81472000000001,
          63.941700000000004,
          64.06868,
          64.19566,
          64.32264,
          64.44962,
          64.5766,
          64.70358,
          64.83056,
          64.95754,
          65.08452,
          65.2115,
          65.33848,
          65.46546000000001,
          65.59244000000001,
          65.71942,
          65.8464,
          65.97338,
          66.10036,
          66.22734,
          66.35432,
          66.4813,
          66.60828000000001,
          66.73526000000001,
          66.86224,
          66.98922,
          67.1162,
          67.24318,
          67.37016,
          67.49714,
          67.62412,
          67.75110000000001,
          67.87808000000001,
          68.00506,
          68.13204,
          68.25902,
          68.386,
          68.51298,
          68.63996,
          68.76694,
          68.89392000000001,
          69.02090000000001,
          69.14788,
          69.27486,
          69.40184,
          69.52882,
          69.6558,
          69.78278,
          69.90976,
          70.03674000000001,
          70.16372,
          70.2907,
          70.41768,
          70.54466,
          70.67164,
          70.79862,
          70.9256,
          71.05258,
          71.17956000000001,
          71.30654,
          71.43352,
          71.5605,
          71.68748,
          71.81446,
          71.94144,
          72.06842,
          72.1954,
          72.32238000000001,
          72.44936,
          72.57634,
          72.70332,
          72.8303,
          72.95728,
          73.08426,
          73.21124,
          73.33822,
          73.46520000000001,
          73.59218,
          73.71916,
          73.84614,
          73.97312000000001,
          74.1001,
          74.22708,
          74.35406,
          74.48104000000001,
          74.60802000000001,
          74.735,
          74.86198,
          74.98896,
          75.11594,
          75.24292,
          75.3699,
          75.49688,
          75.62386000000001,
          75.75084000000001,
          75.87782,
          76.0048,
          76.13177999999999,
          76.25876,
          76.38574,
          76.51272,
          76.6397,
          76.76668000000001,
          76.89366000000001,
          77.02064,
          77.14762,
          77.27459999999999,
          77.40158,
          77.52856,
          77.65554,
          77.78252,
          77.90950000000001,
          78.03648000000001,
          78.16346,
          78.29044,
          78.41741999999999,
          78.5444,
          78.67138,
          78.79836,
          78.92534,
          79.05232000000001,
          79.17930000000001,
          79.30628,
          79.43326,
          79.56024,
          79.68722,
          79.8142,
          79.94118,
          80.06816,
          80.19514000000001,
          80.32212000000001,
          80.4491,
          80.57608,
          80.70306,
          80.83004,
          80.95702,
          81.084,
          81.21098,
          81.33796000000001,
          81.46494000000001,
          81.59192,
          81.7189,
          81.84588000000001,
          81.97286,
          82.09984,
          82.22682,
          82.3538,
          82.48078000000001,
          82.60776000000001,
          82.73474,
          82.86172,
          82.98870000000001,
          83.11568,
          83.24266,
          83.36964,
          83.49662000000001,
          83.62360000000001,
          83.75058000000001,
          83.87756,
          84.00454,
          84.13152000000001,
          84.2585,
          84.38548,
          84.51246,
          84.63944000000001,
          84.76642000000001,
          84.89340000000001,
          85.02038000000002,
          85.14735999999999,
          85.27434,
          85.40132,
          85.5283,
          85.65528,
          85.78226000000001,
          85.90924,
          86.03622,
          86.1632,
          86.29017999999999,
          86.41716,
          86.54414,
          86.67112,
          86.7981,
          86.92508000000001,
          87.05206000000001,
          87.17904,
          87.30602,
          87.43299999999999,
          87.55998,
          87.68696,
          87.81394,
          87.94092,
          88.06790000000001,
          88.19488000000001,
          88.32186,
          88.44884,
          88.57582,
          88.7028,
          88.82978,
          88.95676,
          89.08374,
          89.21072000000001,
          89.33770000000001,
          89.46468,
          89.59166,
          89.71864,
          89.84562,
          89.9726,
          90.09958,
          90.22656,
          90.35354000000001,
          90.48052000000001,
          90.6075,
          90.73448,
          90.86146,
          90.98844,
          91.11542,
          91.2424,
          91.36938,
          91.49636000000001,
          91.62334000000001,
          91.75032,
          91.8773,
          92.00428,
          92.13126,
          92.25824,
          92.38522,
          92.5122,
          92.63918000000001,
          92.76616000000001,
          92.89314,
          93.02012,
          93.1471,
          93.27408,
          93.40106,
          93.52804,
          93.65502000000001,
          93.78200000000001,
          93.90898000000001,
          94.03596,
          94.16294,
          94.28992,
          94.4169,
          94.54388,
          94.67086,
          94.79784000000001,
          94.92482000000001,
          95.05180000000001,
          95.17878,
          95.30576,
          95.43274000000001,
          95.55972,
          95.6867,
          95.81368,
          95.94066000000001,
          96.06764000000001,
          96.19462000000001,
          96.3216,
          96.44858,
          96.57556000000001,
          96.70254,
          96.82952,
          96.9565,
          97.08348000000001,
          97.21046,
          97.33744,
          97.46441999999999,
          97.5914,
          97.71838,
          97.84536,
          97.97234,
          98.09932,
          98.22630000000001,
          98.35328,
          98.48026,
          98.60724,
          98.73422,
          98.8612,
          98.98818,
          99.11516,
          99.24214,
          99.36912000000001,
          99.4961,
          99.62308,
          99.75006,
          99.87704,
          100.00402,
          100.131,
          100.25798,
          100.38496,
          100.51194000000001,
          100.63892,
          100.7659,
          100.89288,
          101.01986,
          101.14684,
          101.27382,
          101.4008,
          101.52778,
          101.65476000000001,
          101.78174000000001,
          101.90872,
          102.0357,
          102.16268,
          102.28966,
          102.41664,
          102.54362,
          102.67060000000001,
          102.79758000000001,
          102.92456000000001,
          103.05154,
          103.17852,
          103.3055,
          103.43248,
          103.55946,
          103.68644,
          103.81342000000001,
          103.94040000000001,
          104.06738000000001,
          104.19436,
          104.32134,
          104.44832,
          104.5753,
          104.70228,
          104.82926,
          104.95624000000001,
          105.08322000000001,
          105.21020000000001,
          105.33718,
          105.46416,
          105.59114,
          105.71812,
          105.8451,
          105.97208,
          106.09906000000001,
          106.22604000000001,
          106.35302000000001
         ],
         "xaxis": "x",
         "y": [
          0.0016775596014342404,
          0.0017057355919405774,
          0.0017336581376567535,
          0.0017613150892929297,
          0.001788695528897591,
          0.0018157898097049552,
          0.0018425895910001756,
          0.001869087867841315,
          0.0018952789955073606,
          0.0019211587085734847,
          0.0019467241345471626,
          0.001971973802032201,
          0.001996907643421364,
          0.0020215269921522124,
          0.0020458345745946434,
          0.0020698344966719484,
          0.002093532225350227,
          0.0021169345651628393,
          0.0021400496299674434,
          0.0021628868101626225,
          0.0021854567356188242,
          0.0022077712346042894,
          0.0022298432890104237,
          0.0022516869862024775,
          0.002273317467840507,
          0.002294750876031711,
          0.0023160042971888464,
          0.0023370957039798496,
          0.002358043895761249,
          0.0023788684378923393,
          0.0023995896003281077,
          0.0024202282958869386,
          0.002440806018583778,
          0.002461344782411018,
          0.0024818670609378997,
          0.002502395728084492,
          0.002522954000409179,
          0.002543565381228056,
          0.002564253606862229,
          0.002585042595283714,
          0.0026059563974033793,
          0.002627019151215411,
          0.0026482550389817384,
          0.0026696882476079566,
          0.002691342932328899,
          0.002713243183788144,
          0.0027354129985613274,
          0.002757876253138568,
          0.0027806566813470108,
          0.002803777855160716,
          0.002827263168812117,
          0.0028511358260875507,
          0.0028754188306589646,
          0.0029001349792753374,
          0.002925306857610904,
          0.0029509568385428383,
          0.002977107082609462,
          0.0030037795403809815,
          0.003030995956458639,
          0.00305877787480513,
          0.0030871466450994632,
          0.0031161234298026507,
          0.0031457292116177336,
          0.003175984801027598,
          0.0032069108435978334,
          0.0032385278267387362,
          0.0032708560856306843,
          0.003303915808030665,
          0.0033377270376939053,
          0.0033723096761639256,
          0.0034076834827061774,
          0.003443868072184691,
          0.003480882910707682,
          0.003518747308896349,
          0.0035574804126611384,
          0.00359710119140082,
          0.003637628423572057,
          0.0036790806796097616,
          0.00372147630221168,
          0.0037648333840334326,
          0.0038091697428729123,
          0.003854502894454378,
          0.0039008500229533788,
          0.003948227949432481,
          0.003996653098385219,
          0.004046141462610841,
          0.004096708566665158,
          0.004148369429153204,
          0.004201138524146543,
          0.004255029742022657,
          0.004310056350034631,
          0.004366230952927414,
          0.004423565453921034,
          0.004482071016382054,
          0.004541758026501831,
          0.004602636057293766,
          0.004664713834212321,
          0.00472799920268305,
          0.004792499097817056,
          0.004858219516563315,
          0.0049251654925305125,
          0.004993341073684524,
          0.005062749303100706,
          0.005133392202920399,
          0.005205270761629593,
          0.005278384924745322,
          0.0053527335889608915,
          0.005428314599766873,
          0.005505124752529309,
          0.005583159796971882,
          0.0056624144449740664,
          0.005742882381563435,
          0.005824556278947791,
          0.005907427813401849,
          0.005991487684793785,
          0.006076725638510779,
          0.006163130489517947,
          0.006250690148264485,
          0.006339391648132302,
          0.006429221174108447,
          0.006520164092351747,
          0.006612204980316978,
          0.006705327657097408,
          0.00679951521364752,
          0.006894750042553484,
          0.006991013867028547,
          0.0070882877688241445,
          0.007186552214766262,
          0.007285787081647626,
          0.00738597167923304,
          0.007487084771164271,
          0.007589104593583673,
          0.0076920088713322236,
          0.007795774831615974,
          0.007900379215076447,
          0.008005798284243729,
          0.00811200782939575,
          0.008218983171893561,
          0.008326699165108859,
          0.00843513019310724,
          0.008544250167296992,
          0.008654032521299334,
          0.00876445020434038,
          0.00887547567350774,
          0.008987080885254956,
          0.009099237286574361,
          0.009211915806293143,
          0.009325086846977549,
          0.009438720277956097,
          0.009552785429994349,
          0.009667251092169565,
          0.009782085511505266,
          0.009897256395930346,
          0.01001273092112723,
          0.010128475741826697,
          0.010244457008094293,
          0.01036064038713392,
          0.010476991091108617,
          0.010593473911446877,
          0.010710053260064816,
          0.010826693217890317,
          0.010943357591025738,
          0.011060009974829756,
          0.01117661382613902,
          0.011293132543784681,
          0.011409529557488631,
          0.011525768425151421,
          0.01164181293846651,
          0.011757627236716119,
          0.011873175928522111,
          0.011988424221242716,
          0.01210333805762192,
          0.012217884259214547,
          0.012332030676027991,
          0.012445746341739177,
          0.012559001633767154,
          0.012671768437405475,
          0.012784020313146151,
          0.012895732666259858,
          0.013006882917633855,
          0.013117450674813706,
          0.013227417902143313,
          0.01333676908885688,
          0.013445491413939305,
          0.013553574906545764,
          0.01366101260075215,
          0.013767800683398713,
          0.013873938633788772,
          0.013979429354013296,
          0.014084279288691383,
          0.014188498532943895,
          0.014292100927456317,
          0.01439510413953355,
          0.014497529729106026,
          0.014599403198712392,
          0.014700754026557752,
          0.014801615681829122,
          0.0149020256215401,
          0.01500202526827353,
          0.015101659968294982,
          0.015200978929619602,
          0.015300035139728892,
          0.015398885262753355,
          0.015497589516058395,
          0.015596211526296259,
          0.015694818165112222,
          0.015793479364820003,
          0.015892267914488747,
          0.01599125923700746,
          0.016090531147817225,
          0.016190163596120428,
          0.016290238389491896,
          0.016390838902928112,
          0.016492049773475296,
          0.01659395658167543,
          0.01669664552116082,
          0.016800203057810447,
          0.016904715579956223,
          0.017010269041192516,
          0.017116948597397725,
          0.017224838239622925,
          0.017334020424537733,
          0.017444575704148122,
          0.01755658235651565,
          0.01767011601921044,
          0.017785249327223234,
          0.017902051557043813,
          0.01802058827858493,
          0.01814092101659207,
          0.018263106923131878,
          0.01838719846269392,
          0.018513243111374356,
          0.018641283071535397,
          0.01877135500325272,
          0.018903489773772295,
          0.019037712226104602,
          0.019174040967781022,
          0.01931248818069301,
          0.019453059452823943,
          0.01959575363257073,
          0.019740562706237513,
          0.01988747169916632,
          0.02003645860085256,
          0.02018749431427582,
          0.02034054262955963,
          0.020495560221959426,
          0.020652496674065542,
          0.020811294521997255,
          0.020971889325260364,
          0.021134209759836365,
          0.021298177733976808,
          0.02146370852608316,
          0.021630710943966354,
          0.021799087504701803,
          0.02196873463421939,
          0.022139542885702343,
          0.02231139717580788,
          0.022484177037668234,
          0.022657756889584157,
          0.02283200631828276,
          0.023006790375578054,
          0.023181969887246245,
          0.023357401772907987,
          0.02353293937569525,
          0.023708432800474577,
          0.02388372925939506,
          0.02405867342353517,
          0.024233107779430312,
          0.02440687298927884,
          0.02457980825364177,
          0.024751751675475123,
          0.0249225406243617,
          0.025092012099837885,
          0.02526000309274657,
          0.02542635094358269,
          0.025590893696837515,
          0.025753470450388217,
          0.025913921699023183,
          0.026072089671237083,
          0.02622781865847519,
          0.026380955336054453,
          0.02653134907503358,
          0.026678852244355514,
          0.026823320502629852,
          0.026964613078974527,
          0.027102593042381568,
          0.027237127559121322,
          0.02736808813774641,
          0.027495350861303804,
          0.027618796606411082,
          0.027738311248898202,
          0.027853785855762515,
          0.027965116863229056,
          0.028072206240753145,
          0.028174961640845184,
          0.028273296534641217,
          0.028367130333183513,
          0.02845638849441773,
          0.028541002615952868,
          0.028620910513669023,
          0.028696056286297216,
          0.02876639036613197,
          0.028831869556072715,
          0.028892457053226416,
          0.02894812245933558,
          0.028998841778328618,
          0.02904459740131947,
          0.029085378079412395,
          0.029121178884693993,
          0.02915200115982029,
          0.029177852456628912,
          0.029198746464226943,
          0.02921470292702314,
          0.02922574755318991,
          0.029231911914051164,
          0.029233233334905594,
          0.029229754777799155,
          0.02922152471676742,
          0.029208597006068475,
          0.02919103074192626,
          0.029168890118298478,
          0.029142244277176255,
          0.02911116715391101,
          0.029075737318050163,
          0.02903603781014589,
          0.028992155974981462,
          0.028944183291636425,
          0.028892215200786556,
          0.0288363509296073,
          0.02877669331461831,
          0.0287133486227754,
          0.028646426371082983,
          0.028576039144964486,
          0.028502302415592515,
          0.028425334356345092,
          0.028345255658515776,
          0.028262189346370748,
          0.028176260591609215,
          0.028087596527248123,
          0.02799632606091986,
          0.02790257968753853,
          0.027806489301262047,
          0.027708188006649797,
          0.02760780992889235,
          0.027505490022968468,
          0.027401363881569187,
          0.027295567541614982,
          0.02718823728918448,
          0.02707950946266907,
          0.026969520253969054,
          0.026858405507552592,
          0.026746300517210345,
          0.026633339820353753,
          0.02651965698972739,
          0.026405384422430938,
          0.02629065312617821,
          0.02617559250275659,
          0.02606033012869054,
          0.025944991533158258,
          0.025829699973259356,
          0.025714576206784034,
          0.025599738262690276,
          0.025485301209554334,
          0.025371376922320846,
          0.02525807384774143,
          0.025145496768955212,
          0.025033746569729,
          0.024922919998939152,
          0.024813109435942515,
          0.024704402657544266,
          0.024596882607333715,
          0.024490627168215734,
          0.02438570893902055,
          0.024282195016126846,
          0.024180146781077546,
          0.024079619695211833,
          0.02398066310237003,
          0.023883320040759607,
          0.023787627065092257,
          0.02369361408011843,
          0.023601304186693636,
          0.023510713541511276,
          0.023421851231628904,
          0.023334719164898748,
          0.023249311977388918,
          0.023165616958847318,
          0.02308361399721987,
          0.023003275543182523,
          0.022924566595588263,
          0.02284744470866291,
          0.022771860021707283,
          0.02269775531198091,
          0.022625066071350976,
          0.02255372060719337,
          0.022483640167927973,
          0.02241473909346149,
          0.022346924990694357,
          0.022280098934131052,
          0.022214155691506844,
          0.022148983974220302,
          0.02208446671222931,
          0.02202048135294019,
          0.021956900183487154,
          0.021893590675669154,
          0.02183041585268113,
          0.02176723467664946,
          0.021703902455855805,
          0.021640271270412965,
          0.021576190415039505,
          0.021511506857468336,
          0.02144606571091993,
          0.021379710718972402,
          0.021312284751070085,
          0.021243630306830425,
          0.021173590027235952,
          0.021102007210734557,
          0.02102872633221766,
          0.020953593562803657,
          0.020876457288321805,
          0.02079716862437105,
          0.020715581925819928,
          0.020631555288615933,
          0.020544951041787038,
          0.02045563622754562,
          0.020363483067441547,
          0.020268369412562846,
          0.02017017917584171,
          0.02006880274459782,
          0.01996413737153283,
          0.01985608754248383,
          0.019744565319346954,
          0.019629490656694535,
          0.019510791690730774,
          0.019388404999359257,
          0.019262275832272316,
          0.019132358310114523,
          0.018998615591919923,
          0.018861020010176095,
          0.018719553173023266,
          0.01857420603325587,
          0.01842497892395451,
          0.01827188156073702,
          0.018114933010779263,
          0.01795416162891449,
          0.0177896049612793,
          0.017621309617127198,
          0.017449331109581342,
          0.017273733666244073,
          0.017094590010718162,
          0.016911981116229376,
          0.016725995932663072,
          0.01653673108844571,
          0.016344290568808578,
          0.0161487853720705,
          0.01595033314566346,
          0.015749057803703254,
          0.015545089127973621,
          0.015338562354247784,
          0.015129617745915194,
          0.014918400156913836,
          0.014705058585987914,
          0.014489745724301069,
          0.014272617498431143,
          0.014053832610758947,
          0.013833552079237773,
          0.013611938778493642,
          0.013389156984160617,
          0.01316537192229679,
          0.012940749325662299,
          0.012715454998563254,
          0.012489654391883901,
          0.012263512189837084,
          0.012037191909865262,
          0.01181085551702087,
          0.011584663054045066,
          0.011358772288250628,
          0.011133338376196797,
          0.010908513547025496,
          0.01068444680520446,
          0.01046128365330138,
          0.010239165835289927,
          0.010018231100765735,
          0.009798612990329811,
          0.009580440642278167,
          0.009363838620620586,
          0.009148926764339491,
          0.008935820057692407,
          0.008724628521257986,
          0.008515457123329292,
          0.008308405711165397,
          0.008103568961529029,
          0.007901036349858172,
          0.007700892137349614,
          0.007503215375168731,
          0.007308079924942291,
          0.007115554494644983,
          0.006925702688946995,
          0.006738583073058715,
          0.006554249249082583,
          0.006372749943863928
         ],
         "yaxis": "y"
        },
        {
         "legendgroup": "QI",
         "marker": {
          "color": "rgb(31, 119, 180)",
          "symbol": "line-ns-open"
         },
         "mode": "markers",
         "name": "QI",
         "showlegend": false,
         "type": "scatter",
         "x": [
          82.12,
          81.75,
          76,
          95.2,
          75.1,
          70.48,
          86.63,
          88.82,
          99.24,
          98.38,
          84.81,
          86.99,
          83.6,
          74.33,
          91.6,
          101.6,
          97.49,
          62.55,
          69.71,
          93.48,
          87.94,
          76.53,
          88.54,
          69.45,
          83.38,
          76.69,
          87.58,
          90.99,
          73.8,
          72.09,
          99.75,
          67.76,
          99.52,
          52.5,
          82.24,
          62.55,
          78.87,
          87.89,
          104.1,
          83.13,
          77.07,
          64.92,
          83.96,
          88.34,
          95.75,
          83.9,
          93.39,
          94.92,
          97.83,
          68.41,
          66.03,
          82.05,
          78.26,
          76.32,
          69.63,
          68.77,
          100.72,
          68.87,
          68.42,
          83.96,
          101.2,
          96.69,
          62.97,
          52.68,
          84.5,
          100.74,
          58.16,
          90.77,
          98.89,
          79.34,
          47.72,
          53.48,
          83.23,
          82.1,
          62.16,
          105.37,
          99.24,
          98.26,
          76.24,
          78.49,
          80.01,
          89.28,
          95.13,
          92.43,
          94.23,
          58.16,
          75.08,
          106.48,
          80.7,
          88.89,
          75.2,
          83.96,
          78.64,
          79.09,
          80.99,
          94.79,
          81.7,
          68.87,
          45.07,
          80.92,
          101.07,
          95.89,
          99.87,
          99.82,
          76.79,
          69.7,
          87.58,
          80.54,
          59.76,
          91.27,
          83.96,
          59.76,
          86.56,
          87.73,
          83.96,
          89.98,
          91.03,
          85.78,
          67.03,
          72.5,
          91.18,
          66.19,
          42.99,
          100.74,
          93.92,
          98.57,
          52.69,
          70.82,
          67.76,
          98.82,
          81.91,
          81.36,
          97.13,
          78.7,
          80,
          77.69,
          79,
          78.49,
          84.04,
          81.44,
          81.64,
          96.35,
          92.77,
          81.99,
          80.78,
          62.97,
          86.88,
          96.29,
          69.95,
          70.48,
          73.68,
          63.42,
          83.96,
          65.22,
          76.36,
          77.37,
          89.6,
          78.76,
          45.07,
          105.89,
          96.32,
          98.6,
          83.96,
          67.67,
          68.87,
          102.35,
          58.61,
          93.9,
          86.62,
          78.87,
          90.29,
          97,
          99.24,
          74.41,
          106.47,
          87.71,
          74.95,
          88.87,
          59.83,
          83.96,
          79.22,
          86.8,
          85.86,
          84.29,
          76.42,
          90.07,
          82.05,
          99.12,
          97.43,
          87.59,
          89.01,
          93.92,
          82.99,
          89.53,
          62.86,
          68.43,
          74.01
         ],
         "xaxis": "x",
         "y": [
          "QI",
          "QI",
          "QI",
          "QI",
          "QI",
          "QI",
          "QI",
          "QI",
          "QI",
          "QI",
          "QI",
          "QI",
          "QI",
          "QI",
          "QI",
          "QI",
          "QI",
          "QI",
          "QI",
          "QI",
          "QI",
          "QI",
          "QI",
          "QI",
          "QI",
          "QI",
          "QI",
          "QI",
          "QI",
          "QI",
          "QI",
          "QI",
          "QI",
          "QI",
          "QI",
          "QI",
          "QI",
          "QI",
          "QI",
          "QI",
          "QI",
          "QI",
          "QI",
          "QI",
          "QI",
          "QI",
          "QI",
          "QI",
          "QI",
          "QI",
          "QI",
          "QI",
          "QI",
          "QI",
          "QI",
          "QI",
          "QI",
          "QI",
          "QI",
          "QI",
          "QI",
          "QI",
          "QI",
          "QI",
          "QI",
          "QI",
          "QI",
          "QI",
          "QI",
          "QI",
          "QI",
          "QI",
          "QI",
          "QI",
          "QI",
          "QI",
          "QI",
          "QI",
          "QI",
          "QI",
          "QI",
          "QI",
          "QI",
          "QI",
          "QI",
          "QI",
          "QI",
          "QI",
          "QI",
          "QI",
          "QI",
          "QI",
          "QI",
          "QI",
          "QI",
          "QI",
          "QI",
          "QI",
          "QI",
          "QI",
          "QI",
          "QI",
          "QI",
          "QI",
          "QI",
          "QI",
          "QI",
          "QI",
          "QI",
          "QI",
          "QI",
          "QI",
          "QI",
          "QI",
          "QI",
          "QI",
          "QI",
          "QI",
          "QI",
          "QI",
          "QI",
          "QI",
          "QI",
          "QI",
          "QI",
          "QI",
          "QI",
          "QI",
          "QI",
          "QI",
          "QI",
          "QI",
          "QI",
          "QI",
          "QI",
          "QI",
          "QI",
          "QI",
          "QI",
          "QI",
          "QI",
          "QI",
          "QI",
          "QI",
          "QI",
          "QI",
          "QI",
          "QI",
          "QI",
          "QI",
          "QI",
          "QI",
          "QI",
          "QI",
          "QI",
          "QI",
          "QI",
          "QI",
          "QI",
          "QI",
          "QI",
          "QI",
          "QI",
          "QI",
          "QI",
          "QI",
          "QI",
          "QI",
          "QI",
          "QI",
          "QI",
          "QI",
          "QI",
          "QI",
          "QI",
          "QI",
          "QI",
          "QI",
          "QI",
          "QI",
          "QI",
          "QI",
          "QI",
          "QI",
          "QI",
          "QI",
          "QI",
          "QI",
          "QI",
          "QI",
          "QI",
          "QI",
          "QI",
          "QI",
          "QI",
          "QI",
          "QI"
         ],
         "yaxis": "y2"
        }
       ],
       "layout": {
        "barmode": "overlay",
        "hovermode": "closest",
        "legend": {
         "traceorder": "reversed"
        },
        "template": {
         "data": {
          "bar": [
           {
            "error_x": {
             "color": "#2a3f5f"
            },
            "error_y": {
             "color": "#2a3f5f"
            },
            "marker": {
             "line": {
              "color": "#E5ECF6",
              "width": 0.5
             },
             "pattern": {
              "fillmode": "overlay",
              "size": 10,
              "solidity": 0.2
             }
            },
            "type": "bar"
           }
          ],
          "barpolar": [
           {
            "marker": {
             "line": {
              "color": "#E5ECF6",
              "width": 0.5
             },
             "pattern": {
              "fillmode": "overlay",
              "size": 10,
              "solidity": 0.2
             }
            },
            "type": "barpolar"
           }
          ],
          "carpet": [
           {
            "aaxis": {
             "endlinecolor": "#2a3f5f",
             "gridcolor": "white",
             "linecolor": "white",
             "minorgridcolor": "white",
             "startlinecolor": "#2a3f5f"
            },
            "baxis": {
             "endlinecolor": "#2a3f5f",
             "gridcolor": "white",
             "linecolor": "white",
             "minorgridcolor": "white",
             "startlinecolor": "#2a3f5f"
            },
            "type": "carpet"
           }
          ],
          "choropleth": [
           {
            "colorbar": {
             "outlinewidth": 0,
             "ticks": ""
            },
            "type": "choropleth"
           }
          ],
          "contour": [
           {
            "colorbar": {
             "outlinewidth": 0,
             "ticks": ""
            },
            "colorscale": [
             [
              0,
              "#0d0887"
             ],
             [
              0.1111111111111111,
              "#46039f"
             ],
             [
              0.2222222222222222,
              "#7201a8"
             ],
             [
              0.3333333333333333,
              "#9c179e"
             ],
             [
              0.4444444444444444,
              "#bd3786"
             ],
             [
              0.5555555555555556,
              "#d8576b"
             ],
             [
              0.6666666666666666,
              "#ed7953"
             ],
             [
              0.7777777777777778,
              "#fb9f3a"
             ],
             [
              0.8888888888888888,
              "#fdca26"
             ],
             [
              1,
              "#f0f921"
             ]
            ],
            "type": "contour"
           }
          ],
          "contourcarpet": [
           {
            "colorbar": {
             "outlinewidth": 0,
             "ticks": ""
            },
            "type": "contourcarpet"
           }
          ],
          "heatmap": [
           {
            "colorbar": {
             "outlinewidth": 0,
             "ticks": ""
            },
            "colorscale": [
             [
              0,
              "#0d0887"
             ],
             [
              0.1111111111111111,
              "#46039f"
             ],
             [
              0.2222222222222222,
              "#7201a8"
             ],
             [
              0.3333333333333333,
              "#9c179e"
             ],
             [
              0.4444444444444444,
              "#bd3786"
             ],
             [
              0.5555555555555556,
              "#d8576b"
             ],
             [
              0.6666666666666666,
              "#ed7953"
             ],
             [
              0.7777777777777778,
              "#fb9f3a"
             ],
             [
              0.8888888888888888,
              "#fdca26"
             ],
             [
              1,
              "#f0f921"
             ]
            ],
            "type": "heatmap"
           }
          ],
          "heatmapgl": [
           {
            "colorbar": {
             "outlinewidth": 0,
             "ticks": ""
            },
            "colorscale": [
             [
              0,
              "#0d0887"
             ],
             [
              0.1111111111111111,
              "#46039f"
             ],
             [
              0.2222222222222222,
              "#7201a8"
             ],
             [
              0.3333333333333333,
              "#9c179e"
             ],
             [
              0.4444444444444444,
              "#bd3786"
             ],
             [
              0.5555555555555556,
              "#d8576b"
             ],
             [
              0.6666666666666666,
              "#ed7953"
             ],
             [
              0.7777777777777778,
              "#fb9f3a"
             ],
             [
              0.8888888888888888,
              "#fdca26"
             ],
             [
              1,
              "#f0f921"
             ]
            ],
            "type": "heatmapgl"
           }
          ],
          "histogram": [
           {
            "marker": {
             "pattern": {
              "fillmode": "overlay",
              "size": 10,
              "solidity": 0.2
             }
            },
            "type": "histogram"
           }
          ],
          "histogram2d": [
           {
            "colorbar": {
             "outlinewidth": 0,
             "ticks": ""
            },
            "colorscale": [
             [
              0,
              "#0d0887"
             ],
             [
              0.1111111111111111,
              "#46039f"
             ],
             [
              0.2222222222222222,
              "#7201a8"
             ],
             [
              0.3333333333333333,
              "#9c179e"
             ],
             [
              0.4444444444444444,
              "#bd3786"
             ],
             [
              0.5555555555555556,
              "#d8576b"
             ],
             [
              0.6666666666666666,
              "#ed7953"
             ],
             [
              0.7777777777777778,
              "#fb9f3a"
             ],
             [
              0.8888888888888888,
              "#fdca26"
             ],
             [
              1,
              "#f0f921"
             ]
            ],
            "type": "histogram2d"
           }
          ],
          "histogram2dcontour": [
           {
            "colorbar": {
             "outlinewidth": 0,
             "ticks": ""
            },
            "colorscale": [
             [
              0,
              "#0d0887"
             ],
             [
              0.1111111111111111,
              "#46039f"
             ],
             [
              0.2222222222222222,
              "#7201a8"
             ],
             [
              0.3333333333333333,
              "#9c179e"
             ],
             [
              0.4444444444444444,
              "#bd3786"
             ],
             [
              0.5555555555555556,
              "#d8576b"
             ],
             [
              0.6666666666666666,
              "#ed7953"
             ],
             [
              0.7777777777777778,
              "#fb9f3a"
             ],
             [
              0.8888888888888888,
              "#fdca26"
             ],
             [
              1,
              "#f0f921"
             ]
            ],
            "type": "histogram2dcontour"
           }
          ],
          "mesh3d": [
           {
            "colorbar": {
             "outlinewidth": 0,
             "ticks": ""
            },
            "type": "mesh3d"
           }
          ],
          "parcoords": [
           {
            "line": {
             "colorbar": {
              "outlinewidth": 0,
              "ticks": ""
             }
            },
            "type": "parcoords"
           }
          ],
          "pie": [
           {
            "automargin": true,
            "type": "pie"
           }
          ],
          "scatter": [
           {
            "fillpattern": {
             "fillmode": "overlay",
             "size": 10,
             "solidity": 0.2
            },
            "type": "scatter"
           }
          ],
          "scatter3d": [
           {
            "line": {
             "colorbar": {
              "outlinewidth": 0,
              "ticks": ""
             }
            },
            "marker": {
             "colorbar": {
              "outlinewidth": 0,
              "ticks": ""
             }
            },
            "type": "scatter3d"
           }
          ],
          "scattercarpet": [
           {
            "marker": {
             "colorbar": {
              "outlinewidth": 0,
              "ticks": ""
             }
            },
            "type": "scattercarpet"
           }
          ],
          "scattergeo": [
           {
            "marker": {
             "colorbar": {
              "outlinewidth": 0,
              "ticks": ""
             }
            },
            "type": "scattergeo"
           }
          ],
          "scattergl": [
           {
            "marker": {
             "colorbar": {
              "outlinewidth": 0,
              "ticks": ""
             }
            },
            "type": "scattergl"
           }
          ],
          "scattermapbox": [
           {
            "marker": {
             "colorbar": {
              "outlinewidth": 0,
              "ticks": ""
             }
            },
            "type": "scattermapbox"
           }
          ],
          "scatterpolar": [
           {
            "marker": {
             "colorbar": {
              "outlinewidth": 0,
              "ticks": ""
             }
            },
            "type": "scatterpolar"
           }
          ],
          "scatterpolargl": [
           {
            "marker": {
             "colorbar": {
              "outlinewidth": 0,
              "ticks": ""
             }
            },
            "type": "scatterpolargl"
           }
          ],
          "scatterternary": [
           {
            "marker": {
             "colorbar": {
              "outlinewidth": 0,
              "ticks": ""
             }
            },
            "type": "scatterternary"
           }
          ],
          "surface": [
           {
            "colorbar": {
             "outlinewidth": 0,
             "ticks": ""
            },
            "colorscale": [
             [
              0,
              "#0d0887"
             ],
             [
              0.1111111111111111,
              "#46039f"
             ],
             [
              0.2222222222222222,
              "#7201a8"
             ],
             [
              0.3333333333333333,
              "#9c179e"
             ],
             [
              0.4444444444444444,
              "#bd3786"
             ],
             [
              0.5555555555555556,
              "#d8576b"
             ],
             [
              0.6666666666666666,
              "#ed7953"
             ],
             [
              0.7777777777777778,
              "#fb9f3a"
             ],
             [
              0.8888888888888888,
              "#fdca26"
             ],
             [
              1,
              "#f0f921"
             ]
            ],
            "type": "surface"
           }
          ],
          "table": [
           {
            "cells": {
             "fill": {
              "color": "#EBF0F8"
             },
             "line": {
              "color": "white"
             }
            },
            "header": {
             "fill": {
              "color": "#C8D4E3"
             },
             "line": {
              "color": "white"
             }
            },
            "type": "table"
           }
          ]
         },
         "layout": {
          "annotationdefaults": {
           "arrowcolor": "#2a3f5f",
           "arrowhead": 0,
           "arrowwidth": 1
          },
          "autotypenumbers": "strict",
          "coloraxis": {
           "colorbar": {
            "outlinewidth": 0,
            "ticks": ""
           }
          },
          "colorscale": {
           "diverging": [
            [
             0,
             "#8e0152"
            ],
            [
             0.1,
             "#c51b7d"
            ],
            [
             0.2,
             "#de77ae"
            ],
            [
             0.3,
             "#f1b6da"
            ],
            [
             0.4,
             "#fde0ef"
            ],
            [
             0.5,
             "#f7f7f7"
            ],
            [
             0.6,
             "#e6f5d0"
            ],
            [
             0.7,
             "#b8e186"
            ],
            [
             0.8,
             "#7fbc41"
            ],
            [
             0.9,
             "#4d9221"
            ],
            [
             1,
             "#276419"
            ]
           ],
           "sequential": [
            [
             0,
             "#0d0887"
            ],
            [
             0.1111111111111111,
             "#46039f"
            ],
            [
             0.2222222222222222,
             "#7201a8"
            ],
            [
             0.3333333333333333,
             "#9c179e"
            ],
            [
             0.4444444444444444,
             "#bd3786"
            ],
            [
             0.5555555555555556,
             "#d8576b"
            ],
            [
             0.6666666666666666,
             "#ed7953"
            ],
            [
             0.7777777777777778,
             "#fb9f3a"
            ],
            [
             0.8888888888888888,
             "#fdca26"
            ],
            [
             1,
             "#f0f921"
            ]
           ],
           "sequentialminus": [
            [
             0,
             "#0d0887"
            ],
            [
             0.1111111111111111,
             "#46039f"
            ],
            [
             0.2222222222222222,
             "#7201a8"
            ],
            [
             0.3333333333333333,
             "#9c179e"
            ],
            [
             0.4444444444444444,
             "#bd3786"
            ],
            [
             0.5555555555555556,
             "#d8576b"
            ],
            [
             0.6666666666666666,
             "#ed7953"
            ],
            [
             0.7777777777777778,
             "#fb9f3a"
            ],
            [
             0.8888888888888888,
             "#fdca26"
            ],
            [
             1,
             "#f0f921"
            ]
           ]
          },
          "colorway": [
           "#636efa",
           "#EF553B",
           "#00cc96",
           "#ab63fa",
           "#FFA15A",
           "#19d3f3",
           "#FF6692",
           "#B6E880",
           "#FF97FF",
           "#FECB52"
          ],
          "font": {
           "color": "#2a3f5f"
          },
          "geo": {
           "bgcolor": "white",
           "lakecolor": "white",
           "landcolor": "#E5ECF6",
           "showlakes": true,
           "showland": true,
           "subunitcolor": "white"
          },
          "hoverlabel": {
           "align": "left"
          },
          "hovermode": "closest",
          "mapbox": {
           "style": "light"
          },
          "paper_bgcolor": "white",
          "plot_bgcolor": "#E5ECF6",
          "polar": {
           "angularaxis": {
            "gridcolor": "white",
            "linecolor": "white",
            "ticks": ""
           },
           "bgcolor": "#E5ECF6",
           "radialaxis": {
            "gridcolor": "white",
            "linecolor": "white",
            "ticks": ""
           }
          },
          "scene": {
           "xaxis": {
            "backgroundcolor": "#E5ECF6",
            "gridcolor": "white",
            "gridwidth": 2,
            "linecolor": "white",
            "showbackground": true,
            "ticks": "",
            "zerolinecolor": "white"
           },
           "yaxis": {
            "backgroundcolor": "#E5ECF6",
            "gridcolor": "white",
            "gridwidth": 2,
            "linecolor": "white",
            "showbackground": true,
            "ticks": "",
            "zerolinecolor": "white"
           },
           "zaxis": {
            "backgroundcolor": "#E5ECF6",
            "gridcolor": "white",
            "gridwidth": 2,
            "linecolor": "white",
            "showbackground": true,
            "ticks": "",
            "zerolinecolor": "white"
           }
          },
          "shapedefaults": {
           "line": {
            "color": "#2a3f5f"
           }
          },
          "ternary": {
           "aaxis": {
            "gridcolor": "white",
            "linecolor": "white",
            "ticks": ""
           },
           "baxis": {
            "gridcolor": "white",
            "linecolor": "white",
            "ticks": ""
           },
           "bgcolor": "#E5ECF6",
           "caxis": {
            "gridcolor": "white",
            "linecolor": "white",
            "ticks": ""
           }
          },
          "title": {
           "x": 0.05
          },
          "xaxis": {
           "automargin": true,
           "gridcolor": "white",
           "linecolor": "white",
           "ticks": "",
           "title": {
            "standoff": 15
           },
           "zerolinecolor": "white",
           "zerolinewidth": 2
          },
          "yaxis": {
           "automargin": true,
           "gridcolor": "white",
           "linecolor": "white",
           "ticks": "",
           "title": {
            "standoff": 15
           },
           "zerolinecolor": "white",
           "zerolinewidth": 2
          }
         }
        },
        "xaxis": {
         "anchor": "y2",
         "domain": [
          0,
          1
         ],
         "zeroline": false
        },
        "yaxis": {
         "anchor": "free",
         "domain": [
          0.35,
          1
         ],
         "position": 0
        },
        "yaxis2": {
         "anchor": "x",
         "domain": [
          0,
          0.25
         ],
         "dtick": 1,
         "showticklabels": false
        }
       }
      }
     },
     "metadata": {},
     "output_type": "display_data"
    }
   ],
   "source": [
    "import plotly.figure_factory as ff\n",
    "\n",
    "\n",
    "group_labels = ['QI'] \n",
    "\n",
    "fig = ff.create_distplot([list(df_filtered['Averageiqbycountry_Iqlynnbecker2019'])], group_labels,bin_size=6.349)\n",
    "fig.show()"
   ]
  },
  {
   "cell_type": "code",
   "execution_count": 9,
   "metadata": {},
   "outputs": [
    {
     "data": {
      "application/vnd.plotly.v1+json": {
       "config": {
        "plotlyServerURL": "https://plot.ly"
       },
       "data": [
        {
         "alignmentgroup": "True",
         "bingroup": "x",
         "histnorm": "probability density",
         "hovertemplate": "Continent=asia<br>Averageiqbycountry_Iqlynnbecker2019=%{x}<br>probability density=%{y}<extra></extra>",
         "legendgroup": "",
         "marker": {
          "color": "#636efa",
          "pattern": {
           "shape": ""
          }
         },
         "name": "",
         "nbinsx": 10,
         "offsetgroup": "",
         "orientation": "v",
         "showlegend": false,
         "type": "histogram",
         "x": [
          82.12,
          88.82,
          84.81,
          83.6,
          74.33,
          87.94,
          87.58,
          99.75,
          104.1,
          93.39,
          84.5,
          105.37,
          76.24,
          78.49,
          80.01,
          89.28,
          92.43,
          106.48,
          80.7,
          88.89,
          78.64,
          79.09,
          80.99,
          81.7,
          99.82,
          87.58,
          80.54,
          91.03,
          91.18,
          42.99,
          98.82,
          78.7,
          80,
          77.69,
          81.64,
          80.78,
          76.36,
          105.89,
          102.35,
          86.62,
          74.41,
          106.47,
          87.71,
          88.87,
          86.8,
          85.86,
          82.05,
          89.01,
          89.53,
          62.86
         ],
         "xaxis": "x",
         "yaxis": "y"
        },
        {
         "alignmentgroup": "True",
         "bingroup": "x",
         "histnorm": "probability density",
         "hovertemplate": "Continent=europe<br>Averageiqbycountry_Iqlynnbecker2019=%{x}<br>probability density=%{y}<extra></extra>",
         "legendgroup": "",
         "marker": {
          "color": "#636efa",
          "pattern": {
           "shape": ""
          }
         },
         "name": "",
         "nbinsx": 10,
         "offsetgroup": "",
         "orientation": "v",
         "showlegend": false,
         "type": "histogram",
         "x": [
          81.75,
          95.2,
          98.38,
          101.6,
          97.49,
          88.54,
          90.99,
          95.75,
          94.92,
          97.83,
          100.72,
          101.2,
          96.69,
          100.74,
          90.77,
          99.24,
          98.26,
          95.13,
          94.23,
          94.79,
          101.07,
          95.89,
          99.87,
          91.27,
          89.98,
          85.78,
          100.74,
          81.91,
          97.13,
          96.35,
          92.77,
          86.88,
          96.29,
          89.6,
          96.32,
          98.6,
          93.9,
          97,
          99.24,
          90.07,
          99.12
         ],
         "xaxis": "x2",
         "yaxis": "y2"
        },
        {
         "alignmentgroup": "True",
         "bingroup": "x",
         "histnorm": "probability density",
         "hovertemplate": "Continent=africa<br>Averageiqbycountry_Iqlynnbecker2019=%{x}<br>probability density=%{y}<extra></extra>",
         "legendgroup": "",
         "marker": {
          "color": "#636efa",
          "pattern": {
           "shape": ""
          }
         },
         "name": "",
         "nbinsx": 10,
         "offsetgroup": "",
         "orientation": "v",
         "showlegend": false,
         "type": "histogram",
         "x": [
          76,
          75.1,
          69.71,
          69.45,
          73.8,
          72.09,
          67.76,
          52.5,
          62.55,
          78.87,
          77.07,
          64.92,
          68.41,
          76.32,
          68.77,
          68.87,
          68.42,
          62.97,
          52.68,
          58.16,
          53.48,
          58.16,
          75.2,
          68.87,
          45.07,
          80.92,
          76.79,
          69.7,
          59.76,
          59.76,
          86.56,
          67.03,
          72.5,
          66.19,
          70.82,
          67.76,
          62.97,
          69.95,
          65.22,
          77.37,
          78.76,
          45.07,
          67.67,
          68.87,
          58.61,
          78.87,
          74.95,
          59.83,
          79.22,
          76.42,
          68.43,
          74.01
         ],
         "xaxis": "x3",
         "yaxis": "y3"
        },
        {
         "alignmentgroup": "True",
         "bingroup": "x",
         "histnorm": "probability density",
         "hovertemplate": "Continent=north-america<br>Averageiqbycountry_Iqlynnbecker2019=%{x}<br>probability density=%{y}<extra></extra>",
         "legendgroup": "",
         "marker": {
          "color": "#636efa",
          "pattern": {
           "shape": ""
          }
         },
         "name": "",
         "nbinsx": 10,
         "offsetgroup": "",
         "orientation": "v",
         "showlegend": false,
         "type": "histogram",
         "x": [
          70.48,
          86.99,
          91.6,
          62.55,
          93.48,
          76.69,
          99.52,
          82.24,
          88.34,
          83.9,
          66.03,
          82.05,
          69.63,
          98.89,
          79.34,
          47.72,
          82.1,
          62.16,
          75.08,
          87.73,
          52.69,
          79,
          81.99,
          70.48,
          73.68,
          63.42,
          84.29,
          97.43
         ],
         "xaxis": "x4",
         "yaxis": "y4"
        },
        {
         "alignmentgroup": "True",
         "bingroup": "x",
         "histnorm": "probability density",
         "hovertemplate": "Continent=south-america<br>Averageiqbycountry_Iqlynnbecker2019=%{x}<br>probability density=%{y}<extra></extra>",
         "legendgroup": "",
         "marker": {
          "color": "#636efa",
          "pattern": {
           "shape": ""
          }
         },
         "name": "",
         "nbinsx": 10,
         "offsetgroup": "",
         "orientation": "v",
         "showlegend": false,
         "type": "histogram",
         "x": [
          86.63,
          76.53,
          83.38,
          87.89,
          83.13,
          78.26,
          83.23,
          84.04,
          81.44,
          90.29,
          87.59,
          82.99
         ],
         "xaxis": "x5",
         "yaxis": "y5"
        },
        {
         "alignmentgroup": "True",
         "bingroup": "x",
         "histnorm": "probability density",
         "hovertemplate": "Continent=oceania<br>Averageiqbycountry_Iqlynnbecker2019=%{x}<br>probability density=%{y}<extra></extra>",
         "legendgroup": "",
         "marker": {
          "color": "#636efa",
          "pattern": {
           "shape": ""
          }
         },
         "name": "",
         "nbinsx": 10,
         "offsetgroup": "",
         "orientation": "v",
         "showlegend": false,
         "type": "histogram",
         "x": [
          99.24,
          83.96,
          83.96,
          83.96,
          83.96,
          83.96,
          93.92,
          98.57,
          81.36,
          78.49,
          83.96,
          83.96,
          83.96,
          93.92
         ],
         "xaxis": "x6",
         "yaxis": "y6"
        }
       ],
       "layout": {
        "annotations": [
         {
          "font": {},
          "showarrow": false,
          "text": "Continent=asia",
          "x": 0.075,
          "xanchor": "center",
          "xref": "paper",
          "y": 1,
          "yanchor": "bottom",
          "yref": "paper"
         },
         {
          "font": {},
          "showarrow": false,
          "text": "Continent=europe",
          "x": 0.24499999999999997,
          "xanchor": "center",
          "xref": "paper",
          "y": 1,
          "yanchor": "bottom",
          "yref": "paper"
         },
         {
          "font": {},
          "showarrow": false,
          "text": "Continent=africa",
          "x": 0.415,
          "xanchor": "center",
          "xref": "paper",
          "y": 1,
          "yanchor": "bottom",
          "yref": "paper"
         },
         {
          "font": {},
          "showarrow": false,
          "text": "Continent=north-america",
          "x": 0.585,
          "xanchor": "center",
          "xref": "paper",
          "y": 1,
          "yanchor": "bottom",
          "yref": "paper"
         },
         {
          "font": {},
          "showarrow": false,
          "text": "Continent=south-america",
          "x": 0.7549999999999999,
          "xanchor": "center",
          "xref": "paper",
          "y": 1,
          "yanchor": "bottom",
          "yref": "paper"
         },
         {
          "font": {},
          "showarrow": false,
          "text": "Continent=oceania",
          "x": 0.925,
          "xanchor": "center",
          "xref": "paper",
          "y": 1,
          "yanchor": "bottom",
          "yref": "paper"
         }
        ],
        "barmode": "relative",
        "legend": {
         "tracegroupgap": 0
        },
        "template": {
         "data": {
          "bar": [
           {
            "error_x": {
             "color": "#2a3f5f"
            },
            "error_y": {
             "color": "#2a3f5f"
            },
            "marker": {
             "line": {
              "color": "#E5ECF6",
              "width": 0.5
             },
             "pattern": {
              "fillmode": "overlay",
              "size": 10,
              "solidity": 0.2
             }
            },
            "type": "bar"
           }
          ],
          "barpolar": [
           {
            "marker": {
             "line": {
              "color": "#E5ECF6",
              "width": 0.5
             },
             "pattern": {
              "fillmode": "overlay",
              "size": 10,
              "solidity": 0.2
             }
            },
            "type": "barpolar"
           }
          ],
          "carpet": [
           {
            "aaxis": {
             "endlinecolor": "#2a3f5f",
             "gridcolor": "white",
             "linecolor": "white",
             "minorgridcolor": "white",
             "startlinecolor": "#2a3f5f"
            },
            "baxis": {
             "endlinecolor": "#2a3f5f",
             "gridcolor": "white",
             "linecolor": "white",
             "minorgridcolor": "white",
             "startlinecolor": "#2a3f5f"
            },
            "type": "carpet"
           }
          ],
          "choropleth": [
           {
            "colorbar": {
             "outlinewidth": 0,
             "ticks": ""
            },
            "type": "choropleth"
           }
          ],
          "contour": [
           {
            "colorbar": {
             "outlinewidth": 0,
             "ticks": ""
            },
            "colorscale": [
             [
              0,
              "#0d0887"
             ],
             [
              0.1111111111111111,
              "#46039f"
             ],
             [
              0.2222222222222222,
              "#7201a8"
             ],
             [
              0.3333333333333333,
              "#9c179e"
             ],
             [
              0.4444444444444444,
              "#bd3786"
             ],
             [
              0.5555555555555556,
              "#d8576b"
             ],
             [
              0.6666666666666666,
              "#ed7953"
             ],
             [
              0.7777777777777778,
              "#fb9f3a"
             ],
             [
              0.8888888888888888,
              "#fdca26"
             ],
             [
              1,
              "#f0f921"
             ]
            ],
            "type": "contour"
           }
          ],
          "contourcarpet": [
           {
            "colorbar": {
             "outlinewidth": 0,
             "ticks": ""
            },
            "type": "contourcarpet"
           }
          ],
          "heatmap": [
           {
            "colorbar": {
             "outlinewidth": 0,
             "ticks": ""
            },
            "colorscale": [
             [
              0,
              "#0d0887"
             ],
             [
              0.1111111111111111,
              "#46039f"
             ],
             [
              0.2222222222222222,
              "#7201a8"
             ],
             [
              0.3333333333333333,
              "#9c179e"
             ],
             [
              0.4444444444444444,
              "#bd3786"
             ],
             [
              0.5555555555555556,
              "#d8576b"
             ],
             [
              0.6666666666666666,
              "#ed7953"
             ],
             [
              0.7777777777777778,
              "#fb9f3a"
             ],
             [
              0.8888888888888888,
              "#fdca26"
             ],
             [
              1,
              "#f0f921"
             ]
            ],
            "type": "heatmap"
           }
          ],
          "heatmapgl": [
           {
            "colorbar": {
             "outlinewidth": 0,
             "ticks": ""
            },
            "colorscale": [
             [
              0,
              "#0d0887"
             ],
             [
              0.1111111111111111,
              "#46039f"
             ],
             [
              0.2222222222222222,
              "#7201a8"
             ],
             [
              0.3333333333333333,
              "#9c179e"
             ],
             [
              0.4444444444444444,
              "#bd3786"
             ],
             [
              0.5555555555555556,
              "#d8576b"
             ],
             [
              0.6666666666666666,
              "#ed7953"
             ],
             [
              0.7777777777777778,
              "#fb9f3a"
             ],
             [
              0.8888888888888888,
              "#fdca26"
             ],
             [
              1,
              "#f0f921"
             ]
            ],
            "type": "heatmapgl"
           }
          ],
          "histogram": [
           {
            "marker": {
             "pattern": {
              "fillmode": "overlay",
              "size": 10,
              "solidity": 0.2
             }
            },
            "type": "histogram"
           }
          ],
          "histogram2d": [
           {
            "colorbar": {
             "outlinewidth": 0,
             "ticks": ""
            },
            "colorscale": [
             [
              0,
              "#0d0887"
             ],
             [
              0.1111111111111111,
              "#46039f"
             ],
             [
              0.2222222222222222,
              "#7201a8"
             ],
             [
              0.3333333333333333,
              "#9c179e"
             ],
             [
              0.4444444444444444,
              "#bd3786"
             ],
             [
              0.5555555555555556,
              "#d8576b"
             ],
             [
              0.6666666666666666,
              "#ed7953"
             ],
             [
              0.7777777777777778,
              "#fb9f3a"
             ],
             [
              0.8888888888888888,
              "#fdca26"
             ],
             [
              1,
              "#f0f921"
             ]
            ],
            "type": "histogram2d"
           }
          ],
          "histogram2dcontour": [
           {
            "colorbar": {
             "outlinewidth": 0,
             "ticks": ""
            },
            "colorscale": [
             [
              0,
              "#0d0887"
             ],
             [
              0.1111111111111111,
              "#46039f"
             ],
             [
              0.2222222222222222,
              "#7201a8"
             ],
             [
              0.3333333333333333,
              "#9c179e"
             ],
             [
              0.4444444444444444,
              "#bd3786"
             ],
             [
              0.5555555555555556,
              "#d8576b"
             ],
             [
              0.6666666666666666,
              "#ed7953"
             ],
             [
              0.7777777777777778,
              "#fb9f3a"
             ],
             [
              0.8888888888888888,
              "#fdca26"
             ],
             [
              1,
              "#f0f921"
             ]
            ],
            "type": "histogram2dcontour"
           }
          ],
          "mesh3d": [
           {
            "colorbar": {
             "outlinewidth": 0,
             "ticks": ""
            },
            "type": "mesh3d"
           }
          ],
          "parcoords": [
           {
            "line": {
             "colorbar": {
              "outlinewidth": 0,
              "ticks": ""
             }
            },
            "type": "parcoords"
           }
          ],
          "pie": [
           {
            "automargin": true,
            "type": "pie"
           }
          ],
          "scatter": [
           {
            "fillpattern": {
             "fillmode": "overlay",
             "size": 10,
             "solidity": 0.2
            },
            "type": "scatter"
           }
          ],
          "scatter3d": [
           {
            "line": {
             "colorbar": {
              "outlinewidth": 0,
              "ticks": ""
             }
            },
            "marker": {
             "colorbar": {
              "outlinewidth": 0,
              "ticks": ""
             }
            },
            "type": "scatter3d"
           }
          ],
          "scattercarpet": [
           {
            "marker": {
             "colorbar": {
              "outlinewidth": 0,
              "ticks": ""
             }
            },
            "type": "scattercarpet"
           }
          ],
          "scattergeo": [
           {
            "marker": {
             "colorbar": {
              "outlinewidth": 0,
              "ticks": ""
             }
            },
            "type": "scattergeo"
           }
          ],
          "scattergl": [
           {
            "marker": {
             "colorbar": {
              "outlinewidth": 0,
              "ticks": ""
             }
            },
            "type": "scattergl"
           }
          ],
          "scattermapbox": [
           {
            "marker": {
             "colorbar": {
              "outlinewidth": 0,
              "ticks": ""
             }
            },
            "type": "scattermapbox"
           }
          ],
          "scatterpolar": [
           {
            "marker": {
             "colorbar": {
              "outlinewidth": 0,
              "ticks": ""
             }
            },
            "type": "scatterpolar"
           }
          ],
          "scatterpolargl": [
           {
            "marker": {
             "colorbar": {
              "outlinewidth": 0,
              "ticks": ""
             }
            },
            "type": "scatterpolargl"
           }
          ],
          "scatterternary": [
           {
            "marker": {
             "colorbar": {
              "outlinewidth": 0,
              "ticks": ""
             }
            },
            "type": "scatterternary"
           }
          ],
          "surface": [
           {
            "colorbar": {
             "outlinewidth": 0,
             "ticks": ""
            },
            "colorscale": [
             [
              0,
              "#0d0887"
             ],
             [
              0.1111111111111111,
              "#46039f"
             ],
             [
              0.2222222222222222,
              "#7201a8"
             ],
             [
              0.3333333333333333,
              "#9c179e"
             ],
             [
              0.4444444444444444,
              "#bd3786"
             ],
             [
              0.5555555555555556,
              "#d8576b"
             ],
             [
              0.6666666666666666,
              "#ed7953"
             ],
             [
              0.7777777777777778,
              "#fb9f3a"
             ],
             [
              0.8888888888888888,
              "#fdca26"
             ],
             [
              1,
              "#f0f921"
             ]
            ],
            "type": "surface"
           }
          ],
          "table": [
           {
            "cells": {
             "fill": {
              "color": "#EBF0F8"
             },
             "line": {
              "color": "white"
             }
            },
            "header": {
             "fill": {
              "color": "#C8D4E3"
             },
             "line": {
              "color": "white"
             }
            },
            "type": "table"
           }
          ]
         },
         "layout": {
          "annotationdefaults": {
           "arrowcolor": "#2a3f5f",
           "arrowhead": 0,
           "arrowwidth": 1
          },
          "autotypenumbers": "strict",
          "coloraxis": {
           "colorbar": {
            "outlinewidth": 0,
            "ticks": ""
           }
          },
          "colorscale": {
           "diverging": [
            [
             0,
             "#8e0152"
            ],
            [
             0.1,
             "#c51b7d"
            ],
            [
             0.2,
             "#de77ae"
            ],
            [
             0.3,
             "#f1b6da"
            ],
            [
             0.4,
             "#fde0ef"
            ],
            [
             0.5,
             "#f7f7f7"
            ],
            [
             0.6,
             "#e6f5d0"
            ],
            [
             0.7,
             "#b8e186"
            ],
            [
             0.8,
             "#7fbc41"
            ],
            [
             0.9,
             "#4d9221"
            ],
            [
             1,
             "#276419"
            ]
           ],
           "sequential": [
            [
             0,
             "#0d0887"
            ],
            [
             0.1111111111111111,
             "#46039f"
            ],
            [
             0.2222222222222222,
             "#7201a8"
            ],
            [
             0.3333333333333333,
             "#9c179e"
            ],
            [
             0.4444444444444444,
             "#bd3786"
            ],
            [
             0.5555555555555556,
             "#d8576b"
            ],
            [
             0.6666666666666666,
             "#ed7953"
            ],
            [
             0.7777777777777778,
             "#fb9f3a"
            ],
            [
             0.8888888888888888,
             "#fdca26"
            ],
            [
             1,
             "#f0f921"
            ]
           ],
           "sequentialminus": [
            [
             0,
             "#0d0887"
            ],
            [
             0.1111111111111111,
             "#46039f"
            ],
            [
             0.2222222222222222,
             "#7201a8"
            ],
            [
             0.3333333333333333,
             "#9c179e"
            ],
            [
             0.4444444444444444,
             "#bd3786"
            ],
            [
             0.5555555555555556,
             "#d8576b"
            ],
            [
             0.6666666666666666,
             "#ed7953"
            ],
            [
             0.7777777777777778,
             "#fb9f3a"
            ],
            [
             0.8888888888888888,
             "#fdca26"
            ],
            [
             1,
             "#f0f921"
            ]
           ]
          },
          "colorway": [
           "#636efa",
           "#EF553B",
           "#00cc96",
           "#ab63fa",
           "#FFA15A",
           "#19d3f3",
           "#FF6692",
           "#B6E880",
           "#FF97FF",
           "#FECB52"
          ],
          "font": {
           "color": "#2a3f5f"
          },
          "geo": {
           "bgcolor": "white",
           "lakecolor": "white",
           "landcolor": "#E5ECF6",
           "showlakes": true,
           "showland": true,
           "subunitcolor": "white"
          },
          "hoverlabel": {
           "align": "left"
          },
          "hovermode": "closest",
          "mapbox": {
           "style": "light"
          },
          "paper_bgcolor": "white",
          "plot_bgcolor": "#E5ECF6",
          "polar": {
           "angularaxis": {
            "gridcolor": "white",
            "linecolor": "white",
            "ticks": ""
           },
           "bgcolor": "#E5ECF6",
           "radialaxis": {
            "gridcolor": "white",
            "linecolor": "white",
            "ticks": ""
           }
          },
          "scene": {
           "xaxis": {
            "backgroundcolor": "#E5ECF6",
            "gridcolor": "white",
            "gridwidth": 2,
            "linecolor": "white",
            "showbackground": true,
            "ticks": "",
            "zerolinecolor": "white"
           },
           "yaxis": {
            "backgroundcolor": "#E5ECF6",
            "gridcolor": "white",
            "gridwidth": 2,
            "linecolor": "white",
            "showbackground": true,
            "ticks": "",
            "zerolinecolor": "white"
           },
           "zaxis": {
            "backgroundcolor": "#E5ECF6",
            "gridcolor": "white",
            "gridwidth": 2,
            "linecolor": "white",
            "showbackground": true,
            "ticks": "",
            "zerolinecolor": "white"
           }
          },
          "shapedefaults": {
           "line": {
            "color": "#2a3f5f"
           }
          },
          "ternary": {
           "aaxis": {
            "gridcolor": "white",
            "linecolor": "white",
            "ticks": ""
           },
           "baxis": {
            "gridcolor": "white",
            "linecolor": "white",
            "ticks": ""
           },
           "bgcolor": "#E5ECF6",
           "caxis": {
            "gridcolor": "white",
            "linecolor": "white",
            "ticks": ""
           }
          },
          "title": {
           "x": 0.05
          },
          "xaxis": {
           "automargin": true,
           "gridcolor": "white",
           "linecolor": "white",
           "ticks": "",
           "title": {
            "standoff": 15
           },
           "zerolinecolor": "white",
           "zerolinewidth": 2
          },
          "yaxis": {
           "automargin": true,
           "gridcolor": "white",
           "linecolor": "white",
           "ticks": "",
           "title": {
            "standoff": 15
           },
           "zerolinecolor": "white",
           "zerolinewidth": 2
          }
         }
        },
        "title": {
         "text": "Approximation de la courbe de densité du quotient intellectuel (QI)"
        },
        "xaxis": {
         "anchor": "y",
         "domain": [
          0,
          0.15
         ],
         "title": {
          "text": "QI"
         }
        },
        "xaxis2": {
         "anchor": "y2",
         "domain": [
          0.16999999999999998,
          0.31999999999999995
         ],
         "matches": "x",
         "title": {
          "text": "QI"
         }
        },
        "xaxis3": {
         "anchor": "y3",
         "domain": [
          0.33999999999999997,
          0.49
         ],
         "matches": "x",
         "title": {
          "text": "QI"
         }
        },
        "xaxis4": {
         "anchor": "y4",
         "domain": [
          0.51,
          0.66
         ],
         "matches": "x",
         "title": {
          "text": "QI"
         }
        },
        "xaxis5": {
         "anchor": "y5",
         "domain": [
          0.6799999999999999,
          0.83
         ],
         "matches": "x",
         "title": {
          "text": "QI"
         }
        },
        "xaxis6": {
         "anchor": "y6",
         "domain": [
          0.85,
          1
         ],
         "matches": "x",
         "title": {
          "text": "QI"
         }
        },
        "yaxis": {
         "anchor": "x",
         "domain": [
          0,
          1
         ],
         "title": {
          "text": "probability density"
         }
        },
        "yaxis2": {
         "anchor": "x2",
         "domain": [
          0,
          1
         ],
         "matches": "y",
         "showticklabels": false
        },
        "yaxis3": {
         "anchor": "x3",
         "domain": [
          0,
          1
         ],
         "matches": "y",
         "showticklabels": false
        },
        "yaxis4": {
         "anchor": "x4",
         "domain": [
          0,
          1
         ],
         "matches": "y",
         "showticklabels": false
        },
        "yaxis5": {
         "anchor": "x5",
         "domain": [
          0,
          1
         ],
         "matches": "y",
         "showticklabels": false
        },
        "yaxis6": {
         "anchor": "x6",
         "domain": [
          0,
          1
         ],
         "matches": "y",
         "showticklabels": false
        }
       }
      }
     },
     "metadata": {},
     "output_type": "display_data"
    }
   ],
   "source": [
    "# Tracer l'histogramme avec une distribution par continent\n",
    "fig = px.histogram(df_filtered, x='Averageiqbycountry_Iqlynnbecker2019', nbins=10, histnorm='probability density', \n",
    "                   title='Approximation de la courbe de densité du quotient intellectuel (QI)',\n",
    "                   facet_col=df_filtered['Continent'])\n",
    "\n",
    "# Renommer l'axe des x dans chaque sous-figure\n",
    "fig.update_xaxes(title_text='QI') \n",
    "\n",
    "fig.show()"
   ]
  },
  {
   "cell_type": "code",
   "execution_count": 10,
   "metadata": {},
   "outputs": [
    {
     "data": {
      "application/vnd.plotly.v1+json": {
       "config": {
        "plotlyServerURL": "https://plot.ly"
       },
       "data": [
        {
         "alignmentgroup": "True",
         "bingroup": "x",
         "histnorm": "probability density",
         "hovertemplate": "Continent=asia<br>Averageiqbycountry_Iqlynnbecker2019=%{x}<br>probability density=%{y}<extra></extra>",
         "legendgroup": "asia",
         "marker": {
          "color": "#636efa",
          "pattern": {
           "shape": ""
          }
         },
         "name": "asia",
         "nbinsx": 30,
         "offsetgroup": "asia",
         "orientation": "v",
         "showlegend": true,
         "type": "histogram",
         "x": [
          82.12,
          88.82,
          84.81,
          83.6,
          74.33,
          87.94,
          87.58,
          99.75,
          104.1,
          93.39,
          84.5,
          105.37,
          76.24,
          78.49,
          80.01,
          89.28,
          92.43,
          106.48,
          80.7,
          88.89,
          78.64,
          79.09,
          80.99,
          81.7,
          99.82,
          87.58,
          80.54,
          91.03,
          91.18,
          42.99,
          98.82,
          78.7,
          80,
          77.69,
          81.64,
          80.78,
          76.36,
          105.89,
          102.35,
          86.62,
          74.41,
          106.47,
          87.71,
          88.87,
          86.8,
          85.86,
          82.05,
          89.01,
          89.53,
          62.86
         ],
         "xaxis": "x",
         "yaxis": "y"
        },
        {
         "alignmentgroup": "True",
         "bingroup": "x",
         "histnorm": "probability density",
         "hovertemplate": "Continent=europe<br>Averageiqbycountry_Iqlynnbecker2019=%{x}<br>probability density=%{y}<extra></extra>",
         "legendgroup": "europe",
         "marker": {
          "color": "#EF553B",
          "pattern": {
           "shape": ""
          }
         },
         "name": "europe",
         "nbinsx": 30,
         "offsetgroup": "europe",
         "orientation": "v",
         "showlegend": true,
         "type": "histogram",
         "x": [
          81.75,
          95.2,
          98.38,
          101.6,
          97.49,
          88.54,
          90.99,
          95.75,
          94.92,
          97.83,
          100.72,
          101.2,
          96.69,
          100.74,
          90.77,
          99.24,
          98.26,
          95.13,
          94.23,
          94.79,
          101.07,
          95.89,
          99.87,
          91.27,
          89.98,
          85.78,
          100.74,
          81.91,
          97.13,
          96.35,
          92.77,
          86.88,
          96.29,
          89.6,
          96.32,
          98.6,
          93.9,
          97,
          99.24,
          90.07,
          99.12
         ],
         "xaxis": "x",
         "yaxis": "y"
        },
        {
         "alignmentgroup": "True",
         "bingroup": "x",
         "histnorm": "probability density",
         "hovertemplate": "Continent=africa<br>Averageiqbycountry_Iqlynnbecker2019=%{x}<br>probability density=%{y}<extra></extra>",
         "legendgroup": "africa",
         "marker": {
          "color": "#00cc96",
          "pattern": {
           "shape": ""
          }
         },
         "name": "africa",
         "nbinsx": 30,
         "offsetgroup": "africa",
         "orientation": "v",
         "showlegend": true,
         "type": "histogram",
         "x": [
          76,
          75.1,
          69.71,
          69.45,
          73.8,
          72.09,
          67.76,
          52.5,
          62.55,
          78.87,
          77.07,
          64.92,
          68.41,
          76.32,
          68.77,
          68.87,
          68.42,
          62.97,
          52.68,
          58.16,
          53.48,
          58.16,
          75.2,
          68.87,
          45.07,
          80.92,
          76.79,
          69.7,
          59.76,
          59.76,
          86.56,
          67.03,
          72.5,
          66.19,
          70.82,
          67.76,
          62.97,
          69.95,
          65.22,
          77.37,
          78.76,
          45.07,
          67.67,
          68.87,
          58.61,
          78.87,
          74.95,
          59.83,
          79.22,
          76.42,
          68.43,
          74.01
         ],
         "xaxis": "x",
         "yaxis": "y"
        },
        {
         "alignmentgroup": "True",
         "bingroup": "x",
         "histnorm": "probability density",
         "hovertemplate": "Continent=north-america<br>Averageiqbycountry_Iqlynnbecker2019=%{x}<br>probability density=%{y}<extra></extra>",
         "legendgroup": "north-america",
         "marker": {
          "color": "#ab63fa",
          "pattern": {
           "shape": ""
          }
         },
         "name": "north-america",
         "nbinsx": 30,
         "offsetgroup": "north-america",
         "orientation": "v",
         "showlegend": true,
         "type": "histogram",
         "x": [
          70.48,
          86.99,
          91.6,
          62.55,
          93.48,
          76.69,
          99.52,
          82.24,
          88.34,
          83.9,
          66.03,
          82.05,
          69.63,
          98.89,
          79.34,
          47.72,
          82.1,
          62.16,
          75.08,
          87.73,
          52.69,
          79,
          81.99,
          70.48,
          73.68,
          63.42,
          84.29,
          97.43
         ],
         "xaxis": "x",
         "yaxis": "y"
        },
        {
         "alignmentgroup": "True",
         "bingroup": "x",
         "histnorm": "probability density",
         "hovertemplate": "Continent=south-america<br>Averageiqbycountry_Iqlynnbecker2019=%{x}<br>probability density=%{y}<extra></extra>",
         "legendgroup": "south-america",
         "marker": {
          "color": "#FFA15A",
          "pattern": {
           "shape": ""
          }
         },
         "name": "south-america",
         "nbinsx": 30,
         "offsetgroup": "south-america",
         "orientation": "v",
         "showlegend": true,
         "type": "histogram",
         "x": [
          86.63,
          76.53,
          83.38,
          87.89,
          83.13,
          78.26,
          83.23,
          84.04,
          81.44,
          90.29,
          87.59,
          82.99
         ],
         "xaxis": "x",
         "yaxis": "y"
        },
        {
         "alignmentgroup": "True",
         "bingroup": "x",
         "histnorm": "probability density",
         "hovertemplate": "Continent=oceania<br>Averageiqbycountry_Iqlynnbecker2019=%{x}<br>probability density=%{y}<extra></extra>",
         "legendgroup": "oceania",
         "marker": {
          "color": "#19d3f3",
          "pattern": {
           "shape": ""
          }
         },
         "name": "oceania",
         "nbinsx": 30,
         "offsetgroup": "oceania",
         "orientation": "v",
         "showlegend": true,
         "type": "histogram",
         "x": [
          99.24,
          83.96,
          83.96,
          83.96,
          83.96,
          83.96,
          93.92,
          98.57,
          81.36,
          78.49,
          83.96,
          83.96,
          83.96,
          93.92
         ],
         "xaxis": "x",
         "yaxis": "y"
        }
       ],
       "layout": {
        "barmode": "relative",
        "legend": {
         "title": {
          "text": "Continent"
         },
         "tracegroupgap": 0
        },
        "template": {
         "data": {
          "bar": [
           {
            "error_x": {
             "color": "#2a3f5f"
            },
            "error_y": {
             "color": "#2a3f5f"
            },
            "marker": {
             "line": {
              "color": "#E5ECF6",
              "width": 0.5
             },
             "pattern": {
              "fillmode": "overlay",
              "size": 10,
              "solidity": 0.2
             }
            },
            "type": "bar"
           }
          ],
          "barpolar": [
           {
            "marker": {
             "line": {
              "color": "#E5ECF6",
              "width": 0.5
             },
             "pattern": {
              "fillmode": "overlay",
              "size": 10,
              "solidity": 0.2
             }
            },
            "type": "barpolar"
           }
          ],
          "carpet": [
           {
            "aaxis": {
             "endlinecolor": "#2a3f5f",
             "gridcolor": "white",
             "linecolor": "white",
             "minorgridcolor": "white",
             "startlinecolor": "#2a3f5f"
            },
            "baxis": {
             "endlinecolor": "#2a3f5f",
             "gridcolor": "white",
             "linecolor": "white",
             "minorgridcolor": "white",
             "startlinecolor": "#2a3f5f"
            },
            "type": "carpet"
           }
          ],
          "choropleth": [
           {
            "colorbar": {
             "outlinewidth": 0,
             "ticks": ""
            },
            "type": "choropleth"
           }
          ],
          "contour": [
           {
            "colorbar": {
             "outlinewidth": 0,
             "ticks": ""
            },
            "colorscale": [
             [
              0,
              "#0d0887"
             ],
             [
              0.1111111111111111,
              "#46039f"
             ],
             [
              0.2222222222222222,
              "#7201a8"
             ],
             [
              0.3333333333333333,
              "#9c179e"
             ],
             [
              0.4444444444444444,
              "#bd3786"
             ],
             [
              0.5555555555555556,
              "#d8576b"
             ],
             [
              0.6666666666666666,
              "#ed7953"
             ],
             [
              0.7777777777777778,
              "#fb9f3a"
             ],
             [
              0.8888888888888888,
              "#fdca26"
             ],
             [
              1,
              "#f0f921"
             ]
            ],
            "type": "contour"
           }
          ],
          "contourcarpet": [
           {
            "colorbar": {
             "outlinewidth": 0,
             "ticks": ""
            },
            "type": "contourcarpet"
           }
          ],
          "heatmap": [
           {
            "colorbar": {
             "outlinewidth": 0,
             "ticks": ""
            },
            "colorscale": [
             [
              0,
              "#0d0887"
             ],
             [
              0.1111111111111111,
              "#46039f"
             ],
             [
              0.2222222222222222,
              "#7201a8"
             ],
             [
              0.3333333333333333,
              "#9c179e"
             ],
             [
              0.4444444444444444,
              "#bd3786"
             ],
             [
              0.5555555555555556,
              "#d8576b"
             ],
             [
              0.6666666666666666,
              "#ed7953"
             ],
             [
              0.7777777777777778,
              "#fb9f3a"
             ],
             [
              0.8888888888888888,
              "#fdca26"
             ],
             [
              1,
              "#f0f921"
             ]
            ],
            "type": "heatmap"
           }
          ],
          "heatmapgl": [
           {
            "colorbar": {
             "outlinewidth": 0,
             "ticks": ""
            },
            "colorscale": [
             [
              0,
              "#0d0887"
             ],
             [
              0.1111111111111111,
              "#46039f"
             ],
             [
              0.2222222222222222,
              "#7201a8"
             ],
             [
              0.3333333333333333,
              "#9c179e"
             ],
             [
              0.4444444444444444,
              "#bd3786"
             ],
             [
              0.5555555555555556,
              "#d8576b"
             ],
             [
              0.6666666666666666,
              "#ed7953"
             ],
             [
              0.7777777777777778,
              "#fb9f3a"
             ],
             [
              0.8888888888888888,
              "#fdca26"
             ],
             [
              1,
              "#f0f921"
             ]
            ],
            "type": "heatmapgl"
           }
          ],
          "histogram": [
           {
            "marker": {
             "pattern": {
              "fillmode": "overlay",
              "size": 10,
              "solidity": 0.2
             }
            },
            "type": "histogram"
           }
          ],
          "histogram2d": [
           {
            "colorbar": {
             "outlinewidth": 0,
             "ticks": ""
            },
            "colorscale": [
             [
              0,
              "#0d0887"
             ],
             [
              0.1111111111111111,
              "#46039f"
             ],
             [
              0.2222222222222222,
              "#7201a8"
             ],
             [
              0.3333333333333333,
              "#9c179e"
             ],
             [
              0.4444444444444444,
              "#bd3786"
             ],
             [
              0.5555555555555556,
              "#d8576b"
             ],
             [
              0.6666666666666666,
              "#ed7953"
             ],
             [
              0.7777777777777778,
              "#fb9f3a"
             ],
             [
              0.8888888888888888,
              "#fdca26"
             ],
             [
              1,
              "#f0f921"
             ]
            ],
            "type": "histogram2d"
           }
          ],
          "histogram2dcontour": [
           {
            "colorbar": {
             "outlinewidth": 0,
             "ticks": ""
            },
            "colorscale": [
             [
              0,
              "#0d0887"
             ],
             [
              0.1111111111111111,
              "#46039f"
             ],
             [
              0.2222222222222222,
              "#7201a8"
             ],
             [
              0.3333333333333333,
              "#9c179e"
             ],
             [
              0.4444444444444444,
              "#bd3786"
             ],
             [
              0.5555555555555556,
              "#d8576b"
             ],
             [
              0.6666666666666666,
              "#ed7953"
             ],
             [
              0.7777777777777778,
              "#fb9f3a"
             ],
             [
              0.8888888888888888,
              "#fdca26"
             ],
             [
              1,
              "#f0f921"
             ]
            ],
            "type": "histogram2dcontour"
           }
          ],
          "mesh3d": [
           {
            "colorbar": {
             "outlinewidth": 0,
             "ticks": ""
            },
            "type": "mesh3d"
           }
          ],
          "parcoords": [
           {
            "line": {
             "colorbar": {
              "outlinewidth": 0,
              "ticks": ""
             }
            },
            "type": "parcoords"
           }
          ],
          "pie": [
           {
            "automargin": true,
            "type": "pie"
           }
          ],
          "scatter": [
           {
            "fillpattern": {
             "fillmode": "overlay",
             "size": 10,
             "solidity": 0.2
            },
            "type": "scatter"
           }
          ],
          "scatter3d": [
           {
            "line": {
             "colorbar": {
              "outlinewidth": 0,
              "ticks": ""
             }
            },
            "marker": {
             "colorbar": {
              "outlinewidth": 0,
              "ticks": ""
             }
            },
            "type": "scatter3d"
           }
          ],
          "scattercarpet": [
           {
            "marker": {
             "colorbar": {
              "outlinewidth": 0,
              "ticks": ""
             }
            },
            "type": "scattercarpet"
           }
          ],
          "scattergeo": [
           {
            "marker": {
             "colorbar": {
              "outlinewidth": 0,
              "ticks": ""
             }
            },
            "type": "scattergeo"
           }
          ],
          "scattergl": [
           {
            "marker": {
             "colorbar": {
              "outlinewidth": 0,
              "ticks": ""
             }
            },
            "type": "scattergl"
           }
          ],
          "scattermapbox": [
           {
            "marker": {
             "colorbar": {
              "outlinewidth": 0,
              "ticks": ""
             }
            },
            "type": "scattermapbox"
           }
          ],
          "scatterpolar": [
           {
            "marker": {
             "colorbar": {
              "outlinewidth": 0,
              "ticks": ""
             }
            },
            "type": "scatterpolar"
           }
          ],
          "scatterpolargl": [
           {
            "marker": {
             "colorbar": {
              "outlinewidth": 0,
              "ticks": ""
             }
            },
            "type": "scatterpolargl"
           }
          ],
          "scatterternary": [
           {
            "marker": {
             "colorbar": {
              "outlinewidth": 0,
              "ticks": ""
             }
            },
            "type": "scatterternary"
           }
          ],
          "surface": [
           {
            "colorbar": {
             "outlinewidth": 0,
             "ticks": ""
            },
            "colorscale": [
             [
              0,
              "#0d0887"
             ],
             [
              0.1111111111111111,
              "#46039f"
             ],
             [
              0.2222222222222222,
              "#7201a8"
             ],
             [
              0.3333333333333333,
              "#9c179e"
             ],
             [
              0.4444444444444444,
              "#bd3786"
             ],
             [
              0.5555555555555556,
              "#d8576b"
             ],
             [
              0.6666666666666666,
              "#ed7953"
             ],
             [
              0.7777777777777778,
              "#fb9f3a"
             ],
             [
              0.8888888888888888,
              "#fdca26"
             ],
             [
              1,
              "#f0f921"
             ]
            ],
            "type": "surface"
           }
          ],
          "table": [
           {
            "cells": {
             "fill": {
              "color": "#EBF0F8"
             },
             "line": {
              "color": "white"
             }
            },
            "header": {
             "fill": {
              "color": "#C8D4E3"
             },
             "line": {
              "color": "white"
             }
            },
            "type": "table"
           }
          ]
         },
         "layout": {
          "annotationdefaults": {
           "arrowcolor": "#2a3f5f",
           "arrowhead": 0,
           "arrowwidth": 1
          },
          "autotypenumbers": "strict",
          "coloraxis": {
           "colorbar": {
            "outlinewidth": 0,
            "ticks": ""
           }
          },
          "colorscale": {
           "diverging": [
            [
             0,
             "#8e0152"
            ],
            [
             0.1,
             "#c51b7d"
            ],
            [
             0.2,
             "#de77ae"
            ],
            [
             0.3,
             "#f1b6da"
            ],
            [
             0.4,
             "#fde0ef"
            ],
            [
             0.5,
             "#f7f7f7"
            ],
            [
             0.6,
             "#e6f5d0"
            ],
            [
             0.7,
             "#b8e186"
            ],
            [
             0.8,
             "#7fbc41"
            ],
            [
             0.9,
             "#4d9221"
            ],
            [
             1,
             "#276419"
            ]
           ],
           "sequential": [
            [
             0,
             "#0d0887"
            ],
            [
             0.1111111111111111,
             "#46039f"
            ],
            [
             0.2222222222222222,
             "#7201a8"
            ],
            [
             0.3333333333333333,
             "#9c179e"
            ],
            [
             0.4444444444444444,
             "#bd3786"
            ],
            [
             0.5555555555555556,
             "#d8576b"
            ],
            [
             0.6666666666666666,
             "#ed7953"
            ],
            [
             0.7777777777777778,
             "#fb9f3a"
            ],
            [
             0.8888888888888888,
             "#fdca26"
            ],
            [
             1,
             "#f0f921"
            ]
           ],
           "sequentialminus": [
            [
             0,
             "#0d0887"
            ],
            [
             0.1111111111111111,
             "#46039f"
            ],
            [
             0.2222222222222222,
             "#7201a8"
            ],
            [
             0.3333333333333333,
             "#9c179e"
            ],
            [
             0.4444444444444444,
             "#bd3786"
            ],
            [
             0.5555555555555556,
             "#d8576b"
            ],
            [
             0.6666666666666666,
             "#ed7953"
            ],
            [
             0.7777777777777778,
             "#fb9f3a"
            ],
            [
             0.8888888888888888,
             "#fdca26"
            ],
            [
             1,
             "#f0f921"
            ]
           ]
          },
          "colorway": [
           "#636efa",
           "#EF553B",
           "#00cc96",
           "#ab63fa",
           "#FFA15A",
           "#19d3f3",
           "#FF6692",
           "#B6E880",
           "#FF97FF",
           "#FECB52"
          ],
          "font": {
           "color": "#2a3f5f"
          },
          "geo": {
           "bgcolor": "white",
           "lakecolor": "white",
           "landcolor": "#E5ECF6",
           "showlakes": true,
           "showland": true,
           "subunitcolor": "white"
          },
          "hoverlabel": {
           "align": "left"
          },
          "hovermode": "closest",
          "mapbox": {
           "style": "light"
          },
          "paper_bgcolor": "white",
          "plot_bgcolor": "#E5ECF6",
          "polar": {
           "angularaxis": {
            "gridcolor": "white",
            "linecolor": "white",
            "ticks": ""
           },
           "bgcolor": "#E5ECF6",
           "radialaxis": {
            "gridcolor": "white",
            "linecolor": "white",
            "ticks": ""
           }
          },
          "scene": {
           "xaxis": {
            "backgroundcolor": "#E5ECF6",
            "gridcolor": "white",
            "gridwidth": 2,
            "linecolor": "white",
            "showbackground": true,
            "ticks": "",
            "zerolinecolor": "white"
           },
           "yaxis": {
            "backgroundcolor": "#E5ECF6",
            "gridcolor": "white",
            "gridwidth": 2,
            "linecolor": "white",
            "showbackground": true,
            "ticks": "",
            "zerolinecolor": "white"
           },
           "zaxis": {
            "backgroundcolor": "#E5ECF6",
            "gridcolor": "white",
            "gridwidth": 2,
            "linecolor": "white",
            "showbackground": true,
            "ticks": "",
            "zerolinecolor": "white"
           }
          },
          "shapedefaults": {
           "line": {
            "color": "#2a3f5f"
           }
          },
          "ternary": {
           "aaxis": {
            "gridcolor": "white",
            "linecolor": "white",
            "ticks": ""
           },
           "baxis": {
            "gridcolor": "white",
            "linecolor": "white",
            "ticks": ""
           },
           "bgcolor": "#E5ECF6",
           "caxis": {
            "gridcolor": "white",
            "linecolor": "white",
            "ticks": ""
           }
          },
          "title": {
           "x": 0.05
          },
          "xaxis": {
           "automargin": true,
           "gridcolor": "white",
           "linecolor": "white",
           "ticks": "",
           "title": {
            "standoff": 15
           },
           "zerolinecolor": "white",
           "zerolinewidth": 2
          },
          "yaxis": {
           "automargin": true,
           "gridcolor": "white",
           "linecolor": "white",
           "ticks": "",
           "title": {
            "standoff": 15
           },
           "zerolinecolor": "white",
           "zerolinewidth": 2
          }
         }
        },
        "title": {
         "text": "Approximation de la courbe de densité du quotient intellectuel (QI)"
        },
        "xaxis": {
         "anchor": "y",
         "domain": [
          0,
          1
         ],
         "title": {
          "text": "Quotient intellectuel (QI)"
         }
        },
        "yaxis": {
         "anchor": "x",
         "domain": [
          0,
          1
         ],
         "title": {
          "text": "probability density"
         }
        }
       }
      }
     },
     "metadata": {},
     "output_type": "display_data"
    }
   ],
   "source": [
    "# Tracer l'histogramme avec une distribution par continent\n",
    "fig = px.histogram(df_filtered, x='Averageiqbycountry_Iqlynnbecker2019', color='Continent', nbins=30, \n",
    "                   histnorm='probability density', \n",
    "                   title='Approximation de la courbe de densité du quotient intellectuel (QI)')\n",
    "\n",
    "# Renommer l'axe des x\n",
    "fig.update_xaxes(title_text='Quotient intellectuel (QI)')\n",
    "\n",
    "fig.show()\n"
   ]
  },
  {
   "cell_type": "code",
   "execution_count": null,
   "metadata": {},
   "outputs": [],
   "source": []
  }
 ],
 "metadata": {
  "kernelspec": {
   "display_name": "base",
   "language": "python",
   "name": "python3"
  },
  "language_info": {
   "codemirror_mode": {
    "name": "ipython",
    "version": 3
   },
   "file_extension": ".py",
   "mimetype": "text/x-python",
   "name": "python",
   "nbconvert_exporter": "python",
   "pygments_lexer": "ipython3",
   "version": "3.11.5"
  }
 },
 "nbformat": 4,
 "nbformat_minor": 2
}
